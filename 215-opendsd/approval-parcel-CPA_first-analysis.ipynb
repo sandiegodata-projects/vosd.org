{
 "cells": [
  {
   "cell_type": "code",
   "execution_count": 1,
   "metadata": {
    "collapsed": true
   },
   "outputs": [],
   "source": [
    "import pandas as pd"
   ]
  },
  {
   "cell_type": "code",
   "execution_count": 2,
   "metadata": {
    "collapsed": true
   },
   "outputs": [],
   "source": [
    "d = pd.read_csv('/Users/damoncrockett/vosd.org/215-opendsd/approvals_parcels_CPA.csv')"
   ]
  },
  {
   "cell_type": "code",
   "execution_count": 4,
   "metadata": {
    "collapsed": false
   },
   "outputs": [
    {
     "data": {
      "text/plain": [
       "310871"
      ]
     },
     "execution_count": 4,
     "metadata": {},
     "output_type": "execute_result"
    }
   ],
   "source": [
    "len(d.index)"
   ]
  },
  {
   "cell_type": "code",
   "execution_count": 5,
   "metadata": {
    "collapsed": false
   },
   "outputs": [
    {
     "data": {
      "text/plain": [
       "Index([u'Unnamed: 0', u'Unnamed: 0.1', u'ApplicationYear', u'TimetoIssue', u'Latitude', u'Longitude', u'Status', u'StreetAddress', u'Type', u'category', u'asr_land', u'asr_impr', u'asr_total', u'acreage', u'ownerocc', u'tranum', u'nucleus_zo', u'asr_landus', u'nucleus_us', u'unitqty', u'overlay_ju', u'shape_area', u'CPA'], dtype='object')"
      ]
     },
     "execution_count": 5,
     "metadata": {},
     "output_type": "execute_result"
    }
   ],
   "source": [
    "d.columns"
   ]
  },
  {
   "cell_type": "code",
   "execution_count": 6,
   "metadata": {
    "collapsed": true
   },
   "outputs": [],
   "source": [
    "del d['Unnamed: 0']\n",
    "del d['Unnamed: 0.1']"
   ]
  },
  {
   "cell_type": "code",
   "execution_count": 8,
   "metadata": {
    "collapsed": false
   },
   "outputs": [
    {
     "data": {
      "text/plain": [
       "187311"
      ]
     },
     "execution_count": 8,
     "metadata": {},
     "output_type": "execute_result"
    }
   ],
   "source": [
    "len(d.ownerocc[d.ownerocc.isnull()])"
   ]
  },
  {
   "cell_type": "code",
   "execution_count": 9,
   "metadata": {
    "collapsed": false
   },
   "outputs": [
    {
     "data": {
      "text/plain": [
       "MIRA MESA                              20465\n",
       "UNIVERSITY                             18209\n",
       "LA JOLLA                               17659\n",
       "DOWNTOWN                               16736\n",
       "CLAIREMONT MESA                        15522\n",
       "PENINSULA                              14065\n",
       "UPTOWN                                 13503\n",
       "OCEAN BEACH                            12856\n",
       "NAVAJO                                 11859\n",
       "RANCHO BERNARDO                        10828\n",
       "GREATER NORTH PARK                      9293\n",
       "KEARNY MESA                             8981\n",
       "PACIFIC BEACH                           8592\n",
       "MISSION VALLEY                          8362\n",
       "SOUTHEASTERN SAN DIEGO,SOUTHEASTERN     7908\n",
       "RANCHO PENASQUITOS                      7890\n",
       "MID-CITY:CITY HEIGHTS                   7611\n",
       "SKYLINE-PARADISE HILLS                  6779\n",
       "SCRIPPS MIRAMAR RANCH                   6455\n",
       "ENCANTO NEIGHBORHOODS,SOUTHEASTERN      6345\n",
       "MID-CITY:EASTERN AREA                   6291\n",
       "SERRA MESA                              5297\n",
       "OTAY MESA-NESTOR                        5185\n",
       "OTAY MESA                               5129\n",
       "TIERRASANTA                             4695\n",
       "LINDA VISTA                             4450\n",
       "MID-CITY:KENSINGTON-TALMADGE            4379\n",
       "BLACK MOUNTAIN RANCH                    4267\n",
       "TORREY PINES                            3974\n",
       "COLLEGE AREA                            3644\n",
       "SAN YSIDRO                              3378\n",
       "CARMEL MOUNTAIN RANCH                   2863\n",
       "GREATER GOLDEN HILL                     2676\n",
       "MIDWAY-PACIFIC HIGHWAY                  2647\n",
       "MID-CITY:NORMAL HEIGHTS                 2526\n",
       "MIRAMAR RANCH NORTH                     2497\n",
       "SABRE SPRINGS                           2262\n",
       "MISSION BEACH                           2062\n",
       "PACIFIC HIGHLANDS RANCH                 1939\n",
       "TORREY HILLS                            1796\n",
       "RANCHO ENCANTADA                        1724\n",
       "TORREY HIGHLANDS                        1715\n",
       "BARRIO LOGAN                            1089\n",
       "DEL MAR MESA                            1088\n",
       "MISSION BAY PARK                         664\n",
       "RESERVE                                  651\n",
       "BALBOA PARK                              643\n",
       "OLD TOWN SAN DIEGO                       350\n",
       "SAN PASQUAL                              283\n",
       "FAIRBANKS RANCH COUNTRY CLUB             243\n",
       "VIA DE LA VALLE                          129\n",
       "NCFUA SUBAREA II                          95\n",
       "MILITARY FACILITIES                       62\n",
       "EAST ELLIOTT                              53\n",
       "TIJUANA RIVER VALLEY                      28\n",
       "LOS PENASQUITOS CANYON                     2\n",
       "dtype: int64"
      ]
     },
     "execution_count": 9,
     "metadata": {},
     "output_type": "execute_result"
    }
   ],
   "source": [
    "d.CPA.value_counts()"
   ]
  },
  {
   "cell_type": "code",
   "execution_count": 10,
   "metadata": {
    "collapsed": false
   },
   "outputs": [
    {
     "data": {
      "text/plain": [
       "177"
      ]
     },
     "execution_count": 10,
     "metadata": {},
     "output_type": "execute_result"
    }
   ],
   "source": [
    "len(d.CPA[d.CPA.isnull()])"
   ]
  },
  {
   "cell_type": "code",
   "execution_count": null,
   "metadata": {
    "collapsed": true
   },
   "outputs": [],
   "source": []
  }
 ],
 "metadata": {
  "kernelspec": {
   "display_name": "Python 2",
   "language": "python",
   "name": "python2"
  },
  "language_info": {
   "codemirror_mode": {
    "name": "ipython",
    "version": 2
   },
   "file_extension": ".py",
   "mimetype": "text/x-python",
   "name": "python",
   "nbconvert_exporter": "python",
   "pygments_lexer": "ipython2",
   "version": "2.7.6"
  }
 },
 "nbformat": 4,
 "nbformat_minor": 0
}
