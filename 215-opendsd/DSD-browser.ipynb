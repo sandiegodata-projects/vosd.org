{
 "metadata": {
  "name": "",
  "signature": "sha256:6d05459d27daeeff55e276ced1912b713d39443b18135010104302c949bf9dab"
 },
 "nbformat": 3,
 "nbformat_minor": 0,
 "worksheets": [
  {
   "cells": [
    {
     "cell_type": "code",
     "collapsed": false,
     "input": [
      "%matplotlib inline\n",
      "import pandas as pd\n",
      "import sqlite3\n",
      "import json\n",
      "import dateutil.parser\n",
      "import datetime\n",
      "import os\n",
      "import gzip\n",
      "import numpy as np\n",
      "import matplotlib.pyplot as plt\n",
      "from scipy.stats import *"
     ],
     "language": "python",
     "metadata": {},
     "outputs": [],
     "prompt_number": 1
    },
    {
     "cell_type": "code",
     "collapsed": false,
     "input": [
      "def download_ambry_db(url,name):  \n",
      "    \"\"\"Download an Ambry database file from the repository. \"\"\"\n",
      "    import gzip\n",
      "    import sys\n",
      "    \n",
      "    if not os.path.exists(name+'.gz'):\n",
      "        print 'Downloading:', url\n",
      "        sys.stdout.flush()\n",
      "        import urllib\n",
      "        urllib.urlretrieve (url, name+'.gz')\n",
      "    else:\n",
      "        print 'Already downloaded:', url\n",
      "        sys.stdout.flush()\n",
      "\n",
      "    if not os.path.exists(name):\n",
      "        print 'Extracting to:',name\n",
      "        sys.stdout.flush()\n",
      "        with open(name,'wb') as out_f, gzip.open(name+'.gz', 'rb') as in_f:\n",
      "            out_f.write(in_f.read())   \n",
      "    else:\n",
      "        print 'Already extracted:', name\n",
      "        sys.stdout.flush()"
     ],
     "language": "python",
     "metadata": {},
     "outputs": []
    },
    {
     "cell_type": "code",
     "collapsed": false,
     "input": [
      "download_ambry_db(\"http://s3.sandiegodata.org/library/sandiego.gov/opendsd-json-0.0.1/json/approvals.db\", \"approvals.db\")  "
     ],
     "language": "python",
     "metadata": {},
     "outputs": []
    },
    {
     "cell_type": "code",
     "collapsed": false,
     "input": [
      "con = sqlite3.connect('/home/damoncrockett/Desktop/projects.db')\n",
      "cur = con.cursor()"
     ],
     "language": "python",
     "metadata": {},
     "outputs": [],
     "prompt_number": 2
    },
    {
     "cell_type": "code",
     "collapsed": false,
     "input": [
      "row = cur.execute('SELECT data FROM json')"
     ],
     "language": "python",
     "metadata": {},
     "outputs": [],
     "prompt_number": 3
    },
    {
     "cell_type": "code",
     "collapsed": false,
     "input": [
      "d = json.loads(str(row.fetchone()[0]).decode('zlib'))\n",
      "d['ProjectManager']"
     ],
     "language": "python",
     "metadata": {},
     "outputs": [
      {
       "metadata": {},
       "output_type": "pyout",
       "prompt_number": 842,
       "text": [
        "{u'ActiveIndicator': True,\n",
        " u'EmailAddress': u'dsdprojectinfo@sandiego.gov',\n",
        " u'Name': u'McGoyne, John',\n",
        " u'PhoneNum': u'',\n",
        " u'ProjectManagerId': 4014}"
       ]
      }
     ],
     "prompt_number": 842
    }
   ],
   "metadata": {}
  }
 ]
}