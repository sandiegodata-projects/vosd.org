{
 "cells": [
  {
   "cell_type": "code",
   "execution_count": 1,
   "metadata": {
    "collapsed": true
   },
   "outputs": [],
   "source": [
    "import pandas as pd"
   ]
  },
  {
   "cell_type": "code",
   "execution_count": 2,
   "metadata": {
    "collapsed": true
   },
   "outputs": [],
   "source": [
    "d = pd.read_csv('/Users/damoncrockett/vosd.org/215-opendsd/tables/approvals_parcels_CPA_2.csv')"
   ]
  },
  {
   "cell_type": "code",
   "execution_count": 4,
   "metadata": {
    "collapsed": false
   },
   "outputs": [],
   "source": [
    "del d['Unnamed: 0']"
   ]
  },
  {
   "cell_type": "code",
   "execution_count": 5,
   "metadata": {
    "collapsed": false
   },
   "outputs": [
    {
     "name": "stdout",
     "output_type": "stream",
     "text": [
      "<class 'pandas.core.frame.DataFrame'>\n",
      "Int64Index: 360725 entries, 0 to 360724\n",
      "Data columns (total 31 columns):\n",
      "APN                360725 non-null int64\n",
      "ApplicationYear    360725 non-null int64\n",
      "TimetoIssue        314060 non-null float64\n",
      "Status             360725 non-null object\n",
      "StreetAddress      360725 non-null object\n",
      "Type               360725 non-null object\n",
      "category           358956 non-null object\n",
      "ProjectId          360725 non-null int64\n",
      "ApprovalId         360725 non-null int64\n",
      "Latitude           360725 non-null float64\n",
      "Longitude          360725 non-null float64\n",
      "CPA                360546 non-null object\n",
      "situs_juri         330699 non-null object\n",
      "asr_land           330699 non-null float64\n",
      "asr_impr           330699 non-null float64\n",
      "asr_total          330699 non-null float64\n",
      "shape_area         330699 non-null float64\n",
      "own_name1          330699 non-null object\n",
      "own_name2          23457 non-null object\n",
      "own_name3          2890 non-null object\n",
      "ownerocc           132909 non-null object\n",
      "taxstat            330699 non-null object\n",
      "tranum             330699 non-null float64\n",
      "nucleus_zo         330699 non-null float64\n",
      "asr_landus         330699 non-null float64\n",
      "nucleus_us         330699 non-null float64\n",
      "unitqty            330699 non-null float64\n",
      "multi              320885 non-null object\n",
      "lat                330699 non-null float64\n",
      "lon                330699 non-null float64\n",
      "community_name     330699 non-null object\n",
      "dtypes: float64(14), int64(4), object(13)\n",
      "memory usage: 88.1+ MB\n"
     ]
    }
   ],
   "source": [
    "d.info()"
   ]
  },
  {
   "cell_type": "code",
   "execution_count": 81,
   "metadata": {
    "collapsed": false
   },
   "outputs": [
    {
     "data": {
      "text/plain": [
       "Coastal Development Permit        1660\n",
       "Site Development Permit           1261\n",
       "Tentative Map                      822\n",
       "Conditional Use Permit             742\n",
       "Map Waiver                         703\n",
       "Neighborhood Use Permit            507\n",
       "Planned Development Permit         506\n",
       "Neighborhood Developmnt Permit     285\n",
       "Public Right of Way Dedication     282\n",
       "Easement Vacation                  233\n",
       "Variance                           207\n",
       "Public Right of Way Vacation       177\n",
       "Vesting Tentative Map              147\n",
       "Rezone                             111\n",
       "Master Plan, Establish              78\n",
       "Land Use Plan                       66\n",
       "Extension of Time - Dev. Pmt        51\n",
       "Public R.O.W. Use Permit            28\n",
       "Street Name Change                  28\n",
       "Emergency Coastal Dev Permit        12\n",
       "Amendment of Approved Map           10\n",
       "City Council Approval                5\n",
       "Emergency Authorization-ESL          3\n",
       "City Manager Approval                2\n",
       "Financing Plan                       2\n",
       "Cost Reimbursement Agreement         1\n",
       "Community Plan Amendment             1\n",
       "Resource Protection Ordinance        1\n",
       "Development Agreement                1\n",
       "Conditional Use Pmt-Comp Unit        1\n",
       "dtype: int64"
      ]
     },
     "execution_count": 81,
     "metadata": {},
     "output_type": "execute_result"
    }
   ],
   "source": [
    "d[d.category=='Discretionary'].Type.value_counts()"
   ]
  },
  {
   "cell_type": "code",
   "execution_count": 84,
   "metadata": {
    "collapsed": false
   },
   "outputs": [
    {
     "data": {
      "text/plain": [
       "TOPALOVIC ISMET&ZINETA                                     3\n",
       "CARLISLE JAMES S&CAROL A TRUST 12-21-96                    2\n",
       "GABRIELLI JULIE K                                          2\n",
       "MORRIS MICHAEL&CAROL TRUST 05-06-04                        2\n",
       "NICHOLS MARK W                                             2\n",
       "VARGAS JOANNE E                                            1\n",
       "BONAR FAMILY TRUST 10-09-12                                1\n",
       "MELLO FAMILY TRUST 02-14-12                                1\n",
       "SAN DIEGO GAS&ELECTRIC CO                                  1\n",
       "DRIBBEN RONALD M&DOLLY M                                   1\n",
       "HOLTHUS THOMAS J                                           1\n",
       "HEALY FAMILY LIVING TRUST 08-03-73                         1\n",
       "FRANKLIN THOMAS D                                          1\n",
       "MASON BENJAMIN&CHRISTINE O                                 1\n",
       "BLANKENSHIP WILLIAM F                                      1\n",
       "SANDBORN WILLIAM J&KENNA A J                               1\n",
       "WERNER MATHEW&ERIN                                         1\n",
       "GILLISPIE SCHOOL                                           1\n",
       "SEGAL JONATHAN S&WENDY L                                   1\n",
       "CHENANGO TRUST                                             1\n",
       "COHELAN FAMILY REVOCABLE TRUST                             1\n",
       "WILLIAMS REVOCABLE TRUST 04-18-01                          1\n",
       "SIGLER JUDITH R TRUST 11-26-01                             1\n",
       "PFLUM MARTIN J&PATRICIA A FAMILY TRUST 04-27-94            1\n",
       "TRUDELL GEORGE J&THERESE A                                 1\n",
       "WILLIAMSON ROBIN L LIVING TRUST 04-12-13                   1\n",
       "HH&M (LA JOLLA) LTD                                        1\n",
       "LEWIS DANIEL C TRUST 05-29-01                              1\n",
       "EUSTON PROPERTIES L L C                                    1\n",
       "PHAM CHIEU L                                               1\n",
       "                                                          ..\n",
       "ELLIOTT MAX L JR&GANTZEL KAIA TRUST 09-26-00               1\n",
       "JOHNSON THOMAS M                                           1\n",
       "KRIMSKY ROBERT C TRUST 03-14-00                            1\n",
       "D R SUNSHINE PROPERTIES L L C                              1\n",
       "GARRETT MOSES&VALLEJO-GARRETT MONICA R                     1\n",
       "SPRIGGS FAMILY TRUST 05-17-85                              1\n",
       "NUGENT JUDY D REVOC TRUST 04-26-2005                       1\n",
       "STOIA LAURA K                                              1\n",
       "HOANG BRUCE                                                1\n",
       "WIERZYNSKI CASIMIR M&KIM S JEAN                            1\n",
       "CARASALI ANTONIO                                           1\n",
       "BERGER JOEL S TRUST 01-10-12                               1\n",
       "MADISON MARY-CAROL TRUST 01-05-12                          1\n",
       "KING/CHAVEZ FACILITIES L L C                               1\n",
       "NGUYEN TAN&DANG ELIZABETH                                  1\n",
       "VILETTA L L C                                              1\n",
       "COLANDREA LIVING TRUST 11-18-88                            1\n",
       "RAHIMIFAR SURVIVORS TRUST 04-12-04                         1\n",
       "FINK EDWARD J REVOCABLE TRUST 11-10-03                     1\n",
       "DURBIN FAMILY SURVIVORS TRUST SHARE 07-08-94               1\n",
       "PRESBYTERY OF SAN DIEGO                                    1\n",
       "STEPHAN GEORGE J&DEBRA D                                   1\n",
       "FEREN MICHAEL&LISA                                         1\n",
       "LEGZDINS JANIS&ROHRBAUGH KAREN                             1\n",
       "STEADFAST VILLA NUEVA L P                                  1\n",
       "HALL CHRISTOPHER J&AMY E                                   1\n",
       "COFFMAN FAMILY TRUST 09-22-08                              1\n",
       "MCGW LLC                                                   1\n",
       "SOUTHEASTERN CALIF CONFERENCE OF SEVENTH-DAY ADVENTISTS    1\n",
       "AYABUDGE L L C                                             1\n",
       "dtype: int64"
      ]
     },
     "execution_count": 84,
     "metadata": {},
     "output_type": "execute_result"
    }
   ],
   "source": [
    "d[d.Type=='Variance'].own_name1.value_counts()"
   ]
  },
  {
   "cell_type": "code",
   "execution_count": 6,
   "metadata": {
    "collapsed": false
   },
   "outputs": [
    {
     "data": {
      "text/plain": [
       "125969"
      ]
     },
     "execution_count": 6,
     "metadata": {},
     "output_type": "execute_result"
    }
   ],
   "source": [
    "len(d.APN.value_counts())"
   ]
  },
  {
   "cell_type": "code",
   "execution_count": 8,
   "metadata": {
    "collapsed": false
   },
   "outputs": [
    {
     "data": {
      "text/plain": [
       "4372912900    1411\n",
       "3450901600     912\n",
       "4380303200     535\n",
       "5340531200     522\n",
       "5334031000     509\n",
       "dtype: int64"
      ]
     },
     "execution_count": 8,
     "metadata": {},
     "output_type": "execute_result"
    }
   ],
   "source": [
    "d.APN.value_counts().head()"
   ]
  },
  {
   "cell_type": "code",
   "execution_count": 9,
   "metadata": {
    "collapsed": true
   },
   "outputs": [],
   "source": [
    "s = d[d.APN==5334031000]"
   ]
  },
  {
   "cell_type": "code",
   "execution_count": 14,
   "metadata": {
    "collapsed": false
   },
   "outputs": [
    {
     "data": {
      "text/plain": [
       "2007    130\n",
       "2013    122\n",
       "2014     77\n",
       "2008     28\n",
       "2010     26\n",
       "2004     25\n",
       "2006     24\n",
       "2012     21\n",
       "2009     20\n",
       "2003     18\n",
       "2005     16\n",
       "2011      2\n",
       "dtype: int64"
      ]
     },
     "execution_count": 14,
     "metadata": {},
     "output_type": "execute_result"
    }
   ],
   "source": [
    "s.ApplicationYear.value_counts()"
   ]
  },
  {
   "cell_type": "code",
   "execution_count": 15,
   "metadata": {
    "collapsed": false
   },
   "outputs": [
    {
     "data": {
      "text/plain": [
       "2013    36388\n",
       "2005    35411\n",
       "2004    34367\n",
       "2014    33933\n",
       "2006    33932\n",
       "2007    32444\n",
       "2012    30280\n",
       "2008    29119\n",
       "2009    27263\n",
       "2010    27205\n",
       "2011    26956\n",
       "2003    13427\n",
       "dtype: int64"
      ]
     },
     "execution_count": 15,
     "metadata": {},
     "output_type": "execute_result"
    }
   ],
   "source": [
    "d.ApplicationYear.value_counts()"
   ]
  },
  {
   "cell_type": "code",
   "execution_count": 39,
   "metadata": {
    "collapsed": false
   },
   "outputs": [],
   "source": [
    "hoods = d.CPA.value_counts()[:19].index"
   ]
  },
  {
   "cell_type": "code",
   "execution_count": 42,
   "metadata": {
    "collapsed": false
   },
   "outputs": [],
   "source": [
    "n = len(d.index)\n",
    "major = []\n",
    "\n",
    "for i in range(n):\n",
    "    if d.CPA.loc[i] in hoods:\n",
    "        major.append(True)\n",
    "    else:\n",
    "        major.append(False)"
   ]
  },
  {
   "cell_type": "code",
   "execution_count": 44,
   "metadata": {
    "collapsed": false
   },
   "outputs": [],
   "source": [
    "d['major_hood'] = major"
   ]
  },
  {
   "cell_type": "code",
   "execution_count": 46,
   "metadata": {
    "collapsed": false
   },
   "outputs": [],
   "source": [
    "dm = d[d.major_hood==True]"
   ]
  },
  {
   "cell_type": "code",
   "execution_count": 47,
   "metadata": {
    "collapsed": false
   },
   "outputs": [
    {
     "name": "stdout",
     "output_type": "stream",
     "text": [
      "<class 'pandas.core.frame.DataFrame'>\n",
      "Int64Index: 255617 entries, 0 to 360724\n",
      "Data columns (total 32 columns):\n",
      "APN                255617 non-null int64\n",
      "ApplicationYear    255617 non-null int64\n",
      "TimetoIssue        222073 non-null float64\n",
      "Status             255617 non-null object\n",
      "StreetAddress      255617 non-null object\n",
      "Type               255617 non-null object\n",
      "category           254161 non-null object\n",
      "ProjectId          255617 non-null int64\n",
      "ApprovalId         255617 non-null int64\n",
      "Latitude           255617 non-null float64\n",
      "Longitude          255617 non-null float64\n",
      "CPA                255617 non-null object\n",
      "situs_juri         237011 non-null object\n",
      "asr_land           237011 non-null float64\n",
      "asr_impr           237011 non-null float64\n",
      "asr_total          237011 non-null float64\n",
      "shape_area         237011 non-null float64\n",
      "own_name1          237011 non-null object\n",
      "own_name2          16465 non-null object\n",
      "own_name3          1782 non-null object\n",
      "ownerocc           92674 non-null object\n",
      "taxstat            237011 non-null object\n",
      "tranum             237011 non-null float64\n",
      "nucleus_zo         237011 non-null float64\n",
      "asr_landus         237011 non-null float64\n",
      "nucleus_us         237011 non-null float64\n",
      "unitqty            237011 non-null float64\n",
      "multi              232886 non-null object\n",
      "lat                237011 non-null float64\n",
      "lon                237011 non-null float64\n",
      "community_name     237011 non-null object\n",
      "major_hood         255617 non-null bool\n",
      "dtypes: bool(1), float64(14), int64(4), object(13)\n",
      "memory usage: 62.7+ MB\n"
     ]
    }
   ],
   "source": [
    "dm.info()"
   ]
  },
  {
   "cell_type": "code",
   "execution_count": 48,
   "metadata": {
    "collapsed": true
   },
   "outputs": [],
   "source": [
    "dm = dm[dm.ApplicationYear > 2012]"
   ]
  },
  {
   "cell_type": "code",
   "execution_count": 52,
   "metadata": {
    "collapsed": false
   },
   "outputs": [
    {
     "data": {
      "text/plain": [
       "5382"
      ]
     },
     "execution_count": 52,
     "metadata": {},
     "output_type": "execute_result"
    }
   ],
   "source": [
    "len(dm.index[dm.TimetoIssue.isnull()])"
   ]
  },
  {
   "cell_type": "code",
   "execution_count": 53,
   "metadata": {
    "collapsed": true
   },
   "outputs": [],
   "source": [
    "dm = dm[dm.TimetoIssue.notnull()]"
   ]
  },
  {
   "cell_type": "code",
   "execution_count": 54,
   "metadata": {
    "collapsed": false
   },
   "outputs": [
    {
     "name": "stdout",
     "output_type": "stream",
     "text": [
      "<class 'pandas.core.frame.DataFrame'>\n",
      "Int64Index: 44552 entries, 203858 to 314058\n",
      "Data columns (total 32 columns):\n",
      "APN                44552 non-null int64\n",
      "ApplicationYear    44552 non-null int64\n",
      "TimetoIssue        44552 non-null float64\n",
      "Status             44552 non-null object\n",
      "StreetAddress      44552 non-null object\n",
      "Type               44552 non-null object\n",
      "category           43912 non-null object\n",
      "ProjectId          44552 non-null int64\n",
      "ApprovalId         44552 non-null int64\n",
      "Latitude           44552 non-null float64\n",
      "Longitude          44552 non-null float64\n",
      "CPA                44552 non-null object\n",
      "situs_juri         43368 non-null object\n",
      "asr_land           43368 non-null float64\n",
      "asr_impr           43368 non-null float64\n",
      "asr_total          43368 non-null float64\n",
      "shape_area         43368 non-null float64\n",
      "own_name1          43368 non-null object\n",
      "own_name2          2836 non-null object\n",
      "own_name3          330 non-null object\n",
      "ownerocc           18035 non-null object\n",
      "taxstat            43368 non-null object\n",
      "tranum             43368 non-null float64\n",
      "nucleus_zo         43368 non-null float64\n",
      "asr_landus         43368 non-null float64\n",
      "nucleus_us         43368 non-null float64\n",
      "unitqty            43368 non-null float64\n",
      "multi              42500 non-null object\n",
      "lat                43368 non-null float64\n",
      "lon                43368 non-null float64\n",
      "community_name     43368 non-null object\n",
      "major_hood         44552 non-null bool\n",
      "dtypes: bool(1), float64(14), int64(4), object(13)\n",
      "memory usage: 10.9+ MB\n"
     ]
    }
   ],
   "source": [
    "dm.info()"
   ]
  },
  {
   "cell_type": "code",
   "execution_count": 56,
   "metadata": {
    "collapsed": false
   },
   "outputs": [],
   "source": [
    "dm = dm[dm.Status=='Completed']"
   ]
  },
  {
   "cell_type": "code",
   "execution_count": 57,
   "metadata": {
    "collapsed": true
   },
   "outputs": [],
   "source": [
    "dm = dm[dm.unitqty.notnull()]"
   ]
  },
  {
   "cell_type": "code",
   "execution_count": 60,
   "metadata": {
    "collapsed": false
   },
   "outputs": [
    {
     "data": {
      "text/plain": [
       "5334031000    158\n",
       "4372912900    135\n",
       "4380305400    107\n",
       "5335221100    105\n",
       "5340531200     96\n",
       "dtype: int64"
      ]
     },
     "execution_count": 60,
     "metadata": {},
     "output_type": "execute_result"
    }
   ],
   "source": [
    "dm.APN.value_counts().head()"
   ]
  },
  {
   "cell_type": "code",
   "execution_count": 67,
   "metadata": {
    "collapsed": true
   },
   "outputs": [],
   "source": [
    "di = pd.read_csv('/Users/damoncrockett/vosd.org/215-opendsd/tables/invoice_table_basic.csv')"
   ]
  },
  {
   "cell_type": "code",
   "execution_count": 62,
   "metadata": {
    "collapsed": false
   },
   "outputs": [
    {
     "name": "stdout",
     "output_type": "stream",
     "text": [
      "<class 'pandas.core.frame.DataFrame'>\n",
      "Int64Index: 472132 entries, 0 to 472131\n",
      "Data columns (total 5 columns):\n",
      "InvoiceId        472132 non-null int64\n",
      "InvoiceStatus    472132 non-null object\n",
      "ProjectId        472132 non-null int64\n",
      "TotalAmount      456650 non-null float64\n",
      "PaidDate         340688 non-null object\n",
      "dtypes: float64(1), int64(2), object(2)\n",
      "memory usage: 21.6+ MB\n"
     ]
    }
   ],
   "source": [
    "di.info()"
   ]
  },
  {
   "cell_type": "code",
   "execution_count": 68,
   "metadata": {
    "collapsed": true
   },
   "outputs": [],
   "source": [
    "from dateutil import parser"
   ]
  },
  {
   "cell_type": "code",
   "execution_count": 69,
   "metadata": {
    "collapsed": true
   },
   "outputs": [],
   "source": [
    "di = di[di.PaidDate.notnull()]"
   ]
  },
  {
   "cell_type": "code",
   "execution_count": 70,
   "metadata": {
    "collapsed": false
   },
   "outputs": [],
   "source": [
    "di.PaidDate = di.PaidDate.apply(parser.parse)"
   ]
  },
  {
   "cell_type": "code",
   "execution_count": 71,
   "metadata": {
    "collapsed": true
   },
   "outputs": [],
   "source": [
    "import datetime"
   ]
  },
  {
   "cell_type": "code",
   "execution_count": 72,
   "metadata": {
    "collapsed": true
   },
   "outputs": [],
   "source": [
    "di.PaidDate = di.PaidDate.apply(datetime.datetime.date)"
   ]
  },
  {
   "cell_type": "code",
   "execution_count": 74,
   "metadata": {
    "collapsed": false
   },
   "outputs": [],
   "source": [
    "di = di[di.InvoiceStatus=='Paid']"
   ]
  },
  {
   "cell_type": "code",
   "execution_count": 75,
   "metadata": {
    "collapsed": false
   },
   "outputs": [
    {
     "data": {
      "text/html": [
       "<div style=\"max-height:1000px;max-width:1500px;overflow:auto;\">\n",
       "<table border=\"1\" class=\"dataframe\">\n",
       "  <thead>\n",
       "    <tr style=\"text-align: right;\">\n",
       "      <th></th>\n",
       "      <th>InvoiceId</th>\n",
       "      <th>InvoiceStatus</th>\n",
       "      <th>ProjectId</th>\n",
       "      <th>TotalAmount</th>\n",
       "      <th>PaidDate</th>\n",
       "    </tr>\n",
       "  </thead>\n",
       "  <tbody>\n",
       "    <tr>\n",
       "      <th>2</th>\n",
       "      <td>107465</td>\n",
       "      <td>Paid</td>\n",
       "      <td>1040</td>\n",
       "      <td>3000</td>\n",
       "      <td>2005-06-28</td>\n",
       "    </tr>\n",
       "    <tr>\n",
       "      <th>3</th>\n",
       "      <td>107464</td>\n",
       "      <td>Paid</td>\n",
       "      <td>1041</td>\n",
       "      <td>1700</td>\n",
       "      <td>2005-06-28</td>\n",
       "    </tr>\n",
       "    <tr>\n",
       "      <th>4</th>\n",
       "      <td>138746</td>\n",
       "      <td>Paid</td>\n",
       "      <td>1096</td>\n",
       "      <td>500</td>\n",
       "      <td>2006-02-06</td>\n",
       "    </tr>\n",
       "    <tr>\n",
       "      <th>5</th>\n",
       "      <td>71395</td>\n",
       "      <td>Paid</td>\n",
       "      <td>1096</td>\n",
       "      <td>5000</td>\n",
       "      <td>2004-10-28</td>\n",
       "    </tr>\n",
       "    <tr>\n",
       "      <th>6</th>\n",
       "      <td>78488</td>\n",
       "      <td>Paid</td>\n",
       "      <td>1102</td>\n",
       "      <td>4490</td>\n",
       "      <td>2004-12-15</td>\n",
       "    </tr>\n",
       "  </tbody>\n",
       "</table>\n",
       "</div>"
      ],
      "text/plain": [
       "   InvoiceId InvoiceStatus  ProjectId  TotalAmount    PaidDate\n",
       "2     107465          Paid       1040         3000  2005-06-28\n",
       "3     107464          Paid       1041         1700  2005-06-28\n",
       "4     138746          Paid       1096          500  2006-02-06\n",
       "5      71395          Paid       1096         5000  2004-10-28\n",
       "6      78488          Paid       1102         4490  2004-12-15"
      ]
     },
     "execution_count": 75,
     "metadata": {},
     "output_type": "execute_result"
    }
   ],
   "source": [
    "di.head()"
   ]
  },
  {
   "cell_type": "code",
   "execution_count": 77,
   "metadata": {
    "collapsed": false
   },
   "outputs": [],
   "source": [
    "di['year'] = di.PaidDate.map(lambda x: x.year)"
   ]
  },
  {
   "cell_type": "code",
   "execution_count": 78,
   "metadata": {
    "collapsed": true
   },
   "outputs": [],
   "source": [
    "di = di[di.year > 2012]"
   ]
  },
  {
   "cell_type": "code",
   "execution_count": null,
   "metadata": {
    "collapsed": true
   },
   "outputs": [],
   "source": []
  },
  {
   "cell_type": "code",
   "execution_count": null,
   "metadata": {
    "collapsed": true
   },
   "outputs": [],
   "source": []
  },
  {
   "cell_type": "code",
   "execution_count": null,
   "metadata": {
    "collapsed": true
   },
   "outputs": [],
   "source": []
  },
  {
   "cell_type": "code",
   "execution_count": null,
   "metadata": {
    "collapsed": true
   },
   "outputs": [],
   "source": []
  }
 ],
 "metadata": {
  "kernelspec": {
   "display_name": "Python 2",
   "language": "python",
   "name": "python2"
  },
  "language_info": {
   "codemirror_mode": {
    "name": "ipython",
    "version": 2
   },
   "file_extension": ".py",
   "mimetype": "text/x-python",
   "name": "python",
   "nbconvert_exporter": "python",
   "pygments_lexer": "ipython2",
   "version": "2.7.6"
  }
 },
 "nbformat": 4,
 "nbformat_minor": 0
}
