{
 "metadata": {
  "name": "",
  "signature": "sha256:33e9a383cfaefb2d53e0ee9861491d58f71956311d751efb5c795d3d038557f3"
 },
 "nbformat": 3,
 "nbformat_minor": 0,
 "worksheets": [
  {
   "cells": [
    {
     "cell_type": "code",
     "collapsed": false,
     "input": [
      "%matplotlib inline\n",
      "import pandas as pd\n",
      "import numpy as np\n",
      "import matplotlib.pyplot as plt\n",
      "from scipy.stats import *\n",
      "import dateutil.parser\n",
      "import datetime"
     ],
     "language": "python",
     "metadata": {},
     "outputs": [],
     "prompt_number": 1
    },
    {
     "cell_type": "code",
     "collapsed": false,
     "input": [
      "df = pd.read_csv('/home/damoncrockett/vosd.org/215-opendsd/approval_master_FULL.csv')"
     ],
     "language": "python",
     "metadata": {},
     "outputs": [
      {
       "output_type": "stream",
       "stream": "stderr",
       "text": [
        "/home/damoncrockett/anaconda/lib/python2.7/site-packages/pandas/io/parsers.py:1070: DtypeWarning: Columns (11,14) have mixed types. Specify dtype option on import or set low_memory=False.\n",
        "  data = self._reader.read(nrows)\n"
       ]
      }
     ],
     "prompt_number": 2
    },
    {
     "cell_type": "code",
     "collapsed": false,
     "input": [
      "del df['Unnamed: 0']"
     ],
     "language": "python",
     "metadata": {},
     "outputs": [],
     "prompt_number": 3
    },
    {
     "cell_type": "code",
     "collapsed": false,
     "input": [
      "tmp = []\n",
      "for item in df.ApplicationExpiration:\n",
      "    if isinstance(item, basestring):\n",
      "        if item == 'nan':\n",
      "            tmp.append('nan')\n",
      "        else:  \n",
      "            item = dateutil.parser.parse(item)\n",
      "            tmp.append(item)\n",
      "    else:\n",
      "            tmp.append('nan')"
     ],
     "language": "python",
     "metadata": {},
     "outputs": [],
     "prompt_number": 68
    },
    {
     "cell_type": "code",
     "collapsed": false,
     "input": [
      "df.ApplicationExpiration = tmp"
     ],
     "language": "python",
     "metadata": {},
     "outputs": [],
     "prompt_number": 69
    },
    {
     "cell_type": "code",
     "collapsed": false,
     "input": [
      "tmp = []\n",
      "for item in df.ApplicationDate:\n",
      "    tmp.append(type(item))\n",
      "    \n",
      "from collections import Counter\n",
      "\n",
      "Counter(tmp) "
     ],
     "language": "python",
     "metadata": {},
     "outputs": [
      {
       "metadata": {},
       "output_type": "pyout",
       "prompt_number": 70,
       "text": [
        "Counter({<type 'str'>: 388645})"
       ]
      }
     ],
     "prompt_number": 70
    },
    {
     "cell_type": "code",
     "collapsed": false,
     "input": [
      "df.ApplicationDate = df.ApplicationDate.apply(dateutil.parser.parse)\n",
      "df.ApplicationDate = df.ApplicationDate.apply(datetime.datetime.date)"
     ],
     "language": "python",
     "metadata": {},
     "outputs": [],
     "prompt_number": 4
    },
    {
     "cell_type": "code",
     "collapsed": false,
     "input": [
      "df.ApplicationExpiration = df.ApplicationExpiration.apply(datetime.datetime.date)"
     ],
     "language": "python",
     "metadata": {},
     "outputs": [],
     "prompt_number": 72
    },
    {
     "cell_type": "code",
     "collapsed": false,
     "input": [
      "df['TimetoExpiration'] = df.ApplicationExpiration - df.ApplicationDate"
     ],
     "language": "python",
     "metadata": {},
     "outputs": [],
     "prompt_number": 73
    },
    {
     "cell_type": "code",
     "collapsed": false,
     "input": [
      "df.TimetoExpiration = df.TimetoExpiration / np.timedelta64(1, 'D')"
     ],
     "language": "python",
     "metadata": {},
     "outputs": [],
     "prompt_number": 74
    },
    {
     "cell_type": "code",
     "collapsed": false,
     "input": [
      "df.ApplicationExpiration.loc[1]"
     ],
     "language": "python",
     "metadata": {},
     "outputs": [
      {
       "metadata": {},
       "output_type": "pyout",
       "prompt_number": 91,
       "text": [
        "datetime.date(1, 255, 255)"
       ]
      }
     ],
     "prompt_number": 91
    },
    {
     "cell_type": "code",
     "collapsed": false,
     "input": [
      "tmp = df[['TimetoExpiration','ApplicationYear']][(df.TimetoExpiration < 366) & (df.TimetoExpiration > 359)]\n",
      "by_year = tmp.groupby('ApplicationYear')\n",
      "tmp = by_year.agg([np.median,\n",
      "                   np.mean,\n",
      "                   min,\n",
      "                   max])\n",
      "tmp"
     ],
     "language": "python",
     "metadata": {},
     "outputs": [
      {
       "html": [
        "<div style=\"max-height:1000px;max-width:1500px;overflow:auto;\">\n",
        "<table border=\"1\" class=\"dataframe\">\n",
        "  <thead>\n",
        "    <tr>\n",
        "      <th></th>\n",
        "      <th colspan=\"4\" halign=\"left\">TimetoExpiration</th>\n",
        "    </tr>\n",
        "    <tr>\n",
        "      <th></th>\n",
        "      <th>median</th>\n",
        "      <th>mean</th>\n",
        "      <th>min</th>\n",
        "      <th>max</th>\n",
        "    </tr>\n",
        "    <tr>\n",
        "      <th>ApplicationYear</th>\n",
        "      <th></th>\n",
        "      <th></th>\n",
        "      <th></th>\n",
        "      <th></th>\n",
        "    </tr>\n",
        "  </thead>\n",
        "  <tbody>\n",
        "    <tr>\n",
        "      <th>2003</th>\n",
        "      <td> 360</td>\n",
        "      <td> 360.017959</td>\n",
        "      <td> 360</td>\n",
        "      <td> 365</td>\n",
        "    </tr>\n",
        "    <tr>\n",
        "      <th>2004</th>\n",
        "      <td> 360</td>\n",
        "      <td> 360.000000</td>\n",
        "      <td> 360</td>\n",
        "      <td> 360</td>\n",
        "    </tr>\n",
        "    <tr>\n",
        "      <th>2005</th>\n",
        "      <td> 360</td>\n",
        "      <td> 360.000000</td>\n",
        "      <td> 360</td>\n",
        "      <td> 360</td>\n",
        "    </tr>\n",
        "    <tr>\n",
        "      <th>2006</th>\n",
        "      <td> 360</td>\n",
        "      <td> 360.001033</td>\n",
        "      <td> 360</td>\n",
        "      <td> 365</td>\n",
        "    </tr>\n",
        "    <tr>\n",
        "      <th>2007</th>\n",
        "      <td> 360</td>\n",
        "      <td> 360.014009</td>\n",
        "      <td> 360</td>\n",
        "      <td> 365</td>\n",
        "    </tr>\n",
        "    <tr>\n",
        "      <th>2008</th>\n",
        "      <td> 360</td>\n",
        "      <td> 360.000000</td>\n",
        "      <td> 360</td>\n",
        "      <td> 360</td>\n",
        "    </tr>\n",
        "    <tr>\n",
        "      <th>2009</th>\n",
        "      <td> 360</td>\n",
        "      <td> 360.141026</td>\n",
        "      <td> 360</td>\n",
        "      <td> 365</td>\n",
        "    </tr>\n",
        "    <tr>\n",
        "      <th>2010</th>\n",
        "      <td> 365</td>\n",
        "      <td> 365.000000</td>\n",
        "      <td> 365</td>\n",
        "      <td> 365</td>\n",
        "    </tr>\n",
        "    <tr>\n",
        "      <th>2011</th>\n",
        "      <td> 365</td>\n",
        "      <td> 365.000000</td>\n",
        "      <td> 365</td>\n",
        "      <td> 365</td>\n",
        "    </tr>\n",
        "    <tr>\n",
        "      <th>2012</th>\n",
        "      <td> 365</td>\n",
        "      <td> 365.000000</td>\n",
        "      <td> 365</td>\n",
        "      <td> 365</td>\n",
        "    </tr>\n",
        "    <tr>\n",
        "      <th>2013</th>\n",
        "      <td> 365</td>\n",
        "      <td> 365.000000</td>\n",
        "      <td> 365</td>\n",
        "      <td> 365</td>\n",
        "    </tr>\n",
        "    <tr>\n",
        "      <th>2014</th>\n",
        "      <td> 365</td>\n",
        "      <td> 365.000000</td>\n",
        "      <td> 365</td>\n",
        "      <td> 365</td>\n",
        "    </tr>\n",
        "  </tbody>\n",
        "</table>\n",
        "<p>12 rows \u00d7 4 columns</p>\n",
        "</div>"
       ],
       "metadata": {},
       "output_type": "pyout",
       "prompt_number": 108,
       "text": [
        "                 TimetoExpiration                      \n",
        "                           median        mean  min  max\n",
        "ApplicationYear                                        \n",
        "2003                          360  360.017959  360  365\n",
        "2004                          360  360.000000  360  360\n",
        "2005                          360  360.000000  360  360\n",
        "2006                          360  360.001033  360  365\n",
        "2007                          360  360.014009  360  365\n",
        "2008                          360  360.000000  360  360\n",
        "2009                          360  360.141026  360  365\n",
        "2010                          365  365.000000  365  365\n",
        "2011                          365  365.000000  365  365\n",
        "2012                          365  365.000000  365  365\n",
        "2013                          365  365.000000  365  365\n",
        "2014                          365  365.000000  365  365\n",
        "\n",
        "[12 rows x 4 columns]"
       ]
      }
     ],
     "prompt_number": 108
    },
    {
     "cell_type": "code",
     "collapsed": false,
     "input": [
      "df.TimetoExpiration.value_counts()"
     ],
     "language": "python",
     "metadata": {},
     "outputs": [
      {
       "metadata": {},
       "output_type": "pyout",
       "prompt_number": 105,
       "text": [
        "360.000000      111909\n",
        "365.000000      108338\n",
        "3650.000000       6958\n",
        "545.000000        2060\n",
        "730.000000        1937\n",
        "905.000000        1642\n",
        "540.000000         624\n",
        "54699.976105       555\n",
        "725.000000         336\n",
        "57406.976105       319\n",
        "57362.976105       284\n",
        "54791.976105       242\n",
        "55609.976105       230\n",
        "57250.976105       229\n",
        "57500.976105       224\n",
        "...\n",
        "717.000000      1\n",
        "2067.000000     1\n",
        "716.000000      1\n",
        "1990.000000     1\n",
        "710.000000      1\n",
        "704.000000      1\n",
        "695.000000      1\n",
        "689.000000      1\n",
        "664.000000      1\n",
        "2002.000000     1\n",
        "625.000000      1\n",
        "624.000000      1\n",
        "2032.000000     1\n",
        "2037.000000     1\n",
        "58206.976105    1\n",
        "Length: 4069, dtype: int64"
       ]
      }
     ],
     "prompt_number": 105
    },
    {
     "cell_type": "code",
     "collapsed": false,
     "input": [
      "df[df.TimetoExpiration == 3650].category.value_counts()"
     ],
     "language": "python",
     "metadata": {},
     "outputs": [
      {
       "metadata": {},
       "output_type": "pyout",
       "prompt_number": 110,
       "text": [
        "Ministerial      3904\n",
        "Discretionary    2313\n",
        "BOTH              648\n",
        "dtype: int64"
       ]
      }
     ],
     "prompt_number": 110
    },
    {
     "cell_type": "code",
     "collapsed": false,
     "input": [
      "df[df.ApplicationExpired == True].Status.value_counts()"
     ],
     "language": "python",
     "metadata": {},
     "outputs": [
      {
       "metadata": {},
       "output_type": "pyout",
       "prompt_number": 115,
       "text": [
        "Completed                                   118389\n",
        "Created                                      39677\n",
        "Issued                                       26910\n",
        "Cancelled - Expired                          19188\n",
        "Cancelled - Selected Approval in Error         966\n",
        "Cancelled - Rescinded (Customer Request)       610\n",
        "Cancelled - Abandoned                          518\n",
        "Pending Invoice Payment                        182\n",
        "Cancelled - Approval Uncancelled               126\n",
        "Cancelled - Revoked (Imposed)                   48\n",
        "dtype: int64"
       ]
      }
     ],
     "prompt_number": 115
    },
    {
     "cell_type": "code",
     "collapsed": false,
     "input": [
      "df[df.ApplicationExpired == False].Status.value_counts()"
     ],
     "language": "python",
     "metadata": {},
     "outputs": [
      {
       "metadata": {},
       "output_type": "pyout",
       "prompt_number": 116,
       "text": [
        "Completed                                   112203\n",
        "Cancelled - Expired                          37528\n",
        "Issued                                       21086\n",
        "Created                                       9507\n",
        "Pending Invoice Payment                        787\n",
        "Cancelled - Selected Approval in Error         334\n",
        "Cancelled - Rescinded (Customer Request)       298\n",
        "Cancelled - Abandoned                          125\n",
        "Cancelled - Approval Uncancelled               120\n",
        "Cancelled - Revoked (Imposed)                   43\n",
        "dtype: int64"
       ]
      }
     ],
     "prompt_number": 116
    },
    {
     "cell_type": "code",
     "collapsed": false,
     "input": [],
     "language": "python",
     "metadata": {},
     "outputs": []
    },
    {
     "cell_type": "code",
     "collapsed": false,
     "input": [],
     "language": "python",
     "metadata": {},
     "outputs": []
    },
    {
     "cell_type": "code",
     "collapsed": false,
     "input": [],
     "language": "python",
     "metadata": {},
     "outputs": []
    },
    {
     "cell_type": "code",
     "collapsed": false,
     "input": [],
     "language": "python",
     "metadata": {},
     "outputs": []
    },
    {
     "cell_type": "code",
     "collapsed": false,
     "input": [],
     "language": "python",
     "metadata": {},
     "outputs": []
    },
    {
     "cell_type": "code",
     "collapsed": false,
     "input": [],
     "language": "python",
     "metadata": {},
     "outputs": []
    },
    {
     "cell_type": "code",
     "collapsed": false,
     "input": [],
     "language": "python",
     "metadata": {},
     "outputs": []
    },
    {
     "cell_type": "code",
     "collapsed": false,
     "input": [],
     "language": "python",
     "metadata": {},
     "outputs": []
    },
    {
     "cell_type": "code",
     "collapsed": false,
     "input": [],
     "language": "python",
     "metadata": {},
     "outputs": []
    },
    {
     "cell_type": "code",
     "collapsed": false,
     "input": [
      "d = df[df.category == 'Discretionary']"
     ],
     "language": "python",
     "metadata": {},
     "outputs": [],
     "prompt_number": 4
    },
    {
     "cell_type": "code",
     "collapsed": false,
     "input": [
      "#d = df[df.Type == 'Building Permit']"
     ],
     "language": "python",
     "metadata": {},
     "outputs": [],
     "prompt_number": 5
    },
    {
     "cell_type": "code",
     "collapsed": false,
     "input": [
      "d.reset_index(drop = True, inplace = True)"
     ],
     "language": "python",
     "metadata": {},
     "outputs": [],
     "prompt_number": 5
    },
    {
     "cell_type": "code",
     "collapsed": false,
     "input": [
      "d.head()"
     ],
     "language": "python",
     "metadata": {},
     "outputs": [
      {
       "html": [
        "<div style=\"max-height:1000px;max-width:1500px;overflow:auto;\">\n",
        "<table border=\"1\" class=\"dataframe\">\n",
        "  <thead>\n",
        "    <tr style=\"text-align: right;\">\n",
        "      <th></th>\n",
        "      <th>APN</th>\n",
        "      <th>ApplicationDate</th>\n",
        "      <th>ApplicationExpiration</th>\n",
        "      <th>ApplicationExpired</th>\n",
        "      <th>ApplicationMonth</th>\n",
        "      <th>ApplicationYear</th>\n",
        "      <th>ApprovalId</th>\n",
        "      <th>Description</th>\n",
        "      <th>DevelopmentId</th>\n",
        "      <th>DevelopmentTitle</th>\n",
        "      <th>IssueDate</th>\n",
        "      <th>IssueMonth</th>\n",
        "      <th>IssueYear</th>\n",
        "      <th>IssuedBy</th>\n",
        "      <th>JobId</th>\n",
        "      <th>Latitude</th>\n",
        "      <th>Longitude</th>\n",
        "      <th>PermitHolder</th>\n",
        "      <th>ProjectId</th>\n",
        "      <th>ProjectManager</th>\n",
        "      <th></th>\n",
        "    </tr>\n",
        "  </thead>\n",
        "  <tbody>\n",
        "    <tr>\n",
        "      <th>0</th>\n",
        "      <td> 423-382-26-00</td>\n",
        "      <td> 2005-06-28</td>\n",
        "      <td>                 NaN</td>\n",
        "      <td> False</td>\n",
        "      <td> 6</td>\n",
        "      <td> 2005</td>\n",
        "      <td> 286593</td>\n",
        "      <td>          4026   RIVIERA DR </td>\n",
        "      <td> 1040</td>\n",
        "      <td>                  4026 RIVIERA</td>\n",
        "      <td> 2006-04-11</td>\n",
        "      <td> 4</td>\n",
        "      <td> 2006</td>\n",
        "      <td> Korch, Bob</td>\n",
        "      <td> 1063</td>\n",
        "      <td> 32.792299</td>\n",
        "      <td>-117.241771</td>\n",
        "      <td> Michael E Turk</td>\n",
        "      <td> 1040</td>\n",
        "      <td> Korch, Bob</td>\n",
        "      <td>...</td>\n",
        "    </tr>\n",
        "    <tr>\n",
        "      <th>1</th>\n",
        "      <td> 423-382-26-00</td>\n",
        "      <td> 2005-06-28</td>\n",
        "      <td>                 NaN</td>\n",
        "      <td> False</td>\n",
        "      <td> 6</td>\n",
        "      <td> 2005</td>\n",
        "      <td> 286594</td>\n",
        "      <td>          4026   RIVIERA DR </td>\n",
        "      <td> 1040</td>\n",
        "      <td>                  4026 RIVIERA</td>\n",
        "      <td> 2006-04-11</td>\n",
        "      <td> 4</td>\n",
        "      <td> 2006</td>\n",
        "      <td> Korch, Bob</td>\n",
        "      <td> 1063</td>\n",
        "      <td> 32.792299</td>\n",
        "      <td>-117.241771</td>\n",
        "      <td> Michael E Turk</td>\n",
        "      <td> 1040</td>\n",
        "      <td> Korch, Bob</td>\n",
        "      <td>...</td>\n",
        "    </tr>\n",
        "    <tr>\n",
        "      <th>2</th>\n",
        "      <td> 423-382-29-00</td>\n",
        "      <td> 2005-06-28</td>\n",
        "      <td>                 NaN</td>\n",
        "      <td> False</td>\n",
        "      <td> 6</td>\n",
        "      <td> 2005</td>\n",
        "      <td> 286595</td>\n",
        "      <td>          4040   RIVIERA DR </td>\n",
        "      <td> 1041</td>\n",
        "      <td>                  4040 RIVIERA</td>\n",
        "      <td> 2006-04-11</td>\n",
        "      <td> 4</td>\n",
        "      <td> 2006</td>\n",
        "      <td> Korch, Bob</td>\n",
        "      <td> 1065</td>\n",
        "      <td> 32.792570</td>\n",
        "      <td>-117.241852</td>\n",
        "      <td> Michael E Turk</td>\n",
        "      <td> 1041</td>\n",
        "      <td> Korch, Bob</td>\n",
        "      <td>...</td>\n",
        "    </tr>\n",
        "    <tr>\n",
        "      <th>3</th>\n",
        "      <td> 423-382-29-00</td>\n",
        "      <td> 2005-06-28</td>\n",
        "      <td>                 NaN</td>\n",
        "      <td> False</td>\n",
        "      <td> 6</td>\n",
        "      <td> 2005</td>\n",
        "      <td> 286596</td>\n",
        "      <td>          4040   RIVIERA DR </td>\n",
        "      <td> 1041</td>\n",
        "      <td>                  4040 RIVIERA</td>\n",
        "      <td> 2006-04-11</td>\n",
        "      <td> 4</td>\n",
        "      <td> 2006</td>\n",
        "      <td> Korch, Bob</td>\n",
        "      <td> 1065</td>\n",
        "      <td> 32.792570</td>\n",
        "      <td>-117.241852</td>\n",
        "      <td> Michael E Turk</td>\n",
        "      <td> 1041</td>\n",
        "      <td> Korch, Bob</td>\n",
        "      <td>...</td>\n",
        "    </tr>\n",
        "    <tr>\n",
        "      <th>4</th>\n",
        "      <td>           NaN</td>\n",
        "      <td> 2003-08-15</td>\n",
        "      <td> 2005-11-28 17:00:00</td>\n",
        "      <td>  True</td>\n",
        "      <td> 8</td>\n",
        "      <td> 2003</td>\n",
        "      <td>   2260</td>\n",
        "      <td> 11110   RANCHO BERNARDO RD </td>\n",
        "      <td> 1096</td>\n",
        "      <td> Lot 11 Bernardo Industrial Pk</td>\n",
        "      <td> 2006-01-19</td>\n",
        "      <td> 1</td>\n",
        "      <td> 2006</td>\n",
        "      <td>  Daly, Tim</td>\n",
        "      <td> 1125</td>\n",
        "      <td>       NaN</td>\n",
        "      <td>        NaN</td>\n",
        "      <td>     Mark Davis</td>\n",
        "      <td> 1096</td>\n",
        "      <td>  Daly, Tim</td>\n",
        "      <td>...</td>\n",
        "    </tr>\n",
        "  </tbody>\n",
        "</table>\n",
        "<p>5 rows \u00d7 29 columns</p>\n",
        "</div>"
       ],
       "metadata": {},
       "output_type": "pyout",
       "prompt_number": 6,
       "text": [
        "             APN ApplicationDate ApplicationExpiration ApplicationExpired  \\\n",
        "0  423-382-26-00      2005-06-28                   NaN              False   \n",
        "1  423-382-26-00      2005-06-28                   NaN              False   \n",
        "2  423-382-29-00      2005-06-28                   NaN              False   \n",
        "3  423-382-29-00      2005-06-28                   NaN              False   \n",
        "4            NaN      2003-08-15   2005-11-28 17:00:00               True   \n",
        "\n",
        "   ApplicationMonth  ApplicationYear  ApprovalId                  Description  \\\n",
        "0                 6             2005      286593           4026   RIVIERA DR    \n",
        "1                 6             2005      286594           4026   RIVIERA DR    \n",
        "2                 6             2005      286595           4040   RIVIERA DR    \n",
        "3                 6             2005      286596           4040   RIVIERA DR    \n",
        "4                 8             2003        2260  11110   RANCHO BERNARDO RD    \n",
        "\n",
        "   DevelopmentId               DevelopmentTitle   IssueDate  IssueMonth  \\\n",
        "0           1040                   4026 RIVIERA  2006-04-11           4   \n",
        "1           1040                   4026 RIVIERA  2006-04-11           4   \n",
        "2           1041                   4040 RIVIERA  2006-04-11           4   \n",
        "3           1041                   4040 RIVIERA  2006-04-11           4   \n",
        "4           1096  Lot 11 Bernardo Industrial Pk  2006-01-19           1   \n",
        "\n",
        "   IssueYear    IssuedBy  JobId   Latitude   Longitude    PermitHolder  \\\n",
        "0       2006  Korch, Bob   1063  32.792299 -117.241771  Michael E Turk   \n",
        "1       2006  Korch, Bob   1063  32.792299 -117.241771  Michael E Turk   \n",
        "2       2006  Korch, Bob   1065  32.792570 -117.241852  Michael E Turk   \n",
        "3       2006  Korch, Bob   1065  32.792570 -117.241852  Michael E Turk   \n",
        "4       2006   Daly, Tim   1125        NaN         NaN      Mark Davis   \n",
        "\n",
        "   ProjectId ProjectManager      \n",
        "0       1040     Korch, Bob ...  \n",
        "1       1040     Korch, Bob ...  \n",
        "2       1041     Korch, Bob ...  \n",
        "3       1041     Korch, Bob ...  \n",
        "4       1096      Daly, Tim ...  \n",
        "\n",
        "[5 rows x 29 columns]"
       ]
      }
     ],
     "prompt_number": 6
    },
    {
     "cell_type": "code",
     "collapsed": false,
     "input": [
      "len(d.index)"
     ],
     "language": "python",
     "metadata": {},
     "outputs": [
      {
       "metadata": {},
       "output_type": "pyout",
       "prompt_number": 27,
       "text": [
        "8228"
       ]
      }
     ],
     "prompt_number": 27
    },
    {
     "cell_type": "code",
     "collapsed": false,
     "input": [
      "d.TimetoExpiration.value_counts().head()"
     ],
     "language": "python",
     "metadata": {},
     "outputs": [
      {
       "metadata": {},
       "output_type": "pyout",
       "prompt_number": 174,
       "text": [
        "360     3734\n",
        "3650    2313\n",
        "365      409\n",
        "730       47\n",
        "1091      37\n",
        "dtype: int64"
       ]
      }
     ],
     "prompt_number": 174
    },
    {
     "cell_type": "code",
     "collapsed": false,
     "input": [
      "d[d.TimetoExpiration == 360].Type.value_counts()"
     ],
     "language": "python",
     "metadata": {},
     "outputs": [
      {
       "metadata": {},
       "output_type": "pyout",
       "prompt_number": 184,
       "text": [
        "Coastal Development Permit        872\n",
        "Map Waiver                        553\n",
        "Tentative Map                     525\n",
        "Site Development Permit           471\n",
        "Conditional Use Permit            262\n",
        "Neighborhood Use Permit           256\n",
        "Planned Development Permit        139\n",
        "Public Right of Way Dedication    125\n",
        "Neighborhood Developmnt Permit    120\n",
        "Variance                          119\n",
        "Easement Vacation                  83\n",
        "Public Right of Way Vacation       63\n",
        "Vesting Tentative Map              60\n",
        "Rezone                             32\n",
        "Public R.O.W. Use Permit           17\n",
        "Land Use Plan                      14\n",
        "Street Name Change                 10\n",
        "Amendment of Approved Map           8\n",
        "City Council Approval               2\n",
        "City Manager Approval               2\n",
        "Conditional Use Pmt-Comp Unit       1\n",
        "dtype: int64"
       ]
      }
     ],
     "prompt_number": 184
    },
    {
     "cell_type": "code",
     "collapsed": false,
     "input": [
      "d[d.TimetoExpiration == 360].ApplicationYear.value_counts()"
     ],
     "language": "python",
     "metadata": {},
     "outputs": [
      {
       "metadata": {},
       "output_type": "pyout",
       "prompt_number": 185,
       "text": [
        "2005    864\n",
        "2004    665\n",
        "2006    632\n",
        "2003    521\n",
        "2007    452\n",
        "2008    401\n",
        "2009    199\n",
        "dtype: int64"
       ]
      }
     ],
     "prompt_number": 185
    },
    {
     "cell_type": "code",
     "collapsed": false,
     "input": [
      "d[d.TimetoExpiration == 365].ApplicationYear.value_counts()"
     ],
     "language": "python",
     "metadata": {},
     "outputs": [
      {
       "metadata": {},
       "output_type": "pyout",
       "prompt_number": 186,
       "text": [
        "2011    109\n",
        "2014     95\n",
        "2010     92\n",
        "2012     74\n",
        "2013     34\n",
        "2006      3\n",
        "2009      2\n",
        "dtype: int64"
       ]
      }
     ],
     "prompt_number": 186
    },
    {
     "cell_type": "code",
     "collapsed": false,
     "input": [
      "d[d.TimetoExpiration == 3650].ApplicationYear.value_counts()"
     ],
     "language": "python",
     "metadata": {},
     "outputs": [
      {
       "metadata": {},
       "output_type": "pyout",
       "prompt_number": 187,
       "text": [
        "2014    401\n",
        "2013    387\n",
        "2012    343\n",
        "2011    307\n",
        "2009    304\n",
        "2010    224\n",
        "2008    136\n",
        "2007     84\n",
        "2006     67\n",
        "2005     33\n",
        "2003     22\n",
        "2004      5\n",
        "dtype: int64"
       ]
      }
     ],
     "prompt_number": 187
    },
    {
     "cell_type": "code",
     "collapsed": false,
     "input": [
      "d[d.TimetoExpiration == 3650].Type.value_counts()"
     ],
     "language": "python",
     "metadata": {},
     "outputs": [
      {
       "metadata": {},
       "output_type": "pyout",
       "prompt_number": 182,
       "text": [
        "Site Development Permit           466\n",
        "Coastal Development Permit        429\n",
        "Conditional Use Permit            345\n",
        "Planned Development Permit        214\n",
        "Neighborhood Use Permit           206\n",
        "Neighborhood Developmnt Permit     98\n",
        "Tentative Map                      86\n",
        "Easement Vacation                  81\n",
        "Map Waiver                         60\n",
        "Public Right of Way Dedication     57\n",
        "Public Right of Way Vacation       53\n",
        "Vesting Tentative Map              50\n",
        "Rezone                             38\n",
        "Variance                           37\n",
        "Extension of Time - Dev. Pmt       37\n",
        "Land Use Plan                      30\n",
        "Street Name Change                  8\n",
        "Emergency Coastal Dev Permit        6\n",
        "Emergency Authorization-ESL         3\n",
        "City Council Approval               2\n",
        "Financing Plan                      2\n",
        "Amendment of Approved Map           1\n",
        "Cost Reimbursement Agreement        1\n",
        "Development Agreement               1\n",
        "City Manager Approval               1\n",
        "Public R.O.W. Use Permit            1\n",
        "dtype: int64"
       ]
      }
     ],
     "prompt_number": 182
    },
    {
     "cell_type": "code",
     "collapsed": false,
     "input": [
      "d.ApplicationExpired.value_counts()"
     ],
     "language": "python",
     "metadata": {},
     "outputs": [
      {
       "metadata": {},
       "output_type": "pyout",
       "prompt_number": 175,
       "text": [
        "True     5747\n",
        "False    2481\n",
        "dtype: int64"
       ]
      }
     ],
     "prompt_number": 175
    },
    {
     "cell_type": "code",
     "collapsed": false,
     "input": [
      "d[d.ApplicationExpired == False].ApplicationYear.value_counts(0)"
     ],
     "language": "python",
     "metadata": {},
     "outputs": [
      {
       "metadata": {},
       "output_type": "pyout",
       "prompt_number": 180,
       "text": [
        "2014    517\n",
        "2013    404\n",
        "2012    344\n",
        "2009    322\n",
        "2011    308\n",
        "2010    225\n",
        "2008    138\n",
        "2007     84\n",
        "2006     70\n",
        "2005     47\n",
        "2003     11\n",
        "2004     11\n",
        "dtype: int64"
       ]
      }
     ],
     "prompt_number": 180
    },
    {
     "cell_type": "code",
     "collapsed": false,
     "input": [
      "d[d.ApplicationExpired == True].Status.value_counts()"
     ],
     "language": "python",
     "metadata": {},
     "outputs": [
      {
       "metadata": {},
       "output_type": "pyout",
       "prompt_number": 119,
       "text": [
        "Issued                                      3394\n",
        "Created                                     2314\n",
        "Cancelled - Selected Approval in Error        19\n",
        "Cancelled - Abandoned                          9\n",
        "Cancelled - Rescinded (Customer Request)       7\n",
        "Cancelled - Expired                            2\n",
        "Cancelled - Approval Uncancelled               2\n",
        "dtype: int64"
       ]
      }
     ],
     "prompt_number": 119
    },
    {
     "cell_type": "code",
     "collapsed": false,
     "input": [
      "d['Issued'] = d.IssueDate.notnull()"
     ],
     "language": "python",
     "metadata": {},
     "outputs": [],
     "prompt_number": 7
    },
    {
     "cell_type": "code",
     "collapsed": false,
     "input": [
      "d.Issued.value_counts()"
     ],
     "language": "python",
     "metadata": {},
     "outputs": [
      {
       "metadata": {},
       "output_type": "pyout",
       "prompt_number": 8,
       "text": [
        "True     4777\n",
        "False    3451\n",
        "dtype: int64"
       ]
      }
     ],
     "prompt_number": 8
    },
    {
     "cell_type": "code",
     "collapsed": false,
     "input": [
      "d[d.Issued == False].ApplicationYear.value_counts()"
     ],
     "language": "python",
     "metadata": {},
     "outputs": [
      {
       "metadata": {},
       "output_type": "pyout",
       "prompt_number": 124,
       "text": [
        "2003    634\n",
        "2005    420\n",
        "2014    417\n",
        "2006    389\n",
        "2004    373\n",
        "2007    265\n",
        "2008    260\n",
        "2009    185\n",
        "2013    172\n",
        "2012    127\n",
        "2011    109\n",
        "2010    100\n",
        "dtype: int64"
       ]
      }
     ],
     "prompt_number": 124
    },
    {
     "cell_type": "code",
     "collapsed": false,
     "input": [
      "d.Status.value_counts()"
     ],
     "language": "python",
     "metadata": {},
     "outputs": [
      {
       "metadata": {},
       "output_type": "pyout",
       "prompt_number": 125,
       "text": [
        "Issued                                      4761\n",
        "Created                                     3386\n",
        "Cancelled - Selected Approval in Error        33\n",
        "Cancelled - Abandoned                         26\n",
        "Cancelled - Rescinded (Customer Request)       9\n",
        "Cancelled - Approval Uncancelled               5\n",
        "Cancelled - Expired                            4\n",
        "Pending Invoice Payment                        3\n",
        "Cancelled - Revoked (Imposed)                  1\n",
        "dtype: int64"
       ]
      }
     ],
     "prompt_number": 125
    },
    {
     "cell_type": "code",
     "collapsed": false,
     "input": [
      "d[d.Issued == False].Status.value_counts()"
     ],
     "language": "python",
     "metadata": {},
     "outputs": [
      {
       "metadata": {},
       "output_type": "pyout",
       "prompt_number": 126,
       "text": [
        "Created                                     3385\n",
        "Cancelled - Selected Approval in Error        25\n",
        "Cancelled - Abandoned                         24\n",
        "Cancelled - Rescinded (Customer Request)       8\n",
        "Cancelled - Approval Uncancelled               5\n",
        "Cancelled - Expired                            3\n",
        "Cancelled - Revoked (Imposed)                  1\n",
        "dtype: int64"
       ]
      }
     ],
     "prompt_number": 126
    },
    {
     "cell_type": "code",
     "collapsed": false,
     "input": [
      "d[d.Issued == False].ApplicationExpired.value_counts()"
     ],
     "language": "python",
     "metadata": {},
     "outputs": [
      {
       "metadata": {},
       "output_type": "pyout",
       "prompt_number": 127,
       "text": [
        "True     2342\n",
        "False    1109\n",
        "dtype: int64"
       ]
      }
     ],
     "prompt_number": 127
    },
    {
     "cell_type": "code",
     "collapsed": false,
     "input": [
      "d[(d.Issued == False) & (d.ApplicationExpired == True)].ApplicationYear.value_counts()"
     ],
     "language": "python",
     "metadata": {},
     "outputs": [
      {
       "metadata": {},
       "output_type": "pyout",
       "prompt_number": 128,
       "text": [
        "2003    626\n",
        "2005    387\n",
        "2004    366\n",
        "2006    353\n",
        "2007    243\n",
        "2008    200\n",
        "2009     75\n",
        "2010     37\n",
        "2011     28\n",
        "2012     18\n",
        "2013      9\n",
        "dtype: int64"
       ]
      }
     ],
     "prompt_number": 128
    },
    {
     "cell_type": "code",
     "collapsed": false,
     "input": [
      "d[(d.Issued == False) & (d.ApplicationExpired == True)].Status.value_counts()"
     ],
     "language": "python",
     "metadata": {},
     "outputs": [
      {
       "metadata": {},
       "output_type": "pyout",
       "prompt_number": 129,
       "text": [
        "Created                                     2313\n",
        "Cancelled - Selected Approval in Error        12\n",
        "Cancelled - Abandoned                          8\n",
        "Cancelled - Rescinded (Customer Request)       6\n",
        "Cancelled - Approval Uncancelled               2\n",
        "Cancelled - Expired                            1\n",
        "dtype: int64"
       ]
      }
     ],
     "prompt_number": 129
    },
    {
     "cell_type": "code",
     "collapsed": false,
     "input": [
      "d[d.Issued == True].Status.value_counts()"
     ],
     "language": "python",
     "metadata": {},
     "outputs": [
      {
       "metadata": {},
       "output_type": "pyout",
       "prompt_number": 131,
       "text": [
        "Issued                                      4761\n",
        "Cancelled - Selected Approval in Error         8\n",
        "Pending Invoice Payment                        3\n",
        "Cancelled - Abandoned                          2\n",
        "Cancelled - Rescinded (Customer Request)       1\n",
        "Cancelled - Expired                            1\n",
        "Created                                        1\n",
        "dtype: int64"
       ]
      }
     ],
     "prompt_number": 131
    },
    {
     "cell_type": "code",
     "collapsed": false,
     "input": [],
     "language": "python",
     "metadata": {},
     "outputs": []
    },
    {
     "cell_type": "markdown",
     "metadata": {},
     "source": [
      "### percentiles"
     ]
    },
    {
     "cell_type": "code",
     "collapsed": false,
     "input": [
      "z = datetime.datetime.date(dateutil.parser.parse(d.IssueDate.max()))"
     ],
     "language": "python",
     "metadata": {},
     "outputs": [],
     "prompt_number": 9
    },
    {
     "cell_type": "code",
     "collapsed": false,
     "input": [
      "d.ApplicationDate = d.ApplicationDate.apply(dateutil.parser.parse)\n",
      "d.ApplicationDate = d.ApplicationDate.apply(datetime.datetime.date)"
     ],
     "language": "python",
     "metadata": {},
     "outputs": [
      {
       "output_type": "stream",
       "stream": "stderr",
       "text": [
        "/home/damoncrockett/anaconda/lib/python2.7/site-packages/pandas/core/generic.py:1830: SettingWithCopyWarning: A value is trying to be set on a copy of a slice from a DataFrame.\n",
        "Try using .loc[row_index,col_indexer] = value instead\n",
        "  self[name] = value\n"
       ]
      }
     ],
     "prompt_number": 10
    },
    {
     "cell_type": "code",
     "collapsed": false,
     "input": [
      "tmp = []\n",
      "\n",
      "n = len(d.index)\n",
      "for i in range(n):\n",
      "    if d.Issued.loc[i] == True:\n",
      "        tmp.append('nan')\n",
      "    else:\n",
      "        minTTI = z - d.ApplicationDate.loc[i]\n",
      "        tmp.append(minTTI)\n",
      "        \n",
      "d['minTTI'] = tmp        "
     ],
     "language": "python",
     "metadata": {},
     "outputs": [],
     "prompt_number": 11
    },
    {
     "cell_type": "code",
     "collapsed": false,
     "input": [
      "d.columns"
     ],
     "language": "python",
     "metadata": {},
     "outputs": [
      {
       "metadata": {},
       "output_type": "pyout",
       "prompt_number": 12,
       "text": [
        "Index([u'APN', u'ApplicationDate', u'ApplicationExpiration', u'ApplicationExpired', u'ApplicationMonth', u'ApplicationYear', u'ApprovalId', u'Description', u'DevelopmentId', u'DevelopmentTitle', u'IssueDate', u'IssueMonth', u'IssueYear', u'IssuedBy', u'JobId', u'Latitude', u'Longitude', u'PermitHolder', u'ProjectId', u'ProjectManager', u'ProjectManagerId', u'ProjectScope', u'Scope', u'Status', u'StreetAddress', u'TimetoIssue', u'Title', u'Type', u'category', u'Issued', u'minTTI'], dtype='object')"
       ]
      }
     ],
     "prompt_number": 12
    },
    {
     "cell_type": "code",
     "collapsed": false,
     "input": [
      "d = d[['TimetoIssue','Issued','ApplicationYear','Type','ProjectId','minTTI']]"
     ],
     "language": "python",
     "metadata": {},
     "outputs": [],
     "prompt_number": 13
    },
    {
     "cell_type": "code",
     "collapsed": false,
     "input": [
      "d.to_csv('/home/damoncrockett/vosd.org/215-opendsd/bayes_RC.csv')"
     ],
     "language": "python",
     "metadata": {},
     "outputs": [],
     "prompt_number": 14
    },
    {
     "cell_type": "code",
     "collapsed": false,
     "input": [],
     "language": "python",
     "metadata": {},
     "outputs": []
    },
    {
     "cell_type": "code",
     "collapsed": false,
     "input": [
      "d[(d.ApplicationYear == 2012) & (d.Issued == False)].minTTI.min()"
     ],
     "language": "python",
     "metadata": {},
     "outputs": [
      {
       "metadata": {},
       "output_type": "pyout",
       "prompt_number": 90,
       "text": [
        "datetime.timedelta(724)"
       ]
      }
     ],
     "prompt_number": 90
    },
    {
     "cell_type": "code",
     "collapsed": false,
     "input": [
      "def xtile(series,x):\n",
      "    n = len(series)\n",
      "    index = round(n * x)\n",
      "    issued = series[d.Issued == True]\n",
      "    issued = issued.order()\n",
      "    issued.reset_index(drop = True, inplace = True)\n",
      "    return issued[index]"
     ],
     "language": "python",
     "metadata": {},
     "outputs": [],
     "prompt_number": 124
    },
    {
     "cell_type": "code",
     "collapsed": false,
     "input": [
      "xtile(d.TimetoIssue[d.ApplicationYear == 2004],0.25)"
     ],
     "language": "python",
     "metadata": {},
     "outputs": [
      {
       "metadata": {},
       "output_type": "pyout",
       "prompt_number": 128,
       "text": [
        "338.0"
       ]
      }
     ],
     "prompt_number": 128
    },
    {
     "cell_type": "code",
     "collapsed": false,
     "input": [
      "xtile(d.TimetoIssue[d.ApplicationYear == 2005],0.25)"
     ],
     "language": "python",
     "metadata": {},
     "outputs": [
      {
       "metadata": {},
       "output_type": "pyout",
       "prompt_number": 129,
       "text": [
        "287.0"
       ]
      }
     ],
     "prompt_number": 129
    },
    {
     "cell_type": "code",
     "collapsed": false,
     "input": [
      "xtile(d.TimetoIssue[d.ApplicationYear == 2006],0.25)"
     ],
     "language": "python",
     "metadata": {},
     "outputs": [
      {
       "metadata": {},
       "output_type": "pyout",
       "prompt_number": 130,
       "text": [
        "274.0"
       ]
      }
     ],
     "prompt_number": 130
    },
    {
     "cell_type": "code",
     "collapsed": false,
     "input": [
      "xtile(d.TimetoIssue[d.ApplicationYear == 2007],0.25)"
     ],
     "language": "python",
     "metadata": {},
     "outputs": [
      {
       "metadata": {},
       "output_type": "pyout",
       "prompt_number": 131,
       "text": [
        "321.0"
       ]
      }
     ],
     "prompt_number": 131
    },
    {
     "cell_type": "code",
     "collapsed": false,
     "input": [
      "xtile(d.TimetoIssue[d.ApplicationYear == 2008],0.25)"
     ],
     "language": "python",
     "metadata": {},
     "outputs": [
      {
       "metadata": {},
       "output_type": "pyout",
       "prompt_number": 132,
       "text": [
        "390.0"
       ]
      }
     ],
     "prompt_number": 132
    },
    {
     "cell_type": "code",
     "collapsed": false,
     "input": [
      "xtile(d.TimetoIssue[d.ApplicationYear == 2009],0.25)"
     ],
     "language": "python",
     "metadata": {},
     "outputs": [
      {
       "metadata": {},
       "output_type": "pyout",
       "prompt_number": 133,
       "text": [
        "344.0"
       ]
      }
     ],
     "prompt_number": 133
    },
    {
     "cell_type": "code",
     "collapsed": false,
     "input": [
      "xtile(d.TimetoIssue[d.ApplicationYear == 2010],0.25)"
     ],
     "language": "python",
     "metadata": {},
     "outputs": [
      {
       "metadata": {},
       "output_type": "pyout",
       "prompt_number": 134,
       "text": [
        "312.0"
       ]
      }
     ],
     "prompt_number": 134
    },
    {
     "cell_type": "code",
     "collapsed": false,
     "input": [
      "xtile(d.TimetoIssue[d.ApplicationYear == 2011],0.25)"
     ],
     "language": "python",
     "metadata": {},
     "outputs": [
      {
       "metadata": {},
       "output_type": "pyout",
       "prompt_number": 135,
       "text": [
        "250.0"
       ]
      }
     ],
     "prompt_number": 135
    },
    {
     "cell_type": "code",
     "collapsed": false,
     "input": [
      "xtile(d.TimetoIssue[d.ApplicationYear == 2012],0.25)"
     ],
     "language": "python",
     "metadata": {},
     "outputs": [
      {
       "metadata": {},
       "output_type": "pyout",
       "prompt_number": 136,
       "text": [
        "236.0"
       ]
      }
     ],
     "prompt_number": 136
    },
    {
     "cell_type": "code",
     "collapsed": false,
     "input": [
      "a = d[['TimetoIssue','Issued']][d.ApplicationYear == 2004]"
     ],
     "language": "python",
     "metadata": {},
     "outputs": [],
     "prompt_number": 149
    },
    {
     "cell_type": "code",
     "collapsed": false,
     "input": [
      "len(a.index)"
     ],
     "language": "python",
     "metadata": {},
     "outputs": [
      {
       "metadata": {},
       "output_type": "pyout",
       "prompt_number": 150,
       "text": [
        "970"
       ]
      }
     ],
     "prompt_number": 150
    },
    {
     "cell_type": "code",
     "collapsed": false,
     "input": [
      ".25*970"
     ],
     "language": "python",
     "metadata": {},
     "outputs": [
      {
       "metadata": {},
       "output_type": "pyout",
       "prompt_number": 148,
       "text": [
        "242.5"
       ]
      }
     ],
     "prompt_number": 148
    },
    {
     "cell_type": "code",
     "collapsed": false,
     "input": [
      "b = a.TimetoIssue[a.Issued == True]"
     ],
     "language": "python",
     "metadata": {},
     "outputs": [],
     "prompt_number": 151
    },
    {
     "cell_type": "code",
     "collapsed": false,
     "input": [
      "len(b)"
     ],
     "language": "python",
     "metadata": {},
     "outputs": [
      {
       "metadata": {},
       "output_type": "pyout",
       "prompt_number": 158,
       "text": [
        "597"
       ]
      }
     ],
     "prompt_number": 158
    },
    {
     "cell_type": "code",
     "collapsed": false,
     "input": [
      "b = b.order()"
     ],
     "language": "python",
     "metadata": {},
     "outputs": [],
     "prompt_number": 155
    },
    {
     "cell_type": "code",
     "collapsed": false,
     "input": [
      "b.reset_index(drop=True, inplace = True)"
     ],
     "language": "python",
     "metadata": {},
     "outputs": [],
     "prompt_number": 156
    },
    {
     "cell_type": "code",
     "collapsed": false,
     "input": [
      "b[243]"
     ],
     "language": "python",
     "metadata": {},
     "outputs": [
      {
       "metadata": {},
       "output_type": "pyout",
       "prompt_number": 157,
       "text": [
        "338.0"
       ]
      }
     ],
     "prompt_number": 157
    },
    {
     "cell_type": "code",
     "collapsed": false,
     "input": [],
     "language": "python",
     "metadata": {},
     "outputs": []
    },
    {
     "cell_type": "code",
     "collapsed": false,
     "input": [],
     "language": "python",
     "metadata": {},
     "outputs": []
    },
    {
     "cell_type": "code",
     "collapsed": false,
     "input": [],
     "language": "python",
     "metadata": {},
     "outputs": []
    },
    {
     "cell_type": "code",
     "collapsed": false,
     "input": [],
     "language": "python",
     "metadata": {},
     "outputs": []
    },
    {
     "cell_type": "code",
     "collapsed": false,
     "input": [],
     "language": "python",
     "metadata": {},
     "outputs": []
    },
    {
     "cell_type": "code",
     "collapsed": false,
     "input": [],
     "language": "python",
     "metadata": {},
     "outputs": []
    },
    {
     "cell_type": "code",
     "collapsed": false,
     "input": [
      "tmp = []\n",
      "\n",
      "for item in d.Issued:\n",
      "    if item == True:\n",
      "        tmp.append(1)\n",
      "    if item == False:\n",
      "        tmp.append(0)\n",
      "\n",
      "d['Issued'] = tmp"
     ],
     "language": "python",
     "metadata": {},
     "outputs": [
      {
       "output_type": "stream",
       "stream": "stderr",
       "text": [
        "-c:9: SettingWithCopyWarning: A value is trying to be set on a copy of a slice from a DataFrame.\n",
        "Try using .loc[row_index,col_indexer] = value instead\n"
       ]
      }
     ],
     "prompt_number": 201
    },
    {
     "cell_type": "code",
     "collapsed": false,
     "input": [
      "tmp = []\n",
      "for item in d.TimetoIssue:\n",
      "    if item > 368.0:\n",
      "        tmp.append(1)\n",
      "    else:\n",
      "        tmp.append(0)\n",
      "        \n",
      "d['SuperMedian'] = tmp"
     ],
     "language": "python",
     "metadata": {},
     "outputs": [],
     "prompt_number": 190
    },
    {
     "cell_type": "code",
     "collapsed": false,
     "input": [
      "tmp = d[['ApplicationYear','Issued']]\n",
      "by_year = tmp.groupby('ApplicationYear')\n",
      "tmp = by_year.agg(np.mean)\n",
      "tmp['Count'] = by_year.size()\n",
      "tmp.to_csv('/home/damoncrockett/vosd.org/215-opendsd/d_iss.csv', encoding='utf-8')"
     ],
     "language": "python",
     "metadata": {},
     "outputs": [],
     "prompt_number": 216
    },
    {
     "cell_type": "code",
     "collapsed": false,
     "input": [
      "tmp = d[(d.Issued == True) & (d.TimetoIssue < 701)]\n",
      "tmp = tmp[['ApplicationYear','SuperMedian']]\n",
      "by_year = tmp.groupby('ApplicationYear')\n",
      "tmp = by_year.agg(np.mean)\n",
      "tmp.to_csv('/home/damoncrockett/vosd.org/215-opendsd/d_sm.csv', encoding='utf-8')"
     ],
     "language": "python",
     "metadata": {},
     "outputs": [],
     "prompt_number": 217
    },
    {
     "cell_type": "code",
     "collapsed": false,
     "input": [],
     "language": "python",
     "metadata": {},
     "outputs": []
    },
    {
     "cell_type": "code",
     "collapsed": false,
     "input": [
      "dev = d[(d.Type == 'Neighborhood Developmnt Permit') | (d.Type == 'Planned Development Permit') | (d.Type == 'Site Development Permit') | (d.Type == 'Coastal Development Permit')]"
     ],
     "language": "python",
     "metadata": {},
     "outputs": [],
     "prompt_number": 206
    },
    {
     "cell_type": "code",
     "collapsed": false,
     "input": [
      "np.median(dev[dev.Issued == True].TimetoIssue)"
     ],
     "language": "python",
     "metadata": {},
     "outputs": [
      {
       "metadata": {},
       "output_type": "pyout",
       "prompt_number": 208,
       "text": [
        "399.0"
       ]
      }
     ],
     "prompt_number": 208
    },
    {
     "cell_type": "code",
     "collapsed": false,
     "input": [
      "tmp = []\n",
      "for item in dev.TimetoIssue:\n",
      "    if item > 399.0:\n",
      "        tmp.append(1)\n",
      "    else:\n",
      "        tmp.append(0)\n",
      "        \n",
      "dev['SuperMedian'] = tmp"
     ],
     "language": "python",
     "metadata": {},
     "outputs": [
      {
       "output_type": "stream",
       "stream": "stderr",
       "text": [
        "-c:8: SettingWithCopyWarning: A value is trying to be set on a copy of a slice from a DataFrame.\n",
        "Try using .loc[row_index,col_indexer] = value instead\n"
       ]
      }
     ],
     "prompt_number": 209
    },
    {
     "cell_type": "code",
     "collapsed": false,
     "input": [
      "tmp = dev[['ApplicationYear','Issued']]\n",
      "by_year = tmp.groupby('ApplicationYear')\n",
      "tmp = by_year.agg(np.mean)\n",
      "tmp['Count'] = by_year.size()\n",
      "tmp.to_csv('/home/damoncrockett/vosd.org/215-opendsd/dev_iss.csv', encoding='utf-8')"
     ],
     "language": "python",
     "metadata": {},
     "outputs": [],
     "prompt_number": 218
    },
    {
     "cell_type": "code",
     "collapsed": false,
     "input": [
      "tmp = dev[(dev.Issued == True) & (dev.TimetoIssue < 701)]\n",
      "tmp = tmp[['ApplicationYear','SuperMedian']]\n",
      "by_year = tmp.groupby('ApplicationYear')\n",
      "tmp = by_year.agg(np.mean)\n",
      "tmp.to_csv('/home/damoncrockett/vosd.org/215-opendsd/dev_sm.csv', encoding='utf-8')"
     ],
     "language": "python",
     "metadata": {},
     "outputs": [],
     "prompt_number": 219
    },
    {
     "cell_type": "code",
     "collapsed": false,
     "input": [],
     "language": "python",
     "metadata": {},
     "outputs": []
    },
    {
     "cell_type": "code",
     "collapsed": false,
     "input": [],
     "language": "python",
     "metadata": {},
     "outputs": []
    },
    {
     "cell_type": "code",
     "collapsed": false,
     "input": [
      "use = d[(d.Type == 'Neighborhood Use Permit') | (d.Type == 'Conditional Use Permit')]"
     ],
     "language": "python",
     "metadata": {},
     "outputs": [],
     "prompt_number": 207
    },
    {
     "cell_type": "code",
     "collapsed": false,
     "input": [
      "np.median(use[use.Issued == True].TimetoIssue)"
     ],
     "language": "python",
     "metadata": {},
     "outputs": [
      {
       "metadata": {},
       "output_type": "pyout",
       "prompt_number": 212,
       "text": [
        "344.0"
       ]
      }
     ],
     "prompt_number": 212
    },
    {
     "cell_type": "code",
     "collapsed": false,
     "input": [
      "tmp = []\n",
      "for item in use.TimetoIssue:\n",
      "    if item > 344.0:\n",
      "        tmp.append(1)\n",
      "    else:\n",
      "        tmp.append(0)\n",
      "        \n",
      "use['SuperMedian'] = tmp"
     ],
     "language": "python",
     "metadata": {},
     "outputs": [],
     "prompt_number": 213
    },
    {
     "cell_type": "code",
     "collapsed": false,
     "input": [
      "tmp = use[['ApplicationYear','Issued']]\n",
      "by_year = tmp.groupby('ApplicationYear')\n",
      "tmp = by_year.agg(np.mean)\n",
      "tmp['Count'] = by_year.size()\n",
      "tmp.to_csv('/home/damoncrockett/vosd.org/215-opendsd/use_iss.csv', encoding='utf-8')"
     ],
     "language": "python",
     "metadata": {},
     "outputs": [],
     "prompt_number": 220
    },
    {
     "cell_type": "code",
     "collapsed": false,
     "input": [
      "tmp = use[(use.Issued == True) & (use.TimetoIssue < 701)]\n",
      "tmp = tmp[['ApplicationYear','SuperMedian']]\n",
      "by_year = tmp.groupby('ApplicationYear')\n",
      "tmp = by_year.agg(np.mean)\n",
      "tmp.to_csv('/home/damoncrockett/vosd.org/215-opendsd/use_sm.csv', encoding='utf-8')"
     ],
     "language": "python",
     "metadata": {},
     "outputs": [],
     "prompt_number": 221
    },
    {
     "cell_type": "code",
     "collapsed": false,
     "input": [],
     "language": "python",
     "metadata": {},
     "outputs": []
    },
    {
     "cell_type": "code",
     "collapsed": false,
     "input": [],
     "language": "python",
     "metadata": {},
     "outputs": []
    },
    {
     "cell_type": "code",
     "collapsed": false,
     "input": [
      "d[d.TimetoIssue < 400].TimetoIssue.hist(bins=400)"
     ],
     "language": "python",
     "metadata": {},
     "outputs": [
      {
       "metadata": {},
       "output_type": "pyout",
       "prompt_number": 166,
       "text": [
        "<matplotlib.axes.AxesSubplot at 0x46c9e10>"
       ]
      },
      {
       "metadata": {},
       "output_type": "display_data",
       "png": "[encoded data removed]",
       "text": [
        "<matplotlib.figure.Figure at 0x5e59550>"
       ]
      }
     ],
     "prompt_number": 166
    },
    {
     "cell_type": "code",
     "collapsed": false,
     "input": [
      "d.TimetoIssue.max()"
     ],
     "language": "python",
     "metadata": {},
     "outputs": [
      {
       "metadata": {},
       "output_type": "pyout",
       "prompt_number": 169,
       "text": [
        "4109.0"
       ]
      }
     ],
     "prompt_number": 169
    },
    {
     "cell_type": "code",
     "collapsed": false,
     "input": [
      "len(d.TimetoIssue.unique())"
     ],
     "language": "python",
     "metadata": {},
     "outputs": [
      {
       "metadata": {},
       "output_type": "pyout",
       "prompt_number": 170,
       "text": [
        "1085"
       ]
      }
     ],
     "prompt_number": 170
    },
    {
     "cell_type": "code",
     "collapsed": false,
     "input": [
      "d.TimetoIssue.value_counts()"
     ],
     "language": "python",
     "metadata": {},
     "outputs": [
      {
       "metadata": {},
       "output_type": "pyout",
       "prompt_number": 173,
       "text": [
        "308    23\n",
        "336    22\n",
        "203    21\n",
        "216    21\n",
        "429    21\n",
        "111    21\n",
        "196    19\n",
        "183    19\n",
        "162    18\n",
        "438    18\n",
        "232    18\n",
        "224    18\n",
        "244    17\n",
        "280    17\n",
        "238    17\n",
        "...\n",
        "746     1\n",
        "623     1\n",
        "1165    1\n",
        "1161    1\n",
        "1160    1\n",
        "1158    1\n",
        "1145    1\n",
        "2351    1\n",
        "620     1\n",
        "1139    1\n",
        "1138    1\n",
        "1132    1\n",
        "618     1\n",
        "1128    1\n",
        "589     1\n",
        "Length: 1084, dtype: int64"
       ]
      }
     ],
     "prompt_number": 173
    },
    {
     "cell_type": "code",
     "collapsed": false,
     "input": [
      "d.TimetoIssue.hist(bins=4109)\n",
      "plt.xlim(0,4109)\n",
      "plt.figure(figsize=(32,20))\n",
      "#plt.savefig('/home/damoncrockett/vosd.org/215-opendsd/d_hist.png')"
     ],
     "language": "python",
     "metadata": {},
     "outputs": [
      {
       "metadata": {},
       "output_type": "pyout",
       "prompt_number": 177,
       "text": [
        "<matplotlib.figure.Figure at 0x1e3725d0>"
       ]
      },
      {
       "metadata": {},
       "output_type": "display_data",
       "png": "[encoded data removed]",
       "text": [
        "<matplotlib.figure.Figure at 0x23713110>"
       ]
      },
      {
       "metadata": {},
       "output_type": "display_data",
       "text": [
        "<matplotlib.figure.Figure at 0x1e3725d0>"
       ]
      }
     ],
     "prompt_number": 177
    },
    {
     "cell_type": "code",
     "collapsed": false,
     "input": [
      "d[(d.ApplicationYear == 2004) & (d.TimetoIssue < 1000)].TimetoIssue.hist(bins=10)\n",
      "plt.ylim(0,200)\n",
      "plt.xlim(0,1000)\n",
      "#plt.savefig('/home/damoncrockett/vosd.org/215-opendsd/d_hist_2004.png')"
     ],
     "language": "python",
     "metadata": {},
     "outputs": [
      {
       "metadata": {},
       "output_type": "pyout",
       "prompt_number": 162,
       "text": [
        "(0, 1000)"
       ]
      },
      {
       "metadata": {},
       "output_type": "display_data",
       "png": "[encoded data removed]",
       "text": [
        "<matplotlib.figure.Figure at 0xe768090>"
       ]
      }
     ],
     "prompt_number": 162
    },
    {
     "cell_type": "code",
     "collapsed": false,
     "input": [
      "d[d.ApplicationYear == 2005].TimetoIssue.hist(bins=45)\n",
      "plt.ylim(0,200)\n",
      "plt.xlim(0,4500)\n",
      "plt.savefig('/home/damoncrockett/vosd.org/215-opendsd/d_hist_2005.png')"
     ],
     "language": "python",
     "metadata": {},
     "outputs": [
      {
       "metadata": {},
       "output_type": "display_data",
       "png": "[encoded data removed]",
       "text": [
        "<matplotlib.figure.Figure at 0x1cac0610>"
       ]
      }
     ],
     "prompt_number": 146
    },
    {
     "cell_type": "code",
     "collapsed": false,
     "input": [
      "d[d.ApplicationYear == 2006].TimetoIssue.hist(bins=45)\n",
      "plt.ylim(0,200)\n",
      "plt.xlim(0,4500)\n",
      "plt.savefig('/home/damoncrockett/vosd.org/215-opendsd/d_hist_2006.png')"
     ],
     "language": "python",
     "metadata": {},
     "outputs": [
      {
       "metadata": {},
       "output_type": "display_data",
       "png": "[encoded data removed]",
       "text": [
        "<matplotlib.figure.Figure at 0x1795bcd0>"
       ]
      }
     ],
     "prompt_number": 147
    },
    {
     "cell_type": "code",
     "collapsed": false,
     "input": [
      "d[d.ApplicationYear == 2007].TimetoIssue.hist(bins=45)\n",
      "plt.ylim(0,200)\n",
      "plt.xlim(0,4500)\n",
      "plt.savefig('/home/damoncrockett/vosd.org/215-opendsd/d_hist_2007.png')"
     ],
     "language": "python",
     "metadata": {},
     "outputs": [
      {
       "metadata": {},
       "output_type": "display_data",
       "png": "[encoded data removed]",
       "text": [
        "<matplotlib.figure.Figure at 0x367b2090>"
       ]
      }
     ],
     "prompt_number": 148
    },
    {
     "cell_type": "code",
     "collapsed": false,
     "input": [
      "d[d.ApplicationYear == 2008].TimetoIssue.hist(bins=45)\n",
      "plt.ylim(0,200)\n",
      "plt.xlim(0,4500)\n",
      "plt.savefig('/home/damoncrockett/vosd.org/215-opendsd/d_hist_2008.png')"
     ],
     "language": "python",
     "metadata": {},
     "outputs": [
      {
       "metadata": {},
       "output_type": "display_data",
       "png": "[encoded data removed]",
       "text": [
        "<matplotlib.figure.Figure at 0x10829950>"
       ]
      }
     ],
     "prompt_number": 149
    },
    {
     "cell_type": "code",
     "collapsed": false,
     "input": [
      "d[d.ApplicationYear == 2009].TimetoIssue.hist(bins=45)\n",
      "plt.ylim(0,200)\n",
      "plt.xlim(0,4500)\n",
      "plt.savefig('/home/damoncrockett/vosd.org/215-opendsd/d_hist_2009.png')"
     ],
     "language": "python",
     "metadata": {},
     "outputs": [
      {
       "metadata": {},
       "output_type": "display_data",
       "png": "[encoded data removed]",
       "text": [
        "<matplotlib.figure.Figure at 0x1caf8310>"
       ]
      }
     ],
     "prompt_number": 150
    },
    {
     "cell_type": "code",
     "collapsed": false,
     "input": [
      "d[d.ApplicationYear == 2010].TimetoIssue.hist(bins=45)\n",
      "plt.ylim(0,200)\n",
      "plt.xlim(0,4500)\n",
      "plt.savefig('/home/damoncrockett/vosd.org/215-opendsd/d_hist_2010.png')"
     ],
     "language": "python",
     "metadata": {},
     "outputs": [
      {
       "metadata": {},
       "output_type": "display_data",
       "png": "[encoded data removed]",
       "text": [
        "<matplotlib.figure.Figure at 0x1197a710>"
       ]
      }
     ],
     "prompt_number": 151
    },
    {
     "cell_type": "code",
     "collapsed": false,
     "input": [
      "d[d.ApplicationYear == 2011].TimetoIssue.hist(bins=45)\n",
      "plt.ylim(0,200)\n",
      "plt.xlim(0,4500)\n",
      "plt.savefig('/home/damoncrockett/vosd.org/215-opendsd/d_hist_2011.png')"
     ],
     "language": "python",
     "metadata": {},
     "outputs": [
      {
       "metadata": {},
       "output_type": "display_data",
       "png": "[encoded data removed]",
       "text": [
        "<matplotlib.figure.Figure at 0x127e2f10>"
       ]
      }
     ],
     "prompt_number": 5
    },
    {
     "cell_type": "code",
     "collapsed": false,
     "input": [
      "d[d.ApplicationYear == 2012].TimetoIssue.hist(bins=45)\n",
      "plt.ylim(0,200)\n",
      "plt.xlim(0,4500)\n",
      "plt.savefig('/home/damoncrockett/vosd.org/215-opendsd/d_hist_2012.png')"
     ],
     "language": "python",
     "metadata": {},
     "outputs": [
      {
       "metadata": {},
       "output_type": "display_data",
       "png": "[encoded data removed]",
       "text": [
        "<matplotlib.figure.Figure at 0x1cacf2d0>"
       ]
      }
     ],
     "prompt_number": 153
    },
    {
     "cell_type": "code",
     "collapsed": false,
     "input": [
      "d[d.ApplicationYear == 2013].TimetoIssue.hist(bins=45)\n",
      "plt.ylim(0,200)\n",
      "plt.xlim(0,4500)\n",
      "plt.savefig('/home/damoncrockett/vosd.org/215-opendsd/d_hist_2013.png')"
     ],
     "language": "python",
     "metadata": {},
     "outputs": [
      {
       "metadata": {},
       "output_type": "display_data",
       "png": "[encoded data removed]",
       "text": [
        "<matplotlib.figure.Figure at 0x11d16190>"
       ]
      }
     ],
     "prompt_number": 154
    },
    {
     "cell_type": "code",
     "collapsed": false,
     "input": [
      "d[d.ApplicationYear == 2014].TimetoIssue.hist(bins=45)\n",
      "plt.ylim(0,200)\n",
      "plt.xlim(0,4500)\n",
      "plt.savefig('/home/damoncrockett/vosd.org/215-opendsd/d_hist_2014.png')"
     ],
     "language": "python",
     "metadata": {},
     "outputs": [
      {
       "metadata": {},
       "output_type": "display_data",
       "png": "[encoded data removed]",
       "text": [
        "<matplotlib.figure.Figure at 0x2a5e210>"
       ]
      }
     ],
     "prompt_number": 155
    },
    {
     "cell_type": "code",
     "collapsed": false,
     "input": [
      "d.columns"
     ],
     "language": "python",
     "metadata": {},
     "outputs": [
      {
       "metadata": {},
       "output_type": "pyout",
       "prompt_number": 6,
       "text": [
        "Index([u'APN', u'ApplicationDate', u'ApplicationExpiration', u'ApplicationExpired', u'ApplicationMonth', u'ApplicationYear', u'ApprovalId', u'Description', u'DevelopmentId', u'DevelopmentTitle', u'IssueDate', u'IssueMonth', u'IssueYear', u'IssuedBy', u'JobId', u'Latitude', u'Longitude', u'PermitHolder', u'ProjectId', u'ProjectManager', u'ProjectManagerId', u'ProjectScope', u'Scope', u'Status', u'StreetAddress', u'TimetoIssue', u'Title', u'Type', u'category'], dtype='object')"
       ]
      }
     ],
     "prompt_number": 6
    },
    {
     "cell_type": "code",
     "collapsed": false,
     "input": [],
     "language": "python",
     "metadata": {},
     "outputs": []
    },
    {
     "cell_type": "code",
     "collapsed": false,
     "input": [],
     "language": "python",
     "metadata": {},
     "outputs": []
    },
    {
     "cell_type": "code",
     "collapsed": false,
     "input": [
      "len(d[d.TimetoIssue < 701].index) / float(len(d.index))"
     ],
     "language": "python",
     "metadata": {},
     "outputs": [
      {
       "metadata": {},
       "output_type": "pyout",
       "prompt_number": 36,
       "text": [
        "0.7737073477077664"
       ]
      }
     ],
     "prompt_number": 36
    },
    {
     "cell_type": "code",
     "collapsed": false,
     "input": [
      "d.IssueDate.order().tail(25)"
     ],
     "language": "python",
     "metadata": {},
     "outputs": [
      {
       "metadata": {},
       "output_type": "pyout",
       "prompt_number": 35,
       "text": [
        "258408    2014-11-06\n",
        "274265    2014-11-06\n",
        "274266    2014-11-06\n",
        "238943    2014-11-13\n",
        "238944    2014-11-13\n",
        "238945    2014-11-13\n",
        "301940    2014-11-25\n",
        "301941    2014-11-25\n",
        "312524    2014-11-25\n",
        "329094    2014-11-25\n",
        "329095    2014-11-25\n",
        "329096    2014-11-25\n",
        "306012    2014-11-26\n",
        "306013    2014-11-26\n",
        "306014    2014-11-26\n",
        "306015    2014-11-26\n",
        "317719    2014-12-01\n",
        "260647    2014-12-02\n",
        "215698    2014-12-03\n",
        "288581    2014-12-03\n",
        "288582    2014-12-03\n",
        "322295    2014-12-03\n",
        "236532    2014-12-04\n",
        "317928    2014-12-05\n",
        "326745    2014-12-05\n",
        "Name: IssueDate, dtype: object"
       ]
      }
     ],
     "prompt_number": 35
    }
   ],
   "metadata": {}
  }
 ]
}