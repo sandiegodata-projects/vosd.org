{
 "cells": [
  {
   "cell_type": "code",
   "execution_count": 88,
   "metadata": {
    "collapsed": true
   },
   "outputs": [],
   "source": [
    "from xml.etree import ElementTree\n",
    "import keytree\n",
    "import shapely\n",
    "from shapely.geometry import Polygon, Point, shape"
   ]
  },
  {
   "cell_type": "code",
   "execution_count": 81,
   "metadata": {
    "collapsed": true
   },
   "outputs": [],
   "source": [
    "doc = open(\"/Users/damoncrockett/vosd.org/215-opendsd/Final.kml\").read()\n",
    "tree = ElementTree.fromstring(doc)\n",
    "# kml namespace\n",
    "kmlns = tree.tag.split('}')[0][1:]\n",
    "# find all placemarks\n",
    "placemks = tree.findall(\".//{%s}Placemark\" % kmlns)\n",
    "# filter out those without polygon elements\n",
    "placemks_with_polygons = []\n",
    "\n",
    "for p in placemks:\n",
    "    if p.findall(\".//{%s}Polygon\" % kmlns):\n",
    "        placemks_with_polygons.append(p)"
   ]
  },
  {
   "cell_type": "code",
   "execution_count": 89,
   "metadata": {
    "collapsed": true
   },
   "outputs": [],
   "source": [
    "# extract kml LinearRings, convert to shapely LinearRings, make dict with cpa names\n",
    "\n",
    "def coords_names(placemks):\n",
    "  coords_names_dict = {}\n",
    "  for placemk in placemks:\n",
    "    name = placemk.getchildren()[0].text\n",
    "    coord_text = placemk.findtext(\".//{%s}coordinates\" % kmlns)\n",
    "    coords = []\n",
    "    for elems in coord_text.split():\n",
    "      points = elems.split(\",\")\n",
    "      coords.append((float(points[0]), float(points[1])))\n",
    "    coords_names_dict[Polygon(coords)] = name\n",
    "  return coords_names_dict"
   ]
  },
  {
   "cell_type": "code",
   "execution_count": 90,
   "metadata": {
    "collapsed": false
   },
   "outputs": [],
   "source": [
    "import pandas as pd\n",
    "\n",
    "cpa_polygons = pd.DataFrame(coords_names(placemks_with_polygons).items(),\n",
    "            columns=['Polygon','CPA'])"
   ]
  },
  {
   "cell_type": "code",
   "execution_count": 84,
   "metadata": {
    "collapsed": false
   },
   "outputs": [],
   "source": [
    "# import approvals\n",
    "\n",
    "d = pd.read_csv('/Users/damoncrockett/vosd.org/215-opendsd/approvals_parcels.csv',low_memory=False)\n",
    "d = d[d.Latitude.notnull()]\n",
    "d.reset_index(drop=True, inplace=True)"
   ]
  },
  {
   "cell_type": "code",
   "execution_count": 85,
   "metadata": {
    "collapsed": true
   },
   "outputs": [],
   "source": [
    "# collect all lat lon points from dataframe\n",
    "\n",
    "n = len(d.index)\n",
    "locations = []\n",
    "for i in range(n):\n",
    "    point = Point(d.Longitude[i],d.Latitude[i])\n",
    "    locations.append(point)"
   ]
  },
  {
   "cell_type": "code",
   "execution_count": 91,
   "metadata": {
    "collapsed": false
   },
   "outputs": [],
   "source": [
    "# crucial step: build spatial index\n",
    "\n",
    "from rtree import index\n",
    "idx = index.Index()\n",
    "count = -1\n",
    "for item in cpa_polygons.Polygon:\n",
    "    count +=1\n",
    "    idx.insert(count, item.bounds)"
   ]
  },
  {
   "cell_type": "code",
   "execution_count": 92,
   "metadata": {
    "collapsed": false
   },
   "outputs": [
    {
     "name": "stdout",
     "output_type": "stream",
     "text": [
      "0\n",
      "6\n",
      "48\n",
      "yes\n",
      "1\n",
      "47\n",
      "yes\n"
     ]
    }
   ],
   "source": [
    "# assign a cpa to each point\n",
    "\n",
    "m = len(locations)\n",
    "hoods = []\n",
    "for i in range(m):\n",
    "    print i\n",
    "    tmp = 'nan'\n",
    "    for j in idx.intersection((d.Longitude[i],d.Latitude[i])):\n",
    "        if locations[i].within(cpa_polygons.Polygon.loc[j]):\n",
    "            tmp = cpa_polygons.CPA[j]\n",
    "            break\n",
    "    hoods.append(tmp)"
   ]
  },
  {
   "cell_type": "code",
   "execution_count": 94,
   "metadata": {
    "collapsed": false
   },
   "outputs": [
    {
     "data": {
      "text/plain": [
       "['MID-CITY:CITY HEIGHTS', 'LA JOLLA']"
      ]
     },
     "execution_count": 94,
     "metadata": {},
     "output_type": "execute_result"
    }
   ],
   "source": [
    "d['CPA'] = hoods"
   ]
  },
  {
   "cell_type": "code",
   "execution_count": null,
   "metadata": {
    "collapsed": true
   },
   "outputs": [],
   "source": [
    "d.to_csv('/Users/damoncrockett/vosd.org/215-opendsd/approvals_parcels_CPA.csv', encoding='utf-8')"
   ]
  }
 ],
 "metadata": {
  "kernelspec": {
   "display_name": "Python 2",
   "language": "python",
   "name": "python2"
  },
  "language_info": {
   "codemirror_mode": {
    "name": "ipython",
    "version": 2
   },
   "file_extension": ".py",
   "mimetype": "text/x-python",
   "name": "python",
   "nbconvert_exporter": "python",
   "pygments_lexer": "ipython2",
   "version": "2.7.6"
  }
 },
 "nbformat": 4,
 "nbformat_minor": 0
}
