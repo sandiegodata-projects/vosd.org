{
 "cells": [
  {
   "cell_type": "code",
   "execution_count": 4,
   "metadata": {
    "collapsed": true
   },
   "outputs": [],
   "source": [
    "import pandas as pd"
   ]
  },
  {
   "cell_type": "code",
   "execution_count": 5,
   "metadata": {
    "collapsed": false
   },
   "outputs": [
    {
     "name": "stderr",
     "output_type": "stream",
     "text": [
      "/Library/Python/2.7/site-packages/pandas/io/parsers.py:1164: DtypeWarning: Columns (11,14) have mixed types. Specify dtype option on import or set low_memory=False.\n",
      "  data = self._reader.read(nrows)\n"
     ]
    }
   ],
   "source": [
    "d = pd.read_csv('/Users/damoncrockett/Dropbox/thinkpad_home/vosd.org/215-opendsd/approval_master_FULL.csv')"
   ]
  },
  {
   "cell_type": "code",
   "execution_count": 6,
   "metadata": {
    "collapsed": false
   },
   "outputs": [
    {
     "data": {
      "text/plain": [
       "Index([u'Unnamed: 0', u'APN', u'ApplicationDate', u'ApplicationExpiration', u'ApplicationExpired', u'ApplicationMonth', u'ApplicationYear', u'ApprovalId', u'Description', u'DevelopmentId', u'DevelopmentTitle', u'IssueDate', u'IssueMonth', u'IssueYear', u'IssuedBy', u'JobId', u'Latitude', u'Longitude', u'PermitHolder', u'ProjectId', u'ProjectManager', u'ProjectManagerId', u'ProjectScope', u'Scope', u'Status', u'StreetAddress', u'TimetoIssue', u'Title', u'Type', u'category'], dtype='object')"
      ]
     },
     "execution_count": 6,
     "metadata": {},
     "output_type": "execute_result"
    }
   ],
   "source": [
    "d.columns"
   ]
  },
  {
   "cell_type": "code",
   "execution_count": 47,
   "metadata": {
    "collapsed": false
   },
   "outputs": [
    {
     "data": {
      "text/html": [
       "<div style=\"max-height:1000px;max-width:1500px;overflow:auto;\">\n",
       "<table border=\"1\" class=\"dataframe\">\n",
       "  <thead>\n",
       "    <tr style=\"text-align: right;\">\n",
       "      <th></th>\n",
       "      <th>Unnamed: 0</th>\n",
       "      <th>APN</th>\n",
       "      <th>ApplicationDate</th>\n",
       "      <th>ApplicationExpiration</th>\n",
       "      <th>ApplicationExpired</th>\n",
       "      <th>ApplicationMonth</th>\n",
       "      <th>ApplicationYear</th>\n",
       "      <th>ApprovalId</th>\n",
       "      <th>Description</th>\n",
       "      <th>DevelopmentId</th>\n",
       "      <th>...</th>\n",
       "      <th>ProjectManager</th>\n",
       "      <th>ProjectManagerId</th>\n",
       "      <th>ProjectScope</th>\n",
       "      <th>Scope</th>\n",
       "      <th>Status</th>\n",
       "      <th>StreetAddress</th>\n",
       "      <th>TimetoIssue</th>\n",
       "      <th>Title</th>\n",
       "      <th>Type</th>\n",
       "      <th>category</th>\n",
       "    </tr>\n",
       "  </thead>\n",
       "  <tbody>\n",
       "  </tbody>\n",
       "</table>\n",
       "<p>0 rows × 30 columns</p>\n",
       "</div>"
      ],
      "text/plain": [
       "Empty DataFrame\n",
       "Columns: [Unnamed: 0, APN, ApplicationDate, ApplicationExpiration, ApplicationExpired, ApplicationMonth, ApplicationYear, ApprovalId, Description, DevelopmentId, DevelopmentTitle, IssueDate, IssueMonth, IssueYear, IssuedBy, JobId, Latitude, Longitude, PermitHolder, ProjectId, ProjectManager, ProjectManagerId, ProjectScope, Scope, Status, StreetAddress, TimetoIssue, Title, Type, category]\n",
       "Index: []\n",
       "\n",
       "[0 rows x 30 columns]"
      ]
     },
     "execution_count": 47,
     "metadata": {},
     "output_type": "execute_result"
    }
   ],
   "source": [
    "d[d.APN == '545-351-08-00']"
   ]
  },
  {
   "cell_type": "code",
   "execution_count": 48,
   "metadata": {
    "collapsed": false
   },
   "outputs": [
    {
     "data": {
      "text/html": [
       "<div style=\"max-height:1000px;max-width:1500px;overflow:auto;\">\n",
       "<table border=\"1\" class=\"dataframe\">\n",
       "  <thead>\n",
       "    <tr style=\"text-align: right;\">\n",
       "      <th></th>\n",
       "      <th>Unnamed: 0</th>\n",
       "      <th>APN</th>\n",
       "      <th>ApplicationDate</th>\n",
       "      <th>ApplicationExpiration</th>\n",
       "      <th>ApplicationExpired</th>\n",
       "      <th>ApplicationMonth</th>\n",
       "      <th>ApplicationYear</th>\n",
       "      <th>ApprovalId</th>\n",
       "      <th>Description</th>\n",
       "      <th>DevelopmentId</th>\n",
       "      <th>...</th>\n",
       "      <th>ProjectManager</th>\n",
       "      <th>ProjectManagerId</th>\n",
       "      <th>ProjectScope</th>\n",
       "      <th>Scope</th>\n",
       "      <th>Status</th>\n",
       "      <th>StreetAddress</th>\n",
       "      <th>TimetoIssue</th>\n",
       "      <th>Title</th>\n",
       "      <th>Type</th>\n",
       "      <th>category</th>\n",
       "    </tr>\n",
       "  </thead>\n",
       "  <tbody>\n",
       "  </tbody>\n",
       "</table>\n",
       "<p>0 rows × 30 columns</p>\n",
       "</div>"
      ],
      "text/plain": [
       "Empty DataFrame\n",
       "Columns: [Unnamed: 0, APN, ApplicationDate, ApplicationExpiration, ApplicationExpired, ApplicationMonth, ApplicationYear, ApprovalId, Description, DevelopmentId, DevelopmentTitle, IssueDate, IssueMonth, IssueYear, IssuedBy, JobId, Latitude, Longitude, PermitHolder, ProjectId, ProjectManager, ProjectManagerId, ProjectScope, Scope, Status, StreetAddress, TimetoIssue, Title, Type, category]\n",
       "Index: []\n",
       "\n",
       "[0 rows x 30 columns]"
      ]
     },
     "execution_count": 48,
     "metadata": {},
     "output_type": "execute_result"
    }
   ],
   "source": [
    "d[d.StreetAddress.str.contains('IMPERIAL') & d.StreetAddress.str.contains('2835')]"
   ]
  },
  {
   "cell_type": "code",
   "execution_count": 28,
   "metadata": {
    "collapsed": false
   },
   "outputs": [],
   "source": [
    "c = pd.read_csv('/Users/damoncrockett/Dropbox/thinkpad_home/vosd.org/215-opendsd/customers_complete.csv')"
   ]
  },
  {
   "cell_type": "code",
   "execution_count": 31,
   "metadata": {
    "collapsed": false
   },
   "outputs": [
    {
     "data": {
      "text/html": [
       "<div style=\"max-height:1000px;max-width:1500px;overflow:auto;\">\n",
       "<table border=\"1\" class=\"dataframe\">\n",
       "  <thead>\n",
       "    <tr style=\"text-align: right;\">\n",
       "      <th></th>\n",
       "      <th>Unnamed: 0</th>\n",
       "      <th>CustomerId</th>\n",
       "      <th>FirmName</th>\n",
       "      <th>Name</th>\n",
       "      <th>ProjectId</th>\n",
       "      <th>Role</th>\n",
       "    </tr>\n",
       "  </thead>\n",
       "  <tbody>\n",
       "    <tr>\n",
       "      <th>2985</th>\n",
       "      <td>2985</td>\n",
       "      <td>53066</td>\n",
       "      <td>NaN</td>\n",
       "      <td>Brazil Gilliam</td>\n",
       "      <td>13013</td>\n",
       "      <td>Point of Contact</td>\n",
       "    </tr>\n",
       "    <tr>\n",
       "      <th>2986</th>\n",
       "      <td>2986</td>\n",
       "      <td>53066</td>\n",
       "      <td>NaN</td>\n",
       "      <td>Brazil Gilliam</td>\n",
       "      <td>13013</td>\n",
       "      <td>Owner</td>\n",
       "    </tr>\n",
       "    <tr>\n",
       "      <th>38417</th>\n",
       "      <td>38417</td>\n",
       "      <td>53066</td>\n",
       "      <td>NaN</td>\n",
       "      <td>Brazil Gilliam</td>\n",
       "      <td>40692</td>\n",
       "      <td>Point of Contact</td>\n",
       "    </tr>\n",
       "    <tr>\n",
       "      <th>50912</th>\n",
       "      <td>50912</td>\n",
       "      <td>44068</td>\n",
       "      <td>NaN</td>\n",
       "      <td>Kevin Gilliam</td>\n",
       "      <td>49162</td>\n",
       "      <td>Owner</td>\n",
       "    </tr>\n",
       "    <tr>\n",
       "      <th>255963</th>\n",
       "      <td>255963</td>\n",
       "      <td>175014</td>\n",
       "      <td>NaN</td>\n",
       "      <td>Kirk Gilliam</td>\n",
       "      <td>139562</td>\n",
       "      <td>Contractor - Elect</td>\n",
       "    </tr>\n",
       "    <tr>\n",
       "      <th>255964</th>\n",
       "      <td>255964</td>\n",
       "      <td>175014</td>\n",
       "      <td>NaN</td>\n",
       "      <td>Kirk Gilliam</td>\n",
       "      <td>139562</td>\n",
       "      <td>Point of Contact</td>\n",
       "    </tr>\n",
       "    <tr>\n",
       "      <th>255965</th>\n",
       "      <td>255965</td>\n",
       "      <td>175014</td>\n",
       "      <td>NaN</td>\n",
       "      <td>Kirk Gilliam</td>\n",
       "      <td>139562</td>\n",
       "      <td>Inspection Contact</td>\n",
       "    </tr>\n",
       "    <tr>\n",
       "      <th>280826</th>\n",
       "      <td>280826</td>\n",
       "      <td>175014</td>\n",
       "      <td>NaN</td>\n",
       "      <td>Kirk Gilliam</td>\n",
       "      <td>149079</td>\n",
       "      <td>Point of Contact</td>\n",
       "    </tr>\n",
       "    <tr>\n",
       "      <th>462728</th>\n",
       "      <td>462728</td>\n",
       "      <td>248469</td>\n",
       "      <td>NaN</td>\n",
       "      <td>Wirt Gilliam</td>\n",
       "      <td>228682</td>\n",
       "      <td>Owner</td>\n",
       "    </tr>\n",
       "    <tr>\n",
       "      <th>727257</th>\n",
       "      <td>727257</td>\n",
       "      <td>314572</td>\n",
       "      <td>NaN</td>\n",
       "      <td>Donnie Gilliam</td>\n",
       "      <td>348301</td>\n",
       "      <td>Owner</td>\n",
       "    </tr>\n",
       "    <tr>\n",
       "      <th>744668</th>\n",
       "      <td>744668</td>\n",
       "      <td>175014</td>\n",
       "      <td>NaN</td>\n",
       "      <td>Kirk Gilliam</td>\n",
       "      <td>354316</td>\n",
       "      <td>Contractor - Gen</td>\n",
       "    </tr>\n",
       "    <tr>\n",
       "      <th>744669</th>\n",
       "      <td>744669</td>\n",
       "      <td>175014</td>\n",
       "      <td>NaN</td>\n",
       "      <td>Kirk Gilliam</td>\n",
       "      <td>354316</td>\n",
       "      <td>Point of Contact</td>\n",
       "    </tr>\n",
       "    <tr>\n",
       "      <th>786626</th>\n",
       "      <td>786626</td>\n",
       "      <td>328863</td>\n",
       "      <td>NaN</td>\n",
       "      <td>James Gilliam</td>\n",
       "      <td>370847</td>\n",
       "      <td>Applicant</td>\n",
       "    </tr>\n",
       "    <tr>\n",
       "      <th>786627</th>\n",
       "      <td>786627</td>\n",
       "      <td>328863</td>\n",
       "      <td>NaN</td>\n",
       "      <td>James Gilliam</td>\n",
       "      <td>370847</td>\n",
       "      <td>Point of Contact</td>\n",
       "    </tr>\n",
       "    <tr>\n",
       "      <th>786628</th>\n",
       "      <td>786628</td>\n",
       "      <td>328863</td>\n",
       "      <td>NaN</td>\n",
       "      <td>James Gilliam</td>\n",
       "      <td>370847</td>\n",
       "      <td>New Owner</td>\n",
       "    </tr>\n",
       "  </tbody>\n",
       "</table>\n",
       "</div>"
      ],
      "text/plain": [
       "        Unnamed: 0  CustomerId FirmName            Name  ProjectId  \\\n",
       "2985          2985       53066      NaN  Brazil Gilliam      13013   \n",
       "2986          2986       53066      NaN  Brazil Gilliam      13013   \n",
       "38417        38417       53066      NaN  Brazil Gilliam      40692   \n",
       "50912        50912       44068      NaN   Kevin Gilliam      49162   \n",
       "255963      255963      175014      NaN    Kirk Gilliam     139562   \n",
       "255964      255964      175014      NaN    Kirk Gilliam     139562   \n",
       "255965      255965      175014      NaN    Kirk Gilliam     139562   \n",
       "280826      280826      175014      NaN    Kirk Gilliam     149079   \n",
       "462728      462728      248469      NaN    Wirt Gilliam     228682   \n",
       "727257      727257      314572      NaN  Donnie Gilliam     348301   \n",
       "744668      744668      175014      NaN    Kirk Gilliam     354316   \n",
       "744669      744669      175014      NaN    Kirk Gilliam     354316   \n",
       "786626      786626      328863      NaN   James Gilliam     370847   \n",
       "786627      786627      328863      NaN   James Gilliam     370847   \n",
       "786628      786628      328863      NaN   James Gilliam     370847   \n",
       "\n",
       "                      Role  \n",
       "2985      Point of Contact  \n",
       "2986                 Owner  \n",
       "38417     Point of Contact  \n",
       "50912                Owner  \n",
       "255963  Contractor - Elect  \n",
       "255964    Point of Contact  \n",
       "255965  Inspection Contact  \n",
       "280826    Point of Contact  \n",
       "462728               Owner  \n",
       "727257               Owner  \n",
       "744668    Contractor - Gen  \n",
       "744669    Point of Contact  \n",
       "786626           Applicant  \n",
       "786627    Point of Contact  \n",
       "786628           New Owner  "
      ]
     },
     "execution_count": 31,
     "metadata": {},
     "output_type": "execute_result"
    }
   ],
   "source": [
    "c[c.Name.str.contains('Gilliam')]"
   ]
  }
 ],
 "metadata": {
  "kernelspec": {
   "display_name": "Python 2",
   "language": "python",
   "name": "python2"
  },
  "language_info": {
   "codemirror_mode": {
    "name": "ipython",
    "version": 2
   },
   "file_extension": ".py",
   "mimetype": "text/x-python",
   "name": "python",
   "nbconvert_exporter": "python",
   "pygments_lexer": "ipython2",
   "version": "2.7.6"
  }
 },
 "nbformat": 4,
 "nbformat_minor": 0
}
