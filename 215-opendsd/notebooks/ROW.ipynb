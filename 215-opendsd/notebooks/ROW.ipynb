{
 "cells": [
  {
   "cell_type": "code",
   "execution_count": 36,
   "metadata": {
    "collapsed": true
   },
   "outputs": [],
   "source": [
    "import pandas as pd"
   ]
  },
  {
   "cell_type": "code",
   "execution_count": 37,
   "metadata": {
    "collapsed": true
   },
   "outputs": [],
   "source": [
    "FILE = \"/Users/damoncrockett/vosd.org/215-opendsd/tables/approval_master_FULL.csv\""
   ]
  },
  {
   "cell_type": "code",
   "execution_count": 38,
   "metadata": {
    "collapsed": false
   },
   "outputs": [],
   "source": [
    "df = pd.read_csv(FILE,low_memory=False)"
   ]
  },
  {
   "cell_type": "code",
   "execution_count": 39,
   "metadata": {
    "collapsed": false
   },
   "outputs": [
    {
     "name": "stdout",
     "output_type": "stream",
     "text": [
      "<class 'pandas.core.frame.DataFrame'>\n",
      "Int64Index: 388645 entries, 0 to 388644\n",
      "Data columns (total 30 columns):\n",
      "Unnamed: 0               388645 non-null int64\n",
      "APN                      360762 non-null object\n",
      "ApplicationDate          388645 non-null object\n",
      "ApplicationExpiration    246135 non-null object\n",
      "ApplicationExpired       388645 non-null bool\n",
      "ApplicationMonth         388645 non-null int64\n",
      "ApplicationYear          388645 non-null int64\n",
      "ApprovalId               388645 non-null int64\n",
      "Description              388645 non-null object\n",
      "DevelopmentId            388645 non-null int64\n",
      "DevelopmentTitle         388645 non-null object\n",
      "IssueDate                338383 non-null object\n",
      "IssueMonth               338383 non-null float64\n",
      "IssueYear                338383 non-null float64\n",
      "IssuedBy                 338383 non-null object\n",
      "JobId                    388645 non-null int64\n",
      "Latitude                 388585 non-null float64\n",
      "Longitude                388585 non-null float64\n",
      "PermitHolder             388645 non-null object\n",
      "ProjectId                388645 non-null int64\n",
      "ProjectManager           388645 non-null object\n",
      "ProjectManagerId         388645 non-null int64\n",
      "ProjectScope             369184 non-null object\n",
      "Scope                    336363 non-null object\n",
      "Status                   388645 non-null object\n",
      "StreetAddress            388645 non-null object\n",
      "TimetoIssue              338383 non-null float64\n",
      "Title                    388645 non-null object\n",
      "Type                     388645 non-null object\n",
      "category                 386842 non-null object\n",
      "dtypes: bool(1), float64(5), int64(8), object(16)\n",
      "memory usage: 89.3+ MB\n"
     ]
    }
   ],
   "source": [
    "df.info()"
   ]
  },
  {
   "cell_type": "code",
   "execution_count": 40,
   "metadata": {
    "collapsed": false
   },
   "outputs": [
    {
     "data": {
      "text/plain": [
       "Electrical Permit                 88354\n",
       "Plumbing Permit                   80861\n",
       "Combination Building Permit       56166\n",
       "Mechanical Permit                 53193\n",
       "Building Permit                   40150\n",
       "Electrical-Photovoltaic           10390\n",
       "Construction Change - Building     9414\n",
       "Sign Permit                        7896\n",
       "Right Of Way Permit                7149\n",
       "Right Of Way Permit-Const Plan     4663\n",
       "Encroachment Agreement             4316\n",
       "Fire Permit                        2364\n",
       "Fire Permit - Suppression          2336\n",
       "Fire Permit - Alarm                1800\n",
       "Coastal Development Permit         1694\n",
       "dtype: int64"
      ]
     },
     "execution_count": 40,
     "metadata": {},
     "output_type": "execute_result"
    }
   ],
   "source": [
    "df.Type.value_counts().head(15)"
   ]
  },
  {
   "cell_type": "code",
   "execution_count": 41,
   "metadata": {
    "collapsed": false
   },
   "outputs": [],
   "source": [
    "df = df[df.Type==\"Right Of Way Permit\"]"
   ]
  },
  {
   "cell_type": "code",
   "execution_count": 42,
   "metadata": {
    "collapsed": false
   },
   "outputs": [],
   "source": [
    "import numpy as np"
   ]
  },
  {
   "cell_type": "code",
   "execution_count": 43,
   "metadata": {
    "collapsed": false
   },
   "outputs": [
    {
     "data": {
      "text/plain": [
       "8.0"
      ]
     },
     "execution_count": 43,
     "metadata": {},
     "output_type": "execute_result"
    }
   ],
   "source": [
    "np.median(df.TimetoIssue)"
   ]
  },
  {
   "cell_type": "code",
   "execution_count": 44,
   "metadata": {
    "collapsed": false
   },
   "outputs": [],
   "source": [
    "d = df[['ApprovalId','APN','ProjectId','Status','TimetoIssue','ApplicationYear']]"
   ]
  },
  {
   "cell_type": "code",
   "execution_count": 45,
   "metadata": {
    "collapsed": false
   },
   "outputs": [],
   "source": [
    "statuses = ['Issued','Completed']\n",
    "relevant = d[d.Status.isin(statuses)]"
   ]
  },
  {
   "cell_type": "code",
   "execution_count": 46,
   "metadata": {
    "collapsed": false
   },
   "outputs": [],
   "source": [
    "times = list(relevant.TimetoIssue)"
   ]
  },
  {
   "cell_type": "code",
   "execution_count": 47,
   "metadata": {
    "collapsed": false
   },
   "outputs": [
    {
     "data": {
      "text/plain": [
       "88.29696556426866"
      ]
     },
     "execution_count": 47,
     "metadata": {},
     "output_type": "execute_result"
    }
   ],
   "source": [
    "np.mean(times)"
   ]
  },
  {
   "cell_type": "code",
   "execution_count": 48,
   "metadata": {
    "collapsed": false
   },
   "outputs": [],
   "source": [
    "from collections import Counter"
   ]
  },
  {
   "cell_type": "code",
   "execution_count": 49,
   "metadata": {
    "collapsed": false
   },
   "outputs": [
    {
     "data": {
      "text/plain": [
       "5866"
      ]
     },
     "execution_count": 49,
     "metadata": {},
     "output_type": "execute_result"
    }
   ],
   "source": [
    "len(times)"
   ]
  },
  {
   "cell_type": "code",
   "execution_count": 50,
   "metadata": {
    "collapsed": false
   },
   "outputs": [
    {
     "data": {
      "text/html": [
       "<div>\n",
       "<table border=\"1\" class=\"dataframe\">\n",
       "  <thead>\n",
       "    <tr style=\"text-align: right;\">\n",
       "      <th></th>\n",
       "      <th>0</th>\n",
       "      <th>1</th>\n",
       "    </tr>\n",
       "  </thead>\n",
       "  <tbody>\n",
       "    <tr>\n",
       "      <th>0</th>\n",
       "      <td>0</td>\n",
       "      <td>3069</td>\n",
       "    </tr>\n",
       "    <tr>\n",
       "      <th>1</th>\n",
       "      <td>1</td>\n",
       "      <td>212</td>\n",
       "    </tr>\n",
       "    <tr>\n",
       "      <th>2</th>\n",
       "      <td>2</td>\n",
       "      <td>61</td>\n",
       "    </tr>\n",
       "    <tr>\n",
       "      <th>3</th>\n",
       "      <td>3</td>\n",
       "      <td>44</td>\n",
       "    </tr>\n",
       "    <tr>\n",
       "      <th>4</th>\n",
       "      <td>4</td>\n",
       "      <td>43</td>\n",
       "    </tr>\n",
       "  </tbody>\n",
       "</table>\n",
       "</div>"
      ],
      "text/plain": [
       "   0     1\n",
       "0  0  3069\n",
       "1  1   212\n",
       "2  2    61\n",
       "3  3    44\n",
       "4  4    43"
      ]
     },
     "execution_count": 50,
     "metadata": {},
     "output_type": "execute_result"
    }
   ],
   "source": [
    "pd.DataFrame.from_dict(Counter(times).items()).head()"
   ]
  },
  {
   "cell_type": "code",
   "execution_count": 51,
   "metadata": {
    "collapsed": false
   },
   "outputs": [],
   "source": [
    "d.reset_index(drop=True,inplace=True)"
   ]
  },
  {
   "cell_type": "code",
   "execution_count": 52,
   "metadata": {
    "collapsed": false
   },
   "outputs": [],
   "source": [
    "d.to_csv(\"/Users/damoncrockett/vosd.org/215-opendsd/tables/ROW.csv\",index=False)"
   ]
  },
  {
   "cell_type": "code",
   "execution_count": 66,
   "metadata": {
    "collapsed": false
   },
   "outputs": [
    {
     "data": {
      "text/plain": [
       "7149"
      ]
     },
     "execution_count": 66,
     "metadata": {},
     "output_type": "execute_result"
    }
   ],
   "source": [
    "len(d.ApprovalId)"
   ]
  },
  {
   "cell_type": "code",
   "execution_count": null,
   "metadata": {
    "collapsed": true
   },
   "outputs": [],
   "source": []
  },
  {
   "cell_type": "markdown",
   "metadata": {},
   "source": [
    "###Fees (from invoice tables)"
   ]
  },
  {
   "cell_type": "code",
   "execution_count": 53,
   "metadata": {
    "collapsed": true
   },
   "outputs": [],
   "source": [
    "DATA = \"/Users/damoncrockett/vosd.org/215-opendsd/tables/invoice_table_basic.csv\""
   ]
  },
  {
   "cell_type": "code",
   "execution_count": 54,
   "metadata": {
    "collapsed": true
   },
   "outputs": [],
   "source": [
    "di = pd.read_csv(DATA)"
   ]
  },
  {
   "cell_type": "code",
   "execution_count": 55,
   "metadata": {
    "collapsed": false
   },
   "outputs": [],
   "source": [
    "paid = di[di.InvoiceStatus=='Paid']"
   ]
  },
  {
   "cell_type": "code",
   "execution_count": 56,
   "metadata": {
    "collapsed": false
   },
   "outputs": [],
   "source": [
    "projects = list(set(list(d.ProjectId)))"
   ]
  },
  {
   "cell_type": "code",
   "execution_count": 57,
   "metadata": {
    "collapsed": false
   },
   "outputs": [
    {
     "data": {
      "text/html": [
       "<div>\n",
       "<table border=\"1\" class=\"dataframe\">\n",
       "  <thead>\n",
       "    <tr style=\"text-align: right;\">\n",
       "      <th></th>\n",
       "      <th>InvoiceId</th>\n",
       "      <th>InvoiceStatus</th>\n",
       "      <th>ProjectId</th>\n",
       "      <th>TotalAmount</th>\n",
       "      <th>PaidDate</th>\n",
       "    </tr>\n",
       "  </thead>\n",
       "  <tbody>\n",
       "    <tr>\n",
       "      <th>85</th>\n",
       "      <td>287687</td>\n",
       "      <td>Paid</td>\n",
       "      <td>2814</td>\n",
       "      <td>2848.00</td>\n",
       "      <td>2009-03-05T11:23:21</td>\n",
       "    </tr>\n",
       "    <tr>\n",
       "      <th>86</th>\n",
       "      <td>110783</td>\n",
       "      <td>Paid</td>\n",
       "      <td>2814</td>\n",
       "      <td>1700.00</td>\n",
       "      <td>2005-07-20T15:57:29</td>\n",
       "    </tr>\n",
       "    <tr>\n",
       "      <th>87</th>\n",
       "      <td>224188</td>\n",
       "      <td>Paid</td>\n",
       "      <td>2814</td>\n",
       "      <td>3834.00</td>\n",
       "      <td>2007-10-11T11:26:44</td>\n",
       "    </tr>\n",
       "    <tr>\n",
       "      <th>107</th>\n",
       "      <td>232987</td>\n",
       "      <td>Paid</td>\n",
       "      <td>3531</td>\n",
       "      <td>5000.00</td>\n",
       "      <td>2007-12-19T10:50:50</td>\n",
       "    </tr>\n",
       "    <tr>\n",
       "      <th>110</th>\n",
       "      <td>115041</td>\n",
       "      <td>Paid</td>\n",
       "      <td>3531</td>\n",
       "      <td>464.13</td>\n",
       "      <td>2005-08-17T13:41:41</td>\n",
       "    </tr>\n",
       "  </tbody>\n",
       "</table>\n",
       "</div>"
      ],
      "text/plain": [
       "     InvoiceId InvoiceStatus  ProjectId  TotalAmount             PaidDate\n",
       "85      287687          Paid       2814      2848.00  2009-03-05T11:23:21\n",
       "86      110783          Paid       2814      1700.00  2005-07-20T15:57:29\n",
       "87      224188          Paid       2814      3834.00  2007-10-11T11:26:44\n",
       "107     232987          Paid       3531      5000.00  2007-12-19T10:50:50\n",
       "110     115041          Paid       3531       464.13  2005-08-17T13:41:41"
      ]
     },
     "execution_count": 57,
     "metadata": {},
     "output_type": "execute_result"
    }
   ],
   "source": [
    "paid[paid.ProjectId.isin(projects)].head()"
   ]
  },
  {
   "cell_type": "code",
   "execution_count": 58,
   "metadata": {
    "collapsed": true
   },
   "outputs": [],
   "source": [
    "# problem: these are the total invoice amounts from projects that involve ROW permits\n",
    "# We need how much the ROW permits contribute to this total"
   ]
  },
  {
   "cell_type": "markdown",
   "metadata": {},
   "source": [
    "###New Tack: use the oft-maligned approval database"
   ]
  },
  {
   "cell_type": "code",
   "execution_count": 59,
   "metadata": {
    "collapsed": true
   },
   "outputs": [],
   "source": [
    "import sqlite3\n",
    "import json"
   ]
  },
  {
   "cell_type": "code",
   "execution_count": 60,
   "metadata": {
    "collapsed": true
   },
   "outputs": [],
   "source": [
    "con = sqlite3.connect('/Users/damoncrockett/Dropbox/thinkpad_desktop_2/DSD_sqlite_db/approvals.db')\n",
    "cur = con.cursor()"
   ]
  },
  {
   "cell_type": "code",
   "execution_count": 82,
   "metadata": {
    "collapsed": true
   },
   "outputs": [],
   "source": [
    "approvals = list(set(list(relevant.ApprovalId)))"
   ]
  },
  {
   "cell_type": "code",
   "execution_count": 68,
   "metadata": {
    "collapsed": false
   },
   "outputs": [
    {
     "name": "stdout",
     "output_type": "stream",
     "text": [
      "832\n"
     ]
    }
   ],
   "source": [
    "counter = 0\n",
    "\n",
    "for row in cur.execute('SELECT data FROM json'):\n",
    "    r = json.loads(str(row[0]).decode('zlib'))\n",
    "    if 'ApprovalId' in r and r['ApprovalId']:\n",
    "        if r['ApprovalId'] in approvals:\n",
    "            counter +=1\n",
    "print counter"
   ]
  },
  {
   "cell_type": "code",
   "execution_count": 69,
   "metadata": {
    "collapsed": true
   },
   "outputs": [],
   "source": [
    "# okay: maligned for good reason. We are missing like 5,000 permits here"
   ]
  },
  {
   "cell_type": "markdown",
   "metadata": {},
   "source": [
    "###Getting approval fees from invoices"
   ]
  },
  {
   "cell_type": "code",
   "execution_count": 70,
   "metadata": {
    "collapsed": true
   },
   "outputs": [],
   "source": [
    "con = sqlite3.connect('/Users/damoncrockett/Dropbox/thinkpad_desktop_2/DSD_sqlite_db/invoices.db')\n",
    "cur = con.cursor()"
   ]
  },
  {
   "cell_type": "code",
   "execution_count": 71,
   "metadata": {
    "collapsed": false
   },
   "outputs": [
    {
     "name": "stdout",
     "output_type": "stream",
     "text": [
      "474190\n"
     ]
    }
   ],
   "source": [
    "counter = 0\n",
    "\n",
    "for row in cur.execute('SELECT data FROM json'):\n",
    "    counter +=1\n",
    "print counter"
   ]
  },
  {
   "cell_type": "code",
   "execution_count": 74,
   "metadata": {
    "collapsed": false
   },
   "outputs": [
    {
     "name": "stdout",
     "output_type": "stream",
     "text": [
      "472706 Counter({1: 468508, 2: 2391, 3: 644, 4: 362, 5: 242, 6: 128, 7: 85, 8: 80, 9: 53, 10: 31, 11: 27, 13: 17, 12: 13, 16: 11, 19: 11, 20: 11, 26: 10, 14: 9, 18: 9, 21: 9, 15: 6, 17: 6, 25: 5, 23: 4, 22: 3, 33: 3, 36: 3, 58: 3, 63: 3, 24: 2, 29: 2, 39: 2, 59: 2, 62: 2, 27: 1, 28: 1, 32: 1, 42: 1, 44: 1, 46: 1, 47: 1, 60: 1, 72: 1})\n"
     ]
    }
   ],
   "source": [
    "counter = 0\n",
    "l = []\n",
    "\n",
    "for row in cur.execute('SELECT data FROM json'):\n",
    "    r = json.loads(str(row[0]).decode('zlib'))\n",
    "    if 'ProjectDetails' in r and r['ProjectDetails']:\n",
    "        counter +=1\n",
    "        n = len(r['ProjectDetails'])\n",
    "        l.append(n)\n",
    "print counter, Counter(l)"
   ]
  },
  {
   "cell_type": "code",
   "execution_count": 75,
   "metadata": {
    "collapsed": true
   },
   "outputs": [],
   "source": [
    "ids = []\n",
    "amts = []\n",
    "auths = []\n",
    "descr = []\n",
    "\n",
    "for row in cur.execute('SELECT data FROM json'):\n",
    "    r = json.loads(str(row[0]).decode('zlib'))\n",
    "    if 'ProjectDetails' in r and r['ProjectDetails']:\n",
    "        tmp = r['ProjectDetails']\n",
    "        n = len(tmp)\n",
    "        for i in range(n):\n",
    "            if 'Jobs' in tmp[i] and tmp[i]['Jobs']:\n",
    "                tmp2 = tmp[i]['Jobs']\n",
    "                m = len(tmp2)\n",
    "                for i in range(m):\n",
    "                    if 'ApprovalInfo' in tmp2[i] and tmp2[i]['ApprovalInfo']:\n",
    "                        tmp3 = tmp2[i]['ApprovalInfo']\n",
    "                        k = len(tmp3)\n",
    "                        for i in range(k):\n",
    "                            if 'ApprovalFees' in tmp3[i] and tmp3[i]['ApprovalFees']:\n",
    "                                tmp4 = tmp3[i]['ApprovalFees']\n",
    "                                l = len(tmp4)\n",
    "                                for i in range(l):\n",
    "                                    if 'ApprovalId' in tmp4[i] and tmp4[i]['ApprovalId']:\n",
    "                                        ids.append(tmp4[i]['ApprovalId'])\n",
    "                                    else:\n",
    "                                        ids.append('missing')\n",
    "                                    if 'FeeAmount' in tmp4[i] and tmp4[i]['FeeAmount']:\n",
    "                                        amts.append(tmp4[i]['FeeAmount'])\n",
    "                                    else:\n",
    "                                        amts.append('missing')\n",
    "                                    if 'FeeAuthority' in tmp4[i] and tmp4[i]['FeeAuthority']:\n",
    "                                        auths.append(tmp4[i]['FeeAuthority'])\n",
    "                                    else:\n",
    "                                        auths.append('missing')\n",
    "                                    if 'FeeDescription' in tmp4[i] and tmp4[i]['FeeDescription']:\n",
    "                                        descr.append(tmp4[i]['FeeDescription'])\n",
    "                                    else:\n",
    "                                        descr.append('missing')"
   ]
  },
  {
   "cell_type": "code",
   "execution_count": 76,
   "metadata": {
    "collapsed": false
   },
   "outputs": [
    {
     "name": "stdout",
     "output_type": "stream",
     "text": [
      "3228122 3228122 3228122 3228122\n"
     ]
    }
   ],
   "source": [
    "print len(ids), len(amts), len(auths), len(descr)"
   ]
  },
  {
   "cell_type": "code",
   "execution_count": 77,
   "metadata": {
    "collapsed": true
   },
   "outputs": [],
   "source": [
    "FEES = pd.DataFrame(ids,columns=['ApprovalId'])"
   ]
  },
  {
   "cell_type": "code",
   "execution_count": 79,
   "metadata": {
    "collapsed": false
   },
   "outputs": [],
   "source": [
    "FEES['FeeAmount'] = amts\n",
    "FEES['FeeAuthority'] = auths\n",
    "FEES['FeeDescription'] = descr"
   ]
  },
  {
   "cell_type": "code",
   "execution_count": 81,
   "metadata": {
    "collapsed": false
   },
   "outputs": [],
   "source": [
    "FEES.to_csv(\"/Users/damoncrockett/vosd.org/215-opendsd/tables/approval_fees_complete.csv\",\n",
    "            index=False,\n",
    "           encoding='utf-8')"
   ]
  },
  {
   "cell_type": "markdown",
   "metadata": {},
   "source": [
    "####Okay sweet! Now to check for specifically ROW permits..."
   ]
  },
  {
   "cell_type": "code",
   "execution_count": 83,
   "metadata": {
    "collapsed": true
   },
   "outputs": [],
   "source": [
    "FEES_ROW = FEES[FEES.ApprovalId.isin(approvals)]"
   ]
  },
  {
   "cell_type": "code",
   "execution_count": 90,
   "metadata": {
    "collapsed": false
   },
   "outputs": [],
   "source": [
    "FEES_ROW.reset_index(drop=True,inplace=True)"
   ]
  },
  {
   "cell_type": "code",
   "execution_count": 91,
   "metadata": {
    "collapsed": false
   },
   "outputs": [
    {
     "data": {
      "text/plain": [
       "float"
      ]
     },
     "execution_count": 91,
     "metadata": {},
     "output_type": "execute_result"
    }
   ],
   "source": [
    "type(FEES_ROW.FeeAmount.loc[0])"
   ]
  },
  {
   "cell_type": "code",
   "execution_count": 92,
   "metadata": {
    "collapsed": true
   },
   "outputs": [],
   "source": [
    "FEES_ROW = FEES_ROW[FEES_ROW.FeeAmount != 'missing']"
   ]
  },
  {
   "cell_type": "code",
   "execution_count": 102,
   "metadata": {
    "collapsed": false
   },
   "outputs": [
    {
     "data": {
      "text/plain": [
       "14681"
      ]
     },
     "execution_count": 102,
     "metadata": {},
     "output_type": "execute_result"
    }
   ],
   "source": [
    "len(FEES_ROW.index)"
   ]
  },
  {
   "cell_type": "code",
   "execution_count": 95,
   "metadata": {
    "collapsed": false
   },
   "outputs": [],
   "source": [
    "tmp = FEES_ROW.groupby('ApprovalId').agg(np.sum)[['FeeAmount']]"
   ]
  },
  {
   "cell_type": "code",
   "execution_count": 98,
   "metadata": {
    "collapsed": false
   },
   "outputs": [
    {
     "data": {
      "text/plain": [
       "1914.5286204837264"
      ]
     },
     "execution_count": 98,
     "metadata": {},
     "output_type": "execute_result"
    }
   ],
   "source": [
    "np.mean(tmp.FeeAmount)"
   ]
  },
  {
   "cell_type": "code",
   "execution_count": 99,
   "metadata": {
    "collapsed": false
   },
   "outputs": [
    {
     "data": {
      "text/plain": [
       "586.0"
      ]
     },
     "execution_count": 99,
     "metadata": {},
     "output_type": "execute_result"
    }
   ],
   "source": [
    "np.median(tmp.FeeAmount)"
   ]
  },
  {
   "cell_type": "code",
   "execution_count": 101,
   "metadata": {
    "collapsed": false
   },
   "outputs": [
    {
     "data": {
      "text/plain": [
       "3349"
      ]
     },
     "execution_count": 101,
     "metadata": {},
     "output_type": "execute_result"
    }
   ],
   "source": [
    "len(tmp.index)"
   ]
  },
  {
   "cell_type": "code",
   "execution_count": null,
   "metadata": {
    "collapsed": true
   },
   "outputs": [],
   "source": []
  }
 ],
 "metadata": {
  "kernelspec": {
   "display_name": "Python 2",
   "language": "python",
   "name": "python2"
  },
  "language_info": {
   "codemirror_mode": {
    "name": "ipython",
    "version": 2
   },
   "file_extension": ".py",
   "mimetype": "text/x-python",
   "name": "python",
   "nbconvert_exporter": "python",
   "pygments_lexer": "ipython2",
   "version": "2.7.10"
  }
 },
 "nbformat": 4,
 "nbformat_minor": 0
}
