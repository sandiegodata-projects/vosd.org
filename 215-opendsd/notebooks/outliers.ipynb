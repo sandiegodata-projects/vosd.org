{
 "metadata": {
  "name": "",
  "signature": "sha256:c8f1fb718061c3bb936a6f5b2bf4d3ce69bbc78cfb79f8bc8fe93dec164f4277"
 },
 "nbformat": 3,
 "nbformat_minor": 0,
 "worksheets": [
  {
   "cells": [
    {
     "cell_type": "code",
     "collapsed": false,
     "input": [
      "%matplotlib inline\n",
      "import pandas as pd\n",
      "import sqlite3\n",
      "import json\n",
      "import dateutil.parser\n",
      "import datetime\n",
      "import os\n",
      "import gzip\n",
      "import numpy as np\n",
      "import matplotlib.pyplot as plt\n",
      "from scipy.stats import *"
     ],
     "language": "python",
     "metadata": {},
     "outputs": [],
     "prompt_number": 1
    },
    {
     "cell_type": "code",
     "collapsed": false,
     "input": [
      "df = pd.read_csv('/home/damoncrockett/vosd.org/215-opendsd/approval_master.csv')"
     ],
     "language": "python",
     "metadata": {},
     "outputs": [],
     "prompt_number": 2
    },
    {
     "cell_type": "code",
     "collapsed": false,
     "input": [
      "discretionary = df[df.category == 'Discretionary']"
     ],
     "language": "python",
     "metadata": {},
     "outputs": [],
     "prompt_number": 3
    },
    {
     "cell_type": "code",
     "collapsed": false,
     "input": [
      "discretionary[discretionary.TimetoIssue > 2500].TimetoIssue.hist(bins = 150)"
     ],
     "language": "python",
     "metadata": {},
     "outputs": [
      {
       "metadata": {},
       "output_type": "pyout",
       "prompt_number": 22,
       "text": [
        "<matplotlib.axes.AxesSubplot at 0xe5ae3d0>"
       ]
      },
      {
       "metadata": {},
       "output_type": "display_data",
       "png": "[encoded data removed]",
       "text": [
        "<matplotlib.figure.Figure at 0xd296950>"
       ]
      }
     ],
     "prompt_number": 22
    },
    {
     "cell_type": "code",
     "collapsed": false,
     "input": [
      "discretionary.TimetoIssue.order().tail(42)"
     ],
     "language": "python",
     "metadata": {},
     "outputs": [
      {
       "metadata": {},
       "output_type": "pyout",
       "prompt_number": 24,
       "text": [
        "119296    2492\n",
        "34726     2561\n",
        "55090     2562\n",
        "55091     2562\n",
        "67511     2578\n",
        "244       2583\n",
        "245       2583\n",
        "246       2583\n",
        "247       2583\n",
        "92708     2613\n",
        "92709     2613\n",
        "5071      2646\n",
        "5072      2646\n",
        "5073      2646\n",
        "5074      2646\n",
        "51650     2690\n",
        "112515    2793\n",
        "112516    2793\n",
        "83982     2930\n",
        "83983     2930\n",
        "11187     2949\n",
        "11188     2949\n",
        "73689     3095\n",
        "1565      3230\n",
        "1566      3230\n",
        "1567      3230\n",
        "53239     3311\n",
        "168       3398\n",
        "24        3581\n",
        "25        3581\n",
        "26        3581\n",
        "27        3581\n",
        "39128     3593\n",
        "440       3745\n",
        "441       3745\n",
        "442       3745\n",
        "443       3745\n",
        "444       3745\n",
        "445       3745\n",
        "446       3745\n",
        "1121      3903\n",
        "155       4109\n",
        "Name: TimetoIssue, dtype: float64"
       ]
      }
     ],
     "prompt_number": 24
    },
    {
     "cell_type": "code",
     "collapsed": false,
     "input": [
      "tmp = discretionary[discretionary.TimetoIssue > 2500]"
     ],
     "language": "python",
     "metadata": {},
     "outputs": [],
     "prompt_number": 25
    },
    {
     "cell_type": "code",
     "collapsed": false,
     "input": [
      "tmp.sort(['TimetoIssue']).to_csv('/home/damoncrockett/vosd.org/215-opendsd/D_outliers_slow.csv')"
     ],
     "language": "python",
     "metadata": {},
     "outputs": [],
     "prompt_number": 26
    },
    {
     "cell_type": "code",
     "collapsed": false,
     "input": [
      "discretionary[discretionary.TimetoIssue < 100].TimetoIssue.hist(bins = 150)"
     ],
     "language": "python",
     "metadata": {},
     "outputs": [
      {
       "metadata": {},
       "output_type": "pyout",
       "prompt_number": 29,
       "text": [
        "<matplotlib.axes.AxesSubplot at 0xb19fa50>"
       ]
      },
      {
       "metadata": {},
       "output_type": "display_data",
       "png": "[encoded data removed]",
       "text": [
        "<matplotlib.figure.Figure at 0xb1a2cd0>"
       ]
      }
     ],
     "prompt_number": 29
    },
    {
     "cell_type": "code",
     "collapsed": false,
     "input": [
      "discretionary.TimetoIssue.order().head(23)"
     ],
     "language": "python",
     "metadata": {},
     "outputs": [
      {
       "metadata": {},
       "output_type": "pyout",
       "prompt_number": 37,
       "text": [
        "213242     0\n",
        "236843     0\n",
        "239379     0\n",
        "268633     0\n",
        "268634     0\n",
        "300721     0\n",
        "300722     0\n",
        "300723     0\n",
        "191594     4\n",
        "64314      6\n",
        "298282    16\n",
        "298283    16\n",
        "298284    16\n",
        "90975     19\n",
        "148775    20\n",
        "164475    20\n",
        "82897     21\n",
        "56900     24\n",
        "58270     29\n",
        "327749    29\n",
        "191223    34\n",
        "191224    34\n",
        "139719    39\n",
        "Name: TimetoIssue, dtype: float64"
       ]
      }
     ],
     "prompt_number": 37
    },
    {
     "cell_type": "code",
     "collapsed": false,
     "input": [
      "tmp = discretionary[discretionary.TimetoIssue < 35]"
     ],
     "language": "python",
     "metadata": {},
     "outputs": [],
     "prompt_number": 38
    },
    {
     "cell_type": "code",
     "collapsed": false,
     "input": [
      "tmp.sort(['TimetoIssue']).to_csv('/home/damoncrockett/vosd.org/215-opendsd/D_outliers_fast.csv')"
     ],
     "language": "python",
     "metadata": {},
     "outputs": [],
     "prompt_number": 39
    }
   ],
   "metadata": {}
  }
 ]
}