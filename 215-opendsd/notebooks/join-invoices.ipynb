{
 "cells": [
  {
   "cell_type": "code",
   "execution_count": 161,
   "metadata": {
    "collapsed": true
   },
   "outputs": [],
   "source": [
    "import pandas as pd"
   ]
  },
  {
   "cell_type": "code",
   "execution_count": 162,
   "metadata": {
    "collapsed": true
   },
   "outputs": [],
   "source": [
    "di = pd.read_csv('/Users/damoncrockett/vosd.org/215-opendsd/tables/invoice_table_basic.csv')"
   ]
  },
  {
   "cell_type": "code",
   "execution_count": 163,
   "metadata": {
    "collapsed": false
   },
   "outputs": [
    {
     "data": {
      "text/html": [
       "<div style=\"max-height:1000px;max-width:1500px;overflow:auto;\">\n",
       "<table border=\"1\" class=\"dataframe\">\n",
       "  <thead>\n",
       "    <tr style=\"text-align: right;\">\n",
       "      <th></th>\n",
       "      <th>InvoiceId</th>\n",
       "      <th>InvoiceStatus</th>\n",
       "      <th>ProjectId</th>\n",
       "      <th>TotalAmount</th>\n",
       "      <th>PaidDate</th>\n",
       "    </tr>\n",
       "  </thead>\n",
       "  <tbody>\n",
       "    <tr>\n",
       "      <th>0</th>\n",
       "      <td>544002</td>\n",
       "      <td>Estimated</td>\n",
       "      <td>1001</td>\n",
       "      <td>60</td>\n",
       "      <td>NaN</td>\n",
       "    </tr>\n",
       "    <tr>\n",
       "      <th>1</th>\n",
       "      <td>340152</td>\n",
       "      <td>Estimated</td>\n",
       "      <td>1001</td>\n",
       "      <td>42</td>\n",
       "      <td>NaN</td>\n",
       "    </tr>\n",
       "    <tr>\n",
       "      <th>2</th>\n",
       "      <td>107465</td>\n",
       "      <td>Paid</td>\n",
       "      <td>1040</td>\n",
       "      <td>3000</td>\n",
       "      <td>2005-06-28T14:19:44</td>\n",
       "    </tr>\n",
       "    <tr>\n",
       "      <th>3</th>\n",
       "      <td>107464</td>\n",
       "      <td>Paid</td>\n",
       "      <td>1041</td>\n",
       "      <td>1700</td>\n",
       "      <td>2005-06-28T14:22:05</td>\n",
       "    </tr>\n",
       "    <tr>\n",
       "      <th>4</th>\n",
       "      <td>138746</td>\n",
       "      <td>Paid</td>\n",
       "      <td>1096</td>\n",
       "      <td>500</td>\n",
       "      <td>2006-02-06T13:28:54</td>\n",
       "    </tr>\n",
       "  </tbody>\n",
       "</table>\n",
       "</div>"
      ],
      "text/plain": [
       "   InvoiceId InvoiceStatus  ProjectId  TotalAmount             PaidDate\n",
       "0     544002     Estimated       1001           60                  NaN\n",
       "1     340152     Estimated       1001           42                  NaN\n",
       "2     107465          Paid       1040         3000  2005-06-28T14:19:44\n",
       "3     107464          Paid       1041         1700  2005-06-28T14:22:05\n",
       "4     138746          Paid       1096          500  2006-02-06T13:28:54"
      ]
     },
     "execution_count": 163,
     "metadata": {},
     "output_type": "execute_result"
    }
   ],
   "source": [
    "di.head()"
   ]
  },
  {
   "cell_type": "code",
   "execution_count": 164,
   "metadata": {
    "collapsed": true
   },
   "outputs": [],
   "source": [
    "from dateutil import parser"
   ]
  },
  {
   "cell_type": "code",
   "execution_count": 165,
   "metadata": {
    "collapsed": false
   },
   "outputs": [],
   "source": [
    "di = di[di.PaidDate.notnull()]"
   ]
  },
  {
   "cell_type": "code",
   "execution_count": 166,
   "metadata": {
    "collapsed": false
   },
   "outputs": [
    {
     "name": "stdout",
     "output_type": "stream",
     "text": [
      "<class 'pandas.core.frame.DataFrame'>\n",
      "Int64Index: 340688 entries, 2 to 472131\n",
      "Data columns (total 5 columns):\n",
      "InvoiceId        340688 non-null int64\n",
      "InvoiceStatus    340688 non-null object\n",
      "ProjectId        340688 non-null int64\n",
      "TotalAmount      340688 non-null float64\n",
      "PaidDate         340688 non-null object\n",
      "dtypes: float64(1), int64(2), object(2)\n",
      "memory usage: 15.6+ MB\n"
     ]
    }
   ],
   "source": [
    "di.info()"
   ]
  },
  {
   "cell_type": "code",
   "execution_count": 167,
   "metadata": {
    "collapsed": false
   },
   "outputs": [],
   "source": [
    "di.PaidDate = di.PaidDate.apply(parser.parse)"
   ]
  },
  {
   "cell_type": "code",
   "execution_count": 168,
   "metadata": {
    "collapsed": false
   },
   "outputs": [
    {
     "data": {
      "text/html": [
       "<div style=\"max-height:1000px;max-width:1500px;overflow:auto;\">\n",
       "<table border=\"1\" class=\"dataframe\">\n",
       "  <thead>\n",
       "    <tr style=\"text-align: right;\">\n",
       "      <th></th>\n",
       "      <th>InvoiceId</th>\n",
       "      <th>InvoiceStatus</th>\n",
       "      <th>ProjectId</th>\n",
       "      <th>TotalAmount</th>\n",
       "      <th>PaidDate</th>\n",
       "    </tr>\n",
       "  </thead>\n",
       "  <tbody>\n",
       "    <tr>\n",
       "      <th>2</th>\n",
       "      <td>107465</td>\n",
       "      <td>Paid</td>\n",
       "      <td>1040</td>\n",
       "      <td>3000</td>\n",
       "      <td>2005-06-28 14:19:44</td>\n",
       "    </tr>\n",
       "    <tr>\n",
       "      <th>3</th>\n",
       "      <td>107464</td>\n",
       "      <td>Paid</td>\n",
       "      <td>1041</td>\n",
       "      <td>1700</td>\n",
       "      <td>2005-06-28 14:22:05</td>\n",
       "    </tr>\n",
       "    <tr>\n",
       "      <th>4</th>\n",
       "      <td>138746</td>\n",
       "      <td>Paid</td>\n",
       "      <td>1096</td>\n",
       "      <td>500</td>\n",
       "      <td>2006-02-06 13:28:54</td>\n",
       "    </tr>\n",
       "    <tr>\n",
       "      <th>5</th>\n",
       "      <td>71395</td>\n",
       "      <td>Paid</td>\n",
       "      <td>1096</td>\n",
       "      <td>5000</td>\n",
       "      <td>2004-10-28 13:38:43</td>\n",
       "    </tr>\n",
       "    <tr>\n",
       "      <th>6</th>\n",
       "      <td>78488</td>\n",
       "      <td>Paid</td>\n",
       "      <td>1102</td>\n",
       "      <td>4490</td>\n",
       "      <td>2004-12-15 09:54:57</td>\n",
       "    </tr>\n",
       "  </tbody>\n",
       "</table>\n",
       "</div>"
      ],
      "text/plain": [
       "   InvoiceId InvoiceStatus  ProjectId  TotalAmount            PaidDate\n",
       "2     107465          Paid       1040         3000 2005-06-28 14:19:44\n",
       "3     107464          Paid       1041         1700 2005-06-28 14:22:05\n",
       "4     138746          Paid       1096          500 2006-02-06 13:28:54\n",
       "5      71395          Paid       1096         5000 2004-10-28 13:38:43\n",
       "6      78488          Paid       1102         4490 2004-12-15 09:54:57"
      ]
     },
     "execution_count": 168,
     "metadata": {},
     "output_type": "execute_result"
    }
   ],
   "source": [
    "di.head()"
   ]
  },
  {
   "cell_type": "code",
   "execution_count": 169,
   "metadata": {
    "collapsed": false
   },
   "outputs": [
    {
     "data": {
      "text/plain": [
       "224003"
      ]
     },
     "execution_count": 169,
     "metadata": {},
     "output_type": "execute_result"
    }
   ],
   "source": [
    "len(di.ProjectId.value_counts())"
   ]
  },
  {
   "cell_type": "code",
   "execution_count": 170,
   "metadata": {
    "collapsed": true
   },
   "outputs": [],
   "source": [
    "da = pd.read_csv('/Users/damoncrockett/vosd.org/215-opendsd/tables/approvals_parcels_CPA.csv')"
   ]
  },
  {
   "cell_type": "code",
   "execution_count": 171,
   "metadata": {
    "collapsed": false
   },
   "outputs": [
    {
     "data": {
      "text/plain": [
       "360725"
      ]
     },
     "execution_count": 171,
     "metadata": {},
     "output_type": "execute_result"
    }
   ],
   "source": [
    "len(da.index)"
   ]
  },
  {
   "cell_type": "code",
   "execution_count": 172,
   "metadata": {
    "collapsed": false
   },
   "outputs": [
    {
     "data": {
      "text/plain": [
       "30026"
      ]
     },
     "execution_count": 172,
     "metadata": {},
     "output_type": "execute_result"
    }
   ],
   "source": [
    "len(da.index[da.community_name.isnull()])"
   ]
  },
  {
   "cell_type": "code",
   "execution_count": 173,
   "metadata": {
    "collapsed": false
   },
   "outputs": [
    {
     "data": {
      "text/plain": [
       "237"
      ]
     },
     "execution_count": 173,
     "metadata": {},
     "output_type": "execute_result"
    }
   ],
   "source": [
    "len(da.index[da.CPA.isnull()])"
   ]
  },
  {
   "cell_type": "code",
   "execution_count": 174,
   "metadata": {
    "collapsed": false
   },
   "outputs": [
    {
     "data": {
      "text/plain": [
       "OCEAN BEACH                10862\n",
       "PACIFIC HIGHLANDS RANCH       21\n",
       "dtype: int64"
      ]
     },
     "execution_count": 174,
     "metadata": {},
     "output_type": "execute_result"
    }
   ],
   "source": [
    "da.CPA[da.community_name=='Carmel Valley'].value_counts()"
   ]
  },
  {
   "cell_type": "code",
   "execution_count": 175,
   "metadata": {
    "collapsed": false
   },
   "outputs": [
    {
     "data": {
      "text/plain": [
       "Index([u'Unnamed: 0', u'APN', u'ApplicationYear', u'TimetoIssue', u'Status', u'StreetAddress', u'Type', u'category', u'ProjectId', u'ApprovalId', u'Latitude', u'Longitude', u'CPA', u'situs_juri', u'asr_land', u'asr_impr', u'asr_total', u'shape_area', u'own_name1', u'own_name2', u'own_name3', u'ownerocc', u'taxstat', u'tranum', u'nucleus_zo', u'asr_landus', u'nucleus_us', u'unitqty', u'multi', u'lat', u'lon', u'community_name'], dtype='object')"
      ]
     },
     "execution_count": 175,
     "metadata": {},
     "output_type": "execute_result"
    }
   ],
   "source": [
    "da.columns"
   ]
  },
  {
   "cell_type": "code",
   "execution_count": 176,
   "metadata": {
    "collapsed": false
   },
   "outputs": [
    {
     "data": {
      "text/plain": [
       "32.920163000000002"
      ]
     },
     "execution_count": 176,
     "metadata": {},
     "output_type": "execute_result"
    }
   ],
   "source": [
    "da.Latitude[da.community_name=='Carmel Valley'].min()"
   ]
  },
  {
   "cell_type": "code",
   "execution_count": 177,
   "metadata": {
    "collapsed": false
   },
   "outputs": [
    {
     "data": {
      "text/plain": [
       "Carmel Valley    10862\n",
       "Ocean Beach       2730\n",
       "dtype: int64"
      ]
     },
     "execution_count": 177,
     "metadata": {},
     "output_type": "execute_result"
    }
   ],
   "source": [
    "da.community_name[da.CPA=='OCEAN BEACH'].value_counts()"
   ]
  },
  {
   "cell_type": "code",
   "execution_count": 178,
   "metadata": {
    "collapsed": false
   },
   "outputs": [
    {
     "name": "stderr",
     "output_type": "stream",
     "text": [
      "/Library/Python/2.7/site-packages/IPython/kernel/__main__.py:1: SettingWithCopyWarning: \n",
      "A value is trying to be set on a copy of a slice from a DataFrame\n",
      "\n",
      "See the the caveats in the documentation: http://pandas.pydata.org/pandas-docs/stable/indexing.html#indexing-view-versus-copy\n",
      "  if __name__ == '__main__':\n"
     ]
    }
   ],
   "source": [
    "da.CPA[da.community_name=='Carmel Valley'] = 'CARMEL VALLEY'"
   ]
  },
  {
   "cell_type": "code",
   "execution_count": 179,
   "metadata": {
    "collapsed": false
   },
   "outputs": [
    {
     "data": {
      "text/plain": [
       "MIRA MESA                              23668\n",
       "UNIVERSITY                             21148\n",
       "DOWNTOWN                               20730\n",
       "LA JOLLA                               20685\n",
       "CLAIREMONT MESA                        17395\n",
       "PENINSULA                              16397\n",
       "UPTOWN                                 15803\n",
       "NAVAJO                                 13465\n",
       "RANCHO BERNARDO                        12283\n",
       "CARMEL VALLEY                          10883\n",
       "KEARNY MESA                            10707\n",
       "GREATER NORTH PARK                     10707\n",
       "MISSION VALLEY                         10215\n",
       "PACIFIC BEACH                          10137\n",
       "SOUTHEASTERN SAN DIEGO,SOUTHEASTERN     9139\n",
       "RANCHO PENASQUITOS                      8738\n",
       "MID-CITY:CITY HEIGHTS                   8689\n",
       "SKYLINE-PARADISE HILLS                  7486\n",
       "ENCANTO NEIGHBORHOODS,SOUTHEASTERN      7293\n",
       "SCRIPPS MIRAMAR RANCH                   7268\n",
       "MID-CITY:EASTERN AREA                   7060\n",
       "OTAY MESA                               6356\n",
       "SERRA MESA                              6075\n",
       "OTAY MESA-NESTOR                        5873\n",
       "LINDA VISTA                             5207\n",
       "TIERRASANTA                             5179\n",
       "BLACK MOUNTAIN RANCH                    4987\n",
       "MID-CITY:KENSINGTON-TALMADGE            4944\n",
       "TORREY PINES                            4712\n",
       "COLLEGE AREA                            4169\n",
       "SAN YSIDRO                              4085\n",
       "OCEAN BEACH                             3748\n",
       "CARMEL MOUNTAIN RANCH                   3248\n",
       "MIDWAY-PACIFIC HIGHWAY                  3205\n",
       "GREATER GOLDEN HILL                     3146\n",
       "MID-CITY:NORMAL HEIGHTS                 2878\n",
       "MIRAMAR RANCH NORTH                     2780\n",
       "SABRE SPRINGS                           2556\n",
       "PACIFIC HIGHLANDS RANCH                 2466\n",
       "MISSION BEACH                           2377\n",
       "TORREY HILLS                            2056\n",
       "TORREY HIGHLANDS                        1960\n",
       "RANCHO ENCANTADA                        1900\n",
       "DEL MAR MESA                            1387\n",
       "BARRIO LOGAN                            1266\n",
       "BALBOA PARK                              819\n",
       "MISSION BAY PARK                         802\n",
       "RESERVE                                  791\n",
       "OLD TOWN SAN DIEGO                       473\n",
       "SAN PASQUAL                              407\n",
       "FAIRBANKS RANCH COUNTRY CLUB             269\n",
       "VIA DE LA VALLE                          151\n",
       "NCFUA SUBAREA II                         123\n",
       "MILITARY FACILITIES                       82\n",
       "EAST ELLIOTT                              74\n",
       "TIJUANA RIVER VALLEY                      37\n",
       "LOS PENASQUITOS CANYON                     4\n",
       "dtype: int64"
      ]
     },
     "execution_count": 179,
     "metadata": {},
     "output_type": "execute_result"
    }
   ],
   "source": [
    "da.CPA.value_counts()"
   ]
  },
  {
   "cell_type": "code",
   "execution_count": 180,
   "metadata": {
    "collapsed": false
   },
   "outputs": [
    {
     "data": {
      "text/plain": [
       "237"
      ]
     },
     "execution_count": 180,
     "metadata": {},
     "output_type": "execute_result"
    }
   ],
   "source": [
    "len(da.index[da.CPA.isnull()])"
   ]
  },
  {
   "cell_type": "code",
   "execution_count": 181,
   "metadata": {
    "collapsed": false
   },
   "outputs": [
    {
     "data": {
      "text/plain": [
       "Peninsula       49\n",
       "East Elliott     9\n",
       "dtype: int64"
      ]
     },
     "execution_count": 181,
     "metadata": {},
     "output_type": "execute_result"
    }
   ],
   "source": [
    "da.community_name[da.CPA.isnull()].value_counts()"
   ]
  },
  {
   "cell_type": "code",
   "execution_count": 182,
   "metadata": {
    "collapsed": false
   },
   "outputs": [
    {
     "name": "stderr",
     "output_type": "stream",
     "text": [
      "/Library/Python/2.7/site-packages/IPython/kernel/__main__.py:1: SettingWithCopyWarning: \n",
      "A value is trying to be set on a copy of a slice from a DataFrame\n",
      "\n",
      "See the the caveats in the documentation: http://pandas.pydata.org/pandas-docs/stable/indexing.html#indexing-view-versus-copy\n",
      "  if __name__ == '__main__':\n"
     ]
    }
   ],
   "source": [
    "da.CPA[da.CPA.isnull()] = da.community_name"
   ]
  },
  {
   "cell_type": "code",
   "execution_count": 183,
   "metadata": {
    "collapsed": false
   },
   "outputs": [
    {
     "data": {
      "text/plain": [
       "179"
      ]
     },
     "execution_count": 183,
     "metadata": {},
     "output_type": "execute_result"
    }
   ],
   "source": [
    "len(da.index[da.CPA.isnull()])"
   ]
  },
  {
   "cell_type": "code",
   "execution_count": 184,
   "metadata": {
    "collapsed": false
   },
   "outputs": [],
   "source": [
    "da.CPA = da.CPA.map(lambda x:str(x).lower())\n",
    "da.community_name = da.community_name.map(lambda x:str(x).lower())"
   ]
  },
  {
   "cell_type": "code",
   "execution_count": 185,
   "metadata": {
    "collapsed": false
   },
   "outputs": [
    {
     "data": {
      "text/plain": [
       "30082"
      ]
     },
     "execution_count": 185,
     "metadata": {},
     "output_type": "execute_result"
    }
   ],
   "source": [
    "len(da.index[da.CPA!=da.community_name])"
   ]
  },
  {
   "cell_type": "code",
   "execution_count": 186,
   "metadata": {
    "collapsed": false
   },
   "outputs": [
    {
     "data": {
      "text/plain": [
       "nan                     29847\n",
       "peninsula                 102\n",
       "rancho encantada           41\n",
       "mission valley             31\n",
       "military facilities        18\n",
       "barrio logan               16\n",
       "mission beach              12\n",
       "otay mesa-nestor            3\n",
       "la jolla                    3\n",
       "navajo                      2\n",
       "rancho penasquitos          2\n",
       "san ysidro                  2\n",
       "otay mesa                   1\n",
       "black mountain ranch        1\n",
       "linda vista                 1\n",
       "dtype: int64"
      ]
     },
     "execution_count": 186,
     "metadata": {},
     "output_type": "execute_result"
    }
   ],
   "source": [
    "da.community_name[da.CPA!=da.community_name].value_counts()"
   ]
  },
  {
   "cell_type": "code",
   "execution_count": 240,
   "metadata": {
    "collapsed": true
   },
   "outputs": [],
   "source": [
    "da.to_csv('/Users/damoncrockett/vosd.org/215-opendsd/tables/approvals_parcels_CPA_2.csv',index=False)"
   ]
  },
  {
   "cell_type": "code",
   "execution_count": null,
   "metadata": {
    "collapsed": true
   },
   "outputs": [],
   "source": []
  },
  {
   "cell_type": "code",
   "execution_count": 211,
   "metadata": {
    "collapsed": false
   },
   "outputs": [],
   "source": [
    "cpp = pd.read_csv('/Users/damoncrockett/vosd.org/215-opendsd/tables/by_CPA_parcels.csv')"
   ]
  },
  {
   "cell_type": "code",
   "execution_count": 192,
   "metadata": {
    "collapsed": true
   },
   "outputs": [],
   "source": [
    "import numpy as np"
   ]
  },
  {
   "cell_type": "code",
   "execution_count": 212,
   "metadata": {
    "collapsed": false
   },
   "outputs": [],
   "source": [
    "tmp = da[da.CPA!='nan'].groupby('CPA').agg({'shape_area': np.mean})"
   ]
  },
  {
   "cell_type": "code",
   "execution_count": 213,
   "metadata": {
    "collapsed": true
   },
   "outputs": [],
   "source": [
    "tmp.reset_index(inplace=True)"
   ]
  },
  {
   "cell_type": "code",
   "execution_count": 214,
   "metadata": {
    "collapsed": true
   },
   "outputs": [],
   "source": [
    "cpp['area'] = tmp['shape_area']"
   ]
  },
  {
   "cell_type": "code",
   "execution_count": 215,
   "metadata": {
    "collapsed": false
   },
   "outputs": [],
   "source": [
    "cpp['parcel_density'] = cpp.parcels/cpp.area"
   ]
  },
  {
   "cell_type": "code",
   "execution_count": 216,
   "metadata": {
    "collapsed": false
   },
   "outputs": [
    {
     "data": {
      "text/html": [
       "<div style=\"max-height:1000px;max-width:1500px;overflow:auto;\">\n",
       "<table border=\"1\" class=\"dataframe\">\n",
       "  <thead>\n",
       "    <tr style=\"text-align: right;\">\n",
       "      <th></th>\n",
       "      <th>community_name</th>\n",
       "      <th>asr_land</th>\n",
       "      <th>asr_impr</th>\n",
       "      <th>asr_total</th>\n",
       "      <th>lat</th>\n",
       "      <th>lon</th>\n",
       "      <th>parcels</th>\n",
       "      <th>area</th>\n",
       "      <th>parcel_density</th>\n",
       "    </tr>\n",
       "  </thead>\n",
       "  <tbody>\n",
       "    <tr>\n",
       "      <th>0</th>\n",
       "      <td>Balboa Park</td>\n",
       "      <td>2969.0</td>\n",
       "      <td>4452</td>\n",
       "      <td>7421</td>\n",
       "      <td>32.731725</td>\n",
       "      <td>-117.145311</td>\n",
       "      <td>85</td>\n",
       "      <td>43542228.126513</td>\n",
       "      <td>0.000002</td>\n",
       "    </tr>\n",
       "    <tr>\n",
       "      <th>1</th>\n",
       "      <td>Barrio Logan</td>\n",
       "      <td>102000.0</td>\n",
       "      <td>26971</td>\n",
       "      <td>152757</td>\n",
       "      <td>32.695733</td>\n",
       "      <td>-117.139058</td>\n",
       "      <td>867</td>\n",
       "      <td>104167.727642</td>\n",
       "      <td>0.008323</td>\n",
       "    </tr>\n",
       "    <tr>\n",
       "      <th>2</th>\n",
       "      <td>Black Mountain Ranch</td>\n",
       "      <td>255000.0</td>\n",
       "      <td>313817</td>\n",
       "      <td>572882</td>\n",
       "      <td>33.001031</td>\n",
       "      <td>-117.147235</td>\n",
       "      <td>3447</td>\n",
       "      <td>46044.885698</td>\n",
       "      <td>0.074862</td>\n",
       "    </tr>\n",
       "    <tr>\n",
       "      <th>3</th>\n",
       "      <td>Carmel Mountain Ranch</td>\n",
       "      <td>142000.0</td>\n",
       "      <td>180000</td>\n",
       "      <td>338000</td>\n",
       "      <td>32.975746</td>\n",
       "      <td>-117.072782</td>\n",
       "      <td>4035</td>\n",
       "      <td>136217.264608</td>\n",
       "      <td>0.029622</td>\n",
       "    </tr>\n",
       "    <tr>\n",
       "      <th>4</th>\n",
       "      <td>Carmel Valley</td>\n",
       "      <td>259012.5</td>\n",
       "      <td>232240</td>\n",
       "      <td>492951</td>\n",
       "      <td>32.947268</td>\n",
       "      <td>-117.226553</td>\n",
       "      <td>12838</td>\n",
       "      <td>79065.368827</td>\n",
       "      <td>0.162372</td>\n",
       "    </tr>\n",
       "  </tbody>\n",
       "</table>\n",
       "</div>"
      ],
      "text/plain": [
       "          community_name  asr_land  asr_impr  asr_total        lat  \\\n",
       "0            Balboa Park    2969.0      4452       7421  32.731725   \n",
       "1           Barrio Logan  102000.0     26971     152757  32.695733   \n",
       "2   Black Mountain Ranch  255000.0    313817     572882  33.001031   \n",
       "3  Carmel Mountain Ranch  142000.0    180000     338000  32.975746   \n",
       "4          Carmel Valley  259012.5    232240     492951  32.947268   \n",
       "\n",
       "          lon  parcels             area  parcel_density  \n",
       "0 -117.145311       85  43542228.126513        0.000002  \n",
       "1 -117.139058      867    104167.727642        0.008323  \n",
       "2 -117.147235     3447     46044.885698        0.074862  \n",
       "3 -117.072782     4035    136217.264608        0.029622  \n",
       "4 -117.226553    12838     79065.368827        0.162372  "
      ]
     },
     "execution_count": 216,
     "metadata": {},
     "output_type": "execute_result"
    }
   ],
   "source": [
    "cpp.head()"
   ]
  },
  {
   "cell_type": "code",
   "execution_count": 232,
   "metadata": {
    "collapsed": false
   },
   "outputs": [],
   "source": [
    "tmp = da[da.CPA!='nan'].groupby('CPA').size()"
   ]
  },
  {
   "cell_type": "code",
   "execution_count": 233,
   "metadata": {
    "collapsed": false
   },
   "outputs": [],
   "source": [
    "tmp = pd.DataFrame(tmp,\n",
    "                  columns = ['permit_count'])\n",
    "tmp.reset_index(inplace=True)"
   ]
  },
  {
   "cell_type": "code",
   "execution_count": 235,
   "metadata": {
    "collapsed": false
   },
   "outputs": [],
   "source": [
    "cpp['permit_count'] = tmp.permit_count"
   ]
  },
  {
   "cell_type": "code",
   "execution_count": 236,
   "metadata": {
    "collapsed": false
   },
   "outputs": [
    {
     "data": {
      "text/html": [
       "<div style=\"max-height:1000px;max-width:1500px;overflow:auto;\">\n",
       "<table border=\"1\" class=\"dataframe\">\n",
       "  <thead>\n",
       "    <tr style=\"text-align: right;\">\n",
       "      <th></th>\n",
       "      <th>community_name</th>\n",
       "      <th>asr_land</th>\n",
       "      <th>asr_impr</th>\n",
       "      <th>asr_total</th>\n",
       "      <th>lat</th>\n",
       "      <th>lon</th>\n",
       "      <th>parcels</th>\n",
       "      <th>area</th>\n",
       "      <th>parcel_density</th>\n",
       "      <th>permit_count</th>\n",
       "    </tr>\n",
       "  </thead>\n",
       "  <tbody>\n",
       "    <tr>\n",
       "      <th>0</th>\n",
       "      <td>Balboa Park</td>\n",
       "      <td>2969.0</td>\n",
       "      <td>4452</td>\n",
       "      <td>7421</td>\n",
       "      <td>32.731725</td>\n",
       "      <td>-117.145311</td>\n",
       "      <td>85</td>\n",
       "      <td>43542228.126513</td>\n",
       "      <td>0.000002</td>\n",
       "      <td>819</td>\n",
       "    </tr>\n",
       "    <tr>\n",
       "      <th>1</th>\n",
       "      <td>Barrio Logan</td>\n",
       "      <td>102000.0</td>\n",
       "      <td>26971</td>\n",
       "      <td>152757</td>\n",
       "      <td>32.695733</td>\n",
       "      <td>-117.139058</td>\n",
       "      <td>867</td>\n",
       "      <td>104167.727642</td>\n",
       "      <td>0.008323</td>\n",
       "      <td>1266</td>\n",
       "    </tr>\n",
       "    <tr>\n",
       "      <th>2</th>\n",
       "      <td>Black Mountain Ranch</td>\n",
       "      <td>255000.0</td>\n",
       "      <td>313817</td>\n",
       "      <td>572882</td>\n",
       "      <td>33.001031</td>\n",
       "      <td>-117.147235</td>\n",
       "      <td>3447</td>\n",
       "      <td>46044.885698</td>\n",
       "      <td>0.074862</td>\n",
       "      <td>4987</td>\n",
       "    </tr>\n",
       "    <tr>\n",
       "      <th>3</th>\n",
       "      <td>Carmel Mountain Ranch</td>\n",
       "      <td>142000.0</td>\n",
       "      <td>180000</td>\n",
       "      <td>338000</td>\n",
       "      <td>32.975746</td>\n",
       "      <td>-117.072782</td>\n",
       "      <td>4035</td>\n",
       "      <td>136217.264608</td>\n",
       "      <td>0.029622</td>\n",
       "      <td>3248</td>\n",
       "    </tr>\n",
       "    <tr>\n",
       "      <th>4</th>\n",
       "      <td>Carmel Valley</td>\n",
       "      <td>259012.5</td>\n",
       "      <td>232240</td>\n",
       "      <td>492951</td>\n",
       "      <td>32.947268</td>\n",
       "      <td>-117.226553</td>\n",
       "      <td>12838</td>\n",
       "      <td>79065.368827</td>\n",
       "      <td>0.162372</td>\n",
       "      <td>10883</td>\n",
       "    </tr>\n",
       "  </tbody>\n",
       "</table>\n",
       "</div>"
      ],
      "text/plain": [
       "          community_name  asr_land  asr_impr  asr_total        lat  \\\n",
       "0            Balboa Park    2969.0      4452       7421  32.731725   \n",
       "1           Barrio Logan  102000.0     26971     152757  32.695733   \n",
       "2   Black Mountain Ranch  255000.0    313817     572882  33.001031   \n",
       "3  Carmel Mountain Ranch  142000.0    180000     338000  32.975746   \n",
       "4          Carmel Valley  259012.5    232240     492951  32.947268   \n",
       "\n",
       "          lon  parcels             area  parcel_density  permit_count  \n",
       "0 -117.145311       85  43542228.126513        0.000002           819  \n",
       "1 -117.139058      867    104167.727642        0.008323          1266  \n",
       "2 -117.147235     3447     46044.885698        0.074862          4987  \n",
       "3 -117.072782     4035    136217.264608        0.029622          3248  \n",
       "4 -117.226553    12838     79065.368827        0.162372         10883  "
      ]
     },
     "execution_count": 236,
     "metadata": {},
     "output_type": "execute_result"
    }
   ],
   "source": [
    "cpp.head()"
   ]
  },
  {
   "cell_type": "code",
   "execution_count": 237,
   "metadata": {
    "collapsed": true
   },
   "outputs": [],
   "source": [
    "cpp['per-par_ratio'] = cpp.permit_count/cpp.parcels"
   ]
  },
  {
   "cell_type": "code",
   "execution_count": 239,
   "metadata": {
    "collapsed": true
   },
   "outputs": [],
   "source": [
    "cpp.to_csv('/Users/damoncrockett/vosd.org/215-opendsd/tables/CPA_profiles.csv',index=False)"
   ]
  },
  {
   "cell_type": "code",
   "execution_count": null,
   "metadata": {
    "collapsed": true
   },
   "outputs": [],
   "source": []
  },
  {
   "cell_type": "code",
   "execution_count": null,
   "metadata": {
    "collapsed": true
   },
   "outputs": [],
   "source": []
  },
  {
   "cell_type": "code",
   "execution_count": null,
   "metadata": {
    "collapsed": true
   },
   "outputs": [],
   "source": []
  },
  {
   "cell_type": "code",
   "execution_count": null,
   "metadata": {
    "collapsed": true
   },
   "outputs": [],
   "source": []
  },
  {
   "cell_type": "code",
   "execution_count": 139,
   "metadata": {
    "collapsed": false
   },
   "outputs": [],
   "source": [
    "da = da[['ProjectId','CPA']]"
   ]
  },
  {
   "cell_type": "code",
   "execution_count": 140,
   "metadata": {
    "collapsed": true
   },
   "outputs": [],
   "source": [
    "da = da[da.CPA.notnull()]"
   ]
  },
  {
   "cell_type": "code",
   "execution_count": 141,
   "metadata": {
    "collapsed": false
   },
   "outputs": [
    {
     "data": {
      "text/plain": [
       "360725"
      ]
     },
     "execution_count": 141,
     "metadata": {},
     "output_type": "execute_result"
    }
   ],
   "source": [
    "len(da.index)"
   ]
  },
  {
   "cell_type": "code",
   "execution_count": 142,
   "metadata": {
    "collapsed": false
   },
   "outputs": [
    {
     "data": {
      "text/plain": [
       "214092"
      ]
     },
     "execution_count": 142,
     "metadata": {},
     "output_type": "execute_result"
    }
   ],
   "source": [
    "len(da.ProjectId.value_counts())"
   ]
  },
  {
   "cell_type": "code",
   "execution_count": 143,
   "metadata": {
    "collapsed": false
   },
   "outputs": [],
   "source": [
    "da = da.groupby('ProjectId').agg(lambda x: x.value_counts().index[0])"
   ]
  },
  {
   "cell_type": "code",
   "execution_count": 144,
   "metadata": {
    "collapsed": false
   },
   "outputs": [],
   "source": [
    "di = di.join(da,on='ProjectId')"
   ]
  },
  {
   "cell_type": "code",
   "execution_count": 145,
   "metadata": {
    "collapsed": false
   },
   "outputs": [
    {
     "name": "stdout",
     "output_type": "stream",
     "text": [
      "<class 'pandas.core.frame.DataFrame'>\n",
      "Int64Index: 340688 entries, 2 to 472131\n",
      "Data columns (total 6 columns):\n",
      "InvoiceId        340688 non-null int64\n",
      "InvoiceStatus    340688 non-null object\n",
      "ProjectId        340688 non-null int64\n",
      "TotalAmount      340688 non-null float64\n",
      "PaidDate         340688 non-null datetime64[ns]\n",
      "CPA              319458 non-null object\n",
      "dtypes: datetime64[ns](1), float64(1), int64(2), object(2)\n",
      "memory usage: 18.2+ MB\n"
     ]
    }
   ],
   "source": [
    "di.info()"
   ]
  },
  {
   "cell_type": "code",
   "execution_count": 146,
   "metadata": {
    "collapsed": true
   },
   "outputs": [],
   "source": [
    "di = di[di.CPA.notnull()]"
   ]
  },
  {
   "cell_type": "code",
   "execution_count": 147,
   "metadata": {
    "collapsed": true
   },
   "outputs": [],
   "source": [
    "di['year'] = di.PaidDate.map(lambda x:x.year)"
   ]
  },
  {
   "cell_type": "code",
   "execution_count": 148,
   "metadata": {
    "collapsed": false
   },
   "outputs": [
    {
     "data": {
      "text/html": [
       "<div style=\"max-height:1000px;max-width:1500px;overflow:auto;\">\n",
       "<table border=\"1\" class=\"dataframe\">\n",
       "  <thead>\n",
       "    <tr style=\"text-align: right;\">\n",
       "      <th></th>\n",
       "      <th>InvoiceId</th>\n",
       "      <th>InvoiceStatus</th>\n",
       "      <th>ProjectId</th>\n",
       "      <th>TotalAmount</th>\n",
       "      <th>PaidDate</th>\n",
       "      <th>CPA</th>\n",
       "      <th>year</th>\n",
       "    </tr>\n",
       "  </thead>\n",
       "  <tbody>\n",
       "    <tr>\n",
       "      <th>2</th>\n",
       "      <td>107465</td>\n",
       "      <td>Paid</td>\n",
       "      <td>1040</td>\n",
       "      <td>3000</td>\n",
       "      <td>2005-06-28 14:19:44</td>\n",
       "      <td>pacific beach</td>\n",
       "      <td>2005</td>\n",
       "    </tr>\n",
       "    <tr>\n",
       "      <th>3</th>\n",
       "      <td>107464</td>\n",
       "      <td>Paid</td>\n",
       "      <td>1041</td>\n",
       "      <td>1700</td>\n",
       "      <td>2005-06-28 14:22:05</td>\n",
       "      <td>pacific beach</td>\n",
       "      <td>2005</td>\n",
       "    </tr>\n",
       "    <tr>\n",
       "      <th>6</th>\n",
       "      <td>78488</td>\n",
       "      <td>Paid</td>\n",
       "      <td>1102</td>\n",
       "      <td>4490</td>\n",
       "      <td>2004-12-15 09:54:57</td>\n",
       "      <td>mission valley</td>\n",
       "      <td>2004</td>\n",
       "    </tr>\n",
       "    <tr>\n",
       "      <th>7</th>\n",
       "      <td>79269</td>\n",
       "      <td>Paid</td>\n",
       "      <td>1164</td>\n",
       "      <td>2500</td>\n",
       "      <td>2004-12-20 14:48:14</td>\n",
       "      <td>otay mesa</td>\n",
       "      <td>2004</td>\n",
       "    </tr>\n",
       "    <tr>\n",
       "      <th>9</th>\n",
       "      <td>22932</td>\n",
       "      <td>Paid</td>\n",
       "      <td>1287</td>\n",
       "      <td>10661</td>\n",
       "      <td>2003-12-11 10:58:10</td>\n",
       "      <td>pacific beach</td>\n",
       "      <td>2003</td>\n",
       "    </tr>\n",
       "  </tbody>\n",
       "</table>\n",
       "</div>"
      ],
      "text/plain": [
       "   InvoiceId InvoiceStatus  ProjectId  TotalAmount            PaidDate  \\\n",
       "2     107465          Paid       1040         3000 2005-06-28 14:19:44   \n",
       "3     107464          Paid       1041         1700 2005-06-28 14:22:05   \n",
       "6      78488          Paid       1102         4490 2004-12-15 09:54:57   \n",
       "7      79269          Paid       1164         2500 2004-12-20 14:48:14   \n",
       "9      22932          Paid       1287        10661 2003-12-11 10:58:10   \n",
       "\n",
       "              CPA  year  \n",
       "2   pacific beach  2005  \n",
       "3   pacific beach  2005  \n",
       "6  mission valley  2004  \n",
       "7       otay mesa  2004  \n",
       "9   pacific beach  2003  "
      ]
     },
     "execution_count": 148,
     "metadata": {},
     "output_type": "execute_result"
    }
   ],
   "source": [
    "di.head()"
   ]
  },
  {
   "cell_type": "code",
   "execution_count": 149,
   "metadata": {
    "collapsed": false
   },
   "outputs": [
    {
     "data": {
      "text/plain": [
       "Paid         317396\n",
       "Cancelled      2052\n",
       "Invoiced          9\n",
       "Voided            1\n",
       "dtype: int64"
      ]
     },
     "execution_count": 149,
     "metadata": {},
     "output_type": "execute_result"
    }
   ],
   "source": [
    "di.InvoiceStatus.value_counts()"
   ]
  },
  {
   "cell_type": "code",
   "execution_count": 150,
   "metadata": {
    "collapsed": true
   },
   "outputs": [],
   "source": [
    "di = di[di.InvoiceStatus=='Paid']"
   ]
  },
  {
   "cell_type": "code",
   "execution_count": 151,
   "metadata": {
    "collapsed": true
   },
   "outputs": [],
   "source": [
    "di.to_csv('/Users/damoncrockett/vosd.org/215-opendsd/tables/invoices_CPA.csv',index=False)"
   ]
  },
  {
   "cell_type": "code",
   "execution_count": 152,
   "metadata": {
    "collapsed": true
   },
   "outputs": [],
   "source": [
    "import numpy as np"
   ]
  },
  {
   "cell_type": "code",
   "execution_count": 153,
   "metadata": {
    "collapsed": true
   },
   "outputs": [],
   "source": [
    "di = di[(di.year > 2003) & (di.year < 2014)]"
   ]
  },
  {
   "cell_type": "code",
   "execution_count": 154,
   "metadata": {
    "collapsed": false
   },
   "outputs": [],
   "source": [
    "bc = di.groupby(['CPA','year']).agg({'TotalAmount':np.sum})"
   ]
  },
  {
   "cell_type": "code",
   "execution_count": 155,
   "metadata": {
    "collapsed": false
   },
   "outputs": [
    {
     "data": {
      "text/html": [
       "<div style=\"max-height:1000px;max-width:1500px;overflow:auto;\">\n",
       "<table border=\"1\" class=\"dataframe\">\n",
       "  <thead>\n",
       "    <tr style=\"text-align: right;\">\n",
       "      <th></th>\n",
       "      <th></th>\n",
       "      <th>TotalAmount</th>\n",
       "    </tr>\n",
       "    <tr>\n",
       "      <th>CPA</th>\n",
       "      <th>year</th>\n",
       "      <th></th>\n",
       "    </tr>\n",
       "  </thead>\n",
       "  <tbody>\n",
       "    <tr>\n",
       "      <th rowspan=\"5\" valign=\"top\">balboa park</th>\n",
       "      <th>2004</th>\n",
       "      <td>17110.40</td>\n",
       "    </tr>\n",
       "    <tr>\n",
       "      <th>2005</th>\n",
       "      <td>53552.03</td>\n",
       "    </tr>\n",
       "    <tr>\n",
       "      <th>2006</th>\n",
       "      <td>36745.85</td>\n",
       "    </tr>\n",
       "    <tr>\n",
       "      <th>2007</th>\n",
       "      <td>121946.30</td>\n",
       "    </tr>\n",
       "    <tr>\n",
       "      <th>2008</th>\n",
       "      <td>249417.29</td>\n",
       "    </tr>\n",
       "  </tbody>\n",
       "</table>\n",
       "</div>"
      ],
      "text/plain": [
       "                  TotalAmount\n",
       "CPA         year             \n",
       "balboa park 2004     17110.40\n",
       "            2005     53552.03\n",
       "            2006     36745.85\n",
       "            2007    121946.30\n",
       "            2008    249417.29"
      ]
     },
     "execution_count": 155,
     "metadata": {},
     "output_type": "execute_result"
    }
   ],
   "source": [
    "bc.head()"
   ]
  },
  {
   "cell_type": "code",
   "execution_count": 156,
   "metadata": {
    "collapsed": true
   },
   "outputs": [],
   "source": [
    "bc.to_csv('/Users/damoncrockett/vosd.org/215-opendsd/tables/fees_by_CPA_year.csv')"
   ]
  },
  {
   "cell_type": "code",
   "execution_count": 158,
   "metadata": {
    "collapsed": false
   },
   "outputs": [],
   "source": [
    "byr = di.groupby(['year']).agg({'TotalAmount':np.sum})"
   ]
  },
  {
   "cell_type": "code",
   "execution_count": 160,
   "metadata": {
    "collapsed": false
   },
   "outputs": [],
   "source": [
    "byr.to_csv('/Users/damoncrockett/vosd.org/215-opendsd/tables/total-revenue_year.csv')"
   ]
  },
  {
   "cell_type": "code",
   "execution_count": null,
   "metadata": {
    "collapsed": true
   },
   "outputs": [],
   "source": []
  }
 ],
 "metadata": {
  "kernelspec": {
   "display_name": "Python 2",
   "language": "python",
   "name": "python2"
  },
  "language_info": {
   "codemirror_mode": {
    "name": "ipython",
    "version": 2
   },
   "file_extension": ".py",
   "mimetype": "text/x-python",
   "name": "python",
   "nbconvert_exporter": "python",
   "pygments_lexer": "ipython2",
   "version": "2.7.6"
  }
 },
 "nbformat": 4,
 "nbformat_minor": 0
}
