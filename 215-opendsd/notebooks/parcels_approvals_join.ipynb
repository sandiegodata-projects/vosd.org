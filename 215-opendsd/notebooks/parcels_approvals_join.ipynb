{
 "cells": [
  {
   "cell_type": "markdown",
   "metadata": {},
   "source": [
    "# Joining DSD approvals data with SD county assessor parcel data"
   ]
  },
  {
   "cell_type": "markdown",
   "metadata": {},
   "source": [
    "### Damon Crockett for Civic Knowledge, Inc."
   ]
  },
  {
   "cell_type": "markdown",
   "metadata": {},
   "source": [
    "#### damon@civicknowledge.com"
   ]
  },
  {
   "cell_type": "code",
   "execution_count": 1,
   "metadata": {
    "collapsed": false
   },
   "outputs": [],
   "source": [
    "import pandas as pd\n",
    "from pandas.io import sql\n",
    "from sqlalchemy import create_engine"
   ]
  },
  {
   "cell_type": "code",
   "execution_count": 2,
   "metadata": {
    "collapsed": true
   },
   "outputs": [],
   "source": [
    "engine = create_engine('sqlite:////Users/damoncrockett/Dropbox/thinkpad_desktop_2/assessor-db/parcels.geodb')"
   ]
  },
  {
   "cell_type": "code",
   "execution_count": 30,
   "metadata": {
    "collapsed": false
   },
   "outputs": [],
   "source": [
    "dd = sql.read_sql(\"SELECT * FROM parcels\", engine)"
   ]
  },
  {
   "cell_type": "code",
   "execution_count": 9,
   "metadata": {
    "collapsed": false
   },
   "outputs": [
    {
     "data": {
      "text/plain": [
       "1038477"
      ]
     },
     "execution_count": 9,
     "metadata": {},
     "output_type": "execute_result"
    }
   ],
   "source": [
    "len(dd.index)"
   ]
  },
  {
   "cell_type": "code",
   "execution_count": 11,
   "metadata": {
    "collapsed": false
   },
   "outputs": [
    {
     "data": {
      "text/plain": [
       "Index([u'OGC_FID', u'GEOMETRY', u'apn', u'apn_8', u'parcelid', u'own_name1', u'own_name2', u'own_name3', u'fractint', u'own_addr1', u'own_addr2', u'own_addr3', u'own_addr4', u'own_zip', u'situs_juri', u'situs_stre', u'situs_suff', u'situs_post', u'situs_pre_', u'situs_addr', u'situs_frac', u'situs_buil', u'situs_suit', u'situs_comm', u'legldesc', u'asr_land', u'asr_impr', u'asr_total', u'doctype', u'docnmbr', u'docdate', u'acreage', u'taxstat', u'ownerocc', u'tranum', u'asr_zone', u'nucleus_zo', u'asr_landus', u'nucleus_us', u'situs_zip', u'submap', u'subname', u'unitqty', u'x_coord', u'y_coord', u'multi', u'overlay_ju', u'sub_type', u'addrno', u'addrfrac', u'addrunit', u'roadpdir', u'roadname', u'roadsfx', u'zip', u'shape_area', u'shape_len'], dtype='object')"
      ]
     },
     "execution_count": 11,
     "metadata": {},
     "output_type": "execute_result"
    }
   ],
   "source": [
    "dd.columns"
   ]
  },
  {
   "cell_type": "code",
   "execution_count": 31,
   "metadata": {
    "collapsed": false
   },
   "outputs": [],
   "source": [
    "dd = dd.iloc[:,2:]"
   ]
  },
  {
   "cell_type": "code",
   "execution_count": 42,
   "metadata": {
    "collapsed": true
   },
   "outputs": [],
   "source": [
    "dd = dd[['apn',\n",
    "         'asr_land',\n",
    "         'asr_impr',\n",
    "         'asr_total',\n",
    "         'acreage',\n",
    "         'ownerocc',\n",
    "         'tranum',\n",
    "         'nucleus_zo',\n",
    "         'asr_landus',\n",
    "         'nucleus_us',\n",
    "         'unitqty',\n",
    "         'overlay_ju',\n",
    "         'shape_area']]"
   ]
  },
  {
   "cell_type": "code",
   "execution_count": 44,
   "metadata": {
    "collapsed": false
   },
   "outputs": [
    {
     "data": {
      "text/plain": [
       "1037451"
      ]
     },
     "execution_count": 44,
     "metadata": {},
     "output_type": "execute_result"
    }
   ],
   "source": [
    "len(dd.apn.value_counts())"
   ]
  },
  {
   "cell_type": "code",
   "execution_count": 49,
   "metadata": {
    "collapsed": false
   },
   "outputs": [],
   "source": [
    "dd = dd[dd.apn.notnull()]"
   ]
  },
  {
   "cell_type": "code",
   "execution_count": 50,
   "metadata": {
    "collapsed": false
   },
   "outputs": [
    {
     "data": {
      "text/plain": [
       "1037451"
      ]
     },
     "execution_count": 50,
     "metadata": {},
     "output_type": "execute_result"
    }
   ],
   "source": [
    "len(dd.index)"
   ]
  },
  {
   "cell_type": "code",
   "execution_count": 51,
   "metadata": {
    "collapsed": true
   },
   "outputs": [],
   "source": [
    "dd.set_index('apn',inplace=True)"
   ]
  },
  {
   "cell_type": "markdown",
   "metadata": {},
   "source": [
    "## approvals table"
   ]
  },
  {
   "cell_type": "code",
   "execution_count": 22,
   "metadata": {
    "collapsed": false
   },
   "outputs": [
    {
     "name": "stderr",
     "output_type": "stream",
     "text": [
      "/Library/Python/2.7/site-packages/pandas/io/parsers.py:1164: DtypeWarning: Columns (11,14) have mixed types. Specify dtype option on import or set low_memory=False.\n",
      "  data = self._reader.read(nrows)\n"
     ]
    }
   ],
   "source": [
    "d = pd.read_csv('/Users/damoncrockett/vosd.org/215-opendsd/approval_master_FULL.csv')"
   ]
  },
  {
   "cell_type": "code",
   "execution_count": 64,
   "metadata": {
    "collapsed": false
   },
   "outputs": [
    {
     "data": {
      "text/plain": [
       "Index([u'Unnamed: 0', u'APN', u'ApplicationDate', u'ApplicationExpiration', u'ApplicationExpired', u'ApplicationMonth', u'ApplicationYear', u'ApprovalId', u'Description', u'DevelopmentId', u'DevelopmentTitle', u'IssueDate', u'IssueMonth', u'IssueYear', u'IssuedBy', u'JobId', u'Latitude', u'Longitude', u'PermitHolder', u'ProjectId', u'ProjectManager', u'ProjectManagerId', u'ProjectScope', u'Scope', u'Status', u'StreetAddress', u'TimetoIssue', u'Title', u'Type', u'category'], dtype='object')"
      ]
     },
     "execution_count": 64,
     "metadata": {},
     "output_type": "execute_result"
    }
   ],
   "source": [
    "d.columns"
   ]
  },
  {
   "cell_type": "code",
   "execution_count": 68,
   "metadata": {
    "collapsed": false
   },
   "outputs": [],
   "source": [
    "d = d[d.APN.notnull()]"
   ]
  },
  {
   "cell_type": "code",
   "execution_count": 71,
   "metadata": {
    "collapsed": false
   },
   "outputs": [],
   "source": [
    "l = pd.DataFrame(d.APN.str.split('-',3).tolist(),\n",
    "                columns = ['a','b','c','d'])"
   ]
  },
  {
   "cell_type": "code",
   "execution_count": 72,
   "metadata": {
    "collapsed": true
   },
   "outputs": [],
   "source": [
    "d.APN = l.a+l.b+l.c+l.d"
   ]
  },
  {
   "cell_type": "code",
   "execution_count": 74,
   "metadata": {
    "collapsed": false
   },
   "outputs": [],
   "source": [
    "dd.rename(columns={'apn':'APN'},inplace=True)"
   ]
  },
  {
   "cell_type": "code",
   "execution_count": 75,
   "metadata": {
    "collapsed": true
   },
   "outputs": [],
   "source": [
    "d = d.join(dd,on='APN')"
   ]
  },
  {
   "cell_type": "code",
   "execution_count": 76,
   "metadata": {
    "collapsed": false
   },
   "outputs": [
    {
     "data": {
      "text/plain": [
       "Index([u'Unnamed: 0', u'APN', u'ApplicationDate', u'ApplicationExpiration', u'ApplicationExpired', u'ApplicationMonth', u'ApplicationYear', u'ApprovalId', u'Description', u'DevelopmentId', u'DevelopmentTitle', u'IssueDate', u'IssueMonth', u'IssueYear', u'IssuedBy', u'JobId', u'Latitude', u'Longitude', u'PermitHolder', u'ProjectId', u'ProjectManager', u'ProjectManagerId', u'ProjectScope', u'Scope', u'Status', u'StreetAddress', u'TimetoIssue', u'Title', u'Type', u'category', u'asr_land', u'asr_impr', u'asr_total', u'acreage', u'ownerocc', u'tranum', u'nucleus_zo', u'asr_landus', u'nucleus_us', u'unitqty', u'overlay_ju', u'shape_area'], dtype='object')"
      ]
     },
     "execution_count": 76,
     "metadata": {},
     "output_type": "execute_result"
    }
   ],
   "source": [
    "d.columns"
   ]
  },
  {
   "cell_type": "code",
   "execution_count": 77,
   "metadata": {
    "collapsed": true
   },
   "outputs": [],
   "source": [
    "d = d[['ApplicationYear',\n",
    "       'TimetoIssue',\n",
    "       'Latitude',\n",
    "       'Longitude',\n",
    "       'Status',\n",
    "       'StreetAddress',\n",
    "       'Type',\n",
    "       'category',\n",
    "       'asr_land',\n",
    "       'asr_impr',\n",
    "       'asr_total',\n",
    "       'acreage',\n",
    "       'ownerocc',\n",
    "       'tranum',\n",
    "       'nucleus_zo',\n",
    "       'asr_landus',\n",
    "       'nucleus_us',\n",
    "       'unitqty',\n",
    "       'overlay_ju',\n",
    "       'shape_area']]"
   ]
  },
  {
   "cell_type": "code",
   "execution_count": 84,
   "metadata": {
    "collapsed": false
   },
   "outputs": [
    {
     "data": {
      "text/html": [
       "<div style=\"max-height:1000px;max-width:1500px;overflow:auto;\">\n",
       "<table border=\"1\" class=\"dataframe\">\n",
       "  <thead>\n",
       "    <tr style=\"text-align: right;\">\n",
       "      <th></th>\n",
       "      <th>ApplicationYear</th>\n",
       "      <th>TimetoIssue</th>\n",
       "      <th>Latitude</th>\n",
       "      <th>Longitude</th>\n",
       "      <th>Status</th>\n",
       "      <th>StreetAddress</th>\n",
       "      <th>Type</th>\n",
       "      <th>category</th>\n",
       "      <th>asr_land</th>\n",
       "      <th>asr_impr</th>\n",
       "      <th>asr_total</th>\n",
       "      <th>acreage</th>\n",
       "      <th>ownerocc</th>\n",
       "      <th>tranum</th>\n",
       "      <th>nucleus_zo</th>\n",
       "      <th>asr_landus</th>\n",
       "      <th>nucleus_us</th>\n",
       "      <th>unitqty</th>\n",
       "      <th>overlay_ju</th>\n",
       "      <th>shape_area</th>\n",
       "    </tr>\n",
       "  </thead>\n",
       "  <tbody>\n",
       "    <tr>\n",
       "      <th>0</th>\n",
       "      <td>2009</td>\n",
       "      <td>999</td>\n",
       "      <td>32.727100</td>\n",
       "      <td>-117.100900</td>\n",
       "      <td>Cancelled - Selected Approval in Error</td>\n",
       "      <td>2286 FAIRMOUNT AV</td>\n",
       "      <td>Grading + Right of Way Permit</td>\n",
       "      <td>BOTH</td>\n",
       "      <td>1400000</td>\n",
       "      <td>600000</td>\n",
       "      <td>2000000</td>\n",
       "      <td>5.5</td>\n",
       "      <td>None</td>\n",
       "      <td>08241</td>\n",
       "      <td>60</td>\n",
       "      <td>36</td>\n",
       "      <td>360</td>\n",
       "      <td>1</td>\n",
       "      <td>SD</td>\n",
       "      <td>239583.72411</td>\n",
       "    </tr>\n",
       "    <tr>\n",
       "      <th>1</th>\n",
       "      <td>2005</td>\n",
       "      <td>287</td>\n",
       "      <td>32.792299</td>\n",
       "      <td>-117.241771</td>\n",
       "      <td>Issued</td>\n",
       "      <td>4026 RIVIERA DR</td>\n",
       "      <td>Coastal Development Permit</td>\n",
       "      <td>Discretionary</td>\n",
       "      <td>NaN</td>\n",
       "      <td>NaN</td>\n",
       "      <td>NaN</td>\n",
       "      <td>NaN</td>\n",
       "      <td>NaN</td>\n",
       "      <td>NaN</td>\n",
       "      <td>NaN</td>\n",
       "      <td>NaN</td>\n",
       "      <td>NaN</td>\n",
       "      <td>NaN</td>\n",
       "      <td>NaN</td>\n",
       "      <td>NaN</td>\n",
       "    </tr>\n",
       "    <tr>\n",
       "      <th>2</th>\n",
       "      <td>2005</td>\n",
       "      <td>287</td>\n",
       "      <td>32.792299</td>\n",
       "      <td>-117.241771</td>\n",
       "      <td>Issued</td>\n",
       "      <td>4026 RIVIERA DR</td>\n",
       "      <td>Tentative Map</td>\n",
       "      <td>Discretionary</td>\n",
       "      <td>NaN</td>\n",
       "      <td>NaN</td>\n",
       "      <td>NaN</td>\n",
       "      <td>NaN</td>\n",
       "      <td>NaN</td>\n",
       "      <td>NaN</td>\n",
       "      <td>NaN</td>\n",
       "      <td>NaN</td>\n",
       "      <td>NaN</td>\n",
       "      <td>NaN</td>\n",
       "      <td>NaN</td>\n",
       "      <td>NaN</td>\n",
       "    </tr>\n",
       "    <tr>\n",
       "      <th>3</th>\n",
       "      <td>2005</td>\n",
       "      <td>287</td>\n",
       "      <td>32.792570</td>\n",
       "      <td>-117.241852</td>\n",
       "      <td>Issued</td>\n",
       "      <td>4040 RIVIERA DR</td>\n",
       "      <td>Coastal Development Permit</td>\n",
       "      <td>Discretionary</td>\n",
       "      <td>NaN</td>\n",
       "      <td>NaN</td>\n",
       "      <td>NaN</td>\n",
       "      <td>NaN</td>\n",
       "      <td>NaN</td>\n",
       "      <td>NaN</td>\n",
       "      <td>NaN</td>\n",
       "      <td>NaN</td>\n",
       "      <td>NaN</td>\n",
       "      <td>NaN</td>\n",
       "      <td>NaN</td>\n",
       "      <td>NaN</td>\n",
       "    </tr>\n",
       "    <tr>\n",
       "      <th>4</th>\n",
       "      <td>2005</td>\n",
       "      <td>287</td>\n",
       "      <td>32.792570</td>\n",
       "      <td>-117.241852</td>\n",
       "      <td>Issued</td>\n",
       "      <td>4040 RIVIERA DR</td>\n",
       "      <td>Tentative Map</td>\n",
       "      <td>Discretionary</td>\n",
       "      <td>NaN</td>\n",
       "      <td>NaN</td>\n",
       "      <td>NaN</td>\n",
       "      <td>NaN</td>\n",
       "      <td>NaN</td>\n",
       "      <td>NaN</td>\n",
       "      <td>NaN</td>\n",
       "      <td>NaN</td>\n",
       "      <td>NaN</td>\n",
       "      <td>NaN</td>\n",
       "      <td>NaN</td>\n",
       "      <td>NaN</td>\n",
       "    </tr>\n",
       "  </tbody>\n",
       "</table>\n",
       "</div>"
      ],
      "text/plain": [
       "   ApplicationYear  TimetoIssue   Latitude   Longitude  \\\n",
       "0             2009          999  32.727100 -117.100900   \n",
       "1             2005          287  32.792299 -117.241771   \n",
       "2             2005          287  32.792299 -117.241771   \n",
       "3             2005          287  32.792570 -117.241852   \n",
       "4             2005          287  32.792570 -117.241852   \n",
       "\n",
       "                                   Status       StreetAddress  \\\n",
       "0  Cancelled - Selected Approval in Error  2286 FAIRMOUNT AV    \n",
       "1                                  Issued    4026 RIVIERA DR    \n",
       "2                                  Issued    4026 RIVIERA DR    \n",
       "3                                  Issued    4040 RIVIERA DR    \n",
       "4                                  Issued    4040 RIVIERA DR    \n",
       "\n",
       "                            Type       category  asr_land  asr_impr  \\\n",
       "0  Grading + Right of Way Permit           BOTH   1400000    600000   \n",
       "1     Coastal Development Permit  Discretionary       NaN       NaN   \n",
       "2                  Tentative Map  Discretionary       NaN       NaN   \n",
       "3     Coastal Development Permit  Discretionary       NaN       NaN   \n",
       "4                  Tentative Map  Discretionary       NaN       NaN   \n",
       "\n",
       "   asr_total  acreage ownerocc tranum nucleus_zo  asr_landus nucleus_us  \\\n",
       "0    2000000      5.5     None  08241         60          36        360   \n",
       "1        NaN      NaN      NaN    NaN        NaN         NaN        NaN   \n",
       "2        NaN      NaN      NaN    NaN        NaN         NaN        NaN   \n",
       "3        NaN      NaN      NaN    NaN        NaN         NaN        NaN   \n",
       "4        NaN      NaN      NaN    NaN        NaN         NaN        NaN   \n",
       "\n",
       "   unitqty overlay_ju    shape_area  \n",
       "0        1         SD  239583.72411  \n",
       "1      NaN        NaN           NaN  \n",
       "2      NaN        NaN           NaN  \n",
       "3      NaN        NaN           NaN  \n",
       "4      NaN        NaN           NaN  "
      ]
     },
     "execution_count": 84,
     "metadata": {},
     "output_type": "execute_result"
    }
   ],
   "source": [
    "d.head()"
   ]
  },
  {
   "cell_type": "code",
   "execution_count": 86,
   "metadata": {
    "collapsed": false
   },
   "outputs": [],
   "source": [
    "d = d[d.asr_total.notnull()]"
   ]
  },
  {
   "cell_type": "code",
   "execution_count": 87,
   "metadata": {
    "collapsed": false
   },
   "outputs": [
    {
     "data": {
      "text/html": [
       "<div style=\"max-height:1000px;max-width:1500px;overflow:auto;\">\n",
       "<table border=\"1\" class=\"dataframe\">\n",
       "  <thead>\n",
       "    <tr style=\"text-align: right;\">\n",
       "      <th></th>\n",
       "      <th>ApplicationYear</th>\n",
       "      <th>TimetoIssue</th>\n",
       "      <th>Latitude</th>\n",
       "      <th>Longitude</th>\n",
       "      <th>Status</th>\n",
       "      <th>StreetAddress</th>\n",
       "      <th>Type</th>\n",
       "      <th>category</th>\n",
       "      <th>asr_land</th>\n",
       "      <th>asr_impr</th>\n",
       "      <th>asr_total</th>\n",
       "      <th>acreage</th>\n",
       "      <th>ownerocc</th>\n",
       "      <th>tranum</th>\n",
       "      <th>nucleus_zo</th>\n",
       "      <th>asr_landus</th>\n",
       "      <th>nucleus_us</th>\n",
       "      <th>unitqty</th>\n",
       "      <th>overlay_ju</th>\n",
       "      <th>shape_area</th>\n",
       "    </tr>\n",
       "  </thead>\n",
       "  <tbody>\n",
       "    <tr>\n",
       "      <th>0</th>\n",
       "      <td>2009</td>\n",
       "      <td>999</td>\n",
       "      <td>32.727100</td>\n",
       "      <td>-117.100900</td>\n",
       "      <td>Cancelled - Selected Approval in Error</td>\n",
       "      <td>2286 FAIRMOUNT AV</td>\n",
       "      <td>Grading + Right of Way Permit</td>\n",
       "      <td>BOTH</td>\n",
       "      <td>1400000</td>\n",
       "      <td>600000</td>\n",
       "      <td>2000000</td>\n",
       "      <td>5.50</td>\n",
       "      <td>None</td>\n",
       "      <td>08241</td>\n",
       "      <td>60</td>\n",
       "      <td>36</td>\n",
       "      <td>360</td>\n",
       "      <td>1</td>\n",
       "      <td>SD</td>\n",
       "      <td>239583.724110</td>\n",
       "    </tr>\n",
       "    <tr>\n",
       "      <th>18</th>\n",
       "      <td>2003</td>\n",
       "      <td>1802</td>\n",
       "      <td>32.849126</td>\n",
       "      <td>-117.270014</td>\n",
       "      <td>Issued</td>\n",
       "      <td>1327 COAST WK [Pending]</td>\n",
       "      <td>Construction Change - Eng.</td>\n",
       "      <td>Ministerial</td>\n",
       "      <td>63394</td>\n",
       "      <td>76908</td>\n",
       "      <td>140302</td>\n",
       "      <td>5.46</td>\n",
       "      <td>None</td>\n",
       "      <td>08228</td>\n",
       "      <td>80</td>\n",
       "      <td>11</td>\n",
       "      <td>110</td>\n",
       "      <td>1</td>\n",
       "      <td>SD</td>\n",
       "      <td>244740.430660</td>\n",
       "    </tr>\n",
       "    <tr>\n",
       "      <th>20</th>\n",
       "      <td>2008</td>\n",
       "      <td>99</td>\n",
       "      <td>32.733793</td>\n",
       "      <td>-117.212729</td>\n",
       "      <td>Issued</td>\n",
       "      <td>2021 TRUXTUN RD</td>\n",
       "      <td>Construction Change - Eng.</td>\n",
       "      <td>Ministerial</td>\n",
       "      <td>63394</td>\n",
       "      <td>76908</td>\n",
       "      <td>140302</td>\n",
       "      <td>5.46</td>\n",
       "      <td>None</td>\n",
       "      <td>08228</td>\n",
       "      <td>80</td>\n",
       "      <td>11</td>\n",
       "      <td>110</td>\n",
       "      <td>1</td>\n",
       "      <td>SD</td>\n",
       "      <td>244740.430660</td>\n",
       "    </tr>\n",
       "    <tr>\n",
       "      <th>21</th>\n",
       "      <td>2008</td>\n",
       "      <td>226</td>\n",
       "      <td>32.733793</td>\n",
       "      <td>-117.212729</td>\n",
       "      <td>Issued</td>\n",
       "      <td>2021 TRUXTUN RD</td>\n",
       "      <td>Storm Water Maintenance Agrmnt</td>\n",
       "      <td>Ministerial</td>\n",
       "      <td>63394</td>\n",
       "      <td>76908</td>\n",
       "      <td>140302</td>\n",
       "      <td>5.46</td>\n",
       "      <td>None</td>\n",
       "      <td>08228</td>\n",
       "      <td>80</td>\n",
       "      <td>11</td>\n",
       "      <td>110</td>\n",
       "      <td>1</td>\n",
       "      <td>SD</td>\n",
       "      <td>244740.430660</td>\n",
       "    </tr>\n",
       "    <tr>\n",
       "      <th>22</th>\n",
       "      <td>2003</td>\n",
       "      <td>581</td>\n",
       "      <td>32.743009</td>\n",
       "      <td>-117.234217</td>\n",
       "      <td>Issued</td>\n",
       "      <td>4135 VOLTAIRE ST</td>\n",
       "      <td>Site Development Permit</td>\n",
       "      <td>Discretionary</td>\n",
       "      <td>7320248</td>\n",
       "      <td>17777747</td>\n",
       "      <td>25097995</td>\n",
       "      <td>0.84</td>\n",
       "      <td>None</td>\n",
       "      <td>08001</td>\n",
       "      <td>50</td>\n",
       "      <td>28</td>\n",
       "      <td>280</td>\n",
       "      <td>1</td>\n",
       "      <td>SD</td>\n",
       "      <td>36624.263554</td>\n",
       "    </tr>\n",
       "  </tbody>\n",
       "</table>\n",
       "</div>"
      ],
      "text/plain": [
       "    ApplicationYear  TimetoIssue   Latitude   Longitude  \\\n",
       "0              2009          999  32.727100 -117.100900   \n",
       "18             2003         1802  32.849126 -117.270014   \n",
       "20             2008           99  32.733793 -117.212729   \n",
       "21             2008          226  32.733793 -117.212729   \n",
       "22             2003          581  32.743009 -117.234217   \n",
       "\n",
       "                                    Status            StreetAddress  \\\n",
       "0   Cancelled - Selected Approval in Error       2286 FAIRMOUNT AV    \n",
       "18                                  Issued  1327 COAST WK [Pending]   \n",
       "20                                  Issued         2021 TRUXTUN RD    \n",
       "21                                  Issued         2021 TRUXTUN RD    \n",
       "22                                  Issued        4135 VOLTAIRE ST    \n",
       "\n",
       "                              Type       category  asr_land  asr_impr  \\\n",
       "0    Grading + Right of Way Permit           BOTH   1400000    600000   \n",
       "18      Construction Change - Eng.    Ministerial     63394     76908   \n",
       "20      Construction Change - Eng.    Ministerial     63394     76908   \n",
       "21  Storm Water Maintenance Agrmnt    Ministerial     63394     76908   \n",
       "22         Site Development Permit  Discretionary   7320248  17777747   \n",
       "\n",
       "    asr_total  acreage ownerocc tranum nucleus_zo  asr_landus nucleus_us  \\\n",
       "0     2000000     5.50     None  08241         60          36        360   \n",
       "18     140302     5.46     None  08228         80          11        110   \n",
       "20     140302     5.46     None  08228         80          11        110   \n",
       "21     140302     5.46     None  08228         80          11        110   \n",
       "22   25097995     0.84     None  08001         50          28        280   \n",
       "\n",
       "    unitqty overlay_ju     shape_area  \n",
       "0         1         SD  239583.724110  \n",
       "18        1         SD  244740.430660  \n",
       "20        1         SD  244740.430660  \n",
       "21        1         SD  244740.430660  \n",
       "22        1         SD   36624.263554  "
      ]
     },
     "execution_count": 87,
     "metadata": {},
     "output_type": "execute_result"
    }
   ],
   "source": [
    "d.head()"
   ]
  },
  {
   "cell_type": "code",
   "execution_count": 88,
   "metadata": {
    "collapsed": true
   },
   "outputs": [],
   "source": [
    "d.to_csv('/Users/damoncrockett/vosd.org/215-opendsd/approvals_parcels.csv',encoding='utf-8')"
   ]
  }
 ],
 "metadata": {
  "kernelspec": {
   "display_name": "Python 2",
   "language": "python",
   "name": "python2"
  },
  "language_info": {
   "codemirror_mode": {
    "name": "ipython",
    "version": 2
   },
   "file_extension": ".py",
   "mimetype": "text/x-python",
   "name": "python",
   "nbconvert_exporter": "python",
   "pygments_lexer": "ipython2",
   "version": "2.7.6"
  }
 },
 "nbformat": 4,
 "nbformat_minor": 0
}
