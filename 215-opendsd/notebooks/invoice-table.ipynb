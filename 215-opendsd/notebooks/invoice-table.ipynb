{
 "cells": [
  {
   "cell_type": "code",
   "execution_count": 141,
   "metadata": {
    "collapsed": false
   },
   "outputs": [],
   "source": [
    "import pandas as pd\n",
    "import sqlite3\n",
    "import json"
   ]
  },
  {
   "cell_type": "code",
   "execution_count": 142,
   "metadata": {
    "collapsed": false
   },
   "outputs": [],
   "source": [
    "con = sqlite3.connect('/Users/damoncrockett/Dropbox/thinkpad_desktop_2/DSD_sqlite_db/invoices.db')\n",
    "cur = con.cursor()"
   ]
  },
  {
   "cell_type": "code",
   "execution_count": 4,
   "metadata": {
    "collapsed": false
   },
   "outputs": [
    {
     "data": {
      "text/plain": [
       "474190"
      ]
     },
     "execution_count": 4,
     "metadata": {},
     "output_type": "execute_result"
    }
   ],
   "source": [
    "count = 0\n",
    "for row in cur.execute('SELECT data FROM json'):\n",
    "    count +=1\n",
    "count"
   ]
  },
  {
   "cell_type": "code",
   "execution_count": 5,
   "metadata": {
    "collapsed": false
   },
   "outputs": [
    {
     "data": {
      "text/plain": [
       "472747"
      ]
     },
     "execution_count": 5,
     "metadata": {},
     "output_type": "execute_result"
    }
   ],
   "source": [
    "count = 0\n",
    "for row in cur.execute('SELECT data FROM json'):\n",
    "    d = json.loads(str(row[0]).decode('zlib'))\n",
    "    if 'InvoiceId' in d:\n",
    "        count +=1\n",
    "count"
   ]
  },
  {
   "cell_type": "code",
   "execution_count": 6,
   "metadata": {
    "collapsed": false
   },
   "outputs": [
    {
     "data": {
      "text/plain": [
       "472747"
      ]
     },
     "execution_count": 6,
     "metadata": {},
     "output_type": "execute_result"
    }
   ],
   "source": [
    "count = 0\n",
    "for row in cur.execute('SELECT data FROM json'):\n",
    "    d = json.loads(str(row[0]).decode('zlib'))\n",
    "    if 'Status' in d and d['Status']:\n",
    "        count +=1\n",
    "count"
   ]
  },
  {
   "cell_type": "code",
   "execution_count": 137,
   "metadata": {
    "collapsed": false
   },
   "outputs": [
    {
     "data": {
      "text/plain": [
       "472747"
      ]
     },
     "execution_count": 137,
     "metadata": {},
     "output_type": "execute_result"
    }
   ],
   "source": [
    "count = 0\n",
    "for row in cur.execute('SELECT data FROM json'):\n",
    "    d = json.loads(str(row[0]).decode('zlib'))\n",
    "    if 'PaidDate' in d:\n",
    "        count +=1\n",
    "count"
   ]
  },
  {
   "cell_type": "code",
   "execution_count": 58,
   "metadata": {
    "collapsed": false
   },
   "outputs": [
    {
     "data": {
      "text/plain": [
       "297571"
      ]
     },
     "execution_count": 58,
     "metadata": {},
     "output_type": "execute_result"
    }
   ],
   "source": [
    "count = 0\n",
    "for row in cur.execute('SELECT data FROM json'):\n",
    "    d = json.loads(str(row[0]).decode('zlib'))\n",
    "    if 'CustomerFirmName' in d and d['CustomerFirmName']:\n",
    "        count +=1\n",
    "count"
   ]
  },
  {
   "cell_type": "code",
   "execution_count": 59,
   "metadata": {
    "collapsed": false
   },
   "outputs": [
    {
     "data": {
      "text/plain": [
       "458743"
      ]
     },
     "execution_count": 59,
     "metadata": {},
     "output_type": "execute_result"
    }
   ],
   "source": [
    "count = 0\n",
    "for row in cur.execute('SELECT data FROM json'):\n",
    "    d = json.loads(str(row[0]).decode('zlib'))\n",
    "    if 'TotalAmount' in d and d['TotalAmount']:\n",
    "        count +=1\n",
    "count"
   ]
  },
  {
   "cell_type": "code",
   "execution_count": 10,
   "metadata": {
    "collapsed": false
   },
   "outputs": [
    {
     "data": {
      "text/plain": [
       "472706"
      ]
     },
     "execution_count": 10,
     "metadata": {},
     "output_type": "execute_result"
    }
   ],
   "source": [
    "count = 0\n",
    "for row in cur.execute('SELECT data FROM json'):\n",
    "    d = json.loads(str(row[0]).decode('zlib'))\n",
    "    if 'ProjectDetails' in d and d['ProjectDetails']:\n",
    "        count +=1\n",
    "count"
   ]
  },
  {
   "cell_type": "code",
   "execution_count": 13,
   "metadata": {
    "collapsed": false
   },
   "outputs": [],
   "source": [
    "lengths = []\n",
    "for row in cur.execute('SELECT data FROM json'):\n",
    "    d = json.loads(str(row[0]).decode('zlib'))\n",
    "    if 'ProjectDetails' in d:\n",
    "        n = len(d['ProjectDetails'])\n",
    "        lengths.append(n)"
   ]
  },
  {
   "cell_type": "code",
   "execution_count": 15,
   "metadata": {
    "collapsed": false
   },
   "outputs": [],
   "source": [
    "from collections import Counter"
   ]
  },
  {
   "cell_type": "code",
   "execution_count": 16,
   "metadata": {
    "collapsed": false
   },
   "outputs": [
    {
     "data": {
      "text/plain": [
       "Counter({1: 468508, 2: 2391, 3: 644, 4: 362, 5: 242, 6: 128, 7: 85, 8: 80, 9: 53, 0: 41, 10: 31, 11: 27, 13: 17, 12: 13, 16: 11, 19: 11, 20: 11, 26: 10, 14: 9, 18: 9, 21: 9, 15: 6, 17: 6, 25: 5, 23: 4, 22: 3, 33: 3, 36: 3, 58: 3, 63: 3, 24: 2, 29: 2, 39: 2, 59: 2, 62: 2, 27: 1, 28: 1, 32: 1, 42: 1, 44: 1, 46: 1, 47: 1, 60: 1, 72: 1})"
      ]
     },
     "execution_count": 16,
     "metadata": {},
     "output_type": "execute_result"
    }
   ],
   "source": [
    "Counter(lengths)"
   ]
  },
  {
   "cell_type": "code",
   "execution_count": 143,
   "metadata": {
    "collapsed": true
   },
   "outputs": [],
   "source": [
    "keys = ['InvoiceId',\n",
    "        'Status',\n",
    "        'TotalAmount']"
   ]
  },
  {
   "cell_type": "code",
   "execution_count": 145,
   "metadata": {
    "collapsed": false
   },
   "outputs": [],
   "source": [
    "def gen(cur):\n",
    "    for row in cur.execute('SELECT data FROM json'):\n",
    "        d = json.loads(str(row[0]).decode('zlib'))\n",
    "        if ('InvoiceId' in d and\n",
    "            d['InvoiceId'] and\n",
    "            'Status' in d and\n",
    "            d['Status'] and \n",
    "            'TotalAmount' in d and\n",
    "            d['TotalAmount']):\n",
    "            yield {key:d[key] for key in keys}"
   ]
  },
  {
   "cell_type": "code",
   "execution_count": 146,
   "metadata": {
    "collapsed": false
   },
   "outputs": [],
   "source": [
    "df = pd.DataFrame(gen(cur))"
   ]
  },
  {
   "cell_type": "code",
   "execution_count": 147,
   "metadata": {
    "collapsed": false
   },
   "outputs": [
    {
     "name": "stdout",
     "output_type": "stream",
     "text": [
      "<class 'pandas.core.frame.DataFrame'>\n",
      "Int64Index: 458743 entries, 0 to 458742\n",
      "Data columns (total 3 columns):\n",
      "InvoiceId      458743 non-null int64\n",
      "Status         458743 non-null object\n",
      "TotalAmount    458743 non-null float64\n",
      "dtypes: float64(1), int64(1), object(1)\n",
      "memory usage: 14.0+ MB\n"
     ]
    }
   ],
   "source": [
    "df.info()"
   ]
  },
  {
   "cell_type": "code",
   "execution_count": 148,
   "metadata": {
    "collapsed": true
   },
   "outputs": [],
   "source": [
    "%matplotlib inline"
   ]
  },
  {
   "cell_type": "code",
   "execution_count": 149,
   "metadata": {
    "collapsed": false
   },
   "outputs": [
    {
     "data": {
      "text/plain": [
       "<matplotlib.axes.AxesSubplot at 0x12a50b390>"
      ]
     },
     "execution_count": 149,
     "metadata": {},
     "output_type": "execute_result"
    },
    {
     "data": {
      "image/png": "[encoded data removed]",
      "text/plain": [
       "<matplotlib.figure.Figure at 0x10c1e10d0>"
      ]
     },
     "metadata": {},
     "output_type": "display_data"
    }
   ],
   "source": [
    "df[(df.TotalAmount < 10000000) & (df.TotalAmount > 1000000)].TotalAmount.hist()"
   ]
  },
  {
   "cell_type": "code",
   "execution_count": 150,
   "metadata": {
    "collapsed": false
   },
   "outputs": [
    {
     "data": {
      "text/plain": [
       "1000007249.41"
      ]
     },
     "execution_count": 150,
     "metadata": {},
     "output_type": "execute_result"
    }
   ],
   "source": [
    "df.TotalAmount.max()"
   ]
  },
  {
   "cell_type": "code",
   "execution_count": 151,
   "metadata": {
    "collapsed": false
   },
   "outputs": [
    {
     "data": {
      "text/html": [
       "<div style=\"max-height:1000px;max-width:1500px;overflow:auto;\">\n",
       "<table border=\"1\" class=\"dataframe\">\n",
       "  <thead>\n",
       "    <tr style=\"text-align: right;\">\n",
       "      <th></th>\n",
       "      <th>InvoiceId</th>\n",
       "      <th>Status</th>\n",
       "      <th>TotalAmount</th>\n",
       "    </tr>\n",
       "  </thead>\n",
       "  <tbody>\n",
       "    <tr>\n",
       "      <th>437492</th>\n",
       "      <td>559779</td>\n",
       "      <td>Estimated</td>\n",
       "      <td>1.000007e+09</td>\n",
       "    </tr>\n",
       "    <tr>\n",
       "      <th>437523</th>\n",
       "      <td>559813</td>\n",
       "      <td>Estimated</td>\n",
       "      <td>1.000007e+09</td>\n",
       "    </tr>\n",
       "  </tbody>\n",
       "</table>\n",
       "</div>"
      ],
      "text/plain": [
       "        InvoiceId     Status   TotalAmount\n",
       "437492     559779  Estimated  1.000007e+09\n",
       "437523     559813  Estimated  1.000007e+09"
      ]
     },
     "execution_count": 151,
     "metadata": {},
     "output_type": "execute_result"
    }
   ],
   "source": [
    "df[df.TotalAmount > 1000000000]"
   ]
  },
  {
   "cell_type": "code",
   "execution_count": 152,
   "metadata": {
    "collapsed": false
   },
   "outputs": [
    {
     "data": {
      "text/plain": [
       "Estimated    8\n",
       "Voided       5\n",
       "dtype: int64"
      ]
     },
     "execution_count": 152,
     "metadata": {},
     "output_type": "execute_result"
    }
   ],
   "source": [
    "df[df.TotalAmount < -100000].Status.value_counts()"
   ]
  },
  {
   "cell_type": "code",
   "execution_count": 153,
   "metadata": {
    "collapsed": false
   },
   "outputs": [
    {
     "data": {
      "text/plain": [
       "-531216.0"
      ]
     },
     "execution_count": 153,
     "metadata": {},
     "output_type": "execute_result"
    }
   ],
   "source": [
    "df.TotalAmount.min()"
   ]
  },
  {
   "cell_type": "code",
   "execution_count": 154,
   "metadata": {
    "collapsed": false
   },
   "outputs": [
    {
     "data": {
      "text/plain": [
       "956598541.3100009"
      ]
     },
     "execution_count": 154,
     "metadata": {},
     "output_type": "execute_result"
    }
   ],
   "source": [
    "sum(df.TotalAmount[(df.TotalAmount > 0) & (df.Status == 'Paid')])"
   ]
  },
  {
   "cell_type": "code",
   "execution_count": 155,
   "metadata": {
    "collapsed": false
   },
   "outputs": [
    {
     "data": {
      "text/plain": [
       "454650"
      ]
     },
     "execution_count": 155,
     "metadata": {},
     "output_type": "execute_result"
    }
   ],
   "source": [
    "len(df.index[df.TotalAmount>0])"
   ]
  },
  {
   "cell_type": "code",
   "execution_count": 156,
   "metadata": {
    "collapsed": false
   },
   "outputs": [],
   "source": [
    "payday = []\n",
    "for row in cur.execute('SELECT data FROM json'):\n",
    "    d = json.loads(str(row[0]).decode('zlib'))\n",
    "    if 'TotalAmount' in d and d['TotalAmount']:\n",
    "        if d['PaidDate']:\n",
    "            payday.append(d['PaidDate'])\n",
    "        else:\n",
    "            payday.append('nan')"
   ]
  },
  {
   "cell_type": "code",
   "execution_count": 157,
   "metadata": {
    "collapsed": true
   },
   "outputs": [],
   "source": [
    "df['PaidDate'] = payday"
   ]
  },
  {
   "cell_type": "code",
   "execution_count": null,
   "metadata": {
    "collapsed": true
   },
   "outputs": [],
   "source": []
  },
  {
   "cell_type": "code",
   "execution_count": 158,
   "metadata": {
    "collapsed": true
   },
   "outputs": [],
   "source": [
    "con = sqlite3.connect('/Users/damoncrockett/Dropbox/thinkpad_desktop_2/DSD_sqlite_db/projects.db')\n",
    "cur = con.cursor()"
   ]
  },
  {
   "cell_type": "code",
   "execution_count": 159,
   "metadata": {
    "collapsed": true
   },
   "outputs": [],
   "source": [
    "def gen(cur):\n",
    "    for row in cur.execute('SELECT data FROM json'):\n",
    "        d = json.loads(str(row[0]).decode('zlib'))\n",
    "        if 'Invoices' in d and d['Invoices']:\n",
    "            n = len(d['Invoices'])\n",
    "            for i in range(n):\n",
    "                yield d['Invoices'][i]"
   ]
  },
  {
   "cell_type": "code",
   "execution_count": 160,
   "metadata": {
    "collapsed": true
   },
   "outputs": [],
   "source": [
    "dd = pd.DataFrame(gen(cur))"
   ]
  },
  {
   "cell_type": "code",
   "execution_count": 161,
   "metadata": {
    "collapsed": false
   },
   "outputs": [
    {
     "name": "stdout",
     "output_type": "stream",
     "text": [
      "<class 'pandas.core.frame.DataFrame'>\n",
      "Int64Index: 472132 entries, 0 to 472131\n",
      "Data columns (total 4 columns):\n",
      "InvoiceId           472132 non-null int64\n",
      "InvoiceIssueDate    472132 non-null object\n",
      "InvoiceStatus       472132 non-null object\n",
      "ProjectId           472132 non-null int64\n",
      "dtypes: int64(2), object(2)\n",
      "memory usage: 18.0+ MB\n"
     ]
    }
   ],
   "source": [
    "dd.info()"
   ]
  },
  {
   "cell_type": "code",
   "execution_count": 162,
   "metadata": {
    "collapsed": false
   },
   "outputs": [
    {
     "data": {
      "text/plain": [
       "461523"
      ]
     },
     "execution_count": 162,
     "metadata": {},
     "output_type": "execute_result"
    }
   ],
   "source": [
    "len(dd.InvoiceId.value_counts())"
   ]
  },
  {
   "cell_type": "code",
   "execution_count": null,
   "metadata": {
    "collapsed": true
   },
   "outputs": [],
   "source": []
  },
  {
   "cell_type": "code",
   "execution_count": 163,
   "metadata": {
    "collapsed": false
   },
   "outputs": [],
   "source": [
    "df.set_index('InvoiceId',inplace=True)"
   ]
  },
  {
   "cell_type": "code",
   "execution_count": 164,
   "metadata": {
    "collapsed": true
   },
   "outputs": [],
   "source": [
    "dd = dd.join(df,on='InvoiceId')"
   ]
  },
  {
   "cell_type": "code",
   "execution_count": 165,
   "metadata": {
    "collapsed": false
   },
   "outputs": [
    {
     "name": "stdout",
     "output_type": "stream",
     "text": [
      "<class 'pandas.core.frame.DataFrame'>\n",
      "Int64Index: 472132 entries, 0 to 472131\n",
      "Data columns (total 7 columns):\n",
      "InvoiceId           472132 non-null int64\n",
      "InvoiceIssueDate    472132 non-null object\n",
      "InvoiceStatus       472132 non-null object\n",
      "ProjectId           472132 non-null int64\n",
      "Status              456650 non-null object\n",
      "TotalAmount         456650 non-null float64\n",
      "PaidDate            456650 non-null object\n",
      "dtypes: float64(1), int64(2), object(4)\n",
      "memory usage: 28.8+ MB\n"
     ]
    }
   ],
   "source": [
    "dd.info()"
   ]
  },
  {
   "cell_type": "code",
   "execution_count": 166,
   "metadata": {
    "collapsed": false
   },
   "outputs": [
    {
     "data": {
      "text/plain": [
       "15491"
      ]
     },
     "execution_count": 166,
     "metadata": {},
     "output_type": "execute_result"
    }
   ],
   "source": [
    "len(dd.index[dd.Status!=dd.InvoiceStatus])"
   ]
  },
  {
   "cell_type": "code",
   "execution_count": 167,
   "metadata": {
    "collapsed": true
   },
   "outputs": [],
   "source": [
    "del dd['Status']"
   ]
  },
  {
   "cell_type": "code",
   "execution_count": 168,
   "metadata": {
    "collapsed": false
   },
   "outputs": [
    {
     "data": {
      "text/html": [
       "<div style=\"max-height:1000px;max-width:1500px;overflow:auto;\">\n",
       "<table border=\"1\" class=\"dataframe\">\n",
       "  <thead>\n",
       "    <tr style=\"text-align: right;\">\n",
       "      <th></th>\n",
       "      <th>InvoiceId</th>\n",
       "      <th>InvoiceIssueDate</th>\n",
       "      <th>InvoiceStatus</th>\n",
       "      <th>ProjectId</th>\n",
       "      <th>TotalAmount</th>\n",
       "      <th>PaidDate</th>\n",
       "    </tr>\n",
       "  </thead>\n",
       "  <tbody>\n",
       "    <tr>\n",
       "      <th>0</th>\n",
       "      <td>544002</td>\n",
       "      <td>2014-04-14T10:52:59</td>\n",
       "      <td>Estimated</td>\n",
       "      <td>1001</td>\n",
       "      <td>60</td>\n",
       "      <td>nan</td>\n",
       "    </tr>\n",
       "    <tr>\n",
       "      <th>1</th>\n",
       "      <td>340152</td>\n",
       "      <td>2010-04-29T11:37:36</td>\n",
       "      <td>Estimated</td>\n",
       "      <td>1001</td>\n",
       "      <td>42</td>\n",
       "      <td>nan</td>\n",
       "    </tr>\n",
       "    <tr>\n",
       "      <th>2</th>\n",
       "      <td>107465</td>\n",
       "      <td>2005-06-28T14:02:56</td>\n",
       "      <td>Paid</td>\n",
       "      <td>1040</td>\n",
       "      <td>3000</td>\n",
       "      <td>2005-06-28T14:19:44</td>\n",
       "    </tr>\n",
       "    <tr>\n",
       "      <th>3</th>\n",
       "      <td>107464</td>\n",
       "      <td>2005-06-28T14:01:40</td>\n",
       "      <td>Paid</td>\n",
       "      <td>1041</td>\n",
       "      <td>1700</td>\n",
       "      <td>2005-06-28T14:22:05</td>\n",
       "    </tr>\n",
       "    <tr>\n",
       "      <th>4</th>\n",
       "      <td>138746</td>\n",
       "      <td>2006-02-06T12:25:07</td>\n",
       "      <td>Paid</td>\n",
       "      <td>1096</td>\n",
       "      <td>500</td>\n",
       "      <td>2006-02-06T13:28:54</td>\n",
       "    </tr>\n",
       "  </tbody>\n",
       "</table>\n",
       "</div>"
      ],
      "text/plain": [
       "   InvoiceId     InvoiceIssueDate InvoiceStatus  ProjectId  TotalAmount  \\\n",
       "0     544002  2014-04-14T10:52:59     Estimated       1001           60   \n",
       "1     340152  2010-04-29T11:37:36     Estimated       1001           42   \n",
       "2     107465  2005-06-28T14:02:56          Paid       1040         3000   \n",
       "3     107464  2005-06-28T14:01:40          Paid       1041         1700   \n",
       "4     138746  2006-02-06T12:25:07          Paid       1096          500   \n",
       "\n",
       "              PaidDate  \n",
       "0                  nan  \n",
       "1                  nan  \n",
       "2  2005-06-28T14:19:44  \n",
       "3  2005-06-28T14:22:05  \n",
       "4  2006-02-06T13:28:54  "
      ]
     },
     "execution_count": 168,
     "metadata": {},
     "output_type": "execute_result"
    }
   ],
   "source": [
    "dd.head()"
   ]
  },
  {
   "cell_type": "code",
   "execution_count": 169,
   "metadata": {
    "collapsed": false
   },
   "outputs": [],
   "source": [
    "del dd['InvoiceIssueDate']"
   ]
  },
  {
   "cell_type": "code",
   "execution_count": 170,
   "metadata": {
    "collapsed": false
   },
   "outputs": [
    {
     "data": {
      "text/html": [
       "<div style=\"max-height:1000px;max-width:1500px;overflow:auto;\">\n",
       "<table border=\"1\" class=\"dataframe\">\n",
       "  <thead>\n",
       "    <tr style=\"text-align: right;\">\n",
       "      <th></th>\n",
       "      <th>InvoiceId</th>\n",
       "      <th>InvoiceStatus</th>\n",
       "      <th>ProjectId</th>\n",
       "      <th>TotalAmount</th>\n",
       "      <th>PaidDate</th>\n",
       "    </tr>\n",
       "  </thead>\n",
       "  <tbody>\n",
       "    <tr>\n",
       "      <th>0</th>\n",
       "      <td>544002</td>\n",
       "      <td>Estimated</td>\n",
       "      <td>1001</td>\n",
       "      <td>60</td>\n",
       "      <td>nan</td>\n",
       "    </tr>\n",
       "    <tr>\n",
       "      <th>1</th>\n",
       "      <td>340152</td>\n",
       "      <td>Estimated</td>\n",
       "      <td>1001</td>\n",
       "      <td>42</td>\n",
       "      <td>nan</td>\n",
       "    </tr>\n",
       "    <tr>\n",
       "      <th>2</th>\n",
       "      <td>107465</td>\n",
       "      <td>Paid</td>\n",
       "      <td>1040</td>\n",
       "      <td>3000</td>\n",
       "      <td>2005-06-28T14:19:44</td>\n",
       "    </tr>\n",
       "    <tr>\n",
       "      <th>3</th>\n",
       "      <td>107464</td>\n",
       "      <td>Paid</td>\n",
       "      <td>1041</td>\n",
       "      <td>1700</td>\n",
       "      <td>2005-06-28T14:22:05</td>\n",
       "    </tr>\n",
       "    <tr>\n",
       "      <th>4</th>\n",
       "      <td>138746</td>\n",
       "      <td>Paid</td>\n",
       "      <td>1096</td>\n",
       "      <td>500</td>\n",
       "      <td>2006-02-06T13:28:54</td>\n",
       "    </tr>\n",
       "  </tbody>\n",
       "</table>\n",
       "</div>"
      ],
      "text/plain": [
       "   InvoiceId InvoiceStatus  ProjectId  TotalAmount             PaidDate\n",
       "0     544002     Estimated       1001           60                  nan\n",
       "1     340152     Estimated       1001           42                  nan\n",
       "2     107465          Paid       1040         3000  2005-06-28T14:19:44\n",
       "3     107464          Paid       1041         1700  2005-06-28T14:22:05\n",
       "4     138746          Paid       1096          500  2006-02-06T13:28:54"
      ]
     },
     "execution_count": 170,
     "metadata": {},
     "output_type": "execute_result"
    }
   ],
   "source": [
    "dd.head()"
   ]
  },
  {
   "cell_type": "code",
   "execution_count": 171,
   "metadata": {
    "collapsed": false
   },
   "outputs": [
    {
     "data": {
      "text/plain": [
       "226704"
      ]
     },
     "execution_count": 171,
     "metadata": {},
     "output_type": "execute_result"
    }
   ],
   "source": [
    "len(dd.ProjectId.value_counts())"
   ]
  },
  {
   "cell_type": "code",
   "execution_count": 172,
   "metadata": {
    "collapsed": true
   },
   "outputs": [],
   "source": [
    "dd.to_csv('/Users/damoncrockett/vosd.org/215-opendsd/tables/invoice_table_basic.csv',index=False)"
   ]
  },
  {
   "cell_type": "code",
   "execution_count": null,
   "metadata": {
    "collapsed": true
   },
   "outputs": [],
   "source": []
  }
 ],
 "metadata": {
  "kernelspec": {
   "display_name": "Python 2",
   "language": "python",
   "name": "python2"
  },
  "language_info": {
   "codemirror_mode": {
    "name": "ipython",
    "version": 2
   },
   "file_extension": ".py",
   "mimetype": "text/x-python",
   "name": "python",
   "nbconvert_exporter": "python",
   "pygments_lexer": "ipython2",
   "version": "2.7.6"
  }
 },
 "nbformat": 4,
 "nbformat_minor": 0
}
