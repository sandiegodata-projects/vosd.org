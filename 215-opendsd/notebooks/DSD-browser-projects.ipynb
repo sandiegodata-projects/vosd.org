{
 "cells": [
  {
   "cell_type": "code",
   "execution_count": 1,
   "metadata": {
    "collapsed": false
   },
   "outputs": [],
   "source": [
    "import sqlite3\n",
    "import json"
   ]
  },
  {
   "cell_type": "code",
   "execution_count": 2,
   "metadata": {
    "collapsed": false
   },
   "outputs": [],
   "source": [
    "con = sqlite3.connect('/Users/damoncrockett/Dropbox/thinkpad_desktop_2/DSD_sqlite_db/projects.db')\n",
    "cur = con.cursor()"
   ]
  },
  {
   "cell_type": "code",
   "execution_count": 3,
   "metadata": {
    "collapsed": false
   },
   "outputs": [],
   "source": [
    "row = cur.execute('SELECT data FROM json')"
   ]
  },
  {
   "cell_type": "code",
   "execution_count": 4,
   "metadata": {
    "collapsed": false
   },
   "outputs": [],
   "source": [
    "d = json.loads(str(row.fetchone()[0]).decode('zlib'))"
   ]
  },
  {
   "cell_type": "code",
   "execution_count": 131,
   "metadata": {
    "collapsed": false
   },
   "outputs": [
    {
     "data": {
      "text/plain": [
       "[u'ApplicationExpiration',\n",
       " u'Customers',\n",
       " u'ProjectManagerId',\n",
       " u'Jobs',\n",
       " u'AccountNum',\n",
       " u'Title',\n",
       " u'Invoices',\n",
       " u'ProjectId',\n",
       " u'JobOrderNum',\n",
       " u'ApplicationExpired',\n",
       " u'Header',\n",
       " u'DevelopmentId',\n",
       " u'AdminHold',\n",
       " u'ReviewCycles',\n",
       " u'Fees',\n",
       " u'Scope',\n",
       " u'ProjectManager',\n",
       " u'ApplicationDate',\n",
       " u'DevelopmentTitle']"
      ]
     },
     "execution_count": 131,
     "metadata": {},
     "output_type": "execute_result"
    }
   ],
   "source": [
    "d.keys()"
   ]
  },
  {
   "cell_type": "code",
   "execution_count": 137,
   "metadata": {
    "collapsed": false
   },
   "outputs": [
    {
     "data": {
      "text/plain": [
       "[{u'Category': u'Issuance Fees',\n",
       "  u'Description': u'Close Out Fee',\n",
       "  u'FeeId': 1649,\n",
       "  u'InvoiceId': 15657,\n",
       "  u'InvoiceStatus': u'Paid on ',\n",
       "  u'ProjectId': 5838,\n",
       "  u'QuantityPaid': 1,\n",
       "  u'QuantityRequired': 1,\n",
       "  u'Unit': u'Each'},\n",
       " {u'Category': u'Plan Check Fees',\n",
       "  u'Description': u'Mapping',\n",
       "  u'FeeId': 2385,\n",
       "  u'InvoiceId': 15657,\n",
       "  u'InvoiceStatus': u'Paid on ',\n",
       "  u'ProjectId': 5838,\n",
       "  u'QuantityPaid': 1,\n",
       "  u'QuantityRequired': 1,\n",
       "  u'Unit': u'Each'},\n",
       " {u'Category': u'Plan Check Fees',\n",
       "  u'Description': u'General Plan Maintenance',\n",
       "  u'FeeId': 2347,\n",
       "  u'InvoiceId': 15657,\n",
       "  u'InvoiceStatus': u'Paid on ',\n",
       "  u'ProjectId': 5838,\n",
       "  u'QuantityPaid': 1,\n",
       "  u'QuantityRequired': 1,\n",
       "  u'Unit': u'Each'},\n",
       " {u'Category': u'Plan Check Fees',\n",
       "  u'Description': u'Deposit Account',\n",
       "  u'FeeId': 1656,\n",
       "  u'InvoiceId': 89334,\n",
       "  u'InvoiceStatus': u'Requires Invoice',\n",
       "  u'ProjectId': 5838,\n",
       "  u'QuantityPaid': 10000,\n",
       "  u'QuantityRequired': 11857,\n",
       "  u'Unit': u'Dollars'},\n",
       " {u'Category': u'Plan Check Fees',\n",
       "  u'Description': u'Deposit Account',\n",
       "  u'FeeId': 1656,\n",
       "  u'InvoiceId': 123960,\n",
       "  u'InvoiceStatus': u'Invoiced on',\n",
       "  u'ProjectId': 5838,\n",
       "  u'QuantityPaid': 11857,\n",
       "  u'QuantityRequired': 11857,\n",
       "  u'Unit': u'Dollars'}]"
      ]
     },
     "execution_count": 137,
     "metadata": {},
     "output_type": "execute_result"
    }
   ],
   "source": [
    "d = json.loads(str(row.fetchone()[0]).decode('zlib'))\n",
    "d['Fees']"
   ]
  },
  {
   "cell_type": "code",
   "execution_count": 536,
   "metadata": {
    "collapsed": false,
    "scrolled": false
   },
   "outputs": [
    {
     "data": {
      "text/plain": [
       "[{u'InvoiceId': 2538,\n",
       "  u'InvoiceIssueDate': u'2003-06-04T07:52:59',\n",
       "  u'InvoiceStatus': u'Paid',\n",
       "  u'ProjectId': 9059},\n",
       " {u'InvoiceId': 7249,\n",
       "  u'InvoiceIssueDate': u'2003-08-12T14:04:07',\n",
       "  u'InvoiceStatus': u'Paid',\n",
       "  u'ProjectId': 9059}]"
      ]
     },
     "execution_count": 536,
     "metadata": {},
     "output_type": "execute_result"
    }
   ],
   "source": [
    "d = json.loads(str(row.fetchone()[0]).decode('zlib'))\n",
    "d['Invoices']"
   ]
  },
  {
   "cell_type": "code",
   "execution_count": null,
   "metadata": {
    "collapsed": true
   },
   "outputs": [],
   "source": []
  }
 ],
 "metadata": {
  "kernelspec": {
   "display_name": "Python 2",
   "language": "python",
   "name": "python2"
  },
  "language_info": {
   "codemirror_mode": {
    "name": "ipython",
    "version": 2
   },
   "file_extension": ".py",
   "mimetype": "text/x-python",
   "name": "python",
   "nbconvert_exporter": "python",
   "pygments_lexer": "ipython2",
   "version": "2.7.6"
  }
 },
 "nbformat": 4,
 "nbformat_minor": 0
}
