{
 "cells": [
  {
   "cell_type": "code",
   "execution_count": 1,
   "metadata": {
    "collapsed": true
   },
   "outputs": [],
   "source": [
    "from xml.etree import ElementTree\n",
    "import keytree\n",
    "import shapely\n",
    "from shapely.geometry import Polygon, Point, shape"
   ]
  },
  {
   "cell_type": "code",
   "execution_count": 2,
   "metadata": {
    "collapsed": true
   },
   "outputs": [],
   "source": [
    "doc = open(\"/Users/damoncrockett/vosd.org/215-opendsd/Final.kml\").read()\n",
    "tree = ElementTree.fromstring(doc)\n",
    "# kml namespace\n",
    "kmlns = tree.tag.split('}')[0][1:]\n",
    "# find all placemarks\n",
    "placemks = tree.findall(\".//{%s}Placemark\" % kmlns)\n",
    "# filter out those without polygon elements\n",
    "placemks_with_polygons = []\n",
    "\n",
    "for p in placemks:\n",
    "    if p.findall(\".//{%s}Polygon\" % kmlns):\n",
    "        placemks_with_polygons.append(p)"
   ]
  },
  {
   "cell_type": "code",
   "execution_count": 3,
   "metadata": {
    "collapsed": true
   },
   "outputs": [],
   "source": [
    "# extract kml LinearRings, convert to shapely LinearRings, make dict with cpa names\n",
    "\n",
    "def coords_names(placemks):\n",
    "  coords_names_dict = {}\n",
    "  for placemk in placemks:\n",
    "    name = placemk.getchildren()[0].text\n",
    "    coord_text = placemk.findtext(\".//{%s}coordinates\" % kmlns)\n",
    "    coords = []\n",
    "    for elems in coord_text.split():\n",
    "      points = elems.split(\",\")\n",
    "      coords.append((float(points[0]), float(points[1])))\n",
    "    coords_names_dict[Polygon(coords)] = name\n",
    "  return coords_names_dict"
   ]
  },
  {
   "cell_type": "code",
   "execution_count": 4,
   "metadata": {
    "collapsed": false
   },
   "outputs": [],
   "source": [
    "import pandas as pd\n",
    "\n",
    "cpa_polygons = pd.DataFrame(coords_names(placemks_with_polygons).items(),\n",
    "            columns=['Polygon','CPA'])"
   ]
  },
  {
   "cell_type": "code",
   "execution_count": 5,
   "metadata": {
    "collapsed": false
   },
   "outputs": [],
   "source": [
    "# import Flickr from SD\n",
    "\n",
    "d = pd.read_csv('/Users/damoncrockett/Desktop/FISP/Flickr/SD.csv',low_memory=False)"
   ]
  },
  {
   "cell_type": "code",
   "execution_count": 7,
   "metadata": {
    "collapsed": false
   },
   "outputs": [
    {
     "data": {
      "text/plain": [
       "id       NaN\n",
       "lon      NaN\n",
       "lat      NaN\n",
       "dl_url   NaN\n",
       "dtype: float64"
      ]
     },
     "execution_count": 7,
     "metadata": {},
     "output_type": "execute_result"
    }
   ],
   "source": [
    "import numpy as np\n",
    "\n",
    "np.mean(d[d.isnull()])"
   ]
  },
  {
   "cell_type": "code",
   "execution_count": 11,
   "metadata": {
    "collapsed": false
   },
   "outputs": [],
   "source": [
    "# collect all lat lon points from dataframe\n",
    "\n",
    "n = len(d.index)\n",
    "locations = []\n",
    "for i in range(n):\n",
    "    point = Point(d.lon[i],d.lat[i])\n",
    "    locations.append(point)"
   ]
  },
  {
   "cell_type": "code",
   "execution_count": 12,
   "metadata": {
    "collapsed": false
   },
   "outputs": [],
   "source": [
    "# crucial step: build spatial index\n",
    "\n",
    "from rtree import index\n",
    "idx = index.Index()\n",
    "count = -1\n",
    "for item in cpa_polygons.Polygon:\n",
    "    count +=1\n",
    "    idx.insert(count, item.bounds)"
   ]
  },
  {
   "cell_type": "code",
   "execution_count": 13,
   "metadata": {
    "collapsed": false
   },
   "outputs": [],
   "source": [
    "# assign a cpa to each point\n",
    "\n",
    "m = len(locations)\n",
    "hoods = []\n",
    "for i in range(m):\n",
    "    tmp = 'nan'\n",
    "    for j in idx.intersection((d.lon[i],d.lat[i])):\n",
    "        if locations[i].within(cpa_polygons.Polygon.loc[j]):\n",
    "            tmp = cpa_polygons.CPA[j]\n",
    "            break\n",
    "    hoods.append(tmp)"
   ]
  },
  {
   "cell_type": "code",
   "execution_count": 14,
   "metadata": {
    "collapsed": false
   },
   "outputs": [],
   "source": [
    "d['CPA'] = hoods"
   ]
  },
  {
   "cell_type": "code",
   "execution_count": 15,
   "metadata": {
    "collapsed": false
   },
   "outputs": [
    {
     "data": {
      "text/plain": [
       "DOWNTOWN                               66566\n",
       "nan                                    58329\n",
       "BALBOA PARK                            30520\n",
       "MISSION BAY PARK                       13553\n",
       "LA JOLLA                                8607\n",
       "UNIVERSITY                              8405\n",
       "SAN PASQUAL                             7336\n",
       "UPTOWN                                  7204\n",
       "MISSION VALLEY                          5293\n",
       "PENINSULA                               5224\n",
       "TIJUANA RIVER VALLEY                    3344\n",
       "MIRA MESA                               3327\n",
       "CLAIREMONT MESA                         3047\n",
       "MILITARY FACILITIES                     3036\n",
       "OTAY MESA-NESTOR                        2870\n",
       "PACIFIC BEACH                           2712\n",
       "OCEAN BEACH                             2368\n",
       "OLD TOWN SAN DIEGO                      2364\n",
       "GREATER NORTH PARK                      2277\n",
       "KEARNY MESA                             1647\n",
       "RESERVE                                 1584\n",
       "MIDWAY-PACIFIC HIGHWAY                  1536\n",
       "NAVAJO                                  1159\n",
       "COLLEGE AREA                            1120\n",
       "RANCHO ENCANTADA                         918\n",
       "GREATER GOLDEN HILL                      902\n",
       "LINDA VISTA                              851\n",
       "TIERRASANTA                              752\n",
       "MISSION BEACH                            679\n",
       "BARRIO LOGAN                             677\n",
       "RANCHO PENASQUITOS                       667\n",
       "TORREY PINES                             614\n",
       "SAN YSIDRO                               549\n",
       "MID-CITY:EASTERN AREA                    503\n",
       "RANCHO BERNARDO                          453\n",
       "MID-CITY:NORMAL HEIGHTS                  441\n",
       "SCRIPPS MIRAMAR RANCH                    425\n",
       "MID-CITY:CITY HEIGHTS                    350\n",
       "PACIFIC HIGHLANDS RANCH                  337\n",
       "SOUTHEASTERN SAN DIEGO,SOUTHEASTERN      255\n",
       "TORREY HIGHLANDS                         187\n",
       "VIA DE LA VALLE                          185\n",
       "MID-CITY:KENSINGTON-TALMADGE             183\n",
       "ENCANTO NEIGHBORHOODS,SOUTHEASTERN       182\n",
       "FAIRBANKS RANCH COUNTRY CLUB             160\n",
       "LOS PENASQUITOS CANYON                   154\n",
       "OTAY MESA                                143\n",
       "NCFUA SUBAREA II                         142\n",
       "SERRA MESA                               142\n",
       "CARMEL MOUNTAIN RANCH                    111\n",
       "TORREY HILLS                              79\n",
       "SABRE SPRINGS                             76\n",
       "MIRAMAR RANCH NORTH                       52\n",
       "SKYLINE-PARADISE HILLS                    46\n",
       "DEL MAR MESA                              42\n",
       "BLACK MOUNTAIN RANCH                      36\n",
       "EAST ELLIOTT                              17\n",
       "dtype: int64"
      ]
     },
     "execution_count": 15,
     "metadata": {},
     "output_type": "execute_result"
    }
   ],
   "source": [
    "d.CPA.value_counts()"
   ]
  },
  {
   "cell_type": "code",
   "execution_count": 16,
   "metadata": {
    "collapsed": true
   },
   "outputs": [],
   "source": [
    "d.to_csv('/Users/damoncrockett/Desktop/FISP/Flickr/SD_CPA.csv', index=False, encoding='utf-8')"
   ]
  }
 ],
 "metadata": {
  "kernelspec": {
   "display_name": "Python 2",
   "language": "python",
   "name": "python2"
  },
  "language_info": {
   "codemirror_mode": {
    "name": "ipython",
    "version": 2
   },
   "file_extension": ".py",
   "mimetype": "text/x-python",
   "name": "python",
   "nbconvert_exporter": "python",
   "pygments_lexer": "ipython2",
   "version": "2.7.10"
  }
 },
 "nbformat": 4,
 "nbformat_minor": 0
}
