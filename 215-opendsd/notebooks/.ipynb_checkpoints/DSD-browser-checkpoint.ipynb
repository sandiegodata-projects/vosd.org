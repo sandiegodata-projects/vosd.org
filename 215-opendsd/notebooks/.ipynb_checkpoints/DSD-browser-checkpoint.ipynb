{
 "cells": [
  {
   "cell_type": "code",
   "execution_count": 1,
   "metadata": {
    "collapsed": false
   },
   "outputs": [],
   "source": [
    "import sqlite3\n",
    "import json"
   ]
  },
  {
   "cell_type": "code",
   "execution_count": 2,
   "metadata": {
    "collapsed": false
   },
   "outputs": [],
   "source": [
    "con = sqlite3.connect('/Users/damoncrockett/Dropbox/thinkpad_desktop_2/DSD_sqlite_db/invoices.db')\n",
    "cur = con.cursor()"
   ]
  },
  {
   "cell_type": "code",
   "execution_count": 3,
   "metadata": {
    "collapsed": false
   },
   "outputs": [],
   "source": [
    "row = cur.execute('SELECT data FROM json')"
   ]
  },
  {
   "cell_type": "code",
   "execution_count": 451,
   "metadata": {
    "collapsed": false,
    "scrolled": false
   },
   "outputs": [
    {
     "data": {
      "text/plain": [
       "u''"
      ]
     },
     "execution_count": 451,
     "metadata": {},
     "output_type": "execute_result"
    }
   ],
   "source": [
    "d = json.loads(str(row.fetchone()[0]).decode('zlib'))\n",
    "d['ProjectDetails'][0]['Jobs'][0]['ApprovalInfo'][0]['Valuation']"
   ]
  },
  {
   "cell_type": "code",
   "execution_count": 201,
   "metadata": {
    "collapsed": false
   },
   "outputs": [
    {
     "data": {
      "text/plain": [
       "[{u'Amount': 40.0,\n",
       "  u'CostObjectNum': u'1611000017',\n",
       "  u'Fund': u'PLANNING & DEVEL REV ENTR FUND',\n",
       "  u'FundNum': u'700036',\n",
       "  u'GL': u'PLUMBING PERMITS',\n",
       "  u'GLNum': u'416080',\n",
       "  u'InvoiceId': None},\n",
       " {u'Amount': 10.0,\n",
       "  u'CostObjectNum': u'1611130012',\n",
       "  u'Fund': u'PLANNING & DEVEL REV ENTR FUND',\n",
       "  u'FundNum': u'700036',\n",
       "  u'GL': u'PLUMBING PERMITS',\n",
       "  u'GLNum': u'416080',\n",
       "  u'InvoiceId': None}]"
      ]
     },
     "execution_count": 201,
     "metadata": {},
     "output_type": "execute_result"
    }
   ],
   "source": [
    "d = json.loads(str(row.fetchone()[0]).decode('zlib'))\n",
    "d['InvoiceRevenue']"
   ]
  },
  {
   "cell_type": "code",
   "execution_count": 8,
   "metadata": {
    "collapsed": false
   },
   "outputs": [
    {
     "data": {
      "text/plain": [
       "[u'ApplicationExpiration',\n",
       " u'ApplicationDate',\n",
       " u'ProjectManagerId',\n",
       " u'Jobs',\n",
       " u'AccountNum',\n",
       " u'Title',\n",
       " u'ProjectId',\n",
       " u'JobOrderNum',\n",
       " u'ProjectFeesSubTotal',\n",
       " u'DevelopmentId',\n",
       " u'AdminHold',\n",
       " u'ApplicationExpired',\n",
       " u'Scope',\n",
       " u'ProjectManager',\n",
       " u'ProjectFees',\n",
       " u'ProjectFeesTotal',\n",
       " u'DevelopmentTitle']"
      ]
     },
     "execution_count": 8,
     "metadata": {},
     "output_type": "execute_result"
    }
   ],
   "source": [
    "d = json.loads(str(row.fetchone()[0]).decode('zlib'))\n",
    "d['ProjectDetails'][0].keys()"
   ]
  },
  {
   "cell_type": "code",
   "execution_count": 965,
   "metadata": {
    "collapsed": false,
    "scrolled": false
   },
   "outputs": [
    {
     "data": {
      "text/plain": [
       "[{u'AccountNum': u' ',\n",
       "  u'AdminHold': False,\n",
       "  u'ApplicationDate': None,\n",
       "  u'ApplicationExpiration': None,\n",
       "  u'ApplicationExpired': False,\n",
       "  u'DevelopmentId': 8150,\n",
       "  u'DevelopmentTitle': u'Plumbing',\n",
       "  u'JobOrderNum': None,\n",
       "  u'Jobs': [{u'APN': u'341-220-38-00',\n",
       "    u'ApprovalInfo': [{u'ApprovalFees': [{u'ApprovalId': 15783,\n",
       "        u'FeeAmount': 40.0,\n",
       "        u'FeeAuthority': u'Municipal Code',\n",
       "        u'FeeDescription': u'Plumbing Issuance Fee',\n",
       "        u'FeeQuantityRequired': u'1',\n",
       "        u'FeeTypeId': 810,\n",
       "        u'FeeTypeUnit': u'Each',\n",
       "        u'InvoiceCalcRules': [{u'BaseIncrement': u'1',\n",
       "          u'BaseQuantity': u'0',\n",
       "          u'FeeRule': u'Flat fee: $40.00',\n",
       "          u'FeeSurchargeRules': [],\n",
       "          u'FeeThresholdId': 1511,\n",
       "          u'InvoiceDetailId': 7936,\n",
       "          u'PreSurchargeAmt': 40.0,\n",
       "          u'PreviousCreditAmt': u'',\n",
       "          u'RuleRate': u'0',\n",
       "          u'RuleRateAmt': 40.0}],\n",
       "        u'InvoiceDetialId': 7936,\n",
       "        u'InvoiceId': 2804,\n",
       "        u'JobId': 14462,\n",
       "        u'PreviousCreditInv': u'',\n",
       "        u'ProjectId': 9334},\n",
       "       {u'ApprovalId': 15783,\n",
       "        u'FeeAmount': 10.0,\n",
       "        u'FeeAuthority': u'Municipal Code',\n",
       "        u'FeeDescription': u'Water Heater',\n",
       "        u'FeeQuantityRequired': u'1',\n",
       "        u'FeeTypeId': 663,\n",
       "        u'FeeTypeUnit': u'Each',\n",
       "        u'InvoiceCalcRules': [{u'BaseIncrement': u'1',\n",
       "          u'BaseQuantity': u'0',\n",
       "          u'FeeRule': u'$10.00 each = $10.00',\n",
       "          u'FeeSurchargeRules': [],\n",
       "          u'FeeThresholdId': 1144,\n",
       "          u'InvoiceDetailId': 7937,\n",
       "          u'PreSurchargeAmt': 10.0,\n",
       "          u'PreviousCreditAmt': u'',\n",
       "          u'RuleRate': u'10',\n",
       "          u'RuleRateAmt': 0.0}],\n",
       "        u'InvoiceDetialId': 7937,\n",
       "        u'InvoiceId': 2804,\n",
       "        u'JobId': 14462,\n",
       "        u'PreviousCreditInv': u'',\n",
       "        u'ProjectId': 9334}],\n",
       "      u'ApprovalFeesSubTotal': 50.0,\n",
       "      u'ApprovalId': 15783,\n",
       "      u'CompleteCancelDate': u'2003-06-24T17:22:00',\n",
       "      u'Depiction': u'4',\n",
       "      u'FirstInspectionDate': u'2003-06-23T16:00:00',\n",
       "      u'IssueDate': u'2003-06-09T09:49:13',\n",
       "      u'IssuedBy': u'Adams, Pearl',\n",
       "      u'JobId': 14462,\n",
       "      u'NetChangeDU': u'',\n",
       "      u'PermitHolder': u'ARS ARS',\n",
       "      u'Scope': u'Replace waterheater*****epermit*****8848',\n",
       "      u'SquareFootage': None,\n",
       "      u'Status': u'Completed',\n",
       "      u'Type': u'Plumbing Permit ',\n",
       "      u'Valuation': u''}],\n",
       "    u'Approvals': [],\n",
       "    u'Description': u'9530   PADGETT ST #108',\n",
       "    u'JobFeesSubTotal': 50.0,\n",
       "    u'JobId': 14462,\n",
       "    u'Latitude': 32.896226,\n",
       "    u'Longitude': -117.12815,\n",
       "    u'MapReference': u'1209-D6',\n",
       "    u'NAD83Easting': None,\n",
       "    u'NAD83Northing': None,\n",
       "    u'ProjectId': 9334,\n",
       "    u'SignOffs': [],\n",
       "    u'SortableStreetAddress': u'PADGETT ST 0000009530   Unit #108 ',\n",
       "    u'StreetAddress': u'9530   PADGETT ST Unit #108 '}],\n",
       "  u'ProjectFees': [],\n",
       "  u'ProjectFeesSubTotal': None,\n",
       "  u'ProjectFeesTotal': 50.0,\n",
       "  u'ProjectId': 9334,\n",
       "  u'ProjectManager': {u'ActiveIndicator': True,\n",
       "   u'EmailAddress': u'dsdprojectinfo@sandiego.gov',\n",
       "   u'Name': u'Adams, Pearl',\n",
       "   u'PhoneNum': u'',\n",
       "   u'ProjectManagerId': 3508},\n",
       "  u'ProjectManagerId': 3508,\n",
       "  u'Scope': u'',\n",
       "  u'Title': u'Plumbing'}]"
      ]
     },
     "execution_count": 965,
     "metadata": {},
     "output_type": "execute_result"
    }
   ],
   "source": [
    "d = json.loads(str(row.fetchone()[0]).decode('zlib'))\n",
    "d['ProjectDetails']"
   ]
  },
  {
   "cell_type": "code",
   "execution_count": null,
   "metadata": {
    "collapsed": true
   },
   "outputs": [],
   "source": []
  },
  {
   "cell_type": "code",
   "execution_count": 340,
   "metadata": {
    "collapsed": false
   },
   "outputs": [
    {
     "data": {
      "text/plain": [
       "13080"
      ]
     },
     "execution_count": 340,
     "metadata": {},
     "output_type": "execute_result"
    }
   ],
   "source": [
    "d = json.loads(str(row.fetchone()[0]).decode('zlib'))\n",
    "d['ProjectDetails'][0]['Jobs'][0]['ApprovalInfo'][0]['ApprovalId']"
   ]
  },
  {
   "cell_type": "code",
   "execution_count": null,
   "metadata": {
    "collapsed": true
   },
   "outputs": [],
   "source": [
    "d = json.loads(str(row.fetchone()[0]).decode('zlib'))\n",
    "if 'ProjectDetails' in d and d['ProjectDetails']:\n",
    "    n = len(d['ProjectDetails'])\n",
    "    for i in range(n):\n",
    "        if 'Jobs' in d['ProjectDetails'][i] and d['ProjectDetails'][i]['Jobs']:\n",
    "            m = len(d['ProjectDetails'][i]['Jobs']\n",
    "                    for j in range(m):\n",
    "                    "
   ]
  }
 ],
 "metadata": {
  "kernelspec": {
   "display_name": "Python 2",
   "language": "python",
   "name": "python2"
  },
  "language_info": {
   "codemirror_mode": {
    "name": "ipython",
    "version": 2
   },
   "file_extension": ".py",
   "mimetype": "text/x-python",
   "name": "python",
   "nbconvert_exporter": "python",
   "pygments_lexer": "ipython2",
   "version": "2.7.6"
  }
 },
 "nbformat": 4,
 "nbformat_minor": 0
}
