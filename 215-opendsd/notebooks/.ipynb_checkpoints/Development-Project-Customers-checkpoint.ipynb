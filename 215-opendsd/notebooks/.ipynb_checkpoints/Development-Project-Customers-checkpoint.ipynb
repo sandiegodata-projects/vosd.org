{
 "cells": [
  {
   "cell_type": "markdown",
   "metadata": {},
   "source": [
    "# Master Project Table"
   ]
  },
  {
   "cell_type": "markdown",
   "metadata": {},
   "source": [
    "#### Damon Crockett, damon@civicknowledge.com"
   ]
  },
  {
   "cell_type": "code",
   "execution_count": 3,
   "metadata": {
    "collapsed": false
   },
   "outputs": [],
   "source": [
    "%matplotlib inline\n",
    "import pandas as pd\n",
    "import sqlite3\n",
    "import json\n",
    "import dateutil.parser\n",
    "import datetime\n",
    "import os\n",
    "import gzip\n",
    "import numpy as np\n",
    "import matplotlib.pyplot as plt\n",
    "from scipy.stats import pearsonr"
   ]
  },
  {
   "cell_type": "markdown",
   "metadata": {},
   "source": [
    "### Create appropriate dataframe from database file"
   ]
  },
  {
   "cell_type": "code",
   "execution_count": 4,
   "metadata": {
    "collapsed": false
   },
   "outputs": [],
   "source": [
    "# create connection and cursor for database file \n",
    "\n",
    "con = sqlite3.connect('/Users/damoncrockett/Dropbox/thinkpad_desktop_2/DSD_sqlite_db/projects.db')\n",
    "cur = con.cursor()"
   ]
  },
  {
   "cell_type": "markdown",
   "metadata": {},
   "source": [
    "#### A check for 'deemed complete' or another related key that indicates meaningful start date"
   ]
  },
  {
   "cell_type": "code",
   "execution_count": 5,
   "metadata": {
    "collapsed": false
   },
   "outputs": [],
   "source": [
    "keys_length = []\n",
    "\n",
    "for row in cur.execute('SELECT data FROM json'):\n",
    "        d = json.loads(str(row[0]).decode('zlib'))\n",
    "        \n",
    "        keys_length.append(len(d.keys()))"
   ]
  },
  {
   "cell_type": "code",
   "execution_count": 6,
   "metadata": {
    "collapsed": false
   },
   "outputs": [
    {
     "data": {
      "text/plain": [
       "Counter({19: 231009, 12: 5})"
      ]
     },
     "execution_count": 6,
     "metadata": {},
     "output_type": "execute_result"
    }
   ],
   "source": [
    "from collections import Counter\n",
    "\n",
    "Counter(keys_length)"
   ]
  },
  {
   "cell_type": "code",
   "execution_count": 7,
   "metadata": {
    "collapsed": false
   },
   "outputs": [],
   "source": [
    "which_keys = []\n",
    "\n",
    "for row in cur.execute('SELECT data FROM json'):\n",
    "        d = json.loads(str(row[0]).decode('zlib'))\n",
    "        \n",
    "        if len(d.keys()) == 19:\n",
    "            which_keys.append(d.keys())            "
   ]
  },
  {
   "cell_type": "code",
   "execution_count": 8,
   "metadata": {
    "collapsed": false
   },
   "outputs": [],
   "source": [
    "key_df = pd.DataFrame(which_keys)"
   ]
  },
  {
   "cell_type": "code",
   "execution_count": 9,
   "metadata": {
    "collapsed": false
   },
   "outputs": [
    {
     "data": {
      "text/html": [
       "<div>\n",
       "<table border=\"1\" class=\"dataframe\">\n",
       "  <thead>\n",
       "    <tr style=\"text-align: right;\">\n",
       "      <th></th>\n",
       "      <th>0</th>\n",
       "      <th>1</th>\n",
       "      <th>2</th>\n",
       "      <th>3</th>\n",
       "      <th>4</th>\n",
       "      <th>5</th>\n",
       "      <th>6</th>\n",
       "      <th>7</th>\n",
       "      <th>8</th>\n",
       "      <th>9</th>\n",
       "      <th>10</th>\n",
       "      <th>11</th>\n",
       "      <th>12</th>\n",
       "      <th>13</th>\n",
       "      <th>14</th>\n",
       "      <th>15</th>\n",
       "      <th>16</th>\n",
       "      <th>17</th>\n",
       "      <th>18</th>\n",
       "    </tr>\n",
       "  </thead>\n",
       "  <tbody>\n",
       "    <tr>\n",
       "      <th>0</th>\n",
       "      <td>ApplicationExpiration</td>\n",
       "      <td>Customers</td>\n",
       "      <td>ProjectManagerId</td>\n",
       "      <td>Jobs</td>\n",
       "      <td>AccountNum</td>\n",
       "      <td>Title</td>\n",
       "      <td>Invoices</td>\n",
       "      <td>ProjectId</td>\n",
       "      <td>JobOrderNum</td>\n",
       "      <td>ApplicationExpired</td>\n",
       "      <td>Header</td>\n",
       "      <td>DevelopmentId</td>\n",
       "      <td>AdminHold</td>\n",
       "      <td>ReviewCycles</td>\n",
       "      <td>Fees</td>\n",
       "      <td>Scope</td>\n",
       "      <td>ProjectManager</td>\n",
       "      <td>ApplicationDate</td>\n",
       "      <td>DevelopmentTitle</td>\n",
       "    </tr>\n",
       "    <tr>\n",
       "      <th>1</th>\n",
       "      <td>ApplicationExpiration</td>\n",
       "      <td>Customers</td>\n",
       "      <td>ProjectManagerId</td>\n",
       "      <td>Jobs</td>\n",
       "      <td>AccountNum</td>\n",
       "      <td>Title</td>\n",
       "      <td>Invoices</td>\n",
       "      <td>ProjectId</td>\n",
       "      <td>JobOrderNum</td>\n",
       "      <td>ApplicationExpired</td>\n",
       "      <td>Header</td>\n",
       "      <td>DevelopmentId</td>\n",
       "      <td>AdminHold</td>\n",
       "      <td>ReviewCycles</td>\n",
       "      <td>Fees</td>\n",
       "      <td>Scope</td>\n",
       "      <td>ProjectManager</td>\n",
       "      <td>ApplicationDate</td>\n",
       "      <td>DevelopmentTitle</td>\n",
       "    </tr>\n",
       "    <tr>\n",
       "      <th>2</th>\n",
       "      <td>ApplicationExpiration</td>\n",
       "      <td>Customers</td>\n",
       "      <td>ProjectManagerId</td>\n",
       "      <td>Jobs</td>\n",
       "      <td>AccountNum</td>\n",
       "      <td>Title</td>\n",
       "      <td>Invoices</td>\n",
       "      <td>ProjectId</td>\n",
       "      <td>JobOrderNum</td>\n",
       "      <td>ApplicationExpired</td>\n",
       "      <td>Header</td>\n",
       "      <td>DevelopmentId</td>\n",
       "      <td>AdminHold</td>\n",
       "      <td>ReviewCycles</td>\n",
       "      <td>Fees</td>\n",
       "      <td>Scope</td>\n",
       "      <td>ProjectManager</td>\n",
       "      <td>ApplicationDate</td>\n",
       "      <td>DevelopmentTitle</td>\n",
       "    </tr>\n",
       "    <tr>\n",
       "      <th>3</th>\n",
       "      <td>ApplicationExpiration</td>\n",
       "      <td>Customers</td>\n",
       "      <td>ProjectManagerId</td>\n",
       "      <td>Jobs</td>\n",
       "      <td>AccountNum</td>\n",
       "      <td>Title</td>\n",
       "      <td>Invoices</td>\n",
       "      <td>ProjectId</td>\n",
       "      <td>JobOrderNum</td>\n",
       "      <td>ApplicationExpired</td>\n",
       "      <td>Header</td>\n",
       "      <td>DevelopmentId</td>\n",
       "      <td>AdminHold</td>\n",
       "      <td>ReviewCycles</td>\n",
       "      <td>Fees</td>\n",
       "      <td>Scope</td>\n",
       "      <td>ProjectManager</td>\n",
       "      <td>ApplicationDate</td>\n",
       "      <td>DevelopmentTitle</td>\n",
       "    </tr>\n",
       "    <tr>\n",
       "      <th>4</th>\n",
       "      <td>ApplicationExpiration</td>\n",
       "      <td>Customers</td>\n",
       "      <td>ProjectManagerId</td>\n",
       "      <td>Jobs</td>\n",
       "      <td>AccountNum</td>\n",
       "      <td>Title</td>\n",
       "      <td>Invoices</td>\n",
       "      <td>ProjectId</td>\n",
       "      <td>JobOrderNum</td>\n",
       "      <td>ApplicationExpired</td>\n",
       "      <td>Header</td>\n",
       "      <td>DevelopmentId</td>\n",
       "      <td>AdminHold</td>\n",
       "      <td>ReviewCycles</td>\n",
       "      <td>Fees</td>\n",
       "      <td>Scope</td>\n",
       "      <td>ProjectManager</td>\n",
       "      <td>ApplicationDate</td>\n",
       "      <td>DevelopmentTitle</td>\n",
       "    </tr>\n",
       "  </tbody>\n",
       "</table>\n",
       "</div>"
      ],
      "text/plain": [
       "                      0          1                 2     3           4   \\\n",
       "0  ApplicationExpiration  Customers  ProjectManagerId  Jobs  AccountNum   \n",
       "1  ApplicationExpiration  Customers  ProjectManagerId  Jobs  AccountNum   \n",
       "2  ApplicationExpiration  Customers  ProjectManagerId  Jobs  AccountNum   \n",
       "3  ApplicationExpiration  Customers  ProjectManagerId  Jobs  AccountNum   \n",
       "4  ApplicationExpiration  Customers  ProjectManagerId  Jobs  AccountNum   \n",
       "\n",
       "      5         6          7            8                   9       10  \\\n",
       "0  Title  Invoices  ProjectId  JobOrderNum  ApplicationExpired  Header   \n",
       "1  Title  Invoices  ProjectId  JobOrderNum  ApplicationExpired  Header   \n",
       "2  Title  Invoices  ProjectId  JobOrderNum  ApplicationExpired  Header   \n",
       "3  Title  Invoices  ProjectId  JobOrderNum  ApplicationExpired  Header   \n",
       "4  Title  Invoices  ProjectId  JobOrderNum  ApplicationExpired  Header   \n",
       "\n",
       "              11         12            13    14     15              16  \\\n",
       "0  DevelopmentId  AdminHold  ReviewCycles  Fees  Scope  ProjectManager   \n",
       "1  DevelopmentId  AdminHold  ReviewCycles  Fees  Scope  ProjectManager   \n",
       "2  DevelopmentId  AdminHold  ReviewCycles  Fees  Scope  ProjectManager   \n",
       "3  DevelopmentId  AdminHold  ReviewCycles  Fees  Scope  ProjectManager   \n",
       "4  DevelopmentId  AdminHold  ReviewCycles  Fees  Scope  ProjectManager   \n",
       "\n",
       "                17                18  \n",
       "0  ApplicationDate  DevelopmentTitle  \n",
       "1  ApplicationDate  DevelopmentTitle  \n",
       "2  ApplicationDate  DevelopmentTitle  \n",
       "3  ApplicationDate  DevelopmentTitle  \n",
       "4  ApplicationDate  DevelopmentTitle  "
      ]
     },
     "execution_count": 9,
     "metadata": {},
     "output_type": "execute_result"
    }
   ],
   "source": [
    "key_df.head()"
   ]
  },
  {
   "cell_type": "code",
   "execution_count": 10,
   "metadata": {
    "collapsed": false
   },
   "outputs": [
    {
     "data": {
      "text/plain": [
       "DevelopmentTitle    231009\n",
       "dtype: int64"
      ]
     },
     "execution_count": 10,
     "metadata": {},
     "output_type": "execute_result"
    }
   ],
   "source": [
    "# iterate through this manually\n",
    "\n",
    "key_df[18].value_counts()"
   ]
  },
  {
   "cell_type": "markdown",
   "metadata": {},
   "source": [
    "#### verdict: keys do not vary over the years"
   ]
  },
  {
   "cell_type": "code",
   "execution_count": null,
   "metadata": {
    "collapsed": false
   },
   "outputs": [],
   "source": []
  },
  {
   "cell_type": "code",
   "execution_count": null,
   "metadata": {
    "collapsed": false
   },
   "outputs": [],
   "source": []
  },
  {
   "cell_type": "code",
   "execution_count": null,
   "metadata": {
    "collapsed": false
   },
   "outputs": [],
   "source": []
  },
  {
   "cell_type": "code",
   "execution_count": null,
   "metadata": {
    "collapsed": false
   },
   "outputs": [],
   "source": []
  },
  {
   "cell_type": "code",
   "execution_count": 11,
   "metadata": {
    "collapsed": false
   },
   "outputs": [],
   "source": [
    "# generator to grab a collection of relevant variables from each record\n",
    "\n",
    "def gen(cur):\n",
    "    for row in cur.execute('SELECT data FROM json'):\n",
    "        d = json.loads(str(row[0]).decode('zlib'))\n",
    "        \n",
    "        if 'DevelopmentId' in d:\n",
    "            \n",
    "            keys = ['DevelopmentId',\n",
    "                    'DevelopmentTitle',\n",
    "                    'Title',\n",
    "                    'ProjectId',\n",
    "                    'Scope',\n",
    "                    'ApplicationDate',\n",
    "                    'ApplicationExpired',\n",
    "                    'ApplicationExpiration',\n",
    "                    'ProjectManagerId',\n",
    "                    'ProjectManager',\n",
    "                    'Customers']\n",
    "            \n",
    "            yield {key:d[key] for key in keys}"
   ]
  },
  {
   "cell_type": "code",
   "execution_count": 12,
   "metadata": {
    "collapsed": false
   },
   "outputs": [],
   "source": [
    "# create dataframe from generator\n",
    "df = pd.DataFrame(gen(cur))"
   ]
  },
  {
   "cell_type": "code",
   "execution_count": 15,
   "metadata": {
    "collapsed": false
   },
   "outputs": [
    {
     "data": {
      "text/plain": [
       "231009"
      ]
     },
     "execution_count": 15,
     "metadata": {},
     "output_type": "execute_result"
    }
   ],
   "source": [
    "sum(df.ProjectId.value_counts())"
   ]
  },
  {
   "cell_type": "code",
   "execution_count": null,
   "metadata": {
    "collapsed": true
   },
   "outputs": [],
   "source": []
  },
  {
   "cell_type": "markdown",
   "metadata": {},
   "source": [
    "### Clean up dataframe"
   ]
  },
  {
   "cell_type": "code",
   "execution_count": 14,
   "metadata": {
    "collapsed": false
   },
   "outputs": [],
   "source": [
    "# parse ISO 8601\n",
    "df.ApplicationDate = df.ApplicationDate.apply(dateutil.parser.parse)"
   ]
  },
  {
   "cell_type": "code",
   "execution_count": 15,
   "metadata": {
    "collapsed": false
   },
   "outputs": [],
   "source": [
    "tmp = []\n",
    "\n",
    "for item in df.ApplicationExpiration:\n",
    "    if item:\n",
    "        item = dateutil.parser.parse(item)\n",
    "        tmp.append(item)\n",
    "    else:\n",
    "        tmp.append('nan')"
   ]
  },
  {
   "cell_type": "code",
   "execution_count": 16,
   "metadata": {
    "collapsed": false
   },
   "outputs": [],
   "source": [
    "df.ApplicationExpiration = tmp"
   ]
  },
  {
   "cell_type": "markdown",
   "metadata": {},
   "source": [
    "### Some Exploration"
   ]
  },
  {
   "cell_type": "code",
   "execution_count": 17,
   "metadata": {
    "collapsed": false
   },
   "outputs": [
    {
     "data": {
      "text/html": [
       "<div style=\"max-height:1000px;max-width:1500px;overflow:auto;\">\n",
       "<table border=\"1\" class=\"dataframe\">\n",
       "  <thead>\n",
       "    <tr style=\"text-align: right;\">\n",
       "      <th></th>\n",
       "      <th>ApplicationDate</th>\n",
       "      <th>ApplicationExpiration</th>\n",
       "      <th>ApplicationExpired</th>\n",
       "      <th>Customers</th>\n",
       "      <th>DevelopmentId</th>\n",
       "      <th>DevelopmentTitle</th>\n",
       "      <th>ProjectId</th>\n",
       "      <th>ProjectManager</th>\n",
       "      <th>ProjectManagerId</th>\n",
       "      <th>Scope</th>\n",
       "      <th>Title</th>\n",
       "    </tr>\n",
       "  </thead>\n",
       "  <tbody>\n",
       "    <tr>\n",
       "      <th>0</th>\n",
       "      <td>2009-12-23 17:00:00</td>\n",
       "      <td>2019-12-21 17:00:00</td>\n",
       "      <td> False</td>\n",
       "      <td> [{u'ProjectId': 1001, u'Name': u'Sandy Finn', ...</td>\n",
       "      <td> 1001</td>\n",
       "      <td>                   New Carwash</td>\n",
       "      <td> 1001</td>\n",
       "      <td> {u'EmailAddress': u'dsdprojectinfo@sandiego.go...</td>\n",
       "      <td> 3328</td>\n",
       "      <td>                                                  </td>\n",
       "      <td>                 TESTPROJECT</td>\n",
       "    </tr>\n",
       "    <tr>\n",
       "      <th>1</th>\n",
       "      <td>2005-06-28 17:00:00</td>\n",
       "      <td>                NaT</td>\n",
       "      <td> False</td>\n",
       "      <td> [{u'ProjectId': 1040, u'Name': u'Michael E Tur...</td>\n",
       "      <td> 1040</td>\n",
       "      <td>                  4026 RIVIERA</td>\n",
       "      <td> 1040</td>\n",
       "      <td> {u'EmailAddress': u'dsdprojectinfo@sandiego.go...</td>\n",
       "      <td> 3367</td>\n",
       "      <td> Pacific Beach, WO#41-0365. (PROCESS 3) Coastal...</td>\n",
       "      <td>                4026 Riviera</td>\n",
       "    </tr>\n",
       "    <tr>\n",
       "      <th>2</th>\n",
       "      <td>2005-06-28 17:00:00</td>\n",
       "      <td>                NaT</td>\n",
       "      <td> False</td>\n",
       "      <td> [{u'ProjectId': 1041, u'Name': u'Michael E Tur...</td>\n",
       "      <td> 1041</td>\n",
       "      <td>                  4040 RIVIERA</td>\n",
       "      <td> 1041</td>\n",
       "      <td> {u'EmailAddress': u'dsdprojectinfo@sandiego.go...</td>\n",
       "      <td> 3367</td>\n",
       "      <td> Pacific Beach, WO#41-0364. (PROCESS 3) Coastal...</td>\n",
       "      <td>                4040 Riviera</td>\n",
       "    </tr>\n",
       "    <tr>\n",
       "      <th>3</th>\n",
       "      <td>2003-08-15 17:00:00</td>\n",
       "      <td>2005-11-28 17:00:00</td>\n",
       "      <td>  True</td>\n",
       "      <td> [{u'ProjectId': 1096, u'Name': u'Mark Davis', ...</td>\n",
       "      <td> 1096</td>\n",
       "      <td> Lot 11 Bernardo Industrial Pk</td>\n",
       "      <td> 1096</td>\n",
       "      <td> {u'EmailAddress': u'dsdprojectinfo@sandiego.go...</td>\n",
       "      <td> 3130</td>\n",
       "      <td> JO# 41-0679, RANCHO BERNARDO;  (PROCESS 4) Sit...</td>\n",
       "      <td>      Rancho Bernardo Lot 11</td>\n",
       "    </tr>\n",
       "    <tr>\n",
       "      <th>4</th>\n",
       "      <td>2004-12-15 17:00:00</td>\n",
       "      <td>                NaT</td>\n",
       "      <td> False</td>\n",
       "      <td> [{u'ProjectId': 1102, u'Name': u'Bob Kaplan', ...</td>\n",
       "      <td> 1102</td>\n",
       "      <td>   Marriott Residence Inn - MV</td>\n",
       "      <td> 1102</td>\n",
       "      <td> {u'EmailAddress': u'dsdprojectinfo@sandiego.go...</td>\n",
       "      <td> 2980</td>\n",
       "      <td> Grading and public improvoement.  See WO#41058...</td>\n",
       "      <td> Marriott Residence Inn - MV</td>\n",
       "    </tr>\n",
       "  </tbody>\n",
       "</table>\n",
       "<p>5 rows × 11 columns</p>\n",
       "</div>"
      ],
      "text/plain": [
       "      ApplicationDate ApplicationExpiration ApplicationExpired  \\\n",
       "0 2009-12-23 17:00:00   2019-12-21 17:00:00              False   \n",
       "1 2005-06-28 17:00:00                   NaT              False   \n",
       "2 2005-06-28 17:00:00                   NaT              False   \n",
       "3 2003-08-15 17:00:00   2005-11-28 17:00:00               True   \n",
       "4 2004-12-15 17:00:00                   NaT              False   \n",
       "\n",
       "                                           Customers  DevelopmentId  \\\n",
       "0  [{u'ProjectId': 1001, u'Name': u'Sandy Finn', ...           1001   \n",
       "1  [{u'ProjectId': 1040, u'Name': u'Michael E Tur...           1040   \n",
       "2  [{u'ProjectId': 1041, u'Name': u'Michael E Tur...           1041   \n",
       "3  [{u'ProjectId': 1096, u'Name': u'Mark Davis', ...           1096   \n",
       "4  [{u'ProjectId': 1102, u'Name': u'Bob Kaplan', ...           1102   \n",
       "\n",
       "                DevelopmentTitle  ProjectId  \\\n",
       "0                    New Carwash       1001   \n",
       "1                   4026 RIVIERA       1040   \n",
       "2                   4040 RIVIERA       1041   \n",
       "3  Lot 11 Bernardo Industrial Pk       1096   \n",
       "4    Marriott Residence Inn - MV       1102   \n",
       "\n",
       "                                      ProjectManager  ProjectManagerId  \\\n",
       "0  {u'EmailAddress': u'dsdprojectinfo@sandiego.go...              3328   \n",
       "1  {u'EmailAddress': u'dsdprojectinfo@sandiego.go...              3367   \n",
       "2  {u'EmailAddress': u'dsdprojectinfo@sandiego.go...              3367   \n",
       "3  {u'EmailAddress': u'dsdprojectinfo@sandiego.go...              3130   \n",
       "4  {u'EmailAddress': u'dsdprojectinfo@sandiego.go...              2980   \n",
       "\n",
       "                                               Scope  \\\n",
       "0                                                      \n",
       "1  Pacific Beach, WO#41-0365. (PROCESS 3) Coastal...   \n",
       "2  Pacific Beach, WO#41-0364. (PROCESS 3) Coastal...   \n",
       "3  JO# 41-0679, RANCHO BERNARDO;  (PROCESS 4) Sit...   \n",
       "4  Grading and public improvoement.  See WO#41058...   \n",
       "\n",
       "                         Title  \n",
       "0                  TESTPROJECT  \n",
       "1                 4026 Riviera  \n",
       "2                 4040 Riviera  \n",
       "3       Rancho Bernardo Lot 11  \n",
       "4  Marriott Residence Inn - MV  \n",
       "\n",
       "[5 rows x 11 columns]"
      ]
     },
     "execution_count": 17,
     "metadata": {},
     "output_type": "execute_result"
    }
   ],
   "source": [
    "df.head()"
   ]
  },
  {
   "cell_type": "code",
   "execution_count": 18,
   "metadata": {
    "collapsed": false
   },
   "outputs": [
    {
     "data": {
      "text/plain": [
       "231009"
      ]
     },
     "execution_count": 18,
     "metadata": {},
     "output_type": "execute_result"
    }
   ],
   "source": [
    "len(df.index)"
   ]
  },
  {
   "cell_type": "code",
   "execution_count": 19,
   "metadata": {
    "collapsed": false
   },
   "outputs": [
    {
     "data": {
      "text/plain": [
       "155772"
      ]
     },
     "execution_count": 19,
     "metadata": {},
     "output_type": "execute_result"
    }
   ],
   "source": [
    "len(df.DevelopmentId.unique())"
   ]
  },
  {
   "cell_type": "code",
   "execution_count": 20,
   "metadata": {
    "collapsed": false
   },
   "outputs": [
    {
     "data": {
      "text/plain": [
       "0"
      ]
     },
     "execution_count": 20,
     "metadata": {},
     "output_type": "execute_result"
    }
   ],
   "source": [
    "df.DevelopmentId.min()"
   ]
  },
  {
   "cell_type": "code",
   "execution_count": 21,
   "metadata": {
    "collapsed": false
   },
   "outputs": [
    {
     "data": {
      "text/html": [
       "<div style=\"max-height:1000px;max-width:1500px;overflow:auto;\">\n",
       "<table border=\"1\" class=\"dataframe\">\n",
       "  <thead>\n",
       "    <tr style=\"text-align: right;\">\n",
       "      <th></th>\n",
       "      <th>ApplicationDate</th>\n",
       "      <th>ApplicationExpiration</th>\n",
       "      <th>ApplicationExpired</th>\n",
       "      <th>Customers</th>\n",
       "      <th>DevelopmentId</th>\n",
       "      <th>DevelopmentTitle</th>\n",
       "      <th>ProjectId</th>\n",
       "      <th>ProjectManager</th>\n",
       "      <th>ProjectManagerId</th>\n",
       "      <th>Scope</th>\n",
       "      <th>Title</th>\n",
       "    </tr>\n",
       "  </thead>\n",
       "  <tbody>\n",
       "    <tr>\n",
       "      <th>25569 </th>\n",
       "      <td>2004-09-29 17:00:00</td>\n",
       "      <td>2005-09-24 17:00:00</td>\n",
       "      <td>  True</td>\n",
       "      <td> [{u'ProjectId': 52697, u'Name': u'Engineering ...</td>\n",
       "      <td>    0</td>\n",
       "      <td> Hold Non-Project Info</td>\n",
       "      <td>  52697</td>\n",
       "      <td> {u'EmailAddress': u'dsdprojectinfo@sandiego.go...</td>\n",
       "      <td> 3509</td>\n",
       "      <td> UPTOWN - MR-1000 - MCCPD;  Combination permit ...</td>\n",
       "      <td> JSK Properties - Res.Deck</td>\n",
       "    </tr>\n",
       "    <tr>\n",
       "      <th>0     </th>\n",
       "      <td>2009-12-23 17:00:00</td>\n",
       "      <td>2019-12-21 17:00:00</td>\n",
       "      <td> False</td>\n",
       "      <td> [{u'ProjectId': 1001, u'Name': u'Sandy Finn', ...</td>\n",
       "      <td> 1001</td>\n",
       "      <td>           New Carwash</td>\n",
       "      <td>   1001</td>\n",
       "      <td> {u'EmailAddress': u'dsdprojectinfo@sandiego.go...</td>\n",
       "      <td> 3328</td>\n",
       "      <td>                                                  </td>\n",
       "      <td>               TESTPROJECT</td>\n",
       "    </tr>\n",
       "    <tr>\n",
       "      <th>152675</th>\n",
       "      <td>2011-09-27 17:00:00</td>\n",
       "      <td>2012-09-26 17:00:00</td>\n",
       "      <td>  True</td>\n",
       "      <td> [{u'ProjectId': 258111, u'Name': u'Phil Kern',...</td>\n",
       "      <td> 1001</td>\n",
       "      <td>           New Carwash</td>\n",
       "      <td> 258111</td>\n",
       "      <td> {u'EmailAddress': u'dsdprojectinfo@sandiego.go...</td>\n",
       "      <td> 3329</td>\n",
       "      <td>                                            Delete</td>\n",
       "      <td>               TESTPROJECT</td>\n",
       "    </tr>\n",
       "    <tr>\n",
       "      <th>344   </th>\n",
       "      <td>2003-08-04 17:00:00</td>\n",
       "      <td>                NaT</td>\n",
       "      <td> False</td>\n",
       "      <td> [{u'ProjectId': 6776, u'Name': u'Pedro Garcia'...</td>\n",
       "      <td> 1001</td>\n",
       "      <td>           New Carwash</td>\n",
       "      <td>   6776</td>\n",
       "      <td> {u'EmailAddress': u'khcook@sandiego.gov', u'Ac...</td>\n",
       "      <td> 3328</td>\n",
       "      <td> PROJECT CLOSED DUE TO INACTIVITY - File to wil...</td>\n",
       "      <td>         MANSOUR RESIDENCE</td>\n",
       "    </tr>\n",
       "    <tr>\n",
       "      <th>73253 </th>\n",
       "      <td>2007-07-18 17:00:00</td>\n",
       "      <td>2008-07-12 17:00:00</td>\n",
       "      <td>  True</td>\n",
       "      <td> [{u'ProjectId': 125995, u'Name': u'Adrian Moon...</td>\n",
       "      <td> 1001</td>\n",
       "      <td>           New Carwash</td>\n",
       "      <td> 125995</td>\n",
       "      <td> {u'EmailAddress': u'dsdprojectinfo@sandiego.go...</td>\n",
       "      <td> 3473</td>\n",
       "      <td>                                                  </td>\n",
       "      <td>              DO NOT USE!!</td>\n",
       "    </tr>\n",
       "  </tbody>\n",
       "</table>\n",
       "<p>5 rows × 11 columns</p>\n",
       "</div>"
      ],
      "text/plain": [
       "           ApplicationDate ApplicationExpiration ApplicationExpired  \\\n",
       "25569  2004-09-29 17:00:00   2005-09-24 17:00:00               True   \n",
       "0      2009-12-23 17:00:00   2019-12-21 17:00:00              False   \n",
       "152675 2011-09-27 17:00:00   2012-09-26 17:00:00               True   \n",
       "344    2003-08-04 17:00:00                   NaT              False   \n",
       "73253  2007-07-18 17:00:00   2008-07-12 17:00:00               True   \n",
       "\n",
       "                                                Customers  DevelopmentId  \\\n",
       "25569   [{u'ProjectId': 52697, u'Name': u'Engineering ...              0   \n",
       "0       [{u'ProjectId': 1001, u'Name': u'Sandy Finn', ...           1001   \n",
       "152675  [{u'ProjectId': 258111, u'Name': u'Phil Kern',...           1001   \n",
       "344     [{u'ProjectId': 6776, u'Name': u'Pedro Garcia'...           1001   \n",
       "73253   [{u'ProjectId': 125995, u'Name': u'Adrian Moon...           1001   \n",
       "\n",
       "             DevelopmentTitle  ProjectId  \\\n",
       "25569   Hold Non-Project Info      52697   \n",
       "0                 New Carwash       1001   \n",
       "152675            New Carwash     258111   \n",
       "344               New Carwash       6776   \n",
       "73253             New Carwash     125995   \n",
       "\n",
       "                                           ProjectManager  ProjectManagerId  \\\n",
       "25569   {u'EmailAddress': u'dsdprojectinfo@sandiego.go...              3509   \n",
       "0       {u'EmailAddress': u'dsdprojectinfo@sandiego.go...              3328   \n",
       "152675  {u'EmailAddress': u'dsdprojectinfo@sandiego.go...              3329   \n",
       "344     {u'EmailAddress': u'khcook@sandiego.gov', u'Ac...              3328   \n",
       "73253   {u'EmailAddress': u'dsdprojectinfo@sandiego.go...              3473   \n",
       "\n",
       "                                                    Scope  \\\n",
       "25569   UPTOWN - MR-1000 - MCCPD;  Combination permit ...   \n",
       "0                                                           \n",
       "152675                                             Delete   \n",
       "344     PROJECT CLOSED DUE TO INACTIVITY - File to wil...   \n",
       "73253                                                       \n",
       "\n",
       "                            Title  \n",
       "25569   JSK Properties - Res.Deck  \n",
       "0                     TESTPROJECT  \n",
       "152675                TESTPROJECT  \n",
       "344             MANSOUR RESIDENCE  \n",
       "73253                DO NOT USE!!  \n",
       "\n",
       "[5 rows x 11 columns]"
      ]
     },
     "execution_count": 21,
     "metadata": {},
     "output_type": "execute_result"
    }
   ],
   "source": [
    "df.sort(['DevelopmentId']).head()"
   ]
  },
  {
   "cell_type": "code",
   "execution_count": 22,
   "metadata": {
    "collapsed": false
   },
   "outputs": [
    {
     "data": {
      "text/plain": [
       "252279"
      ]
     },
     "execution_count": 22,
     "metadata": {},
     "output_type": "execute_result"
    }
   ],
   "source": [
    "df.DevelopmentId.max()"
   ]
  },
  {
   "cell_type": "code",
   "execution_count": 23,
   "metadata": {
    "collapsed": false
   },
   "outputs": [
    {
     "data": {
      "text/plain": [
       "231009"
      ]
     },
     "execution_count": 23,
     "metadata": {},
     "output_type": "execute_result"
    }
   ],
   "source": [
    "len(df.ProjectId.unique())"
   ]
  },
  {
   "cell_type": "code",
   "execution_count": 24,
   "metadata": {
    "collapsed": false
   },
   "outputs": [
    {
     "data": {
      "text/plain": [
       "1001"
      ]
     },
     "execution_count": 24,
     "metadata": {},
     "output_type": "execute_result"
    }
   ],
   "source": [
    "df.ProjectId.min()"
   ]
  },
  {
   "cell_type": "code",
   "execution_count": 25,
   "metadata": {
    "collapsed": false
   },
   "outputs": [
    {
     "data": {
      "text/plain": [
       "399873"
      ]
     },
     "execution_count": 25,
     "metadata": {},
     "output_type": "execute_result"
    }
   ],
   "source": [
    "df.ProjectId.max()"
   ]
  },
  {
   "cell_type": "code",
   "execution_count": 26,
   "metadata": {
    "collapsed": false
   },
   "outputs": [
    {
     "data": {
      "text/plain": [
       "Timestamp('2003-01-01 17:00:00', tz=None)"
      ]
     },
     "execution_count": 26,
     "metadata": {},
     "output_type": "execute_result"
    }
   ],
   "source": [
    "df.ApplicationDate.min()"
   ]
  },
  {
   "cell_type": "code",
   "execution_count": 27,
   "metadata": {
    "collapsed": false
   },
   "outputs": [
    {
     "data": {
      "text/plain": [
       "Timestamp('2014-12-05 10:21:00', tz=None)"
      ]
     },
     "execution_count": 27,
     "metadata": {},
     "output_type": "execute_result"
    }
   ],
   "source": [
    "df.ApplicationDate.max()"
   ]
  },
  {
   "cell_type": "code",
   "execution_count": 28,
   "metadata": {
    "collapsed": false
   },
   "outputs": [
    {
     "data": {
      "text/plain": [
       "275"
      ]
     },
     "execution_count": 28,
     "metadata": {},
     "output_type": "execute_result"
    }
   ],
   "source": [
    "len(df.ProjectManagerId.unique())"
   ]
  },
  {
   "cell_type": "code",
   "execution_count": 29,
   "metadata": {
    "collapsed": false
   },
   "outputs": [
    {
     "data": {
      "text/plain": [
       "2786"
      ]
     },
     "execution_count": 29,
     "metadata": {},
     "output_type": "execute_result"
    }
   ],
   "source": [
    "df.ProjectManagerId.min()"
   ]
  },
  {
   "cell_type": "code",
   "execution_count": 30,
   "metadata": {
    "collapsed": false
   },
   "outputs": [
    {
     "data": {
      "text/plain": [
       "6991"
      ]
     },
     "execution_count": 30,
     "metadata": {},
     "output_type": "execute_result"
    }
   ],
   "source": [
    "df.ProjectManagerId.max()"
   ]
  },
  {
   "cell_type": "code",
   "execution_count": 31,
   "metadata": {
    "collapsed": false
   },
   "outputs": [
    {
     "data": {
      "text/plain": [
       "False    117103\n",
       "True     113906\n",
       "dtype: int64"
      ]
     },
     "execution_count": 31,
     "metadata": {},
     "output_type": "execute_result"
    }
   ],
   "source": [
    "df.ApplicationExpired.value_counts()"
   ]
  },
  {
   "cell_type": "markdown",
   "metadata": {},
   "source": [
    "### Additional cleanup"
   ]
  },
  {
   "cell_type": "code",
   "execution_count": 32,
   "metadata": {
    "collapsed": false
   },
   "outputs": [],
   "source": [
    "df.rename(columns = {'Scope':'ProjectScope'}, inplace = True)"
   ]
  },
  {
   "cell_type": "code",
   "execution_count": 40,
   "metadata": {
    "collapsed": false
   },
   "outputs": [],
   "source": [
    "tmp = []\n",
    "\n",
    "for i in df.ProjectManager:\n",
    "    tmp.append(i['Name'])"
   ]
  },
  {
   "cell_type": "code",
   "execution_count": 42,
   "metadata": {
    "collapsed": false
   },
   "outputs": [],
   "source": [
    "df.ProjectManager = tmp"
   ]
  },
  {
   "cell_type": "code",
   "execution_count": 43,
   "metadata": {
    "collapsed": false
   },
   "outputs": [
    {
     "data": {
      "text/html": [
       "<div style=\"max-height:1000px;max-width:1500px;overflow:auto;\">\n",
       "<table border=\"1\" class=\"dataframe\">\n",
       "  <thead>\n",
       "    <tr style=\"text-align: right;\">\n",
       "      <th></th>\n",
       "      <th>ApplicationDate</th>\n",
       "      <th>ApplicationExpiration</th>\n",
       "      <th>ApplicationExpired</th>\n",
       "      <th>Customers</th>\n",
       "      <th>DevelopmentId</th>\n",
       "      <th>DevelopmentTitle</th>\n",
       "      <th>ProjectId</th>\n",
       "      <th>ProjectManager</th>\n",
       "      <th>ProjectManagerId</th>\n",
       "      <th>ProjectScope</th>\n",
       "      <th>Title</th>\n",
       "    </tr>\n",
       "  </thead>\n",
       "  <tbody>\n",
       "    <tr>\n",
       "      <th>0</th>\n",
       "      <td>2009-12-23 17:00:00</td>\n",
       "      <td>2019-12-21 17:00:00</td>\n",
       "      <td> False</td>\n",
       "      <td> [{u'ProjectId': 1001, u'Name': u'Sandy Finn', ...</td>\n",
       "      <td> 1001</td>\n",
       "      <td>                   New Carwash</td>\n",
       "      <td> 1001</td>\n",
       "      <td> Cook, Kevin</td>\n",
       "      <td> 3328</td>\n",
       "      <td>                                                  </td>\n",
       "      <td>                 TESTPROJECT</td>\n",
       "    </tr>\n",
       "    <tr>\n",
       "      <th>1</th>\n",
       "      <td>2005-06-28 17:00:00</td>\n",
       "      <td>                NaT</td>\n",
       "      <td> False</td>\n",
       "      <td> [{u'ProjectId': 1040, u'Name': u'Michael E Tur...</td>\n",
       "      <td> 1040</td>\n",
       "      <td>                  4026 RIVIERA</td>\n",
       "      <td> 1040</td>\n",
       "      <td>  Korch, Bob</td>\n",
       "      <td> 3367</td>\n",
       "      <td> Pacific Beach, WO#41-0365. (PROCESS 3) Coastal...</td>\n",
       "      <td>                4026 Riviera</td>\n",
       "    </tr>\n",
       "    <tr>\n",
       "      <th>2</th>\n",
       "      <td>2005-06-28 17:00:00</td>\n",
       "      <td>                NaT</td>\n",
       "      <td> False</td>\n",
       "      <td> [{u'ProjectId': 1041, u'Name': u'Michael E Tur...</td>\n",
       "      <td> 1041</td>\n",
       "      <td>                  4040 RIVIERA</td>\n",
       "      <td> 1041</td>\n",
       "      <td>  Korch, Bob</td>\n",
       "      <td> 3367</td>\n",
       "      <td> Pacific Beach, WO#41-0364. (PROCESS 3) Coastal...</td>\n",
       "      <td>                4040 Riviera</td>\n",
       "    </tr>\n",
       "    <tr>\n",
       "      <th>3</th>\n",
       "      <td>2003-08-15 17:00:00</td>\n",
       "      <td>2005-11-28 17:00:00</td>\n",
       "      <td>  True</td>\n",
       "      <td> [{u'ProjectId': 1096, u'Name': u'Mark Davis', ...</td>\n",
       "      <td> 1096</td>\n",
       "      <td> Lot 11 Bernardo Industrial Pk</td>\n",
       "      <td> 1096</td>\n",
       "      <td>   Daly, Tim</td>\n",
       "      <td> 3130</td>\n",
       "      <td> JO# 41-0679, RANCHO BERNARDO;  (PROCESS 4) Sit...</td>\n",
       "      <td>      Rancho Bernardo Lot 11</td>\n",
       "    </tr>\n",
       "    <tr>\n",
       "      <th>4</th>\n",
       "      <td>2004-12-15 17:00:00</td>\n",
       "      <td>                NaT</td>\n",
       "      <td> False</td>\n",
       "      <td> [{u'ProjectId': 1102, u'Name': u'Bob Kaplan', ...</td>\n",
       "      <td> 1102</td>\n",
       "      <td>   Marriott Residence Inn - MV</td>\n",
       "      <td> 1102</td>\n",
       "      <td>  Sammak, Mo</td>\n",
       "      <td> 2980</td>\n",
       "      <td> Grading and public improvoement.  See WO#41058...</td>\n",
       "      <td> Marriott Residence Inn - MV</td>\n",
       "    </tr>\n",
       "  </tbody>\n",
       "</table>\n",
       "<p>5 rows × 11 columns</p>\n",
       "</div>"
      ],
      "text/plain": [
       "      ApplicationDate ApplicationExpiration ApplicationExpired  \\\n",
       "0 2009-12-23 17:00:00   2019-12-21 17:00:00              False   \n",
       "1 2005-06-28 17:00:00                   NaT              False   \n",
       "2 2005-06-28 17:00:00                   NaT              False   \n",
       "3 2003-08-15 17:00:00   2005-11-28 17:00:00               True   \n",
       "4 2004-12-15 17:00:00                   NaT              False   \n",
       "\n",
       "                                           Customers  DevelopmentId  \\\n",
       "0  [{u'ProjectId': 1001, u'Name': u'Sandy Finn', ...           1001   \n",
       "1  [{u'ProjectId': 1040, u'Name': u'Michael E Tur...           1040   \n",
       "2  [{u'ProjectId': 1041, u'Name': u'Michael E Tur...           1041   \n",
       "3  [{u'ProjectId': 1096, u'Name': u'Mark Davis', ...           1096   \n",
       "4  [{u'ProjectId': 1102, u'Name': u'Bob Kaplan', ...           1102   \n",
       "\n",
       "                DevelopmentTitle  ProjectId ProjectManager  ProjectManagerId  \\\n",
       "0                    New Carwash       1001    Cook, Kevin              3328   \n",
       "1                   4026 RIVIERA       1040     Korch, Bob              3367   \n",
       "2                   4040 RIVIERA       1041     Korch, Bob              3367   \n",
       "3  Lot 11 Bernardo Industrial Pk       1096      Daly, Tim              3130   \n",
       "4    Marriott Residence Inn - MV       1102     Sammak, Mo              2980   \n",
       "\n",
       "                                        ProjectScope  \\\n",
       "0                                                      \n",
       "1  Pacific Beach, WO#41-0365. (PROCESS 3) Coastal...   \n",
       "2  Pacific Beach, WO#41-0364. (PROCESS 3) Coastal...   \n",
       "3  JO# 41-0679, RANCHO BERNARDO;  (PROCESS 4) Sit...   \n",
       "4  Grading and public improvoement.  See WO#41058...   \n",
       "\n",
       "                         Title  \n",
       "0                  TESTPROJECT  \n",
       "1                 4026 Riviera  \n",
       "2                 4040 Riviera  \n",
       "3       Rancho Bernardo Lot 11  \n",
       "4  Marriott Residence Inn - MV  \n",
       "\n",
       "[5 rows x 11 columns]"
      ]
     },
     "execution_count": 43,
     "metadata": {},
     "output_type": "execute_result"
    }
   ],
   "source": [
    "df.head()"
   ]
  },
  {
   "cell_type": "code",
   "execution_count": 57,
   "metadata": {
    "collapsed": false
   },
   "outputs": [],
   "source": [
    "customers_count = []\n",
    "\n",
    "for i in df.Customers:\n",
    "    customers_count.append(len(i))"
   ]
  },
  {
   "cell_type": "code",
   "execution_count": 58,
   "metadata": {
    "collapsed": false
   },
   "outputs": [
    {
     "data": {
      "text/plain": [
       "Counter({3: 61473, 2: 50305, 4: 28936, 1: 24990, 5: 19989, 6: 15877, 7: 10445, 8: 6752, 9: 4235, 10: 2456, 0: 1873, 11: 1464, 12: 818, 13: 485, 14: 321, 15: 192, 16: 121, 17: 81, 18: 51, 20: 34, 19: 27, 21: 20, 24: 11, 23: 10, 22: 9, 25: 5, 28: 5, 29: 4, 32: 4, 35: 4, 26: 3, 27: 3, 30: 2, 31: 1, 33: 1, 34: 1, 41: 1})"
      ]
     },
     "execution_count": 58,
     "metadata": {},
     "output_type": "execute_result"
    }
   ],
   "source": [
    "from collections import Counter\n",
    "\n",
    "Counter(customers_count)"
   ]
  },
  {
   "cell_type": "code",
   "execution_count": 47,
   "metadata": {
    "collapsed": false
   },
   "outputs": [],
   "source": [
    "def gen_customers(series):\n",
    "    for i in series:\n",
    "        n = len(i)\n",
    "        \n",
    "        for j in range(n):\n",
    "            yield i[j]"
   ]
  },
  {
   "cell_type": "code",
   "execution_count": 48,
   "metadata": {
    "collapsed": false
   },
   "outputs": [],
   "source": [
    "customers = pd.DataFrame(gen_customers(df.Customers))"
   ]
  },
  {
   "cell_type": "code",
   "execution_count": 75,
   "metadata": {
    "collapsed": false
   },
   "outputs": [],
   "source": [
    "#customers.to_csv('/home/damoncrockett/vosd.org/215-opendsd/customers_complete.csv', encoding= 'utf-8')"
   ]
  },
  {
   "cell_type": "code",
   "execution_count": 76,
   "metadata": {
    "collapsed": false
   },
   "outputs": [],
   "source": [
    "del df['Customers']"
   ]
  },
  {
   "cell_type": "code",
   "execution_count": 77,
   "metadata": {
    "collapsed": false
   },
   "outputs": [
    {
     "data": {
      "text/html": [
       "<div style=\"max-height:1000px;max-width:1500px;overflow:auto;\">\n",
       "<table border=\"1\" class=\"dataframe\">\n",
       "  <thead>\n",
       "    <tr style=\"text-align: right;\">\n",
       "      <th></th>\n",
       "      <th>ApplicationDate</th>\n",
       "      <th>ApplicationExpiration</th>\n",
       "      <th>ApplicationExpired</th>\n",
       "      <th>DevelopmentId</th>\n",
       "      <th>DevelopmentTitle</th>\n",
       "      <th>ProjectId</th>\n",
       "      <th>ProjectManager</th>\n",
       "      <th>ProjectManagerId</th>\n",
       "      <th>ProjectScope</th>\n",
       "      <th>Title</th>\n",
       "    </tr>\n",
       "  </thead>\n",
       "  <tbody>\n",
       "    <tr>\n",
       "      <th>0</th>\n",
       "      <td>2009-12-23 17:00:00</td>\n",
       "      <td>2019-12-21 17:00:00</td>\n",
       "      <td> False</td>\n",
       "      <td> 1001</td>\n",
       "      <td>                   New Carwash</td>\n",
       "      <td> 1001</td>\n",
       "      <td> Cook, Kevin</td>\n",
       "      <td> 3328</td>\n",
       "      <td>                                                  </td>\n",
       "      <td>                 TESTPROJECT</td>\n",
       "    </tr>\n",
       "    <tr>\n",
       "      <th>1</th>\n",
       "      <td>2005-06-28 17:00:00</td>\n",
       "      <td>                NaT</td>\n",
       "      <td> False</td>\n",
       "      <td> 1040</td>\n",
       "      <td>                  4026 RIVIERA</td>\n",
       "      <td> 1040</td>\n",
       "      <td>  Korch, Bob</td>\n",
       "      <td> 3367</td>\n",
       "      <td> Pacific Beach, WO#41-0365. (PROCESS 3) Coastal...</td>\n",
       "      <td>                4026 Riviera</td>\n",
       "    </tr>\n",
       "    <tr>\n",
       "      <th>2</th>\n",
       "      <td>2005-06-28 17:00:00</td>\n",
       "      <td>                NaT</td>\n",
       "      <td> False</td>\n",
       "      <td> 1041</td>\n",
       "      <td>                  4040 RIVIERA</td>\n",
       "      <td> 1041</td>\n",
       "      <td>  Korch, Bob</td>\n",
       "      <td> 3367</td>\n",
       "      <td> Pacific Beach, WO#41-0364. (PROCESS 3) Coastal...</td>\n",
       "      <td>                4040 Riviera</td>\n",
       "    </tr>\n",
       "    <tr>\n",
       "      <th>3</th>\n",
       "      <td>2003-08-15 17:00:00</td>\n",
       "      <td>2005-11-28 17:00:00</td>\n",
       "      <td>  True</td>\n",
       "      <td> 1096</td>\n",
       "      <td> Lot 11 Bernardo Industrial Pk</td>\n",
       "      <td> 1096</td>\n",
       "      <td>   Daly, Tim</td>\n",
       "      <td> 3130</td>\n",
       "      <td> JO# 41-0679, RANCHO BERNARDO;  (PROCESS 4) Sit...</td>\n",
       "      <td>      Rancho Bernardo Lot 11</td>\n",
       "    </tr>\n",
       "    <tr>\n",
       "      <th>4</th>\n",
       "      <td>2004-12-15 17:00:00</td>\n",
       "      <td>                NaT</td>\n",
       "      <td> False</td>\n",
       "      <td> 1102</td>\n",
       "      <td>   Marriott Residence Inn - MV</td>\n",
       "      <td> 1102</td>\n",
       "      <td>  Sammak, Mo</td>\n",
       "      <td> 2980</td>\n",
       "      <td> Grading and public improvoement.  See WO#41058...</td>\n",
       "      <td> Marriott Residence Inn - MV</td>\n",
       "    </tr>\n",
       "  </tbody>\n",
       "</table>\n",
       "<p>5 rows × 10 columns</p>\n",
       "</div>"
      ],
      "text/plain": [
       "      ApplicationDate ApplicationExpiration ApplicationExpired  DevelopmentId  \\\n",
       "0 2009-12-23 17:00:00   2019-12-21 17:00:00              False           1001   \n",
       "1 2005-06-28 17:00:00                   NaT              False           1040   \n",
       "2 2005-06-28 17:00:00                   NaT              False           1041   \n",
       "3 2003-08-15 17:00:00   2005-11-28 17:00:00               True           1096   \n",
       "4 2004-12-15 17:00:00                   NaT              False           1102   \n",
       "\n",
       "                DevelopmentTitle  ProjectId ProjectManager  ProjectManagerId  \\\n",
       "0                    New Carwash       1001    Cook, Kevin              3328   \n",
       "1                   4026 RIVIERA       1040     Korch, Bob              3367   \n",
       "2                   4040 RIVIERA       1041     Korch, Bob              3367   \n",
       "3  Lot 11 Bernardo Industrial Pk       1096      Daly, Tim              3130   \n",
       "4    Marriott Residence Inn - MV       1102     Sammak, Mo              2980   \n",
       "\n",
       "                                        ProjectScope  \\\n",
       "0                                                      \n",
       "1  Pacific Beach, WO#41-0365. (PROCESS 3) Coastal...   \n",
       "2  Pacific Beach, WO#41-0364. (PROCESS 3) Coastal...   \n",
       "3  JO# 41-0679, RANCHO BERNARDO;  (PROCESS 4) Sit...   \n",
       "4  Grading and public improvoement.  See WO#41058...   \n",
       "\n",
       "                         Title  \n",
       "0                  TESTPROJECT  \n",
       "1                 4026 Riviera  \n",
       "2                 4040 Riviera  \n",
       "3       Rancho Bernardo Lot 11  \n",
       "4  Marriott Residence Inn - MV  \n",
       "\n",
       "[5 rows x 10 columns]"
      ]
     },
     "execution_count": 77,
     "metadata": {},
     "output_type": "execute_result"
    }
   ],
   "source": [
    "df.head()"
   ]
  },
  {
   "cell_type": "code",
   "execution_count": null,
   "metadata": {
    "collapsed": false
   },
   "outputs": [],
   "source": []
  },
  {
   "cell_type": "code",
   "execution_count": 78,
   "metadata": {
    "collapsed": false
   },
   "outputs": [],
   "source": [
    "#df.to_csv('/home/damoncrockett/vosd.org/215-opendsd/dev_proj_cust.csv', encoding= 'utf-8')"
   ]
  }
 ],
 "metadata": {
  "kernelspec": {
   "display_name": "Python 2",
   "language": "python",
   "name": "python2"
  },
  "language_info": {
   "codemirror_mode": {
    "name": "ipython",
    "version": 2
   },
   "file_extension": ".py",
   "mimetype": "text/x-python",
   "name": "python",
   "nbconvert_exporter": "python",
   "pygments_lexer": "ipython2",
   "version": "2.7.10"
  }
 },
 "nbformat": 4,
 "nbformat_minor": 0
}
