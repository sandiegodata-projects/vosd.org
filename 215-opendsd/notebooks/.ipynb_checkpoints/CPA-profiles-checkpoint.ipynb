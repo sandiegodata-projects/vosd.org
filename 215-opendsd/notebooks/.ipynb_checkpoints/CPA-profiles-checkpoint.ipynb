{
 "cells": [
  {
   "cell_type": "code",
   "execution_count": 1,
   "metadata": {
    "collapsed": true
   },
   "outputs": [],
   "source": [
    "import pandas as pd"
   ]
  },
  {
   "cell_type": "code",
   "execution_count": 11,
   "metadata": {
    "collapsed": true
   },
   "outputs": [],
   "source": [
    "import numpy as np"
   ]
  },
  {
   "cell_type": "code",
   "execution_count": 27,
   "metadata": {
    "collapsed": true
   },
   "outputs": [],
   "source": [
    "p = pd.read_csv('/Users/damoncrockett/vosd.org/215-opendsd/tables/CPA_profiles.csv')"
   ]
  },
  {
   "cell_type": "code",
   "execution_count": 28,
   "metadata": {
    "collapsed": true
   },
   "outputs": [],
   "source": [
    "m = pd.read_csv('/Users/damoncrockett/vosd.org/215-opendsd/tables/invoices_CPA.csv')"
   ]
  },
  {
   "cell_type": "code",
   "execution_count": 29,
   "metadata": {
    "collapsed": false
   },
   "outputs": [],
   "source": [
    "tmp = m.groupby('CPA').agg({'TotalAmount':np.sum})\n",
    "tmp.reset_index(inplace=True)"
   ]
  },
  {
   "cell_type": "code",
   "execution_count": 30,
   "metadata": {
    "collapsed": false
   },
   "outputs": [],
   "source": [
    "p['fees'] = m['TotalAmount']"
   ]
  },
  {
   "cell_type": "code",
   "execution_count": 31,
   "metadata": {
    "collapsed": false
   },
   "outputs": [],
   "source": [
    "p['fp-parcel'] = p.fees/p.parcels\n",
    "p['fp-permit'] = p.fees/p.permit_count"
   ]
  },
  {
   "cell_type": "code",
   "execution_count": 32,
   "metadata": {
    "collapsed": true
   },
   "outputs": [],
   "source": [
    "d = pd.read_csv('/Users/damoncrockett/vosd.org/215-opendsd/tables/parcels_in_CPA_SD.csv')"
   ]
  },
  {
   "cell_type": "code",
   "execution_count": 35,
   "metadata": {
    "collapsed": false
   },
   "outputs": [],
   "source": [
    "tmp = d.groupby('community_name').agg({'unitqty':np.sum})\n",
    "tmp.reset_index(inplace=True)"
   ]
  },
  {
   "cell_type": "code",
   "execution_count": 38,
   "metadata": {
    "collapsed": true
   },
   "outputs": [],
   "source": [
    "p['total_units'] = tmp.unitqty"
   ]
  },
  {
   "cell_type": "code",
   "execution_count": 41,
   "metadata": {
    "collapsed": false
   },
   "outputs": [],
   "source": [
    "p['unit_density'] = p.total_units/p.area"
   ]
  },
  {
   "cell_type": "code",
   "execution_count": 42,
   "metadata": {
    "collapsed": true
   },
   "outputs": [],
   "source": [
    "p['units-per-parcel'] = p.total_units/p.parcels"
   ]
  },
  {
   "cell_type": "code",
   "execution_count": 44,
   "metadata": {
    "collapsed": true
   },
   "outputs": [],
   "source": [
    "df = pd.read_csv('/Users/damoncrockett/vosd.org/215-opendsd/tables/approvals_parcels_CPA_2.csv')"
   ]
  },
  {
   "cell_type": "code",
   "execution_count": 46,
   "metadata": {
    "collapsed": false
   },
   "outputs": [
    {
     "name": "stdout",
     "output_type": "stream",
     "text": [
      "<class 'pandas.core.frame.DataFrame'>\n",
      "Int64Index: 360725 entries, 0 to 360724\n",
      "Data columns (total 32 columns):\n",
      "Unnamed: 0         360725 non-null int64\n",
      "APN                360725 non-null int64\n",
      "ApplicationYear    360725 non-null int64\n",
      "TimetoIssue        314060 non-null float64\n",
      "Status             360725 non-null object\n",
      "StreetAddress      360725 non-null object\n",
      "Type               360725 non-null object\n",
      "category           358956 non-null object\n",
      "ProjectId          360725 non-null int64\n",
      "ApprovalId         360725 non-null int64\n",
      "Latitude           360725 non-null float64\n",
      "Longitude          360725 non-null float64\n",
      "CPA                360546 non-null object\n",
      "situs_juri         330699 non-null object\n",
      "asr_land           330699 non-null float64\n",
      "asr_impr           330699 non-null float64\n",
      "asr_total          330699 non-null float64\n",
      "shape_area         330699 non-null float64\n",
      "own_name1          330699 non-null object\n",
      "own_name2          23457 non-null object\n",
      "own_name3          2890 non-null object\n",
      "ownerocc           132909 non-null object\n",
      "taxstat            330699 non-null object\n",
      "tranum             330699 non-null float64\n",
      "nucleus_zo         330699 non-null float64\n",
      "asr_landus         330699 non-null float64\n",
      "nucleus_us         330699 non-null float64\n",
      "unitqty            330699 non-null float64\n",
      "multi              320885 non-null object\n",
      "lat                330699 non-null float64\n",
      "lon                330699 non-null float64\n",
      "community_name     330699 non-null object\n",
      "dtypes: float64(14), int64(5), object(13)\n",
      "memory usage: 90.8+ MB\n"
     ]
    }
   ],
   "source": [
    "df.info()"
   ]
  },
  {
   "cell_type": "code",
   "execution_count": 45,
   "metadata": {
    "collapsed": false
   },
   "outputs": [
    {
     "name": "stdout",
     "output_type": "stream",
     "text": [
      "<class 'pandas.core.frame.DataFrame'>\n",
      "Int64Index: 57 entries, 0 to 56\n",
      "Data columns (total 17 columns):\n",
      "community_name      57 non-null object\n",
      "asr_land            57 non-null float64\n",
      "asr_impr            57 non-null float64\n",
      "asr_total           57 non-null float64\n",
      "lat                 57 non-null float64\n",
      "lon                 57 non-null float64\n",
      "parcels             57 non-null int64\n",
      "area                57 non-null float64\n",
      "parcel_density      57 non-null float64\n",
      "permit_count        57 non-null int64\n",
      "per-par_ratio       57 non-null float64\n",
      "fees                57 non-null float64\n",
      "fp-parcel           57 non-null float64\n",
      "fp-permit           57 non-null float64\n",
      "total_units         57 non-null int64\n",
      "unit_density        57 non-null float64\n",
      "units-per-parcel    57 non-null float64\n",
      "dtypes: float64(13), int64(3), object(1)\n",
      "memory usage: 8.0+ KB\n"
     ]
    }
   ],
   "source": [
    "p.info()"
   ]
  },
  {
   "cell_type": "code",
   "execution_count": 53,
   "metadata": {
    "collapsed": false
   },
   "outputs": [],
   "source": [
    "p.community_name = p.community_name.map(lambda x:x.lower())"
   ]
  },
  {
   "cell_type": "code",
   "execution_count": 54,
   "metadata": {
    "collapsed": true
   },
   "outputs": [],
   "source": [
    "d_permits = []\n",
    "for name in p.community_name:\n",
    "    num_d_permits = len(df.index[(df.CPA==name)&(df.category=='Discretionary')])\n",
    "    d_permits.append(num_d_permits)"
   ]
  },
  {
   "cell_type": "code",
   "execution_count": 56,
   "metadata": {
    "collapsed": true
   },
   "outputs": [],
   "source": [
    "p['d_permit_count'] = d_permits"
   ]
  },
  {
   "cell_type": "code",
   "execution_count": 58,
   "metadata": {
    "collapsed": false
   },
   "outputs": [],
   "source": [
    "p['d_ratio'] = p.d_permit_count/p.permit_count"
   ]
  },
  {
   "cell_type": "code",
   "execution_count": 59,
   "metadata": {
    "collapsed": false
   },
   "outputs": [
    {
     "name": "stdout",
     "output_type": "stream",
     "text": [
      "<class 'pandas.core.frame.DataFrame'>\n",
      "Int64Index: 57 entries, 0 to 56\n",
      "Data columns (total 19 columns):\n",
      "community_name      57 non-null object\n",
      "asr_land            57 non-null float64\n",
      "asr_impr            57 non-null float64\n",
      "asr_total           57 non-null float64\n",
      "lat                 57 non-null float64\n",
      "lon                 57 non-null float64\n",
      "parcels             57 non-null int64\n",
      "area                57 non-null float64\n",
      "parcel_density      57 non-null float64\n",
      "permit_count        57 non-null int64\n",
      "per-par_ratio       57 non-null float64\n",
      "fees                57 non-null float64\n",
      "fp-parcel           57 non-null float64\n",
      "fp-permit           57 non-null float64\n",
      "total_units         57 non-null int64\n",
      "unit_density        57 non-null float64\n",
      "units-per-parcel    57 non-null float64\n",
      "d_permit_count      57 non-null int64\n",
      "d_ratio             57 non-null float64\n",
      "dtypes: float64(14), int64(4), object(1)\n",
      "memory usage: 8.9+ KB\n"
     ]
    }
   ],
   "source": [
    "p.info()"
   ]
  },
  {
   "cell_type": "code",
   "execution_count": 60,
   "metadata": {
    "collapsed": true
   },
   "outputs": [],
   "source": [
    "p.to_csv('/Users/damoncrockett/vosd.org/215-opendsd/tables/CPA_profiles_2.csv',index=False)"
   ]
  },
  {
   "cell_type": "code",
   "execution_count": null,
   "metadata": {
    "collapsed": true
   },
   "outputs": [],
   "source": []
  }
 ],
 "metadata": {
  "kernelspec": {
   "display_name": "Python 2",
   "language": "python",
   "name": "python2"
  },
  "language_info": {
   "codemirror_mode": {
    "name": "ipython",
    "version": 2
   },
   "file_extension": ".py",
   "mimetype": "text/x-python",
   "name": "python",
   "nbconvert_exporter": "python",
   "pygments_lexer": "ipython2",
   "version": "2.7.6"
  }
 },
 "nbformat": 4,
 "nbformat_minor": 0
}
