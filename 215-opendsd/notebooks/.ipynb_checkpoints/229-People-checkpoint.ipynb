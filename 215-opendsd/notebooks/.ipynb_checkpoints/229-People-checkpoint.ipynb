{
 "cells": [
  {
   "cell_type": "code",
   "execution_count": 5,
   "metadata": {
    "collapsed": false
   },
   "outputs": [],
   "source": [
    "%matplotlib inline\n",
    "import pandas as pd\n",
    "import sqlite3\n",
    "import json\n",
    "import dateutil.parser\n",
    "import datetime\n",
    "import os\n",
    "import gzip\n",
    "import numpy as np\n",
    "import matplotlib.pyplot as plt\n",
    "from scipy.stats import *"
   ]
  },
  {
   "cell_type": "code",
   "execution_count": 109,
   "metadata": {
    "collapsed": true
   },
   "outputs": [],
   "source": [
    "DIR = \"/Users/damoncrockett/vosd.org/215-opendsd/tables/\""
   ]
  },
  {
   "cell_type": "code",
   "execution_count": 6,
   "metadata": {
    "collapsed": false
   },
   "outputs": [
    {
     "name": "stderr",
     "output_type": "stream",
     "text": [
      "/Library/Python/2.7/site-packages/pandas/io/parsers.py:1170: DtypeWarning: Columns (11,14) have mixed types. Specify dtype option on import or set low_memory=False.\n",
      "  data = self._reader.read(nrows)\n"
     ]
    }
   ],
   "source": [
    "approvals = pd.read_csv(DIR+'approval_master_FULL.csv')"
   ]
  },
  {
   "cell_type": "code",
   "execution_count": 7,
   "metadata": {
    "collapsed": false
   },
   "outputs": [],
   "source": [
    "del approvals['Unnamed: 0']"
   ]
  },
  {
   "cell_type": "code",
   "execution_count": 100,
   "metadata": {
    "collapsed": false
   },
   "outputs": [
    {
     "data": {
      "text/plain": [
       "388645"
      ]
     },
     "execution_count": 100,
     "metadata": {},
     "output_type": "execute_result"
    }
   ],
   "source": [
    "sum(approvals.ProjectId.value_counts())"
   ]
  },
  {
   "cell_type": "markdown",
   "metadata": {},
   "source": [
    "#### project managers: discretionary permits"
   ]
  },
  {
   "cell_type": "code",
   "execution_count": 8,
   "metadata": {
    "collapsed": false
   },
   "outputs": [],
   "source": [
    "discretionary = approvals[approvals.category == 'Discretionary']"
   ]
  },
  {
   "cell_type": "code",
   "execution_count": 9,
   "metadata": {
    "collapsed": false
   },
   "outputs": [
    {
     "data": {
      "text/plain": [
       "8228"
      ]
     },
     "execution_count": 9,
     "metadata": {},
     "output_type": "execute_result"
    }
   ],
   "source": [
    "len(discretionary.index)"
   ]
  },
  {
   "cell_type": "code",
   "execution_count": 10,
   "metadata": {
    "collapsed": false
   },
   "outputs": [
    {
     "data": {
      "text/plain": [
       "102"
      ]
     },
     "execution_count": 10,
     "metadata": {},
     "output_type": "execute_result"
    }
   ],
   "source": [
    "len(discretionary.ProjectManager.unique())"
   ]
  },
  {
   "cell_type": "code",
   "execution_count": 11,
   "metadata": {
    "collapsed": false
   },
   "outputs": [
    {
     "data": {
      "text/plain": [
       "<matplotlib.axes._subplots.AxesSubplot at 0x123ba57d0>"
      ]
     },
     "execution_count": 11,
     "metadata": {},
     "output_type": "execute_result"
    },
    {
     "data": {
      "image/png": "[encoded data removed]",
      "text/plain": [
       "<matplotlib.figure.Figure at 0x123ba52d0>"
      ]
     },
     "metadata": {},
     "output_type": "display_data"
    }
   ],
   "source": [
    "discretionary.TimetoIssue.hist(bins=450, figsize = (10,5))"
   ]
  },
  {
   "cell_type": "code",
   "execution_count": 12,
   "metadata": {
    "collapsed": false
   },
   "outputs": [
    {
     "data": {
      "text/plain": [
       "530.09650408205982"
      ]
     },
     "execution_count": 12,
     "metadata": {},
     "output_type": "execute_result"
    }
   ],
   "source": [
    "np.mean(discretionary.TimetoIssue)"
   ]
  },
  {
   "cell_type": "code",
   "execution_count": 13,
   "metadata": {
    "collapsed": false
   },
   "outputs": [
    {
     "data": {
      "text/plain": [
       "952.5"
      ]
     },
     "execution_count": 13,
     "metadata": {},
     "output_type": "execute_result"
    }
   ],
   "source": [
    "np.median(discretionary.TimetoIssue)"
   ]
  },
  {
   "cell_type": "code",
   "execution_count": 14,
   "metadata": {
    "collapsed": false
   },
   "outputs": [
    {
     "data": {
      "text/plain": [
       "26"
      ]
     },
     "execution_count": 14,
     "metadata": {},
     "output_type": "execute_result"
    }
   ],
   "source": [
    "len(discretionary.index[discretionary.TimetoIssue > 2750])"
   ]
  },
  {
   "cell_type": "code",
   "execution_count": 15,
   "metadata": {
    "collapsed": false
   },
   "outputs": [
    {
     "data": {
      "text/plain": [
       "514.26836455483055"
      ]
     },
     "execution_count": 15,
     "metadata": {},
     "output_type": "execute_result"
    }
   ],
   "source": [
    "np.mean(discretionary.TimetoIssue[discretionary.TimetoIssue < 2750])"
   ]
  },
  {
   "cell_type": "code",
   "execution_count": 16,
   "metadata": {
    "collapsed": false
   },
   "outputs": [],
   "source": [
    "tmp = discretionary[['ProjectManager','TimetoIssue']]\n",
    "by_pm = tmp.groupby('ProjectManager')\n",
    "tmp = by_pm.agg(np.median).sort(['TimetoIssue'])\n",
    "tmp['Count'] = by_pm.size()\n"
   ]
  },
  {
   "cell_type": "code",
   "execution_count": 17,
   "metadata": {
    "collapsed": false
   },
   "outputs": [
    {
     "data": {
      "text/plain": [
       "(nan, 1.0)"
      ]
     },
     "execution_count": 17,
     "metadata": {},
     "output_type": "execute_result"
    }
   ],
   "source": [
    "pearsonr(tmp.Count,tmp.TimetoIssue)"
   ]
  },
  {
   "cell_type": "code",
   "execution_count": 18,
   "metadata": {
    "collapsed": false
   },
   "outputs": [
    {
     "data": {
      "text/html": [
       "<div>\n",
       "<table border=\"1\" class=\"dataframe\">\n",
       "  <thead>\n",
       "    <tr style=\"text-align: right;\">\n",
       "      <th></th>\n",
       "      <th>TimetoIssue</th>\n",
       "      <th>Count</th>\n",
       "    </tr>\n",
       "    <tr>\n",
       "      <th>ProjectManager</th>\n",
       "      <th></th>\n",
       "      <th></th>\n",
       "    </tr>\n",
       "  </thead>\n",
       "  <tbody>\n",
       "    <tr>\n",
       "      <th>Black, Laura</th>\n",
       "      <td>223.0</td>\n",
       "      <td>243</td>\n",
       "    </tr>\n",
       "    <tr>\n",
       "      <th>Gutierrez, Edith</th>\n",
       "      <td>239.0</td>\n",
       "      <td>147</td>\n",
       "    </tr>\n",
       "    <tr>\n",
       "      <th>Peterson, Jeff</th>\n",
       "      <td>260.5</td>\n",
       "      <td>366</td>\n",
       "    </tr>\n",
       "    <tr>\n",
       "      <th>Wilkinson, Cory</th>\n",
       "      <td>276.0</td>\n",
       "      <td>110</td>\n",
       "    </tr>\n",
       "    <tr>\n",
       "      <th>Iskandar, Laila</th>\n",
       "      <td>292.0</td>\n",
       "      <td>230</td>\n",
       "    </tr>\n",
       "    <tr>\n",
       "      <th>Tse, Simon</th>\n",
       "      <td>292.0</td>\n",
       "      <td>195</td>\n",
       "    </tr>\n",
       "    <tr>\n",
       "      <th>Godwin, Paul</th>\n",
       "      <td>309.0</td>\n",
       "      <td>190</td>\n",
       "    </tr>\n",
       "    <tr>\n",
       "      <th>Lewis, Vena</th>\n",
       "      <td>336.0</td>\n",
       "      <td>107</td>\n",
       "    </tr>\n",
       "    <tr>\n",
       "      <th>Mezo, Renee</th>\n",
       "      <td>357.0</td>\n",
       "      <td>324</td>\n",
       "    </tr>\n",
       "    <tr>\n",
       "      <th>Zounes, Will</th>\n",
       "      <td>357.5</td>\n",
       "      <td>447</td>\n",
       "    </tr>\n",
       "    <tr>\n",
       "      <th>Johnson, Derrick</th>\n",
       "      <td>362.0</td>\n",
       "      <td>147</td>\n",
       "    </tr>\n",
       "    <tr>\n",
       "      <th>Hempton, Alexander</th>\n",
       "      <td>368.5</td>\n",
       "      <td>364</td>\n",
       "    </tr>\n",
       "    <tr>\n",
       "      <th>Korch, Bob</th>\n",
       "      <td>373.0</td>\n",
       "      <td>306</td>\n",
       "    </tr>\n",
       "    <tr>\n",
       "      <th>Hooper, Patrick</th>\n",
       "      <td>390.0</td>\n",
       "      <td>191</td>\n",
       "    </tr>\n",
       "    <tr>\n",
       "      <th>Lynch, Karen</th>\n",
       "      <td>397.0</td>\n",
       "      <td>245</td>\n",
       "    </tr>\n",
       "    <tr>\n",
       "      <th>Fisher, John</th>\n",
       "      <td>403.0</td>\n",
       "      <td>399</td>\n",
       "    </tr>\n",
       "    <tr>\n",
       "      <th>Sokolowski, Michelle</th>\n",
       "      <td>424.0</td>\n",
       "      <td>287</td>\n",
       "    </tr>\n",
       "    <tr>\n",
       "      <th>Westlake, Mike</th>\n",
       "      <td>433.5</td>\n",
       "      <td>198</td>\n",
       "    </tr>\n",
       "    <tr>\n",
       "      <th>Temple, Jeannette</th>\n",
       "      <td>468.0</td>\n",
       "      <td>223</td>\n",
       "    </tr>\n",
       "    <tr>\n",
       "      <th>Teasley, Sandra</th>\n",
       "      <td>471.0</td>\n",
       "      <td>347</td>\n",
       "    </tr>\n",
       "    <tr>\n",
       "      <th>Lynch, Pete</th>\n",
       "      <td>472.0</td>\n",
       "      <td>169</td>\n",
       "    </tr>\n",
       "    <tr>\n",
       "      <th>Deisher, Helene</th>\n",
       "      <td>508.0</td>\n",
       "      <td>224</td>\n",
       "    </tr>\n",
       "    <tr>\n",
       "      <th>Gargas, Glenn</th>\n",
       "      <td>508.0</td>\n",
       "      <td>539</td>\n",
       "    </tr>\n",
       "    <tr>\n",
       "      <th>Daly, Tim</th>\n",
       "      <td>569.0</td>\n",
       "      <td>244</td>\n",
       "    </tr>\n",
       "    <tr>\n",
       "      <th>Fitzgerald, PJ</th>\n",
       "      <td>592.5</td>\n",
       "      <td>164</td>\n",
       "    </tr>\n",
       "    <tr>\n",
       "      <th>Dye, Morris</th>\n",
       "      <td>797.0</td>\n",
       "      <td>281</td>\n",
       "    </tr>\n",
       "  </tbody>\n",
       "</table>\n",
       "</div>"
      ],
      "text/plain": [
       "                      TimetoIssue  Count\n",
       "ProjectManager                          \n",
       "Black, Laura                223.0    243\n",
       "Gutierrez, Edith            239.0    147\n",
       "Peterson, Jeff              260.5    366\n",
       "Wilkinson, Cory             276.0    110\n",
       "Iskandar, Laila             292.0    230\n",
       "Tse, Simon                  292.0    195\n",
       "Godwin, Paul                309.0    190\n",
       "Lewis, Vena                 336.0    107\n",
       "Mezo, Renee                 357.0    324\n",
       "Zounes, Will                357.5    447\n",
       "Johnson, Derrick            362.0    147\n",
       "Hempton, Alexander          368.5    364\n",
       "Korch, Bob                  373.0    306\n",
       "Hooper, Patrick             390.0    191\n",
       "Lynch, Karen                397.0    245\n",
       "Fisher, John                403.0    399\n",
       "Sokolowski, Michelle        424.0    287\n",
       "Westlake, Mike              433.5    198\n",
       "Temple, Jeannette           468.0    223\n",
       "Teasley, Sandra             471.0    347\n",
       "Lynch, Pete                 472.0    169\n",
       "Deisher, Helene             508.0    224\n",
       "Gargas, Glenn               508.0    539\n",
       "Daly, Tim                   569.0    244\n",
       "Fitzgerald, PJ              592.5    164\n",
       "Dye, Morris                 797.0    281"
      ]
     },
     "execution_count": 18,
     "metadata": {},
     "output_type": "execute_result"
    }
   ],
   "source": [
    "tmp = tmp[tmp.Count > 100]\n",
    "#tmp.to_csv('/home/damoncrockett/vosd.org/215-opendsd/pm_time_count.csv')\n",
    "tmp"
   ]
  },
  {
   "cell_type": "code",
   "execution_count": 19,
   "metadata": {
    "collapsed": false
   },
   "outputs": [
    {
     "data": {
      "text/plain": [
       "(0.15275771946603109, 0.45627426958338946)"
      ]
     },
     "execution_count": 19,
     "metadata": {},
     "output_type": "execute_result"
    }
   ],
   "source": [
    "pearsonr(tmp.Count,tmp.TimetoIssue)"
   ]
  },
  {
   "cell_type": "code",
   "execution_count": 20,
   "metadata": {
    "collapsed": false
   },
   "outputs": [
    {
     "name": "stdout",
     "output_type": "stream",
     "text": [
      "(nan, 1.0)\n",
      "(nan, 1.0)\n",
      "(nan, 1.0)\n",
      "(nan, 1.0)\n",
      "(nan, 1.0)\n",
      "(nan, 1.0)\n",
      "(nan, 1.0)\n",
      "(nan, 1.0)\n",
      "(nan, 1.0)\n",
      "(nan, 1.0)\n",
      "(nan, 1.0)\n",
      "(nan, 1.0)\n",
      "(nan, 1.0)\n",
      "(nan, 1.0)\n",
      "(nan, 1.0)\n",
      "(nan, 1.0)\n",
      "(nan, 1.0)\n",
      "(nan, 1.0)\n",
      "(nan, 1.0)\n",
      "(nan, 1.0)\n",
      "(nan, 1.0)\n",
      "(nan, 1.0)\n",
      "(nan, 1.0)\n",
      "(nan, 1.0)\n",
      "(nan, 1.0)\n",
      "(nan, 1.0)\n"
     ]
    }
   ],
   "source": [
    "for i in tmp.index:\n",
    "    d = pd.DataFrame(discretionary[discretionary.ProjectManager == i])\n",
    "    print pearsonr(d.ApplicationYear,d.TimetoIssue)"
   ]
  },
  {
   "cell_type": "code",
   "execution_count": null,
   "metadata": {
    "collapsed": false
   },
   "outputs": [],
   "source": []
  },
  {
   "cell_type": "code",
   "execution_count": 21,
   "metadata": {
    "collapsed": false
   },
   "outputs": [],
   "source": [
    "dye = discretionary[discretionary.ProjectManager == 'Dye, Morris']"
   ]
  },
  {
   "cell_type": "code",
   "execution_count": 22,
   "metadata": {
    "collapsed": false
   },
   "outputs": [
    {
     "data": {
      "text/plain": [
       "'2003-01-02'"
      ]
     },
     "execution_count": 22,
     "metadata": {},
     "output_type": "execute_result"
    }
   ],
   "source": [
    "dye.ApplicationDate.min()"
   ]
  },
  {
   "cell_type": "code",
   "execution_count": 23,
   "metadata": {
    "collapsed": false
   },
   "outputs": [
    {
     "data": {
      "text/plain": [
       "'2014-10-30'"
      ]
     },
     "execution_count": 23,
     "metadata": {},
     "output_type": "execute_result"
    }
   ],
   "source": [
    "dye.ApplicationDate.max()"
   ]
  },
  {
   "cell_type": "code",
   "execution_count": 24,
   "metadata": {
    "collapsed": false
   },
   "outputs": [
    {
     "data": {
      "text/plain": [
       "<matplotlib.axes._subplots.AxesSubplot at 0x10c410b10>"
      ]
     },
     "execution_count": 24,
     "metadata": {},
     "output_type": "execute_result"
    },
    {
     "data": {
      "image/png": "[encoded data removed]",
      "text/plain": [
       "<matplotlib.figure.Figure at 0x112442ad0>"
      ]
     },
     "metadata": {},
     "output_type": "display_data"
    }
   ],
   "source": [
    "dye.ApplicationYear.hist(bins=12)"
   ]
  },
  {
   "cell_type": "markdown",
   "metadata": {},
   "source": [
    "#### some pearson tests I should've done in 229-permits"
   ]
  },
  {
   "cell_type": "code",
   "execution_count": 25,
   "metadata": {
    "collapsed": false
   },
   "outputs": [],
   "source": [
    "tmp = approvals[['Type','TimetoIssue','category']]\n",
    "by_type = tmp.groupby('Type')\n",
    "tmp = by_type.agg(np.median).sort(['TimetoIssue'])\n",
    "tmp['Count'] = by_type.size()"
   ]
  },
  {
   "cell_type": "code",
   "execution_count": 26,
   "metadata": {
    "collapsed": false
   },
   "outputs": [
    {
     "data": {
      "text/plain": [
       "(nan, 1.0)"
      ]
     },
     "execution_count": 26,
     "metadata": {},
     "output_type": "execute_result"
    }
   ],
   "source": [
    "pearsonr(tmp.Count, tmp.TimetoIssue)"
   ]
  },
  {
   "cell_type": "code",
   "execution_count": 27,
   "metadata": {
    "collapsed": false
   },
   "outputs": [],
   "source": [
    "tmp = approvals[['Type','TimetoIssue','category']]\n",
    "tmp = tmp[tmp.category == 'Ministerial']\n",
    "by_type = tmp.groupby('Type')\n",
    "tmp = by_type.agg(np.median).sort(['TimetoIssue'])\n",
    "tmp['Count'] = by_type.size()"
   ]
  },
  {
   "cell_type": "code",
   "execution_count": 28,
   "metadata": {
    "collapsed": false
   },
   "outputs": [
    {
     "data": {
      "text/plain": [
       "(nan, 1.0)"
      ]
     },
     "execution_count": 28,
     "metadata": {},
     "output_type": "execute_result"
    }
   ],
   "source": [
    "pearsonr(tmp.Count, tmp.TimetoIssue)"
   ]
  },
  {
   "cell_type": "code",
   "execution_count": 29,
   "metadata": {
    "collapsed": false
   },
   "outputs": [],
   "source": [
    "tmp = approvals[['Type','TimetoIssue','category']]\n",
    "tmp = tmp[tmp.category == 'Discretionary']\n",
    "by_type = tmp.groupby('Type')\n",
    "tmp = by_type.agg(np.median).sort(['TimetoIssue'])\n",
    "tmp['Count'] = by_type.size()"
   ]
  },
  {
   "cell_type": "code",
   "execution_count": 30,
   "metadata": {
    "collapsed": false
   },
   "outputs": [
    {
     "data": {
      "text/plain": [
       "(nan, 1.0)"
      ]
     },
     "execution_count": 30,
     "metadata": {},
     "output_type": "execute_result"
    }
   ],
   "source": [
    "pearsonr(tmp.Count, tmp.TimetoIssue)"
   ]
  },
  {
   "cell_type": "markdown",
   "metadata": {},
   "source": [
    "#### carrying on..."
   ]
  },
  {
   "cell_type": "code",
   "execution_count": 31,
   "metadata": {
    "collapsed": false
   },
   "outputs": [
    {
     "data": {
      "text/html": [
       "<div>\n",
       "<table border=\"1\" class=\"dataframe\">\n",
       "  <thead>\n",
       "    <tr style=\"text-align: right;\">\n",
       "      <th></th>\n",
       "      <th>Type</th>\n",
       "      <th>DyeTimetoIssue</th>\n",
       "      <th>DyeCount</th>\n",
       "      <th>TimetoIssue</th>\n",
       "      <th>Count</th>\n",
       "    </tr>\n",
       "  </thead>\n",
       "  <tbody>\n",
       "    <tr>\n",
       "      <th>0</th>\n",
       "      <td>Extension of Time - Dev. Pmt</td>\n",
       "      <td>308.0</td>\n",
       "      <td>7</td>\n",
       "      <td>206.5</td>\n",
       "      <td>51</td>\n",
       "    </tr>\n",
       "    <tr>\n",
       "      <th>1</th>\n",
       "      <td>Street Name Change</td>\n",
       "      <td>383.0</td>\n",
       "      <td>1</td>\n",
       "      <td>218.0</td>\n",
       "      <td>40</td>\n",
       "    </tr>\n",
       "    <tr>\n",
       "      <th>2</th>\n",
       "      <td>Neighborhood Use Permit</td>\n",
       "      <td>515.0</td>\n",
       "      <td>9</td>\n",
       "      <td>284.0</td>\n",
       "      <td>555</td>\n",
       "    </tr>\n",
       "    <tr>\n",
       "      <th>3</th>\n",
       "      <td>Coastal Development Permit</td>\n",
       "      <td>589.5</td>\n",
       "      <td>96</td>\n",
       "      <td>338.0</td>\n",
       "      <td>1694</td>\n",
       "    </tr>\n",
       "    <tr>\n",
       "      <th>4</th>\n",
       "      <td>Map Waiver</td>\n",
       "      <td>591.0</td>\n",
       "      <td>22</td>\n",
       "      <td>275.0</td>\n",
       "      <td>722</td>\n",
       "    </tr>\n",
       "    <tr>\n",
       "      <th>5</th>\n",
       "      <td>Rezone</td>\n",
       "      <td>677.0</td>\n",
       "      <td>5</td>\n",
       "      <td>961.0</td>\n",
       "      <td>115</td>\n",
       "    </tr>\n",
       "    <tr>\n",
       "      <th>6</th>\n",
       "      <td>Neighborhood Developmnt Permit</td>\n",
       "      <td>797.0</td>\n",
       "      <td>13</td>\n",
       "      <td>313.5</td>\n",
       "      <td>286</td>\n",
       "    </tr>\n",
       "    <tr>\n",
       "      <th>7</th>\n",
       "      <td>Easement Vacation</td>\n",
       "      <td>1207.5</td>\n",
       "      <td>11</td>\n",
       "      <td>571.0</td>\n",
       "      <td>248</td>\n",
       "    </tr>\n",
       "    <tr>\n",
       "      <th>8</th>\n",
       "      <td>Variance</td>\n",
       "      <td>1230.0</td>\n",
       "      <td>7</td>\n",
       "      <td>344.0</td>\n",
       "      <td>212</td>\n",
       "    </tr>\n",
       "    <tr>\n",
       "      <th>9</th>\n",
       "      <td>Public Right of Way Vacation</td>\n",
       "      <td>1264.0</td>\n",
       "      <td>17</td>\n",
       "      <td>687.0</td>\n",
       "      <td>187</td>\n",
       "    </tr>\n",
       "    <tr>\n",
       "      <th>10</th>\n",
       "      <td>Site Development Permit</td>\n",
       "      <td>1294.5</td>\n",
       "      <td>50</td>\n",
       "      <td>486.0</td>\n",
       "      <td>1307</td>\n",
       "    </tr>\n",
       "    <tr>\n",
       "      <th>11</th>\n",
       "      <td>Conditional Use Permit</td>\n",
       "      <td>1395.5</td>\n",
       "      <td>14</td>\n",
       "      <td>398.0</td>\n",
       "      <td>791</td>\n",
       "    </tr>\n",
       "    <tr>\n",
       "      <th>12</th>\n",
       "      <td>Planned Development Permit</td>\n",
       "      <td>1625.5</td>\n",
       "      <td>7</td>\n",
       "      <td>517.0</td>\n",
       "      <td>516</td>\n",
       "    </tr>\n",
       "    <tr>\n",
       "      <th>13</th>\n",
       "      <td>Tentative Map</td>\n",
       "      <td>1892.0</td>\n",
       "      <td>17</td>\n",
       "      <td>346.5</td>\n",
       "      <td>829</td>\n",
       "    </tr>\n",
       "    <tr>\n",
       "      <th>14</th>\n",
       "      <td>Land Use Plan</td>\n",
       "      <td>NaN</td>\n",
       "      <td>2</td>\n",
       "      <td>875.0</td>\n",
       "      <td>69</td>\n",
       "    </tr>\n",
       "    <tr>\n",
       "      <th>15</th>\n",
       "      <td>Public Right of Way Dedication</td>\n",
       "      <td>NaN</td>\n",
       "      <td>1</td>\n",
       "      <td>287.0</td>\n",
       "      <td>306</td>\n",
       "    </tr>\n",
       "    <tr>\n",
       "      <th>16</th>\n",
       "      <td>Vesting Tentative Map</td>\n",
       "      <td>NaN</td>\n",
       "      <td>2</td>\n",
       "      <td>496.0</td>\n",
       "      <td>150</td>\n",
       "    </tr>\n",
       "  </tbody>\n",
       "</table>\n",
       "</div>"
      ],
      "text/plain": [
       "                              Type  DyeTimetoIssue  DyeCount  TimetoIssue  \\\n",
       "0     Extension of Time - Dev. Pmt           308.0         7        206.5   \n",
       "1               Street Name Change           383.0         1        218.0   \n",
       "2          Neighborhood Use Permit           515.0         9        284.0   \n",
       "3       Coastal Development Permit           589.5        96        338.0   \n",
       "4                       Map Waiver           591.0        22        275.0   \n",
       "5                           Rezone           677.0         5        961.0   \n",
       "6   Neighborhood Developmnt Permit           797.0        13        313.5   \n",
       "7                Easement Vacation          1207.5        11        571.0   \n",
       "8                         Variance          1230.0         7        344.0   \n",
       "9     Public Right of Way Vacation          1264.0        17        687.0   \n",
       "10         Site Development Permit          1294.5        50        486.0   \n",
       "11          Conditional Use Permit          1395.5        14        398.0   \n",
       "12      Planned Development Permit          1625.5         7        517.0   \n",
       "13                   Tentative Map          1892.0        17        346.5   \n",
       "14                   Land Use Plan             NaN         2        875.0   \n",
       "15  Public Right of Way Dedication             NaN         1        287.0   \n",
       "16           Vesting Tentative Map             NaN         2        496.0   \n",
       "\n",
       "    Count  \n",
       "0      51  \n",
       "1      40  \n",
       "2     555  \n",
       "3    1694  \n",
       "4     722  \n",
       "5     115  \n",
       "6     286  \n",
       "7     248  \n",
       "8     212  \n",
       "9     187  \n",
       "10   1307  \n",
       "11    791  \n",
       "12    516  \n",
       "13    829  \n",
       "14     69  \n",
       "15    306  \n",
       "16    150  "
      ]
     },
     "execution_count": 31,
     "metadata": {},
     "output_type": "execute_result"
    }
   ],
   "source": [
    "dye_tmp = dye[['Type','TimetoIssue']]\n",
    "dye_by_type = dye_tmp.groupby('Type')\n",
    "dye_tmp = dye_by_type.agg(np.median).sort(['TimetoIssue'])\n",
    "dye_tmp['Count'] = dye_by_type.size()\n",
    "dye_tmp = dye_tmp.rename(columns = {'TimetoIssue': 'DyeTimetoIssue',\n",
    "                                    'Count': 'DyeCount'})\n",
    "dye_tmp = dye_tmp.reset_index()\n",
    "dye_tmp = dye_tmp.join(tmp, on = 'Type')\n",
    "#dye_tmp.to_csv('/home/damoncrockett/vosd.org/215-opendsd/dye_type_time_count.csv')\n",
    "dye_tmp"
   ]
  },
  {
   "cell_type": "code",
   "execution_count": 32,
   "metadata": {
    "collapsed": false
   },
   "outputs": [],
   "source": [
    "black = discretionary[discretionary.ProjectManager == 'Black, Laura']"
   ]
  },
  {
   "cell_type": "code",
   "execution_count": 33,
   "metadata": {
    "collapsed": false
   },
   "outputs": [
    {
     "data": {
      "text/plain": [
       "'2003-05-08'"
      ]
     },
     "execution_count": 33,
     "metadata": {},
     "output_type": "execute_result"
    }
   ],
   "source": [
    "black.ApplicationDate.min()"
   ]
  },
  {
   "cell_type": "code",
   "execution_count": 34,
   "metadata": {
    "collapsed": false
   },
   "outputs": [
    {
     "data": {
      "text/plain": [
       "'2014-11-10'"
      ]
     },
     "execution_count": 34,
     "metadata": {},
     "output_type": "execute_result"
    }
   ],
   "source": [
    "black.ApplicationDate.max()"
   ]
  },
  {
   "cell_type": "code",
   "execution_count": 35,
   "metadata": {
    "collapsed": false
   },
   "outputs": [
    {
     "data": {
      "text/plain": [
       "<matplotlib.axes._subplots.AxesSubplot at 0x111c68990>"
      ]
     },
     "execution_count": 35,
     "metadata": {},
     "output_type": "execute_result"
    },
    {
     "data": {
      "image/png": "[encoded data removed]",
      "text/plain": [
       "<matplotlib.figure.Figure at 0x11197e110>"
      ]
     },
     "metadata": {},
     "output_type": "display_data"
    }
   ],
   "source": [
    "black.ApplicationYear.hist(bins=12)"
   ]
  },
  {
   "cell_type": "code",
   "execution_count": 36,
   "metadata": {
    "collapsed": false
   },
   "outputs": [
    {
     "data": {
      "text/html": [
       "<div>\n",
       "<table border=\"1\" class=\"dataframe\">\n",
       "  <thead>\n",
       "    <tr style=\"text-align: right;\">\n",
       "      <th></th>\n",
       "      <th>Type</th>\n",
       "      <th>BlackTimetoIssue</th>\n",
       "      <th>BlackCount</th>\n",
       "      <th>TimetoIssue</th>\n",
       "      <th>Count</th>\n",
       "    </tr>\n",
       "  </thead>\n",
       "  <tbody>\n",
       "    <tr>\n",
       "      <th>0</th>\n",
       "      <td>Neighborhood Use Permit</td>\n",
       "      <td>126.0</td>\n",
       "      <td>4</td>\n",
       "      <td>284.0</td>\n",
       "      <td>555</td>\n",
       "    </tr>\n",
       "    <tr>\n",
       "      <th>1</th>\n",
       "      <td>Coastal Development Permit</td>\n",
       "      <td>171.5</td>\n",
       "      <td>105</td>\n",
       "      <td>338.0</td>\n",
       "      <td>1694</td>\n",
       "    </tr>\n",
       "    <tr>\n",
       "      <th>2</th>\n",
       "      <td>Map Waiver</td>\n",
       "      <td>182.0</td>\n",
       "      <td>19</td>\n",
       "      <td>275.0</td>\n",
       "      <td>722</td>\n",
       "    </tr>\n",
       "    <tr>\n",
       "      <th>3</th>\n",
       "      <td>Tentative Map</td>\n",
       "      <td>263.0</td>\n",
       "      <td>10</td>\n",
       "      <td>346.5</td>\n",
       "      <td>829</td>\n",
       "    </tr>\n",
       "    <tr>\n",
       "      <th>4</th>\n",
       "      <td>Site Development Permit</td>\n",
       "      <td>264.5</td>\n",
       "      <td>40</td>\n",
       "      <td>486.0</td>\n",
       "      <td>1307</td>\n",
       "    </tr>\n",
       "    <tr>\n",
       "      <th>5</th>\n",
       "      <td>Conditional Use Permit</td>\n",
       "      <td>299.0</td>\n",
       "      <td>16</td>\n",
       "      <td>398.0</td>\n",
       "      <td>791</td>\n",
       "    </tr>\n",
       "    <tr>\n",
       "      <th>6</th>\n",
       "      <td>Street Name Change</td>\n",
       "      <td>328.0</td>\n",
       "      <td>1</td>\n",
       "      <td>218.0</td>\n",
       "      <td>40</td>\n",
       "    </tr>\n",
       "    <tr>\n",
       "      <th>7</th>\n",
       "      <td>Public Right of Way Vacation</td>\n",
       "      <td>379.0</td>\n",
       "      <td>1</td>\n",
       "      <td>687.0</td>\n",
       "      <td>187</td>\n",
       "    </tr>\n",
       "    <tr>\n",
       "      <th>8</th>\n",
       "      <td>Vesting Tentative Map</td>\n",
       "      <td>381.0</td>\n",
       "      <td>8</td>\n",
       "      <td>496.0</td>\n",
       "      <td>150</td>\n",
       "    </tr>\n",
       "    <tr>\n",
       "      <th>9</th>\n",
       "      <td>Planned Development Permit</td>\n",
       "      <td>386.0</td>\n",
       "      <td>18</td>\n",
       "      <td>517.0</td>\n",
       "      <td>516</td>\n",
       "    </tr>\n",
       "    <tr>\n",
       "      <th>10</th>\n",
       "      <td>Variance</td>\n",
       "      <td>665.0</td>\n",
       "      <td>3</td>\n",
       "      <td>344.0</td>\n",
       "      <td>212</td>\n",
       "    </tr>\n",
       "    <tr>\n",
       "      <th>11</th>\n",
       "      <td>Land Use Plan</td>\n",
       "      <td>745.5</td>\n",
       "      <td>5</td>\n",
       "      <td>875.0</td>\n",
       "      <td>69</td>\n",
       "    </tr>\n",
       "    <tr>\n",
       "      <th>12</th>\n",
       "      <td>Easement Vacation</td>\n",
       "      <td>960.5</td>\n",
       "      <td>2</td>\n",
       "      <td>571.0</td>\n",
       "      <td>248</td>\n",
       "    </tr>\n",
       "    <tr>\n",
       "      <th>13</th>\n",
       "      <td>Rezone</td>\n",
       "      <td>1033.0</td>\n",
       "      <td>4</td>\n",
       "      <td>961.0</td>\n",
       "      <td>115</td>\n",
       "    </tr>\n",
       "    <tr>\n",
       "      <th>14</th>\n",
       "      <td>City Council Approval</td>\n",
       "      <td>NaN</td>\n",
       "      <td>1</td>\n",
       "      <td>512.0</td>\n",
       "      <td>6</td>\n",
       "    </tr>\n",
       "    <tr>\n",
       "      <th>15</th>\n",
       "      <td>Neighborhood Developmnt Permit</td>\n",
       "      <td>NaN</td>\n",
       "      <td>6</td>\n",
       "      <td>313.5</td>\n",
       "      <td>286</td>\n",
       "    </tr>\n",
       "  </tbody>\n",
       "</table>\n",
       "</div>"
      ],
      "text/plain": [
       "                              Type  BlackTimetoIssue  BlackCount  TimetoIssue  \\\n",
       "0          Neighborhood Use Permit             126.0           4        284.0   \n",
       "1       Coastal Development Permit             171.5         105        338.0   \n",
       "2                       Map Waiver             182.0          19        275.0   \n",
       "3                    Tentative Map             263.0          10        346.5   \n",
       "4          Site Development Permit             264.5          40        486.0   \n",
       "5           Conditional Use Permit             299.0          16        398.0   \n",
       "6               Street Name Change             328.0           1        218.0   \n",
       "7     Public Right of Way Vacation             379.0           1        687.0   \n",
       "8            Vesting Tentative Map             381.0           8        496.0   \n",
       "9       Planned Development Permit             386.0          18        517.0   \n",
       "10                        Variance             665.0           3        344.0   \n",
       "11                   Land Use Plan             745.5           5        875.0   \n",
       "12               Easement Vacation             960.5           2        571.0   \n",
       "13                          Rezone            1033.0           4        961.0   \n",
       "14           City Council Approval               NaN           1        512.0   \n",
       "15  Neighborhood Developmnt Permit               NaN           6        313.5   \n",
       "\n",
       "    Count  \n",
       "0     555  \n",
       "1    1694  \n",
       "2     722  \n",
       "3     829  \n",
       "4    1307  \n",
       "5     791  \n",
       "6      40  \n",
       "7     187  \n",
       "8     150  \n",
       "9     516  \n",
       "10    212  \n",
       "11     69  \n",
       "12    248  \n",
       "13    115  \n",
       "14      6  \n",
       "15    286  "
      ]
     },
     "execution_count": 36,
     "metadata": {},
     "output_type": "execute_result"
    }
   ],
   "source": [
    "black_tmp = black[['Type','TimetoIssue']]\n",
    "black_by_type = black_tmp.groupby('Type')\n",
    "black_tmp = black_by_type.agg(np.median).sort(['TimetoIssue'])\n",
    "black_tmp['Count'] = black_by_type.size()\n",
    "black_tmp = black_tmp.rename(columns = {'TimetoIssue': 'BlackTimetoIssue',\n",
    "                                    'Count': 'BlackCount'})\n",
    "black_tmp = black_tmp.reset_index()\n",
    "black_tmp = black_tmp.join(tmp, on = 'Type')\n",
    "#black_tmp.to_csv('/home/damoncrockett/vosd.org/215-opendsd/black_type_time_count.csv')\n",
    "black_tmp"
   ]
  },
  {
   "cell_type": "markdown",
   "metadata": {},
   "source": [
    "### customers and firms"
   ]
  },
  {
   "cell_type": "code",
   "execution_count": 37,
   "metadata": {
    "collapsed": false
   },
   "outputs": [],
   "source": [
    "customers = pd.read_csv(DIR+'customers_complete.csv')"
   ]
  },
  {
   "cell_type": "code",
   "execution_count": 38,
   "metadata": {
    "collapsed": false
   },
   "outputs": [],
   "source": [
    "del customers['Unnamed: 0']"
   ]
  },
  {
   "cell_type": "code",
   "execution_count": 39,
   "metadata": {
    "collapsed": false
   },
   "outputs": [
    {
     "data": {
      "text/html": [
       "<div>\n",
       "<table border=\"1\" class=\"dataframe\">\n",
       "  <thead>\n",
       "    <tr style=\"text-align: right;\">\n",
       "      <th></th>\n",
       "      <th>CustomerId</th>\n",
       "      <th>FirmName</th>\n",
       "      <th>Name</th>\n",
       "      <th>ProjectId</th>\n",
       "      <th>Role</th>\n",
       "    </tr>\n",
       "  </thead>\n",
       "  <tbody>\n",
       "    <tr>\n",
       "      <th>0</th>\n",
       "      <td>1001</td>\n",
       "      <td>Barghausen Consulting Eng</td>\n",
       "      <td>Sandy Finn</td>\n",
       "      <td>1001</td>\n",
       "      <td>Point of Contact</td>\n",
       "    </tr>\n",
       "    <tr>\n",
       "      <th>1</th>\n",
       "      <td>23942</td>\n",
       "      <td>NaN</td>\n",
       "      <td>Charles Hernandez</td>\n",
       "      <td>1001</td>\n",
       "      <td>Point of Contact</td>\n",
       "    </tr>\n",
       "    <tr>\n",
       "      <th>2</th>\n",
       "      <td>1345</td>\n",
       "      <td>Mission and PB Drive, LLC</td>\n",
       "      <td>Michael E Turk</td>\n",
       "      <td>1040</td>\n",
       "      <td>Point of Contact</td>\n",
       "    </tr>\n",
       "    <tr>\n",
       "      <th>3</th>\n",
       "      <td>1345</td>\n",
       "      <td>Mission and PB Drive, LLC</td>\n",
       "      <td>Michael E Turk</td>\n",
       "      <td>1041</td>\n",
       "      <td>Point of Contact</td>\n",
       "    </tr>\n",
       "    <tr>\n",
       "      <th>4</th>\n",
       "      <td>26450</td>\n",
       "      <td>BPA</td>\n",
       "      <td>Mark Davis</td>\n",
       "      <td>1096</td>\n",
       "      <td>Point of Contact</td>\n",
       "    </tr>\n",
       "  </tbody>\n",
       "</table>\n",
       "</div>"
      ],
      "text/plain": [
       "   CustomerId                   FirmName               Name  ProjectId  \\\n",
       "0        1001  Barghausen Consulting Eng         Sandy Finn       1001   \n",
       "1       23942                        NaN  Charles Hernandez       1001   \n",
       "2        1345  Mission and PB Drive, LLC     Michael E Turk       1040   \n",
       "3        1345  Mission and PB Drive, LLC     Michael E Turk       1041   \n",
       "4       26450                        BPA         Mark Davis       1096   \n",
       "\n",
       "               Role  \n",
       "0  Point of Contact  \n",
       "1  Point of Contact  \n",
       "2  Point of Contact  \n",
       "3  Point of Contact  \n",
       "4  Point of Contact  "
      ]
     },
     "execution_count": 39,
     "metadata": {},
     "output_type": "execute_result"
    }
   ],
   "source": [
    "customers.head()"
   ]
  },
  {
   "cell_type": "code",
   "execution_count": 40,
   "metadata": {
    "collapsed": false
   },
   "outputs": [
    {
     "data": {
      "text/plain": [
       "Permits in Motion                 15259\n",
       "Owner                             10237\n",
       "California Delta Mechanical        6004\n",
       "Barbara Harris Permitting          5844\n",
       "Sunshine Permit Service Inc        5050\n",
       "ARS                                4748\n",
       "Permit Solutions                   4689\n",
       "Vivint Solar                       4058\n",
       "ASI Heating & Air                  3028\n",
       "Permit Us                          2952\n",
       "DELTA MECHANICAL                   2853\n",
       "Barbara  Harris Permits            2750\n",
       "Pacific Bell -AT&T                 2662\n",
       "Fast Water Heater                  2382\n",
       "SolarCity                          2364\n",
       "owner                              2184\n",
       "Western Fire Protection            2113\n",
       "Affordable Water Heaters           2048\n",
       "Sullivan Solar Power               1970\n",
       "All Star Water Heater              1968\n",
       "Pardee Homes                       1921\n",
       "Barbara Harris Permitting Serv     1804\n",
       "ANDERSON PLUMBING                  1804\n",
       "Mission Pools                      1793\n",
       "ASI HASTINGS                       1702\n",
       "California Delta Mechanical        1653\n",
       "Rescue Rooter                      1588\n",
       "Permits In Motion                  1572\n",
       "Schmidt Fire Protection            1551\n",
       "AllStar Water Heaters              1528\n",
       "                                  ...  \n",
       "MYERSON ELECTRIC                      1\n",
       "RB Lodging LLC                        1\n",
       "NBBJ                                  1\n",
       "Pacific Hotel Co                      1\n",
       "M. C. Solar Engineering               1\n",
       "Wayne Stutzman Engineering            1\n",
       "Seafaring Ventures                    1\n",
       "LBA Industrial Fund Holding Co        1\n",
       "Transwest Real Estate                 1\n",
       "Interscape Constructio, Inc.          1\n",
       "ADA Architects                        1\n",
       "City of San Diego Redev               1\n",
       "BPA Architecture                      1\n",
       "Buffalo Wild Wings                    1\n",
       "Southern California Edison            1\n",
       "Jewel Properties, LLC                 1\n",
       "Lintvest, McColl & Associates         1\n",
       "Midwest Roofing & Solar               1\n",
       "SanDiego Family Justice Center        1\n",
       "La Jolla Brew House                   1\n",
       "Active  Sight                         1\n",
       "Celagio LLC                           1\n",
       "Smoothie King                         1\n",
       "Bricehouse                            1\n",
       "Bergage Living Trust                  1\n",
       "California Gas LTD                    1\n",
       "PdP Imperial Partners, LLC            1\n",
       "Osel Construction                     1\n",
       "Nazareth House                        1\n",
       "WESTERN HILLS PROP. MGMT              1\n",
       "dtype: int64"
      ]
     },
     "execution_count": 40,
     "metadata": {},
     "output_type": "execute_result"
    }
   ],
   "source": [
    "customers.FirmName.value_counts()"
   ]
  },
  {
   "cell_type": "code",
   "execution_count": 41,
   "metadata": {
    "collapsed": false
   },
   "outputs": [
    {
     "data": {
      "text/plain": [
       "Terry Montello                  11414\n",
       "Lydia Paterson                   5021\n",
       "Margaret Jackson                 4212\n",
       "Ian Harris                       3839\n",
       "Joe Strafaci                     3777\n",
       "Marla Auker                      2901\n",
       "Josh Keating                     2819\n",
       "Dennis Harris                    2750\n",
       " ASI Heating & Air               2672\n",
       "Romel Maru                       2213\n",
       "Deborah Edmiston                 2193\n",
       "Barbara Wharton                  2179\n",
       " California Delta Mechanical     2140\n",
       "ARS ARS                          1888\n",
       "Alexandra Sink                   1839\n",
       "Barbara Harris                   1805\n",
       "Russell Clapton                  1709\n",
       "Tiffany Ryan                     1694\n",
       "Veronica Maier                   1655\n",
       " Fast Water Heater               1653\n",
       "Matt Drivinghawk                 1584\n",
       "Lora  Simpson                    1571\n",
       "Brian Longmore                   1546\n",
       " DSD Account Contact             1542\n",
       "Eric Wilson                      1519\n",
       "JOHN SANTOS                      1464\n",
       "Patti Ryan                       1411\n",
       " Burger Construction             1379\n",
       "GALINA  PAVLOVA                  1352\n",
       "ANDERSON PLUMBING                1340\n",
       "                                ...  \n",
       "Mike Ridwell                        1\n",
       "Tom Leyva                           1\n",
       "Allen Kennedy                       1\n",
       "LEORICO ROBOSA                      1\n",
       "TALAL ALBAGDADI                     1\n",
       "Angela Hammon                       1\n",
       "KELLY KEACH                         1\n",
       "OCEAN WEST MANAGEMENT               1\n",
       " management                         1\n",
       "William/Cathrne Rice                1\n",
       "Waren Higgins                       1\n",
       "Bob griffin                         1\n",
       "Philippe&Cindy Boccara              1\n",
       "Marylin McNair                      1\n",
       "Marilyn Smith                       1\n",
       "George   Drew                       1\n",
       "Ta Kung Chen                        1\n",
       "PAMELA  WICKLAND                    1\n",
       "Todd Studts                         1\n",
       "Pete Belay                          1\n",
       "Paul Lockwood                       1\n",
       "Carol & Tony Weathers               1\n",
       "Betty Cellucci                      1\n",
       "BRIAN MICHAELSON                    1\n",
       "Carol Navagato                      1\n",
       "Judith Combs                        1\n",
       "Phuong Do                           1\n",
       "Raymond Stephens                    1\n",
       "ARASH MONSEFAN                      1\n",
       "Alfred & Luzvvi Maglicmot           1\n",
       "dtype: int64"
      ]
     },
     "execution_count": 41,
     "metadata": {},
     "output_type": "execute_result"
    }
   ],
   "source": [
    "customers.Name.value_counts()"
   ]
  },
  {
   "cell_type": "code",
   "execution_count": 42,
   "metadata": {
    "collapsed": false
   },
   "outputs": [
    {
     "data": {
      "text/plain": [
       "Point of Contact        298538\n",
       "Owner                   125883\n",
       "Agent                    87251\n",
       "Applicant                60805\n",
       "Contractor - Gen         52514\n",
       "Inspection Contact       50753\n",
       "Contractor - Elect       28581\n",
       "Owner/Builder            22374\n",
       "Contractor - Plbg        22269\n",
       "Contractor - Mech        15552\n",
       "Agent for Contractor     11504\n",
       "Lessee/Tenant            10841\n",
       "FORMER-Pt of Contact     10671\n",
       "Contractor - Other       10596\n",
       "DA-DS 3242                8322\n",
       "Agent for Owner           7450\n",
       "Architect                 7055\n",
       "Designer                  6233\n",
       "Financial Responsibl      6095\n",
       "Contractor - Fire         5752\n",
       "Engineer                  2137\n",
       "DA-Address Chg Req        1471\n",
       "Project Manager           1154\n",
       "Concerned Citizen         1040\n",
       "Engineer - Civil           980\n",
       "Engineer - Struct          332\n",
       "New Owner                  306\n",
       "Bonding Agent              284\n",
       "Engineer - Elect           230\n",
       "Architect - Lscp           178\n",
       "Surveyor                   166\n",
       "Engineer - Mech            134\n",
       "FORMER-Finan Rsponsb       116\n",
       "Contractor - Grading       101\n",
       "Comm Pln Grp Rep            71\n",
       "Engineer - Soils            56\n",
       "Engineer - Geotech          46\n",
       "Multi-job Contact           20\n",
       "Fire Protection Eng         17\n",
       "Engineer - Traffic          15\n",
       "Hauling Company             13\n",
       "StrmWtr-Perm Maint           5\n",
       "Trucking Company             5\n",
       "StrmWtr-Qlfd Contact         1\n",
       "StrmWtr-Trtmnt Insp          1\n",
       "dtype: int64"
      ]
     },
     "execution_count": 42,
     "metadata": {},
     "output_type": "execute_result"
    }
   ],
   "source": [
    "customers.Role.value_counts()"
   ]
  },
  {
   "cell_type": "markdown",
   "metadata": {},
   "source": [
    "#### discretionary"
   ]
  },
  {
   "cell_type": "code",
   "execution_count": 43,
   "metadata": {
    "collapsed": false
   },
   "outputs": [
    {
     "data": {
      "text/plain": [
       "3451"
      ]
     },
     "execution_count": 43,
     "metadata": {},
     "output_type": "execute_result"
    }
   ],
   "source": [
    "len(discretionary.TimetoIssue[discretionary.TimetoIssue.isnull()])"
   ]
  },
  {
   "cell_type": "code",
   "execution_count": 44,
   "metadata": {
    "collapsed": false
   },
   "outputs": [
    {
     "data": {
      "text/plain": [
       "Index([u'APN', u'ApplicationDate', u'ApplicationExpiration',\n",
       "       u'ApplicationExpired', u'ApplicationMonth', u'ApplicationYear',\n",
       "       u'ApprovalId', u'Description', u'DevelopmentId', u'DevelopmentTitle',\n",
       "       u'IssueDate', u'IssueMonth', u'IssueYear', u'IssuedBy', u'JobId',\n",
       "       u'Latitude', u'Longitude', u'PermitHolder', u'ProjectId',\n",
       "       u'ProjectManager', u'ProjectManagerId', u'ProjectScope', u'Scope',\n",
       "       u'Status', u'StreetAddress', u'TimetoIssue', u'Title', u'Type',\n",
       "       u'category'],\n",
       "      dtype='object')"
      ]
     },
     "execution_count": 44,
     "metadata": {},
     "output_type": "execute_result"
    }
   ],
   "source": [
    "discretionary.columns"
   ]
  },
  {
   "cell_type": "code",
   "execution_count": 45,
   "metadata": {
    "collapsed": false
   },
   "outputs": [],
   "source": [
    "tmp = discretionary[['TimetoIssue','ProjectId']]\n",
    "by_proj = tmp.groupby('ProjectId')\n",
    "tmp = by_proj.agg(np.median)\n",
    "tmp['Count'] = by_proj.size()"
   ]
  },
  {
   "cell_type": "code",
   "execution_count": 46,
   "metadata": {
    "collapsed": false
   },
   "outputs": [
    {
     "data": {
      "text/plain": [
       "2322"
      ]
     },
     "execution_count": 46,
     "metadata": {},
     "output_type": "execute_result"
    }
   ],
   "source": [
    "len(tmp.TimetoIssue[tmp.TimetoIssue.isnull()])"
   ]
  },
  {
   "cell_type": "code",
   "execution_count": 47,
   "metadata": {
    "collapsed": false
   },
   "outputs": [
    {
     "data": {
      "text/html": [
       "<div>\n",
       "<table border=\"1\" class=\"dataframe\">\n",
       "  <thead>\n",
       "    <tr style=\"text-align: right;\">\n",
       "      <th></th>\n",
       "      <th>TimetoIssue</th>\n",
       "      <th>Count</th>\n",
       "    </tr>\n",
       "    <tr>\n",
       "      <th>ProjectId</th>\n",
       "      <th></th>\n",
       "      <th></th>\n",
       "    </tr>\n",
       "  </thead>\n",
       "  <tbody>\n",
       "    <tr>\n",
       "      <th>1040</th>\n",
       "      <td>287</td>\n",
       "      <td>2</td>\n",
       "    </tr>\n",
       "    <tr>\n",
       "      <th>1041</th>\n",
       "      <td>287</td>\n",
       "      <td>2</td>\n",
       "    </tr>\n",
       "    <tr>\n",
       "      <th>1096</th>\n",
       "      <td>888</td>\n",
       "      <td>3</td>\n",
       "    </tr>\n",
       "  </tbody>\n",
       "</table>\n",
       "</div>"
      ],
      "text/plain": [
       "           TimetoIssue  Count\n",
       "ProjectId                    \n",
       "1040               287      2\n",
       "1041               287      2\n",
       "1096               888      3"
      ]
     },
     "execution_count": 47,
     "metadata": {},
     "output_type": "execute_result"
    }
   ],
   "source": [
    "tmp.head(3)"
   ]
  },
  {
   "cell_type": "code",
   "execution_count": 48,
   "metadata": {
    "collapsed": false
   },
   "outputs": [],
   "source": [
    "# just note that 'Count' here is the number of D permits on the project, which is sort of a weird thing to measure."
   ]
  },
  {
   "cell_type": "markdown",
   "metadata": {},
   "source": [
    "#### should've done this test in 229-permits as well..."
   ]
  },
  {
   "cell_type": "code",
   "execution_count": 49,
   "metadata": {
    "collapsed": false
   },
   "outputs": [
    {
     "data": {
      "text/plain": [
       "(nan, 1.0)"
      ]
     },
     "execution_count": 49,
     "metadata": {},
     "output_type": "execute_result"
    }
   ],
   "source": [
    "pearsonr(tmp.Count, tmp.TimetoIssue)"
   ]
  },
  {
   "cell_type": "markdown",
   "metadata": {},
   "source": [
    "okay..."
   ]
  },
  {
   "cell_type": "code",
   "execution_count": 50,
   "metadata": {
    "collapsed": false
   },
   "outputs": [],
   "source": [
    "customers = customers.join(tmp, on = 'ProjectId')"
   ]
  },
  {
   "cell_type": "code",
   "execution_count": 55,
   "metadata": {
    "collapsed": false
   },
   "outputs": [
    {
     "data": {
      "text/html": [
       "<div>\n",
       "<table border=\"1\" class=\"dataframe\">\n",
       "  <thead>\n",
       "    <tr style=\"text-align: right;\">\n",
       "      <th></th>\n",
       "      <th>CustomerId</th>\n",
       "      <th>FirmName</th>\n",
       "      <th>Name</th>\n",
       "      <th>ProjectId</th>\n",
       "      <th>Role</th>\n",
       "      <th>TimetoIssue</th>\n",
       "      <th>Count</th>\n",
       "    </tr>\n",
       "  </thead>\n",
       "  <tbody>\n",
       "    <tr>\n",
       "      <th>0</th>\n",
       "      <td>1001</td>\n",
       "      <td>Barghausen Consulting Eng</td>\n",
       "      <td>Sandy Finn</td>\n",
       "      <td>1001</td>\n",
       "      <td>Point of Contact</td>\n",
       "      <td>NaN</td>\n",
       "      <td>NaN</td>\n",
       "    </tr>\n",
       "    <tr>\n",
       "      <th>1</th>\n",
       "      <td>23942</td>\n",
       "      <td>NaN</td>\n",
       "      <td>Charles Hernandez</td>\n",
       "      <td>1001</td>\n",
       "      <td>Point of Contact</td>\n",
       "      <td>NaN</td>\n",
       "      <td>NaN</td>\n",
       "    </tr>\n",
       "    <tr>\n",
       "      <th>2</th>\n",
       "      <td>1345</td>\n",
       "      <td>Mission and PB Drive, LLC</td>\n",
       "      <td>Michael E Turk</td>\n",
       "      <td>1040</td>\n",
       "      <td>Point of Contact</td>\n",
       "      <td>287</td>\n",
       "      <td>2</td>\n",
       "    </tr>\n",
       "    <tr>\n",
       "      <th>3</th>\n",
       "      <td>1345</td>\n",
       "      <td>Mission and PB Drive, LLC</td>\n",
       "      <td>Michael E Turk</td>\n",
       "      <td>1041</td>\n",
       "      <td>Point of Contact</td>\n",
       "      <td>287</td>\n",
       "      <td>2</td>\n",
       "    </tr>\n",
       "    <tr>\n",
       "      <th>4</th>\n",
       "      <td>26450</td>\n",
       "      <td>BPA</td>\n",
       "      <td>Mark Davis</td>\n",
       "      <td>1096</td>\n",
       "      <td>Point of Contact</td>\n",
       "      <td>888</td>\n",
       "      <td>3</td>\n",
       "    </tr>\n",
       "    <tr>\n",
       "      <th>5</th>\n",
       "      <td>98304</td>\n",
       "      <td>Foothill Associates</td>\n",
       "      <td>Mike Howard</td>\n",
       "      <td>1096</td>\n",
       "      <td>Agent</td>\n",
       "      <td>888</td>\n",
       "      <td>3</td>\n",
       "    </tr>\n",
       "    <tr>\n",
       "      <th>6</th>\n",
       "      <td>98304</td>\n",
       "      <td>Foothill Associates</td>\n",
       "      <td>Mike Howard</td>\n",
       "      <td>1096</td>\n",
       "      <td>Point of Contact</td>\n",
       "      <td>888</td>\n",
       "      <td>3</td>\n",
       "    </tr>\n",
       "  </tbody>\n",
       "</table>\n",
       "</div>"
      ],
      "text/plain": [
       "   CustomerId                   FirmName               Name  ProjectId  \\\n",
       "0        1001  Barghausen Consulting Eng         Sandy Finn       1001   \n",
       "1       23942                        NaN  Charles Hernandez       1001   \n",
       "2        1345  Mission and PB Drive, LLC     Michael E Turk       1040   \n",
       "3        1345  Mission and PB Drive, LLC     Michael E Turk       1041   \n",
       "4       26450                        BPA         Mark Davis       1096   \n",
       "5       98304       Foothill Associates         Mike Howard       1096   \n",
       "6       98304       Foothill Associates         Mike Howard       1096   \n",
       "\n",
       "               Role  TimetoIssue  Count  \n",
       "0  Point of Contact          NaN    NaN  \n",
       "1  Point of Contact          NaN    NaN  \n",
       "2  Point of Contact          287      2  \n",
       "3  Point of Contact          287      2  \n",
       "4  Point of Contact          888      3  \n",
       "5             Agent          888      3  \n",
       "6  Point of Contact          888      3  "
      ]
     },
     "execution_count": 55,
     "metadata": {},
     "output_type": "execute_result"
    }
   ],
   "source": [
    "customers.head(7)"
   ]
  },
  {
   "cell_type": "markdown",
   "metadata": {},
   "source": [
    "Here's a join lesson: see those NaN's? That's because I did a left join. The df grouped by ProjectId only has ProjectIds from D permits. Some of these customers have no D permits."
   ]
  },
  {
   "cell_type": "code",
   "execution_count": 56,
   "metadata": {
    "collapsed": false
   },
   "outputs": [],
   "source": [
    "customers = pd.read_csv(DIR+'customers_complete.csv')"
   ]
  },
  {
   "cell_type": "code",
   "execution_count": 57,
   "metadata": {
    "collapsed": false
   },
   "outputs": [],
   "source": [
    "customers = customers.join(tmp, on = 'ProjectId', how = 'right')"
   ]
  },
  {
   "cell_type": "code",
   "execution_count": 58,
   "metadata": {
    "collapsed": false
   },
   "outputs": [
    {
     "data": {
      "text/plain": [
       "Index([u'Unnamed: 0', u'CustomerId', u'FirmName', u'Name', u'ProjectId',\n",
       "       u'Role', u'TimetoIssue', u'Count'],\n",
       "      dtype='object')"
      ]
     },
     "execution_count": 58,
     "metadata": {},
     "output_type": "execute_result"
    }
   ],
   "source": [
    "customers.columns"
   ]
  },
  {
   "cell_type": "code",
   "execution_count": 59,
   "metadata": {
    "collapsed": false
   },
   "outputs": [],
   "source": [
    "tmp = customers[['Name', 'FirmName','TimetoIssue']]\n",
    "by_name = tmp.groupby(['Name','FirmName'])\n",
    "tmp = by_name.agg(np.median)\n",
    "tmp['Count'] = by_name.size()"
   ]
  },
  {
   "cell_type": "code",
   "execution_count": 60,
   "metadata": {
    "collapsed": false
   },
   "outputs": [
    {
     "data": {
      "text/html": [
       "<div>\n",
       "<table border=\"1\" class=\"dataframe\">\n",
       "  <thead>\n",
       "    <tr style=\"text-align: right;\">\n",
       "      <th></th>\n",
       "      <th></th>\n",
       "      <th>TimetoIssue</th>\n",
       "      <th>Count</th>\n",
       "    </tr>\n",
       "    <tr>\n",
       "      <th>Name</th>\n",
       "      <th>FirmName</th>\n",
       "      <th></th>\n",
       "      <th></th>\n",
       "    </tr>\n",
       "  </thead>\n",
       "  <tbody>\n",
       "    <tr>\n",
       "      <th>Barbara Harris</th>\n",
       "      <th>Barbara Harris Permitting Serv</th>\n",
       "      <td>130.5</td>\n",
       "      <td>29</td>\n",
       "    </tr>\n",
       "    <tr>\n",
       "      <th>Scot Frontis</th>\n",
       "      <th>Frontis Studio</th>\n",
       "      <td>132.0</td>\n",
       "      <td>34</td>\n",
       "    </tr>\n",
       "    <tr>\n",
       "      <th>Caitlyn Kes</th>\n",
       "      <th>DePratti, Inc.</th>\n",
       "      <td>188.0</td>\n",
       "      <td>24</td>\n",
       "    </tr>\n",
       "    <tr>\n",
       "      <th>Paul D. Ross</th>\n",
       "      <th>PB Consulting</th>\n",
       "      <td>199.5</td>\n",
       "      <td>35</td>\n",
       "    </tr>\n",
       "    <tr>\n",
       "      <th>John Harrison</th>\n",
       "      <th>Sprint</th>\n",
       "      <td>224.0</td>\n",
       "      <td>55</td>\n",
       "    </tr>\n",
       "    <tr>\n",
       "      <th>Michael Rollins</th>\n",
       "      <th>Rollins Const Consulting</th>\n",
       "      <td>232.0</td>\n",
       "      <td>34</td>\n",
       "    </tr>\n",
       "    <tr>\n",
       "      <th>Becky Siskowski</th>\n",
       "      <th>DePratti Incorporated</th>\n",
       "      <td>241.0</td>\n",
       "      <td>29</td>\n",
       "    </tr>\n",
       "    <tr>\n",
       "      <th>Claude-Anthony Marengo</th>\n",
       "      <th>Marengo Morton Architects</th>\n",
       "      <td>246.0</td>\n",
       "      <td>80</td>\n",
       "    </tr>\n",
       "    <tr>\n",
       "      <th>Terry Montello</th>\n",
       "      <th>Permits in Motion</th>\n",
       "      <td>251.0</td>\n",
       "      <td>35</td>\n",
       "    </tr>\n",
       "    <tr>\n",
       "      <th>Rebecca Marquez</th>\n",
       "      <th>Golba Architecture Inc</th>\n",
       "      <td>253.0</td>\n",
       "      <td>31</td>\n",
       "    </tr>\n",
       "    <tr>\n",
       "      <th>Anne Wulftange Regan</th>\n",
       "      <th>DePratti Incorporated</th>\n",
       "      <td>272.0</td>\n",
       "      <td>66</td>\n",
       "    </tr>\n",
       "    <tr>\n",
       "      <th>Ricardo Torres</th>\n",
       "      <th>Golba Architecture Inc</th>\n",
       "      <td>275.0</td>\n",
       "      <td>40</td>\n",
       "    </tr>\n",
       "    <tr>\n",
       "      <th>Stephen DeMars</th>\n",
       "      <th>Clearwire</th>\n",
       "      <td>283.5</td>\n",
       "      <td>108</td>\n",
       "    </tr>\n",
       "    <tr>\n",
       "      <th>Sarah Marijana</th>\n",
       "      <th>DGB Surveying &amp; Mapping</th>\n",
       "      <td>286.0</td>\n",
       "      <td>56</td>\n",
       "    </tr>\n",
       "    <tr>\n",
       "      <th>Bruce Peeling</th>\n",
       "      <th>Bruce Peeling Architect AIA</th>\n",
       "      <td>286.0</td>\n",
       "      <td>30</td>\n",
       "    </tr>\n",
       "    <tr>\n",
       "      <th>Gary Taylor</th>\n",
       "      <th>Gary Taylor and Associates</th>\n",
       "      <td>286.5</td>\n",
       "      <td>43</td>\n",
       "    </tr>\n",
       "    <tr>\n",
       "      <th>Robert J. Bateman</th>\n",
       "      <th>San Diego Land Surveying &amp; Eng</th>\n",
       "      <td>292.0</td>\n",
       "      <td>325</td>\n",
       "    </tr>\n",
       "    <tr>\n",
       "      <th>Debra Gardner</th>\n",
       "      <th>DePratti Incorporated</th>\n",
       "      <td>293.0</td>\n",
       "      <td>34</td>\n",
       "    </tr>\n",
       "    <tr>\n",
       "      <th>Adrian Moon</th>\n",
       "      <th>Rollins Const Consulting</th>\n",
       "      <td>296.0</td>\n",
       "      <td>61</td>\n",
       "    </tr>\n",
       "    <tr>\n",
       "      <th>Curtis Diehl</th>\n",
       "      <th>Plancom</th>\n",
       "      <td>301.0</td>\n",
       "      <td>73</td>\n",
       "    </tr>\n",
       "    <tr>\n",
       "      <th>Julia Rochford</th>\n",
       "      <th>Leppert Engineering Corp.</th>\n",
       "      <td>307.0</td>\n",
       "      <td>73</td>\n",
       "    </tr>\n",
       "    <tr>\n",
       "      <th>Kerrigan Diehl</th>\n",
       "      <th>PlanCom, Inc.</th>\n",
       "      <td>307.0</td>\n",
       "      <td>134</td>\n",
       "    </tr>\n",
       "    <tr>\n",
       "      <th>Joy Christensen</th>\n",
       "      <th>Christensen Engineering &amp; Surv</th>\n",
       "      <td>307.5</td>\n",
       "      <td>23</td>\n",
       "    </tr>\n",
       "    <tr>\n",
       "      <th>Daniel Linn</th>\n",
       "      <th>Daniel Linn Architects</th>\n",
       "      <td>308.0</td>\n",
       "      <td>53</td>\n",
       "    </tr>\n",
       "    <tr>\n",
       "      <th>Norman Alvarez</th>\n",
       "      <th>K&amp;S Engineering</th>\n",
       "      <td>308.5</td>\n",
       "      <td>34</td>\n",
       "    </tr>\n",
       "    <tr>\n",
       "      <th>Leslie S. Vartanian</th>\n",
       "      <th>Verizon Wireless</th>\n",
       "      <td>311.0</td>\n",
       "      <td>48</td>\n",
       "    </tr>\n",
       "    <tr>\n",
       "      <th>Leslie Vartanian</th>\n",
       "      <th>Verizon Wireless</th>\n",
       "      <td>315.5</td>\n",
       "      <td>72</td>\n",
       "    </tr>\n",
       "    <tr>\n",
       "      <th>Bryan Bradway</th>\n",
       "      <th>Burkett &amp; Wong</th>\n",
       "      <td>318.0</td>\n",
       "      <td>32</td>\n",
       "    </tr>\n",
       "    <tr>\n",
       "      <th>Beth Reiter</th>\n",
       "      <th>Von Reiter Group</th>\n",
       "      <td>320.5</td>\n",
       "      <td>23</td>\n",
       "    </tr>\n",
       "    <tr>\n",
       "      <th>Nicole Noble</th>\n",
       "      <th>xx  Formerly from Sterling</th>\n",
       "      <td>322.0</td>\n",
       "      <td>72</td>\n",
       "    </tr>\n",
       "    <tr>\n",
       "      <th>...</th>\n",
       "      <th>...</th>\n",
       "      <td>...</td>\n",
       "      <td>...</td>\n",
       "    </tr>\n",
       "    <tr>\n",
       "      <th>Kevin McGee</th>\n",
       "      <th>AT&amp;T Mobility</th>\n",
       "      <td>330.5</td>\n",
       "      <td>31</td>\n",
       "    </tr>\n",
       "    <tr>\n",
       "      <th>Ryan Post</th>\n",
       "      <th>Anthony-Taylor Consultants</th>\n",
       "      <td>330.5</td>\n",
       "      <td>31</td>\n",
       "    </tr>\n",
       "    <tr>\n",
       "      <th>Matt Saia</th>\n",
       "      <th>DePratti, Inc.</th>\n",
       "      <td>334.0</td>\n",
       "      <td>41</td>\n",
       "    </tr>\n",
       "    <tr>\n",
       "      <th>Brian Longmore</th>\n",
       "      <th>Permit Solutions</th>\n",
       "      <td>335.0</td>\n",
       "      <td>94</td>\n",
       "    </tr>\n",
       "    <tr>\n",
       "      <th>William Kellogg</th>\n",
       "      <th>Landmark Engineering Corp.</th>\n",
       "      <td>335.5</td>\n",
       "      <td>25</td>\n",
       "    </tr>\n",
       "    <tr>\n",
       "      <th>JACK CANNING</th>\n",
       "      <th>CITY OF SAN DIEGO</th>\n",
       "      <td>340.5</td>\n",
       "      <td>24</td>\n",
       "    </tr>\n",
       "    <tr>\n",
       "      <th>Chris Christensen</th>\n",
       "      <th>Condoconversions.com</th>\n",
       "      <td>342.0</td>\n",
       "      <td>28</td>\n",
       "    </tr>\n",
       "    <tr>\n",
       "      <th>Jon Zumsteg</th>\n",
       "      <th>T-Mobile USA, Inc</th>\n",
       "      <td>344.0</td>\n",
       "      <td>89</td>\n",
       "    </tr>\n",
       "    <tr>\n",
       "      <th>Kerrigan Diehl</th>\n",
       "      <th>AT&amp;T Mobility</th>\n",
       "      <td>348.0</td>\n",
       "      <td>30</td>\n",
       "    </tr>\n",
       "    <tr>\n",
       "      <th>Pam Swanson</th>\n",
       "      <th>Pam's Permitting</th>\n",
       "      <td>362.5</td>\n",
       "      <td>26</td>\n",
       "    </tr>\n",
       "    <tr>\n",
       "      <th>Kerrigan Daugherty</th>\n",
       "      <th>Plancom</th>\n",
       "      <td>367.0</td>\n",
       "      <td>30</td>\n",
       "    </tr>\n",
       "    <tr>\n",
       "      <th>Robert Negrete</th>\n",
       "      <th>City of San Diego Dev Svc.</th>\n",
       "      <td>370.5</td>\n",
       "      <td>70</td>\n",
       "    </tr>\n",
       "    <tr>\n",
       "      <th>Ian Harris</th>\n",
       "      <th>Barbara Harris Permitting</th>\n",
       "      <td>373.0</td>\n",
       "      <td>44</td>\n",
       "    </tr>\n",
       "    <tr>\n",
       "      <th>Lydia Paterson</th>\n",
       "      <th>Permits in Motion</th>\n",
       "      <td>379.0</td>\n",
       "      <td>57</td>\n",
       "    </tr>\n",
       "    <tr>\n",
       "      <th>James Kennedy</th>\n",
       "      <th>TAIC</th>\n",
       "      <td>382.0</td>\n",
       "      <td>36</td>\n",
       "    </tr>\n",
       "    <tr>\n",
       "      <th>Jim Jessup</th>\n",
       "      <th>Rick Engineering Company</th>\n",
       "      <td>383.0</td>\n",
       "      <td>25</td>\n",
       "    </tr>\n",
       "    <tr>\n",
       "      <th>Anna Yentile</th>\n",
       "      <th>Latitude 33</th>\n",
       "      <td>386.0</td>\n",
       "      <td>26</td>\n",
       "    </tr>\n",
       "    <tr>\n",
       "      <th>D. Scott Peters</th>\n",
       "      <th>Sterling Land Services Inc.</th>\n",
       "      <td>392.0</td>\n",
       "      <td>63</td>\n",
       "    </tr>\n",
       "    <tr>\n",
       "      <th>John Pizzato</th>\n",
       "      <th>Algert Engineering, Inc.</th>\n",
       "      <td>409.0</td>\n",
       "      <td>29</td>\n",
       "    </tr>\n",
       "    <tr>\n",
       "      <th>Janay Kruger</th>\n",
       "      <th>Kruger Development Co.</th>\n",
       "      <td>411.0</td>\n",
       "      <td>64</td>\n",
       "    </tr>\n",
       "    <tr>\n",
       "      <th>Kevin C. Becker</th>\n",
       "      <th>AT&amp;T Mobility - San Diego</th>\n",
       "      <td>412.0</td>\n",
       "      <td>51</td>\n",
       "    </tr>\n",
       "    <tr>\n",
       "      <th>Tina Longmore</th>\n",
       "      <th>Permit Solutions</th>\n",
       "      <td>428.0</td>\n",
       "      <td>38</td>\n",
       "    </tr>\n",
       "    <tr>\n",
       "      <th>Sean Torres</th>\n",
       "      <th>City of San Diego</th>\n",
       "      <td>467.0</td>\n",
       "      <td>78</td>\n",
       "    </tr>\n",
       "    <tr>\n",
       "      <th>Neva Cobian</th>\n",
       "      <th>RBF Consulting</th>\n",
       "      <td>490.5</td>\n",
       "      <td>49</td>\n",
       "    </tr>\n",
       "    <tr>\n",
       "      <th>Keri Cuppage</th>\n",
       "      <th>Project Design Consultants</th>\n",
       "      <td>533.0</td>\n",
       "      <td>31</td>\n",
       "    </tr>\n",
       "    <tr>\n",
       "      <th>Melissa C. Kessler</th>\n",
       "      <th>RBF Consulting</th>\n",
       "      <td>587.5</td>\n",
       "      <td>32</td>\n",
       "    </tr>\n",
       "    <tr>\n",
       "      <th>Krystal Patterson</th>\n",
       "      <th>PlanCom, Inc.</th>\n",
       "      <td>588.0</td>\n",
       "      <td>101</td>\n",
       "    </tr>\n",
       "    <tr>\n",
       "      <th>Shelly Kilbourn</th>\n",
       "      <th>Plancom Inc.</th>\n",
       "      <td>632.0</td>\n",
       "      <td>73</td>\n",
       "    </tr>\n",
       "    <tr>\n",
       "      <th>Jonathan Dohm</th>\n",
       "      <th>Crown Castle</th>\n",
       "      <td>800.0</td>\n",
       "      <td>27</td>\n",
       "    </tr>\n",
       "    <tr>\n",
       "      <th>Linda Ott</th>\n",
       "      <th>Sterling Land Services, Inc</th>\n",
       "      <td>839.0</td>\n",
       "      <td>27</td>\n",
       "    </tr>\n",
       "  </tbody>\n",
       "</table>\n",
       "<p>61 rows × 2 columns</p>\n",
       "</div>"
      ],
      "text/plain": [
       "                                                       TimetoIssue  Count\n",
       "Name                   FirmName                                          \n",
       "Barbara Harris         Barbara Harris Permitting Serv        130.5     29\n",
       "Scot Frontis           Frontis Studio                        132.0     34\n",
       "Caitlyn Kes            DePratti, Inc.                        188.0     24\n",
       "Paul D. Ross           PB Consulting                         199.5     35\n",
       "John Harrison          Sprint                                224.0     55\n",
       "Michael Rollins        Rollins Const Consulting              232.0     34\n",
       "Becky Siskowski        DePratti Incorporated                 241.0     29\n",
       "Claude-Anthony Marengo Marengo Morton Architects             246.0     80\n",
       "Terry Montello         Permits in Motion                     251.0     35\n",
       "Rebecca Marquez        Golba Architecture Inc                253.0     31\n",
       "Anne Wulftange Regan   DePratti Incorporated                 272.0     66\n",
       "Ricardo Torres         Golba Architecture Inc                275.0     40\n",
       "Stephen DeMars         Clearwire                             283.5    108\n",
       "Sarah Marijana         DGB Surveying & Mapping               286.0     56\n",
       "Bruce Peeling          Bruce Peeling Architect AIA           286.0     30\n",
       "Gary Taylor            Gary Taylor and Associates            286.5     43\n",
       "Robert J. Bateman      San Diego Land Surveying & Eng        292.0    325\n",
       "Debra Gardner          DePratti Incorporated                 293.0     34\n",
       "Adrian Moon            Rollins Const Consulting              296.0     61\n",
       "Curtis Diehl           Plancom                               301.0     73\n",
       "Julia Rochford         Leppert Engineering Corp.             307.0     73\n",
       "Kerrigan Diehl         PlanCom, Inc.                         307.0    134\n",
       "Joy Christensen        Christensen Engineering & Surv        307.5     23\n",
       "Daniel Linn            Daniel Linn Architects                308.0     53\n",
       "Norman Alvarez         K&S Engineering                       308.5     34\n",
       "Leslie S. Vartanian    Verizon Wireless                      311.0     48\n",
       "Leslie Vartanian       Verizon Wireless                      315.5     72\n",
       "Bryan Bradway          Burkett & Wong                        318.0     32\n",
       "Beth Reiter            Von Reiter Group                      320.5     23\n",
       "Nicole Noble           xx  Formerly from Sterling            322.0     72\n",
       "...                                                            ...    ...\n",
       "Kevin McGee            AT&T Mobility                         330.5     31\n",
       "Ryan Post              Anthony-Taylor Consultants            330.5     31\n",
       "Matt Saia              DePratti, Inc.                        334.0     41\n",
       "Brian Longmore         Permit Solutions                      335.0     94\n",
       "William Kellogg        Landmark Engineering Corp.            335.5     25\n",
       "JACK CANNING           CITY OF SAN DIEGO                     340.5     24\n",
       "Chris Christensen      Condoconversions.com                  342.0     28\n",
       "Jon Zumsteg            T-Mobile USA, Inc                     344.0     89\n",
       "Kerrigan Diehl         AT&T Mobility                         348.0     30\n",
       "Pam Swanson            Pam's Permitting                      362.5     26\n",
       "Kerrigan Daugherty     Plancom                               367.0     30\n",
       "Robert Negrete         City of San Diego Dev Svc.            370.5     70\n",
       "Ian Harris             Barbara Harris Permitting             373.0     44\n",
       "Lydia Paterson         Permits in Motion                     379.0     57\n",
       "James Kennedy          TAIC                                  382.0     36\n",
       "Jim Jessup             Rick Engineering Company              383.0     25\n",
       "Anna Yentile           Latitude 33                           386.0     26\n",
       "D. Scott Peters        Sterling Land Services Inc.           392.0     63\n",
       "John Pizzato           Algert Engineering, Inc.              409.0     29\n",
       "Janay Kruger           Kruger Development Co.                411.0     64\n",
       "Kevin C. Becker        AT&T Mobility - San Diego             412.0     51\n",
       "Tina Longmore          Permit Solutions                      428.0     38\n",
       "Sean Torres            City of San Diego                     467.0     78\n",
       "Neva Cobian            RBF Consulting                        490.5     49\n",
       "Keri Cuppage           Project Design Consultants            533.0     31\n",
       "Melissa C. Kessler     RBF Consulting                        587.5     32\n",
       "Krystal Patterson      PlanCom, Inc.                         588.0    101\n",
       "Shelly Kilbourn        Plancom Inc.                          632.0     73\n",
       "Jonathan Dohm          Crown Castle                          800.0     27\n",
       "Linda Ott              Sterling Land Services, Inc           839.0     27\n",
       "\n",
       "[61 rows x 2 columns]"
      ]
     },
     "execution_count": 60,
     "metadata": {},
     "output_type": "execute_result"
    }
   ],
   "source": [
    "tmp[tmp.Count > 22].sort(['TimetoIssue'])"
   ]
  },
  {
   "cell_type": "code",
   "execution_count": 61,
   "metadata": {
    "collapsed": false
   },
   "outputs": [],
   "source": [
    "#tmp[tmp.Count > 22].sort(['TimetoIssue']).to_csv('/home/damoncrockett/vosd.org/215-opendsd/big_customers_name_firm.csv')"
   ]
  },
  {
   "cell_type": "code",
   "execution_count": null,
   "metadata": {
    "collapsed": false
   },
   "outputs": [],
   "source": []
  },
  {
   "cell_type": "code",
   "execution_count": null,
   "metadata": {
    "collapsed": false
   },
   "outputs": [],
   "source": []
  },
  {
   "cell_type": "code",
   "execution_count": 62,
   "metadata": {
    "collapsed": false
   },
   "outputs": [
    {
     "data": {
      "text/plain": [
       "(nan, 1.0)"
      ]
     },
     "execution_count": 62,
     "metadata": {},
     "output_type": "execute_result"
    }
   ],
   "source": [
    "pearsonr(tmp.Count,tmp.TimetoIssue)"
   ]
  },
  {
   "cell_type": "code",
   "execution_count": 63,
   "metadata": {
    "collapsed": false
   },
   "outputs": [
    {
     "data": {
      "text/plain": [
       "(nan, 1.0)"
      ]
     },
     "execution_count": 63,
     "metadata": {},
     "output_type": "execute_result"
    }
   ],
   "source": [
    "pearsonr(tmp.Count[tmp.Count > 1],tmp.TimetoIssue[tmp.Count > 1])"
   ]
  },
  {
   "cell_type": "code",
   "execution_count": 64,
   "metadata": {
    "collapsed": false
   },
   "outputs": [
    {
     "data": {
      "text/plain": [
       "(nan, 1.0)"
      ]
     },
     "execution_count": 64,
     "metadata": {},
     "output_type": "execute_result"
    }
   ],
   "source": [
    "pearsonr(tmp.Count[tmp.Count > 2],tmp.TimetoIssue[tmp.Count > 2])"
   ]
  },
  {
   "cell_type": "code",
   "execution_count": 65,
   "metadata": {
    "collapsed": false
   },
   "outputs": [
    {
     "data": {
      "text/plain": [
       "(nan, 1.0)"
      ]
     },
     "execution_count": 65,
     "metadata": {},
     "output_type": "execute_result"
    }
   ],
   "source": [
    "pearsonr(tmp.Count[tmp.Count > 4],tmp.TimetoIssue[tmp.Count > 4])"
   ]
  },
  {
   "cell_type": "code",
   "execution_count": 66,
   "metadata": {
    "collapsed": false
   },
   "outputs": [
    {
     "data": {
      "text/plain": [
       "(nan, 1.0)"
      ]
     },
     "execution_count": 66,
     "metadata": {},
     "output_type": "execute_result"
    }
   ],
   "source": [
    "pearsonr(tmp.Count[tmp.Count > 7],tmp.TimetoIssue[tmp.Count > 7])"
   ]
  },
  {
   "cell_type": "code",
   "execution_count": 67,
   "metadata": {
    "collapsed": false
   },
   "outputs": [
    {
     "data": {
      "text/plain": [
       "(-0.0069153666630770655, 0.9557081703531134)"
      ]
     },
     "execution_count": 67,
     "metadata": {},
     "output_type": "execute_result"
    }
   ],
   "source": [
    "pearsonr(tmp.Count[tmp.Count > 21],tmp.TimetoIssue[tmp.Count > 21])"
   ]
  },
  {
   "cell_type": "code",
   "execution_count": 68,
   "metadata": {
    "collapsed": false
   },
   "outputs": [
    {
     "data": {
      "text/plain": [
       "(-0.10200371136748645, 0.60550876043938606)"
      ]
     },
     "execution_count": 68,
     "metadata": {},
     "output_type": "execute_result"
    }
   ],
   "source": [
    "pearsonr(tmp.Count[tmp.Count > 42],tmp.TimetoIssue[tmp.Count > 42])"
   ]
  },
  {
   "cell_type": "code",
   "execution_count": 69,
   "metadata": {
    "collapsed": false
   },
   "outputs": [],
   "source": [
    "tmp = customers[['Name', 'FirmName','TimetoIssue']]\n",
    "by_name = tmp.groupby(['FirmName','Name'])\n",
    "tmp = by_name.agg(np.median)\n",
    "tmp['Count'] = by_name.size()"
   ]
  },
  {
   "cell_type": "code",
   "execution_count": 70,
   "metadata": {
    "collapsed": false
   },
   "outputs": [
    {
     "data": {
      "text/html": [
       "<div>\n",
       "<table border=\"1\" class=\"dataframe\">\n",
       "  <thead>\n",
       "    <tr style=\"text-align: right;\">\n",
       "      <th></th>\n",
       "      <th></th>\n",
       "      <th>TimetoIssue</th>\n",
       "      <th>Count</th>\n",
       "    </tr>\n",
       "    <tr>\n",
       "      <th>FirmName</th>\n",
       "      <th>Name</th>\n",
       "      <th></th>\n",
       "      <th></th>\n",
       "    </tr>\n",
       "  </thead>\n",
       "  <tbody>\n",
       "    <tr>\n",
       "      <th>Barbara Harris Permitting Serv</th>\n",
       "      <th>Barbara Harris</th>\n",
       "      <td>130.5</td>\n",
       "      <td>29</td>\n",
       "    </tr>\n",
       "    <tr>\n",
       "      <th>Frontis Studio</th>\n",
       "      <th>Scot Frontis</th>\n",
       "      <td>132.0</td>\n",
       "      <td>34</td>\n",
       "    </tr>\n",
       "    <tr>\n",
       "      <th>DePratti, Inc.</th>\n",
       "      <th>Caitlyn Kes</th>\n",
       "      <td>188.0</td>\n",
       "      <td>24</td>\n",
       "    </tr>\n",
       "    <tr>\n",
       "      <th>PB Consulting</th>\n",
       "      <th>Paul D. Ross</th>\n",
       "      <td>199.5</td>\n",
       "      <td>35</td>\n",
       "    </tr>\n",
       "    <tr>\n",
       "      <th>Sprint</th>\n",
       "      <th>John Harrison</th>\n",
       "      <td>224.0</td>\n",
       "      <td>55</td>\n",
       "    </tr>\n",
       "    <tr>\n",
       "      <th>Rollins Const Consulting</th>\n",
       "      <th>Michael Rollins</th>\n",
       "      <td>232.0</td>\n",
       "      <td>34</td>\n",
       "    </tr>\n",
       "    <tr>\n",
       "      <th>DePratti Incorporated</th>\n",
       "      <th>Becky Siskowski</th>\n",
       "      <td>241.0</td>\n",
       "      <td>29</td>\n",
       "    </tr>\n",
       "    <tr>\n",
       "      <th>Marengo Morton Architects</th>\n",
       "      <th>Claude-Anthony Marengo</th>\n",
       "      <td>246.0</td>\n",
       "      <td>80</td>\n",
       "    </tr>\n",
       "    <tr>\n",
       "      <th>Permits in Motion</th>\n",
       "      <th>Terry Montello</th>\n",
       "      <td>251.0</td>\n",
       "      <td>35</td>\n",
       "    </tr>\n",
       "    <tr>\n",
       "      <th>Golba Architecture Inc</th>\n",
       "      <th>Rebecca Marquez</th>\n",
       "      <td>253.0</td>\n",
       "      <td>31</td>\n",
       "    </tr>\n",
       "    <tr>\n",
       "      <th>DePratti Incorporated</th>\n",
       "      <th>Anne Wulftange Regan</th>\n",
       "      <td>272.0</td>\n",
       "      <td>66</td>\n",
       "    </tr>\n",
       "    <tr>\n",
       "      <th>Golba Architecture Inc</th>\n",
       "      <th>Ricardo Torres</th>\n",
       "      <td>275.0</td>\n",
       "      <td>40</td>\n",
       "    </tr>\n",
       "    <tr>\n",
       "      <th>Clearwire</th>\n",
       "      <th>Stephen DeMars</th>\n",
       "      <td>283.5</td>\n",
       "      <td>108</td>\n",
       "    </tr>\n",
       "    <tr>\n",
       "      <th>Bruce Peeling Architect AIA</th>\n",
       "      <th>Bruce Peeling</th>\n",
       "      <td>286.0</td>\n",
       "      <td>30</td>\n",
       "    </tr>\n",
       "    <tr>\n",
       "      <th>DGB Surveying &amp; Mapping</th>\n",
       "      <th>Sarah Marijana</th>\n",
       "      <td>286.0</td>\n",
       "      <td>56</td>\n",
       "    </tr>\n",
       "    <tr>\n",
       "      <th>Gary Taylor and Associates</th>\n",
       "      <th>Gary Taylor</th>\n",
       "      <td>286.5</td>\n",
       "      <td>43</td>\n",
       "    </tr>\n",
       "    <tr>\n",
       "      <th>San Diego Land Surveying &amp; Eng</th>\n",
       "      <th>Robert J. Bateman</th>\n",
       "      <td>292.0</td>\n",
       "      <td>325</td>\n",
       "    </tr>\n",
       "    <tr>\n",
       "      <th>DePratti Incorporated</th>\n",
       "      <th>Debra Gardner</th>\n",
       "      <td>293.0</td>\n",
       "      <td>34</td>\n",
       "    </tr>\n",
       "    <tr>\n",
       "      <th>Rollins Const Consulting</th>\n",
       "      <th>Adrian Moon</th>\n",
       "      <td>296.0</td>\n",
       "      <td>61</td>\n",
       "    </tr>\n",
       "    <tr>\n",
       "      <th>Plancom</th>\n",
       "      <th>Curtis Diehl</th>\n",
       "      <td>301.0</td>\n",
       "      <td>73</td>\n",
       "    </tr>\n",
       "    <tr>\n",
       "      <th>Leppert Engineering Corp.</th>\n",
       "      <th>Julia Rochford</th>\n",
       "      <td>307.0</td>\n",
       "      <td>73</td>\n",
       "    </tr>\n",
       "    <tr>\n",
       "      <th>PlanCom, Inc.</th>\n",
       "      <th>Kerrigan Diehl</th>\n",
       "      <td>307.0</td>\n",
       "      <td>134</td>\n",
       "    </tr>\n",
       "    <tr>\n",
       "      <th>Christensen Engineering &amp; Surv</th>\n",
       "      <th>Joy Christensen</th>\n",
       "      <td>307.5</td>\n",
       "      <td>23</td>\n",
       "    </tr>\n",
       "    <tr>\n",
       "      <th>Daniel Linn Architects</th>\n",
       "      <th>Daniel Linn</th>\n",
       "      <td>308.0</td>\n",
       "      <td>53</td>\n",
       "    </tr>\n",
       "    <tr>\n",
       "      <th>K&amp;S Engineering</th>\n",
       "      <th>Norman Alvarez</th>\n",
       "      <td>308.5</td>\n",
       "      <td>34</td>\n",
       "    </tr>\n",
       "    <tr>\n",
       "      <th rowspan=\"2\" valign=\"top\">Verizon Wireless</th>\n",
       "      <th>Leslie S. Vartanian</th>\n",
       "      <td>311.0</td>\n",
       "      <td>48</td>\n",
       "    </tr>\n",
       "    <tr>\n",
       "      <th>Leslie Vartanian</th>\n",
       "      <td>315.5</td>\n",
       "      <td>72</td>\n",
       "    </tr>\n",
       "    <tr>\n",
       "      <th>Burkett &amp; Wong</th>\n",
       "      <th>Bryan Bradway</th>\n",
       "      <td>318.0</td>\n",
       "      <td>32</td>\n",
       "    </tr>\n",
       "    <tr>\n",
       "      <th>Von Reiter Group</th>\n",
       "      <th>Beth Reiter</th>\n",
       "      <td>320.5</td>\n",
       "      <td>23</td>\n",
       "    </tr>\n",
       "    <tr>\n",
       "      <th>xx  Formerly from Sterling</th>\n",
       "      <th>Nicole Noble</th>\n",
       "      <td>322.0</td>\n",
       "      <td>72</td>\n",
       "    </tr>\n",
       "    <tr>\n",
       "      <th>...</th>\n",
       "      <th>...</th>\n",
       "      <td>...</td>\n",
       "      <td>...</td>\n",
       "    </tr>\n",
       "    <tr>\n",
       "      <th>AT&amp;T Mobility</th>\n",
       "      <th>Kevin McGee</th>\n",
       "      <td>330.5</td>\n",
       "      <td>31</td>\n",
       "    </tr>\n",
       "    <tr>\n",
       "      <th>Anthony-Taylor Consultants</th>\n",
       "      <th>Ryan Post</th>\n",
       "      <td>330.5</td>\n",
       "      <td>31</td>\n",
       "    </tr>\n",
       "    <tr>\n",
       "      <th>DePratti, Inc.</th>\n",
       "      <th>Matt Saia</th>\n",
       "      <td>334.0</td>\n",
       "      <td>41</td>\n",
       "    </tr>\n",
       "    <tr>\n",
       "      <th>Permit Solutions</th>\n",
       "      <th>Brian Longmore</th>\n",
       "      <td>335.0</td>\n",
       "      <td>94</td>\n",
       "    </tr>\n",
       "    <tr>\n",
       "      <th>Landmark Engineering Corp.</th>\n",
       "      <th>William Kellogg</th>\n",
       "      <td>335.5</td>\n",
       "      <td>25</td>\n",
       "    </tr>\n",
       "    <tr>\n",
       "      <th>CITY OF SAN DIEGO</th>\n",
       "      <th>JACK CANNING</th>\n",
       "      <td>340.5</td>\n",
       "      <td>24</td>\n",
       "    </tr>\n",
       "    <tr>\n",
       "      <th>Condoconversions.com</th>\n",
       "      <th>Chris Christensen</th>\n",
       "      <td>342.0</td>\n",
       "      <td>28</td>\n",
       "    </tr>\n",
       "    <tr>\n",
       "      <th>T-Mobile USA, Inc</th>\n",
       "      <th>Jon Zumsteg</th>\n",
       "      <td>344.0</td>\n",
       "      <td>89</td>\n",
       "    </tr>\n",
       "    <tr>\n",
       "      <th>AT&amp;T Mobility</th>\n",
       "      <th>Kerrigan Diehl</th>\n",
       "      <td>348.0</td>\n",
       "      <td>30</td>\n",
       "    </tr>\n",
       "    <tr>\n",
       "      <th>Pam's Permitting</th>\n",
       "      <th>Pam Swanson</th>\n",
       "      <td>362.5</td>\n",
       "      <td>26</td>\n",
       "    </tr>\n",
       "    <tr>\n",
       "      <th>Plancom</th>\n",
       "      <th>Kerrigan Daugherty</th>\n",
       "      <td>367.0</td>\n",
       "      <td>30</td>\n",
       "    </tr>\n",
       "    <tr>\n",
       "      <th>City of San Diego Dev Svc.</th>\n",
       "      <th>Robert Negrete</th>\n",
       "      <td>370.5</td>\n",
       "      <td>70</td>\n",
       "    </tr>\n",
       "    <tr>\n",
       "      <th>Barbara Harris Permitting</th>\n",
       "      <th>Ian Harris</th>\n",
       "      <td>373.0</td>\n",
       "      <td>44</td>\n",
       "    </tr>\n",
       "    <tr>\n",
       "      <th>Permits in Motion</th>\n",
       "      <th>Lydia Paterson</th>\n",
       "      <td>379.0</td>\n",
       "      <td>57</td>\n",
       "    </tr>\n",
       "    <tr>\n",
       "      <th>TAIC</th>\n",
       "      <th>James Kennedy</th>\n",
       "      <td>382.0</td>\n",
       "      <td>36</td>\n",
       "    </tr>\n",
       "    <tr>\n",
       "      <th>Rick Engineering Company</th>\n",
       "      <th>Jim Jessup</th>\n",
       "      <td>383.0</td>\n",
       "      <td>25</td>\n",
       "    </tr>\n",
       "    <tr>\n",
       "      <th>Latitude 33</th>\n",
       "      <th>Anna Yentile</th>\n",
       "      <td>386.0</td>\n",
       "      <td>26</td>\n",
       "    </tr>\n",
       "    <tr>\n",
       "      <th>Sterling Land Services Inc.</th>\n",
       "      <th>D. Scott Peters</th>\n",
       "      <td>392.0</td>\n",
       "      <td>63</td>\n",
       "    </tr>\n",
       "    <tr>\n",
       "      <th>Algert Engineering, Inc.</th>\n",
       "      <th>John Pizzato</th>\n",
       "      <td>409.0</td>\n",
       "      <td>29</td>\n",
       "    </tr>\n",
       "    <tr>\n",
       "      <th>Kruger Development Co.</th>\n",
       "      <th>Janay Kruger</th>\n",
       "      <td>411.0</td>\n",
       "      <td>64</td>\n",
       "    </tr>\n",
       "    <tr>\n",
       "      <th>AT&amp;T Mobility - San Diego</th>\n",
       "      <th>Kevin C. Becker</th>\n",
       "      <td>412.0</td>\n",
       "      <td>51</td>\n",
       "    </tr>\n",
       "    <tr>\n",
       "      <th>Permit Solutions</th>\n",
       "      <th>Tina Longmore</th>\n",
       "      <td>428.0</td>\n",
       "      <td>38</td>\n",
       "    </tr>\n",
       "    <tr>\n",
       "      <th>City of San Diego</th>\n",
       "      <th>Sean Torres</th>\n",
       "      <td>467.0</td>\n",
       "      <td>78</td>\n",
       "    </tr>\n",
       "    <tr>\n",
       "      <th>RBF Consulting</th>\n",
       "      <th>Neva Cobian</th>\n",
       "      <td>490.5</td>\n",
       "      <td>49</td>\n",
       "    </tr>\n",
       "    <tr>\n",
       "      <th>Project Design Consultants</th>\n",
       "      <th>Keri Cuppage</th>\n",
       "      <td>533.0</td>\n",
       "      <td>31</td>\n",
       "    </tr>\n",
       "    <tr>\n",
       "      <th>RBF Consulting</th>\n",
       "      <th>Melissa C. Kessler</th>\n",
       "      <td>587.5</td>\n",
       "      <td>32</td>\n",
       "    </tr>\n",
       "    <tr>\n",
       "      <th>PlanCom, Inc.</th>\n",
       "      <th>Krystal Patterson</th>\n",
       "      <td>588.0</td>\n",
       "      <td>101</td>\n",
       "    </tr>\n",
       "    <tr>\n",
       "      <th>Plancom Inc.</th>\n",
       "      <th>Shelly Kilbourn</th>\n",
       "      <td>632.0</td>\n",
       "      <td>73</td>\n",
       "    </tr>\n",
       "    <tr>\n",
       "      <th>Crown Castle</th>\n",
       "      <th>Jonathan Dohm</th>\n",
       "      <td>800.0</td>\n",
       "      <td>27</td>\n",
       "    </tr>\n",
       "    <tr>\n",
       "      <th>Sterling Land Services, Inc</th>\n",
       "      <th>Linda Ott</th>\n",
       "      <td>839.0</td>\n",
       "      <td>27</td>\n",
       "    </tr>\n",
       "  </tbody>\n",
       "</table>\n",
       "<p>61 rows × 2 columns</p>\n",
       "</div>"
      ],
      "text/plain": [
       "                                                       TimetoIssue  Count\n",
       "FirmName                       Name                                      \n",
       "Barbara Harris Permitting Serv Barbara Harris                130.5     29\n",
       "Frontis Studio                 Scot Frontis                  132.0     34\n",
       "DePratti, Inc.                 Caitlyn Kes                   188.0     24\n",
       "PB Consulting                  Paul D. Ross                  199.5     35\n",
       "Sprint                         John Harrison                 224.0     55\n",
       "Rollins Const Consulting       Michael Rollins               232.0     34\n",
       "DePratti Incorporated          Becky Siskowski               241.0     29\n",
       "Marengo Morton Architects      Claude-Anthony Marengo        246.0     80\n",
       "Permits in Motion              Terry Montello                251.0     35\n",
       "Golba Architecture Inc         Rebecca Marquez               253.0     31\n",
       "DePratti Incorporated          Anne Wulftange Regan          272.0     66\n",
       "Golba Architecture Inc         Ricardo Torres                275.0     40\n",
       "Clearwire                      Stephen DeMars                283.5    108\n",
       "Bruce Peeling Architect AIA    Bruce Peeling                 286.0     30\n",
       "DGB Surveying & Mapping        Sarah Marijana                286.0     56\n",
       "Gary Taylor and Associates     Gary Taylor                   286.5     43\n",
       "San Diego Land Surveying & Eng Robert J. Bateman             292.0    325\n",
       "DePratti Incorporated          Debra Gardner                 293.0     34\n",
       "Rollins Const Consulting       Adrian Moon                   296.0     61\n",
       "Plancom                        Curtis Diehl                  301.0     73\n",
       "Leppert Engineering Corp.      Julia Rochford                307.0     73\n",
       "PlanCom, Inc.                  Kerrigan Diehl                307.0    134\n",
       "Christensen Engineering & Surv Joy Christensen               307.5     23\n",
       "Daniel Linn Architects         Daniel Linn                   308.0     53\n",
       "K&S Engineering                Norman Alvarez                308.5     34\n",
       "Verizon Wireless               Leslie S. Vartanian           311.0     48\n",
       "                               Leslie Vartanian              315.5     72\n",
       "Burkett & Wong                 Bryan Bradway                 318.0     32\n",
       "Von Reiter Group               Beth Reiter                   320.5     23\n",
       "xx  Formerly from Sterling     Nicole Noble                  322.0     72\n",
       "...                                                            ...    ...\n",
       "AT&T Mobility                  Kevin McGee                   330.5     31\n",
       "Anthony-Taylor Consultants     Ryan Post                     330.5     31\n",
       "DePratti, Inc.                 Matt Saia                     334.0     41\n",
       "Permit Solutions               Brian Longmore                335.0     94\n",
       "Landmark Engineering Corp.     William Kellogg               335.5     25\n",
       "CITY OF SAN DIEGO              JACK CANNING                  340.5     24\n",
       "Condoconversions.com           Chris Christensen             342.0     28\n",
       "T-Mobile USA, Inc              Jon Zumsteg                   344.0     89\n",
       "AT&T Mobility                  Kerrigan Diehl                348.0     30\n",
       "Pam's Permitting               Pam Swanson                   362.5     26\n",
       "Plancom                        Kerrigan Daugherty            367.0     30\n",
       "City of San Diego Dev Svc.     Robert Negrete                370.5     70\n",
       "Barbara Harris Permitting      Ian Harris                    373.0     44\n",
       "Permits in Motion              Lydia Paterson                379.0     57\n",
       "TAIC                           James Kennedy                 382.0     36\n",
       "Rick Engineering Company       Jim Jessup                    383.0     25\n",
       "Latitude 33                    Anna Yentile                  386.0     26\n",
       "Sterling Land Services Inc.    D. Scott Peters               392.0     63\n",
       "Algert Engineering, Inc.       John Pizzato                  409.0     29\n",
       "Kruger Development Co.         Janay Kruger                  411.0     64\n",
       "AT&T Mobility - San Diego      Kevin C. Becker               412.0     51\n",
       "Permit Solutions               Tina Longmore                 428.0     38\n",
       "City of San Diego              Sean Torres                   467.0     78\n",
       "RBF Consulting                 Neva Cobian                   490.5     49\n",
       "Project Design Consultants     Keri Cuppage                  533.0     31\n",
       "RBF Consulting                 Melissa C. Kessler            587.5     32\n",
       "PlanCom, Inc.                  Krystal Patterson             588.0    101\n",
       "Plancom Inc.                   Shelly Kilbourn               632.0     73\n",
       "Crown Castle                   Jonathan Dohm                 800.0     27\n",
       "Sterling Land Services, Inc    Linda Ott                     839.0     27\n",
       "\n",
       "[61 rows x 2 columns]"
      ]
     },
     "execution_count": 70,
     "metadata": {},
     "output_type": "execute_result"
    }
   ],
   "source": [
    "tmp[tmp.Count > 22].sort(['TimetoIssue'])"
   ]
  },
  {
   "cell_type": "code",
   "execution_count": 71,
   "metadata": {
    "collapsed": false
   },
   "outputs": [],
   "source": [
    "#tmp[tmp.Count > 22].sort(['TimetoIssue']).to_csv(DIR+'big_customers_name_firm.csv')"
   ]
  },
  {
   "cell_type": "code",
   "execution_count": 72,
   "metadata": {
    "collapsed": false
   },
   "outputs": [],
   "source": [
    "tmp = customers[['FirmName','TimetoIssue']]\n",
    "by_name = tmp.groupby('FirmName')\n",
    "tmp = by_name.agg(np.median)\n",
    "tmp['Count'] = by_name.size()"
   ]
  },
  {
   "cell_type": "code",
   "execution_count": 73,
   "metadata": {
    "collapsed": false
   },
   "outputs": [
    {
     "data": {
      "text/plain": [
       "<matplotlib.axes._subplots.AxesSubplot at 0x11cb50ed0>"
      ]
     },
     "execution_count": 73,
     "metadata": {},
     "output_type": "execute_result"
    },
    {
     "data": {
      "image/png": "[encoded data removed]",
      "text/plain": [
       "<matplotlib.figure.Figure at 0x11cb50810>"
      ]
     },
     "metadata": {},
     "output_type": "display_data"
    }
   ],
   "source": [
    "tmp.Count[tmp.Count > 22].hist()"
   ]
  },
  {
   "cell_type": "code",
   "execution_count": 74,
   "metadata": {
    "collapsed": false
   },
   "outputs": [
    {
     "data": {
      "text/html": [
       "<div>\n",
       "<table border=\"1\" class=\"dataframe\">\n",
       "  <thead>\n",
       "    <tr style=\"text-align: right;\">\n",
       "      <th></th>\n",
       "      <th>TimetoIssue</th>\n",
       "      <th>Count</th>\n",
       "    </tr>\n",
       "    <tr>\n",
       "      <th>FirmName</th>\n",
       "      <th></th>\n",
       "      <th></th>\n",
       "    </tr>\n",
       "  </thead>\n",
       "  <tbody>\n",
       "    <tr>\n",
       "      <th>Barbara Harris Permitting Serv</th>\n",
       "      <td>130.5</td>\n",
       "      <td>29</td>\n",
       "    </tr>\n",
       "    <tr>\n",
       "      <th>Frontis Studio</th>\n",
       "      <td>132.0</td>\n",
       "      <td>42</td>\n",
       "    </tr>\n",
       "    <tr>\n",
       "      <th>T-Mobile West Corporation</th>\n",
       "      <td>171.0</td>\n",
       "      <td>25</td>\n",
       "    </tr>\n",
       "    <tr>\n",
       "      <th>PB Consulting</th>\n",
       "      <td>199.5</td>\n",
       "      <td>35</td>\n",
       "    </tr>\n",
       "    <tr>\n",
       "      <th>Sprint</th>\n",
       "      <td>223.0</td>\n",
       "      <td>76</td>\n",
       "    </tr>\n",
       "    <tr>\n",
       "      <th>owner</th>\n",
       "      <td>229.0</td>\n",
       "      <td>39</td>\n",
       "    </tr>\n",
       "    <tr>\n",
       "      <th>K &amp; S Engineering</th>\n",
       "      <td>229.0</td>\n",
       "      <td>30</td>\n",
       "    </tr>\n",
       "    <tr>\n",
       "      <th>CB Richard Ellis</th>\n",
       "      <td>244.0</td>\n",
       "      <td>37</td>\n",
       "    </tr>\n",
       "    <tr>\n",
       "      <th>Schwerin &amp; Associates</th>\n",
       "      <td>261.0</td>\n",
       "      <td>32</td>\n",
       "    </tr>\n",
       "    <tr>\n",
       "      <th>Westower Communications</th>\n",
       "      <td>261.5</td>\n",
       "      <td>24</td>\n",
       "    </tr>\n",
       "    <tr>\n",
       "      <th>Marengo Morton Architects</th>\n",
       "      <td>262.0</td>\n",
       "      <td>120</td>\n",
       "    </tr>\n",
       "    <tr>\n",
       "      <th>City Employee</th>\n",
       "      <td>266.5</td>\n",
       "      <td>31</td>\n",
       "    </tr>\n",
       "    <tr>\n",
       "      <th>Christensen Engineering &amp; Surv</th>\n",
       "      <td>268.0</td>\n",
       "      <td>26</td>\n",
       "    </tr>\n",
       "    <tr>\n",
       "      <th>DePratti Incorporated</th>\n",
       "      <td>272.5</td>\n",
       "      <td>136</td>\n",
       "    </tr>\n",
       "    <tr>\n",
       "      <th>Pallamary &amp; Associates</th>\n",
       "      <td>274.0</td>\n",
       "      <td>40</td>\n",
       "    </tr>\n",
       "    <tr>\n",
       "      <th>Alta Consultants</th>\n",
       "      <td>276.0</td>\n",
       "      <td>30</td>\n",
       "    </tr>\n",
       "    <tr>\n",
       "      <th>Rollins Const Consulting</th>\n",
       "      <td>280.0</td>\n",
       "      <td>95</td>\n",
       "    </tr>\n",
       "    <tr>\n",
       "      <th>DGB Surveying &amp; Mapping</th>\n",
       "      <td>285.0</td>\n",
       "      <td>67</td>\n",
       "    </tr>\n",
       "    <tr>\n",
       "      <th>Bruce Peeling Architect AIA</th>\n",
       "      <td>286.0</td>\n",
       "      <td>30</td>\n",
       "    </tr>\n",
       "    <tr>\n",
       "      <th>Gary Taylor and Associates</th>\n",
       "      <td>286.5</td>\n",
       "      <td>43</td>\n",
       "    </tr>\n",
       "    <tr>\n",
       "      <th>Golba Architecture Inc</th>\n",
       "      <td>288.0</td>\n",
       "      <td>151</td>\n",
       "    </tr>\n",
       "    <tr>\n",
       "      <th>San Diego Land Surveying &amp; Eng</th>\n",
       "      <td>292.0</td>\n",
       "      <td>325</td>\n",
       "    </tr>\n",
       "    <tr>\n",
       "      <th>Kappa Surveying</th>\n",
       "      <td>293.0</td>\n",
       "      <td>28</td>\n",
       "    </tr>\n",
       "    <tr>\n",
       "      <th>Lintvedt, McColl &amp; Associates</th>\n",
       "      <td>294.5</td>\n",
       "      <td>34</td>\n",
       "    </tr>\n",
       "    <tr>\n",
       "      <th>Permits in Motion</th>\n",
       "      <td>296.0</td>\n",
       "      <td>93</td>\n",
       "    </tr>\n",
       "    <tr>\n",
       "      <th>Verizon Wireless</th>\n",
       "      <td>302.0</td>\n",
       "      <td>143</td>\n",
       "    </tr>\n",
       "    <tr>\n",
       "      <th>Clearwire</th>\n",
       "      <td>307.0</td>\n",
       "      <td>138</td>\n",
       "    </tr>\n",
       "    <tr>\n",
       "      <th>Daniel Linn Architects</th>\n",
       "      <td>308.0</td>\n",
       "      <td>53</td>\n",
       "    </tr>\n",
       "    <tr>\n",
       "      <th>Alcatel-Lucent</th>\n",
       "      <td>308.0</td>\n",
       "      <td>28</td>\n",
       "    </tr>\n",
       "    <tr>\n",
       "      <th>DS, CITY OF SAN DIEGO</th>\n",
       "      <td>310.5</td>\n",
       "      <td>27</td>\n",
       "    </tr>\n",
       "    <tr>\n",
       "      <th>...</th>\n",
       "      <td>...</td>\n",
       "      <td>...</td>\n",
       "    </tr>\n",
       "    <tr>\n",
       "      <th>PlanCom, Inc.</th>\n",
       "      <td>400.0</td>\n",
       "      <td>235</td>\n",
       "    </tr>\n",
       "    <tr>\n",
       "      <th>Kruger Development Co.</th>\n",
       "      <td>411.0</td>\n",
       "      <td>64</td>\n",
       "    </tr>\n",
       "    <tr>\n",
       "      <th>AT&amp;T Mobility - San Diego</th>\n",
       "      <td>412.0</td>\n",
       "      <td>51</td>\n",
       "    </tr>\n",
       "    <tr>\n",
       "      <th>Burkett &amp; Wong Engineers</th>\n",
       "      <td>413.0</td>\n",
       "      <td>27</td>\n",
       "    </tr>\n",
       "    <tr>\n",
       "      <th>City of San Diego</th>\n",
       "      <td>417.5</td>\n",
       "      <td>195</td>\n",
       "    </tr>\n",
       "    <tr>\n",
       "      <th>Hayer Architecture</th>\n",
       "      <td>436.0</td>\n",
       "      <td>40</td>\n",
       "    </tr>\n",
       "    <tr>\n",
       "      <th>Di Donato Associates</th>\n",
       "      <td>436.0</td>\n",
       "      <td>27</td>\n",
       "    </tr>\n",
       "    <tr>\n",
       "      <th>Condoconversions.com</th>\n",
       "      <td>443.5</td>\n",
       "      <td>37</td>\n",
       "    </tr>\n",
       "    <tr>\n",
       "      <th>Island Architects</th>\n",
       "      <td>444.0</td>\n",
       "      <td>71</td>\n",
       "    </tr>\n",
       "    <tr>\n",
       "      <th>Hunsaker &amp; Associates</th>\n",
       "      <td>444.5</td>\n",
       "      <td>40</td>\n",
       "    </tr>\n",
       "    <tr>\n",
       "      <th>Algert Engineering, Inc.</th>\n",
       "      <td>456.0</td>\n",
       "      <td>30</td>\n",
       "    </tr>\n",
       "    <tr>\n",
       "      <th>Project Design Consultants</th>\n",
       "      <td>461.0</td>\n",
       "      <td>232</td>\n",
       "    </tr>\n",
       "    <tr>\n",
       "      <th>Sprint Nextel</th>\n",
       "      <td>483.0</td>\n",
       "      <td>33</td>\n",
       "    </tr>\n",
       "    <tr>\n",
       "      <th>Westone Management Consultants</th>\n",
       "      <td>484.0</td>\n",
       "      <td>52</td>\n",
       "    </tr>\n",
       "    <tr>\n",
       "      <th>KLR Planning</th>\n",
       "      <td>496.0</td>\n",
       "      <td>37</td>\n",
       "    </tr>\n",
       "    <tr>\n",
       "      <th>Atlantis Group</th>\n",
       "      <td>504.0</td>\n",
       "      <td>26</td>\n",
       "    </tr>\n",
       "    <tr>\n",
       "      <th>RBF Consulting</th>\n",
       "      <td>518.5</td>\n",
       "      <td>135</td>\n",
       "    </tr>\n",
       "    <tr>\n",
       "      <th>Latitude 33</th>\n",
       "      <td>560.0</td>\n",
       "      <td>183</td>\n",
       "    </tr>\n",
       "    <tr>\n",
       "      <th>Snipes-Dye Associates</th>\n",
       "      <td>623.0</td>\n",
       "      <td>30</td>\n",
       "    </tr>\n",
       "    <tr>\n",
       "      <th>Nasland Engineering</th>\n",
       "      <td>623.0</td>\n",
       "      <td>59</td>\n",
       "    </tr>\n",
       "    <tr>\n",
       "      <th>Plancom Inc.</th>\n",
       "      <td>632.0</td>\n",
       "      <td>73</td>\n",
       "    </tr>\n",
       "    <tr>\n",
       "      <th>Rick Engineering Company</th>\n",
       "      <td>682.0</td>\n",
       "      <td>180</td>\n",
       "    </tr>\n",
       "    <tr>\n",
       "      <th>Engineering &amp; Capital Projects</th>\n",
       "      <td>715.0</td>\n",
       "      <td>51</td>\n",
       "    </tr>\n",
       "    <tr>\n",
       "      <th>Sterling Land Services, Inc</th>\n",
       "      <td>839.0</td>\n",
       "      <td>27</td>\n",
       "    </tr>\n",
       "    <tr>\n",
       "      <th>Hamann Companies</th>\n",
       "      <td>841.5</td>\n",
       "      <td>24</td>\n",
       "    </tr>\n",
       "    <tr>\n",
       "      <th>Stuart Engineering</th>\n",
       "      <td>904.0</td>\n",
       "      <td>26</td>\n",
       "    </tr>\n",
       "    <tr>\n",
       "      <th>Kimley Horn &amp; Associates</th>\n",
       "      <td>982.0</td>\n",
       "      <td>42</td>\n",
       "    </tr>\n",
       "    <tr>\n",
       "      <th>Crown Castle</th>\n",
       "      <td>1007.0</td>\n",
       "      <td>28</td>\n",
       "    </tr>\n",
       "    <tr>\n",
       "      <th>Black Mountain Ranch LLC</th>\n",
       "      <td>1316.0</td>\n",
       "      <td>23</td>\n",
       "    </tr>\n",
       "    <tr>\n",
       "      <th>American Tower</th>\n",
       "      <td>2320.0</td>\n",
       "      <td>29</td>\n",
       "    </tr>\n",
       "  </tbody>\n",
       "</table>\n",
       "<p>91 rows × 2 columns</p>\n",
       "</div>"
      ],
      "text/plain": [
       "                                TimetoIssue  Count\n",
       "FirmName                                          \n",
       "Barbara Harris Permitting Serv        130.5     29\n",
       "Frontis Studio                        132.0     42\n",
       "T-Mobile West Corporation             171.0     25\n",
       "PB Consulting                         199.5     35\n",
       "Sprint                                223.0     76\n",
       "owner                                 229.0     39\n",
       "K & S Engineering                     229.0     30\n",
       "CB Richard Ellis                      244.0     37\n",
       "Schwerin & Associates                 261.0     32\n",
       "Westower Communications               261.5     24\n",
       "Marengo Morton Architects             262.0    120\n",
       "City Employee                         266.5     31\n",
       "Christensen Engineering & Surv        268.0     26\n",
       "DePratti Incorporated                 272.5    136\n",
       "Pallamary & Associates                274.0     40\n",
       "Alta Consultants                      276.0     30\n",
       "Rollins Const Consulting              280.0     95\n",
       "DGB Surveying & Mapping               285.0     67\n",
       "Bruce Peeling Architect AIA           286.0     30\n",
       "Gary Taylor and Associates            286.5     43\n",
       "Golba Architecture Inc                288.0    151\n",
       "San Diego Land Surveying & Eng        292.0    325\n",
       "Kappa Surveying                       293.0     28\n",
       "Lintvedt, McColl & Associates         294.5     34\n",
       "Permits in Motion                     296.0     93\n",
       "Verizon Wireless                      302.0    143\n",
       "Clearwire                             307.0    138\n",
       "Daniel Linn Architects                308.0     53\n",
       "Alcatel-Lucent                        308.0     28\n",
       "DS, CITY OF SAN DIEGO                 310.5     27\n",
       "...                                     ...    ...\n",
       "PlanCom, Inc.                         400.0    235\n",
       "Kruger Development Co.                411.0     64\n",
       "AT&T Mobility - San Diego             412.0     51\n",
       "Burkett & Wong Engineers              413.0     27\n",
       "City of San Diego                     417.5    195\n",
       "Hayer Architecture                    436.0     40\n",
       "Di Donato Associates                  436.0     27\n",
       "Condoconversions.com                  443.5     37\n",
       "Island Architects                     444.0     71\n",
       "Hunsaker & Associates                 444.5     40\n",
       "Algert Engineering, Inc.              456.0     30\n",
       "Project Design Consultants            461.0    232\n",
       "Sprint Nextel                         483.0     33\n",
       "Westone Management Consultants        484.0     52\n",
       "KLR Planning                          496.0     37\n",
       "Atlantis Group                        504.0     26\n",
       "RBF Consulting                        518.5    135\n",
       "Latitude 33                           560.0    183\n",
       "Snipes-Dye Associates                 623.0     30\n",
       "Nasland Engineering                   623.0     59\n",
       "Plancom Inc.                          632.0     73\n",
       "Rick Engineering Company              682.0    180\n",
       "Engineering & Capital Projects        715.0     51\n",
       "Sterling Land Services, Inc           839.0     27\n",
       "Hamann Companies                      841.5     24\n",
       "Stuart Engineering                    904.0     26\n",
       "Kimley Horn & Associates              982.0     42\n",
       "Crown Castle                         1007.0     28\n",
       "Black Mountain Ranch LLC             1316.0     23\n",
       "American Tower                       2320.0     29\n",
       "\n",
       "[91 rows x 2 columns]"
      ]
     },
     "execution_count": 74,
     "metadata": {},
     "output_type": "execute_result"
    }
   ],
   "source": [
    "tmp[tmp.Count > 22].sort(['TimetoIssue'])"
   ]
  },
  {
   "cell_type": "code",
   "execution_count": 75,
   "metadata": {
    "collapsed": false
   },
   "outputs": [],
   "source": [
    "#tmp[tmp.Count > 22].sort(['TimetoIssue']).to_csv(DIR+'big_customers_firm.csv')"
   ]
  },
  {
   "cell_type": "markdown",
   "metadata": {},
   "source": [
    "#### Bateman / Torres"
   ]
  },
  {
   "cell_type": "code",
   "execution_count": 76,
   "metadata": {
    "collapsed": false
   },
   "outputs": [],
   "source": [
    "bateman = customers[customers.Name == 'Robert J. Bateman']\n",
    "torres = customers[customers.Name == 'Sean Torres']"
   ]
  },
  {
   "cell_type": "code",
   "execution_count": 77,
   "metadata": {
    "collapsed": false
   },
   "outputs": [],
   "source": [
    "### these are the counts only for the discretionary part of each project..."
   ]
  },
  {
   "cell_type": "code",
   "execution_count": 78,
   "metadata": {
    "collapsed": false
   },
   "outputs": [
    {
     "data": {
      "text/plain": [
       "1    230\n",
       "2     93\n",
       "3      2\n",
       "dtype: int64"
      ]
     },
     "execution_count": 78,
     "metadata": {},
     "output_type": "execute_result"
    }
   ],
   "source": [
    "bateman.Count.value_counts()"
   ]
  },
  {
   "cell_type": "code",
   "execution_count": 79,
   "metadata": {
    "collapsed": false
   },
   "outputs": [
    {
     "data": {
      "text/plain": [
       "1    49\n",
       "2    19\n",
       "3     6\n",
       "4     3\n",
       "5     2\n",
       "dtype: int64"
      ]
     },
     "execution_count": 79,
     "metadata": {},
     "output_type": "execute_result"
    }
   ],
   "source": [
    "torres.Count.value_counts()"
   ]
  },
  {
   "cell_type": "code",
   "execution_count": 80,
   "metadata": {
    "collapsed": false
   },
   "outputs": [
    {
     "data": {
      "text/plain": [
       "Index([u'APN', u'ApplicationDate', u'ApplicationExpiration',\n",
       "       u'ApplicationExpired', u'ApplicationMonth', u'ApplicationYear',\n",
       "       u'ApprovalId', u'Description', u'DevelopmentId', u'DevelopmentTitle',\n",
       "       u'IssueDate', u'IssueMonth', u'IssueYear', u'IssuedBy', u'JobId',\n",
       "       u'Latitude', u'Longitude', u'PermitHolder', u'ProjectId',\n",
       "       u'ProjectManager', u'ProjectManagerId', u'ProjectScope', u'Scope',\n",
       "       u'Status', u'StreetAddress', u'TimetoIssue', u'Title', u'Type',\n",
       "       u'category'],\n",
       "      dtype='object')"
      ]
     },
     "execution_count": 80,
     "metadata": {},
     "output_type": "execute_result"
    }
   ],
   "source": [
    "discretionary.columns"
   ]
  },
  {
   "cell_type": "code",
   "execution_count": null,
   "metadata": {
    "collapsed": false
   },
   "outputs": [],
   "source": []
  },
  {
   "cell_type": "markdown",
   "metadata": {},
   "source": [
    "### Terry Montello"
   ]
  },
  {
   "cell_type": "code",
   "execution_count": 81,
   "metadata": {
    "collapsed": false
   },
   "outputs": [],
   "source": [
    "montello = customers[customers.Name == 'Terry Montello']"
   ]
  },
  {
   "cell_type": "code",
   "execution_count": 82,
   "metadata": {
    "collapsed": false
   },
   "outputs": [
    {
     "data": {
      "text/plain": [
       "Index([u'Unnamed: 0', u'CustomerId', u'FirmName', u'Name', u'ProjectId',\n",
       "       u'Role', u'TimetoIssue', u'Count'],\n",
       "      dtype='object')"
      ]
     },
     "execution_count": 82,
     "metadata": {},
     "output_type": "execute_result"
    }
   ],
   "source": [
    "montello.columns"
   ]
  },
  {
   "cell_type": "code",
   "execution_count": 83,
   "metadata": {
    "collapsed": false
   },
   "outputs": [
    {
     "data": {
      "text/plain": [
       "47744     35\n",
       "285651     1\n",
       "dtype: int64"
      ]
     },
     "execution_count": 83,
     "metadata": {},
     "output_type": "execute_result"
    }
   ],
   "source": [
    "montello.CustomerId.value_counts()"
   ]
  }
 ],
 "metadata": {
  "kernelspec": {
   "display_name": "Python 2",
   "language": "python",
   "name": "python2"
  },
  "language_info": {
   "codemirror_mode": {
    "name": "ipython",
    "version": 2
   },
   "file_extension": ".py",
   "mimetype": "text/x-python",
   "name": "python",
   "nbconvert_exporter": "python",
   "pygments_lexer": "ipython2",
   "version": "2.7.10"
  }
 },
 "nbformat": 4,
 "nbformat_minor": 0
}
