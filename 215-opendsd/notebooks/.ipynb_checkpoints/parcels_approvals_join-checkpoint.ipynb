{
 "cells": [
  {
   "cell_type": "markdown",
   "metadata": {},
   "source": [
    "# Joining DSD approvals data with SD county assessor parcel data"
   ]
  },
  {
   "cell_type": "markdown",
   "metadata": {},
   "source": [
    "### Damon Crockett for Civic Knowledge, Inc."
   ]
  },
  {
   "cell_type": "markdown",
   "metadata": {},
   "source": [
    "#### damon@civicknowledge.com"
   ]
  },
  {
   "cell_type": "code",
   "execution_count": 2,
   "metadata": {
    "collapsed": false
   },
   "outputs": [],
   "source": [
    "import pandas as pd\n",
    "from pandas.io import sql\n",
    "from sqlalchemy import create_engine\n",
    "%matplotlib inline"
   ]
  },
  {
   "cell_type": "code",
   "execution_count": 3,
   "metadata": {
    "collapsed": true
   },
   "outputs": [],
   "source": [
    "engine = create_engine('sqlite:////Users/damoncrockett/Dropbox/thinkpad_desktop_2/assessor-db/parcels.geodb')"
   ]
  },
  {
   "cell_type": "code",
   "execution_count": 4,
   "metadata": {
    "collapsed": false
   },
   "outputs": [],
   "source": [
    "dd = sql.read_sql(\"SELECT * FROM parcels\", engine)"
   ]
  },
  {
   "cell_type": "code",
   "execution_count": 5,
   "metadata": {
    "collapsed": false
   },
   "outputs": [
    {
     "name": "stdout",
     "output_type": "stream",
     "text": [
      "<class 'pandas.core.frame.DataFrame'>\n",
      "Int64Index: 1038477 entries, 0 to 1038476\n",
      "Data columns (total 57 columns):\n",
      "OGC_FID       1038477 non-null int64\n",
      "GEOMETRY      1038477 non-null object\n",
      "apn           1037451 non-null object\n",
      "apn_8         1037451 non-null object\n",
      "parcelid      1038477 non-null int64\n",
      "own_name1     1037263 non-null object\n",
      "own_name2     81387 non-null object\n",
      "own_name3     8159 non-null object\n",
      "fractint      1038477 non-null float64\n",
      "own_addr1     1037262 non-null object\n",
      "own_addr2     1019389 non-null object\n",
      "own_addr3     72792 non-null object\n",
      "own_addr4     1045 non-null object\n",
      "own_zip       1037236 non-null object\n",
      "situs_juri    1037263 non-null object\n",
      "situs_stre    1013235 non-null object\n",
      "situs_suff    889160 non-null object\n",
      "situs_post    5597 non-null object\n",
      "situs_pre_    59753 non-null object\n",
      "situs_addr    1038477 non-null int64\n",
      "situs_frac    782 non-null object\n",
      "situs_buil    0 non-null object\n",
      "situs_suit    179484 non-null object\n",
      "situs_comm    0 non-null object\n",
      "legldesc      1037139 non-null object\n",
      "asr_land      1038477 non-null int64\n",
      "asr_impr      1038477 non-null int64\n",
      "asr_total     1038477 non-null int64\n",
      "doctype       1031120 non-null object\n",
      "docnmbr       1037263 non-null object\n",
      "docdate       1037263 non-null object\n",
      "acreage       1038477 non-null float64\n",
      "taxstat       1037263 non-null object\n",
      "ownerocc      505988 non-null object\n",
      "tranum        1037263 non-null object\n",
      "asr_zone      1038477 non-null int64\n",
      "nucleus_zo    1037263 non-null object\n",
      "asr_landus    1038477 non-null int64\n",
      "nucleus_us    1037263 non-null object\n",
      "situs_zip     988927 non-null object\n",
      "submap        989090 non-null object\n",
      "subname       950787 non-null object\n",
      "unitqty       1038477 non-null int64\n",
      "x_coord       1038477 non-null float64\n",
      "y_coord       1038477 non-null float64\n",
      "multi         1018489 non-null object\n",
      "overlay_ju    1038477 non-null object\n",
      "sub_type      1038477 non-null int64\n",
      "addrno        1038477 non-null int64\n",
      "addrfrac      905 non-null object\n",
      "addrunit      65110 non-null object\n",
      "roadpdir      26261 non-null object\n",
      "roadname      633494 non-null object\n",
      "roadsfx       565021 non-null object\n",
      "zip           621808 non-null object\n",
      "shape_area    1038477 non-null float64\n",
      "shape_len     1038477 non-null float64\n",
      "dtypes: float64(6), int64(11), object(40)\n",
      "memory usage: 459.5+ MB\n"
     ]
    }
   ],
   "source": [
    "dd.info()"
   ]
  },
  {
   "cell_type": "code",
   "execution_count": 6,
   "metadata": {
    "collapsed": false
   },
   "outputs": [
    {
     "data": {
      "text/plain": [
       "<matplotlib.axes.AxesSubplot at 0x1802d6e90>"
      ]
     },
     "execution_count": 6,
     "metadata": {},
     "output_type": "execute_result"
    },
    {
     "data": {
      "image/png": "[encoded data removed]",
      "text/plain": [
       "<matplotlib.figure.Figure at 0x10ceb6fd0>"
      ]
     },
     "metadata": {},
     "output_type": "display_data"
    }
   ],
   "source": [
    "dd.overlay_ju.value_counts()[:10].plot(kind='barh',rot=0)"
   ]
  },
  {
   "cell_type": "code",
   "execution_count": 7,
   "metadata": {
    "collapsed": false
   },
   "outputs": [
    {
     "data": {
      "text/plain": [
       "2496"
      ]
     },
     "execution_count": 7,
     "metadata": {},
     "output_type": "execute_result"
    }
   ],
   "source": [
    "len(dd.overlay_ju[dd.overlay_ju != dd.situs_juri])"
   ]
  },
  {
   "cell_type": "code",
   "execution_count": 8,
   "metadata": {
    "collapsed": false
   },
   "outputs": [
    {
     "data": {
      "text/plain": [
       "0.16338541922449895"
      ]
     },
     "execution_count": 8,
     "metadata": {},
     "output_type": "execute_result"
    }
   ],
   "source": [
    "len(dd.nucleus_zo[dd.nucleus_zo != '10']) / float(len(dd.index))"
   ]
  },
  {
   "cell_type": "code",
   "execution_count": 9,
   "metadata": {
    "collapsed": false
   },
   "outputs": [
    {
     "data": {
      "text/plain": [
       "<matplotlib.axes.AxesSubplot at 0x18548f0d0>"
      ]
     },
     "execution_count": 9,
     "metadata": {},
     "output_type": "execute_result"
    },
    {
     "data": {
      "image/png": "[encoded data removed]",
      "text/plain": [
       "<matplotlib.figure.Figure at 0x1854a0150>"
      ]
     },
     "metadata": {},
     "output_type": "display_data"
    }
   ],
   "source": [
    "dd.nucleus_us.value_counts()[:10].plot(kind='barh',rot=0)"
   ]
  },
  {
   "cell_type": "code",
   "execution_count": 10,
   "metadata": {
    "collapsed": false
   },
   "outputs": [
    {
     "data": {
      "text/plain": [
       "479728"
      ]
     },
     "execution_count": 10,
     "metadata": {},
     "output_type": "execute_result"
    }
   ],
   "source": [
    "len(dd.legldesc.value_counts())"
   ]
  },
  {
   "cell_type": "code",
   "execution_count": 11,
   "metadata": {
    "collapsed": false
   },
   "outputs": [
    {
     "data": {
      "text/plain": [
       "<matplotlib.axes.AxesSubplot at 0x1854afc50>"
      ]
     },
     "execution_count": 11,
     "metadata": {},
     "output_type": "execute_result"
    },
    {
     "data": {
      "image/png": "[encoded data removed]",
      "text/plain": [
       "<matplotlib.figure.Figure at 0x1854b5550>"
      ]
     },
     "metadata": {},
     "output_type": "display_data"
    }
   ],
   "source": [
    "dd.acreage[(dd.acreage>1)&(dd.acreage<20)].hist(bins=20)"
   ]
  },
  {
   "cell_type": "code",
   "execution_count": 12,
   "metadata": {
    "collapsed": false
   },
   "outputs": [
    {
     "data": {
      "text/plain": [
       "<matplotlib.axes.AxesSubplot at 0x18055a950>"
      ]
     },
     "execution_count": 12,
     "metadata": {},
     "output_type": "execute_result"
    },
    {
     "data": {
      "image/png": "[encoded data removed]",
      "text/plain": [
       "<matplotlib.figure.Figure at 0x18055f5d0>"
      ]
     },
     "metadata": {},
     "output_type": "display_data"
    }
   ],
   "source": [
    "dd.shape_area[dd.shape_area<200].hist(bins=50)"
   ]
  },
  {
   "cell_type": "code",
   "execution_count": 13,
   "metadata": {
    "collapsed": true
   },
   "outputs": [],
   "source": [
    "dd = dd[['apn',\n",
    "         'situs_juri',\n",
    "         'asr_land',\n",
    "         'asr_impr',\n",
    "         'asr_total',\n",
    "         'shape_area',\n",
    "         'own_name1',\n",
    "         'own_name2',\n",
    "         'own_name3',\n",
    "         'ownerocc',\n",
    "         'taxstat',\n",
    "         'tranum',\n",
    "         'nucleus_zo',\n",
    "         'asr_landus',\n",
    "         'nucleus_us',\n",
    "         'unitqty',\n",
    "         'multi']]"
   ]
  },
  {
   "cell_type": "code",
   "execution_count": 14,
   "metadata": {
    "collapsed": false
   },
   "outputs": [],
   "source": [
    "dd = dd[dd.apn.notnull()]"
   ]
  },
  {
   "cell_type": "code",
   "execution_count": 15,
   "metadata": {
    "collapsed": true
   },
   "outputs": [],
   "source": [
    "dd.apn = dd.apn.apply(int)"
   ]
  },
  {
   "cell_type": "code",
   "execution_count": 16,
   "metadata": {
    "collapsed": true
   },
   "outputs": [],
   "source": [
    "p = pd.read_csv('/Users/damoncrockett/vosd.org/215-opendsd/tables/parcel_communities.csv')"
   ]
  },
  {
   "cell_type": "code",
   "execution_count": 17,
   "metadata": {
    "collapsed": false
   },
   "outputs": [],
   "source": [
    "p = p[['apn','lat','lon','community_name']]"
   ]
  },
  {
   "cell_type": "code",
   "execution_count": 18,
   "metadata": {
    "collapsed": true
   },
   "outputs": [],
   "source": [
    "p.set_index('apn',inplace=True)"
   ]
  },
  {
   "cell_type": "code",
   "execution_count": 19,
   "metadata": {
    "collapsed": true
   },
   "outputs": [],
   "source": [
    "dd = dd.join(p,on='apn')"
   ]
  },
  {
   "cell_type": "code",
   "execution_count": 20,
   "metadata": {
    "collapsed": false
   },
   "outputs": [
    {
     "data": {
      "text/plain": [
       "Clairemont Mesa                        26196\n",
       "Mira Mesa                              22796\n",
       "Navajo                                 19285\n",
       "Skyline-Paradise Hills                 16375\n",
       "Downtown                               15947\n",
       "Rancho Bernardo                        15717\n",
       "University                             15548\n",
       "La Jolla                               15107\n",
       "Otay Mesa-Nestor                       14054\n",
       "Rancho Penasquitos                     13529\n",
       "Peninsula                              13230\n",
       "Uptown                                 13165\n",
       "Pacific Beach                          12922\n",
       "Carmel Valley                          12838\n",
       "Greater North Park                     12674\n",
       "Mid-City:City Heights                  11112\n",
       "Encanto Neighborhoods,Southeastern     10756\n",
       "Mid-City:Eastern Area                  10495\n",
       "Southeastern San Diego,Southeastern     9712\n",
       "Linda Vista                             7394\n",
       "Scripps Miramar Ranch                   7281\n",
       "Mission Valley                          6872\n",
       "Tierrasanta                             6765\n",
       "Serra Mesa                              5913\n",
       "College Area                            5076\n",
       "Otay Mesa                               4772\n",
       "Miramar Ranch North                     4731\n",
       "Mid-City:Kensington-Talmadge            4158\n",
       "Mid-City:Normal Heights                 4070\n",
       "Carmel Mountain Ranch                   4035\n",
       "San Ysidro                              3828\n",
       "Greater Golden Hill                     3544\n",
       "Black Mountain Ranch                    3447\n",
       "Sabre Springs                           3424\n",
       "Ocean Beach                             3280\n",
       "Torrey Pines                            3250\n",
       "Kearny Mesa                             2930\n",
       "Mission Beach                           2326\n",
       "Torrey Highlands                        2253\n",
       "Pacific Highlands Ranch                 2044\n",
       "Torrey Hills                            1471\n",
       "Rancho Encantada                        1043\n",
       "Midway-Pacific Highway                   921\n",
       "Barrio Logan                             867\n",
       "Del Mar Mesa                             775\n",
       "Mission Bay Park                         475\n",
       "Old Town San Diego                       408\n",
       "Fairbanks Ranch Country Club             357\n",
       "Via De La Valle                          261\n",
       "Tijuana River Valley                     161\n",
       "East Elliott                             146\n",
       "Military Facilities                      133\n",
       "San Pasqual                              129\n",
       "Ncfua Subarea Ii                         114\n",
       "Balboa Park                               85\n",
       "Reserve                                   32\n",
       "Los Penasquitos Canyon                    17\n",
       "dtype: int64"
      ]
     },
     "execution_count": 20,
     "metadata": {},
     "output_type": "execute_result"
    }
   ],
   "source": [
    "dd.community_name.value_counts()"
   ]
  },
  {
   "cell_type": "code",
   "execution_count": 21,
   "metadata": {
    "collapsed": false
   },
   "outputs": [
    {
     "data": {
      "text/plain": [
       "380246"
      ]
     },
     "execution_count": 21,
     "metadata": {},
     "output_type": "execute_result"
    }
   ],
   "source": [
    "len(dd.index[dd.community_name.notnull()])"
   ]
  },
  {
   "cell_type": "code",
   "execution_count": 22,
   "metadata": {
    "collapsed": false
   },
   "outputs": [
    {
     "data": {
      "text/plain": [
       "657205"
      ]
     },
     "execution_count": 22,
     "metadata": {},
     "output_type": "execute_result"
    }
   ],
   "source": [
    "len(dd.index[dd.community_name.isnull()])"
   ]
  },
  {
   "cell_type": "code",
   "execution_count": 23,
   "metadata": {
    "collapsed": false
   },
   "outputs": [
    {
     "data": {
      "text/plain": [
       "CN    218289\n",
       "CB     75160\n",
       "CV     65854\n",
       "OC     60919\n",
       "ES     37230\n",
       "SM     25547\n",
       "VS     23651\n",
       "EN     23034\n",
       "EC     22546\n",
       "ST     18786\n",
       "LM     17162\n",
       "PW     16133\n",
       "SO     13092\n",
       "CO     11016\n",
       "NC     10293\n",
       "LG      7165\n",
       "IB      5944\n",
       "DM      4669\n",
       "SD       527\n",
       "dtype: int64"
      ]
     },
     "execution_count": 23,
     "metadata": {},
     "output_type": "execute_result"
    }
   ],
   "source": [
    "dd.situs_juri[dd.community_name.isnull()].value_counts()"
   ]
  },
  {
   "cell_type": "code",
   "execution_count": 24,
   "metadata": {
    "collapsed": true
   },
   "outputs": [],
   "source": [
    "dd = dd[dd.community_name.notnull()]"
   ]
  },
  {
   "cell_type": "code",
   "execution_count": 25,
   "metadata": {
    "collapsed": true
   },
   "outputs": [],
   "source": [
    "dd.to_csv('/Users/damoncrockett/vosd.org/215-opendsd/tables/parcels_in_CPA_SD.csv')"
   ]
  },
  {
   "cell_type": "code",
   "execution_count": 26,
   "metadata": {
    "collapsed": false
   },
   "outputs": [
    {
     "name": "stdout",
     "output_type": "stream",
     "text": [
      "<class 'pandas.core.frame.DataFrame'>\n",
      "Int64Index: 380246 entries, 47 to 1038454\n",
      "Data columns (total 20 columns):\n",
      "apn               380246 non-null int64\n",
      "situs_juri        380246 non-null object\n",
      "asr_land          380246 non-null int64\n",
      "asr_impr          380246 non-null int64\n",
      "asr_total         380246 non-null int64\n",
      "shape_area        380246 non-null float64\n",
      "own_name1         380246 non-null object\n",
      "own_name2         30998 non-null object\n",
      "own_name3         2797 non-null object\n",
      "ownerocc          206942 non-null object\n",
      "taxstat           380246 non-null object\n",
      "tranum            380246 non-null object\n",
      "nucleus_zo        380246 non-null object\n",
      "asr_landus        380246 non-null int64\n",
      "nucleus_us        380246 non-null object\n",
      "unitqty           380246 non-null int64\n",
      "multi             375895 non-null object\n",
      "lat               380246 non-null float64\n",
      "lon               380246 non-null float64\n",
      "community_name    380246 non-null object\n",
      "dtypes: float64(3), int64(6), object(11)\n",
      "memory usage: 60.9+ MB\n"
     ]
    }
   ],
   "source": [
    "dd.info()"
   ]
  },
  {
   "cell_type": "code",
   "execution_count": 27,
   "metadata": {
    "collapsed": true
   },
   "outputs": [],
   "source": [
    "by_cn = dd[['asr_land','asr_impr','asr_total','lat','lon','community_name']]"
   ]
  },
  {
   "cell_type": "code",
   "execution_count": 28,
   "metadata": {
    "collapsed": false
   },
   "outputs": [],
   "source": [
    "import numpy as np\n",
    "tmp = by_cn.groupby('community_name')\n",
    "by_cn = tmp.agg(np.median)\n",
    "by_cn['parcels'] = tmp.size()"
   ]
  },
  {
   "cell_type": "code",
   "execution_count": 29,
   "metadata": {
    "collapsed": false
   },
   "outputs": [
    {
     "data": {
      "text/html": [
       "<div style=\"max-height:1000px;max-width:1500px;overflow:auto;\">\n",
       "<table border=\"1\" class=\"dataframe\">\n",
       "  <thead>\n",
       "    <tr style=\"text-align: right;\">\n",
       "      <th></th>\n",
       "      <th>asr_land</th>\n",
       "      <th>asr_impr</th>\n",
       "      <th>asr_total</th>\n",
       "      <th>lat</th>\n",
       "      <th>lon</th>\n",
       "      <th>parcels</th>\n",
       "    </tr>\n",
       "    <tr>\n",
       "      <th>community_name</th>\n",
       "      <th></th>\n",
       "      <th></th>\n",
       "      <th></th>\n",
       "      <th></th>\n",
       "      <th></th>\n",
       "      <th></th>\n",
       "    </tr>\n",
       "  </thead>\n",
       "  <tbody>\n",
       "    <tr>\n",
       "      <th>La Jolla</th>\n",
       "      <td>396780.0</td>\n",
       "      <td>199048.0</td>\n",
       "      <td>646860.0</td>\n",
       "      <td>32.835837</td>\n",
       "      <td>-117.262630</td>\n",
       "      <td>15107</td>\n",
       "    </tr>\n",
       "    <tr>\n",
       "      <th>Carmel Valley</th>\n",
       "      <td>259012.5</td>\n",
       "      <td>232240.0</td>\n",
       "      <td>492951.0</td>\n",
       "      <td>32.947268</td>\n",
       "      <td>-117.226553</td>\n",
       "      <td>12838</td>\n",
       "    </tr>\n",
       "    <tr>\n",
       "      <th>Peninsula</th>\n",
       "      <td>183000.0</td>\n",
       "      <td>110814.0</td>\n",
       "      <td>327638.5</td>\n",
       "      <td>32.735190</td>\n",
       "      <td>-117.232843</td>\n",
       "      <td>13230</td>\n",
       "    </tr>\n",
       "    <tr>\n",
       "      <th>Pacific Beach</th>\n",
       "      <td>196225.0</td>\n",
       "      <td>102000.0</td>\n",
       "      <td>320759.5</td>\n",
       "      <td>32.800926</td>\n",
       "      <td>-117.241807</td>\n",
       "      <td>12922</td>\n",
       "    </tr>\n",
       "    <tr>\n",
       "      <th>Uptown</th>\n",
       "      <td>160924.0</td>\n",
       "      <td>136143.0</td>\n",
       "      <td>320216.0</td>\n",
       "      <td>32.746459</td>\n",
       "      <td>-117.164188</td>\n",
       "      <td>13165</td>\n",
       "    </tr>\n",
       "    <tr>\n",
       "      <th>Rancho Penasquitos</th>\n",
       "      <td>110410.0</td>\n",
       "      <td>195884.0</td>\n",
       "      <td>315759.0</td>\n",
       "      <td>32.960517</td>\n",
       "      <td>-117.126967</td>\n",
       "      <td>13529</td>\n",
       "    </tr>\n",
       "    <tr>\n",
       "      <th>Downtown</th>\n",
       "      <td>88000.0</td>\n",
       "      <td>193000.0</td>\n",
       "      <td>300000.0</td>\n",
       "      <td>32.714837</td>\n",
       "      <td>-117.159859</td>\n",
       "      <td>15947</td>\n",
       "    </tr>\n",
       "    <tr>\n",
       "      <th>Rancho Bernardo</th>\n",
       "      <td>129446.0</td>\n",
       "      <td>148890.0</td>\n",
       "      <td>288537.0</td>\n",
       "      <td>33.026062</td>\n",
       "      <td>-117.070698</td>\n",
       "      <td>15717</td>\n",
       "    </tr>\n",
       "    <tr>\n",
       "      <th>University</th>\n",
       "      <td>146743.0</td>\n",
       "      <td>111111.0</td>\n",
       "      <td>266945.5</td>\n",
       "      <td>32.860899</td>\n",
       "      <td>-117.219277</td>\n",
       "      <td>15548</td>\n",
       "    </tr>\n",
       "    <tr>\n",
       "      <th>Mira Mesa</th>\n",
       "      <td>104573.0</td>\n",
       "      <td>117884.0</td>\n",
       "      <td>245725.5</td>\n",
       "      <td>32.916294</td>\n",
       "      <td>-117.142366</td>\n",
       "      <td>22796</td>\n",
       "    </tr>\n",
       "    <tr>\n",
       "      <th>Greater North Park</th>\n",
       "      <td>122381.0</td>\n",
       "      <td>94339.0</td>\n",
       "      <td>227546.0</td>\n",
       "      <td>32.747511</td>\n",
       "      <td>-117.132264</td>\n",
       "      <td>12674</td>\n",
       "    </tr>\n",
       "    <tr>\n",
       "      <th>Clairemont Mesa</th>\n",
       "      <td>107918.0</td>\n",
       "      <td>88603.0</td>\n",
       "      <td>220000.0</td>\n",
       "      <td>32.816746</td>\n",
       "      <td>-117.193058</td>\n",
       "      <td>26196</td>\n",
       "    </tr>\n",
       "    <tr>\n",
       "      <th>Navajo</th>\n",
       "      <td>79707.0</td>\n",
       "      <td>110490.0</td>\n",
       "      <td>217163.0</td>\n",
       "      <td>32.799186</td>\n",
       "      <td>-117.054650</td>\n",
       "      <td>19285</td>\n",
       "    </tr>\n",
       "    <tr>\n",
       "      <th>Skyline-Paradise Hills</th>\n",
       "      <td>66505.0</td>\n",
       "      <td>109381.0</td>\n",
       "      <td>180757.0</td>\n",
       "      <td>32.690995</td>\n",
       "      <td>-117.041837</td>\n",
       "      <td>16375</td>\n",
       "    </tr>\n",
       "    <tr>\n",
       "      <th>Mid-City:Eastern Area</th>\n",
       "      <td>67009.0</td>\n",
       "      <td>86433.0</td>\n",
       "      <td>162000.0</td>\n",
       "      <td>32.745165</td>\n",
       "      <td>-117.069609</td>\n",
       "      <td>10495</td>\n",
       "    </tr>\n",
       "    <tr>\n",
       "      <th>Mid-City:City Heights</th>\n",
       "      <td>80000.0</td>\n",
       "      <td>73375.5</td>\n",
       "      <td>159322.5</td>\n",
       "      <td>32.745415</td>\n",
       "      <td>-117.101394</td>\n",
       "      <td>11112</td>\n",
       "    </tr>\n",
       "    <tr>\n",
       "      <th>Encanto Neighborhoods,Southeastern</th>\n",
       "      <td>56290.5</td>\n",
       "      <td>88000.0</td>\n",
       "      <td>152947.0</td>\n",
       "      <td>32.707977</td>\n",
       "      <td>-117.071614</td>\n",
       "      <td>10756</td>\n",
       "    </tr>\n",
       "    <tr>\n",
       "      <th>Otay Mesa-Nestor</th>\n",
       "      <td>47504.5</td>\n",
       "      <td>93251.0</td>\n",
       "      <td>146695.0</td>\n",
       "      <td>32.576986</td>\n",
       "      <td>-117.071473</td>\n",
       "      <td>14054</td>\n",
       "    </tr>\n",
       "    <tr>\n",
       "      <th>Southeastern San Diego,Southeastern</th>\n",
       "      <td>58203.0</td>\n",
       "      <td>60000.0</td>\n",
       "      <td>125806.5</td>\n",
       "      <td>32.701912</td>\n",
       "      <td>-117.117093</td>\n",
       "      <td>9712</td>\n",
       "    </tr>\n",
       "  </tbody>\n",
       "</table>\n",
       "</div>"
      ],
      "text/plain": [
       "                                     asr_land  asr_impr  asr_total        lat  \\\n",
       "community_name                                                                  \n",
       "La Jolla                             396780.0  199048.0   646860.0  32.835837   \n",
       "Carmel Valley                        259012.5  232240.0   492951.0  32.947268   \n",
       "Peninsula                            183000.0  110814.0   327638.5  32.735190   \n",
       "Pacific Beach                        196225.0  102000.0   320759.5  32.800926   \n",
       "Uptown                               160924.0  136143.0   320216.0  32.746459   \n",
       "Rancho Penasquitos                   110410.0  195884.0   315759.0  32.960517   \n",
       "Downtown                              88000.0  193000.0   300000.0  32.714837   \n",
       "Rancho Bernardo                      129446.0  148890.0   288537.0  33.026062   \n",
       "University                           146743.0  111111.0   266945.5  32.860899   \n",
       "Mira Mesa                            104573.0  117884.0   245725.5  32.916294   \n",
       "Greater North Park                   122381.0   94339.0   227546.0  32.747511   \n",
       "Clairemont Mesa                      107918.0   88603.0   220000.0  32.816746   \n",
       "Navajo                                79707.0  110490.0   217163.0  32.799186   \n",
       "Skyline-Paradise Hills                66505.0  109381.0   180757.0  32.690995   \n",
       "Mid-City:Eastern Area                 67009.0   86433.0   162000.0  32.745165   \n",
       "Mid-City:City Heights                 80000.0   73375.5   159322.5  32.745415   \n",
       "Encanto Neighborhoods,Southeastern    56290.5   88000.0   152947.0  32.707977   \n",
       "Otay Mesa-Nestor                      47504.5   93251.0   146695.0  32.576986   \n",
       "Southeastern San Diego,Southeastern   58203.0   60000.0   125806.5  32.701912   \n",
       "\n",
       "                                            lon  parcels  \n",
       "community_name                                            \n",
       "La Jolla                            -117.262630    15107  \n",
       "Carmel Valley                       -117.226553    12838  \n",
       "Peninsula                           -117.232843    13230  \n",
       "Pacific Beach                       -117.241807    12922  \n",
       "Uptown                              -117.164188    13165  \n",
       "Rancho Penasquitos                  -117.126967    13529  \n",
       "Downtown                            -117.159859    15947  \n",
       "Rancho Bernardo                     -117.070698    15717  \n",
       "University                          -117.219277    15548  \n",
       "Mira Mesa                           -117.142366    22796  \n",
       "Greater North Park                  -117.132264    12674  \n",
       "Clairemont Mesa                     -117.193058    26196  \n",
       "Navajo                              -117.054650    19285  \n",
       "Skyline-Paradise Hills              -117.041837    16375  \n",
       "Mid-City:Eastern Area               -117.069609    10495  \n",
       "Mid-City:City Heights               -117.101394    11112  \n",
       "Encanto Neighborhoods,Southeastern  -117.071614    10756  \n",
       "Otay Mesa-Nestor                    -117.071473    14054  \n",
       "Southeastern San Diego,Southeastern -117.117093     9712  "
      ]
     },
     "execution_count": 29,
     "metadata": {},
     "output_type": "execute_result"
    }
   ],
   "source": [
    "by_cn[by_cn.parcels > 9000].sort('asr_total',ascending=False)"
   ]
  },
  {
   "cell_type": "code",
   "execution_count": 30,
   "metadata": {
    "collapsed": false
   },
   "outputs": [
    {
     "data": {
      "text/html": [
       "<div style=\"max-height:1000px;max-width:1500px;overflow:auto;\">\n",
       "<table border=\"1\" class=\"dataframe\">\n",
       "  <thead>\n",
       "    <tr style=\"text-align: right;\">\n",
       "      <th></th>\n",
       "      <th>asr_land</th>\n",
       "      <th>asr_impr</th>\n",
       "      <th>asr_total</th>\n",
       "      <th>lat</th>\n",
       "      <th>lon</th>\n",
       "      <th>parcels</th>\n",
       "    </tr>\n",
       "    <tr>\n",
       "      <th>community_name</th>\n",
       "      <th></th>\n",
       "      <th></th>\n",
       "      <th></th>\n",
       "      <th></th>\n",
       "      <th></th>\n",
       "      <th></th>\n",
       "    </tr>\n",
       "  </thead>\n",
       "  <tbody>\n",
       "    <tr>\n",
       "      <th>La Jolla</th>\n",
       "      <td>396780.0</td>\n",
       "      <td>199048.0</td>\n",
       "      <td>646860.0</td>\n",
       "      <td>32.835837</td>\n",
       "      <td>-117.262630</td>\n",
       "      <td>15107</td>\n",
       "    </tr>\n",
       "    <tr>\n",
       "      <th>Carmel Valley</th>\n",
       "      <td>259012.5</td>\n",
       "      <td>232240.0</td>\n",
       "      <td>492951.0</td>\n",
       "      <td>32.947268</td>\n",
       "      <td>-117.226553</td>\n",
       "      <td>12838</td>\n",
       "    </tr>\n",
       "    <tr>\n",
       "      <th>Pacific Beach</th>\n",
       "      <td>196225.0</td>\n",
       "      <td>102000.0</td>\n",
       "      <td>320759.5</td>\n",
       "      <td>32.800926</td>\n",
       "      <td>-117.241807</td>\n",
       "      <td>12922</td>\n",
       "    </tr>\n",
       "    <tr>\n",
       "      <th>Peninsula</th>\n",
       "      <td>183000.0</td>\n",
       "      <td>110814.0</td>\n",
       "      <td>327638.5</td>\n",
       "      <td>32.735190</td>\n",
       "      <td>-117.232843</td>\n",
       "      <td>13230</td>\n",
       "    </tr>\n",
       "    <tr>\n",
       "      <th>Uptown</th>\n",
       "      <td>160924.0</td>\n",
       "      <td>136143.0</td>\n",
       "      <td>320216.0</td>\n",
       "      <td>32.746459</td>\n",
       "      <td>-117.164188</td>\n",
       "      <td>13165</td>\n",
       "    </tr>\n",
       "    <tr>\n",
       "      <th>University</th>\n",
       "      <td>146743.0</td>\n",
       "      <td>111111.0</td>\n",
       "      <td>266945.5</td>\n",
       "      <td>32.860899</td>\n",
       "      <td>-117.219277</td>\n",
       "      <td>15548</td>\n",
       "    </tr>\n",
       "    <tr>\n",
       "      <th>Rancho Bernardo</th>\n",
       "      <td>129446.0</td>\n",
       "      <td>148890.0</td>\n",
       "      <td>288537.0</td>\n",
       "      <td>33.026062</td>\n",
       "      <td>-117.070698</td>\n",
       "      <td>15717</td>\n",
       "    </tr>\n",
       "    <tr>\n",
       "      <th>Greater North Park</th>\n",
       "      <td>122381.0</td>\n",
       "      <td>94339.0</td>\n",
       "      <td>227546.0</td>\n",
       "      <td>32.747511</td>\n",
       "      <td>-117.132264</td>\n",
       "      <td>12674</td>\n",
       "    </tr>\n",
       "    <tr>\n",
       "      <th>Rancho Penasquitos</th>\n",
       "      <td>110410.0</td>\n",
       "      <td>195884.0</td>\n",
       "      <td>315759.0</td>\n",
       "      <td>32.960517</td>\n",
       "      <td>-117.126967</td>\n",
       "      <td>13529</td>\n",
       "    </tr>\n",
       "    <tr>\n",
       "      <th>Clairemont Mesa</th>\n",
       "      <td>107918.0</td>\n",
       "      <td>88603.0</td>\n",
       "      <td>220000.0</td>\n",
       "      <td>32.816746</td>\n",
       "      <td>-117.193058</td>\n",
       "      <td>26196</td>\n",
       "    </tr>\n",
       "    <tr>\n",
       "      <th>Mira Mesa</th>\n",
       "      <td>104573.0</td>\n",
       "      <td>117884.0</td>\n",
       "      <td>245725.5</td>\n",
       "      <td>32.916294</td>\n",
       "      <td>-117.142366</td>\n",
       "      <td>22796</td>\n",
       "    </tr>\n",
       "    <tr>\n",
       "      <th>Downtown</th>\n",
       "      <td>88000.0</td>\n",
       "      <td>193000.0</td>\n",
       "      <td>300000.0</td>\n",
       "      <td>32.714837</td>\n",
       "      <td>-117.159859</td>\n",
       "      <td>15947</td>\n",
       "    </tr>\n",
       "    <tr>\n",
       "      <th>Mid-City:City Heights</th>\n",
       "      <td>80000.0</td>\n",
       "      <td>73375.5</td>\n",
       "      <td>159322.5</td>\n",
       "      <td>32.745415</td>\n",
       "      <td>-117.101394</td>\n",
       "      <td>11112</td>\n",
       "    </tr>\n",
       "    <tr>\n",
       "      <th>Navajo</th>\n",
       "      <td>79707.0</td>\n",
       "      <td>110490.0</td>\n",
       "      <td>217163.0</td>\n",
       "      <td>32.799186</td>\n",
       "      <td>-117.054650</td>\n",
       "      <td>19285</td>\n",
       "    </tr>\n",
       "    <tr>\n",
       "      <th>Mid-City:Eastern Area</th>\n",
       "      <td>67009.0</td>\n",
       "      <td>86433.0</td>\n",
       "      <td>162000.0</td>\n",
       "      <td>32.745165</td>\n",
       "      <td>-117.069609</td>\n",
       "      <td>10495</td>\n",
       "    </tr>\n",
       "    <tr>\n",
       "      <th>Skyline-Paradise Hills</th>\n",
       "      <td>66505.0</td>\n",
       "      <td>109381.0</td>\n",
       "      <td>180757.0</td>\n",
       "      <td>32.690995</td>\n",
       "      <td>-117.041837</td>\n",
       "      <td>16375</td>\n",
       "    </tr>\n",
       "    <tr>\n",
       "      <th>Southeastern San Diego,Southeastern</th>\n",
       "      <td>58203.0</td>\n",
       "      <td>60000.0</td>\n",
       "      <td>125806.5</td>\n",
       "      <td>32.701912</td>\n",
       "      <td>-117.117093</td>\n",
       "      <td>9712</td>\n",
       "    </tr>\n",
       "    <tr>\n",
       "      <th>Encanto Neighborhoods,Southeastern</th>\n",
       "      <td>56290.5</td>\n",
       "      <td>88000.0</td>\n",
       "      <td>152947.0</td>\n",
       "      <td>32.707977</td>\n",
       "      <td>-117.071614</td>\n",
       "      <td>10756</td>\n",
       "    </tr>\n",
       "    <tr>\n",
       "      <th>Otay Mesa-Nestor</th>\n",
       "      <td>47504.5</td>\n",
       "      <td>93251.0</td>\n",
       "      <td>146695.0</td>\n",
       "      <td>32.576986</td>\n",
       "      <td>-117.071473</td>\n",
       "      <td>14054</td>\n",
       "    </tr>\n",
       "  </tbody>\n",
       "</table>\n",
       "</div>"
      ],
      "text/plain": [
       "                                     asr_land  asr_impr  asr_total        lat  \\\n",
       "community_name                                                                  \n",
       "La Jolla                             396780.0  199048.0   646860.0  32.835837   \n",
       "Carmel Valley                        259012.5  232240.0   492951.0  32.947268   \n",
       "Pacific Beach                        196225.0  102000.0   320759.5  32.800926   \n",
       "Peninsula                            183000.0  110814.0   327638.5  32.735190   \n",
       "Uptown                               160924.0  136143.0   320216.0  32.746459   \n",
       "University                           146743.0  111111.0   266945.5  32.860899   \n",
       "Rancho Bernardo                      129446.0  148890.0   288537.0  33.026062   \n",
       "Greater North Park                   122381.0   94339.0   227546.0  32.747511   \n",
       "Rancho Penasquitos                   110410.0  195884.0   315759.0  32.960517   \n",
       "Clairemont Mesa                      107918.0   88603.0   220000.0  32.816746   \n",
       "Mira Mesa                            104573.0  117884.0   245725.5  32.916294   \n",
       "Downtown                              88000.0  193000.0   300000.0  32.714837   \n",
       "Mid-City:City Heights                 80000.0   73375.5   159322.5  32.745415   \n",
       "Navajo                                79707.0  110490.0   217163.0  32.799186   \n",
       "Mid-City:Eastern Area                 67009.0   86433.0   162000.0  32.745165   \n",
       "Skyline-Paradise Hills                66505.0  109381.0   180757.0  32.690995   \n",
       "Southeastern San Diego,Southeastern   58203.0   60000.0   125806.5  32.701912   \n",
       "Encanto Neighborhoods,Southeastern    56290.5   88000.0   152947.0  32.707977   \n",
       "Otay Mesa-Nestor                      47504.5   93251.0   146695.0  32.576986   \n",
       "\n",
       "                                            lon  parcels  \n",
       "community_name                                            \n",
       "La Jolla                            -117.262630    15107  \n",
       "Carmel Valley                       -117.226553    12838  \n",
       "Pacific Beach                       -117.241807    12922  \n",
       "Peninsula                           -117.232843    13230  \n",
       "Uptown                              -117.164188    13165  \n",
       "University                          -117.219277    15548  \n",
       "Rancho Bernardo                     -117.070698    15717  \n",
       "Greater North Park                  -117.132264    12674  \n",
       "Rancho Penasquitos                  -117.126967    13529  \n",
       "Clairemont Mesa                     -117.193058    26196  \n",
       "Mira Mesa                           -117.142366    22796  \n",
       "Downtown                            -117.159859    15947  \n",
       "Mid-City:City Heights               -117.101394    11112  \n",
       "Navajo                              -117.054650    19285  \n",
       "Mid-City:Eastern Area               -117.069609    10495  \n",
       "Skyline-Paradise Hills              -117.041837    16375  \n",
       "Southeastern San Diego,Southeastern -117.117093     9712  \n",
       "Encanto Neighborhoods,Southeastern  -117.071614    10756  \n",
       "Otay Mesa-Nestor                    -117.071473    14054  "
      ]
     },
     "execution_count": 30,
     "metadata": {},
     "output_type": "execute_result"
    }
   ],
   "source": [
    "by_cn[by_cn.parcels > 9000].sort('asr_land',ascending=False)"
   ]
  },
  {
   "cell_type": "code",
   "execution_count": 31,
   "metadata": {
    "collapsed": false
   },
   "outputs": [
    {
     "data": {
      "text/html": [
       "<div style=\"max-height:1000px;max-width:1500px;overflow:auto;\">\n",
       "<table border=\"1\" class=\"dataframe\">\n",
       "  <thead>\n",
       "    <tr style=\"text-align: right;\">\n",
       "      <th></th>\n",
       "      <th>asr_land</th>\n",
       "      <th>asr_impr</th>\n",
       "      <th>asr_total</th>\n",
       "      <th>lat</th>\n",
       "      <th>lon</th>\n",
       "      <th>parcels</th>\n",
       "    </tr>\n",
       "    <tr>\n",
       "      <th>community_name</th>\n",
       "      <th></th>\n",
       "      <th></th>\n",
       "      <th></th>\n",
       "      <th></th>\n",
       "      <th></th>\n",
       "      <th></th>\n",
       "    </tr>\n",
       "  </thead>\n",
       "  <tbody>\n",
       "    <tr>\n",
       "      <th>Carmel Valley</th>\n",
       "      <td>259012.5</td>\n",
       "      <td>232240.0</td>\n",
       "      <td>492951.0</td>\n",
       "      <td>32.947268</td>\n",
       "      <td>-117.226553</td>\n",
       "      <td>12838</td>\n",
       "    </tr>\n",
       "    <tr>\n",
       "      <th>La Jolla</th>\n",
       "      <td>396780.0</td>\n",
       "      <td>199048.0</td>\n",
       "      <td>646860.0</td>\n",
       "      <td>32.835837</td>\n",
       "      <td>-117.262630</td>\n",
       "      <td>15107</td>\n",
       "    </tr>\n",
       "    <tr>\n",
       "      <th>Rancho Penasquitos</th>\n",
       "      <td>110410.0</td>\n",
       "      <td>195884.0</td>\n",
       "      <td>315759.0</td>\n",
       "      <td>32.960517</td>\n",
       "      <td>-117.126967</td>\n",
       "      <td>13529</td>\n",
       "    </tr>\n",
       "    <tr>\n",
       "      <th>Downtown</th>\n",
       "      <td>88000.0</td>\n",
       "      <td>193000.0</td>\n",
       "      <td>300000.0</td>\n",
       "      <td>32.714837</td>\n",
       "      <td>-117.159859</td>\n",
       "      <td>15947</td>\n",
       "    </tr>\n",
       "    <tr>\n",
       "      <th>Rancho Bernardo</th>\n",
       "      <td>129446.0</td>\n",
       "      <td>148890.0</td>\n",
       "      <td>288537.0</td>\n",
       "      <td>33.026062</td>\n",
       "      <td>-117.070698</td>\n",
       "      <td>15717</td>\n",
       "    </tr>\n",
       "    <tr>\n",
       "      <th>Uptown</th>\n",
       "      <td>160924.0</td>\n",
       "      <td>136143.0</td>\n",
       "      <td>320216.0</td>\n",
       "      <td>32.746459</td>\n",
       "      <td>-117.164188</td>\n",
       "      <td>13165</td>\n",
       "    </tr>\n",
       "    <tr>\n",
       "      <th>Mira Mesa</th>\n",
       "      <td>104573.0</td>\n",
       "      <td>117884.0</td>\n",
       "      <td>245725.5</td>\n",
       "      <td>32.916294</td>\n",
       "      <td>-117.142366</td>\n",
       "      <td>22796</td>\n",
       "    </tr>\n",
       "    <tr>\n",
       "      <th>University</th>\n",
       "      <td>146743.0</td>\n",
       "      <td>111111.0</td>\n",
       "      <td>266945.5</td>\n",
       "      <td>32.860899</td>\n",
       "      <td>-117.219277</td>\n",
       "      <td>15548</td>\n",
       "    </tr>\n",
       "    <tr>\n",
       "      <th>Peninsula</th>\n",
       "      <td>183000.0</td>\n",
       "      <td>110814.0</td>\n",
       "      <td>327638.5</td>\n",
       "      <td>32.735190</td>\n",
       "      <td>-117.232843</td>\n",
       "      <td>13230</td>\n",
       "    </tr>\n",
       "    <tr>\n",
       "      <th>Navajo</th>\n",
       "      <td>79707.0</td>\n",
       "      <td>110490.0</td>\n",
       "      <td>217163.0</td>\n",
       "      <td>32.799186</td>\n",
       "      <td>-117.054650</td>\n",
       "      <td>19285</td>\n",
       "    </tr>\n",
       "    <tr>\n",
       "      <th>Skyline-Paradise Hills</th>\n",
       "      <td>66505.0</td>\n",
       "      <td>109381.0</td>\n",
       "      <td>180757.0</td>\n",
       "      <td>32.690995</td>\n",
       "      <td>-117.041837</td>\n",
       "      <td>16375</td>\n",
       "    </tr>\n",
       "    <tr>\n",
       "      <th>Pacific Beach</th>\n",
       "      <td>196225.0</td>\n",
       "      <td>102000.0</td>\n",
       "      <td>320759.5</td>\n",
       "      <td>32.800926</td>\n",
       "      <td>-117.241807</td>\n",
       "      <td>12922</td>\n",
       "    </tr>\n",
       "    <tr>\n",
       "      <th>Greater North Park</th>\n",
       "      <td>122381.0</td>\n",
       "      <td>94339.0</td>\n",
       "      <td>227546.0</td>\n",
       "      <td>32.747511</td>\n",
       "      <td>-117.132264</td>\n",
       "      <td>12674</td>\n",
       "    </tr>\n",
       "    <tr>\n",
       "      <th>Otay Mesa-Nestor</th>\n",
       "      <td>47504.5</td>\n",
       "      <td>93251.0</td>\n",
       "      <td>146695.0</td>\n",
       "      <td>32.576986</td>\n",
       "      <td>-117.071473</td>\n",
       "      <td>14054</td>\n",
       "    </tr>\n",
       "    <tr>\n",
       "      <th>Clairemont Mesa</th>\n",
       "      <td>107918.0</td>\n",
       "      <td>88603.0</td>\n",
       "      <td>220000.0</td>\n",
       "      <td>32.816746</td>\n",
       "      <td>-117.193058</td>\n",
       "      <td>26196</td>\n",
       "    </tr>\n",
       "    <tr>\n",
       "      <th>Encanto Neighborhoods,Southeastern</th>\n",
       "      <td>56290.5</td>\n",
       "      <td>88000.0</td>\n",
       "      <td>152947.0</td>\n",
       "      <td>32.707977</td>\n",
       "      <td>-117.071614</td>\n",
       "      <td>10756</td>\n",
       "    </tr>\n",
       "    <tr>\n",
       "      <th>Mid-City:Eastern Area</th>\n",
       "      <td>67009.0</td>\n",
       "      <td>86433.0</td>\n",
       "      <td>162000.0</td>\n",
       "      <td>32.745165</td>\n",
       "      <td>-117.069609</td>\n",
       "      <td>10495</td>\n",
       "    </tr>\n",
       "    <tr>\n",
       "      <th>Mid-City:City Heights</th>\n",
       "      <td>80000.0</td>\n",
       "      <td>73375.5</td>\n",
       "      <td>159322.5</td>\n",
       "      <td>32.745415</td>\n",
       "      <td>-117.101394</td>\n",
       "      <td>11112</td>\n",
       "    </tr>\n",
       "    <tr>\n",
       "      <th>Southeastern San Diego,Southeastern</th>\n",
       "      <td>58203.0</td>\n",
       "      <td>60000.0</td>\n",
       "      <td>125806.5</td>\n",
       "      <td>32.701912</td>\n",
       "      <td>-117.117093</td>\n",
       "      <td>9712</td>\n",
       "    </tr>\n",
       "  </tbody>\n",
       "</table>\n",
       "</div>"
      ],
      "text/plain": [
       "                                     asr_land  asr_impr  asr_total        lat  \\\n",
       "community_name                                                                  \n",
       "Carmel Valley                        259012.5  232240.0   492951.0  32.947268   \n",
       "La Jolla                             396780.0  199048.0   646860.0  32.835837   \n",
       "Rancho Penasquitos                   110410.0  195884.0   315759.0  32.960517   \n",
       "Downtown                              88000.0  193000.0   300000.0  32.714837   \n",
       "Rancho Bernardo                      129446.0  148890.0   288537.0  33.026062   \n",
       "Uptown                               160924.0  136143.0   320216.0  32.746459   \n",
       "Mira Mesa                            104573.0  117884.0   245725.5  32.916294   \n",
       "University                           146743.0  111111.0   266945.5  32.860899   \n",
       "Peninsula                            183000.0  110814.0   327638.5  32.735190   \n",
       "Navajo                                79707.0  110490.0   217163.0  32.799186   \n",
       "Skyline-Paradise Hills                66505.0  109381.0   180757.0  32.690995   \n",
       "Pacific Beach                        196225.0  102000.0   320759.5  32.800926   \n",
       "Greater North Park                   122381.0   94339.0   227546.0  32.747511   \n",
       "Otay Mesa-Nestor                      47504.5   93251.0   146695.0  32.576986   \n",
       "Clairemont Mesa                      107918.0   88603.0   220000.0  32.816746   \n",
       "Encanto Neighborhoods,Southeastern    56290.5   88000.0   152947.0  32.707977   \n",
       "Mid-City:Eastern Area                 67009.0   86433.0   162000.0  32.745165   \n",
       "Mid-City:City Heights                 80000.0   73375.5   159322.5  32.745415   \n",
       "Southeastern San Diego,Southeastern   58203.0   60000.0   125806.5  32.701912   \n",
       "\n",
       "                                            lon  parcels  \n",
       "community_name                                            \n",
       "Carmel Valley                       -117.226553    12838  \n",
       "La Jolla                            -117.262630    15107  \n",
       "Rancho Penasquitos                  -117.126967    13529  \n",
       "Downtown                            -117.159859    15947  \n",
       "Rancho Bernardo                     -117.070698    15717  \n",
       "Uptown                              -117.164188    13165  \n",
       "Mira Mesa                           -117.142366    22796  \n",
       "University                          -117.219277    15548  \n",
       "Peninsula                           -117.232843    13230  \n",
       "Navajo                              -117.054650    19285  \n",
       "Skyline-Paradise Hills              -117.041837    16375  \n",
       "Pacific Beach                       -117.241807    12922  \n",
       "Greater North Park                  -117.132264    12674  \n",
       "Otay Mesa-Nestor                    -117.071473    14054  \n",
       "Clairemont Mesa                     -117.193058    26196  \n",
       "Encanto Neighborhoods,Southeastern  -117.071614    10756  \n",
       "Mid-City:Eastern Area               -117.069609    10495  \n",
       "Mid-City:City Heights               -117.101394    11112  \n",
       "Southeastern San Diego,Southeastern -117.117093     9712  "
      ]
     },
     "execution_count": 31,
     "metadata": {},
     "output_type": "execute_result"
    }
   ],
   "source": [
    "by_cn[by_cn.parcels > 9000].sort('asr_impr',ascending=False)"
   ]
  },
  {
   "cell_type": "code",
   "execution_count": 32,
   "metadata": {
    "collapsed": true
   },
   "outputs": [],
   "source": [
    "by_cn.to_csv('/Users/damoncrockett/vosd.org/215-opendsd/tables/by_CPA_parcels.csv')"
   ]
  },
  {
   "cell_type": "code",
   "execution_count": 36,
   "metadata": {
    "collapsed": true
   },
   "outputs": [],
   "source": [
    "by_cn.reset_index(inplace=True)"
   ]
  },
  {
   "cell_type": "code",
   "execution_count": 37,
   "metadata": {
    "collapsed": true
   },
   "outputs": [],
   "source": [
    "by_cn.community_name = by_cn.community_name.map(lambda x:x.lower())"
   ]
  },
  {
   "cell_type": "code",
   "execution_count": 40,
   "metadata": {
    "collapsed": false
   },
   "outputs": [],
   "source": [
    "by_cn[['community_name','parcels']].to_csv('/Users/damoncrockett/vosd.org/215-opendsd/tables/number_of_parcels_CPA.csv',index=False)"
   ]
  },
  {
   "cell_type": "code",
   "execution_count": null,
   "metadata": {
    "collapsed": true
   },
   "outputs": [],
   "source": []
  },
  {
   "cell_type": "code",
   "execution_count": null,
   "metadata": {
    "collapsed": true
   },
   "outputs": [],
   "source": []
  },
  {
   "cell_type": "code",
   "execution_count": null,
   "metadata": {
    "collapsed": true
   },
   "outputs": [],
   "source": []
  },
  {
   "cell_type": "markdown",
   "metadata": {},
   "source": [
    "## approvals table"
   ]
  },
  {
   "cell_type": "code",
   "execution_count": 88,
   "metadata": {
    "collapsed": true
   },
   "outputs": [],
   "source": [
    "dd = pd.read_csv('/Users/damoncrockett/vosd.org/215-opendsd/tables/parcels_in_CPA_SD.csv')"
   ]
  },
  {
   "cell_type": "code",
   "execution_count": 89,
   "metadata": {
    "collapsed": false
   },
   "outputs": [],
   "source": [
    "d = pd.read_csv('/Users/damoncrockett/vosd.org/215-opendsd/tables/approvals_CPA.csv',\n",
    "                low_memory=False)"
   ]
  },
  {
   "cell_type": "code",
   "execution_count": 90,
   "metadata": {
    "collapsed": true
   },
   "outputs": [],
   "source": [
    "del d['Unnamed: 0']\n",
    "del dd['Unnamed: 0']"
   ]
  },
  {
   "cell_type": "code",
   "execution_count": 91,
   "metadata": {
    "collapsed": false
   },
   "outputs": [
    {
     "name": "stdout",
     "output_type": "stream",
     "text": [
      "<class 'pandas.core.frame.DataFrame'>\n",
      "Int64Index: 380246 entries, 0 to 380245\n",
      "Data columns (total 20 columns):\n",
      "apn               380246 non-null int64\n",
      "situs_juri        380246 non-null object\n",
      "asr_land          380246 non-null int64\n",
      "asr_impr          380246 non-null int64\n",
      "asr_total         380246 non-null int64\n",
      "shape_area        380246 non-null float64\n",
      "own_name1         380246 non-null object\n",
      "own_name2         30998 non-null object\n",
      "own_name3         2797 non-null object\n",
      "ownerocc          206942 non-null object\n",
      "taxstat           380246 non-null object\n",
      "tranum            380246 non-null int64\n",
      "nucleus_zo        380246 non-null int64\n",
      "asr_landus        380246 non-null int64\n",
      "nucleus_us        380246 non-null int64\n",
      "unitqty           380246 non-null int64\n",
      "multi             375895 non-null object\n",
      "lat               380246 non-null float64\n",
      "lon               380246 non-null float64\n",
      "community_name    380246 non-null object\n",
      "dtypes: float64(3), int64(9), object(8)\n",
      "memory usage: 60.9+ MB\n"
     ]
    }
   ],
   "source": [
    "dd.info()"
   ]
  },
  {
   "cell_type": "code",
   "execution_count": 92,
   "metadata": {
    "collapsed": false
   },
   "outputs": [
    {
     "data": {
      "text/plain": [
       "380246"
      ]
     },
     "execution_count": 92,
     "metadata": {},
     "output_type": "execute_result"
    }
   ],
   "source": [
    "len(dd.apn.value_counts())"
   ]
  },
  {
   "cell_type": "code",
   "execution_count": 93,
   "metadata": {
    "collapsed": false
   },
   "outputs": [
    {
     "name": "stdout",
     "output_type": "stream",
     "text": [
      "<class 'pandas.core.frame.DataFrame'>\n",
      "Int64Index: 388585 entries, 0 to 388584\n",
      "Data columns (total 31 columns):\n",
      "Unnamed: 0.1             388585 non-null int64\n",
      "APN                      360725 non-null object\n",
      "ApplicationDate          388585 non-null object\n",
      "ApplicationExpiration    246088 non-null object\n",
      "ApplicationExpired       388585 non-null bool\n",
      "ApplicationMonth         388585 non-null int64\n",
      "ApplicationYear          388585 non-null int64\n",
      "ApprovalId               388585 non-null int64\n",
      "Description              388585 non-null object\n",
      "DevelopmentId            388585 non-null int64\n",
      "DevelopmentTitle         388585 non-null object\n",
      "IssueDate                338339 non-null object\n",
      "IssueMonth               338339 non-null float64\n",
      "IssueYear                338339 non-null float64\n",
      "IssuedBy                 338339 non-null object\n",
      "JobId                    388585 non-null int64\n",
      "Latitude                 388585 non-null float64\n",
      "Longitude                388585 non-null float64\n",
      "PermitHolder             388585 non-null object\n",
      "ProjectId                388585 non-null int64\n",
      "ProjectManager           388585 non-null object\n",
      "ProjectManagerId         388585 non-null int64\n",
      "ProjectScope             369128 non-null object\n",
      "Scope                    336309 non-null object\n",
      "Status                   388585 non-null object\n",
      "StreetAddress            388585 non-null object\n",
      "TimetoIssue              338339 non-null float64\n",
      "Title                    388585 non-null object\n",
      "Type                     388585 non-null object\n",
      "category                 386783 non-null object\n",
      "CPA                      388194 non-null object\n",
      "dtypes: bool(1), float64(5), int64(8), object(17)\n",
      "memory usage: 92.3+ MB\n"
     ]
    }
   ],
   "source": [
    "d.info()"
   ]
  },
  {
   "cell_type": "code",
   "execution_count": 94,
   "metadata": {
    "collapsed": false
   },
   "outputs": [
    {
     "data": {
      "text/plain": [
       "125969"
      ]
     },
     "execution_count": 94,
     "metadata": {},
     "output_type": "execute_result"
    }
   ],
   "source": [
    "len(d.APN.value_counts())"
   ]
  },
  {
   "cell_type": "code",
   "execution_count": 95,
   "metadata": {
    "collapsed": false
   },
   "outputs": [
    {
     "data": {
      "text/plain": [
       "304664"
      ]
     },
     "execution_count": 95,
     "metadata": {},
     "output_type": "execute_result"
    }
   ],
   "source": [
    "len(d.JobId.value_counts())"
   ]
  },
  {
   "cell_type": "code",
   "execution_count": 96,
   "metadata": {
    "collapsed": false
   },
   "outputs": [
    {
     "data": {
      "text/plain": [
       "228393"
      ]
     },
     "execution_count": 96,
     "metadata": {},
     "output_type": "execute_result"
    }
   ],
   "source": [
    "len(d.ProjectId.value_counts())"
   ]
  },
  {
   "cell_type": "code",
   "execution_count": 97,
   "metadata": {
    "collapsed": false
   },
   "outputs": [
    {
     "data": {
      "text/plain": [
       "388585"
      ]
     },
     "execution_count": 97,
     "metadata": {},
     "output_type": "execute_result"
    }
   ],
   "source": [
    "len(d.ApprovalId.value_counts())"
   ]
  },
  {
   "cell_type": "code",
   "execution_count": 98,
   "metadata": {
    "collapsed": false
   },
   "outputs": [
    {
     "data": {
      "text/plain": [
       "154380"
      ]
     },
     "execution_count": 98,
     "metadata": {},
     "output_type": "execute_result"
    }
   ],
   "source": [
    "len(d.DevelopmentId.value_counts())"
   ]
  },
  {
   "cell_type": "code",
   "execution_count": 99,
   "metadata": {
    "collapsed": false
   },
   "outputs": [
    {
     "data": {
      "text/plain": [
       "True     46665\n",
       "False     3581\n",
       "dtype: int64"
      ]
     },
     "execution_count": 99,
     "metadata": {},
     "output_type": "execute_result"
    }
   ],
   "source": [
    "d.APN.notnull()[d.IssueDate.isnull()].value_counts()"
   ]
  },
  {
   "cell_type": "code",
   "execution_count": 100,
   "metadata": {
    "collapsed": false
   },
   "outputs": [
    {
     "data": {
      "text/plain": [
       "2005    3859\n",
       "2006    3069\n",
       "2014    2947\n",
       "2013    2436\n",
       "2004    2242\n",
       "2007    1997\n",
       "2008    1991\n",
       "2012    1756\n",
       "2011    1443\n",
       "2010    1313\n",
       "2009    1098\n",
       "2003     128\n",
       "dtype: int64"
      ]
     },
     "execution_count": 100,
     "metadata": {},
     "output_type": "execute_result"
    }
   ],
   "source": [
    "d.IssueYear[d.APN.isnull()].value_counts()"
   ]
  },
  {
   "cell_type": "code",
   "execution_count": 101,
   "metadata": {
    "collapsed": true
   },
   "outputs": [],
   "source": [
    "d = d[['APN',\n",
    "       'ApplicationYear',\n",
    "       'TimetoIssue',\n",
    "       'Status',\n",
    "       'StreetAddress',\n",
    "       'Type',\n",
    "       'category',\n",
    "       'ProjectId',\n",
    "       'ApprovalId',\n",
    "       'Latitude',\n",
    "       'Longitude',\n",
    "       'CPA']]"
   ]
  },
  {
   "cell_type": "code",
   "execution_count": 102,
   "metadata": {
    "collapsed": false
   },
   "outputs": [
    {
     "data": {
      "text/plain": [
       "<matplotlib.axes.AxesSubplot at 0x18ae7db50>"
      ]
     },
     "execution_count": 102,
     "metadata": {},
     "output_type": "execute_result"
    },
    {
     "data": {
      "image/png": "[encoded data removed]",
      "text/plain": [
       "<matplotlib.figure.Figure at 0x195710310>"
      ]
     },
     "metadata": {},
     "output_type": "display_data"
    }
   ],
   "source": [
    "d.Status.value_counts()[:10].plot(kind='barh',rot=0)"
   ]
  },
  {
   "cell_type": "code",
   "execution_count": 103,
   "metadata": {
    "collapsed": false
   },
   "outputs": [],
   "source": [
    "d = d[d.APN.notnull()]"
   ]
  },
  {
   "cell_type": "code",
   "execution_count": 104,
   "metadata": {
    "collapsed": true
   },
   "outputs": [],
   "source": [
    "d.reset_index(drop=True,inplace=True)"
   ]
  },
  {
   "cell_type": "code",
   "execution_count": 105,
   "metadata": {
    "collapsed": false
   },
   "outputs": [],
   "source": [
    "l = pd.DataFrame(d.APN.str.split('-',3).tolist(),\n",
    "                columns = ['a','b','c','d'])"
   ]
  },
  {
   "cell_type": "code",
   "execution_count": 106,
   "metadata": {
    "collapsed": false
   },
   "outputs": [],
   "source": [
    "d.APN = l.a+l.b+l.c+l.d"
   ]
  },
  {
   "cell_type": "code",
   "execution_count": 107,
   "metadata": {
    "collapsed": false
   },
   "outputs": [],
   "source": [
    "dd.rename(columns={'apn':'APN'},inplace=True)"
   ]
  },
  {
   "cell_type": "code",
   "execution_count": 108,
   "metadata": {
    "collapsed": true
   },
   "outputs": [],
   "source": [
    "dd.set_index('APN',inplace=True)"
   ]
  },
  {
   "cell_type": "code",
   "execution_count": 109,
   "metadata": {
    "collapsed": true
   },
   "outputs": [],
   "source": [
    "d.APN = d.APN.apply(int)"
   ]
  },
  {
   "cell_type": "code",
   "execution_count": 110,
   "metadata": {
    "collapsed": false
   },
   "outputs": [],
   "source": [
    "d = d.join(dd,on='APN')"
   ]
  },
  {
   "cell_type": "code",
   "execution_count": 111,
   "metadata": {
    "collapsed": false
   },
   "outputs": [
    {
     "name": "stdout",
     "output_type": "stream",
     "text": [
      "<class 'pandas.core.frame.DataFrame'>\n",
      "Int64Index: 360725 entries, 0 to 360724\n",
      "Data columns (total 31 columns):\n",
      "APN                360725 non-null int64\n",
      "ApplicationYear    360725 non-null int64\n",
      "TimetoIssue        314060 non-null float64\n",
      "Status             360725 non-null object\n",
      "StreetAddress      360725 non-null object\n",
      "Type               360725 non-null object\n",
      "category           358956 non-null object\n",
      "ProjectId          360725 non-null int64\n",
      "ApprovalId         360725 non-null int64\n",
      "Latitude           360725 non-null float64\n",
      "Longitude          360725 non-null float64\n",
      "CPA                360488 non-null object\n",
      "situs_juri         330699 non-null object\n",
      "asr_land           330699 non-null float64\n",
      "asr_impr           330699 non-null float64\n",
      "asr_total          330699 non-null float64\n",
      "shape_area         330699 non-null float64\n",
      "own_name1          330699 non-null object\n",
      "own_name2          23457 non-null object\n",
      "own_name3          2890 non-null object\n",
      "ownerocc           132909 non-null object\n",
      "taxstat            330699 non-null object\n",
      "tranum             330699 non-null float64\n",
      "nucleus_zo         330699 non-null float64\n",
      "asr_landus         330699 non-null float64\n",
      "nucleus_us         330699 non-null float64\n",
      "unitqty            330699 non-null float64\n",
      "multi              320885 non-null object\n",
      "lat                330699 non-null float64\n",
      "lon                330699 non-null float64\n",
      "community_name     330699 non-null object\n",
      "dtypes: float64(14), int64(4), object(13)\n",
      "memory usage: 88.1+ MB\n"
     ]
    }
   ],
   "source": [
    "d.info()"
   ]
  },
  {
   "cell_type": "code",
   "execution_count": 113,
   "metadata": {
    "collapsed": false
   },
   "outputs": [
    {
     "data": {
      "text/plain": [
       "UNIVERSITY                             2987\n",
       "DOWNTOWN                               2286\n",
       "MIRA MESA                              1929\n",
       "MISSION VALLEY                         1883\n",
       "OTAY MESA                              1487\n",
       "PACIFIC BEACH                          1365\n",
       "UPTOWN                                 1219\n",
       "GREATER NORTH PARK                     1110\n",
       "OCEAN BEACH                            1018\n",
       "KEARNY MESA                             963\n",
       "LA JOLLA                                914\n",
       "MIDWAY-PACIFIC HIGHWAY                  876\n",
       "MID-CITY:CITY HEIGHTS                   797\n",
       "PENINSULA                               789\n",
       "BLACK MOUNTAIN RANCH                    720\n",
       "SERRA MESA                              694\n",
       "PACIFIC HIGHLANDS RANCH                 665\n",
       "SAN YSIDRO                              656\n",
       "MISSION BEACH                           592\n",
       "MISSION BAY PARK                        518\n",
       "SOUTHEASTERN SAN DIEGO,SOUTHEASTERN     500\n",
       "RANCHO BERNARDO                         499\n",
       "ENCANTO NEIGHBORHOODS,SOUTHEASTERN      435\n",
       "CLAIREMONT MESA                         398\n",
       "MID-CITY:EASTERN AREA                   351\n",
       "COLLEGE AREA                            349\n",
       "TORREY HILLS                            345\n",
       "SABRE SPRINGS                           345\n",
       "OTAY MESA-NESTOR                        319\n",
       "LINDA VISTA                             283\n",
       "RESERVE                                 253\n",
       "DEL MAR MESA                            241\n",
       "CARMEL MOUNTAIN RANCH                   233\n",
       "NAVAJO                                  217\n",
       "SKYLINE-PARADISE HILLS                  213\n",
       "TORREY HIGHLANDS                        203\n",
       "MID-CITY:NORMAL HEIGHTS                 196\n",
       "GREATER GOLDEN HILL                     169\n",
       "BARRIO LOGAN                            124\n",
       "TIERRASANTA                             120\n",
       "RANCHO ENCANTADA                        118\n",
       "SCRIPPS MIRAMAR RANCH                   113\n",
       "TORREY PINES                            102\n",
       "RANCHO PENASQUITOS                      102\n",
       "MID-CITY:KENSINGTON-TALMADGE             99\n",
       "EAST ELLIOTT                             20\n",
       "NCFUA SUBAREA II                         13\n",
       "SAN PASQUAL                               9\n",
       "TIJUANA RIVER VALLEY                      9\n",
       "MIRAMAR RANCH NORTH                       1\n",
       "dtype: int64"
      ]
     },
     "execution_count": 113,
     "metadata": {},
     "output_type": "execute_result"
    }
   ],
   "source": [
    "d.CPA[d.asr_total.isnull()].value_counts()"
   ]
  },
  {
   "cell_type": "code",
   "execution_count": 114,
   "metadata": {
    "collapsed": false
   },
   "outputs": [
    {
     "data": {
      "text/plain": [
       "2004    6101\n",
       "2005    4561\n",
       "2006    4168\n",
       "2007    2686\n",
       "2003    2393\n",
       "2013    2094\n",
       "2012    1727\n",
       "2008    1700\n",
       "2011    1488\n",
       "2009    1157\n",
       "2010    1136\n",
       "2014     815\n",
       "dtype: int64"
      ]
     },
     "execution_count": 114,
     "metadata": {},
     "output_type": "execute_result"
    }
   ],
   "source": [
    "d.ApplicationYear[d.asr_total.isnull()].value_counts()"
   ]
  },
  {
   "cell_type": "code",
   "execution_count": 115,
   "metadata": {
    "collapsed": false
   },
   "outputs": [
    {
     "data": {
      "text/plain": [
       "Completed                                   14008\n",
       "Created                                      7354\n",
       "Issued                                       5539\n",
       "Cancelled - Expired                          2738\n",
       "Cancelled - Selected Approval in Error        133\n",
       "Cancelled - Abandoned                         121\n",
       "Cancelled - Rescinded (Customer Request)       89\n",
       "Pending Invoice Payment                        27\n",
       "Cancelled - Approval Uncancelled               15\n",
       "Cancelled - Revoked (Imposed)                   2\n",
       "dtype: int64"
      ]
     },
     "execution_count": 115,
     "metadata": {},
     "output_type": "execute_result"
    }
   ],
   "source": [
    "d.Status[d.asr_total.isnull()].value_counts()"
   ]
  },
  {
   "cell_type": "code",
   "execution_count": 116,
   "metadata": {
    "collapsed": false
   },
   "outputs": [
    {
     "data": {
      "text/plain": [
       "Electrical Permit                 5775\n",
       "Plumbing Permit                   4493\n",
       "Building Permit                   4382\n",
       "Mechanical Permit                 3867\n",
       "Combination Building Permit       2492\n",
       "Construction Change - Building    1371\n",
       "Encroachment Agreement             968\n",
       "Right Of Way Permit                796\n",
       "Sign Permit                        508\n",
       "Parcel Map                         477\n",
       "Map Waiver                         457\n",
       "Construction Change - Eng.         411\n",
       "Coastal Development Permit         404\n",
       "Fire Permit                        385\n",
       "Tentative Map                      333\n",
       "Final Map                          322\n",
       "Grading Permit                     237\n",
       "Demolition Permit                  200\n",
       "Certificate of Compliance          187\n",
       "Site Development Permit            166\n",
       "Easement Dedication                155\n",
       "Fire Permit - Alarm                147\n",
       "Fire Permit - Suppression          143\n",
       "Storm Water Maintenance Agrmnt     141\n",
       "Planned Development Permit         112\n",
       "Agreement                          105\n",
       "Electrical-Photovoltaic             89\n",
       "Lot-Line Adjustment                 81\n",
       "Right Of Way Permit-Const Plan      78\n",
       "Public Right of Way Dedication      63\n",
       "                                  ... \n",
       "Certificate of Correction           28\n",
       "Rezone                              27\n",
       "Variance                            22\n",
       "Fire Permit - Underground           21\n",
       "Land Use Plan                       20\n",
       "Deferred Document Review            16\n",
       "Neighborhood Developmnt Permit      16\n",
       "Master Plan, Establish              13\n",
       "Deferred Fire Approval               9\n",
       "Notice of Termination                9\n",
       "Street Name Change                   8\n",
       "Deferred Improvement Agrmnt          7\n",
       "Right Of Way Permit-Combo            6\n",
       "Public R.O.W. Use Permit             6\n",
       "ROW Permit-Std Public Improvmt       6\n",
       "Fire Permit - Kitchen Hood           6\n",
       "Amendment of Approved Map            6\n",
       "Special Permit                       4\n",
       "ROW Permit-Traffic Control           4\n",
       "Temporary Use Permit                 4\n",
       "Newsrack Permit                      3\n",
       "Construction Change - Fire           3\n",
       "Damage Appraisal - Combo             2\n",
       "Removal Combination Permit           1\n",
       "Cost Reimbursement Agreement         1\n",
       "City Manager Approval                1\n",
       "Emergency Coastal Dev Permit         1\n",
       "Merger of Parcels                    1\n",
       "Damage Appraisal - Bldg              1\n",
       "Res. High Occupancy Permit           1\n",
       "dtype: int64"
      ]
     },
     "execution_count": 116,
     "metadata": {},
     "output_type": "execute_result"
    }
   ],
   "source": [
    "d.Type[d.asr_total.isnull()].value_counts()"
   ]
  },
  {
   "cell_type": "code",
   "execution_count": 117,
   "metadata": {
    "collapsed": false
   },
   "outputs": [
    {
     "data": {
      "text/plain": [
       "Ministerial      26932\n",
       "Discretionary     1910\n",
       "BOTH              1072\n",
       "dtype: int64"
      ]
     },
     "execution_count": 117,
     "metadata": {},
     "output_type": "execute_result"
    }
   ],
   "source": [
    "d.category[d.asr_total.isnull()].value_counts()"
   ]
  },
  {
   "cell_type": "code",
   "execution_count": 112,
   "metadata": {
    "collapsed": true
   },
   "outputs": [],
   "source": [
    "d.to_csv('/Users/damoncrockett/vosd.org/215-opendsd/tables/approvals_parcels_CPA.csv',encoding='utf-8')"
   ]
  }
 ],
 "metadata": {
  "kernelspec": {
   "display_name": "Python 2",
   "language": "python",
   "name": "python2"
  },
  "language_info": {
   "codemirror_mode": {
    "name": "ipython",
    "version": 2
   },
   "file_extension": ".py",
   "mimetype": "text/x-python",
   "name": "python",
   "nbconvert_exporter": "python",
   "pygments_lexer": "ipython2",
   "version": "2.7.6"
  }
 },
 "nbformat": 4,
 "nbformat_minor": 0
}
