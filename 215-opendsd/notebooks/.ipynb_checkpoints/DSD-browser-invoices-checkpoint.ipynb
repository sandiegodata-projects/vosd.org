{
 "cells": [
  {
   "cell_type": "code",
   "execution_count": 301,
   "metadata": {
    "collapsed": false
   },
   "outputs": [],
   "source": [
    "import sqlite3\n",
    "import json"
   ]
  },
  {
   "cell_type": "code",
   "execution_count": 306,
   "metadata": {
    "collapsed": false
   },
   "outputs": [],
   "source": [
    "con = sqlite3.connect('/Users/damoncrockett/Dropbox/thinkpad_desktop_2/DSD_sqlite_db/invoices.db')\n",
    "cur = con.cursor()"
   ]
  },
  {
   "cell_type": "code",
   "execution_count": 307,
   "metadata": {
    "collapsed": false
   },
   "outputs": [],
   "source": [
    "row = cur.execute('SELECT data FROM json')"
   ]
  },
  {
   "cell_type": "code",
   "execution_count": 318,
   "metadata": {
    "collapsed": false
   },
   "outputs": [
    {
     "data": {
      "text/plain": [
       "{u'CustomerFirmName': u'Core Electric Systems Inc',\n",
       " u'CustomerName': u'Estrema, George ',\n",
       " u'Header': [{u'Agency': u'Development Services Department',\n",
       "   u'AgencyAddress': u'1222 First Ave, San Diego, CA 92101',\n",
       "   u'AgencyWebsite': u'www.sandiego.gov',\n",
       "   u'ExtractDate': u'12/8/2014 5:49:12 PM',\n",
       "   u'ExtractQuery': u'Invoice XML',\n",
       "   u'ExtractSystem': u'Extract System',\n",
       "   u'Jurisdiction': u'City of San Diego'}],\n",
       " u'InvoiceId': 1032,\n",
       " u'InvoiceNotes': [{u'InvoiceId': 1032,\n",
       "   u'Note': u'Upon payment of any Development  Impact Fees (DIF), Regional Transportation Congestion Improvement Program (RTCIP), or Facilities Benefit Assessment (FBA) fees, the 90-day protest period in which you may protest these fees under Government Code section 66020 will begin.  A written protest must be filed with the City Clerk pursuant to Government Code section 66020.  The protest procedures under section 66020 are additional to other procedures authorized or required under the San Diego Municipal Code. Please contact Facilities Financing at 619-533-3670 to request additional information.',\n",
       "   u'NoteId': 1}],\n",
       " u'InvoiceRevenue': [{u'Amount': 60.0,\n",
       "   u'CostObjectNum': u'1611130012',\n",
       "   u'Fund': u'PLANNING & DEVEL REV ENTR FUND',\n",
       "   u'FundNum': u'700036',\n",
       "   u'GL': u'ELECTRICAL PERMITS',\n",
       "   u'GLNum': u'416079',\n",
       "   u'InvoiceId': None}],\n",
       " u'InvoiceTotalAmount': None,\n",
       " u'IssueDate': u'2003-05-05T14:08:34',\n",
       " u'IssuedBy': u'Giaccaglia, Bob',\n",
       " u'PaidDate': u'2003-05-08T11:07:31',\n",
       " u'ProjectDetails': [{u'AccountNum': u' ',\n",
       "   u'AdminHold': False,\n",
       "   u'ApplicationDate': None,\n",
       "   u'ApplicationExpiration': None,\n",
       "   u'ApplicationExpired': False,\n",
       "   u'DevelopmentId': 6068,\n",
       "   u'DevelopmentTitle': u'elec comm office ',\n",
       "   u'JobOrderNum': None,\n",
       "   u'Jobs': [{u'APN': u'313-381-09-00',\n",
       "     u'ApprovalInfo': [{u'ApprovalFees': [{u'ApprovalId': 11665,\n",
       "         u'FeeAmount': 20.0,\n",
       "         u'FeeAuthority': u'Municipal Code',\n",
       "         u'FeeDescription': u'15 or 20 Amp Circuits',\n",
       "         u'FeeQuantityRequired': u'2',\n",
       "         u'FeeTypeId': 679,\n",
       "         u'FeeTypeUnit': u'Each',\n",
       "         u'InvoiceCalcRules': [{u'BaseIncrement': u'1',\n",
       "           u'BaseQuantity': u'0',\n",
       "           u'FeeRule': u'$10.00 each = $20.00',\n",
       "           u'FeeSurchargeRules': [],\n",
       "           u'FeeThresholdId': 1147,\n",
       "           u'InvoiceDetailId': 69,\n",
       "           u'PreSurchargeAmt': 20.0,\n",
       "           u'PreviousCreditAmt': u'',\n",
       "           u'RuleRate': u'10',\n",
       "           u'RuleRateAmt': 0.0}],\n",
       "         u'InvoiceDetialId': 69,\n",
       "         u'InvoiceId': 1032,\n",
       "         u'JobId': 10740,\n",
       "         u'PreviousCreditInv': u'',\n",
       "         u'ProjectId': 7097},\n",
       "        {u'ApprovalId': 11665,\n",
       "         u'FeeAmount': 40.0,\n",
       "         u'FeeAuthority': u'Municipal Code',\n",
       "         u'FeeDescription': u'Electrical Issuance Fee',\n",
       "         u'FeeQuantityRequired': u'1',\n",
       "         u'FeeTypeId': 676,\n",
       "         u'FeeTypeUnit': u'Each',\n",
       "         u'InvoiceCalcRules': [{u'BaseIncrement': u'1',\n",
       "           u'BaseQuantity': u'0',\n",
       "           u'FeeRule': u'Flat fee: $40.00',\n",
       "           u'FeeSurchargeRules': [],\n",
       "           u'FeeThresholdId': 1037,\n",
       "           u'InvoiceDetailId': 70,\n",
       "           u'PreSurchargeAmt': 40.0,\n",
       "           u'PreviousCreditAmt': u'',\n",
       "           u'RuleRate': u'0',\n",
       "           u'RuleRateAmt': 40.0}],\n",
       "         u'InvoiceDetialId': 70,\n",
       "         u'InvoiceId': 1032,\n",
       "         u'JobId': 10740,\n",
       "         u'PreviousCreditInv': u'',\n",
       "         u'ProjectId': 7097}],\n",
       "       u'ApprovalFeesSubTotal': 60.0,\n",
       "       u'ApprovalId': 11665,\n",
       "       u'CompleteCancelDate': u'2003-05-29T17:24:07',\n",
       "       u'Depiction': u'4',\n",
       "       u'FirstInspectionDate': u'2003-05-06T14:53:05',\n",
       "       u'IssueDate': u'2003-05-08T11:07:31',\n",
       "       u'IssuedBy': u'Chaves Jr, Les',\n",
       "       u'JobId': 10740,\n",
       "       u'NetChangeDU': u'',\n",
       "       u'PermitHolder': u'George Estrema',\n",
       "       u'Scope': u'',\n",
       "       u'SquareFootage': None,\n",
       "       u'Status': u'Completed',\n",
       "       u'Type': u'Electrical Permit',\n",
       "       u'Valuation': u''}],\n",
       "     u'Approvals': [],\n",
       "     u'Description': u'15030   AVENUE OF SCIENCE  #100',\n",
       "     u'JobFeesSubTotal': 60.0,\n",
       "     u'JobId': 10740,\n",
       "     u'Latitude': 32.988248,\n",
       "     u'Longitude': -117.08077,\n",
       "     u'MapReference': u'1170-A7',\n",
       "     u'NAD83Easting': None,\n",
       "     u'NAD83Northing': None,\n",
       "     u'ProjectId': 7097,\n",
       "     u'SignOffs': [],\n",
       "     u'SortableStreetAddress': u'AVENUE OF SCIENCE 0000015030   Unit #100 ',\n",
       "     u'StreetAddress': u'15030   AVENUE OF SCIENCE Unit #100 '}],\n",
       "   u'ProjectFees': [],\n",
       "   u'ProjectFeesSubTotal': None,\n",
       "   u'ProjectFeesTotal': 60.0,\n",
       "   u'ProjectId': 7097,\n",
       "   u'ProjectManager': {u'ActiveIndicator': True,\n",
       "    u'EmailAddress': u'dsdprojectinfo@sandiego.gov',\n",
       "    u'Name': u'Giaccaglia, Bob',\n",
       "    u'PhoneNum': u'',\n",
       "    u'ProjectManagerId': 3537},\n",
       "   u'ProjectManagerId': 3537,\n",
       "   u'Scope': u'add of 2-offices',\n",
       "   u'Title': u'elec comm office '}],\n",
       " u'ReverseDate': None,\n",
       " u'Status': u'Paid',\n",
       " u'TotalAmount': 60.0}"
      ]
     },
     "execution_count": 318,
     "metadata": {},
     "output_type": "execute_result"
    }
   ],
   "source": [
    "d = json.loads(str(row.fetchone()[0]).decode('zlib'))\n",
    "d"
   ]
  },
  {
   "cell_type": "code",
   "execution_count": 15,
   "metadata": {
    "collapsed": false
   },
   "outputs": [
    {
     "data": {
      "text/plain": [
       "[u'Status',\n",
       " u'InvoiceId',\n",
       " u'CustomerName',\n",
       " u'PaidDate',\n",
       " u'IssueDate',\n",
       " u'InvoiceNotes',\n",
       " u'ReverseDate',\n",
       " u'Header',\n",
       " u'InvoiceRevenue',\n",
       " u'ProjectDetails',\n",
       " u'TotalAmount',\n",
       " u'InvoiceTotalAmount',\n",
       " u'IssuedBy',\n",
       " u'CustomerFirmName']"
      ]
     },
     "execution_count": 15,
     "metadata": {},
     "output_type": "execute_result"
    }
   ],
   "source": [
    "d.keys()"
   ]
  },
  {
   "cell_type": "code",
   "execution_count": 16,
   "metadata": {
    "collapsed": false
   },
   "outputs": [
    {
     "data": {
      "text/plain": [
       "1"
      ]
     },
     "execution_count": 16,
     "metadata": {},
     "output_type": "execute_result"
    }
   ],
   "source": [
    "len(d['ProjectDetails'])"
   ]
  },
  {
   "cell_type": "code",
   "execution_count": null,
   "metadata": {
    "collapsed": true
   },
   "outputs": [],
   "source": []
  }
 ],
 "metadata": {
  "kernelspec": {
   "display_name": "Python 2",
   "language": "python",
   "name": "python2"
  },
  "language_info": {
   "codemirror_mode": {
    "name": "ipython",
    "version": 2
   },
   "file_extension": ".py",
   "mimetype": "text/x-python",
   "name": "python",
   "nbconvert_exporter": "python",
   "pygments_lexer": "ipython2",
   "version": "2.7.10"
  }
 },
 "nbformat": 4,
 "nbformat_minor": 0
}
