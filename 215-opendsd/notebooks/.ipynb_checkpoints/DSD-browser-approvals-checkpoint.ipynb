{
 "cells": [
  {
   "cell_type": "code",
   "execution_count": 1,
   "metadata": {
    "collapsed": false
   },
   "outputs": [],
   "source": [
    "import sqlite3\n",
    "import json"
   ]
  },
  {
   "cell_type": "code",
   "execution_count": 2,
   "metadata": {
    "collapsed": false
   },
   "outputs": [],
   "source": [
    "con = sqlite3.connect('/Users/damoncrockett/Dropbox/thinkpad_desktop_2/DSD_sqlite_db/approvals.db')\n",
    "cur = con.cursor()"
   ]
  },
  {
   "cell_type": "code",
   "execution_count": 3,
   "metadata": {
    "collapsed": false
   },
   "outputs": [],
   "source": [
    "row = cur.execute('SELECT data FROM json')"
   ]
  },
  {
   "cell_type": "code",
   "execution_count": 4,
   "metadata": {
    "collapsed": false
   },
   "outputs": [],
   "source": [
    "d = json.loads(str(row.fetchone()[0]).decode('zlib'))"
   ]
  },
  {
   "cell_type": "code",
   "execution_count": 5,
   "metadata": {
    "collapsed": false
   },
   "outputs": [
    {
     "data": {
      "text/plain": [
       "[u'ApprovalId',\n",
       " u'InspectionIssues',\n",
       " u'DependentPackages',\n",
       " u'BCCodes',\n",
       " u'DependantApprovals',\n",
       " u'Project',\n",
       " u'Header',\n",
       " u'Job',\n",
       " u'Exceptions',\n",
       " u'Approval',\n",
       " u'Inspections',\n",
       " u'ApprovalFees']"
      ]
     },
     "execution_count": 5,
     "metadata": {},
     "output_type": "execute_result"
    }
   ],
   "source": [
    "d.keys()"
   ]
  },
  {
   "cell_type": "code",
   "execution_count": 6,
   "metadata": {
    "collapsed": false
   },
   "outputs": [
    {
     "data": {
      "text/plain": [
       "[{u'FeeCategory': u'Issuance Fees',\n",
       "  u'FeeQuantityPaid': u'1',\n",
       "  u'FeeQuantityRequired': u'1',\n",
       "  u'FeeType': u'Water Heater',\n",
       "  u'FeeTypeId': 663,\n",
       "  u'FeeTypeUnit': u'Each',\n",
       "  u'InvoiceId': 1017,\n",
       "  u'InvoiceStatus': u'Paid on ',\n",
       "  u'ProjectId': 7032},\n",
       " {u'FeeCategory': u'Issuance Fees',\n",
       "  u'FeeQuantityPaid': u'1',\n",
       "  u'FeeQuantityRequired': u'1',\n",
       "  u'FeeType': u'Plumbing Issuance Fee',\n",
       "  u'FeeTypeId': 810,\n",
       "  u'FeeTypeUnit': u'Each',\n",
       "  u'InvoiceId': 1017,\n",
       "  u'InvoiceStatus': u'Paid on ',\n",
       "  u'ProjectId': 7032}]"
      ]
     },
     "execution_count": 6,
     "metadata": {},
     "output_type": "execute_result"
    }
   ],
   "source": [
    "d = json.loads(str(row.fetchone()[0]).decode('zlib'))\n",
    "d['ApprovalFees']"
   ]
  }
 ],
 "metadata": {
  "kernelspec": {
   "display_name": "Python 2",
   "language": "python",
   "name": "python2"
  },
  "language_info": {
   "codemirror_mode": {
    "name": "ipython",
    "version": 2
   },
   "file_extension": ".py",
   "mimetype": "text/x-python",
   "name": "python",
   "nbconvert_exporter": "python",
   "pygments_lexer": "ipython2",
   "version": "2.7.6"
  }
 },
 "nbformat": 4,
 "nbformat_minor": 0
}
