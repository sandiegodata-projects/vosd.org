{
 "cells": [
  {
   "cell_type": "code",
   "execution_count": 47,
   "metadata": {
    "collapsed": true
   },
   "outputs": [],
   "source": [
    "import pandas as pd\n",
    "import numpy as np"
   ]
  },
  {
   "cell_type": "code",
   "execution_count": 48,
   "metadata": {
    "collapsed": true
   },
   "outputs": [],
   "source": [
    "DIR = \"/Users/damoncrockett/vosd.org/215-opendsd/tables/\""
   ]
  },
  {
   "cell_type": "code",
   "execution_count": 49,
   "metadata": {
    "collapsed": true
   },
   "outputs": [],
   "source": [
    "customers = pd.read_csv(DIR+'customers_complete.csv')\n",
    "del customers['Unnamed: 0']"
   ]
  },
  {
   "cell_type": "code",
   "execution_count": 50,
   "metadata": {
    "collapsed": false
   },
   "outputs": [
    {
     "data": {
      "text/plain": [
       "857918"
      ]
     },
     "execution_count": 50,
     "metadata": {},
     "output_type": "execute_result"
    }
   ],
   "source": [
    "len(customers)"
   ]
  },
  {
   "cell_type": "code",
   "execution_count": 51,
   "metadata": {
    "collapsed": true
   },
   "outputs": [],
   "source": [
    "fees = pd.read_csv(DIR+'fees_project_year.csv')\n",
    "fees.set_index('ProjectId',inplace=True)"
   ]
  },
  {
   "cell_type": "code",
   "execution_count": 80,
   "metadata": {
    "collapsed": false
   },
   "outputs": [
    {
     "data": {
      "text/plain": [
       "Index([u'TotalAmount', u'yr_rounded'], dtype='object')"
      ]
     },
     "execution_count": 80,
     "metadata": {},
     "output_type": "execute_result"
    }
   ],
   "source": [
    "fees.columns"
   ]
  },
  {
   "cell_type": "code",
   "execution_count": 52,
   "metadata": {
    "collapsed": true
   },
   "outputs": [],
   "source": [
    "customers = customers.join(fees,on='ProjectId')"
   ]
  },
  {
   "cell_type": "code",
   "execution_count": 53,
   "metadata": {
    "collapsed": false
   },
   "outputs": [
    {
     "data": {
      "text/plain": [
       "857918"
      ]
     },
     "execution_count": 53,
     "metadata": {},
     "output_type": "execute_result"
    }
   ],
   "source": [
    "len(customers)"
   ]
  },
  {
   "cell_type": "code",
   "execution_count": 54,
   "metadata": {
    "collapsed": true
   },
   "outputs": [],
   "source": [
    "parcels = pd.read_csv(DIR+'approvals_parcels_CPA.csv')\n",
    "del parcels['Unnamed: 0']"
   ]
  },
  {
   "cell_type": "code",
   "execution_count": 55,
   "metadata": {
    "collapsed": true
   },
   "outputs": [],
   "source": [
    "parcels = parcels[['ProjectId',\n",
    "                   'StreetAddress',\n",
    "                   'Latitude',\n",
    "                   'Longitude',\n",
    "                   'asr_land',\n",
    "                   'asr_impr',\n",
    "                   'asr_total',\n",
    "                   'shape_area',\n",
    "                   'own_name1',\n",
    "                   'nucleus_zo',\n",
    "                   'nucleus_us',\n",
    "                   'unitqty',\n",
    "                   'lat',\n",
    "                   'lon',\n",
    "                   'community_name']]"
   ]
  },
  {
   "cell_type": "code",
   "execution_count": 56,
   "metadata": {
    "collapsed": true
   },
   "outputs": [],
   "source": [
    "parcels = parcels[parcels.lat.notnull()]\n",
    "parcels.reset_index(drop=True,inplace=True)"
   ]
  },
  {
   "cell_type": "code",
   "execution_count": 57,
   "metadata": {
    "collapsed": false
   },
   "outputs": [
    {
     "name": "stdout",
     "output_type": "stream",
     "text": [
      "ProjectId 202802\n",
      "StreetAddress 148012\n",
      "Latitude 94288\n",
      "Longitude 90540\n",
      "asr_land 41853\n",
      "asr_impr 62315\n",
      "asr_total 73511\n",
      "shape_area 111392\n",
      "own_name1 114344\n",
      "nucleus_zo 13\n",
      "nucleus_us 162\n",
      "unitqty 291\n",
      "lat 111524\n",
      "lon 111496\n",
      "community_name 57\n"
     ]
    }
   ],
   "source": [
    "l = list(parcels.columns)\n",
    "for column in l:\n",
    "    print column, len(parcels[column].value_counts())"
   ]
  },
  {
   "cell_type": "code",
   "execution_count": 58,
   "metadata": {
    "collapsed": true
   },
   "outputs": [],
   "source": [
    "cols = parcels.columns[1:]"
   ]
  },
  {
   "cell_type": "code",
   "execution_count": 59,
   "metadata": {
    "collapsed": true
   },
   "outputs": [],
   "source": [
    "parcels.sort('ProjectId',inplace=True)"
   ]
  },
  {
   "cell_type": "code",
   "execution_count": 60,
   "metadata": {
    "collapsed": false
   },
   "outputs": [
    {
     "data": {
      "text/plain": [
       "'\\n\\nl = []\\n\\nfor col in cols:\\n    for i in range(len(parcels) - 1):\\n            if parcels.ProjectId.loc[i] == parcels.ProjectId.loc[i+1]:\\n                if parcels[col].loc[i] != parcels[col].loc[i+1]:\\n                    l.append(col)\\n    print col\\n'"
      ]
     },
     "execution_count": 60,
     "metadata": {},
     "output_type": "execute_result"
    }
   ],
   "source": [
    "'''\n",
    "\n",
    "l = []\n",
    "\n",
    "for col in cols:\n",
    "    for i in range(len(parcels) - 1):\n",
    "            if parcels.ProjectId.loc[i] == parcels.ProjectId.loc[i+1]:\n",
    "                if parcels[col].loc[i] != parcels[col].loc[i+1]:\n",
    "                    l.append(col)\n",
    "    print col\n",
    "'''"
   ]
  },
  {
   "cell_type": "code",
   "execution_count": 61,
   "metadata": {
    "collapsed": false
   },
   "outputs": [
    {
     "data": {
      "text/plain": [
       "Counter({'shape_area': 1, 'unitqty': 1, 'own_name1': 1, 'lon': 1, 'ProjectId': 1, 'nucleus_us': 1, 'Longitude': 1, 'community_name': 1, 'asr_total': 1, 'lat': 1, 'StreetAddress': 1, 'asr_impr': 1, 'Latitude': 1, 'asr_land': 1, 'nucleus_zo': 1})"
      ]
     },
     "execution_count": 61,
     "metadata": {},
     "output_type": "execute_result"
    }
   ],
   "source": [
    "from collections import Counter\n",
    "Counter(l)"
   ]
  },
  {
   "cell_type": "code",
   "execution_count": 62,
   "metadata": {
    "collapsed": false
   },
   "outputs": [],
   "source": [
    "parcels.set_index('ProjectId',inplace=True)"
   ]
  },
  {
   "cell_type": "code",
   "execution_count": 63,
   "metadata": {
    "collapsed": true
   },
   "outputs": [],
   "source": [
    "customers = customers[customers.TotalAmount.notnull()]"
   ]
  },
  {
   "cell_type": "code",
   "execution_count": 64,
   "metadata": {
    "collapsed": false
   },
   "outputs": [],
   "source": [
    "d = customers.join(parcels,on='ProjectId')"
   ]
  },
  {
   "cell_type": "code",
   "execution_count": 65,
   "metadata": {
    "collapsed": false
   },
   "outputs": [
    {
     "data": {
      "text/plain": [
       "1516252"
      ]
     },
     "execution_count": 65,
     "metadata": {},
     "output_type": "execute_result"
    }
   ],
   "source": [
    "len(d)"
   ]
  },
  {
   "cell_type": "code",
   "execution_count": 66,
   "metadata": {
    "collapsed": false
   },
   "outputs": [],
   "source": [
    "d = d[d.lat.notnull()]"
   ]
  },
  {
   "cell_type": "code",
   "execution_count": 67,
   "metadata": {
    "collapsed": true
   },
   "outputs": [],
   "source": [
    "d.reset_index(drop=True,inplace=True)"
   ]
  },
  {
   "cell_type": "code",
   "execution_count": 68,
   "metadata": {
    "collapsed": false
   },
   "outputs": [
    {
     "name": "stdout",
     "output_type": "stream",
     "text": [
      "<class 'pandas.core.frame.DataFrame'>\n",
      "Int64Index: 1420591 entries, 0 to 1420590\n",
      "Data columns (total 21 columns):\n",
      "CustomerId        1420591 non-null int64\n",
      "FirmName          1090745 non-null object\n",
      "Name              1420591 non-null object\n",
      "ProjectId         1420591 non-null int64\n",
      "Role              1420591 non-null object\n",
      "TotalAmount       1420591 non-null float64\n",
      "yr_rounded        1420591 non-null float64\n",
      "StreetAddress     1420591 non-null object\n",
      "Latitude          1420591 non-null float64\n",
      "Longitude         1420591 non-null float64\n",
      "asr_land          1420591 non-null float64\n",
      "asr_impr          1420591 non-null float64\n",
      "asr_total         1420591 non-null float64\n",
      "shape_area        1420591 non-null float64\n",
      "own_name1         1420591 non-null object\n",
      "nucleus_zo        1420591 non-null float64\n",
      "nucleus_us        1420591 non-null float64\n",
      "unitqty           1420591 non-null float64\n",
      "lat               1420591 non-null float64\n",
      "lon               1420591 non-null float64\n",
      "community_name    1420591 non-null object\n",
      "dtypes: float64(13), int64(2), object(6)\n",
      "memory usage: 238.4+ MB\n"
     ]
    }
   ],
   "source": [
    "d.info()"
   ]
  },
  {
   "cell_type": "code",
   "execution_count": 69,
   "metadata": {
    "collapsed": true
   },
   "outputs": [],
   "source": [
    "del d['StreetAddress']\n",
    "del d['CustomerId']"
   ]
  },
  {
   "cell_type": "code",
   "execution_count": 70,
   "metadata": {
    "collapsed": true
   },
   "outputs": [],
   "source": [
    "del d['Latitude']\n",
    "del d['Longitude']"
   ]
  },
  {
   "cell_type": "code",
   "execution_count": 71,
   "metadata": {
    "collapsed": false
   },
   "outputs": [
    {
     "data": {
      "text/html": [
       "<div>\n",
       "<table border=\"1\" class=\"dataframe\">\n",
       "  <thead>\n",
       "    <tr style=\"text-align: right;\">\n",
       "      <th></th>\n",
       "      <th>FirmName</th>\n",
       "      <th>Name</th>\n",
       "      <th>ProjectId</th>\n",
       "      <th>Role</th>\n",
       "      <th>TotalAmount</th>\n",
       "    </tr>\n",
       "  </thead>\n",
       "  <tbody>\n",
       "    <tr>\n",
       "      <th>0</th>\n",
       "      <td>Hotel Circle Partners, LLC</td>\n",
       "      <td>Bob Kaplan</td>\n",
       "      <td>1102</td>\n",
       "      <td>Financial Responsibl</td>\n",
       "      <td>4490</td>\n",
       "    </tr>\n",
       "    <tr>\n",
       "      <th>1</th>\n",
       "      <td>San Diego City Schools</td>\n",
       "      <td>William Dos Santos</td>\n",
       "      <td>1102</td>\n",
       "      <td>Agent</td>\n",
       "      <td>4490</td>\n",
       "    </tr>\n",
       "    <tr>\n",
       "      <th>2</th>\n",
       "      <td>Project Design Consultants</td>\n",
       "      <td>Ted Haubrick</td>\n",
       "      <td>1102</td>\n",
       "      <td>Point of Contact</td>\n",
       "      <td>4490</td>\n",
       "    </tr>\n",
       "    <tr>\n",
       "      <th>3</th>\n",
       "      <td>Antonio Zuazo Consulting Serv</td>\n",
       "      <td>Antonio Zuazo</td>\n",
       "      <td>1164</td>\n",
       "      <td>Point of Contact</td>\n",
       "      <td>2500</td>\n",
       "    </tr>\n",
       "    <tr>\n",
       "      <th>4</th>\n",
       "      <td>Eduardo Aceves</td>\n",
       "      <td>Eduardo Aceves</td>\n",
       "      <td>1164</td>\n",
       "      <td>DA-DS 3242</td>\n",
       "      <td>2500</td>\n",
       "    </tr>\n",
       "  </tbody>\n",
       "</table>\n",
       "</div>"
      ],
      "text/plain": [
       "                        FirmName                Name  ProjectId  \\\n",
       "0     Hotel Circle Partners, LLC          Bob Kaplan       1102   \n",
       "1         San Diego City Schools  William Dos Santos       1102   \n",
       "2     Project Design Consultants        Ted Haubrick       1102   \n",
       "3  Antonio Zuazo Consulting Serv       Antonio Zuazo       1164   \n",
       "4                 Eduardo Aceves      Eduardo Aceves       1164   \n",
       "\n",
       "                   Role  TotalAmount  \n",
       "0  Financial Responsibl         4490  \n",
       "1                 Agent         4490  \n",
       "2      Point of Contact         4490  \n",
       "3      Point of Contact         2500  \n",
       "4            DA-DS 3242         2500  "
      ]
     },
     "execution_count": 71,
     "metadata": {},
     "output_type": "execute_result"
    }
   ],
   "source": [
    "d.iloc[:,:5].head()"
   ]
  },
  {
   "cell_type": "code",
   "execution_count": 72,
   "metadata": {
    "collapsed": false
   },
   "outputs": [
    {
     "name": "stdout",
     "output_type": "stream",
     "text": [
      "FirmName 45435\n",
      "Name 157538\n",
      "ProjectId 196737\n",
      "Role 45\n",
      "TotalAmount 53653\n",
      "yr_rounded 12\n",
      "asr_land 40468\n",
      "asr_impr 60323\n",
      "asr_total 70954\n",
      "shape_area 106024\n",
      "own_name1 109195\n",
      "nucleus_zo 13\n",
      "nucleus_us 161\n",
      "unitqty 289\n",
      "lat 106152\n",
      "lon 106126\n",
      "community_name 57\n"
     ]
    }
   ],
   "source": [
    "l = list(d.columns)\n",
    "for column in l:\n",
    "    print column, len(d[column].value_counts())"
   ]
  },
  {
   "cell_type": "code",
   "execution_count": 73,
   "metadata": {
    "collapsed": false
   },
   "outputs": [
    {
     "data": {
      "text/plain": [
       "CITY OF SAN DIEGO          23569\n",
       "KILROY REALTY L P          12546\n",
       "FASHION VALLEY MALL LLC     9852\n",
       "ARDEN REALTY LTD PTNSHP     6825\n",
       "IRVINE CO                   6461\n",
       "dtype: int64"
      ]
     },
     "execution_count": 73,
     "metadata": {},
     "output_type": "execute_result"
    }
   ],
   "source": [
    "d.own_name1.value_counts().head()"
   ]
  },
  {
   "cell_type": "code",
   "execution_count": 74,
   "metadata": {
    "collapsed": false
   },
   "outputs": [
    {
     "data": {
      "text/html": [
       "<div>\n",
       "<table border=\"1\" class=\"dataframe\">\n",
       "  <thead>\n",
       "    <tr style=\"text-align: right;\">\n",
       "      <th></th>\n",
       "      <th>FirmName</th>\n",
       "      <th>asr_total</th>\n",
       "      <th>asr_land</th>\n",
       "      <th>asr_impr</th>\n",
       "      <th>TotalAmount</th>\n",
       "      <th>count</th>\n",
       "    </tr>\n",
       "  </thead>\n",
       "  <tbody>\n",
       "    <tr>\n",
       "      <th>0</th>\n",
       "      <td>Permits in Motion</td>\n",
       "      <td>754000.0</td>\n",
       "      <td>384956.0</td>\n",
       "      <td>338131.0</td>\n",
       "      <td>2585.120</td>\n",
       "      <td>24425</td>\n",
       "    </tr>\n",
       "    <tr>\n",
       "      <th>1</th>\n",
       "      <td>Barbara Harris Permitting</td>\n",
       "      <td>10210841.0</td>\n",
       "      <td>2650000.0</td>\n",
       "      <td>6225410.0</td>\n",
       "      <td>5247.305</td>\n",
       "      <td>16564</td>\n",
       "    </tr>\n",
       "    <tr>\n",
       "      <th>2</th>\n",
       "      <td>Sunshine Permit Service Inc</td>\n",
       "      <td>15723300.0</td>\n",
       "      <td>4378538.0</td>\n",
       "      <td>9725731.0</td>\n",
       "      <td>4383.810</td>\n",
       "      <td>15677</td>\n",
       "    </tr>\n",
       "    <tr>\n",
       "      <th>3</th>\n",
       "      <td>Owner</td>\n",
       "      <td>412917.0</td>\n",
       "      <td>202353.0</td>\n",
       "      <td>184278.0</td>\n",
       "      <td>837.500</td>\n",
       "      <td>12114</td>\n",
       "    </tr>\n",
       "    <tr>\n",
       "      <th>4</th>\n",
       "      <td>Permit Solutions</td>\n",
       "      <td>6200000.0</td>\n",
       "      <td>2142000.0</td>\n",
       "      <td>3528442.0</td>\n",
       "      <td>6056.970</td>\n",
       "      <td>11694</td>\n",
       "    </tr>\n",
       "    <tr>\n",
       "      <th>5</th>\n",
       "      <td>California Delta Mechanical</td>\n",
       "      <td>290000.0</td>\n",
       "      <td>116696.0</td>\n",
       "      <td>146102.0</td>\n",
       "      <td>651.000</td>\n",
       "      <td>10710</td>\n",
       "    </tr>\n",
       "    <tr>\n",
       "      <th>6</th>\n",
       "      <td>Barbara  Harris Permits</td>\n",
       "      <td>11507485.0</td>\n",
       "      <td>3442352.0</td>\n",
       "      <td>7782640.0</td>\n",
       "      <td>5216.680</td>\n",
       "      <td>8179</td>\n",
       "    </tr>\n",
       "    <tr>\n",
       "      <th>7</th>\n",
       "      <td>Barbara Harris Permitting Serv</td>\n",
       "      <td>936773.0</td>\n",
       "      <td>449484.5</td>\n",
       "      <td>368546.0</td>\n",
       "      <td>12594.535</td>\n",
       "      <td>6688</td>\n",
       "    </tr>\n",
       "    <tr>\n",
       "      <th>8</th>\n",
       "      <td>A &amp; J  Foster</td>\n",
       "      <td>274614.0</td>\n",
       "      <td>110000.0</td>\n",
       "      <td>136125.0</td>\n",
       "      <td>1860.000</td>\n",
       "      <td>6050</td>\n",
       "    </tr>\n",
       "    <tr>\n",
       "      <th>9</th>\n",
       "      <td>ARS</td>\n",
       "      <td>300700.0</td>\n",
       "      <td>126458.0</td>\n",
       "      <td>155951.0</td>\n",
       "      <td>239.500</td>\n",
       "      <td>5968</td>\n",
       "    </tr>\n",
       "    <tr>\n",
       "      <th>10</th>\n",
       "      <td>Permit Us</td>\n",
       "      <td>2900000.0</td>\n",
       "      <td>1095202.0</td>\n",
       "      <td>1280936.0</td>\n",
       "      <td>3318.950</td>\n",
       "      <td>5223</td>\n",
       "    </tr>\n",
       "    <tr>\n",
       "      <th>11</th>\n",
       "      <td>SOUTHERN CONTRACTING CO.</td>\n",
       "      <td>273500.0</td>\n",
       "      <td>135750.5</td>\n",
       "      <td>111031.0</td>\n",
       "      <td>3502.000</td>\n",
       "      <td>5164</td>\n",
       "    </tr>\n",
       "    <tr>\n",
       "      <th>12</th>\n",
       "      <td>Schmidt Fire Protection</td>\n",
       "      <td>25716014.0</td>\n",
       "      <td>4872235.0</td>\n",
       "      <td>18850000.0</td>\n",
       "      <td>7030.515</td>\n",
       "      <td>4952</td>\n",
       "    </tr>\n",
       "    <tr>\n",
       "      <th>13</th>\n",
       "      <td>Western Fire Protection</td>\n",
       "      <td>33262087.0</td>\n",
       "      <td>7074720.0</td>\n",
       "      <td>24100000.0</td>\n",
       "      <td>4273.260</td>\n",
       "      <td>4917</td>\n",
       "    </tr>\n",
       "    <tr>\n",
       "      <th>14</th>\n",
       "      <td>Pardee Homes</td>\n",
       "      <td>728000.0</td>\n",
       "      <td>325000.0</td>\n",
       "      <td>350000.0</td>\n",
       "      <td>177275.180</td>\n",
       "      <td>4483</td>\n",
       "    </tr>\n",
       "    <tr>\n",
       "      <th>15</th>\n",
       "      <td>S &amp; L Specialty Contractg Inc.</td>\n",
       "      <td>216411.0</td>\n",
       "      <td>129358.0</td>\n",
       "      <td>100668.0</td>\n",
       "      <td>19127.680</td>\n",
       "      <td>4039</td>\n",
       "    </tr>\n",
       "    <tr>\n",
       "      <th>16</th>\n",
       "      <td>PAM'S PERMITTING</td>\n",
       "      <td>34680000.0</td>\n",
       "      <td>6000000.0</td>\n",
       "      <td>27174687.0</td>\n",
       "      <td>6438.450</td>\n",
       "      <td>3935</td>\n",
       "    </tr>\n",
       "    <tr>\n",
       "      <th>17</th>\n",
       "      <td>Vivint Solar</td>\n",
       "      <td>298000.0</td>\n",
       "      <td>119285.0</td>\n",
       "      <td>147234.0</td>\n",
       "      <td>384.000</td>\n",
       "      <td>3883</td>\n",
       "    </tr>\n",
       "    <tr>\n",
       "      <th>18</th>\n",
       "      <td>Fast Water Heater</td>\n",
       "      <td>250911.0</td>\n",
       "      <td>95475.0</td>\n",
       "      <td>130978.0</td>\n",
       "      <td>372.000</td>\n",
       "      <td>3811</td>\n",
       "    </tr>\n",
       "    <tr>\n",
       "      <th>19</th>\n",
       "      <td>PAM'S PERMITING</td>\n",
       "      <td>13092570.0</td>\n",
       "      <td>5870111.0</td>\n",
       "      <td>8130739.0</td>\n",
       "      <td>11957.820</td>\n",
       "      <td>3676</td>\n",
       "    </tr>\n",
       "    <tr>\n",
       "      <th>20</th>\n",
       "      <td>Pam's Permitting</td>\n",
       "      <td>10463819.0</td>\n",
       "      <td>3810150.0</td>\n",
       "      <td>5000000.0</td>\n",
       "      <td>11073.210</td>\n",
       "      <td>3551</td>\n",
       "    </tr>\n",
       "    <tr>\n",
       "      <th>21</th>\n",
       "      <td>ASI Heating &amp; Air</td>\n",
       "      <td>280000.0</td>\n",
       "      <td>114282.0</td>\n",
       "      <td>138564.0</td>\n",
       "      <td>384.000</td>\n",
       "      <td>3539</td>\n",
       "    </tr>\n",
       "    <tr>\n",
       "      <th>22</th>\n",
       "      <td>Burger Construction</td>\n",
       "      <td>33150000.0</td>\n",
       "      <td>6000000.0</td>\n",
       "      <td>22993431.0</td>\n",
       "      <td>4601.270</td>\n",
       "      <td>3440</td>\n",
       "    </tr>\n",
       "    <tr>\n",
       "      <th>23</th>\n",
       "      <td>Precise Permits</td>\n",
       "      <td>316200.0</td>\n",
       "      <td>150000.0</td>\n",
       "      <td>162276.0</td>\n",
       "      <td>15803.260</td>\n",
       "      <td>3430</td>\n",
       "    </tr>\n",
       "    <tr>\n",
       "      <th>24</th>\n",
       "      <td>Jones Payne Group</td>\n",
       "      <td>250000.0</td>\n",
       "      <td>131028.0</td>\n",
       "      <td>114351.0</td>\n",
       "      <td>18031.230</td>\n",
       "      <td>3405</td>\n",
       "    </tr>\n",
       "    <tr>\n",
       "      <th>25</th>\n",
       "      <td>DELTA MECHANICAL</td>\n",
       "      <td>292351.0</td>\n",
       "      <td>119772.0</td>\n",
       "      <td>147256.5</td>\n",
       "      <td>165.000</td>\n",
       "      <td>3136</td>\n",
       "    </tr>\n",
       "    <tr>\n",
       "      <th>26</th>\n",
       "      <td>Sunshine Permits</td>\n",
       "      <td>16140000.0</td>\n",
       "      <td>4681800.0</td>\n",
       "      <td>10020000.0</td>\n",
       "      <td>5515.595</td>\n",
       "      <td>2896</td>\n",
       "    </tr>\n",
       "    <tr>\n",
       "      <th>27</th>\n",
       "      <td>Sunshine Permit</td>\n",
       "      <td>8400000.0</td>\n",
       "      <td>2564919.0</td>\n",
       "      <td>4200000.0</td>\n",
       "      <td>3581.880</td>\n",
       "      <td>2863</td>\n",
       "    </tr>\n",
       "    <tr>\n",
       "      <th>28</th>\n",
       "      <td>Affordable Water Heaters</td>\n",
       "      <td>342565.0</td>\n",
       "      <td>140777.0</td>\n",
       "      <td>168700.0</td>\n",
       "      <td>465.000</td>\n",
       "      <td>2825</td>\n",
       "    </tr>\n",
       "    <tr>\n",
       "      <th>29</th>\n",
       "      <td>owner</td>\n",
       "      <td>449076.0</td>\n",
       "      <td>232492.0</td>\n",
       "      <td>213170.0</td>\n",
       "      <td>1200.620</td>\n",
       "      <td>2683</td>\n",
       "    </tr>\n",
       "    <tr>\n",
       "      <th>30</th>\n",
       "      <td>Permits In Motion</td>\n",
       "      <td>768853.0</td>\n",
       "      <td>463500.0</td>\n",
       "      <td>310303.5</td>\n",
       "      <td>2828.580</td>\n",
       "      <td>2566</td>\n",
       "    </tr>\n",
       "    <tr>\n",
       "      <th>31</th>\n",
       "      <td>Jones Payne</td>\n",
       "      <td>263525.0</td>\n",
       "      <td>156860.0</td>\n",
       "      <td>112591.0</td>\n",
       "      <td>16706.080</td>\n",
       "      <td>2552</td>\n",
       "    </tr>\n",
       "    <tr>\n",
       "      <th>32</th>\n",
       "      <td>Bycor Construction</td>\n",
       "      <td>30000000.0</td>\n",
       "      <td>7000000.0</td>\n",
       "      <td>26500000.0</td>\n",
       "      <td>5043.070</td>\n",
       "      <td>2351</td>\n",
       "    </tr>\n",
       "    <tr>\n",
       "      <th>33</th>\n",
       "      <td>TIERRASANTA HEATING &amp; AIR</td>\n",
       "      <td>194884.5</td>\n",
       "      <td>86482.5</td>\n",
       "      <td>95148.0</td>\n",
       "      <td>489.500</td>\n",
       "      <td>2330</td>\n",
       "    </tr>\n",
       "    <tr>\n",
       "      <th>34</th>\n",
       "      <td>SolarCity</td>\n",
       "      <td>369040.0</td>\n",
       "      <td>169000.0</td>\n",
       "      <td>190311.0</td>\n",
       "      <td>394.000</td>\n",
       "      <td>2316</td>\n",
       "    </tr>\n",
       "    <tr>\n",
       "      <th>35</th>\n",
       "      <td>All Star Water Heater</td>\n",
       "      <td>248022.0</td>\n",
       "      <td>97989.5</td>\n",
       "      <td>130351.0</td>\n",
       "      <td>169.000</td>\n",
       "      <td>2278</td>\n",
       "    </tr>\n",
       "    <tr>\n",
       "      <th>36</th>\n",
       "      <td>Pacific Building Group</td>\n",
       "      <td>18840363.0</td>\n",
       "      <td>4200000.0</td>\n",
       "      <td>12800000.0</td>\n",
       "      <td>5839.320</td>\n",
       "      <td>2208</td>\n",
       "    </tr>\n",
       "    <tr>\n",
       "      <th>37</th>\n",
       "      <td>ANDERSON PLUMBING</td>\n",
       "      <td>304724.0</td>\n",
       "      <td>134984.0</td>\n",
       "      <td>147570.0</td>\n",
       "      <td>276.000</td>\n",
       "      <td>2202</td>\n",
       "    </tr>\n",
       "    <tr>\n",
       "      <th>38</th>\n",
       "      <td>Mission Pools</td>\n",
       "      <td>1328173.0</td>\n",
       "      <td>617738.5</td>\n",
       "      <td>600000.0</td>\n",
       "      <td>1120.200</td>\n",
       "      <td>2150</td>\n",
       "    </tr>\n",
       "    <tr>\n",
       "      <th>39</th>\n",
       "      <td>JJJ Enterprises</td>\n",
       "      <td>18840363.0</td>\n",
       "      <td>3075000.0</td>\n",
       "      <td>13260000.0</td>\n",
       "      <td>19810.870</td>\n",
       "      <td>2136</td>\n",
       "    </tr>\n",
       "    <tr>\n",
       "      <th>40</th>\n",
       "      <td>Rollins Const Consulting</td>\n",
       "      <td>1573173.0</td>\n",
       "      <td>1000000.0</td>\n",
       "      <td>400000.0</td>\n",
       "      <td>4755.940</td>\n",
       "      <td>2083</td>\n",
       "    </tr>\n",
       "    <tr>\n",
       "      <th>41</th>\n",
       "      <td>Sullivan Solar Power</td>\n",
       "      <td>505342.0</td>\n",
       "      <td>220254.0</td>\n",
       "      <td>244117.0</td>\n",
       "      <td>384.000</td>\n",
       "      <td>2042</td>\n",
       "    </tr>\n",
       "    <tr>\n",
       "      <th>42</th>\n",
       "      <td>DEBRA</td>\n",
       "      <td>330476.0</td>\n",
       "      <td>141328.0</td>\n",
       "      <td>169878.0</td>\n",
       "      <td>208.000</td>\n",
       "      <td>2038</td>\n",
       "    </tr>\n",
       "    <tr>\n",
       "      <th>43</th>\n",
       "      <td>BYCOR Construction</td>\n",
       "      <td>42887486.0</td>\n",
       "      <td>7544529.0</td>\n",
       "      <td>34000000.0</td>\n",
       "      <td>5965.890</td>\n",
       "      <td>2038</td>\n",
       "    </tr>\n",
       "    <tr>\n",
       "      <th>44</th>\n",
       "      <td>AllStar Water Heaters</td>\n",
       "      <td>263148.0</td>\n",
       "      <td>106665.0</td>\n",
       "      <td>134614.0</td>\n",
       "      <td>744.000</td>\n",
       "      <td>2027</td>\n",
       "    </tr>\n",
       "  </tbody>\n",
       "</table>\n",
       "</div>"
      ],
      "text/plain": [
       "                          FirmName   asr_total   asr_land    asr_impr  \\\n",
       "0                Permits in Motion    754000.0   384956.0    338131.0   \n",
       "1        Barbara Harris Permitting  10210841.0  2650000.0   6225410.0   \n",
       "2      Sunshine Permit Service Inc  15723300.0  4378538.0   9725731.0   \n",
       "3                            Owner    412917.0   202353.0    184278.0   \n",
       "4                 Permit Solutions   6200000.0  2142000.0   3528442.0   \n",
       "5      California Delta Mechanical    290000.0   116696.0    146102.0   \n",
       "6          Barbara  Harris Permits  11507485.0  3442352.0   7782640.0   \n",
       "7   Barbara Harris Permitting Serv    936773.0   449484.5    368546.0   \n",
       "8                    A & J  Foster    274614.0   110000.0    136125.0   \n",
       "9                              ARS    300700.0   126458.0    155951.0   \n",
       "10                       Permit Us   2900000.0  1095202.0   1280936.0   \n",
       "11        SOUTHERN CONTRACTING CO.    273500.0   135750.5    111031.0   \n",
       "12         Schmidt Fire Protection  25716014.0  4872235.0  18850000.0   \n",
       "13         Western Fire Protection  33262087.0  7074720.0  24100000.0   \n",
       "14                    Pardee Homes    728000.0   325000.0    350000.0   \n",
       "15  S & L Specialty Contractg Inc.    216411.0   129358.0    100668.0   \n",
       "16                PAM'S PERMITTING  34680000.0  6000000.0  27174687.0   \n",
       "17                    Vivint Solar    298000.0   119285.0    147234.0   \n",
       "18               Fast Water Heater    250911.0    95475.0    130978.0   \n",
       "19                PAM'S PERMITING   13092570.0  5870111.0   8130739.0   \n",
       "20                Pam's Permitting  10463819.0  3810150.0   5000000.0   \n",
       "21               ASI Heating & Air    280000.0   114282.0    138564.0   \n",
       "22             Burger Construction  33150000.0  6000000.0  22993431.0   \n",
       "23                 Precise Permits    316200.0   150000.0    162276.0   \n",
       "24               Jones Payne Group    250000.0   131028.0    114351.0   \n",
       "25                DELTA MECHANICAL    292351.0   119772.0    147256.5   \n",
       "26                Sunshine Permits  16140000.0  4681800.0  10020000.0   \n",
       "27                 Sunshine Permit   8400000.0  2564919.0   4200000.0   \n",
       "28        Affordable Water Heaters    342565.0   140777.0    168700.0   \n",
       "29                           owner    449076.0   232492.0    213170.0   \n",
       "30              Permits In Motion     768853.0   463500.0    310303.5   \n",
       "31                     Jones Payne    263525.0   156860.0    112591.0   \n",
       "32              Bycor Construction  30000000.0  7000000.0  26500000.0   \n",
       "33       TIERRASANTA HEATING & AIR    194884.5    86482.5     95148.0   \n",
       "34                       SolarCity    369040.0   169000.0    190311.0   \n",
       "35           All Star Water Heater    248022.0    97989.5    130351.0   \n",
       "36          Pacific Building Group  18840363.0  4200000.0  12800000.0   \n",
       "37               ANDERSON PLUMBING    304724.0   134984.0    147570.0   \n",
       "38                   Mission Pools   1328173.0   617738.5    600000.0   \n",
       "39                 JJJ Enterprises  18840363.0  3075000.0  13260000.0   \n",
       "40        Rollins Const Consulting   1573173.0  1000000.0    400000.0   \n",
       "41            Sullivan Solar Power    505342.0   220254.0    244117.0   \n",
       "42                           DEBRA    330476.0   141328.0    169878.0   \n",
       "43              BYCOR Construction  42887486.0  7544529.0  34000000.0   \n",
       "44           AllStar Water Heaters    263148.0   106665.0    134614.0   \n",
       "\n",
       "    TotalAmount  count  \n",
       "0      2585.120  24425  \n",
       "1      5247.305  16564  \n",
       "2      4383.810  15677  \n",
       "3       837.500  12114  \n",
       "4      6056.970  11694  \n",
       "5       651.000  10710  \n",
       "6      5216.680   8179  \n",
       "7     12594.535   6688  \n",
       "8      1860.000   6050  \n",
       "9       239.500   5968  \n",
       "10     3318.950   5223  \n",
       "11     3502.000   5164  \n",
       "12     7030.515   4952  \n",
       "13     4273.260   4917  \n",
       "14   177275.180   4483  \n",
       "15    19127.680   4039  \n",
       "16     6438.450   3935  \n",
       "17      384.000   3883  \n",
       "18      372.000   3811  \n",
       "19    11957.820   3676  \n",
       "20    11073.210   3551  \n",
       "21      384.000   3539  \n",
       "22     4601.270   3440  \n",
       "23    15803.260   3430  \n",
       "24    18031.230   3405  \n",
       "25      165.000   3136  \n",
       "26     5515.595   2896  \n",
       "27     3581.880   2863  \n",
       "28      465.000   2825  \n",
       "29     1200.620   2683  \n",
       "30     2828.580   2566  \n",
       "31    16706.080   2552  \n",
       "32     5043.070   2351  \n",
       "33      489.500   2330  \n",
       "34      394.000   2316  \n",
       "35      169.000   2278  \n",
       "36     5839.320   2208  \n",
       "37      276.000   2202  \n",
       "38     1120.200   2150  \n",
       "39    19810.870   2136  \n",
       "40     4755.940   2083  \n",
       "41      384.000   2042  \n",
       "42      208.000   2038  \n",
       "43     5965.890   2038  \n",
       "44      744.000   2027  "
      ]
     },
     "execution_count": 74,
     "metadata": {},
     "output_type": "execute_result"
    }
   ],
   "source": [
    "tmp = d[['FirmName','asr_total','asr_land','asr_impr','TotalAmount']]\n",
    "t = tmp.groupby('FirmName').agg(np.median)\n",
    "t['count'] = tmp.groupby('FirmName').size()\n",
    "t.sort('count',ascending=False)[:45].reset_index()"
   ]
  },
  {
   "cell_type": "markdown",
   "metadata": {
    "collapsed": true
   },
   "source": [
    "####Verdict: We need to look at owners, not customers."
   ]
  }
 ],
 "metadata": {
  "kernelspec": {
   "display_name": "Python 2",
   "language": "python",
   "name": "python2"
  },
  "language_info": {
   "codemirror_mode": {
    "name": "ipython",
    "version": 2
   },
   "file_extension": ".py",
   "mimetype": "text/x-python",
   "name": "python",
   "nbconvert_exporter": "python",
   "pygments_lexer": "ipython2",
   "version": "2.7.10"
  }
 },
 "nbformat": 4,
 "nbformat_minor": 0
}
