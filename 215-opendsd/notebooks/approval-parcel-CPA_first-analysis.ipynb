{
 "cells": [
  {
   "cell_type": "code",
   "execution_count": 1,
   "metadata": {
    "collapsed": true
   },
   "outputs": [],
   "source": [
    "import pandas as pd"
   ]
  },
  {
   "cell_type": "code",
   "execution_count": 11,
   "metadata": {
    "collapsed": false
   },
   "outputs": [],
   "source": [
    "d = pd.read_csv('/Users/damoncrockett/vosd.org/215-opendsd/tables/approvals_parcels_CPA.csv')"
   ]
  },
  {
   "cell_type": "code",
   "execution_count": 13,
   "metadata": {
    "collapsed": true
   },
   "outputs": [],
   "source": [
    "del d['Unnamed: 0']\n",
    "del d['situs_juri']"
   ]
  },
  {
   "cell_type": "code",
   "execution_count": 14,
   "metadata": {
    "collapsed": false
   },
   "outputs": [
    {
     "data": {
      "text/plain": [
       "360725"
      ]
     },
     "execution_count": 14,
     "metadata": {},
     "output_type": "execute_result"
    }
   ],
   "source": [
    "len(d.ApprovalId.value_counts())"
   ]
  },
  {
   "cell_type": "code",
   "execution_count": 15,
   "metadata": {
    "collapsed": false
   },
   "outputs": [
    {
     "name": "stdout",
     "output_type": "stream",
     "text": [
      "<class 'pandas.core.frame.DataFrame'>\n",
      "Int64Index: 360725 entries, 0 to 360724\n",
      "Data columns (total 30 columns):\n",
      "APN                360725 non-null int64\n",
      "ApplicationYear    360725 non-null int64\n",
      "TimetoIssue        314060 non-null float64\n",
      "Status             360725 non-null object\n",
      "StreetAddress      360725 non-null object\n",
      "Type               360725 non-null object\n",
      "category           358956 non-null object\n",
      "ProjectId          360725 non-null int64\n",
      "ApprovalId         360725 non-null int64\n",
      "Latitude           360725 non-null float64\n",
      "Longitude          360725 non-null float64\n",
      "CPA                360488 non-null object\n",
      "asr_land           330699 non-null float64\n",
      "asr_impr           330699 non-null float64\n",
      "asr_total          330699 non-null float64\n",
      "shape_area         330699 non-null float64\n",
      "own_name1          330699 non-null object\n",
      "own_name2          23457 non-null object\n",
      "own_name3          2890 non-null object\n",
      "ownerocc           132909 non-null object\n",
      "taxstat            330699 non-null object\n",
      "tranum             330699 non-null float64\n",
      "nucleus_zo         330699 non-null float64\n",
      "asr_landus         330699 non-null float64\n",
      "nucleus_us         330699 non-null float64\n",
      "unitqty            330699 non-null float64\n",
      "multi              320885 non-null object\n",
      "lat                330699 non-null float64\n",
      "lon                330699 non-null float64\n",
      "community_name     330699 non-null object\n",
      "dtypes: float64(14), int64(4), object(12)\n",
      "memory usage: 85.3+ MB\n"
     ]
    }
   ],
   "source": [
    "d.info()"
   ]
  },
  {
   "cell_type": "code",
   "execution_count": 26,
   "metadata": {
    "collapsed": false
   },
   "outputs": [
    {
     "data": {
      "text/plain": [
       "1    53042\n",
       "0    11672\n",
       "2     1090\n",
       "4      583\n",
       "3      568\n",
       "dtype: int64"
      ]
     },
     "execution_count": 26,
     "metadata": {},
     "output_type": "execute_result"
    }
   ],
   "source": [
    "d[d.nucleus_zo==60].unitqty.value_counts().head()"
   ]
  }
 ],
 "metadata": {
  "kernelspec": {
   "display_name": "Python 2",
   "language": "python",
   "name": "python2"
  },
  "language_info": {
   "codemirror_mode": {
    "name": "ipython",
    "version": 2
   },
   "file_extension": ".py",
   "mimetype": "text/x-python",
   "name": "python",
   "nbconvert_exporter": "python",
   "pygments_lexer": "ipython2",
   "version": "2.7.6"
  }
 },
 "nbformat": 4,
 "nbformat_minor": 0
}
