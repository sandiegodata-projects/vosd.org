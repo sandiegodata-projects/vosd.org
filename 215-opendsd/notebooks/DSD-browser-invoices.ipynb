{
 "cells": [
  {
   "cell_type": "code",
   "execution_count": 301,
   "metadata": {
    "collapsed": false
   },
   "outputs": [],
   "source": [
    "import sqlite3\n",
    "import json"
   ]
  },
  {
   "cell_type": "code",
   "execution_count": 306,
   "metadata": {
    "collapsed": false
   },
   "outputs": [],
   "source": [
    "con = sqlite3.connect('/Users/damoncrockett/Dropbox/thinkpad_desktop_2/DSD_sqlite_db/invoices.db')\n",
    "cur = con.cursor()"
   ]
  },
  {
   "cell_type": "code",
   "execution_count": 307,
   "metadata": {
    "collapsed": false
   },
   "outputs": [],
   "source": [
    "row = cur.execute('SELECT data FROM json')"
   ]
  },
  {
   "cell_type": "code",
   "execution_count": 319,
   "metadata": {
    "collapsed": false
   },
   "outputs": [],
   "source": [
    "d = json.loads(str(row.fetchone()[0]).decode('zlib'))\n",
    "#d"
   ]
  },
  {
   "cell_type": "code",
   "execution_count": 15,
   "metadata": {
    "collapsed": false
   },
   "outputs": [
    {
     "data": {
      "text/plain": [
       "[u'Status',\n",
       " u'InvoiceId',\n",
       " u'CustomerName',\n",
       " u'PaidDate',\n",
       " u'IssueDate',\n",
       " u'InvoiceNotes',\n",
       " u'ReverseDate',\n",
       " u'Header',\n",
       " u'InvoiceRevenue',\n",
       " u'ProjectDetails',\n",
       " u'TotalAmount',\n",
       " u'InvoiceTotalAmount',\n",
       " u'IssuedBy',\n",
       " u'CustomerFirmName']"
      ]
     },
     "execution_count": 15,
     "metadata": {},
     "output_type": "execute_result"
    }
   ],
   "source": [
    "d.keys()"
   ]
  },
  {
   "cell_type": "code",
   "execution_count": 329,
   "metadata": {
    "collapsed": false
   },
   "outputs": [
    {
     "data": {
      "text/plain": [
       "{u'ApprovalId': 11674,\n",
       " u'FeeAmount': 30.0,\n",
       " u'FeeAuthority': u'Municipal Code',\n",
       " u'FeeDescription': u'Heat Pump Package Unit (PC)',\n",
       " u'FeeQuantityRequired': u'2',\n",
       " u'FeeTypeId': 619,\n",
       " u'FeeTypeUnit': u'Each',\n",
       " u'InvoiceCalcRules': [{u'BaseIncrement': u'1',\n",
       "   u'BaseQuantity': u'0',\n",
       "   u'FeeRule': u'$15.00 each = $30.00',\n",
       "   u'FeeSurchargeRules': [],\n",
       "   u'FeeThresholdId': 1132,\n",
       "   u'InvoiceDetailId': 78,\n",
       "   u'PreSurchargeAmt': 30.0,\n",
       "   u'PreviousCreditAmt': u'',\n",
       "   u'RuleRate': u'15',\n",
       "   u'RuleRateAmt': 0.0}],\n",
       " u'InvoiceDetialId': 78,\n",
       " u'InvoiceId': 1035,\n",
       " u'JobId': 10746,\n",
       " u'PreviousCreditInv': u'',\n",
       " u'ProjectId': 7101}"
      ]
     },
     "execution_count": 329,
     "metadata": {},
     "output_type": "execute_result"
    }
   ],
   "source": [
    "d['ProjectDetails'][0]['Jobs'][0]['ApprovalInfo'][0]['ApprovalFees'][0]"
   ]
  },
  {
   "cell_type": "code",
   "execution_count": null,
   "metadata": {
    "collapsed": true
   },
   "outputs": [],
   "source": []
  }
 ],
 "metadata": {
  "kernelspec": {
   "display_name": "Python 2",
   "language": "python",
   "name": "python2"
  },
  "language_info": {
   "codemirror_mode": {
    "name": "ipython",
    "version": 2
   },
   "file_extension": ".py",
   "mimetype": "text/x-python",
   "name": "python",
   "nbconvert_exporter": "python",
   "pygments_lexer": "ipython2",
   "version": "2.7.10"
  }
 },
 "nbformat": 4,
 "nbformat_minor": 0
}
