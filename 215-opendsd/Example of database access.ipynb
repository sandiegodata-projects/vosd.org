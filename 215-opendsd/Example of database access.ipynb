{
 "metadata": {
  "name": "",
  "signature": "sha256:95d745659acf03030d99004dddc968fdc92c902d6a69133f2f66ab2c528c43d3"
 },
 "nbformat": 3,
 "nbformat_minor": 0,
 "worksheets": [
  {
   "cells": [
    {
     "cell_type": "code",
     "collapsed": false,
     "input": [],
     "language": "python",
     "metadata": {},
     "outputs": []
    }
   ],
   "metadata": {}
  }
 ]
}