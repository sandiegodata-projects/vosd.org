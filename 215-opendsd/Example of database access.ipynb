{
 "metadata": {
  "name": "",
  "signature": "sha256:b97eaf0cd48a07e2b70dcf57cf34c8013b163c35f4f3657b46509ea5a223dcf6"
 },
 "nbformat": 3,
 "nbformat_minor": 0,
 "worksheets": [
  {
   "cells": [
    {
     "cell_type": "heading",
     "level": 1,
     "metadata": {},
     "source": [
      "San Diego Development OpenDSD Analysis"
     ]
    },
    {
     "cell_type": "markdown",
     "metadata": {},
     "source": [
      "Basic analysis of the data scrpaed from the OpenDSD API. \n",
      "\n",
      "[Issue 215](http://redmine.civicknowledge.com/issues/215)"
     ]
    },
    {
     "cell_type": "code",
     "collapsed": false,
     "input": [
      "import pandas as pd\n",
      "import sqlite3\n",
      "import matplotlib.pylab as plt\n",
      "import numpy as np\n",
      "import os\n",
      "%matplotlib inline\n"
     ],
     "language": "python",
     "metadata": {},
     "outputs": []
    },
    {
     "cell_type": "code",
     "collapsed": false,
     "input": [
      "import gzip\n",
      "  \n",
      "def download_ambry_db(url,name):  \n",
      "    \"\"\"Download an Ambry database file from the repository. \"\"\"\n",
      "    import gzip\n",
      "    import sys\n",
      "    \n",
      "    if not os.path.exists(name+'.gz'):\n",
      "        print 'Downloading:', url\n",
      "        sys.stdout.flush()\n",
      "        import urllib\n",
      "        urllib.urlretrieve (url, name+'.gz')\n",
      "    else:\n",
      "        print 'Already downloaded:', url\n",
      "        sys.stdout.flush()\n",
      "\n",
      "    if not os.path.exists(name):\n",
      "        print 'Extracting to:',name\n",
      "        sys.stdout.flush()\n",
      "        with open(name,'wb') as out_f, gzip.open(name+'.gz', 'rb') as in_f:\n",
      "            out_f.write(in_f.read())   \n",
      "    else:\n",
      "        print 'Already extracted:', name\n",
      "        sys.stdout.flush()\n"
     ],
     "language": "python",
     "metadata": {},
     "outputs": []
    },
    {
     "cell_type": "code",
     "collapsed": false,
     "input": [
      "download_ambry_db(\"http://s3.sandiegodata.org/library/sandiego.gov/opendsd-json-0.0.1/json/projects.db\", \"projects.db\")   "
     ],
     "language": "python",
     "metadata": {},
     "outputs": []
    },
    {
     "cell_type": "code",
     "collapsed": false,
     "input": [
      "# COnnect to the downloaded database and get a cursor so we can run queries. \n",
      "con = sqlite3.connect(\"projects.db\")\n",
      "cur = con.cursor()"
     ],
     "language": "python",
     "metadata": {},
     "outputs": []
    },
    {
     "cell_type": "code",
     "collapsed": false,
     "input": [
      "# Get an example work to look for the data structure. \n",
      "import json\n",
      "row = cur.execute('SELECT data FROM json LIMIT 1').fetchone()\n",
      "d = json.loads(str(row[0]).decode('zlib'))\n",
      "d.keys()"
     ],
     "language": "python",
     "metadata": {},
     "outputs": []
    },
    {
     "cell_type": "code",
     "collapsed": false,
     "input": [
      "# Now we can iterate over the data structure and do something interesting. \n",
      "for row in cur.execute('SELECT data FROM json LIMIT 10'):\n",
      "    d = json.loads(str(row[0]).decode('zlib'))\n",
      "    print d['DevelopmentId'], d['Fees']\n"
     ],
     "language": "python",
     "metadata": {},
     "outputs": []
    },
    {
     "cell_type": "code",
     "collapsed": false,
     "input": [
      "# create a generator to iterate over a particular type of object\n",
      "def gen_fees(cur):\n",
      "    for row in cur.execute('SELECT data FROM json'):\n",
      "        d = json.loads(str(row[0]).decode('zlib'))\n",
      "        if 'Fees' in d and d['Fees']:\n",
      "            for fee in d['Fees']:\n",
      "                yield fee\n",
      "   \n",
      "# Example of looping over the generator\n",
      "for i, row in enumerate(gen_fees(cur)):\n",
      "    if i > 10: break\n",
      "        \n",
      "    print row\n",
      "    "
     ],
     "language": "python",
     "metadata": {},
     "outputs": [
      {
       "output_type": "stream",
       "stream": "stdout",
       "text": [
        "{u'Category': u'Plan Check Fees', u'InvoiceId': 107465, u'Description': u'Deposit Account', u'ProjectId': 1040, u'InvoiceStatus': u'Paid on ', u'QuantityRequired': 3000, u'QuantityPaid': 3000, u'FeeId': 1656, u'Unit': u'Dollars'}\n",
        "{u'Category': u'Plan Check Fees', u'InvoiceId': 107464, u'Description': u'Deposit Account', u'ProjectId': 1041, u'InvoiceStatus': u'Paid on ', u'QuantityRequired': 1700, u'QuantityPaid': 1700, u'FeeId': 1656, u'Unit': u'Dollars'}\n",
        "{u'Category': u'Plan Check Fees', u'InvoiceId': 138746, u'Description': u'Deposit Account', u'ProjectId': 1096, u'InvoiceStatus': u'Paid on ', u'QuantityRequired': 5500, u'QuantityPaid': 5500, u'FeeId': 1656, u'Unit': u'Dollars'}\n",
        "{u'Category': u'Plan Check Fees', u'InvoiceId': 78488, u'Description': u'Deposit Account', u'ProjectId': 1102, u'InvoiceStatus': u'Paid on ', u'QuantityRequired': 4490, u'QuantityPaid': 4490, u'FeeId': 1656, u'Unit': u'Dollars'}\n",
        "{u'Category': u'Plan Check Fees', u'InvoiceId': 79269, u'Description': u'Deposit Acct (Pre 8-2-03)', u'ProjectId': 1164, u'InvoiceStatus': u'Paid on ', u'QuantityRequired': 2500, u'QuantityPaid': 2500, u'FeeId': 1317, u'Unit': u'Each'}\n",
        "{u'Category': u'Plan Check Fees', u'InvoiceId': 22932, u'Description': u'Deposit Account', u'ProjectId': 1287, u'InvoiceStatus': u'Paid on ', u'QuantityRequired': 10661, u'QuantityPaid': 10661, u'FeeId': 1656, u'Unit': u'Dollars'}\n",
        "{u'Category': u'Plan Check Fees', u'InvoiceId': 216989, u'Description': u'Deposit Account', u'ProjectId': 1395, u'InvoiceStatus': u'Paid on ', u'QuantityRequired': 15467, u'QuantityPaid': 15467, u'FeeId': 1656, u'Unit': u'Dollars'}\n",
        "{u'Category': u'Plan Check Fees', u'InvoiceId': 113664, u'Description': u'Deposit Account', u'ProjectId': 1606, u'InvoiceStatus': u'Requires Invoice', u'QuantityRequired': 10059, u'QuantityPaid': 3499, u'FeeId': 1656, u'Unit': u'Dollars'}\n",
        "{u'Category': u'Plan Check Fees', u'InvoiceId': 235014, u'Description': u'Deposit Account Pre 8-2-2003', u'ProjectId': 1704, u'InvoiceStatus': u'Paid on ', u'QuantityRequired': 11000, u'QuantityPaid': 11000, u'FeeId': 2955, u'Unit': u'Dollars'}\n",
        "{u'Category': u'Plan Check Fees', u'InvoiceId': 222608, u'Description': u'Deposit Account Pre 8-2-2003', u'ProjectId': 1706, u'InvoiceStatus': u'Paid on ', u'QuantityRequired': 7000, u'QuantityPaid': 7000, u'FeeId': 2955, u'Unit': u'Dollars'}\n",
        "{u'Category': u'Plan Check Fees', u'InvoiceId': 255428, u'Description': u'Deposit Account Pre 8-2-2003', u'ProjectId': 1707, u'InvoiceStatus': u'Paid on ', u'QuantityRequired': 22500, u'QuantityPaid': 22500, u'FeeId': 2955, u'Unit': u'Dollars'}\n"
       ]
      }
     ],
     "prompt_number": 44
    },
    {
     "cell_type": "code",
     "collapsed": false,
     "input": [
      "# Then, we can create a dataframe from a list comprehension\n",
      "# FOr Fees, this is 287K records, so this will be slow. \n",
      "df = pd.DataFrame(gen_fees(cur))\n",
      "    \n"
     ],
     "language": "python",
     "metadata": {},
     "outputs": [],
     "prompt_number": 47
    },
    {
     "cell_type": "code",
     "collapsed": false,
     "input": [
      "df.head()"
     ],
     "language": "python",
     "metadata": {},
     "outputs": [
      {
       "html": [
        "<div style=\"max-height:1000px;max-width:1500px;overflow:auto;\">\n",
        "<table border=\"1\" class=\"dataframe\">\n",
        "  <thead>\n",
        "    <tr style=\"text-align: right;\">\n",
        "      <th></th>\n",
        "      <th>Category</th>\n",
        "      <th>Description</th>\n",
        "      <th>FeeId</th>\n",
        "      <th>InvoiceId</th>\n",
        "      <th>InvoiceStatus</th>\n",
        "      <th>ProjectId</th>\n",
        "      <th>QuantityPaid</th>\n",
        "      <th>QuantityRequired</th>\n",
        "      <th>Unit</th>\n",
        "    </tr>\n",
        "  </thead>\n",
        "  <tbody>\n",
        "    <tr>\n",
        "      <th>0</th>\n",
        "      <td> Plan Check Fees</td>\n",
        "      <td>           Deposit Account</td>\n",
        "      <td> 1656</td>\n",
        "      <td> 107465</td>\n",
        "      <td> Paid on </td>\n",
        "      <td> 1040</td>\n",
        "      <td> 3000</td>\n",
        "      <td> 3000</td>\n",
        "      <td> Dollars</td>\n",
        "    </tr>\n",
        "    <tr>\n",
        "      <th>1</th>\n",
        "      <td> Plan Check Fees</td>\n",
        "      <td>           Deposit Account</td>\n",
        "      <td> 1656</td>\n",
        "      <td> 107464</td>\n",
        "      <td> Paid on </td>\n",
        "      <td> 1041</td>\n",
        "      <td> 1700</td>\n",
        "      <td> 1700</td>\n",
        "      <td> Dollars</td>\n",
        "    </tr>\n",
        "    <tr>\n",
        "      <th>2</th>\n",
        "      <td> Plan Check Fees</td>\n",
        "      <td>           Deposit Account</td>\n",
        "      <td> 1656</td>\n",
        "      <td> 138746</td>\n",
        "      <td> Paid on </td>\n",
        "      <td> 1096</td>\n",
        "      <td> 5500</td>\n",
        "      <td> 5500</td>\n",
        "      <td> Dollars</td>\n",
        "    </tr>\n",
        "    <tr>\n",
        "      <th>3</th>\n",
        "      <td> Plan Check Fees</td>\n",
        "      <td>           Deposit Account</td>\n",
        "      <td> 1656</td>\n",
        "      <td>  78488</td>\n",
        "      <td> Paid on </td>\n",
        "      <td> 1102</td>\n",
        "      <td> 4490</td>\n",
        "      <td> 4490</td>\n",
        "      <td> Dollars</td>\n",
        "    </tr>\n",
        "    <tr>\n",
        "      <th>4</th>\n",
        "      <td> Plan Check Fees</td>\n",
        "      <td> Deposit Acct (Pre 8-2-03)</td>\n",
        "      <td> 1317</td>\n",
        "      <td>  79269</td>\n",
        "      <td> Paid on </td>\n",
        "      <td> 1164</td>\n",
        "      <td> 2500</td>\n",
        "      <td> 2500</td>\n",
        "      <td>    Each</td>\n",
        "    </tr>\n",
        "  </tbody>\n",
        "</table>\n",
        "</div>"
       ],
       "metadata": {},
       "output_type": "pyout",
       "prompt_number": 49,
       "text": [
        "          Category                Description  FeeId  InvoiceId InvoiceStatus  \\\n",
        "0  Plan Check Fees            Deposit Account   1656     107465      Paid on    \n",
        "1  Plan Check Fees            Deposit Account   1656     107464      Paid on    \n",
        "2  Plan Check Fees            Deposit Account   1656     138746      Paid on    \n",
        "3  Plan Check Fees            Deposit Account   1656      78488      Paid on    \n",
        "4  Plan Check Fees  Deposit Acct (Pre 8-2-03)   1317      79269      Paid on    \n",
        "\n",
        "   ProjectId  QuantityPaid  QuantityRequired     Unit  \n",
        "0       1040          3000              3000  Dollars  \n",
        "1       1041          1700              1700  Dollars  \n",
        "2       1096          5500              5500  Dollars  \n",
        "3       1102          4490              4490  Dollars  \n",
        "4       1164          2500              2500     Each  "
       ]
      }
     ],
     "prompt_number": 49
    },
    {
     "cell_type": "code",
     "collapsed": false,
     "input": [
      "df.groupby('FeeId').sum().head()"
     ],
     "language": "python",
     "metadata": {},
     "outputs": [
      {
       "html": [
        "<div style=\"max-height:1000px;max-width:1500px;overflow:auto;\">\n",
        "<table border=\"1\" class=\"dataframe\">\n",
        "  <thead>\n",
        "    <tr style=\"text-align: right;\">\n",
        "      <th></th>\n",
        "      <th>InvoiceId</th>\n",
        "      <th>ProjectId</th>\n",
        "      <th>QuantityPaid</th>\n",
        "      <th>QuantityRequired</th>\n",
        "    </tr>\n",
        "    <tr>\n",
        "      <th>FeeId</th>\n",
        "      <th></th>\n",
        "      <th></th>\n",
        "      <th></th>\n",
        "      <th></th>\n",
        "    </tr>\n",
        "  </thead>\n",
        "  <tbody>\n",
        "    <tr>\n",
        "      <th>698 </th>\n",
        "      <td>   519810</td>\n",
        "      <td> 1143739</td>\n",
        "      <td>     109</td>\n",
        "      <td>     308</td>\n",
        "    </tr>\n",
        "    <tr>\n",
        "      <th>1280</th>\n",
        "      <td>     3759</td>\n",
        "      <td>    6970</td>\n",
        "      <td>       1</td>\n",
        "      <td>       1</td>\n",
        "    </tr>\n",
        "    <tr>\n",
        "      <th>1281</th>\n",
        "      <td>     6520</td>\n",
        "      <td>   16355</td>\n",
        "      <td>       2</td>\n",
        "      <td>       2</td>\n",
        "    </tr>\n",
        "    <tr>\n",
        "      <th>1317</th>\n",
        "      <td>  6341947</td>\n",
        "      <td> 1253552</td>\n",
        "      <td> 1214860</td>\n",
        "      <td> 1464054</td>\n",
        "    </tr>\n",
        "    <tr>\n",
        "      <th>1400</th>\n",
        "      <td> 10748236</td>\n",
        "      <td> 5025918</td>\n",
        "      <td>     444</td>\n",
        "      <td>     443</td>\n",
        "    </tr>\n",
        "  </tbody>\n",
        "</table>\n",
        "</div>"
       ],
       "metadata": {},
       "output_type": "pyout",
       "prompt_number": 53,
       "text": [
        "       InvoiceId  ProjectId  QuantityPaid  QuantityRequired\n",
        "FeeId                                                      \n",
        "698       519810    1143739           109               308\n",
        "1280        3759       6970             1                 1\n",
        "1281        6520      16355             2                 2\n",
        "1317     6341947    1253552       1214860           1464054\n",
        "1400    10748236    5025918           444               443"
       ]
      }
     ],
     "prompt_number": 53
    },
    {
     "cell_type": "code",
     "collapsed": false,
     "input": [],
     "language": "python",
     "metadata": {},
     "outputs": []
    }
   ],
   "metadata": {}
  }
 ]
}