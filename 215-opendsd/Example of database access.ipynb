{
 "metadata": {
  "name": "",
  "signature": "sha256:00a29c24f8cd70ddff47ef7f365b28978d40d2a4e2c812603a522d57c7159b4e"
 },
 "nbformat": 3,
 "nbformat_minor": 0,
 "worksheets": [
  {
   "cells": [
    {
     "cell_type": "heading",
     "level": 1,
     "metadata": {},
     "source": [
      "San Diego Development OpenDSD Analysis"
     ]
    },
    {
     "cell_type": "markdown",
     "metadata": {},
     "source": [
      "Basic analysis of the data scrpaed from the OpenDSD API. \n",
      "\n",
      "[Issue 215](http://redmine.civicknowledge.com/issues/215)"
     ]
    },
    {
     "cell_type": "code",
     "collapsed": false,
     "input": [
      "import pandas as pd\n",
      "import sqlite3\n",
      "import matplotlib.pylab as plt\n",
      "import numpy as np\n",
      "import os\n",
      "%matplotlib inline\n"
     ],
     "language": "python",
     "metadata": {},
     "outputs": [],
     "prompt_number": 13
    },
    {
     "cell_type": "code",
     "collapsed": false,
     "input": [
      "import gzip\n",
      "  \n",
      "def download_ambry_db(url,name):  \n",
      "    \"\"\"Download an Ambry database file from the repository. \"\"\"\n",
      "    import gzip\n",
      "    import sys\n",
      "    \n",
      "    if not os.path.exists(name+'.gz'):\n",
      "        print 'Downloading:', url\n",
      "        sys.stdout.flush()\n",
      "        import urllib\n",
      "        urllib.urlretrieve (url, name+'.gz')\n",
      "    else:\n",
      "        print 'Already downloaded:', url\n",
      "        sys.stdout.flush()\n",
      "\n",
      "    if not os.path.exists(name):\n",
      "        print 'Extracting to:',name\n",
      "        sys.stdout.flush()\n",
      "        with open(name,'wb') as out_f, gzip.open(name+'.gz', 'rb') as in_f:\n",
      "            out_f.write(in_f.read())   \n",
      "    else:\n",
      "        print 'Already extracted:', name\n",
      "        sys.stdout.flush()\n"
     ],
     "language": "python",
     "metadata": {},
     "outputs": [],
     "prompt_number": 23
    },
    {
     "cell_type": "code",
     "collapsed": false,
     "input": [
      "download_ambry_db(\"http://s3.sandiegodata.org/library/sandiego.gov/opendsd-json-0.0.1/json/projects.db\", \"projects.db\")   "
     ],
     "language": "python",
     "metadata": {},
     "outputs": [
      {
       "output_type": "stream",
       "stream": "stdout",
       "text": [
        "Already downloaded: http://s3.sandiegodata.org/library/sandiego.gov/opendsd-json-0.0.1/json/projects.db\n"
       ]
      },
      {
       "output_type": "stream",
       "stream": "stdout",
       "text": [
        "Already extracted: projects.db\n"
       ]
      }
     ],
     "prompt_number": 24
    },
    {
     "cell_type": "code",
     "collapsed": false,
     "input": [],
     "language": "python",
     "metadata": {},
     "outputs": []
    }
   ],
   "metadata": {}
  }
 ]
}