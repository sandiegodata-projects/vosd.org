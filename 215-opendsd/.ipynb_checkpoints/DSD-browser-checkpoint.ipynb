{
 "metadata": {
  "name": "",
  "signature": "sha256:d6c47b47934d9f8f2db7f87c1e6b361b414ce9251282733ff54d5dc60d950c98"
 },
 "nbformat": 3,
 "nbformat_minor": 0,
 "worksheets": [
  {
   "cells": [
    {
     "cell_type": "code",
     "collapsed": false,
     "input": [
      "%matplotlib inline\n",
      "import pandas as pd\n",
      "import sqlite3\n",
      "import json\n",
      "import dateutil.parser\n",
      "import datetime\n",
      "import os\n",
      "import gzip\n",
      "import numpy as np\n",
      "import matplotlib.pyplot as plt\n",
      "from scipy.stats import *"
     ],
     "language": "python",
     "metadata": {},
     "outputs": [],
     "prompt_number": 1
    },
    {
     "cell_type": "code",
     "collapsed": false,
     "input": [
      "con = sqlite3.connect('/home/damoncrockett/Desktop/DSD_sqlite_db/projects.db')\n",
      "cur = con.cursor()"
     ],
     "language": "python",
     "metadata": {},
     "outputs": [],
     "prompt_number": 2
    },
    {
     "cell_type": "code",
     "collapsed": false,
     "input": [
      "row = cur.execute('SELECT data FROM json')"
     ],
     "language": "python",
     "metadata": {},
     "outputs": [],
     "prompt_number": 3
    },
    {
     "cell_type": "code",
     "collapsed": false,
     "input": [
      "d = json.loads(str(row.fetchone()[0]).decode('zlib'))\n",
      "d.keys()"
     ],
     "language": "python",
     "metadata": {},
     "outputs": [
      {
       "metadata": {},
       "output_type": "pyout",
       "prompt_number": 5,
       "text": [
        "[u'ApplicationExpiration',\n",
        " u'Customers',\n",
        " u'ProjectManagerId',\n",
        " u'Jobs',\n",
        " u'AccountNum',\n",
        " u'Title',\n",
        " u'Invoices',\n",
        " u'ProjectId',\n",
        " u'JobOrderNum',\n",
        " u'ApplicationExpired',\n",
        " u'Header',\n",
        " u'DevelopmentId',\n",
        " u'AdminHold',\n",
        " u'ReviewCycles',\n",
        " u'Fees',\n",
        " u'Scope',\n",
        " u'ProjectManager',\n",
        " u'ApplicationDate',\n",
        " u'DevelopmentTitle']"
       ]
      }
     ],
     "prompt_number": 5
    }
   ],
   "metadata": {}
  }
 ]
}