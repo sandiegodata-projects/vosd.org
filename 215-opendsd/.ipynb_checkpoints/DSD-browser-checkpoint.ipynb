{
 "metadata": {
  "name": "",
  "signature": "sha256:d39f52e57dcbdebe5857ad283917a62902d035ce319786892ae622580bf6b0f4"
 },
 "nbformat": 3,
 "nbformat_minor": 0,
 "worksheets": [
  {
   "cells": [
    {
     "cell_type": "code",
     "collapsed": false,
     "input": [
      "%matplotlib inline\n",
      "import pandas as pd\n",
      "import sqlite3\n",
      "import json\n",
      "import dateutil.parser\n",
      "import datetime\n",
      "import os\n",
      "import gzip\n",
      "import numpy as np\n",
      "import matplotlib.pyplot as plt\n",
      "from scipy.stats import *"
     ],
     "language": "python",
     "metadata": {},
     "outputs": [],
     "prompt_number": 13
    },
    {
     "cell_type": "code",
     "collapsed": false,
     "input": [
      "con = sqlite3.connect('/home/damoncrockett/Desktop/DSD_sqlite_db/approvals.db')\n",
      "cur = con.cursor()"
     ],
     "language": "python",
     "metadata": {},
     "outputs": [],
     "prompt_number": 14
    },
    {
     "cell_type": "code",
     "collapsed": false,
     "input": [
      "row = cur.execute('SELECT data FROM json')"
     ],
     "language": "python",
     "metadata": {},
     "outputs": [],
     "prompt_number": 15
    },
    {
     "cell_type": "code",
     "collapsed": false,
     "input": [
      "d = json.loads(str(row.fetchone()[0]).decode('zlib'))\n",
      "d.keys()"
     ],
     "language": "python",
     "metadata": {},
     "outputs": [
      {
       "metadata": {},
       "output_type": "pyout",
       "prompt_number": 16,
       "text": [
        "[u'ApprovalId',\n",
        " u'InspectionIssues',\n",
        " u'DependentPackages',\n",
        " u'BCCodes',\n",
        " u'DependantApprovals',\n",
        " u'Project',\n",
        " u'Header',\n",
        " u'Job',\n",
        " u'Exceptions',\n",
        " u'Approval',\n",
        " u'Inspections',\n",
        " u'ApprovalFees']"
       ]
      }
     ],
     "prompt_number": 16
    }
   ],
   "metadata": {}
  }
 ]
}