{
 "metadata": {
  "name": "",
  "signature": "sha256:c09829290f7e0e5f69d9c5fd43661cc7a9bc38f91e4f1e71bcbeb66a911ea5a4"
 },
 "nbformat": 3,
 "nbformat_minor": 0,
 "worksheets": [
  {
   "cells": [
    {
     "cell_type": "code",
     "collapsed": false,
     "input": [
      "%matplotlib inline\n",
      "import pandas as pd\n",
      "import sqlite3\n",
      "import json\n",
      "import dateutil.parser\n",
      "import datetime\n",
      "import os\n",
      "import gzip\n",
      "import numpy as np\n",
      "import matplotlib.pyplot as plt\n",
      "from scipy.stats import *"
     ],
     "language": "python",
     "metadata": {},
     "outputs": [],
     "prompt_number": 1
    },
    {
     "cell_type": "code",
     "collapsed": false,
     "input": [
      "def download_ambry_db(url,name):  \n",
      "    \"\"\"Download an Ambry database file from the repository. \"\"\"\n",
      "    import gzip\n",
      "    import sys\n",
      "    \n",
      "    if not os.path.exists(name+'.gz'):\n",
      "        print 'Downloading:', url\n",
      "        sys.stdout.flush()\n",
      "        import urllib\n",
      "        urllib.urlretrieve (url, name+'.gz')\n",
      "    else:\n",
      "        print 'Already downloaded:', url\n",
      "        sys.stdout.flush()\n",
      "\n",
      "    if not os.path.exists(name):\n",
      "        print 'Extracting to:',name\n",
      "        sys.stdout.flush()\n",
      "        with open(name,'wb') as out_f, gzip.open(name+'.gz', 'rb') as in_f:\n",
      "            out_f.write(in_f.read())   \n",
      "    else:\n",
      "        print 'Already extracted:', name\n",
      "        sys.stdout.flush()"
     ],
     "language": "python",
     "metadata": {},
     "outputs": []
    },
    {
     "cell_type": "code",
     "collapsed": false,
     "input": [
      "download_ambry_db(\"http://s3.sandiegodata.org/library/sandiego.gov/opendsd-json-0.0.1/json/approvals.db\", \"approvals.db\")  "
     ],
     "language": "python",
     "metadata": {},
     "outputs": []
    },
    {
     "cell_type": "code",
     "collapsed": false,
     "input": [
      "con = sqlite3.connect('/home/damoncrockett/Desktop/projects.db')\n",
      "cur = con.cursor()"
     ],
     "language": "python",
     "metadata": {},
     "outputs": [],
     "prompt_number": 661
    },
    {
     "cell_type": "code",
     "collapsed": false,
     "input": [
      "row = cur.execute('SELECT data FROM json')"
     ],
     "language": "python",
     "metadata": {},
     "outputs": [],
     "prompt_number": 662
    },
    {
     "cell_type": "code",
     "collapsed": false,
     "input": [
      "d = json.loads(str(row.fetchone()[0]).decode('zlib'))\n",
      "d['Jobs'][0]"
     ],
     "language": "python",
     "metadata": {},
     "outputs": [
      {
       "metadata": {},
       "output_type": "pyout",
       "prompt_number": 668,
       "text": [
        "{u'APN': u'667-050-45-00',\n",
        " u'ApprovalInfo': [],\n",
        " u'Approvals': [{u'ApprovalId': 2164,\n",
        "   u'CompleteCancelDate': None,\n",
        "   u'Depiction': u'1',\n",
        "   u'FirstInspectionDate': None,\n",
        "   u'IssueDate': None,\n",
        "   u'IssuedBy': u'',\n",
        "   u'JobId': 1215,\n",
        "   u'NetChangeDU': u'',\n",
        "   u'PermitHolder': u' ',\n",
        "   u'Scope': u'WO#41-____. (PROCESS 3) Site Development Permit for a temporary truck storage facility at 6903 Cactus Court in the Industrial Subdistrict of Otay Mesa Plan District in the Otay Mesa Community Plan. Council District 8.  Notice Cards=1.',\n",
        "   u'SquareFootage': None,\n",
        "   u'Status': u'Created',\n",
        "   u'Type': u'Site  Development Permit',\n",
        "   u'Valuation': u''}],\n",
        " u'Description': u'6903   CACTUS CT ',\n",
        " u'JobFeesSubTotal': None,\n",
        " u'JobId': 1215,\n",
        " u'Latitude': 32.551232,\n",
        " u'Longitude': -116.992181,\n",
        " u'MapReference': u'1351-D4',\n",
        " u'NAD83Easting': None,\n",
        " u'NAD83Northing': None,\n",
        " u'ProjectId': 1164,\n",
        " u'SignOffs': [{u'DisciplineDescription': u'LDR-Planning Review',\n",
        "   u'DisciplineId': 102,\n",
        "   u'SignedDate': u'02/13/2005'},\n",
        "  {u'DisciplineDescription': u'LDR-Environmental',\n",
        "   u'DisciplineId': 104,\n",
        "   u'SignedDate': u'Not Signed-Off'},\n",
        "  {u'DisciplineDescription': u'LDR-Landscaping',\n",
        "   u'DisciplineId': 106,\n",
        "   u'SignedDate': u'Not Signed-Off'},\n",
        "  {u'DisciplineDescription': u'LDR-Engineering Review',\n",
        "   u'DisciplineId': 109,\n",
        "   u'SignedDate': u'Not Signed-Off'},\n",
        "  {u'DisciplineDescription': u'LDR-Transportation Dev',\n",
        "   u'DisciplineId': 115,\n",
        "   u'SignedDate': u'Not Signed-Off'},\n",
        "  {u'DisciplineDescription': u'Fire-Plans Officer',\n",
        "   u'DisciplineId': 122,\n",
        "   u'SignedDate': u'Not Signed-Off'},\n",
        "  {u'DisciplineDescription': u'Plan-Long Range Planning',\n",
        "   u'DisciplineId': 135,\n",
        "   u'SignedDate': u'Not Signed-Off'},\n",
        "  {u'DisciplineDescription': u'Plan-MSCP',\n",
        "   u'DisciplineId': 149,\n",
        "   u'SignedDate': u'Not Signed-Off'},\n",
        "  {u'DisciplineDescription': u'Plan-Facilities Financing',\n",
        "   u'DisciplineId': 150,\n",
        "   u'SignedDate': u'Not Signed-Off'},\n",
        "  {u'DisciplineDescription': u'BDR-Structural',\n",
        "   u'DisciplineId': 156,\n",
        "   u'SignedDate': u'Not Signed-Off'},\n",
        "  {u'DisciplineDescription': u'LDR-Water Review',\n",
        "   u'DisciplineId': 157,\n",
        "   u'SignedDate': u'05/10/2004'},\n",
        "  {u'DisciplineDescription': u'LDR-Geology',\n",
        "   u'DisciplineId': 186,\n",
        "   u'SignedDate': u'Not Signed-Off'},\n",
        "  {u'DisciplineDescription': u'LDR-Wastewater ',\n",
        "   u'DisciplineId': 200,\n",
        "   u'SignedDate': u'Not Signed-Off'}],\n",
        " u'SortableStreetAddress': u'CACTUS CT 0000006903 ',\n",
        " u'StreetAddress': u'6903 CACTUS CT '}"
       ]
      }
     ],
     "prompt_number": 668
    }
   ],
   "metadata": {}
  }
 ]
}