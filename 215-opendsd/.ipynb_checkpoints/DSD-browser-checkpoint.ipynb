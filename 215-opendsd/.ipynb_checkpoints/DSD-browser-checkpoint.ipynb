{
 "metadata": {
  "name": "",
  "signature": "sha256:a5e0138f5fe3f24b33c66b8b24aa4cbfeba89d8709157f6d1e8055612f2a14b3"
 },
 "nbformat": 3,
 "nbformat_minor": 0,
 "worksheets": [
  {
   "cells": [
    {
     "cell_type": "code",
     "collapsed": false,
     "input": [
      "%matplotlib inline\n",
      "import pandas as pd\n",
      "import sqlite3\n",
      "import json\n",
      "import dateutil.parser\n",
      "import datetime\n",
      "import os\n",
      "import gzip\n",
      "import numpy as np\n",
      "import matplotlib.pyplot as plt\n",
      "from scipy.stats import *"
     ],
     "language": "python",
     "metadata": {},
     "outputs": [],
     "prompt_number": 2
    },
    {
     "cell_type": "code",
     "collapsed": false,
     "input": [
      "def download_ambry_db(url,name):  \n",
      "    \"\"\"Download an Ambry database file from the repository. \"\"\"\n",
      "    import gzip\n",
      "    import sys\n",
      "    \n",
      "    if not os.path.exists(name+'.gz'):\n",
      "        print 'Downloading:', url\n",
      "        sys.stdout.flush()\n",
      "        import urllib\n",
      "        urllib.urlretrieve (url, name+'.gz')\n",
      "    else:\n",
      "        print 'Already downloaded:', url\n",
      "        sys.stdout.flush()\n",
      "\n",
      "    if not os.path.exists(name):\n",
      "        print 'Extracting to:',name\n",
      "        sys.stdout.flush()\n",
      "        with open(name,'wb') as out_f, gzip.open(name+'.gz', 'rb') as in_f:\n",
      "            out_f.write(in_f.read())   \n",
      "    else:\n",
      "        print 'Already extracted:', name\n",
      "        sys.stdout.flush()"
     ],
     "language": "python",
     "metadata": {},
     "outputs": []
    },
    {
     "cell_type": "code",
     "collapsed": false,
     "input": [
      "download_ambry_db(\"http://s3.sandiegodata.org/library/sandiego.gov/opendsd-json-0.0.1/json/approvals.db\", \"approvals.db\")  "
     ],
     "language": "python",
     "metadata": {},
     "outputs": []
    },
    {
     "cell_type": "code",
     "collapsed": false,
     "input": [
      "con = sqlite3.connect('/home/damoncrockett/Desktop/DSD_sqlite_db/projects.db')\n",
      "cur = con.cursor()"
     ],
     "language": "python",
     "metadata": {},
     "outputs": [],
     "prompt_number": 3
    },
    {
     "cell_type": "code",
     "collapsed": false,
     "input": [
      "row = cur.execute('SELECT data FROM json')"
     ],
     "language": "python",
     "metadata": {},
     "outputs": [],
     "prompt_number": 4
    },
    {
     "cell_type": "code",
     "collapsed": false,
     "input": [
      "d = json.loads(str(row.fetchone()[0]).decode('zlib'))\n",
      "d.keys()"
     ],
     "language": "python",
     "metadata": {},
     "outputs": [
      {
       "metadata": {},
       "output_type": "pyout",
       "prompt_number": 6,
       "text": [
        "[u'ApplicationExpiration',\n",
        " u'Customers',\n",
        " u'ProjectManagerId',\n",
        " u'Jobs',\n",
        " u'AccountNum',\n",
        " u'Title',\n",
        " u'Invoices',\n",
        " u'ProjectId',\n",
        " u'JobOrderNum',\n",
        " u'ApplicationExpired',\n",
        " u'Header',\n",
        " u'DevelopmentId',\n",
        " u'AdminHold',\n",
        " u'ReviewCycles',\n",
        " u'Fees',\n",
        " u'Scope',\n",
        " u'ProjectManager',\n",
        " u'ApplicationDate',\n",
        " u'DevelopmentTitle']"
       ]
      }
     ],
     "prompt_number": 6
    }
   ],
   "metadata": {}
  }
 ]
}