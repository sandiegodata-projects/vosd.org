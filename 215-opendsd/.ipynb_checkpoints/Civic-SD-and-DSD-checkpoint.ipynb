{
 "metadata": {
  "name": "",
  "signature": "sha256:de9c02ff4b972574b6708dc0a6f98bc2b66adc333bd7c734d0f451ca291cbdad"
 },
 "nbformat": 3,
 "nbformat_minor": 0,
 "worksheets": [
  {
   "cells": [
    {
     "cell_type": "code",
     "collapsed": false,
     "input": [
      "%matplotlib inline\n",
      "import pandas as pd\n",
      "import sqlite3\n",
      "import json\n",
      "import dateutil.parser\n",
      "import datetime\n",
      "import os\n",
      "import gzip\n",
      "import numpy as np\n",
      "import matplotlib.pyplot as plt\n",
      "from scipy.stats import *"
     ],
     "language": "python",
     "metadata": {},
     "outputs": [],
     "prompt_number": 1
    },
    {
     "cell_type": "code",
     "collapsed": false,
     "input": [
      "df = pd.read_csv('/home/damoncrockett/vosd.org/215-opendsd/approval_master.csv')"
     ],
     "language": "python",
     "metadata": {},
     "outputs": [],
     "prompt_number": 2
    },
    {
     "cell_type": "code",
     "collapsed": false,
     "input": [
      "df.columns"
     ],
     "language": "python",
     "metadata": {},
     "outputs": [
      {
       "metadata": {},
       "output_type": "pyout",
       "prompt_number": 23,
       "text": [
        "Index([u'Unnamed: 0', u'ApprovalId', u'IssueDate', u'IssuedBy', u'JobId', u'PermitHolder', u'Scope', u'Status', u'Type', u'APN', u'Description', u'Latitude', u'Longitude', u'ProjectId', u'StreetAddress', u'ApplicationDate', u'ApplicationExpiration', u'ApplicationExpired', u'DevelopmentId', u'DevelopmentTitle', u'ProjectManager', u'ProjectManagerId', u'ProjectScope', u'Title', u'category', u'TimetoIssue', u'ApplicationYear', u'ApplicationMonth', u'IssueYear', u'IssueMonth'], dtype='object')"
       ]
      }
     ],
     "prompt_number": 23
    },
    {
     "cell_type": "code",
     "collapsed": false,
     "input": [
      "df = df[['Type','ApplicationYear','TimetoIssue']]"
     ],
     "language": "python",
     "metadata": {},
     "outputs": [],
     "prompt_number": 3
    },
    {
     "cell_type": "code",
     "collapsed": false,
     "input": [
      "nd = df[df.Type == 'Neighborhood Developmnt Permit']"
     ],
     "language": "python",
     "metadata": {},
     "outputs": [],
     "prompt_number": 4
    },
    {
     "cell_type": "code",
     "collapsed": false,
     "input": [
      "len(nd.index)"
     ],
     "language": "python",
     "metadata": {},
     "outputs": [
      {
       "metadata": {},
       "output_type": "pyout",
       "prompt_number": 8,
       "text": [
        "162"
       ]
      }
     ],
     "prompt_number": 8
    },
    {
     "cell_type": "code",
     "collapsed": false,
     "input": [
      "sd = df[df.Type == 'Site Development Permit']"
     ],
     "language": "python",
     "metadata": {},
     "outputs": [],
     "prompt_number": 5
    },
    {
     "cell_type": "code",
     "collapsed": false,
     "input": [
      "len(sd.index)"
     ],
     "language": "python",
     "metadata": {},
     "outputs": [
      {
       "metadata": {},
       "output_type": "pyout",
       "prompt_number": 10,
       "text": [
        "703"
       ]
      }
     ],
     "prompt_number": 10
    },
    {
     "cell_type": "code",
     "collapsed": false,
     "input": [
      "pdp = df[df.Type == 'Planned Development Permit']"
     ],
     "language": "python",
     "metadata": {},
     "outputs": [],
     "prompt_number": 6
    },
    {
     "cell_type": "code",
     "collapsed": false,
     "input": [
      "len(pdp.index)"
     ],
     "language": "python",
     "metadata": {},
     "outputs": [
      {
       "metadata": {},
       "output_type": "pyout",
       "prompt_number": 17,
       "text": [
        "274"
       ]
      }
     ],
     "prompt_number": 17
    },
    {
     "cell_type": "code",
     "collapsed": false,
     "input": [
      "ccdp = pd.read_csv('/home/damoncrockett/Desktop/Civic_Permits_Final_cleaned.csv')"
     ],
     "language": "python",
     "metadata": {},
     "outputs": [],
     "prompt_number": 7
    },
    {
     "cell_type": "code",
     "collapsed": false,
     "input": [
      "ndsd = nd.append(sd)"
     ],
     "language": "python",
     "metadata": {},
     "outputs": [],
     "prompt_number": 8
    },
    {
     "cell_type": "code",
     "collapsed": false,
     "input": [
      "len(ndsd.index)"
     ],
     "language": "python",
     "metadata": {},
     "outputs": [
      {
       "metadata": {},
       "output_type": "pyout",
       "prompt_number": 22,
       "text": [
        "865"
       ]
      }
     ],
     "prompt_number": 22
    },
    {
     "cell_type": "code",
     "collapsed": false,
     "input": [
      "ndsdpdp = ndsd.append(pdp)"
     ],
     "language": "python",
     "metadata": {},
     "outputs": [],
     "prompt_number": 9
    },
    {
     "cell_type": "code",
     "collapsed": false,
     "input": [
      "len(ndsdpdp.index)"
     ],
     "language": "python",
     "metadata": {},
     "outputs": [
      {
       "metadata": {},
       "output_type": "pyout",
       "prompt_number": 21,
       "text": [
        "1139"
       ]
      }
     ],
     "prompt_number": 21
    },
    {
     "cell_type": "code",
     "collapsed": false,
     "input": [
      "tmp = ndsdpdp\n",
      "by_year = tmp.groupby('ApplicationYear')\n",
      "tmp = by_year.agg(np.median).sort()\n",
      "tmp['Count'] = by_year.size()\n",
      "tmp.to_csv('/home/damoncrockett/vosd.org/215-opendsd/ndsdpdp.csv')\n",
      "tmp"
     ],
     "language": "python",
     "metadata": {},
     "outputs": [
      {
       "html": [
        "<div style=\"max-height:1000px;max-width:1500px;overflow:auto;\">\n",
        "<table border=\"1\" class=\"dataframe\">\n",
        "  <thead>\n",
        "    <tr style=\"text-align: right;\">\n",
        "      <th></th>\n",
        "      <th>TimetoIssue</th>\n",
        "      <th>Count</th>\n",
        "    </tr>\n",
        "    <tr>\n",
        "      <th>ApplicationYear</th>\n",
        "      <th></th>\n",
        "      <th></th>\n",
        "    </tr>\n",
        "  </thead>\n",
        "  <tbody>\n",
        "    <tr>\n",
        "      <th>2003</th>\n",
        "      <td> 972.0</td>\n",
        "      <td>  91</td>\n",
        "    </tr>\n",
        "    <tr>\n",
        "      <th>2004</th>\n",
        "      <td> 581.5</td>\n",
        "      <td> 110</td>\n",
        "    </tr>\n",
        "    <tr>\n",
        "      <th>2005</th>\n",
        "      <td> 480.0</td>\n",
        "      <td> 137</td>\n",
        "    </tr>\n",
        "    <tr>\n",
        "      <th>2006</th>\n",
        "      <td> 416.0</td>\n",
        "      <td> 134</td>\n",
        "    </tr>\n",
        "    <tr>\n",
        "      <th>2007</th>\n",
        "      <td> 468.0</td>\n",
        "      <td> 105</td>\n",
        "    </tr>\n",
        "    <tr>\n",
        "      <th>2008</th>\n",
        "      <td> 609.0</td>\n",
        "      <td> 117</td>\n",
        "    </tr>\n",
        "    <tr>\n",
        "      <th>2009</th>\n",
        "      <td> 532.5</td>\n",
        "      <td> 108</td>\n",
        "    </tr>\n",
        "    <tr>\n",
        "      <th>2010</th>\n",
        "      <td> 482.0</td>\n",
        "      <td>  69</td>\n",
        "    </tr>\n",
        "    <tr>\n",
        "      <th>2011</th>\n",
        "      <td> 462.5</td>\n",
        "      <td>  92</td>\n",
        "    </tr>\n",
        "    <tr>\n",
        "      <th>2012</th>\n",
        "      <td> 414.0</td>\n",
        "      <td>  85</td>\n",
        "    </tr>\n",
        "    <tr>\n",
        "      <th>2013</th>\n",
        "      <td> 288.0</td>\n",
        "      <td>  74</td>\n",
        "    </tr>\n",
        "    <tr>\n",
        "      <th>2014</th>\n",
        "      <td> 196.0</td>\n",
        "      <td>  17</td>\n",
        "    </tr>\n",
        "  </tbody>\n",
        "</table>\n",
        "<p>12 rows \u00d7 2 columns</p>\n",
        "</div>"
       ],
       "metadata": {},
       "output_type": "pyout",
       "prompt_number": 10,
       "text": [
        "                 TimetoIssue  Count\n",
        "ApplicationYear                    \n",
        "2003                   972.0     91\n",
        "2004                   581.5    110\n",
        "2005                   480.0    137\n",
        "2006                   416.0    134\n",
        "2007                   468.0    105\n",
        "2008                   609.0    117\n",
        "2009                   532.5    108\n",
        "2010                   482.0     69\n",
        "2011                   462.5     92\n",
        "2012                   414.0     85\n",
        "2013                   288.0     74\n",
        "2014                   196.0     17\n",
        "\n",
        "[12 rows x 2 columns]"
       ]
      }
     ],
     "prompt_number": 10
    },
    {
     "cell_type": "code",
     "collapsed": false,
     "input": [
      "ccdp.columns"
     ],
     "language": "python",
     "metadata": {},
     "outputs": [
      {
       "metadata": {},
       "output_type": "pyout",
       "prompt_number": 11,
       "text": [
        "Index([u'received_year', u'received_month', u'approved_year', u'approved_month', u'duration'], dtype='object')"
       ]
      }
     ],
     "prompt_number": 11
    },
    {
     "cell_type": "code",
     "collapsed": false,
     "input": [
      "tmp = ccdp\n",
      "by_year = tmp.groupby('received_year')\n",
      "tmp = by_year.agg(np.median).sort()\n",
      "tmp['Count'] = by_year.size()\n",
      "tmp.to_csv('/home/damoncrockett/vosd.org/215-opendsd/ccdp.csv')\n",
      "tmp"
     ],
     "language": "python",
     "metadata": {},
     "outputs": [
      {
       "html": [
        "<div style=\"max-height:1000px;max-width:1500px;overflow:auto;\">\n",
        "<table border=\"1\" class=\"dataframe\">\n",
        "  <thead>\n",
        "    <tr style=\"text-align: right;\">\n",
        "      <th></th>\n",
        "      <th>received_month</th>\n",
        "      <th>approved_year</th>\n",
        "      <th>approved_month</th>\n",
        "      <th>duration</th>\n",
        "      <th>Count</th>\n",
        "    </tr>\n",
        "    <tr>\n",
        "      <th>received_year</th>\n",
        "      <th></th>\n",
        "      <th></th>\n",
        "      <th></th>\n",
        "      <th></th>\n",
        "      <th></th>\n",
        "    </tr>\n",
        "  </thead>\n",
        "  <tbody>\n",
        "    <tr>\n",
        "      <th>2004</th>\n",
        "      <td> 7.5</td>\n",
        "      <td> 2004.0</td>\n",
        "      <td>  5.5</td>\n",
        "      <td> 116</td>\n",
        "      <td> 18</td>\n",
        "    </tr>\n",
        "    <tr>\n",
        "      <th>2005</th>\n",
        "      <td> 4.0</td>\n",
        "      <td> 2005.0</td>\n",
        "      <td>  7.0</td>\n",
        "      <td> 116</td>\n",
        "      <td> 21</td>\n",
        "    </tr>\n",
        "    <tr>\n",
        "      <th>2006</th>\n",
        "      <td> 4.5</td>\n",
        "      <td> 2006.5</td>\n",
        "      <td>  5.5</td>\n",
        "      <td> 130</td>\n",
        "      <td> 18</td>\n",
        "    </tr>\n",
        "    <tr>\n",
        "      <th>2007</th>\n",
        "      <td> 7.0</td>\n",
        "      <td> 2008.0</td>\n",
        "      <td>  4.0</td>\n",
        "      <td> 193</td>\n",
        "      <td> 13</td>\n",
        "    </tr>\n",
        "    <tr>\n",
        "      <th>2008</th>\n",
        "      <td> 6.0</td>\n",
        "      <td> 2009.0</td>\n",
        "      <td>  9.0</td>\n",
        "      <td> 188</td>\n",
        "      <td>  7</td>\n",
        "    </tr>\n",
        "    <tr>\n",
        "      <th>2009</th>\n",
        "      <td> 2.0</td>\n",
        "      <td> 2009.0</td>\n",
        "      <td>  6.0</td>\n",
        "      <td>  73</td>\n",
        "      <td>  3</td>\n",
        "    </tr>\n",
        "    <tr>\n",
        "      <th>2010</th>\n",
        "      <td> 6.0</td>\n",
        "      <td> 2010.0</td>\n",
        "      <td> 10.0</td>\n",
        "      <td> 114</td>\n",
        "      <td>  5</td>\n",
        "    </tr>\n",
        "    <tr>\n",
        "      <th>2011</th>\n",
        "      <td> 6.0</td>\n",
        "      <td> 2012.0</td>\n",
        "      <td>  3.0</td>\n",
        "      <td> 116</td>\n",
        "      <td> 10</td>\n",
        "    </tr>\n",
        "    <tr>\n",
        "      <th>2012</th>\n",
        "      <td> 4.0</td>\n",
        "      <td> 2012.0</td>\n",
        "      <td>  5.5</td>\n",
        "      <td> 113</td>\n",
        "      <td> 16</td>\n",
        "    </tr>\n",
        "    <tr>\n",
        "      <th>2013</th>\n",
        "      <td> 5.5</td>\n",
        "      <td> 2013.0</td>\n",
        "      <td>  7.5</td>\n",
        "      <td> 127</td>\n",
        "      <td>  6</td>\n",
        "    </tr>\n",
        "    <tr>\n",
        "      <th>2014</th>\n",
        "      <td> 2.0</td>\n",
        "      <td> 2014.0</td>\n",
        "      <td>  4.0</td>\n",
        "      <td>  73</td>\n",
        "      <td>  1</td>\n",
        "    </tr>\n",
        "  </tbody>\n",
        "</table>\n",
        "<p>11 rows \u00d7 5 columns</p>\n",
        "</div>"
       ],
       "metadata": {},
       "output_type": "pyout",
       "prompt_number": 12,
       "text": [
        "               received_month  approved_year  approved_month  duration  Count\n",
        "received_year                                                                \n",
        "2004                      7.5         2004.0             5.5       116     18\n",
        "2005                      4.0         2005.0             7.0       116     21\n",
        "2006                      4.5         2006.5             5.5       130     18\n",
        "2007                      7.0         2008.0             4.0       193     13\n",
        "2008                      6.0         2009.0             9.0       188      7\n",
        "2009                      2.0         2009.0             6.0        73      3\n",
        "2010                      6.0         2010.0            10.0       114      5\n",
        "2011                      6.0         2012.0             3.0       116     10\n",
        "2012                      4.0         2012.0             5.5       113     16\n",
        "2013                      5.5         2013.0             7.5       127      6\n",
        "2014                      2.0         2014.0             4.0        73      1\n",
        "\n",
        "[11 rows x 5 columns]"
       ]
      }
     ],
     "prompt_number": 12
    }
   ],
   "metadata": {}
  }
 ]
}