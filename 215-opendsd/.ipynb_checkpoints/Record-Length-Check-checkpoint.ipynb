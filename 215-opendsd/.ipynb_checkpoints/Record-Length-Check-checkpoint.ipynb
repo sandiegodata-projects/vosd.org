{
 "metadata": {
  "name": "",
  "signature": "sha256:2083a0bae15be75ab007f07eaccfa49456f9b9029ae8cfa46648fb9f3c9ac37f"
 },
 "nbformat": 3,
 "nbformat_minor": 0,
 "worksheets": [
  {
   "cells": [
    {
     "cell_type": "heading",
     "level": 1,
     "metadata": {},
     "source": [
      "Record Length Check"
     ]
    },
    {
     "cell_type": "heading",
     "level": 4,
     "metadata": {},
     "source": [
      "Damon Crockett, damon@civicknowledge.com"
     ]
    },
    {
     "cell_type": "code",
     "collapsed": false,
     "input": [
      "import pandas as pd\n",
      "import sqlite3\n",
      "import json"
     ],
     "language": "python",
     "metadata": {},
     "outputs": [],
     "prompt_number": 1
    },
    {
     "cell_type": "heading",
     "level": 3,
     "metadata": {},
     "source": [
      "Create appropriate dataframe from database file"
     ]
    },
    {
     "cell_type": "code",
     "collapsed": false,
     "input": [
      "# create connections and cursors for database files\n",
      "\n",
      "con = sqlite3.connect('/home/damoncrockett/Desktop/projects.db')\n",
      "cur = con.cursor()\n",
      "\n",
      "con2 = sqlite3.connect('/home/damoncrockett/Desktop/approvals.db')\n",
      "cur2 = con2.cursor()\n",
      "\n",
      "con3 = sqlite3.connect('/home/damoncrockett/Desktop/invoices.db')\n",
      "cur3 = con3.cursor()"
     ],
     "language": "python",
     "metadata": {},
     "outputs": [],
     "prompt_number": 2
    },
    {
     "cell_type": "code",
     "collapsed": false,
     "input": [
      "# generator to grab a collection of relevant variables from each record\n",
      "\n",
      "def gen(cur):\n",
      "    for row in cur.execute('SELECT data FROM json'):\n",
      "        d = json.loads(str(row[0]).decode('zlib'))\n",
      "        \n",
      "            \n",
      "        keys = ['Header']\n",
      "            \n",
      "        yield {key:d[key] for key in keys}"
     ],
     "language": "python",
     "metadata": {},
     "outputs": [],
     "prompt_number": 3
    },
    {
     "cell_type": "code",
     "collapsed": false,
     "input": [
      "# create dataframes from generator\n",
      "df = pd.DataFrame(gen(cur))"
     ],
     "language": "python",
     "metadata": {},
     "outputs": [],
     "prompt_number": 4
    },
    {
     "cell_type": "code",
     "collapsed": false,
     "input": [
      "len(df.index)"
     ],
     "language": "python",
     "metadata": {},
     "outputs": [
      {
       "metadata": {},
       "output_type": "pyout",
       "prompt_number": 5,
       "text": [
        "231014"
       ]
      }
     ],
     "prompt_number": 5
    },
    {
     "cell_type": "code",
     "collapsed": false,
     "input": [
      "'''\n",
      "Simple counter for approvals. I realize I could have used this for projects,\n",
      "but I was able to learn about the project records that all of them have a \n",
      "header. Here, there seems to be no key that all records have, so we are stuck \n",
      "doing a simple counter.\n",
      "'''\n",
      "\n",
      "tmp = 0\n",
      "\n",
      "for row in cur2.execute('SELECT data FROM json'):\n",
      "    tmp += 1\n",
      "\n",
      "tmp"
     ],
     "language": "python",
     "metadata": {},
     "outputs": [
      {
       "metadata": {},
       "output_type": "pyout",
       "prompt_number": 8,
       "text": [
        "250474"
       ]
      }
     ],
     "prompt_number": 8
    },
    {
     "cell_type": "code",
     "collapsed": false,
     "input": [
      "tmp = 0\n",
      "\n",
      "for row in cur3.execute('SELECT data FROM json'):\n",
      "    tmp += 1\n",
      "\n",
      "tmp"
     ],
     "language": "python",
     "metadata": {},
     "outputs": [
      {
       "metadata": {},
       "output_type": "pyout",
       "prompt_number": 12,
       "text": [
        "474190"
       ]
      }
     ],
     "prompt_number": 12
    },
    {
     "cell_type": "code",
     "collapsed": false,
     "input": [],
     "language": "python",
     "metadata": {},
     "outputs": []
    }
   ],
   "metadata": {}
  }
 ]
}