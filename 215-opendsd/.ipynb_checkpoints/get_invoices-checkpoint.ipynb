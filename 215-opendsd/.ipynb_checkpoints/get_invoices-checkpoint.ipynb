{
 "metadata": {
  "name": "",
  "signature": "sha256:601aa20ec441e7a540a6a18e48ed0ee10cf15cfc0536a1a73cdede3e44d62dc4"
 },
 "nbformat": 3,
 "nbformat_minor": 0,
 "worksheets": [
  {
   "cells": [
    {
     "cell_type": "code",
     "collapsed": false,
     "input": [
      "%matplotlib inline\n",
      "import pandas as pd\n",
      "import sqlite3\n",
      "import json\n",
      "import dateutil.parser\n",
      "import datetime\n",
      "import os\n",
      "import gzip\n",
      "import numpy as np\n",
      "import matplotlib.pyplot as plt\n",
      "from scipy.stats import *"
     ],
     "language": "python",
     "metadata": {},
     "outputs": [],
     "prompt_number": 1
    },
    {
     "cell_type": "code",
     "collapsed": false,
     "input": [
      "def download_ambry_db(url,name):  \n",
      "    \"\"\"Download an Ambry database file from the repository. \"\"\"\n",
      "    import gzip\n",
      "    import sys\n",
      "    \n",
      "    if not os.path.exists(name+'.gz'):\n",
      "        print 'Downloading:', url\n",
      "        sys.stdout.flush()\n",
      "        import urllib\n",
      "        urllib.urlretrieve (url, name+'.gz')\n",
      "    else:\n",
      "        print 'Already downloaded:', url\n",
      "        sys.stdout.flush()\n",
      "\n",
      "    if not os.path.exists(name):\n",
      "        print 'Extracting to:',name\n",
      "        sys.stdout.flush()\n",
      "        with open(name,'wb') as out_f, gzip.open(name+'.gz', 'rb') as in_f:\n",
      "            out_f.write(in_f.read())   \n",
      "    else:\n",
      "        print 'Already extracted:', name\n",
      "        sys.stdout.flush()"
     ],
     "language": "python",
     "metadata": {},
     "outputs": [],
     "prompt_number": 2
    },
    {
     "cell_type": "code",
     "collapsed": false,
     "input": [
      "download_ambry_db(\"http://s3.sandiegodata.org/library/sandiego.gov/opendsd-json-0.0.1/json/invoices.db\", \"/home/damoncrockett/Desktop/invoices.db\")  "
     ],
     "language": "python",
     "metadata": {},
     "outputs": [
      {
       "output_type": "stream",
       "stream": "stdout",
       "text": [
        "Downloading: http://s3.sandiegodata.org/library/sandiego.gov/opendsd-json-0.0.1/json/invoices.db\n"
       ]
      },
      {
       "output_type": "stream",
       "stream": "stdout",
       "text": [
        "Extracting to: /home/damoncrockett/Desktop/invoices.db\n"
       ]
      }
     ],
     "prompt_number": 3
    }
   ],
   "metadata": {}
  }
 ]
}