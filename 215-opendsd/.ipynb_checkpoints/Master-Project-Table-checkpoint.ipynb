{
 "metadata": {
  "name": "",
  "signature": "sha256:5fcb7c7fb39c4f42b8559eba18f5d7e1f6c514f4a65bc5be48848ae638da3c39"
 },
 "nbformat": 3,
 "nbformat_minor": 0,
 "worksheets": [
  {
   "cells": [
    {
     "cell_type": "heading",
     "level": 1,
     "metadata": {},
     "source": [
      "Master Project Table\n"
     ]
    },
    {
     "cell_type": "heading",
     "level": 4,
     "metadata": {},
     "source": [
      "Damon Crockett, damon@civicknowledge.com"
     ]
    },
    {
     "cell_type": "code",
     "collapsed": false,
     "input": [
      "%matplotlib inline\n",
      "import pandas as pd\n",
      "import sqlite3\n",
      "import json\n",
      "import dateutil.parser\n",
      "import datetime\n",
      "import os\n",
      "import gzip\n",
      "import numpy as np\n",
      "import matplotlib.pyplot as plt\n",
      "from scipy.stats import pearsonr"
     ],
     "language": "python",
     "metadata": {},
     "outputs": [],
     "prompt_number": 1
    },
    {
     "cell_type": "heading",
     "level": 3,
     "metadata": {},
     "source": [
      "Create appropriate dataframe from database file"
     ]
    },
    {
     "cell_type": "code",
     "collapsed": false,
     "input": [
      "# create connection and cursor for database file 'approvals.db'\n",
      "\n",
      "con = sqlite3.connect('/home/damoncrockett/Desktop/projects.db')\n",
      "cur = con.cursor()"
     ],
     "language": "python",
     "metadata": {},
     "outputs": [],
     "prompt_number": 2
    },
    {
     "cell_type": "heading",
     "level": 4,
     "metadata": {},
     "source": [
      "A check for 'deemed complete' or another related key that indicates meaningful start date"
     ]
    },
    {
     "cell_type": "code",
     "collapsed": false,
     "input": [
      "keys_length = []\n",
      "\n",
      "for row in cur.execute('SELECT data FROM json'):\n",
      "        d = json.loads(str(row[0]).decode('zlib'))\n",
      "        \n",
      "        keys_length.append(len(d.keys()))"
     ],
     "language": "python",
     "metadata": {},
     "outputs": [],
     "prompt_number": 3
    },
    {
     "cell_type": "code",
     "collapsed": false,
     "input": [
      "from collections import Counter\n",
      "\n",
      "Counter(keys_length)"
     ],
     "language": "python",
     "metadata": {},
     "outputs": [
      {
       "metadata": {},
       "output_type": "pyout",
       "prompt_number": 4,
       "text": [
        "Counter({19: 231009, 12: 5})"
       ]
      }
     ],
     "prompt_number": 4
    },
    {
     "cell_type": "code",
     "collapsed": false,
     "input": [
      "which_keys = []\n",
      "\n",
      "for row in cur.execute('SELECT data FROM json'):\n",
      "        d = json.loads(str(row[0]).decode('zlib'))\n",
      "        \n",
      "        if len(d.keys()) == 19:\n",
      "            which_keys.append(d.keys())            "
     ],
     "language": "python",
     "metadata": {},
     "outputs": [],
     "prompt_number": 5
    },
    {
     "cell_type": "code",
     "collapsed": false,
     "input": [
      "key_df = pd.DataFrame(which_keys)"
     ],
     "language": "python",
     "metadata": {},
     "outputs": [],
     "prompt_number": 6
    },
    {
     "cell_type": "code",
     "collapsed": false,
     "input": [
      "key_df.head()"
     ],
     "language": "python",
     "metadata": {},
     "outputs": [
      {
       "html": [
        "<div style=\"max-height:1000px;max-width:1500px;overflow:auto;\">\n",
        "<table border=\"1\" class=\"dataframe\">\n",
        "  <thead>\n",
        "    <tr style=\"text-align: right;\">\n",
        "      <th></th>\n",
        "      <th>0</th>\n",
        "      <th>1</th>\n",
        "      <th>2</th>\n",
        "      <th>3</th>\n",
        "      <th>4</th>\n",
        "      <th>5</th>\n",
        "      <th>6</th>\n",
        "      <th>7</th>\n",
        "      <th>8</th>\n",
        "      <th>9</th>\n",
        "      <th>10</th>\n",
        "      <th>11</th>\n",
        "      <th>12</th>\n",
        "      <th>13</th>\n",
        "      <th>14</th>\n",
        "      <th>15</th>\n",
        "      <th>16</th>\n",
        "      <th>17</th>\n",
        "      <th>18</th>\n",
        "    </tr>\n",
        "  </thead>\n",
        "  <tbody>\n",
        "    <tr>\n",
        "      <th>0</th>\n",
        "      <td> ApplicationExpiration</td>\n",
        "      <td> Customers</td>\n",
        "      <td> ProjectManagerId</td>\n",
        "      <td> Jobs</td>\n",
        "      <td> AccountNum</td>\n",
        "      <td> Title</td>\n",
        "      <td> Invoices</td>\n",
        "      <td> ProjectId</td>\n",
        "      <td> JobOrderNum</td>\n",
        "      <td> ApplicationExpired</td>\n",
        "      <td> Header</td>\n",
        "      <td> DevelopmentId</td>\n",
        "      <td> AdminHold</td>\n",
        "      <td> ReviewCycles</td>\n",
        "      <td> Fees</td>\n",
        "      <td> Scope</td>\n",
        "      <td> ProjectManager</td>\n",
        "      <td> ApplicationDate</td>\n",
        "      <td> DevelopmentTitle</td>\n",
        "    </tr>\n",
        "    <tr>\n",
        "      <th>1</th>\n",
        "      <td> ApplicationExpiration</td>\n",
        "      <td> Customers</td>\n",
        "      <td> ProjectManagerId</td>\n",
        "      <td> Jobs</td>\n",
        "      <td> AccountNum</td>\n",
        "      <td> Title</td>\n",
        "      <td> Invoices</td>\n",
        "      <td> ProjectId</td>\n",
        "      <td> JobOrderNum</td>\n",
        "      <td> ApplicationExpired</td>\n",
        "      <td> Header</td>\n",
        "      <td> DevelopmentId</td>\n",
        "      <td> AdminHold</td>\n",
        "      <td> ReviewCycles</td>\n",
        "      <td> Fees</td>\n",
        "      <td> Scope</td>\n",
        "      <td> ProjectManager</td>\n",
        "      <td> ApplicationDate</td>\n",
        "      <td> DevelopmentTitle</td>\n",
        "    </tr>\n",
        "    <tr>\n",
        "      <th>2</th>\n",
        "      <td> ApplicationExpiration</td>\n",
        "      <td> Customers</td>\n",
        "      <td> ProjectManagerId</td>\n",
        "      <td> Jobs</td>\n",
        "      <td> AccountNum</td>\n",
        "      <td> Title</td>\n",
        "      <td> Invoices</td>\n",
        "      <td> ProjectId</td>\n",
        "      <td> JobOrderNum</td>\n",
        "      <td> ApplicationExpired</td>\n",
        "      <td> Header</td>\n",
        "      <td> DevelopmentId</td>\n",
        "      <td> AdminHold</td>\n",
        "      <td> ReviewCycles</td>\n",
        "      <td> Fees</td>\n",
        "      <td> Scope</td>\n",
        "      <td> ProjectManager</td>\n",
        "      <td> ApplicationDate</td>\n",
        "      <td> DevelopmentTitle</td>\n",
        "    </tr>\n",
        "    <tr>\n",
        "      <th>3</th>\n",
        "      <td> ApplicationExpiration</td>\n",
        "      <td> Customers</td>\n",
        "      <td> ProjectManagerId</td>\n",
        "      <td> Jobs</td>\n",
        "      <td> AccountNum</td>\n",
        "      <td> Title</td>\n",
        "      <td> Invoices</td>\n",
        "      <td> ProjectId</td>\n",
        "      <td> JobOrderNum</td>\n",
        "      <td> ApplicationExpired</td>\n",
        "      <td> Header</td>\n",
        "      <td> DevelopmentId</td>\n",
        "      <td> AdminHold</td>\n",
        "      <td> ReviewCycles</td>\n",
        "      <td> Fees</td>\n",
        "      <td> Scope</td>\n",
        "      <td> ProjectManager</td>\n",
        "      <td> ApplicationDate</td>\n",
        "      <td> DevelopmentTitle</td>\n",
        "    </tr>\n",
        "    <tr>\n",
        "      <th>4</th>\n",
        "      <td> ApplicationExpiration</td>\n",
        "      <td> Customers</td>\n",
        "      <td> ProjectManagerId</td>\n",
        "      <td> Jobs</td>\n",
        "      <td> AccountNum</td>\n",
        "      <td> Title</td>\n",
        "      <td> Invoices</td>\n",
        "      <td> ProjectId</td>\n",
        "      <td> JobOrderNum</td>\n",
        "      <td> ApplicationExpired</td>\n",
        "      <td> Header</td>\n",
        "      <td> DevelopmentId</td>\n",
        "      <td> AdminHold</td>\n",
        "      <td> ReviewCycles</td>\n",
        "      <td> Fees</td>\n",
        "      <td> Scope</td>\n",
        "      <td> ProjectManager</td>\n",
        "      <td> ApplicationDate</td>\n",
        "      <td> DevelopmentTitle</td>\n",
        "    </tr>\n",
        "  </tbody>\n",
        "</table>\n",
        "<p>5 rows \u00d7 19 columns</p>\n",
        "</div>"
       ],
       "metadata": {},
       "output_type": "pyout",
       "prompt_number": 9,
       "text": [
        "                      0          1                 2     3           4   \\\n",
        "0  ApplicationExpiration  Customers  ProjectManagerId  Jobs  AccountNum   \n",
        "1  ApplicationExpiration  Customers  ProjectManagerId  Jobs  AccountNum   \n",
        "2  ApplicationExpiration  Customers  ProjectManagerId  Jobs  AccountNum   \n",
        "3  ApplicationExpiration  Customers  ProjectManagerId  Jobs  AccountNum   \n",
        "4  ApplicationExpiration  Customers  ProjectManagerId  Jobs  AccountNum   \n",
        "\n",
        "      5         6          7            8                   9       10  \\\n",
        "0  Title  Invoices  ProjectId  JobOrderNum  ApplicationExpired  Header   \n",
        "1  Title  Invoices  ProjectId  JobOrderNum  ApplicationExpired  Header   \n",
        "2  Title  Invoices  ProjectId  JobOrderNum  ApplicationExpired  Header   \n",
        "3  Title  Invoices  ProjectId  JobOrderNum  ApplicationExpired  Header   \n",
        "4  Title  Invoices  ProjectId  JobOrderNum  ApplicationExpired  Header   \n",
        "\n",
        "              11         12            13    14     15              16  \\\n",
        "0  DevelopmentId  AdminHold  ReviewCycles  Fees  Scope  ProjectManager   \n",
        "1  DevelopmentId  AdminHold  ReviewCycles  Fees  Scope  ProjectManager   \n",
        "2  DevelopmentId  AdminHold  ReviewCycles  Fees  Scope  ProjectManager   \n",
        "3  DevelopmentId  AdminHold  ReviewCycles  Fees  Scope  ProjectManager   \n",
        "4  DevelopmentId  AdminHold  ReviewCycles  Fees  Scope  ProjectManager   \n",
        "\n",
        "                17                18  \n",
        "0  ApplicationDate  DevelopmentTitle  \n",
        "1  ApplicationDate  DevelopmentTitle  \n",
        "2  ApplicationDate  DevelopmentTitle  \n",
        "3  ApplicationDate  DevelopmentTitle  \n",
        "4  ApplicationDate  DevelopmentTitle  \n",
        "\n",
        "[5 rows x 19 columns]"
       ]
      }
     ],
     "prompt_number": 9
    },
    {
     "cell_type": "code",
     "collapsed": false,
     "input": [
      "# iterate through this manually\n",
      "\n",
      "key_df[18].value_counts()"
     ],
     "language": "python",
     "metadata": {},
     "outputs": [
      {
       "metadata": {},
       "output_type": "pyout",
       "prompt_number": 32,
       "text": [
        "DevelopmentTitle    231009\n",
        "dtype: int64"
       ]
      }
     ],
     "prompt_number": 32
    },
    {
     "cell_type": "heading",
     "level": 4,
     "metadata": {},
     "source": [
      "verdict: keys do not vary over the years; there is no start date other than 'application date'"
     ]
    },
    {
     "cell_type": "code",
     "collapsed": false,
     "input": [
      "# generator to grab a collection of relevant variables from each record\n",
      "\n",
      "def gen(cur):\n",
      "    for row in cur.execute('SELECT data FROM json'):\n",
      "        d = json.loads(str(row[0]).decode('zlib'))\n",
      "        \n",
      "        if 'DevelopmentId' in d:\n",
      "            \n",
      "            keys = ['DevelopmentId',\n",
      "                    'DevelopmentTitle',\n",
      "                    'Title',\n",
      "                    'ProjectId',\n",
      "                    'Scope',\n",
      "                    'ApplicationDate',\n",
      "                    'ApplicationExpired',\n",
      "                    'ApplicationExpiration',\n",
      "                    'ProjectManagerId']\n",
      "            \n",
      "            yield {key:d[key] for key in keys}"
     ],
     "language": "python",
     "metadata": {},
     "outputs": [],
     "prompt_number": 85
    },
    {
     "cell_type": "code",
     "collapsed": false,
     "input": [
      "# create dataframe from generator\n",
      "df = pd.DataFrame(gen(cur))"
     ],
     "language": "python",
     "metadata": {},
     "outputs": [],
     "prompt_number": 86
    },
    {
     "cell_type": "heading",
     "level": 3,
     "metadata": {},
     "source": [
      "Clean up dataframe"
     ]
    },
    {
     "cell_type": "code",
     "collapsed": false,
     "input": [
      "# parse ISO 8601\n",
      "df.ApplicationDate = df.ApplicationDate.apply(dateutil.parser.parse)"
     ],
     "language": "python",
     "metadata": {},
     "outputs": [],
     "prompt_number": 87
    },
    {
     "cell_type": "code",
     "collapsed": false,
     "input": [
      "tmp = []\n",
      "\n",
      "for item in df.ApplicationExpiration:\n",
      "    if item:\n",
      "        item = dateutil.parser.parse(item)\n",
      "        tmp.append(item)\n",
      "    else:\n",
      "        tmp.append('nan')"
     ],
     "language": "python",
     "metadata": {},
     "outputs": [],
     "prompt_number": 88
    },
    {
     "cell_type": "code",
     "collapsed": false,
     "input": [
      "df.ApplicationExpiration = tmp"
     ],
     "language": "python",
     "metadata": {},
     "outputs": [],
     "prompt_number": 89
    },
    {
     "cell_type": "markdown",
     "metadata": {},
     "source": [
      "### Some Exploration"
     ]
    },
    {
     "cell_type": "code",
     "collapsed": false,
     "input": [
      "df.head()"
     ],
     "language": "python",
     "metadata": {},
     "outputs": [
      {
       "html": [
        "<div style=\"max-height:1000px;max-width:1500px;overflow:auto;\">\n",
        "<table border=\"1\" class=\"dataframe\">\n",
        "  <thead>\n",
        "    <tr style=\"text-align: right;\">\n",
        "      <th></th>\n",
        "      <th>ApplicationDate</th>\n",
        "      <th>ApplicationExpiration</th>\n",
        "      <th>ApplicationExpired</th>\n",
        "      <th>DevelopmentId</th>\n",
        "      <th>DevelopmentTitle</th>\n",
        "      <th>ProjectId</th>\n",
        "      <th>ProjectManagerId</th>\n",
        "      <th>Scope</th>\n",
        "      <th>Title</th>\n",
        "    </tr>\n",
        "  </thead>\n",
        "  <tbody>\n",
        "    <tr>\n",
        "      <th>0</th>\n",
        "      <td>2009-12-23 17:00:00</td>\n",
        "      <td>2019-12-21 17:00:00</td>\n",
        "      <td> False</td>\n",
        "      <td> 1001</td>\n",
        "      <td>                   New Carwash</td>\n",
        "      <td> 1001</td>\n",
        "      <td> 3328</td>\n",
        "      <td>                                                  </td>\n",
        "      <td>                 TESTPROJECT</td>\n",
        "    </tr>\n",
        "    <tr>\n",
        "      <th>1</th>\n",
        "      <td>2005-06-28 17:00:00</td>\n",
        "      <td>                NaT</td>\n",
        "      <td> False</td>\n",
        "      <td> 1040</td>\n",
        "      <td>                  4026 RIVIERA</td>\n",
        "      <td> 1040</td>\n",
        "      <td> 3367</td>\n",
        "      <td> Pacific Beach, WO#41-0365. (PROCESS 3) Coastal...</td>\n",
        "      <td>                4026 Riviera</td>\n",
        "    </tr>\n",
        "    <tr>\n",
        "      <th>2</th>\n",
        "      <td>2005-06-28 17:00:00</td>\n",
        "      <td>                NaT</td>\n",
        "      <td> False</td>\n",
        "      <td> 1041</td>\n",
        "      <td>                  4040 RIVIERA</td>\n",
        "      <td> 1041</td>\n",
        "      <td> 3367</td>\n",
        "      <td> Pacific Beach, WO#41-0364. (PROCESS 3) Coastal...</td>\n",
        "      <td>                4040 Riviera</td>\n",
        "    </tr>\n",
        "    <tr>\n",
        "      <th>3</th>\n",
        "      <td>2003-08-15 17:00:00</td>\n",
        "      <td>2005-11-28 17:00:00</td>\n",
        "      <td>  True</td>\n",
        "      <td> 1096</td>\n",
        "      <td> Lot 11 Bernardo Industrial Pk</td>\n",
        "      <td> 1096</td>\n",
        "      <td> 3130</td>\n",
        "      <td> JO# 41-0679, RANCHO BERNARDO;  (PROCESS 4) Sit...</td>\n",
        "      <td>      Rancho Bernardo Lot 11</td>\n",
        "    </tr>\n",
        "    <tr>\n",
        "      <th>4</th>\n",
        "      <td>2004-12-15 17:00:00</td>\n",
        "      <td>                NaT</td>\n",
        "      <td> False</td>\n",
        "      <td> 1102</td>\n",
        "      <td>   Marriott Residence Inn - MV</td>\n",
        "      <td> 1102</td>\n",
        "      <td> 2980</td>\n",
        "      <td> Grading and public improvoement.  See WO#41058...</td>\n",
        "      <td> Marriott Residence Inn - MV</td>\n",
        "    </tr>\n",
        "  </tbody>\n",
        "</table>\n",
        "<p>5 rows \u00d7 9 columns</p>\n",
        "</div>"
       ],
       "metadata": {},
       "output_type": "pyout",
       "prompt_number": 90,
       "text": [
        "      ApplicationDate ApplicationExpiration ApplicationExpired  DevelopmentId  \\\n",
        "0 2009-12-23 17:00:00   2019-12-21 17:00:00              False           1001   \n",
        "1 2005-06-28 17:00:00                   NaT              False           1040   \n",
        "2 2005-06-28 17:00:00                   NaT              False           1041   \n",
        "3 2003-08-15 17:00:00   2005-11-28 17:00:00               True           1096   \n",
        "4 2004-12-15 17:00:00                   NaT              False           1102   \n",
        "\n",
        "                DevelopmentTitle  ProjectId  ProjectManagerId  \\\n",
        "0                    New Carwash       1001              3328   \n",
        "1                   4026 RIVIERA       1040              3367   \n",
        "2                   4040 RIVIERA       1041              3367   \n",
        "3  Lot 11 Bernardo Industrial Pk       1096              3130   \n",
        "4    Marriott Residence Inn - MV       1102              2980   \n",
        "\n",
        "                                               Scope  \\\n",
        "0                                                      \n",
        "1  Pacific Beach, WO#41-0365. (PROCESS 3) Coastal...   \n",
        "2  Pacific Beach, WO#41-0364. (PROCESS 3) Coastal...   \n",
        "3  JO# 41-0679, RANCHO BERNARDO;  (PROCESS 4) Sit...   \n",
        "4  Grading and public improvoement.  See WO#41058...   \n",
        "\n",
        "                         Title  \n",
        "0                  TESTPROJECT  \n",
        "1                 4026 Riviera  \n",
        "2                 4040 Riviera  \n",
        "3       Rancho Bernardo Lot 11  \n",
        "4  Marriott Residence Inn - MV  \n",
        "\n",
        "[5 rows x 9 columns]"
       ]
      }
     ],
     "prompt_number": 90
    },
    {
     "cell_type": "code",
     "collapsed": false,
     "input": [
      "len(df.index)"
     ],
     "language": "python",
     "metadata": {},
     "outputs": [
      {
       "metadata": {},
       "output_type": "pyout",
       "prompt_number": 91,
       "text": [
        "231009"
       ]
      }
     ],
     "prompt_number": 91
    },
    {
     "cell_type": "code",
     "collapsed": false,
     "input": [
      "len(df.DevelopmentId.unique())"
     ],
     "language": "python",
     "metadata": {},
     "outputs": [
      {
       "metadata": {},
       "output_type": "pyout",
       "prompt_number": 92,
       "text": [
        "155772"
       ]
      }
     ],
     "prompt_number": 92
    },
    {
     "cell_type": "code",
     "collapsed": false,
     "input": [
      "df.DevelopmentId.min()"
     ],
     "language": "python",
     "metadata": {},
     "outputs": [
      {
       "metadata": {},
       "output_type": "pyout",
       "prompt_number": 93,
       "text": [
        "0"
       ]
      }
     ],
     "prompt_number": 93
    },
    {
     "cell_type": "code",
     "collapsed": false,
     "input": [
      "df.sort(['DevelopmentId']).head()"
     ],
     "language": "python",
     "metadata": {},
     "outputs": [
      {
       "html": [
        "<div style=\"max-height:1000px;max-width:1500px;overflow:auto;\">\n",
        "<table border=\"1\" class=\"dataframe\">\n",
        "  <thead>\n",
        "    <tr style=\"text-align: right;\">\n",
        "      <th></th>\n",
        "      <th>ApplicationDate</th>\n",
        "      <th>ApplicationExpiration</th>\n",
        "      <th>ApplicationExpired</th>\n",
        "      <th>DevelopmentId</th>\n",
        "      <th>DevelopmentTitle</th>\n",
        "      <th>ProjectId</th>\n",
        "      <th>ProjectManagerId</th>\n",
        "      <th>Scope</th>\n",
        "      <th>Title</th>\n",
        "    </tr>\n",
        "  </thead>\n",
        "  <tbody>\n",
        "    <tr>\n",
        "      <th>25569 </th>\n",
        "      <td>2004-09-29 17:00:00</td>\n",
        "      <td>2005-09-24 17:00:00</td>\n",
        "      <td>  True</td>\n",
        "      <td>    0</td>\n",
        "      <td> Hold Non-Project Info</td>\n",
        "      <td>  52697</td>\n",
        "      <td> 3509</td>\n",
        "      <td> UPTOWN - MR-1000 - MCCPD;  Combination permit ...</td>\n",
        "      <td> JSK Properties - Res.Deck</td>\n",
        "    </tr>\n",
        "    <tr>\n",
        "      <th>0     </th>\n",
        "      <td>2009-12-23 17:00:00</td>\n",
        "      <td>2019-12-21 17:00:00</td>\n",
        "      <td> False</td>\n",
        "      <td> 1001</td>\n",
        "      <td>           New Carwash</td>\n",
        "      <td>   1001</td>\n",
        "      <td> 3328</td>\n",
        "      <td>                                                  </td>\n",
        "      <td>               TESTPROJECT</td>\n",
        "    </tr>\n",
        "    <tr>\n",
        "      <th>152675</th>\n",
        "      <td>2011-09-27 17:00:00</td>\n",
        "      <td>2012-09-26 17:00:00</td>\n",
        "      <td>  True</td>\n",
        "      <td> 1001</td>\n",
        "      <td>           New Carwash</td>\n",
        "      <td> 258111</td>\n",
        "      <td> 3329</td>\n",
        "      <td>                                            Delete</td>\n",
        "      <td>               TESTPROJECT</td>\n",
        "    </tr>\n",
        "    <tr>\n",
        "      <th>344   </th>\n",
        "      <td>2003-08-04 17:00:00</td>\n",
        "      <td>                NaT</td>\n",
        "      <td> False</td>\n",
        "      <td> 1001</td>\n",
        "      <td>           New Carwash</td>\n",
        "      <td>   6776</td>\n",
        "      <td> 3328</td>\n",
        "      <td> PROJECT CLOSED DUE TO INACTIVITY - File to wil...</td>\n",
        "      <td>         MANSOUR RESIDENCE</td>\n",
        "    </tr>\n",
        "    <tr>\n",
        "      <th>73253 </th>\n",
        "      <td>2007-07-18 17:00:00</td>\n",
        "      <td>2008-07-12 17:00:00</td>\n",
        "      <td>  True</td>\n",
        "      <td> 1001</td>\n",
        "      <td>           New Carwash</td>\n",
        "      <td> 125995</td>\n",
        "      <td> 3473</td>\n",
        "      <td>                                                  </td>\n",
        "      <td>              DO NOT USE!!</td>\n",
        "    </tr>\n",
        "  </tbody>\n",
        "</table>\n",
        "<p>5 rows \u00d7 9 columns</p>\n",
        "</div>"
       ],
       "metadata": {},
       "output_type": "pyout",
       "prompt_number": 94,
       "text": [
        "           ApplicationDate ApplicationExpiration ApplicationExpired  \\\n",
        "25569  2004-09-29 17:00:00   2005-09-24 17:00:00               True   \n",
        "0      2009-12-23 17:00:00   2019-12-21 17:00:00              False   \n",
        "152675 2011-09-27 17:00:00   2012-09-26 17:00:00               True   \n",
        "344    2003-08-04 17:00:00                   NaT              False   \n",
        "73253  2007-07-18 17:00:00   2008-07-12 17:00:00               True   \n",
        "\n",
        "        DevelopmentId       DevelopmentTitle  ProjectId  ProjectManagerId  \\\n",
        "25569               0  Hold Non-Project Info      52697              3509   \n",
        "0                1001            New Carwash       1001              3328   \n",
        "152675           1001            New Carwash     258111              3329   \n",
        "344              1001            New Carwash       6776              3328   \n",
        "73253            1001            New Carwash     125995              3473   \n",
        "\n",
        "                                                    Scope  \\\n",
        "25569   UPTOWN - MR-1000 - MCCPD;  Combination permit ...   \n",
        "0                                                           \n",
        "152675                                             Delete   \n",
        "344     PROJECT CLOSED DUE TO INACTIVITY - File to wil...   \n",
        "73253                                                       \n",
        "\n",
        "                            Title  \n",
        "25569   JSK Properties - Res.Deck  \n",
        "0                     TESTPROJECT  \n",
        "152675                TESTPROJECT  \n",
        "344             MANSOUR RESIDENCE  \n",
        "73253                DO NOT USE!!  \n",
        "\n",
        "[5 rows x 9 columns]"
       ]
      }
     ],
     "prompt_number": 94
    },
    {
     "cell_type": "code",
     "collapsed": false,
     "input": [
      "df.DevelopmentId.max()"
     ],
     "language": "python",
     "metadata": {},
     "outputs": [
      {
       "metadata": {},
       "output_type": "pyout",
       "prompt_number": 95,
       "text": [
        "252279"
       ]
      }
     ],
     "prompt_number": 95
    },
    {
     "cell_type": "code",
     "collapsed": false,
     "input": [
      "len(df.ProjectId.unique())"
     ],
     "language": "python",
     "metadata": {},
     "outputs": [
      {
       "metadata": {},
       "output_type": "pyout",
       "prompt_number": 96,
       "text": [
        "231009"
       ]
      }
     ],
     "prompt_number": 96
    },
    {
     "cell_type": "code",
     "collapsed": false,
     "input": [
      "df.ProjectId.min()"
     ],
     "language": "python",
     "metadata": {},
     "outputs": [
      {
       "metadata": {},
       "output_type": "pyout",
       "prompt_number": 97,
       "text": [
        "1001"
       ]
      }
     ],
     "prompt_number": 97
    },
    {
     "cell_type": "code",
     "collapsed": false,
     "input": [
      "df.ProjectId.max()"
     ],
     "language": "python",
     "metadata": {},
     "outputs": [
      {
       "metadata": {},
       "output_type": "pyout",
       "prompt_number": 98,
       "text": [
        "399873"
       ]
      }
     ],
     "prompt_number": 98
    },
    {
     "cell_type": "code",
     "collapsed": false,
     "input": [
      "df.ApplicationDate.min()"
     ],
     "language": "python",
     "metadata": {},
     "outputs": [
      {
       "metadata": {},
       "output_type": "pyout",
       "prompt_number": 99,
       "text": [
        "Timestamp('2003-01-01 17:00:00', tz=None)"
       ]
      }
     ],
     "prompt_number": 99
    },
    {
     "cell_type": "code",
     "collapsed": false,
     "input": [
      "df.ApplicationDate.max()"
     ],
     "language": "python",
     "metadata": {},
     "outputs": [
      {
       "metadata": {},
       "output_type": "pyout",
       "prompt_number": 100,
       "text": [
        "Timestamp('2014-12-05 10:21:00', tz=None)"
       ]
      }
     ],
     "prompt_number": 100
    },
    {
     "cell_type": "code",
     "collapsed": false,
     "input": [
      "len(df.ProjectManagerId.unique())"
     ],
     "language": "python",
     "metadata": {},
     "outputs": [
      {
       "metadata": {},
       "output_type": "pyout",
       "prompt_number": 101,
       "text": [
        "275"
       ]
      }
     ],
     "prompt_number": 101
    },
    {
     "cell_type": "code",
     "collapsed": false,
     "input": [
      "df.ProjectManagerId.min()"
     ],
     "language": "python",
     "metadata": {},
     "outputs": [
      {
       "metadata": {},
       "output_type": "pyout",
       "prompt_number": 102,
       "text": [
        "2786"
       ]
      }
     ],
     "prompt_number": 102
    },
    {
     "cell_type": "code",
     "collapsed": false,
     "input": [
      "df.ProjectManagerId.max()"
     ],
     "language": "python",
     "metadata": {},
     "outputs": [
      {
       "metadata": {},
       "output_type": "pyout",
       "prompt_number": 103,
       "text": [
        "6991"
       ]
      }
     ],
     "prompt_number": 103
    },
    {
     "cell_type": "code",
     "collapsed": false,
     "input": [
      "df.ApplicationExpired.value_counts()"
     ],
     "language": "python",
     "metadata": {},
     "outputs": [
      {
       "metadata": {},
       "output_type": "pyout",
       "prompt_number": 104,
       "text": [
        "False    117103\n",
        "True     113906\n",
        "dtype: int64"
       ]
      }
     ],
     "prompt_number": 104
    },
    {
     "cell_type": "code",
     "collapsed": false,
     "input": [
      "df.to_csv('/home/damoncrockett/Desktop/DSD_Master_Project_Table.csv', encoding= 'utf-8')"
     ],
     "language": "python",
     "metadata": {},
     "outputs": [],
     "prompt_number": 106
    },
    {
     "cell_type": "code",
     "collapsed": false,
     "input": [],
     "language": "python",
     "metadata": {},
     "outputs": []
    }
   ],
   "metadata": {}
  }
 ]
}