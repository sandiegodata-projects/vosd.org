{
 "metadata": {
  "name": "",
  "signature": "sha256:3701e1d80a1a08136fa77848eee84307c42c759d92a731e21beeec95cd38c450"
 },
 "nbformat": 3,
 "nbformat_minor": 0,
 "worksheets": [
  {
   "cells": [
    {
     "cell_type": "heading",
     "level": 1,
     "metadata": {},
     "source": [
      "Pulling Approval Records from the Project Records"
     ]
    },
    {
     "cell_type": "heading",
     "level": 4,
     "metadata": {},
     "source": [
      "Damon Crockett, damon@civicknowledge.com"
     ]
    },
    {
     "cell_type": "code",
     "collapsed": false,
     "input": [
      "%matplotlib inline\n",
      "import pandas as pd\n",
      "import sqlite3\n",
      "import json\n",
      "import dateutil.parser\n",
      "import datetime\n",
      "import os\n",
      "import gzip\n",
      "import numpy as np\n",
      "import matplotlib.pyplot as plt\n",
      "from scipy.stats import *"
     ],
     "language": "python",
     "metadata": {},
     "outputs": [],
     "prompt_number": 1
    },
    {
     "cell_type": "heading",
     "level": 3,
     "metadata": {},
     "source": [
      "Create appropriate dataframe from database file"
     ]
    },
    {
     "cell_type": "code",
     "collapsed": false,
     "input": [
      "# create connection and cursor for database file 'approvals.db'\n",
      "\n",
      "con = sqlite3.connect('/home/damoncrockett/Desktop/DSD_sqlite_db/projects.db')\n",
      "cur = con.cursor()"
     ],
     "language": "python",
     "metadata": {},
     "outputs": [],
     "prompt_number": 5
    },
    {
     "cell_type": "code",
     "collapsed": false,
     "input": [
      "# generator to grab a collection of relevant variables from each record\n",
      "\n",
      "def gen(cur):\n",
      "    for row in cur.execute('SELECT data FROM json'):\n",
      "        d = json.loads(str(row[0]).decode('zlib'))\n",
      "        \n",
      "        if 'Jobs' in d:\n",
      "            n = len(d['Jobs'])\n",
      "            \n",
      "            for i in range(n):\n",
      "                yield d['Jobs'][i]\n",
      "        \n",
      "        \n",
      "   "
     ],
     "language": "python",
     "metadata": {},
     "outputs": [],
     "prompt_number": 6
    },
    {
     "cell_type": "code",
     "collapsed": false,
     "input": [
      "# create dataframe from generator\n",
      "df = pd.DataFrame(gen(cur))"
     ],
     "language": "python",
     "metadata": {},
     "outputs": [],
     "prompt_number": 7
    },
    {
     "cell_type": "code",
     "collapsed": false,
     "input": [
      "len(df.index)"
     ],
     "language": "python",
     "metadata": {},
     "outputs": [
      {
       "metadata": {},
       "output_type": "pyout",
       "prompt_number": 8,
       "text": [
        "309073"
       ]
      }
     ],
     "prompt_number": 8
    },
    {
     "cell_type": "code",
     "collapsed": false,
     "input": [
      "len(df.JobId.unique())"
     ],
     "language": "python",
     "metadata": {},
     "outputs": [
      {
       "metadata": {},
       "output_type": "pyout",
       "prompt_number": 9,
       "text": [
        "309073"
       ]
      }
     ],
     "prompt_number": 9
    },
    {
     "cell_type": "code",
     "collapsed": false,
     "input": [
      "df.head()"
     ],
     "language": "python",
     "metadata": {},
     "outputs": [
      {
       "html": [
        "<div style=\"max-height:1000px;max-width:1500px;overflow:auto;\">\n",
        "<table border=\"1\" class=\"dataframe\">\n",
        "  <thead>\n",
        "    <tr style=\"text-align: right;\">\n",
        "      <th></th>\n",
        "      <th>APN</th>\n",
        "      <th>ApprovalInfo</th>\n",
        "      <th>Approvals</th>\n",
        "      <th>Description</th>\n",
        "      <th>JobFeesSubTotal</th>\n",
        "      <th>JobId</th>\n",
        "      <th>Latitude</th>\n",
        "      <th>Longitude</th>\n",
        "      <th>MapReference</th>\n",
        "      <th>NAD83Easting</th>\n",
        "      <th>NAD83Northing</th>\n",
        "      <th>ProjectId</th>\n",
        "      <th>SignOffs</th>\n",
        "      <th>SortableStreetAddress</th>\n",
        "      <th>StreetAddress</th>\n",
        "    </tr>\n",
        "  </thead>\n",
        "  <tbody>\n",
        "    <tr>\n",
        "      <th>0</th>\n",
        "      <td> 541-060-20-00</td>\n",
        "      <td> []</td>\n",
        "      <td> [{u'ApprovalId': 747149, u'Status': u'Created'...</td>\n",
        "      <td>    4365   HOME AV </td>\n",
        "      <td> None</td>\n",
        "      <td>   1002</td>\n",
        "      <td>       NaN</td>\n",
        "      <td>        NaN</td>\n",
        "      <td> 1289-H1</td>\n",
        "      <td> None</td>\n",
        "      <td> None</td>\n",
        "      <td> 1001</td>\n",
        "      <td> [{u'DisciplineId': 101, u'SignedDate': u'Not S...</td>\n",
        "      <td>           AV 0000004365 </td>\n",
        "      <td> 4365  AV [Pending]</td>\n",
        "    </tr>\n",
        "    <tr>\n",
        "      <th>1</th>\n",
        "      <td> 541-060-20-00</td>\n",
        "      <td> []</td>\n",
        "      <td> [{u'ApprovalId': 1133972, u'Status': u'Created...</td>\n",
        "      <td>        TESTPROJECT</td>\n",
        "      <td> None</td>\n",
        "      <td> 643577</td>\n",
        "      <td> 32.727100</td>\n",
        "      <td>-117.100900</td>\n",
        "      <td> 1289-H1</td>\n",
        "      <td> None</td>\n",
        "      <td> None</td>\n",
        "      <td> 1001</td>\n",
        "      <td> [{u'DisciplineId': 104, u'SignedDate': u'Not S...</td>\n",
        "      <td> FAIRMOUNT AV 0000002286 </td>\n",
        "      <td> 2286 FAIRMOUNT AV </td>\n",
        "    </tr>\n",
        "    <tr>\n",
        "      <th>2</th>\n",
        "      <td> 541-060-20-00</td>\n",
        "      <td> []</td>\n",
        "      <td> [{u'ApprovalId': 1036105, u'Status': u'Cancell...</td>\n",
        "      <td>    XXXXX-D Grading</td>\n",
        "      <td> None</td>\n",
        "      <td> 591201</td>\n",
        "      <td> 32.727100</td>\n",
        "      <td>-117.100900</td>\n",
        "      <td> 1289-H1</td>\n",
        "      <td> None</td>\n",
        "      <td> None</td>\n",
        "      <td> 1001</td>\n",
        "      <td> [{u'DisciplineId': 104, u'SignedDate': u'Not S...</td>\n",
        "      <td> FAIRMOUNT AV 0000002286 </td>\n",
        "      <td> 2286 FAIRMOUNT AV </td>\n",
        "    </tr>\n",
        "    <tr>\n",
        "      <th>3</th>\n",
        "      <td> 423-382-26-00</td>\n",
        "      <td> []</td>\n",
        "      <td> [{u'ApprovalId': 286593, u'Status': u'Issued',...</td>\n",
        "      <td> 4026   RIVIERA DR </td>\n",
        "      <td> None</td>\n",
        "      <td>   1063</td>\n",
        "      <td> 32.792299</td>\n",
        "      <td>-117.241771</td>\n",
        "      <td> 1248-A7</td>\n",
        "      <td> None</td>\n",
        "      <td> None</td>\n",
        "      <td> 1040</td>\n",
        "      <td> [{u'DisciplineId': 102, u'SignedDate': u'11/18...</td>\n",
        "      <td>   RIVIERA DR 0000004026 </td>\n",
        "      <td>   4026 RIVIERA DR </td>\n",
        "    </tr>\n",
        "    <tr>\n",
        "      <th>4</th>\n",
        "      <td> 423-382-29-00</td>\n",
        "      <td> []</td>\n",
        "      <td> [{u'ApprovalId': 286595, u'Status': u'Issued',...</td>\n",
        "      <td> 4040   RIVIERA DR </td>\n",
        "      <td> None</td>\n",
        "      <td>   1065</td>\n",
        "      <td> 32.792570</td>\n",
        "      <td>-117.241852</td>\n",
        "      <td> 1248-A7</td>\n",
        "      <td> None</td>\n",
        "      <td> None</td>\n",
        "      <td> 1041</td>\n",
        "      <td> [{u'DisciplineId': 102, u'SignedDate': u'Not S...</td>\n",
        "      <td>   RIVIERA DR 0000004040 </td>\n",
        "      <td>   4040 RIVIERA DR </td>\n",
        "    </tr>\n",
        "  </tbody>\n",
        "</table>\n",
        "<p>5 rows \u00d7 15 columns</p>\n",
        "</div>"
       ],
       "metadata": {},
       "output_type": "pyout",
       "prompt_number": 10,
       "text": [
        "             APN ApprovalInfo  \\\n",
        "0  541-060-20-00           []   \n",
        "1  541-060-20-00           []   \n",
        "2  541-060-20-00           []   \n",
        "3  423-382-26-00           []   \n",
        "4  423-382-29-00           []   \n",
        "\n",
        "                                           Approvals         Description  \\\n",
        "0  [{u'ApprovalId': 747149, u'Status': u'Created'...     4365   HOME AV    \n",
        "1  [{u'ApprovalId': 1133972, u'Status': u'Created...         TESTPROJECT   \n",
        "2  [{u'ApprovalId': 1036105, u'Status': u'Cancell...     XXXXX-D Grading   \n",
        "3  [{u'ApprovalId': 286593, u'Status': u'Issued',...  4026   RIVIERA DR    \n",
        "4  [{u'ApprovalId': 286595, u'Status': u'Issued',...  4040   RIVIERA DR    \n",
        "\n",
        "  JobFeesSubTotal   JobId   Latitude   Longitude MapReference NAD83Easting  \\\n",
        "0            None    1002        NaN         NaN      1289-H1         None   \n",
        "1            None  643577  32.727100 -117.100900      1289-H1         None   \n",
        "2            None  591201  32.727100 -117.100900      1289-H1         None   \n",
        "3            None    1063  32.792299 -117.241771      1248-A7         None   \n",
        "4            None    1065  32.792570 -117.241852      1248-A7         None   \n",
        "\n",
        "  NAD83Northing  ProjectId                                           SignOffs  \\\n",
        "0          None       1001  [{u'DisciplineId': 101, u'SignedDate': u'Not S...   \n",
        "1          None       1001  [{u'DisciplineId': 104, u'SignedDate': u'Not S...   \n",
        "2          None       1001  [{u'DisciplineId': 104, u'SignedDate': u'Not S...   \n",
        "3          None       1040  [{u'DisciplineId': 102, u'SignedDate': u'11/18...   \n",
        "4          None       1041  [{u'DisciplineId': 102, u'SignedDate': u'Not S...   \n",
        "\n",
        "      SortableStreetAddress       StreetAddress  \n",
        "0            AV 0000004365   4365  AV [Pending]  \n",
        "1  FAIRMOUNT AV 0000002286   2286 FAIRMOUNT AV   \n",
        "2  FAIRMOUNT AV 0000002286   2286 FAIRMOUNT AV   \n",
        "3    RIVIERA DR 0000004026     4026 RIVIERA DR   \n",
        "4    RIVIERA DR 0000004040     4040 RIVIERA DR   \n",
        "\n",
        "[5 rows x 15 columns]"
       ]
      }
     ],
     "prompt_number": 10
    },
    {
     "cell_type": "heading",
     "level": 3,
     "metadata": {},
     "source": [
      "Sanity Check"
     ]
    },
    {
     "cell_type": "code",
     "collapsed": false,
     "input": [
      "job_lengths = []\n",
      "\n",
      "for row in cur.execute('SELECT data FROM json'):\n",
      "        d = json.loads(str(row[0]).decode('zlib'))\n",
      "        \n",
      "        if 'Jobs' in d:\n",
      "            job_lengths.append(len(d['Jobs']))            "
     ],
     "language": "python",
     "metadata": {},
     "outputs": [],
     "prompt_number": 11
    },
    {
     "cell_type": "code",
     "collapsed": false,
     "input": [
      "from collections import Counter\n",
      "\n",
      "Counter(job_lengths)"
     ],
     "language": "python",
     "metadata": {},
     "outputs": [
      {
       "metadata": {},
       "output_type": "pyout",
       "prompt_number": 12,
       "text": [
        "Counter({1: 206630, 2: 13077, 3: 4549, 4: 1959, 5: 1103, 6: 680, 8: 494, 7: 479, 9: 308, 10: 217, 20: 205, 11: 138, 12: 128, 13: 103, 14: 101, 16: 99, 15: 93, 19: 81, 21: 57, 17: 55, 18: 55, 25: 29, 27: 28, 28: 26, 30: 25, 23: 24, 22: 21, 26: 21, 24: 20, 29: 12, 31: 12, 46: 12, 34: 11, 35: 11, 36: 9, 32: 8, 33: 8, 38: 8, 47: 7, 37: 6, 49: 6, 54: 6, 40: 5, 52: 5, 55: 5, 48: 4, 57: 4, 60: 4, 39: 3, 42: 3, 43: 3, 44: 3, 45: 3, 100: 3, 41: 2, 51: 2, 58: 2, 61: 2, 63: 2, 66: 2, 68: 2, 73: 2, 74: 2, 50: 1, 53: 1, 56: 1, 62: 1, 64: 1, 65: 1, 72: 1, 75: 1, 76: 1, 78: 1, 83: 1, 89: 1, 92: 1, 96: 1, 102: 1, 106: 1, 110: 1, 112: 1, 116: 1, 131: 1, 136: 1, 144: 1, 168: 1, 188: 1, 302: 1})"
       ]
      }
     ],
     "prompt_number": 12
    },
    {
     "cell_type": "code",
     "collapsed": false,
     "input": [
      "sum(job_lengths)"
     ],
     "language": "python",
     "metadata": {},
     "outputs": [
      {
       "metadata": {},
       "output_type": "pyout",
       "prompt_number": 13,
       "text": [
        "309073"
       ]
      }
     ],
     "prompt_number": 13
    },
    {
     "cell_type": "code",
     "collapsed": false,
     "input": [
      "#df.to_csv('/home/damoncrockett/Desktop/jobs_complete.csv', encoding = 'utf-8')"
     ],
     "language": "python",
     "metadata": {},
     "outputs": [],
     "prompt_number": 55
    },
    {
     "cell_type": "heading",
     "level": 3,
     "metadata": {},
     "source": [
      "Extracting Approvals"
     ]
    },
    {
     "cell_type": "code",
     "collapsed": false,
     "input": [
      "jobs = df[['APN','Approvals','Description','JobId','Latitude','Longitude','ProjectId','StreetAddress']]"
     ],
     "language": "python",
     "metadata": {},
     "outputs": [],
     "prompt_number": 14
    },
    {
     "cell_type": "code",
     "collapsed": false,
     "input": [
      "cell_lengths = []\n",
      "\n",
      "for i in jobs.Approvals:\n",
      "    cell_lengths.append(len(i))"
     ],
     "language": "python",
     "metadata": {},
     "outputs": [],
     "prompt_number": 15
    },
    {
     "cell_type": "code",
     "collapsed": false,
     "input": [
      "from collections import Counter\n",
      "\n",
      "Counter(cell_lengths)"
     ],
     "language": "python",
     "metadata": {},
     "outputs": [
      {
       "metadata": {},
       "output_type": "pyout",
       "prompt_number": 16,
       "text": [
        "Counter({1: 266368, 4: 17669, 2: 16185, 3: 7484, 0: 1158, 5: 158, 6: 33, 7: 12, 8: 4, 9: 2})"
       ]
      }
     ],
     "prompt_number": 16
    },
    {
     "cell_type": "code",
     "collapsed": false,
     "input": [
      "sum(cell_lengths)"
     ],
     "language": "python",
     "metadata": {},
     "outputs": [
      {
       "metadata": {},
       "output_type": "pyout",
       "prompt_number": 17,
       "text": [
        "392988"
       ]
      }
     ],
     "prompt_number": 17
    },
    {
     "cell_type": "code",
     "collapsed": false,
     "input": [
      "def gen_approvals(series):\n",
      "    for i in series:\n",
      "        n = len(i)\n",
      "        \n",
      "        for j in range(n):\n",
      "            yield i[j]    "
     ],
     "language": "python",
     "metadata": {},
     "outputs": [],
     "prompt_number": 18
    },
    {
     "cell_type": "code",
     "collapsed": false,
     "input": [
      "approvals = pd.DataFrame(gen_approvals(jobs.Approvals))"
     ],
     "language": "python",
     "metadata": {},
     "outputs": [],
     "prompt_number": 19
    },
    {
     "cell_type": "code",
     "collapsed": false,
     "input": [
      "len(approvals.index)"
     ],
     "language": "python",
     "metadata": {},
     "outputs": [
      {
       "metadata": {},
       "output_type": "pyout",
       "prompt_number": 20,
       "text": [
        "392988"
       ]
      }
     ],
     "prompt_number": 20
    },
    {
     "cell_type": "code",
     "collapsed": false,
     "input": [
      "approvals.head()"
     ],
     "language": "python",
     "metadata": {},
     "outputs": [
      {
       "html": [
        "<div style=\"max-height:1000px;max-width:1500px;overflow:auto;\">\n",
        "<table border=\"1\" class=\"dataframe\">\n",
        "  <thead>\n",
        "    <tr style=\"text-align: right;\">\n",
        "      <th></th>\n",
        "      <th>ApprovalId</th>\n",
        "      <th>CompleteCancelDate</th>\n",
        "      <th>Depiction</th>\n",
        "      <th>FirstInspectionDate</th>\n",
        "      <th>IssueDate</th>\n",
        "      <th>IssuedBy</th>\n",
        "      <th>JobId</th>\n",
        "      <th>NetChangeDU</th>\n",
        "      <th>PermitHolder</th>\n",
        "      <th>Scope</th>\n",
        "      <th>SquareFootage</th>\n",
        "      <th>Status</th>\n",
        "      <th>Type</th>\n",
        "      <th>Valuation</th>\n",
        "    </tr>\n",
        "  </thead>\n",
        "  <tbody>\n",
        "    <tr>\n",
        "      <th>0</th>\n",
        "      <td>  747149</td>\n",
        "      <td>                None</td>\n",
        "      <td> 1</td>\n",
        "      <td>                None</td>\n",
        "      <td>                None</td>\n",
        "      <td>              </td>\n",
        "      <td>   1002</td>\n",
        "      <td> </td>\n",
        "      <td>               </td>\n",
        "      <td>            </td>\n",
        "      <td>NaN</td>\n",
        "      <td>                                Created</td>\n",
        "      <td>               Building Permit</td>\n",
        "      <td> </td>\n",
        "    </tr>\n",
        "    <tr>\n",
        "      <th>1</th>\n",
        "      <td> 1133972</td>\n",
        "      <td>                None</td>\n",
        "      <td> 1</td>\n",
        "      <td>                None</td>\n",
        "      <td>                None</td>\n",
        "      <td>              </td>\n",
        "      <td> 643577</td>\n",
        "      <td> </td>\n",
        "      <td>               </td>\n",
        "      <td>            </td>\n",
        "      <td>NaN</td>\n",
        "      <td>                                Created</td>\n",
        "      <td>             Demolition Permit</td>\n",
        "      <td> </td>\n",
        "    </tr>\n",
        "    <tr>\n",
        "      <th>2</th>\n",
        "      <td> 1036105</td>\n",
        "      <td> 2014-07-22T12:56:14</td>\n",
        "      <td> 4</td>\n",
        "      <td> 2012-08-18T16:00:00</td>\n",
        "      <td> 2012-09-17T07:06:58</td>\n",
        "      <td> Hudson, Bryan</td>\n",
        "      <td> 591201</td>\n",
        "      <td> </td>\n",
        "      <td>     Sandy Finn</td>\n",
        "      <td> TESTPROJECT</td>\n",
        "      <td>NaN</td>\n",
        "      <td> Cancelled - Selected Approval in Error</td>\n",
        "      <td> Grading + Right of Way Permit</td>\n",
        "      <td> </td>\n",
        "    </tr>\n",
        "    <tr>\n",
        "      <th>3</th>\n",
        "      <td>  286593</td>\n",
        "      <td>                None</td>\n",
        "      <td> 2</td>\n",
        "      <td>                None</td>\n",
        "      <td> 2006-04-11T09:11:28</td>\n",
        "      <td>    Korch, Bob</td>\n",
        "      <td>   1063</td>\n",
        "      <td> </td>\n",
        "      <td> Michael E Turk</td>\n",
        "      <td>            </td>\n",
        "      <td>NaN</td>\n",
        "      <td>                                 Issued</td>\n",
        "      <td>    Coastal Development Permit</td>\n",
        "      <td> </td>\n",
        "    </tr>\n",
        "    <tr>\n",
        "      <th>4</th>\n",
        "      <td>  286594</td>\n",
        "      <td>                None</td>\n",
        "      <td> 2</td>\n",
        "      <td>                None</td>\n",
        "      <td> 2006-04-11T09:11:47</td>\n",
        "      <td>    Korch, Bob</td>\n",
        "      <td>   1063</td>\n",
        "      <td> </td>\n",
        "      <td> Michael E Turk</td>\n",
        "      <td>            </td>\n",
        "      <td>NaN</td>\n",
        "      <td>                                 Issued</td>\n",
        "      <td>                 Tentative Map</td>\n",
        "      <td> </td>\n",
        "    </tr>\n",
        "  </tbody>\n",
        "</table>\n",
        "<p>5 rows \u00d7 14 columns</p>\n",
        "</div>"
       ],
       "metadata": {},
       "output_type": "pyout",
       "prompt_number": 21,
       "text": [
        "   ApprovalId   CompleteCancelDate Depiction  FirstInspectionDate  \\\n",
        "0      747149                 None         1                 None   \n",
        "1     1133972                 None         1                 None   \n",
        "2     1036105  2014-07-22T12:56:14         4  2012-08-18T16:00:00   \n",
        "3      286593                 None         2                 None   \n",
        "4      286594                 None         2                 None   \n",
        "\n",
        "             IssueDate       IssuedBy   JobId NetChangeDU    PermitHolder  \\\n",
        "0                 None                   1002                               \n",
        "1                 None                 643577                               \n",
        "2  2012-09-17T07:06:58  Hudson, Bryan  591201                  Sandy Finn   \n",
        "3  2006-04-11T09:11:28     Korch, Bob    1063              Michael E Turk   \n",
        "4  2006-04-11T09:11:47     Korch, Bob    1063              Michael E Turk   \n",
        "\n",
        "         Scope  SquareFootage                                  Status  \\\n",
        "0                         NaN                                 Created   \n",
        "1                         NaN                                 Created   \n",
        "2  TESTPROJECT            NaN  Cancelled - Selected Approval in Error   \n",
        "3                         NaN                                  Issued   \n",
        "4                         NaN                                  Issued   \n",
        "\n",
        "                            Type Valuation  \n",
        "0                Building Permit            \n",
        "1              Demolition Permit            \n",
        "2  Grading + Right of Way Permit            \n",
        "3     Coastal Development Permit            \n",
        "4                  Tentative Map            \n",
        "\n",
        "[5 rows x 14 columns]"
       ]
      }
     ],
     "prompt_number": 21
    },
    {
     "cell_type": "code",
     "collapsed": false,
     "input": [
      "len(approvals.ApprovalId.unique())"
     ],
     "language": "python",
     "metadata": {},
     "outputs": [
      {
       "metadata": {},
       "output_type": "pyout",
       "prompt_number": 22,
       "text": [
        "392988"
       ]
      }
     ],
     "prompt_number": 22
    },
    {
     "cell_type": "code",
     "collapsed": false,
     "input": [
      "len(approvals.JobId.unique())"
     ],
     "language": "python",
     "metadata": {},
     "outputs": [
      {
       "metadata": {},
       "output_type": "pyout",
       "prompt_number": 23,
       "text": [
        "307915"
       ]
      }
     ],
     "prompt_number": 23
    },
    {
     "cell_type": "code",
     "collapsed": false,
     "input": [
      "approvals.ApprovalId.min()"
     ],
     "language": "python",
     "metadata": {},
     "outputs": [
      {
       "metadata": {},
       "output_type": "pyout",
       "prompt_number": 24,
       "text": [
        "2164"
       ]
      }
     ],
     "prompt_number": 24
    },
    {
     "cell_type": "code",
     "collapsed": false,
     "input": [
      "approvals.ApprovalId.max()"
     ],
     "language": "python",
     "metadata": {},
     "outputs": [
      {
       "metadata": {},
       "output_type": "pyout",
       "prompt_number": 25,
       "text": [
        "1401205"
       ]
      }
     ],
     "prompt_number": 25
    },
    {
     "cell_type": "code",
     "collapsed": false,
     "input": [
      "#approvals.to_csv('/home/damoncrockett/vosd.org/215-opendsd/approvals_complete.csv', encoding = 'utf-8')"
     ],
     "language": "python",
     "metadata": {},
     "outputs": [],
     "prompt_number": 26
    },
    {
     "cell_type": "heading",
     "level": 3,
     "metadata": {},
     "source": [
      "Join with 'jobs'"
     ]
    },
    {
     "cell_type": "code",
     "collapsed": false,
     "input": [
      "approvals = approvals[['ApprovalId','IssueDate','IssuedBy','JobId','PermitHolder','Scope','Status','Type']]"
     ],
     "language": "python",
     "metadata": {},
     "outputs": [],
     "prompt_number": 31
    },
    {
     "cell_type": "code",
     "collapsed": false,
     "input": [
      "jobs = df[['APN','Description','JobId','Latitude','Longitude','ProjectId','StreetAddress']]"
     ],
     "language": "python",
     "metadata": {},
     "outputs": [],
     "prompt_number": 34
    },
    {
     "cell_type": "code",
     "collapsed": false,
     "input": [
      "jobs = jobs.set_index(['JobId'])"
     ],
     "language": "python",
     "metadata": {},
     "outputs": [],
     "prompt_number": 35
    },
    {
     "cell_type": "code",
     "collapsed": false,
     "input": [
      "approvals = approvals.join(jobs, on = 'JobId')"
     ],
     "language": "python",
     "metadata": {},
     "outputs": [],
     "prompt_number": 36
    },
    {
     "cell_type": "code",
     "collapsed": false,
     "input": [
      "#approvals.to_csv('/home/damoncrockett/vosd.org/215-opendsd/approvals_jobs.csv', encoding = 'utf-8')"
     ],
     "language": "python",
     "metadata": {},
     "outputs": [],
     "prompt_number": 39
    }
   ],
   "metadata": {}
  }
 ]
}