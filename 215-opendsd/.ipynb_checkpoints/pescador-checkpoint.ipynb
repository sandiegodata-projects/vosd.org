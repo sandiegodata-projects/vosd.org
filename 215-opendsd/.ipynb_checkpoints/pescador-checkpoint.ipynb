{
 "metadata": {
  "name": "",
  "signature": "sha256:44706586190e7e5fdf6ee93a8386647d4917b11592fdc69cf45ced04e0db75e4"
 },
 "nbformat": 3,
 "nbformat_minor": 0,
 "worksheets": [
  {
   "cells": [
    {
     "cell_type": "code",
     "collapsed": false,
     "input": [
      "%matplotlib inline\n",
      "import pandas as pd\n",
      "import numpy as np\n",
      "import matplotlib.pyplot as plt\n",
      "from scipy.stats import *\n",
      "import dateutil.parser\n",
      "import datetime"
     ],
     "language": "python",
     "metadata": {},
     "outputs": [],
     "prompt_number": 1
    },
    {
     "cell_type": "code",
     "collapsed": false,
     "input": [
      "df = pd.read_csv('/home/damoncrockett/vosd.org/215-opendsd/approval_master_FULL.csv')"
     ],
     "language": "python",
     "metadata": {},
     "outputs": [
      {
       "output_type": "stream",
       "stream": "stderr",
       "text": [
        "/home/damoncrockett/anaconda/lib/python2.7/site-packages/pandas/io/parsers.py:1070: DtypeWarning: Columns (11,14) have mixed types. Specify dtype option on import or set low_memory=False.\n",
        "  data = self._reader.read(nrows)\n"
       ]
      }
     ],
     "prompt_number": 2
    },
    {
     "cell_type": "code",
     "collapsed": false,
     "input": [
      "df.columns"
     ],
     "language": "python",
     "metadata": {},
     "outputs": [
      {
       "metadata": {},
       "output_type": "pyout",
       "prompt_number": 8,
       "text": [
        "Index([u'Unnamed: 0', u'APN', u'ApplicationDate', u'ApplicationExpiration', u'ApplicationExpired', u'ApplicationMonth', u'ApplicationYear', u'ApprovalId', u'Description', u'DevelopmentId', u'DevelopmentTitle', u'IssueDate', u'IssueMonth', u'IssueYear', u'IssuedBy', u'JobId', u'Latitude', u'Longitude', u'PermitHolder', u'ProjectId', u'ProjectManager', u'ProjectManagerId', u'ProjectScope', u'Scope', u'Status', u'StreetAddress', u'TimetoIssue', u'Title', u'Type', u'category'], dtype='object')"
       ]
      }
     ],
     "prompt_number": 8
    },
    {
     "cell_type": "code",
     "collapsed": false,
     "input": [
      "p = df[df.StreetAddress.str.contains('634 PEARL', na=False)]"
     ],
     "language": "python",
     "metadata": {},
     "outputs": [],
     "prompt_number": 18
    },
    {
     "cell_type": "code",
     "collapsed": false,
     "input": [
      "df[df.PermitHolder.str.contains('Sean Shannon', na=False)]"
     ],
     "language": "python",
     "metadata": {},
     "outputs": [
      {
       "html": [
        "<div style=\"max-height:1000px;max-width:1500px;overflow:auto;\">\n",
        "<table border=\"1\" class=\"dataframe\">\n",
        "  <thead>\n",
        "    <tr style=\"text-align: right;\">\n",
        "      <th></th>\n",
        "      <th>Unnamed: 0</th>\n",
        "      <th>APN</th>\n",
        "      <th>ApplicationDate</th>\n",
        "      <th>ApplicationExpiration</th>\n",
        "      <th>ApplicationExpired</th>\n",
        "      <th>ApplicationMonth</th>\n",
        "      <th>ApplicationYear</th>\n",
        "      <th>ApprovalId</th>\n",
        "      <th>Description</th>\n",
        "      <th>DevelopmentId</th>\n",
        "      <th>DevelopmentTitle</th>\n",
        "      <th>IssueDate</th>\n",
        "      <th>IssueMonth</th>\n",
        "      <th>IssueYear</th>\n",
        "      <th>IssuedBy</th>\n",
        "      <th>JobId</th>\n",
        "      <th>Latitude</th>\n",
        "      <th>Longitude</th>\n",
        "      <th>PermitHolder</th>\n",
        "      <th>ProjectId</th>\n",
        "      <th></th>\n",
        "    </tr>\n",
        "  </thead>\n",
        "  <tbody>\n",
        "    <tr>\n",
        "      <th>259465</th>\n",
        "      <td> 303186</td>\n",
        "      <td> 350-442-13-00</td>\n",
        "      <td> 2012-08-08</td>\n",
        "      <td> 2013-08-08 17:00:00</td>\n",
        "      <td> True</td>\n",
        "      <td> 8</td>\n",
        "      <td> 2012</td>\n",
        "      <td> 1022200</td>\n",
        "      <td> 634 PEARL ST </td>\n",
        "      <td> 188581</td>\n",
        "      <td> Devel Num 188581</td>\n",
        "      <td> 2012-10-11</td>\n",
        "      <td> 10</td>\n",
        "      <td> 2012</td>\n",
        "      <td>  Adams, Tamara</td>\n",
        "      <td> 583755</td>\n",
        "      <td> 32.839776</td>\n",
        "      <td>-117.276508</td>\n",
        "      <td> Sean Shannon</td>\n",
        "      <td> 291387</td>\n",
        "      <td>...</td>\n",
        "    </tr>\n",
        "    <tr>\n",
        "      <th>281069</th>\n",
        "      <td> 326612</td>\n",
        "      <td> 350-442-13-00</td>\n",
        "      <td> 2013-04-15</td>\n",
        "      <td> 2014-04-15 17:00:00</td>\n",
        "      <td> True</td>\n",
        "      <td> 4</td>\n",
        "      <td> 2013</td>\n",
        "      <td> 1118635</td>\n",
        "      <td> 634 PEARL ST </td>\n",
        "      <td> 188581</td>\n",
        "      <td> Devel Num 188581</td>\n",
        "      <td> 2013-06-19</td>\n",
        "      <td>  6</td>\n",
        "      <td> 2013</td>\n",
        "      <td> Saborio, David</td>\n",
        "      <td> 635762</td>\n",
        "      <td> 32.839776</td>\n",
        "      <td>-117.276508</td>\n",
        "      <td> Sean Shannon</td>\n",
        "      <td> 320219</td>\n",
        "      <td>...</td>\n",
        "    </tr>\n",
        "    <tr>\n",
        "      <th>281070</th>\n",
        "      <td> 326613</td>\n",
        "      <td> 350-442-13-00</td>\n",
        "      <td> 2013-04-15</td>\n",
        "      <td> 2014-04-15 17:00:00</td>\n",
        "      <td> True</td>\n",
        "      <td> 4</td>\n",
        "      <td> 2013</td>\n",
        "      <td> 1118640</td>\n",
        "      <td> 634 PEARL ST </td>\n",
        "      <td> 188581</td>\n",
        "      <td> Devel Num 188581</td>\n",
        "      <td> 2013-06-19</td>\n",
        "      <td>  6</td>\n",
        "      <td> 2013</td>\n",
        "      <td> Saborio, David</td>\n",
        "      <td> 635762</td>\n",
        "      <td> 32.839776</td>\n",
        "      <td>-117.276508</td>\n",
        "      <td> Sean Shannon</td>\n",
        "      <td> 320219</td>\n",
        "      <td>...</td>\n",
        "    </tr>\n",
        "    <tr>\n",
        "      <th>281071</th>\n",
        "      <td> 326614</td>\n",
        "      <td> 350-442-13-00</td>\n",
        "      <td> 2013-04-15</td>\n",
        "      <td> 2014-04-15 17:00:00</td>\n",
        "      <td> True</td>\n",
        "      <td> 4</td>\n",
        "      <td> 2013</td>\n",
        "      <td> 1118634</td>\n",
        "      <td> 634 PEARL ST </td>\n",
        "      <td> 188581</td>\n",
        "      <td> Devel Num 188581</td>\n",
        "      <td> 2013-06-19</td>\n",
        "      <td>  6</td>\n",
        "      <td> 2013</td>\n",
        "      <td> Saborio, David</td>\n",
        "      <td> 635762</td>\n",
        "      <td> 32.839776</td>\n",
        "      <td>-117.276508</td>\n",
        "      <td> Sean Shannon</td>\n",
        "      <td> 320219</td>\n",
        "      <td>...</td>\n",
        "    </tr>\n",
        "  </tbody>\n",
        "</table>\n",
        "<p>4 rows \u00d7 30 columns</p>\n",
        "</div>"
       ],
       "metadata": {},
       "output_type": "pyout",
       "prompt_number": 14,
       "text": [
        "        Unnamed: 0            APN ApplicationDate ApplicationExpiration  \\\n",
        "259465      303186  350-442-13-00      2012-08-08   2013-08-08 17:00:00   \n",
        "281069      326612  350-442-13-00      2013-04-15   2014-04-15 17:00:00   \n",
        "281070      326613  350-442-13-00      2013-04-15   2014-04-15 17:00:00   \n",
        "281071      326614  350-442-13-00      2013-04-15   2014-04-15 17:00:00   \n",
        "\n",
        "       ApplicationExpired  ApplicationMonth  ApplicationYear  ApprovalId  \\\n",
        "259465               True                 8             2012     1022200   \n",
        "281069               True                 4             2013     1118635   \n",
        "281070               True                 4             2013     1118640   \n",
        "281071               True                 4             2013     1118634   \n",
        "\n",
        "          Description  DevelopmentId  DevelopmentTitle   IssueDate  \\\n",
        "259465  634 PEARL ST          188581  Devel Num 188581  2012-10-11   \n",
        "281069  634 PEARL ST          188581  Devel Num 188581  2013-06-19   \n",
        "281070  634 PEARL ST          188581  Devel Num 188581  2013-06-19   \n",
        "281071  634 PEARL ST          188581  Devel Num 188581  2013-06-19   \n",
        "\n",
        "        IssueMonth  IssueYear        IssuedBy   JobId   Latitude   Longitude  \\\n",
        "259465          10       2012   Adams, Tamara  583755  32.839776 -117.276508   \n",
        "281069           6       2013  Saborio, David  635762  32.839776 -117.276508   \n",
        "281070           6       2013  Saborio, David  635762  32.839776 -117.276508   \n",
        "281071           6       2013  Saborio, David  635762  32.839776 -117.276508   \n",
        "\n",
        "        PermitHolder  ProjectId      \n",
        "259465  Sean Shannon     291387 ...  \n",
        "281069  Sean Shannon     320219 ...  \n",
        "281070  Sean Shannon     320219 ...  \n",
        "281071  Sean Shannon     320219 ...  \n",
        "\n",
        "[4 rows x 30 columns]"
       ]
      }
     ],
     "prompt_number": 14
    },
    {
     "cell_type": "code",
     "collapsed": false,
     "input": [],
     "language": "python",
     "metadata": {},
     "outputs": []
    },
    {
     "cell_type": "code",
     "collapsed": false,
     "input": [
      "p.to_csv('/home/damoncrockett/vosd.org/215-opendsd/pescador.csv')"
     ],
     "language": "python",
     "metadata": {},
     "outputs": [],
     "prompt_number": 19
    }
   ],
   "metadata": {}
  }
 ]
}