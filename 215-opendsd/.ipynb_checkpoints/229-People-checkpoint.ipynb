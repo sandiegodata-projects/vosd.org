{
 "metadata": {
  "name": "",
  "signature": "sha256:a474da3b04068fad67d7269fa7cc8583c66c141ec274cd28478c57c4374c1721"
 },
 "nbformat": 3,
 "nbformat_minor": 0,
 "worksheets": [
  {
   "cells": [
    {
     "cell_type": "code",
     "collapsed": false,
     "input": [],
     "language": "python",
     "metadata": {},
     "outputs": []
    }
   ],
   "metadata": {}
  }
 ]
}