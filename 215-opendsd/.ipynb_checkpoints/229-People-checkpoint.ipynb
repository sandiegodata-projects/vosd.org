{
 "metadata": {
  "name": "",
  "signature": "sha256:1bcb0e10dbe854f702f5a51388ca6487832bcafd1ef74a68dddc3fb694e2b536"
 },
 "nbformat": 3,
 "nbformat_minor": 0,
 "worksheets": [
  {
   "cells": [
    {
     "cell_type": "code",
     "collapsed": false,
     "input": [
      "%matplotlib inline\n",
      "import pandas as pd\n",
      "import sqlite3\n",
      "import json\n",
      "import dateutil.parser\n",
      "import datetime\n",
      "import os\n",
      "import gzip\n",
      "import numpy as np\n",
      "import matplotlib.pyplot as plt\n",
      "from scipy.stats import *"
     ],
     "language": "python",
     "metadata": {},
     "outputs": [],
     "prompt_number": 1
    },
    {
     "cell_type": "code",
     "collapsed": false,
     "input": [
      "approvals = pd.read_csv('/home/damoncrockett/vosd.org/215-opendsd/approval_master.csv')"
     ],
     "language": "python",
     "metadata": {},
     "outputs": [],
     "prompt_number": 2
    },
    {
     "cell_type": "code",
     "collapsed": false,
     "input": [
      "del approvals['Unnamed: 0']"
     ],
     "language": "python",
     "metadata": {},
     "outputs": [],
     "prompt_number": 3
    },
    {
     "cell_type": "markdown",
     "metadata": {},
     "source": [
      "#### project managers: discretionary permits"
     ]
    },
    {
     "cell_type": "code",
     "collapsed": false,
     "input": [
      "discretionary = approvals[approvals.category == 'Discretionary']"
     ],
     "language": "python",
     "metadata": {},
     "outputs": [],
     "prompt_number": 4
    },
    {
     "cell_type": "code",
     "collapsed": false,
     "input": [
      "len(discretionary.index)"
     ],
     "language": "python",
     "metadata": {},
     "outputs": [
      {
       "metadata": {},
       "output_type": "pyout",
       "prompt_number": 5,
       "text": [
        "4777"
       ]
      }
     ],
     "prompt_number": 5
    },
    {
     "cell_type": "code",
     "collapsed": false,
     "input": [
      "len(discretionary.ProjectManager.unique())"
     ],
     "language": "python",
     "metadata": {},
     "outputs": [
      {
       "metadata": {},
       "output_type": "pyout",
       "prompt_number": 6,
       "text": [
        "77"
       ]
      }
     ],
     "prompt_number": 6
    },
    {
     "cell_type": "code",
     "collapsed": false,
     "input": [
      "discretionary.TimetoIssue.hist(bins=450, figsize = (20,5))"
     ],
     "language": "python",
     "metadata": {},
     "outputs": [
      {
       "metadata": {},
       "output_type": "pyout",
       "prompt_number": 7,
       "text": [
        "<matplotlib.axes.AxesSubplot at 0x4aabdd0>"
       ]
      },
      {
       "metadata": {},
       "output_type": "display_data",
       "png": "[encoded data removed]",
       "text": [
        "<matplotlib.figure.Figure at 0x11b47ed0>"
       ]
      }
     ],
     "prompt_number": 7
    },
    {
     "cell_type": "code",
     "collapsed": false,
     "input": [
      "np.mean(discretionary.TimetoIssue)"
     ],
     "language": "python",
     "metadata": {},
     "outputs": [
      {
       "metadata": {},
       "output_type": "pyout",
       "prompt_number": 8,
       "text": [
        "530.09650408205982"
       ]
      }
     ],
     "prompt_number": 8
    },
    {
     "cell_type": "code",
     "collapsed": false,
     "input": [
      "np.median(discretionary.TimetoIssue)"
     ],
     "language": "python",
     "metadata": {},
     "outputs": [
      {
       "metadata": {},
       "output_type": "pyout",
       "prompt_number": 9,
       "text": [
        "368.0"
       ]
      }
     ],
     "prompt_number": 9
    },
    {
     "cell_type": "code",
     "collapsed": false,
     "input": [
      "len(discretionary.index[discretionary.TimetoIssue > 2750])"
     ],
     "language": "python",
     "metadata": {},
     "outputs": [
      {
       "metadata": {},
       "output_type": "pyout",
       "prompt_number": 10,
       "text": [
        "26"
       ]
      }
     ],
     "prompt_number": 10
    },
    {
     "cell_type": "code",
     "collapsed": false,
     "input": [
      "np.mean(discretionary.TimetoIssue[discretionary.TimetoIssue < 2750])"
     ],
     "language": "python",
     "metadata": {},
     "outputs": [
      {
       "metadata": {},
       "output_type": "pyout",
       "prompt_number": 11,
       "text": [
        "514.26836455483055"
       ]
      }
     ],
     "prompt_number": 11
    },
    {
     "cell_type": "code",
     "collapsed": false,
     "input": [
      "tmp = discretionary[['ProjectManager','TimetoIssue']]\n",
      "by_pm = tmp.groupby('ProjectManager')\n",
      "tmp = by_pm.agg(np.median).sort(['TimetoIssue'])\n",
      "tmp['Count'] = by_pm.size()\n"
     ],
     "language": "python",
     "metadata": {},
     "outputs": [],
     "prompt_number": 12
    },
    {
     "cell_type": "code",
     "collapsed": false,
     "input": [
      "pearsonr(tmp.Count,tmp.TimetoIssue)"
     ],
     "language": "python",
     "metadata": {},
     "outputs": [
      {
       "metadata": {},
       "output_type": "pyout",
       "prompt_number": 13,
       "text": [
        "(-0.012122026248258418, 0.91666596868090444)"
       ]
      }
     ],
     "prompt_number": 13
    },
    {
     "cell_type": "code",
     "collapsed": false,
     "input": [
      "tmp = tmp[tmp.Count > 100]\n",
      "#tmp.to_csv('/home/damoncrockett/vosd.org/215-opendsd/pm_time_count.csv')\n",
      "tmp"
     ],
     "language": "python",
     "metadata": {},
     "outputs": [
      {
       "html": [
        "<div style=\"max-height:1000px;max-width:1500px;overflow:auto;\">\n",
        "<table border=\"1\" class=\"dataframe\">\n",
        "  <thead>\n",
        "    <tr style=\"text-align: right;\">\n",
        "      <th></th>\n",
        "      <th>TimetoIssue</th>\n",
        "      <th>Count</th>\n",
        "    </tr>\n",
        "    <tr>\n",
        "      <th>ProjectManager</th>\n",
        "      <th></th>\n",
        "      <th></th>\n",
        "    </tr>\n",
        "  </thead>\n",
        "  <tbody>\n",
        "    <tr>\n",
        "      <th>Black, Laura</th>\n",
        "      <td> 223.0</td>\n",
        "      <td> 183</td>\n",
        "    </tr>\n",
        "    <tr>\n",
        "      <th>Peterson, Jeff</th>\n",
        "      <td> 260.5</td>\n",
        "      <td> 226</td>\n",
        "    </tr>\n",
        "    <tr>\n",
        "      <th>Iskandar, Laila</th>\n",
        "      <td> 292.0</td>\n",
        "      <td> 151</td>\n",
        "    </tr>\n",
        "    <tr>\n",
        "      <th>Godwin, Paul</th>\n",
        "      <td> 309.0</td>\n",
        "      <td> 146</td>\n",
        "    </tr>\n",
        "    <tr>\n",
        "      <th>Mezo, Renee</th>\n",
        "      <td> 357.0</td>\n",
        "      <td> 213</td>\n",
        "    </tr>\n",
        "    <tr>\n",
        "      <th>Zounes, Will</th>\n",
        "      <td> 357.5</td>\n",
        "      <td> 246</td>\n",
        "    </tr>\n",
        "    <tr>\n",
        "      <th>Hempton, Alexander</th>\n",
        "      <td> 368.5</td>\n",
        "      <td> 230</td>\n",
        "    </tr>\n",
        "    <tr>\n",
        "      <th>Korch, Bob</th>\n",
        "      <td> 373.0</td>\n",
        "      <td> 244</td>\n",
        "    </tr>\n",
        "    <tr>\n",
        "      <th>Lynch, Karen</th>\n",
        "      <td> 397.0</td>\n",
        "      <td> 120</td>\n",
        "    </tr>\n",
        "    <tr>\n",
        "      <th>Fisher, John</th>\n",
        "      <td> 403.0</td>\n",
        "      <td> 236</td>\n",
        "    </tr>\n",
        "    <tr>\n",
        "      <th>Sokolowski, Michelle</th>\n",
        "      <td> 424.0</td>\n",
        "      <td> 193</td>\n",
        "    </tr>\n",
        "    <tr>\n",
        "      <th>Westlake, Mike</th>\n",
        "      <td> 433.5</td>\n",
        "      <td> 122</td>\n",
        "    </tr>\n",
        "    <tr>\n",
        "      <th>Temple, Jeannette</th>\n",
        "      <td> 468.0</td>\n",
        "      <td> 160</td>\n",
        "    </tr>\n",
        "    <tr>\n",
        "      <th>Teasley, Sandra</th>\n",
        "      <td> 471.0</td>\n",
        "      <td> 166</td>\n",
        "    </tr>\n",
        "    <tr>\n",
        "      <th>Deisher, Helene</th>\n",
        "      <td> 508.0</td>\n",
        "      <td> 156</td>\n",
        "    </tr>\n",
        "    <tr>\n",
        "      <th>Gargas, Glenn</th>\n",
        "      <td> 508.0</td>\n",
        "      <td> 323</td>\n",
        "    </tr>\n",
        "    <tr>\n",
        "      <th>Daly, Tim</th>\n",
        "      <td> 569.0</td>\n",
        "      <td> 148</td>\n",
        "    </tr>\n",
        "    <tr>\n",
        "      <th>Dye, Morris</th>\n",
        "      <td> 797.0</td>\n",
        "      <td> 139</td>\n",
        "    </tr>\n",
        "  </tbody>\n",
        "</table>\n",
        "<p>18 rows \u00d7 2 columns</p>\n",
        "</div>"
       ],
       "metadata": {},
       "output_type": "pyout",
       "prompt_number": 14,
       "text": [
        "                      TimetoIssue  Count\n",
        "ProjectManager                          \n",
        "Black, Laura                223.0    183\n",
        "Peterson, Jeff              260.5    226\n",
        "Iskandar, Laila             292.0    151\n",
        "Godwin, Paul                309.0    146\n",
        "Mezo, Renee                 357.0    213\n",
        "Zounes, Will                357.5    246\n",
        "Hempton, Alexander          368.5    230\n",
        "Korch, Bob                  373.0    244\n",
        "Lynch, Karen                397.0    120\n",
        "Fisher, John                403.0    236\n",
        "Sokolowski, Michelle        424.0    193\n",
        "Westlake, Mike              433.5    122\n",
        "Temple, Jeannette           468.0    160\n",
        "Teasley, Sandra             471.0    166\n",
        "Deisher, Helene             508.0    156\n",
        "Gargas, Glenn               508.0    323\n",
        "Daly, Tim                   569.0    148\n",
        "Dye, Morris                 797.0    139\n",
        "\n",
        "[18 rows x 2 columns]"
       ]
      }
     ],
     "prompt_number": 14
    },
    {
     "cell_type": "code",
     "collapsed": false,
     "input": [
      "pearsonr(tmp.Count,tmp.TimetoIssue)"
     ],
     "language": "python",
     "metadata": {},
     "outputs": [
      {
       "metadata": {},
       "output_type": "pyout",
       "prompt_number": 15,
       "text": [
        "(-0.19683709602925198, 0.43370870163232478)"
       ]
      }
     ],
     "prompt_number": 15
    },
    {
     "cell_type": "code",
     "collapsed": false,
     "input": [
      "for i in tmp.index:\n",
      "    d = pd.DataFrame(discretionary[discretionary.ProjectManager == i])\n",
      "    print pearsonr(d.ApplicationYear,d.TimetoIssue)"
     ],
     "language": "python",
     "metadata": {},
     "outputs": [
      {
       "output_type": "stream",
       "stream": "stdout",
       "text": [
        "(-0.25225150522005407, 0.0005712875671681412)\n",
        "(-0.20745710796283634, 0.0017147078143067477)\n",
        "(-0.024617106090965325, 0.76415289059330294)\n",
        "(-0.2026445976748244, 0.014166105233742461)\n",
        "(-0.16369577146655706, 0.016795473234496081)\n",
        "(-0.31419362196021033, 4.8840314390807864e-07)\n",
        "(-0.29036558978869248, 7.589776716354083e-06)\n",
        "(-0.57828748729548174, 3.5602539247346512e-23)\n",
        "(-0.43186226561459767, 8.4351923962257617e-07)"
       ]
      },
      {
       "output_type": "stream",
       "stream": "stdout",
       "text": [
        "\n",
        "(-0.31306920162995949, 9.2077140262755015e-07)\n",
        "(-0.10409023504344636, 0.14970048600889874)\n",
        "(-0.46985490073529551, 4.7627382059670854e-08)\n",
        "(-0.22973314811266121, 0.0034742867234882407)\n",
        "(-0.41880501163789002, 1.9604671580787583e-08)\n",
        "(0.036369173817074295, 0.65217212693595517)\n",
        "(-0.41551039423196778, 6.4978179309131064e-15)\n",
        "(-0.37622133291266463, 2.4477537957233076e-06)\n",
        "(-0.63872779991300599, 2.6818339900814343e-17)"
       ]
      },
      {
       "output_type": "stream",
       "stream": "stdout",
       "text": [
        "\n"
       ]
      }
     ],
     "prompt_number": 16
    },
    {
     "cell_type": "code",
     "collapsed": false,
     "input": [],
     "language": "python",
     "metadata": {},
     "outputs": []
    },
    {
     "cell_type": "code",
     "collapsed": false,
     "input": [
      "dye = discretionary[discretionary.ProjectManager == 'Dye, Morris']"
     ],
     "language": "python",
     "metadata": {},
     "outputs": [],
     "prompt_number": 17
    },
    {
     "cell_type": "code",
     "collapsed": false,
     "input": [
      "dye.ApplicationDate.min()"
     ],
     "language": "python",
     "metadata": {},
     "outputs": [
      {
       "metadata": {},
       "output_type": "pyout",
       "prompt_number": 18,
       "text": [
        "'2003-03-11'"
       ]
      }
     ],
     "prompt_number": 18
    },
    {
     "cell_type": "code",
     "collapsed": false,
     "input": [
      "dye.ApplicationDate.max()"
     ],
     "language": "python",
     "metadata": {},
     "outputs": [
      {
       "metadata": {},
       "output_type": "pyout",
       "prompt_number": 19,
       "text": [
        "'2014-01-23'"
       ]
      }
     ],
     "prompt_number": 19
    },
    {
     "cell_type": "code",
     "collapsed": false,
     "input": [
      "dye.ApplicationYear.hist(bins=12)"
     ],
     "language": "python",
     "metadata": {},
     "outputs": [
      {
       "metadata": {},
       "output_type": "pyout",
       "prompt_number": 20,
       "text": [
        "<matplotlib.axes.AxesSubplot at 0xfc90950>"
       ]
      },
      {
       "metadata": {},
       "output_type": "display_data",
       "png": "[encoded data removed]",
       "text": [
        "<matplotlib.figure.Figure at 0xfcb8650>"
       ]
      }
     ],
     "prompt_number": 20
    },
    {
     "cell_type": "markdown",
     "metadata": {},
     "source": [
      "#### some pearson tests I should've done in 229-permits"
     ]
    },
    {
     "cell_type": "code",
     "collapsed": false,
     "input": [
      "tmp = approvals[['Type','TimetoIssue','category']]\n",
      "by_type = tmp.groupby('Type')\n",
      "tmp = by_type.agg(np.median).sort(['TimetoIssue'])\n",
      "tmp['Count'] = by_type.size()"
     ],
     "language": "python",
     "metadata": {},
     "outputs": [],
     "prompt_number": 21
    },
    {
     "cell_type": "code",
     "collapsed": false,
     "input": [
      "pearsonr(tmp.Count, tmp.TimetoIssue)"
     ],
     "language": "python",
     "metadata": {},
     "outputs": [
      {
       "metadata": {},
       "output_type": "pyout",
       "prompt_number": 22,
       "text": [
        "(-0.23680440293485344, 0.039437552211832788)"
       ]
      }
     ],
     "prompt_number": 22
    },
    {
     "cell_type": "code",
     "collapsed": false,
     "input": [
      "tmp = approvals[['Type','TimetoIssue','category']]\n",
      "tmp = tmp[tmp.category == 'Ministerial']\n",
      "by_type = tmp.groupby('Type')\n",
      "tmp = by_type.agg(np.median).sort(['TimetoIssue'])\n",
      "tmp['Count'] = by_type.size()"
     ],
     "language": "python",
     "metadata": {},
     "outputs": [],
     "prompt_number": 23
    },
    {
     "cell_type": "code",
     "collapsed": false,
     "input": [
      "pearsonr(tmp.Count, tmp.TimetoIssue)"
     ],
     "language": "python",
     "metadata": {},
     "outputs": [
      {
       "metadata": {},
       "output_type": "pyout",
       "prompt_number": 24,
       "text": [
        "(-0.24005083375579297, 0.1305992693625935)"
       ]
      }
     ],
     "prompt_number": 24
    },
    {
     "cell_type": "code",
     "collapsed": false,
     "input": [
      "tmp = approvals[['Type','TimetoIssue','category']]\n",
      "tmp = tmp[tmp.category == 'Discretionary']\n",
      "by_type = tmp.groupby('Type')\n",
      "tmp = by_type.agg(np.median).sort(['TimetoIssue'])\n",
      "tmp['Count'] = by_type.size()"
     ],
     "language": "python",
     "metadata": {},
     "outputs": [],
     "prompt_number": 25
    },
    {
     "cell_type": "code",
     "collapsed": false,
     "input": [
      "pearsonr(tmp.Count, tmp.TimetoIssue)"
     ],
     "language": "python",
     "metadata": {},
     "outputs": [
      {
       "metadata": {},
       "output_type": "pyout",
       "prompt_number": 26,
       "text": [
        "(-0.1684841519729636, 0.43128880890008359)"
       ]
      }
     ],
     "prompt_number": 26
    },
    {
     "cell_type": "markdown",
     "metadata": {},
     "source": [
      "#### carrying on..."
     ]
    },
    {
     "cell_type": "code",
     "collapsed": false,
     "input": [
      "dye_tmp = dye[['Type','TimetoIssue']]\n",
      "dye_by_type = dye_tmp.groupby('Type')\n",
      "dye_tmp = dye_by_type.agg(np.median).sort(['TimetoIssue'])\n",
      "dye_tmp['Count'] = dye_by_type.size()\n",
      "dye_tmp = dye_tmp.rename(columns = {'TimetoIssue': 'DyeTimetoIssue',\n",
      "                                    'Count': 'DyeCount'})\n",
      "dye_tmp = dye_tmp.reset_index()\n",
      "dye_tmp = dye_tmp.join(tmp, on = 'Type')\n",
      "#dye_tmp.to_csv('/home/damoncrockett/vosd.org/215-opendsd/dye_type_time_count.csv')\n",
      "dye_tmp"
     ],
     "language": "python",
     "metadata": {},
     "outputs": [
      {
       "html": [
        "<div style=\"max-height:1000px;max-width:1500px;overflow:auto;\">\n",
        "<table border=\"1\" class=\"dataframe\">\n",
        "  <thead>\n",
        "    <tr style=\"text-align: right;\">\n",
        "      <th></th>\n",
        "      <th>Type</th>\n",
        "      <th>DyeTimetoIssue</th>\n",
        "      <th>DyeCount</th>\n",
        "      <th>TimetoIssue</th>\n",
        "      <th>Count</th>\n",
        "    </tr>\n",
        "  </thead>\n",
        "  <tbody>\n",
        "    <tr>\n",
        "      <th>0 </th>\n",
        "      <td>   Extension of Time - Dev. Pmt</td>\n",
        "      <td>  308.0</td>\n",
        "      <td>  5</td>\n",
        "      <td> 206.5</td>\n",
        "      <td>   40</td>\n",
        "    </tr>\n",
        "    <tr>\n",
        "      <th>1 </th>\n",
        "      <td>             Street Name Change</td>\n",
        "      <td>  383.0</td>\n",
        "      <td>  1</td>\n",
        "      <td> 218.0</td>\n",
        "      <td>   23</td>\n",
        "    </tr>\n",
        "    <tr>\n",
        "      <th>2 </th>\n",
        "      <td>        Neighborhood Use Permit</td>\n",
        "      <td>  515.0</td>\n",
        "      <td>  4</td>\n",
        "      <td> 284.0</td>\n",
        "      <td>  288</td>\n",
        "    </tr>\n",
        "    <tr>\n",
        "      <th>3 </th>\n",
        "      <td>     Coastal Development Permit</td>\n",
        "      <td>  589.5</td>\n",
        "      <td> 60</td>\n",
        "      <td> 338.0</td>\n",
        "      <td> 1140</td>\n",
        "    </tr>\n",
        "    <tr>\n",
        "      <th>4 </th>\n",
        "      <td>                     Map Waiver</td>\n",
        "      <td>  591.0</td>\n",
        "      <td> 12</td>\n",
        "      <td> 275.0</td>\n",
        "      <td>  498</td>\n",
        "    </tr>\n",
        "    <tr>\n",
        "      <th>5 </th>\n",
        "      <td>                         Rezone</td>\n",
        "      <td>  677.0</td>\n",
        "      <td>  2</td>\n",
        "      <td> 961.0</td>\n",
        "      <td>   53</td>\n",
        "    </tr>\n",
        "    <tr>\n",
        "      <th>6 </th>\n",
        "      <td> Neighborhood Developmnt Permit</td>\n",
        "      <td>  797.0</td>\n",
        "      <td>  7</td>\n",
        "      <td> 313.5</td>\n",
        "      <td>  162</td>\n",
        "    </tr>\n",
        "    <tr>\n",
        "      <th>7 </th>\n",
        "      <td>              Easement Vacation</td>\n",
        "      <td> 1207.5</td>\n",
        "      <td>  6</td>\n",
        "      <td> 571.0</td>\n",
        "      <td>  130</td>\n",
        "    </tr>\n",
        "    <tr>\n",
        "      <th>8 </th>\n",
        "      <td>                       Variance</td>\n",
        "      <td> 1230.0</td>\n",
        "      <td>  5</td>\n",
        "      <td> 344.0</td>\n",
        "      <td>  108</td>\n",
        "    </tr>\n",
        "    <tr>\n",
        "      <th>9 </th>\n",
        "      <td>   Public Right of Way Vacation</td>\n",
        "      <td> 1264.0</td>\n",
        "      <td> 11</td>\n",
        "      <td> 687.0</td>\n",
        "      <td>   91</td>\n",
        "    </tr>\n",
        "    <tr>\n",
        "      <th>10</th>\n",
        "      <td>        Site Development Permit</td>\n",
        "      <td> 1294.5</td>\n",
        "      <td> 14</td>\n",
        "      <td> 486.0</td>\n",
        "      <td>  703</td>\n",
        "    </tr>\n",
        "    <tr>\n",
        "      <th>11</th>\n",
        "      <td>         Conditional Use Permit</td>\n",
        "      <td> 1395.5</td>\n",
        "      <td>  6</td>\n",
        "      <td> 398.0</td>\n",
        "      <td>  404</td>\n",
        "    </tr>\n",
        "    <tr>\n",
        "      <th>12</th>\n",
        "      <td>     Planned Development Permit</td>\n",
        "      <td> 1625.5</td>\n",
        "      <td>  2</td>\n",
        "      <td> 517.0</td>\n",
        "      <td>  274</td>\n",
        "    </tr>\n",
        "    <tr>\n",
        "      <th>13</th>\n",
        "      <td>                  Tentative Map</td>\n",
        "      <td> 1892.0</td>\n",
        "      <td>  4</td>\n",
        "      <td> 346.5</td>\n",
        "      <td>  540</td>\n",
        "    </tr>\n",
        "  </tbody>\n",
        "</table>\n",
        "<p>14 rows \u00d7 5 columns</p>\n",
        "</div>"
       ],
       "metadata": {},
       "output_type": "pyout",
       "prompt_number": 27,
       "text": [
        "                              Type  DyeTimetoIssue  DyeCount  TimetoIssue  \\\n",
        "0     Extension of Time - Dev. Pmt           308.0         5        206.5   \n",
        "1               Street Name Change           383.0         1        218.0   \n",
        "2          Neighborhood Use Permit           515.0         4        284.0   \n",
        "3       Coastal Development Permit           589.5        60        338.0   \n",
        "4                       Map Waiver           591.0        12        275.0   \n",
        "5                           Rezone           677.0         2        961.0   \n",
        "6   Neighborhood Developmnt Permit           797.0         7        313.5   \n",
        "7                Easement Vacation          1207.5         6        571.0   \n",
        "8                         Variance          1230.0         5        344.0   \n",
        "9     Public Right of Way Vacation          1264.0        11        687.0   \n",
        "10         Site Development Permit          1294.5        14        486.0   \n",
        "11          Conditional Use Permit          1395.5         6        398.0   \n",
        "12      Planned Development Permit          1625.5         2        517.0   \n",
        "13                   Tentative Map          1892.0         4        346.5   \n",
        "\n",
        "    Count  \n",
        "0      40  \n",
        "1      23  \n",
        "2     288  \n",
        "3    1140  \n",
        "4     498  \n",
        "5      53  \n",
        "6     162  \n",
        "7     130  \n",
        "8     108  \n",
        "9      91  \n",
        "10    703  \n",
        "11    404  \n",
        "12    274  \n",
        "13    540  \n",
        "\n",
        "[14 rows x 5 columns]"
       ]
      }
     ],
     "prompt_number": 27
    },
    {
     "cell_type": "code",
     "collapsed": false,
     "input": [
      "black = discretionary[discretionary.ProjectManager == 'Black, Laura']"
     ],
     "language": "python",
     "metadata": {},
     "outputs": [],
     "prompt_number": 28
    },
    {
     "cell_type": "code",
     "collapsed": false,
     "input": [
      "black.ApplicationDate.min()"
     ],
     "language": "python",
     "metadata": {},
     "outputs": [
      {
       "metadata": {},
       "output_type": "pyout",
       "prompt_number": 29,
       "text": [
        "'2003-06-11'"
       ]
      }
     ],
     "prompt_number": 29
    },
    {
     "cell_type": "code",
     "collapsed": false,
     "input": [
      "black.ApplicationDate.max()"
     ],
     "language": "python",
     "metadata": {},
     "outputs": [
      {
       "metadata": {},
       "output_type": "pyout",
       "prompt_number": 30,
       "text": [
        "'2014-01-06'"
       ]
      }
     ],
     "prompt_number": 30
    },
    {
     "cell_type": "code",
     "collapsed": false,
     "input": [
      "black.ApplicationYear.hist(bins=12)"
     ],
     "language": "python",
     "metadata": {},
     "outputs": [
      {
       "metadata": {},
       "output_type": "pyout",
       "prompt_number": 31,
       "text": [
        "<matplotlib.axes.AxesSubplot at 0xf8dc3d0>"
       ]
      },
      {
       "metadata": {},
       "output_type": "display_data",
       "png": "[encoded data removed]",
       "text": [
        "<matplotlib.figure.Figure at 0xf8e00d0>"
       ]
      }
     ],
     "prompt_number": 31
    },
    {
     "cell_type": "code",
     "collapsed": false,
     "input": [
      "black_tmp = black[['Type','TimetoIssue']]\n",
      "black_by_type = black_tmp.groupby('Type')\n",
      "black_tmp = black_by_type.agg(np.median).sort(['TimetoIssue'])\n",
      "black_tmp['Count'] = black_by_type.size()\n",
      "black_tmp = black_tmp.rename(columns = {'TimetoIssue': 'BlackTimetoIssue',\n",
      "                                    'Count': 'BlackCount'})\n",
      "black_tmp = black_tmp.reset_index()\n",
      "black_tmp = black_tmp.join(tmp, on = 'Type')\n",
      "#black_tmp.to_csv('/home/damoncrockett/vosd.org/215-opendsd/black_type_time_count.csv')\n",
      "black_tmp"
     ],
     "language": "python",
     "metadata": {},
     "outputs": [
      {
       "html": [
        "<div style=\"max-height:1000px;max-width:1500px;overflow:auto;\">\n",
        "<table border=\"1\" class=\"dataframe\">\n",
        "  <thead>\n",
        "    <tr style=\"text-align: right;\">\n",
        "      <th></th>\n",
        "      <th>Type</th>\n",
        "      <th>BlackTimetoIssue</th>\n",
        "      <th>BlackCount</th>\n",
        "      <th>TimetoIssue</th>\n",
        "      <th>Count</th>\n",
        "    </tr>\n",
        "  </thead>\n",
        "  <tbody>\n",
        "    <tr>\n",
        "      <th>0 </th>\n",
        "      <td>      Neighborhood Use Permit</td>\n",
        "      <td>  126.0</td>\n",
        "      <td>  3</td>\n",
        "      <td> 284.0</td>\n",
        "      <td>  288</td>\n",
        "    </tr>\n",
        "    <tr>\n",
        "      <th>1 </th>\n",
        "      <td>   Coastal Development Permit</td>\n",
        "      <td>  171.5</td>\n",
        "      <td> 86</td>\n",
        "      <td> 338.0</td>\n",
        "      <td> 1140</td>\n",
        "    </tr>\n",
        "    <tr>\n",
        "      <th>2 </th>\n",
        "      <td>                   Map Waiver</td>\n",
        "      <td>  182.0</td>\n",
        "      <td> 17</td>\n",
        "      <td> 275.0</td>\n",
        "      <td>  498</td>\n",
        "    </tr>\n",
        "    <tr>\n",
        "      <th>3 </th>\n",
        "      <td>                Tentative Map</td>\n",
        "      <td>  263.0</td>\n",
        "      <td>  6</td>\n",
        "      <td> 346.5</td>\n",
        "      <td>  540</td>\n",
        "    </tr>\n",
        "    <tr>\n",
        "      <th>4 </th>\n",
        "      <td>      Site Development Permit</td>\n",
        "      <td>  264.5</td>\n",
        "      <td> 26</td>\n",
        "      <td> 486.0</td>\n",
        "      <td>  703</td>\n",
        "    </tr>\n",
        "    <tr>\n",
        "      <th>5 </th>\n",
        "      <td>       Conditional Use Permit</td>\n",
        "      <td>  299.0</td>\n",
        "      <td> 14</td>\n",
        "      <td> 398.0</td>\n",
        "      <td>  404</td>\n",
        "    </tr>\n",
        "    <tr>\n",
        "      <th>6 </th>\n",
        "      <td>           Street Name Change</td>\n",
        "      <td>  328.0</td>\n",
        "      <td>  1</td>\n",
        "      <td> 218.0</td>\n",
        "      <td>   23</td>\n",
        "    </tr>\n",
        "    <tr>\n",
        "      <th>7 </th>\n",
        "      <td> Public Right of Way Vacation</td>\n",
        "      <td>  379.0</td>\n",
        "      <td>  1</td>\n",
        "      <td> 687.0</td>\n",
        "      <td>   91</td>\n",
        "    </tr>\n",
        "    <tr>\n",
        "      <th>8 </th>\n",
        "      <td>        Vesting Tentative Map</td>\n",
        "      <td>  381.0</td>\n",
        "      <td>  5</td>\n",
        "      <td> 496.0</td>\n",
        "      <td>   83</td>\n",
        "    </tr>\n",
        "    <tr>\n",
        "      <th>9 </th>\n",
        "      <td>   Planned Development Permit</td>\n",
        "      <td>  386.0</td>\n",
        "      <td> 13</td>\n",
        "      <td> 517.0</td>\n",
        "      <td>  274</td>\n",
        "    </tr>\n",
        "    <tr>\n",
        "      <th>10</th>\n",
        "      <td>                     Variance</td>\n",
        "      <td>  665.0</td>\n",
        "      <td>  2</td>\n",
        "      <td> 344.0</td>\n",
        "      <td>  108</td>\n",
        "    </tr>\n",
        "    <tr>\n",
        "      <th>11</th>\n",
        "      <td>                Land Use Plan</td>\n",
        "      <td>  745.5</td>\n",
        "      <td>  4</td>\n",
        "      <td> 875.0</td>\n",
        "      <td>   35</td>\n",
        "    </tr>\n",
        "    <tr>\n",
        "      <th>12</th>\n",
        "      <td>            Easement Vacation</td>\n",
        "      <td>  960.5</td>\n",
        "      <td>  2</td>\n",
        "      <td> 571.0</td>\n",
        "      <td>  130</td>\n",
        "    </tr>\n",
        "    <tr>\n",
        "      <th>13</th>\n",
        "      <td>                       Rezone</td>\n",
        "      <td> 1033.0</td>\n",
        "      <td>  3</td>\n",
        "      <td> 961.0</td>\n",
        "      <td>   53</td>\n",
        "    </tr>\n",
        "  </tbody>\n",
        "</table>\n",
        "<p>14 rows \u00d7 5 columns</p>\n",
        "</div>"
       ],
       "metadata": {},
       "output_type": "pyout",
       "prompt_number": 32,
       "text": [
        "                            Type  BlackTimetoIssue  BlackCount  TimetoIssue  \\\n",
        "0        Neighborhood Use Permit             126.0           3        284.0   \n",
        "1     Coastal Development Permit             171.5          86        338.0   \n",
        "2                     Map Waiver             182.0          17        275.0   \n",
        "3                  Tentative Map             263.0           6        346.5   \n",
        "4        Site Development Permit             264.5          26        486.0   \n",
        "5         Conditional Use Permit             299.0          14        398.0   \n",
        "6             Street Name Change             328.0           1        218.0   \n",
        "7   Public Right of Way Vacation             379.0           1        687.0   \n",
        "8          Vesting Tentative Map             381.0           5        496.0   \n",
        "9     Planned Development Permit             386.0          13        517.0   \n",
        "10                      Variance             665.0           2        344.0   \n",
        "11                 Land Use Plan             745.5           4        875.0   \n",
        "12             Easement Vacation             960.5           2        571.0   \n",
        "13                        Rezone            1033.0           3        961.0   \n",
        "\n",
        "    Count  \n",
        "0     288  \n",
        "1    1140  \n",
        "2     498  \n",
        "3     540  \n",
        "4     703  \n",
        "5     404  \n",
        "6      23  \n",
        "7      91  \n",
        "8      83  \n",
        "9     274  \n",
        "10    108  \n",
        "11     35  \n",
        "12    130  \n",
        "13     53  \n",
        "\n",
        "[14 rows x 5 columns]"
       ]
      }
     ],
     "prompt_number": 32
    },
    {
     "cell_type": "markdown",
     "metadata": {},
     "source": [
      "### customers and firms"
     ]
    },
    {
     "cell_type": "code",
     "collapsed": false,
     "input": [
      "customers = pd.read_csv('/home/damoncrockett/vosd.org/215-opendsd/customers_complete.csv')"
     ],
     "language": "python",
     "metadata": {},
     "outputs": [],
     "prompt_number": 33
    },
    {
     "cell_type": "code",
     "collapsed": false,
     "input": [
      "del customers['Unnamed: 0']"
     ],
     "language": "python",
     "metadata": {},
     "outputs": [],
     "prompt_number": 34
    },
    {
     "cell_type": "code",
     "collapsed": false,
     "input": [
      "customers.head()"
     ],
     "language": "python",
     "metadata": {},
     "outputs": [
      {
       "html": [
        "<div style=\"max-height:1000px;max-width:1500px;overflow:auto;\">\n",
        "<table border=\"1\" class=\"dataframe\">\n",
        "  <thead>\n",
        "    <tr style=\"text-align: right;\">\n",
        "      <th></th>\n",
        "      <th>CustomerId</th>\n",
        "      <th>FirmName</th>\n",
        "      <th>Name</th>\n",
        "      <th>ProjectId</th>\n",
        "      <th>Role</th>\n",
        "    </tr>\n",
        "  </thead>\n",
        "  <tbody>\n",
        "    <tr>\n",
        "      <th>0</th>\n",
        "      <td>  1001</td>\n",
        "      <td> Barghausen Consulting Eng</td>\n",
        "      <td>        Sandy Finn</td>\n",
        "      <td> 1001</td>\n",
        "      <td> Point of Contact</td>\n",
        "    </tr>\n",
        "    <tr>\n",
        "      <th>1</th>\n",
        "      <td> 23942</td>\n",
        "      <td>                       NaN</td>\n",
        "      <td> Charles Hernandez</td>\n",
        "      <td> 1001</td>\n",
        "      <td> Point of Contact</td>\n",
        "    </tr>\n",
        "    <tr>\n",
        "      <th>2</th>\n",
        "      <td>  1345</td>\n",
        "      <td> Mission and PB Drive, LLC</td>\n",
        "      <td>    Michael E Turk</td>\n",
        "      <td> 1040</td>\n",
        "      <td> Point of Contact</td>\n",
        "    </tr>\n",
        "    <tr>\n",
        "      <th>3</th>\n",
        "      <td>  1345</td>\n",
        "      <td> Mission and PB Drive, LLC</td>\n",
        "      <td>    Michael E Turk</td>\n",
        "      <td> 1041</td>\n",
        "      <td> Point of Contact</td>\n",
        "    </tr>\n",
        "    <tr>\n",
        "      <th>4</th>\n",
        "      <td> 26450</td>\n",
        "      <td>                       BPA</td>\n",
        "      <td>        Mark Davis</td>\n",
        "      <td> 1096</td>\n",
        "      <td> Point of Contact</td>\n",
        "    </tr>\n",
        "  </tbody>\n",
        "</table>\n",
        "<p>5 rows \u00d7 5 columns</p>\n",
        "</div>"
       ],
       "metadata": {},
       "output_type": "pyout",
       "prompt_number": 35,
       "text": [
        "   CustomerId                   FirmName               Name  ProjectId  \\\n",
        "0        1001  Barghausen Consulting Eng         Sandy Finn       1001   \n",
        "1       23942                        NaN  Charles Hernandez       1001   \n",
        "2        1345  Mission and PB Drive, LLC     Michael E Turk       1040   \n",
        "3        1345  Mission and PB Drive, LLC     Michael E Turk       1041   \n",
        "4       26450                        BPA         Mark Davis       1096   \n",
        "\n",
        "               Role  \n",
        "0  Point of Contact  \n",
        "1  Point of Contact  \n",
        "2  Point of Contact  \n",
        "3  Point of Contact  \n",
        "4  Point of Contact  \n",
        "\n",
        "[5 rows x 5 columns]"
       ]
      }
     ],
     "prompt_number": 35
    },
    {
     "cell_type": "code",
     "collapsed": false,
     "input": [
      "customers.FirmName.value_counts()"
     ],
     "language": "python",
     "metadata": {},
     "outputs": [
      {
       "metadata": {},
       "output_type": "pyout",
       "prompt_number": 36,
       "text": [
        "Permits in Motion              15259\n",
        "Owner                          10237\n",
        "California Delta Mechanical     6004\n",
        "Barbara Harris Permitting       5844\n",
        "Sunshine Permit Service Inc     5050\n",
        "ARS                             4748\n",
        "Permit Solutions                4689\n",
        "Vivint Solar                    4058\n",
        "ASI Heating & Air               3028\n",
        "Permit Us                       2952\n",
        "DELTA MECHANICAL                2853\n",
        "Barbara  Harris Permits         2750\n",
        "Pacific Bell -AT&T              2662\n",
        "Fast Water Heater               2382\n",
        "SolarCity                       2364\n",
        "...\n",
        "Jewel Properties, LLC             1\n",
        "Lintvest, McColl & Associates     1\n",
        "Midwest Roofing & Solar           1\n",
        "SanDiego Family Justice Center    1\n",
        "La Jolla Brew House               1\n",
        "Active  Sight                     1\n",
        "Celagio LLC                       1\n",
        "Smoothie King                     1\n",
        "Bricehouse                        1\n",
        "Bergage Living Trust              1\n",
        "California Gas LTD                1\n",
        "PdP Imperial Partners, LLC        1\n",
        "Osel Construction                 1\n",
        "Nazareth House                    1\n",
        "WESTERN HILLS PROP. MGMT          1\n",
        "Length: 50866, dtype: int64"
       ]
      }
     ],
     "prompt_number": 36
    },
    {
     "cell_type": "code",
     "collapsed": false,
     "input": [
      "customers.Name.value_counts()"
     ],
     "language": "python",
     "metadata": {},
     "outputs": [
      {
       "metadata": {},
       "output_type": "pyout",
       "prompt_number": 37,
       "text": [
        "Terry Montello                  11414\n",
        "Lydia Paterson                   5021\n",
        "Margaret Jackson                 4212\n",
        "Ian Harris                       3839\n",
        "Joe Strafaci                     3777\n",
        "Marla Auker                      2901\n",
        "Josh Keating                     2819\n",
        "Dennis Harris                    2750\n",
        " ASI Heating & Air               2672\n",
        "Romel Maru                       2213\n",
        "Deborah Edmiston                 2193\n",
        "Barbara Wharton                  2179\n",
        " California Delta Mechanical     2140\n",
        "ARS ARS                          1888\n",
        "Alexandra Sink                   1839\n",
        "...\n",
        "George   Drew                1\n",
        "Ta Kung Chen                 1\n",
        "PAMELA  WICKLAND             1\n",
        "Todd Studts                  1\n",
        "Pete Belay                   1\n",
        "Paul Lockwood                1\n",
        "Carol & Tony Weathers        1\n",
        "Betty Cellucci               1\n",
        "BRIAN MICHAELSON             1\n",
        "Carol Navagato               1\n",
        "Judith Combs                 1\n",
        "Phuong Do                    1\n",
        "Raymond Stephens             1\n",
        "ARASH MONSEFAN               1\n",
        "Alfred & Luzvvi Maglicmot    1\n",
        "Length: 169448, dtype: int64"
       ]
      }
     ],
     "prompt_number": 37
    },
    {
     "cell_type": "code",
     "collapsed": false,
     "input": [
      "customers.Role.value_counts()"
     ],
     "language": "python",
     "metadata": {},
     "outputs": [
      {
       "metadata": {},
       "output_type": "pyout",
       "prompt_number": 38,
       "text": [
        "Point of Contact        298538\n",
        "Owner                   125883\n",
        "Agent                    87251\n",
        "Applicant                60805\n",
        "Contractor - Gen         52514\n",
        "Inspection Contact       50753\n",
        "Contractor - Elect       28581\n",
        "Owner/Builder            22374\n",
        "Contractor - Plbg        22269\n",
        "Contractor - Mech        15552\n",
        "Agent for Contractor     11504\n",
        "Lessee/Tenant            10841\n",
        "FORMER-Pt of Contact     10671\n",
        "Contractor - Other       10596\n",
        "DA-DS 3242                8322\n",
        "Agent for Owner           7450\n",
        "Architect                 7055\n",
        "Designer                  6233\n",
        "Financial Responsibl      6095\n",
        "Contractor - Fire         5752\n",
        "Engineer                  2137\n",
        "DA-Address Chg Req        1471\n",
        "Project Manager           1154\n",
        "Concerned Citizen         1040\n",
        "Engineer - Civil           980\n",
        "Engineer - Struct          332\n",
        "New Owner                  306\n",
        "Bonding Agent              284\n",
        "Engineer - Elect           230\n",
        "Architect - Lscp           178\n",
        "Surveyor                   166\n",
        "Engineer - Mech            134\n",
        "FORMER-Finan Rsponsb       116\n",
        "Contractor - Grading       101\n",
        "Comm Pln Grp Rep            71\n",
        "Engineer - Soils            56\n",
        "Engineer - Geotech          46\n",
        "Multi-job Contact           20\n",
        "Fire Protection Eng         17\n",
        "Engineer - Traffic          15\n",
        "Hauling Company             13\n",
        "StrmWtr-Perm Maint           5\n",
        "Trucking Company             5\n",
        "StrmWtr-Qlfd Contact         1\n",
        "StrmWtr-Trtmnt Insp          1\n",
        "dtype: int64"
       ]
      }
     ],
     "prompt_number": 38
    },
    {
     "cell_type": "markdown",
     "metadata": {},
     "source": [
      "#### discretionary"
     ]
    },
    {
     "cell_type": "code",
     "collapsed": false,
     "input": [
      "len(discretionary.TimetoIssue[discretionary.TimetoIssue.isnull()])"
     ],
     "language": "python",
     "metadata": {},
     "outputs": [
      {
       "metadata": {},
       "output_type": "pyout",
       "prompt_number": 39,
       "text": [
        "0"
       ]
      }
     ],
     "prompt_number": 39
    },
    {
     "cell_type": "code",
     "collapsed": false,
     "input": [
      "discretionary.columns"
     ],
     "language": "python",
     "metadata": {},
     "outputs": [
      {
       "metadata": {},
       "output_type": "pyout",
       "prompt_number": 40,
       "text": [
        "Index([u'ApprovalId', u'IssueDate', u'IssuedBy', u'JobId', u'PermitHolder', u'Scope', u'Status', u'Type', u'APN', u'Description', u'Latitude', u'Longitude', u'ProjectId', u'StreetAddress', u'ApplicationDate', u'ApplicationExpiration', u'ApplicationExpired', u'DevelopmentId', u'DevelopmentTitle', u'ProjectManager', u'ProjectManagerId', u'ProjectScope', u'Title', u'category', u'TimetoIssue', u'ApplicationYear', u'ApplicationMonth', u'IssueYear', u'IssueMonth'], dtype='object')"
       ]
      }
     ],
     "prompt_number": 40
    },
    {
     "cell_type": "code",
     "collapsed": false,
     "input": [
      "tmp = discretionary[['TimetoIssue','ProjectId']]\n",
      "by_proj = tmp.groupby('ProjectId')\n",
      "tmp = by_proj.agg(np.median)\n",
      "tmp['Count'] = by_proj.size()"
     ],
     "language": "python",
     "metadata": {},
     "outputs": [],
     "prompt_number": 41
    },
    {
     "cell_type": "code",
     "collapsed": false,
     "input": [
      "len(tmp.TimetoIssue[tmp.TimetoIssue.isnull()])"
     ],
     "language": "python",
     "metadata": {},
     "outputs": [
      {
       "metadata": {},
       "output_type": "pyout",
       "prompt_number": 42,
       "text": [
        "0"
       ]
      }
     ],
     "prompt_number": 42
    },
    {
     "cell_type": "code",
     "collapsed": false,
     "input": [
      "tmp.head(3)"
     ],
     "language": "python",
     "metadata": {},
     "outputs": [
      {
       "html": [
        "<div style=\"max-height:1000px;max-width:1500px;overflow:auto;\">\n",
        "<table border=\"1\" class=\"dataframe\">\n",
        "  <thead>\n",
        "    <tr style=\"text-align: right;\">\n",
        "      <th></th>\n",
        "      <th>TimetoIssue</th>\n",
        "      <th>Count</th>\n",
        "    </tr>\n",
        "    <tr>\n",
        "      <th>ProjectId</th>\n",
        "      <th></th>\n",
        "      <th></th>\n",
        "    </tr>\n",
        "  </thead>\n",
        "  <tbody>\n",
        "    <tr>\n",
        "      <th>1040</th>\n",
        "      <td> 287</td>\n",
        "      <td> 2</td>\n",
        "    </tr>\n",
        "    <tr>\n",
        "      <th>1041</th>\n",
        "      <td> 287</td>\n",
        "      <td> 2</td>\n",
        "    </tr>\n",
        "    <tr>\n",
        "      <th>1096</th>\n",
        "      <td> 888</td>\n",
        "      <td> 3</td>\n",
        "    </tr>\n",
        "  </tbody>\n",
        "</table>\n",
        "<p>3 rows \u00d7 2 columns</p>\n",
        "</div>"
       ],
       "metadata": {},
       "output_type": "pyout",
       "prompt_number": 43,
       "text": [
        "           TimetoIssue  Count\n",
        "ProjectId                    \n",
        "1040               287      2\n",
        "1041               287      2\n",
        "1096               888      3\n",
        "\n",
        "[3 rows x 2 columns]"
       ]
      }
     ],
     "prompt_number": 43
    },
    {
     "cell_type": "code",
     "collapsed": false,
     "input": [
      "# just note that 'Count' here is the number of D permits on the project, which is sort of a weird thing to measure."
     ],
     "language": "python",
     "metadata": {},
     "outputs": [],
     "prompt_number": 72
    },
    {
     "cell_type": "markdown",
     "metadata": {},
     "source": [
      "#### should've done this test in 229-permits as well..."
     ]
    },
    {
     "cell_type": "code",
     "collapsed": false,
     "input": [
      "pearsonr(tmp.Count, tmp.TimetoIssue)"
     ],
     "language": "python",
     "metadata": {},
     "outputs": [
      {
       "metadata": {},
       "output_type": "pyout",
       "prompt_number": 44,
       "text": [
        "(0.20109516544547068, 3.1588924489187109e-31)"
       ]
      }
     ],
     "prompt_number": 44
    },
    {
     "cell_type": "markdown",
     "metadata": {},
     "source": [
      "okay..."
     ]
    },
    {
     "cell_type": "code",
     "collapsed": false,
     "input": [
      "customers = customers.join(tmp, on = 'ProjectId')"
     ],
     "language": "python",
     "metadata": {},
     "outputs": [],
     "prompt_number": 45
    },
    {
     "cell_type": "code",
     "collapsed": false,
     "input": [
      "customers.head(7)"
     ],
     "language": "python",
     "metadata": {},
     "outputs": [
      {
       "html": [
        "<div style=\"max-height:1000px;max-width:1500px;overflow:auto;\">\n",
        "<table border=\"1\" class=\"dataframe\">\n",
        "  <thead>\n",
        "    <tr style=\"text-align: right;\">\n",
        "      <th></th>\n",
        "      <th>CustomerId</th>\n",
        "      <th>FirmName</th>\n",
        "      <th>Name</th>\n",
        "      <th>ProjectId</th>\n",
        "      <th>Role</th>\n",
        "      <th>TimetoIssue</th>\n",
        "      <th>Count</th>\n",
        "    </tr>\n",
        "  </thead>\n",
        "  <tbody>\n",
        "    <tr>\n",
        "      <th>0</th>\n",
        "      <td>  1001</td>\n",
        "      <td> Barghausen Consulting Eng</td>\n",
        "      <td>        Sandy Finn</td>\n",
        "      <td> 1001</td>\n",
        "      <td> Point of Contact</td>\n",
        "      <td> NaN</td>\n",
        "      <td>NaN</td>\n",
        "    </tr>\n",
        "    <tr>\n",
        "      <th>1</th>\n",
        "      <td> 23942</td>\n",
        "      <td>                       NaN</td>\n",
        "      <td> Charles Hernandez</td>\n",
        "      <td> 1001</td>\n",
        "      <td> Point of Contact</td>\n",
        "      <td> NaN</td>\n",
        "      <td>NaN</td>\n",
        "    </tr>\n",
        "    <tr>\n",
        "      <th>2</th>\n",
        "      <td>  1345</td>\n",
        "      <td> Mission and PB Drive, LLC</td>\n",
        "      <td>    Michael E Turk</td>\n",
        "      <td> 1040</td>\n",
        "      <td> Point of Contact</td>\n",
        "      <td> 287</td>\n",
        "      <td>  2</td>\n",
        "    </tr>\n",
        "    <tr>\n",
        "      <th>3</th>\n",
        "      <td>  1345</td>\n",
        "      <td> Mission and PB Drive, LLC</td>\n",
        "      <td>    Michael E Turk</td>\n",
        "      <td> 1041</td>\n",
        "      <td> Point of Contact</td>\n",
        "      <td> 287</td>\n",
        "      <td>  2</td>\n",
        "    </tr>\n",
        "    <tr>\n",
        "      <th>4</th>\n",
        "      <td> 26450</td>\n",
        "      <td>                       BPA</td>\n",
        "      <td>        Mark Davis</td>\n",
        "      <td> 1096</td>\n",
        "      <td> Point of Contact</td>\n",
        "      <td> 888</td>\n",
        "      <td>  3</td>\n",
        "    </tr>\n",
        "    <tr>\n",
        "      <th>5</th>\n",
        "      <td> 98304</td>\n",
        "      <td>      Foothill Associates </td>\n",
        "      <td>       Mike Howard</td>\n",
        "      <td> 1096</td>\n",
        "      <td>            Agent</td>\n",
        "      <td> 888</td>\n",
        "      <td>  3</td>\n",
        "    </tr>\n",
        "    <tr>\n",
        "      <th>6</th>\n",
        "      <td> 98304</td>\n",
        "      <td>      Foothill Associates </td>\n",
        "      <td>       Mike Howard</td>\n",
        "      <td> 1096</td>\n",
        "      <td> Point of Contact</td>\n",
        "      <td> 888</td>\n",
        "      <td>  3</td>\n",
        "    </tr>\n",
        "  </tbody>\n",
        "</table>\n",
        "<p>7 rows \u00d7 7 columns</p>\n",
        "</div>"
       ],
       "metadata": {},
       "output_type": "pyout",
       "prompt_number": 46,
       "text": [
        "   CustomerId                   FirmName               Name  ProjectId  \\\n",
        "0        1001  Barghausen Consulting Eng         Sandy Finn       1001   \n",
        "1       23942                        NaN  Charles Hernandez       1001   \n",
        "2        1345  Mission and PB Drive, LLC     Michael E Turk       1040   \n",
        "3        1345  Mission and PB Drive, LLC     Michael E Turk       1041   \n",
        "4       26450                        BPA         Mark Davis       1096   \n",
        "5       98304       Foothill Associates         Mike Howard       1096   \n",
        "6       98304       Foothill Associates         Mike Howard       1096   \n",
        "\n",
        "               Role  TimetoIssue  Count  \n",
        "0  Point of Contact          NaN    NaN  \n",
        "1  Point of Contact          NaN    NaN  \n",
        "2  Point of Contact          287      2  \n",
        "3  Point of Contact          287      2  \n",
        "4  Point of Contact          888      3  \n",
        "5             Agent          888      3  \n",
        "6  Point of Contact          888      3  \n",
        "\n",
        "[7 rows x 7 columns]"
       ]
      }
     ],
     "prompt_number": 46
    },
    {
     "cell_type": "markdown",
     "metadata": {},
     "source": [
      "Here's a join lesson: see those NaN's? That's because I did a left join. The df grouped by ProjectId only has ProjectIds from D permits. Some of these customers have no D permits."
     ]
    },
    {
     "cell_type": "code",
     "collapsed": false,
     "input": [
      "customers = pd.read_csv('/home/damoncrockett/vosd.org/215-opendsd/customers_complete.csv')"
     ],
     "language": "python",
     "metadata": {},
     "outputs": [],
     "prompt_number": 47
    },
    {
     "cell_type": "code",
     "collapsed": false,
     "input": [
      "customers = customers.join(tmp, on = 'ProjectId', how = 'right')"
     ],
     "language": "python",
     "metadata": {},
     "outputs": [],
     "prompt_number": 48
    },
    {
     "cell_type": "code",
     "collapsed": false,
     "input": [
      "customers.columns"
     ],
     "language": "python",
     "metadata": {},
     "outputs": [
      {
       "metadata": {},
       "output_type": "pyout",
       "prompt_number": 68,
       "text": [
        "Index([u'Unnamed: 0', u'CustomerId', u'FirmName', u'Name', u'ProjectId', u'Role', u'TimetoIssue', u'Count'], dtype='object')"
       ]
      }
     ],
     "prompt_number": 68
    },
    {
     "cell_type": "code",
     "collapsed": false,
     "input": [
      "tmp = customers[['Name', 'FirmName','TimetoIssue']]\n",
      "by_name = tmp.groupby(['Name','FirmName'])\n",
      "tmp = by_name.agg(np.median)\n",
      "tmp['Count'] = by_name.size()"
     ],
     "language": "python",
     "metadata": {},
     "outputs": [],
     "prompt_number": 94
    },
    {
     "cell_type": "code",
     "collapsed": false,
     "input": [
      "tmp[tmp.Count > 22].sort(['TimetoIssue'])"
     ],
     "language": "python",
     "metadata": {},
     "outputs": [
      {
       "html": [
        "<div style=\"max-height:1000px;max-width:1500px;overflow:auto;\">\n",
        "<table border=\"1\" class=\"dataframe\">\n",
        "  <thead>\n",
        "    <tr style=\"text-align: right;\">\n",
        "      <th></th>\n",
        "      <th></th>\n",
        "      <th>TimetoIssue</th>\n",
        "      <th>Count</th>\n",
        "    </tr>\n",
        "    <tr>\n",
        "      <th>Name</th>\n",
        "      <th>FirmName</th>\n",
        "      <th></th>\n",
        "      <th></th>\n",
        "    </tr>\n",
        "  </thead>\n",
        "  <tbody>\n",
        "    <tr>\n",
        "      <th>Paul D. Ross</th>\n",
        "      <th>PB Consulting</th>\n",
        "      <td> 199.5</td>\n",
        "      <td>  28</td>\n",
        "    </tr>\n",
        "    <tr>\n",
        "      <th>John Harrison</th>\n",
        "      <th>Sprint</th>\n",
        "      <td> 224.0</td>\n",
        "      <td>  49</td>\n",
        "    </tr>\n",
        "    <tr>\n",
        "      <th>Claude-Anthony Marengo</th>\n",
        "      <th>Marengo Morton Architects</th>\n",
        "      <td> 246.0</td>\n",
        "      <td>  53</td>\n",
        "    </tr>\n",
        "    <tr>\n",
        "      <th>Terry Montello</th>\n",
        "      <th>Permits in Motion</th>\n",
        "      <td> 251.0</td>\n",
        "      <td>  23</td>\n",
        "    </tr>\n",
        "    <tr>\n",
        "      <th>Anne Wulftange Regan</th>\n",
        "      <th>DePratti Incorporated</th>\n",
        "      <td> 272.0</td>\n",
        "      <td>  43</td>\n",
        "    </tr>\n",
        "    <tr>\n",
        "      <th>Ricardo Torres</th>\n",
        "      <th>Golba Architecture Inc</th>\n",
        "      <td> 275.0</td>\n",
        "      <td>  27</td>\n",
        "    </tr>\n",
        "    <tr>\n",
        "      <th>Stephen DeMars</th>\n",
        "      <th>Clearwire</th>\n",
        "      <td> 283.5</td>\n",
        "      <td>  54</td>\n",
        "    </tr>\n",
        "    <tr>\n",
        "      <th>Sarah Marijana</th>\n",
        "      <th>DGB Surveying &amp; Mapping</th>\n",
        "      <td> 286.0</td>\n",
        "      <td>  44</td>\n",
        "    </tr>\n",
        "    <tr>\n",
        "      <th>Gary Taylor</th>\n",
        "      <th>Gary Taylor and Associates</th>\n",
        "      <td> 286.5</td>\n",
        "      <td>  28</td>\n",
        "    </tr>\n",
        "    <tr>\n",
        "      <th>Robert J. Bateman</th>\n",
        "      <th>San Diego Land Surveying &amp; Eng</th>\n",
        "      <td> 292.0</td>\n",
        "      <td> 214</td>\n",
        "    </tr>\n",
        "    <tr>\n",
        "      <th>Debra Gardner</th>\n",
        "      <th>DePratti Incorporated</th>\n",
        "      <td> 293.0</td>\n",
        "      <td>  30</td>\n",
        "    </tr>\n",
        "    <tr>\n",
        "      <th>Adrian Moon</th>\n",
        "      <th>Rollins Const Consulting</th>\n",
        "      <td> 296.0</td>\n",
        "      <td>  35</td>\n",
        "    </tr>\n",
        "    <tr>\n",
        "      <th>Curtis Diehl</th>\n",
        "      <th>Plancom</th>\n",
        "      <td> 301.0</td>\n",
        "      <td>  47</td>\n",
        "    </tr>\n",
        "    <tr>\n",
        "      <th>Kerrigan Diehl</th>\n",
        "      <th>PlanCom, Inc.</th>\n",
        "      <td> 307.0</td>\n",
        "      <td>  86</td>\n",
        "    </tr>\n",
        "    <tr>\n",
        "      <th>Julia Rochford</th>\n",
        "      <th>Leppert Engineering Corp.</th>\n",
        "      <td> 307.0</td>\n",
        "      <td>  45</td>\n",
        "    </tr>\n",
        "    <tr>\n",
        "      <th>Daniel Linn</th>\n",
        "      <th>Daniel Linn Architects</th>\n",
        "      <td> 308.0</td>\n",
        "      <td>  40</td>\n",
        "    </tr>\n",
        "    <tr>\n",
        "      <th>Leslie S. Vartanian</th>\n",
        "      <th>Verizon Wireless</th>\n",
        "      <td> 311.0</td>\n",
        "      <td>  33</td>\n",
        "    </tr>\n",
        "    <tr>\n",
        "      <th>Leslie Vartanian</th>\n",
        "      <th>Verizon Wireless</th>\n",
        "      <td> 315.5</td>\n",
        "      <td>  40</td>\n",
        "    </tr>\n",
        "    <tr>\n",
        "      <th>Bryan Bradway</th>\n",
        "      <th>Burkett &amp; Wong</th>\n",
        "      <td> 318.0</td>\n",
        "      <td>  27</td>\n",
        "    </tr>\n",
        "    <tr>\n",
        "      <th>Nicole Noble</th>\n",
        "      <th>xx  Formerly from Sterling</th>\n",
        "      <td> 322.0</td>\n",
        "      <td>  69</td>\n",
        "    </tr>\n",
        "    <tr>\n",
        "      <th>Robert Bateman</th>\n",
        "      <th>SD Land Surveying &amp; Eng Inc.</th>\n",
        "      <td> 327.5</td>\n",
        "      <td>  70</td>\n",
        "    </tr>\n",
        "    <tr>\n",
        "      <th>Matt Saia</th>\n",
        "      <th>DePratti, Inc.</th>\n",
        "      <td> 334.0</td>\n",
        "      <td>  30</td>\n",
        "    </tr>\n",
        "    <tr>\n",
        "      <th>Brian Longmore</th>\n",
        "      <th>Permit Solutions</th>\n",
        "      <td> 335.0</td>\n",
        "      <td>  55</td>\n",
        "    </tr>\n",
        "    <tr>\n",
        "      <th>Chris Christensen</th>\n",
        "      <th>Condoconversions.com</th>\n",
        "      <td> 342.0</td>\n",
        "      <td>  26</td>\n",
        "    </tr>\n",
        "    <tr>\n",
        "      <th>Jon Zumsteg</th>\n",
        "      <th>T-Mobile USA, Inc</th>\n",
        "      <td> 344.0</td>\n",
        "      <td>  46</td>\n",
        "    </tr>\n",
        "    <tr>\n",
        "      <th>Robert Negrete</th>\n",
        "      <th>City of San Diego Dev Svc.</th>\n",
        "      <td> 370.5</td>\n",
        "      <td>  56</td>\n",
        "    </tr>\n",
        "    <tr>\n",
        "      <th>Lydia Paterson</th>\n",
        "      <th>Permits in Motion</th>\n",
        "      <td> 379.0</td>\n",
        "      <td>  35</td>\n",
        "    </tr>\n",
        "    <tr>\n",
        "      <th>D. Scott Peters</th>\n",
        "      <th>Sterling Land Services Inc.</th>\n",
        "      <td> 392.0</td>\n",
        "      <td>  53</td>\n",
        "    </tr>\n",
        "    <tr>\n",
        "      <th>John Pizzato</th>\n",
        "      <th>Algert Engineering, Inc.</th>\n",
        "      <td> 409.0</td>\n",
        "      <td>  24</td>\n",
        "    </tr>\n",
        "    <tr>\n",
        "      <th>Janay Kruger</th>\n",
        "      <th>Kruger Development Co.</th>\n",
        "      <td> 411.0</td>\n",
        "      <td>  37</td>\n",
        "    </tr>\n",
        "    <tr>\n",
        "      <th>Kevin C. Becker</th>\n",
        "      <th>AT&amp;T Mobility - San Diego</th>\n",
        "      <td> 412.0</td>\n",
        "      <td>  41</td>\n",
        "    </tr>\n",
        "    <tr>\n",
        "      <th>Tina Longmore</th>\n",
        "      <th>Permit Solutions</th>\n",
        "      <td> 428.0</td>\n",
        "      <td>  29</td>\n",
        "    </tr>\n",
        "    <tr>\n",
        "      <th>Sean Torres</th>\n",
        "      <th>City of San Diego</th>\n",
        "      <td> 467.0</td>\n",
        "      <td>  62</td>\n",
        "    </tr>\n",
        "    <tr>\n",
        "      <th>Neva Cobian</th>\n",
        "      <th>RBF Consulting</th>\n",
        "      <td> 490.5</td>\n",
        "      <td>  26</td>\n",
        "    </tr>\n",
        "    <tr>\n",
        "      <th>Krystal Patterson</th>\n",
        "      <th>PlanCom, Inc.</th>\n",
        "      <td> 588.0</td>\n",
        "      <td>  56</td>\n",
        "    </tr>\n",
        "    <tr>\n",
        "      <th>Shelly Kilbourn</th>\n",
        "      <th>Plancom Inc.</th>\n",
        "      <td> 632.0</td>\n",
        "      <td>  41</td>\n",
        "    </tr>\n",
        "    <tr>\n",
        "      <th>Linda Ott</th>\n",
        "      <th>Sterling Land Services, Inc</th>\n",
        "      <td> 839.0</td>\n",
        "      <td>  25</td>\n",
        "    </tr>\n",
        "  </tbody>\n",
        "</table>\n",
        "<p>37 rows \u00d7 2 columns</p>\n",
        "</div>"
       ],
       "metadata": {},
       "output_type": "pyout",
       "prompt_number": 95,
       "text": [
        "                                                       TimetoIssue  Count\n",
        "Name                   FirmName                                          \n",
        "Paul D. Ross           PB Consulting                         199.5     28\n",
        "John Harrison          Sprint                                224.0     49\n",
        "Claude-Anthony Marengo Marengo Morton Architects             246.0     53\n",
        "Terry Montello         Permits in Motion                     251.0     23\n",
        "Anne Wulftange Regan   DePratti Incorporated                 272.0     43\n",
        "Ricardo Torres         Golba Architecture Inc                275.0     27\n",
        "Stephen DeMars         Clearwire                             283.5     54\n",
        "Sarah Marijana         DGB Surveying & Mapping               286.0     44\n",
        "Gary Taylor            Gary Taylor and Associates            286.5     28\n",
        "Robert J. Bateman      San Diego Land Surveying & Eng        292.0    214\n",
        "Debra Gardner          DePratti Incorporated                 293.0     30\n",
        "Adrian Moon            Rollins Const Consulting              296.0     35\n",
        "Curtis Diehl           Plancom                               301.0     47\n",
        "Kerrigan Diehl         PlanCom, Inc.                         307.0     86\n",
        "Julia Rochford         Leppert Engineering Corp.             307.0     45\n",
        "Daniel Linn            Daniel Linn Architects                308.0     40\n",
        "Leslie S. Vartanian    Verizon Wireless                      311.0     33\n",
        "Leslie Vartanian       Verizon Wireless                      315.5     40\n",
        "Bryan Bradway          Burkett & Wong                        318.0     27\n",
        "Nicole Noble           xx  Formerly from Sterling            322.0     69\n",
        "Robert Bateman         SD Land Surveying & Eng Inc.          327.5     70\n",
        "Matt Saia              DePratti, Inc.                        334.0     30\n",
        "Brian Longmore         Permit Solutions                      335.0     55\n",
        "Chris Christensen      Condoconversions.com                  342.0     26\n",
        "Jon Zumsteg            T-Mobile USA, Inc                     344.0     46\n",
        "Robert Negrete         City of San Diego Dev Svc.            370.5     56\n",
        "Lydia Paterson         Permits in Motion                     379.0     35\n",
        "D. Scott Peters        Sterling Land Services Inc.           392.0     53\n",
        "John Pizzato           Algert Engineering, Inc.              409.0     24\n",
        "Janay Kruger           Kruger Development Co.                411.0     37\n",
        "Kevin C. Becker        AT&T Mobility - San Diego             412.0     41\n",
        "Tina Longmore          Permit Solutions                      428.0     29\n",
        "Sean Torres            City of San Diego                     467.0     62\n",
        "Neva Cobian            RBF Consulting                        490.5     26\n",
        "Krystal Patterson      PlanCom, Inc.                         588.0     56\n",
        "Shelly Kilbourn        Plancom Inc.                          632.0     41\n",
        "Linda Ott              Sterling Land Services, Inc           839.0     25\n",
        "\n",
        "[37 rows x 2 columns]"
       ]
      }
     ],
     "prompt_number": 95
    },
    {
     "cell_type": "code",
     "collapsed": false,
     "input": [
      "#tmp[tmp.Count > 22].sort(['TimetoIssue']).to_csv('/home/damoncrockett/vosd.org/215-opendsd/big_customers_name_firm.csv')"
     ],
     "language": "python",
     "metadata": {},
     "outputs": []
    },
    {
     "cell_type": "code",
     "collapsed": false,
     "input": [],
     "language": "python",
     "metadata": {},
     "outputs": []
    },
    {
     "cell_type": "code",
     "collapsed": false,
     "input": [],
     "language": "python",
     "metadata": {},
     "outputs": []
    },
    {
     "cell_type": "code",
     "collapsed": false,
     "input": [
      "pearsonr(tmp.Count,tmp.TimetoIssue)"
     ],
     "language": "python",
     "metadata": {},
     "outputs": [
      {
       "metadata": {},
       "output_type": "pyout",
       "prompt_number": 51,
       "text": [
        "(-0.046123485678456207, 0.00053827369565858946)"
       ]
      }
     ],
     "prompt_number": 51
    },
    {
     "cell_type": "code",
     "collapsed": false,
     "input": [
      "pearsonr(tmp.Count[tmp.Count > 1],tmp.TimetoIssue[tmp.Count > 1])"
     ],
     "language": "python",
     "metadata": {},
     "outputs": [
      {
       "metadata": {},
       "output_type": "pyout",
       "prompt_number": 52,
       "text": [
        "(-0.065869082199942808, 0.0015336321441506153)"
       ]
      }
     ],
     "prompt_number": 52
    },
    {
     "cell_type": "code",
     "collapsed": false,
     "input": [
      "pearsonr(tmp.Count[tmp.Count > 2],tmp.TimetoIssue[tmp.Count > 2])"
     ],
     "language": "python",
     "metadata": {},
     "outputs": [
      {
       "metadata": {},
       "output_type": "pyout",
       "prompt_number": 53,
       "text": [
        "(-0.069769128157039284, 0.015592790806119949)"
       ]
      }
     ],
     "prompt_number": 53
    },
    {
     "cell_type": "code",
     "collapsed": false,
     "input": [
      "pearsonr(tmp.Count[tmp.Count > 4],tmp.TimetoIssue[tmp.Count > 4])"
     ],
     "language": "python",
     "metadata": {},
     "outputs": [
      {
       "metadata": {},
       "output_type": "pyout",
       "prompt_number": 54,
       "text": [
        "(-0.062394956052063792, 0.17596301689039812)"
       ]
      }
     ],
     "prompt_number": 54
    },
    {
     "cell_type": "code",
     "collapsed": false,
     "input": [
      "pearsonr(tmp.Count[tmp.Count > 7],tmp.TimetoIssue[tmp.Count > 7])"
     ],
     "language": "python",
     "metadata": {},
     "outputs": [
      {
       "metadata": {},
       "output_type": "pyout",
       "prompt_number": 55,
       "text": [
        "(-0.02874934795648321, 0.67008924073226939)"
       ]
      }
     ],
     "prompt_number": 55
    },
    {
     "cell_type": "code",
     "collapsed": false,
     "input": [
      "pearsonr(tmp.Count[tmp.Count > 21],tmp.TimetoIssue[tmp.Count > 21])"
     ],
     "language": "python",
     "metadata": {},
     "outputs": [
      {
       "metadata": {},
       "output_type": "pyout",
       "prompt_number": 56,
       "text": [
        "(0.076544707240337656, 0.60508776349336735)"
       ]
      }
     ],
     "prompt_number": 56
    },
    {
     "cell_type": "code",
     "collapsed": false,
     "input": [
      "pearsonr(tmp.Count[tmp.Count > 42],tmp.TimetoIssue[tmp.Count > 42])"
     ],
     "language": "python",
     "metadata": {},
     "outputs": [
      {
       "metadata": {},
       "output_type": "pyout",
       "prompt_number": 57,
       "text": [
        "(0.23894908125346112, 0.31029626120390191)"
       ]
      }
     ],
     "prompt_number": 57
    },
    {
     "cell_type": "code",
     "collapsed": false,
     "input": [
      "tmp = customers[['Name', 'FirmName','TimetoIssue']]\n",
      "by_name = tmp.groupby(['FirmName','Name'])\n",
      "tmp = by_name.agg(np.median)\n",
      "tmp['Count'] = by_name.size()"
     ],
     "language": "python",
     "metadata": {},
     "outputs": [],
     "prompt_number": 96
    },
    {
     "cell_type": "code",
     "collapsed": false,
     "input": [
      "tmp[tmp.Count > 22].sort(['TimetoIssue'])"
     ],
     "language": "python",
     "metadata": {},
     "outputs": [
      {
       "html": [
        "<div style=\"max-height:1000px;max-width:1500px;overflow:auto;\">\n",
        "<table border=\"1\" class=\"dataframe\">\n",
        "  <thead>\n",
        "    <tr style=\"text-align: right;\">\n",
        "      <th></th>\n",
        "      <th></th>\n",
        "      <th>TimetoIssue</th>\n",
        "      <th>Count</th>\n",
        "    </tr>\n",
        "    <tr>\n",
        "      <th>FirmName</th>\n",
        "      <th>Name</th>\n",
        "      <th></th>\n",
        "      <th></th>\n",
        "    </tr>\n",
        "  </thead>\n",
        "  <tbody>\n",
        "    <tr>\n",
        "      <th>PB Consulting</th>\n",
        "      <th>Paul D. Ross</th>\n",
        "      <td> 199.5</td>\n",
        "      <td>  28</td>\n",
        "    </tr>\n",
        "    <tr>\n",
        "      <th>Sprint</th>\n",
        "      <th>John Harrison</th>\n",
        "      <td> 224.0</td>\n",
        "      <td>  49</td>\n",
        "    </tr>\n",
        "    <tr>\n",
        "      <th>Marengo Morton Architects</th>\n",
        "      <th>Claude-Anthony Marengo</th>\n",
        "      <td> 246.0</td>\n",
        "      <td>  53</td>\n",
        "    </tr>\n",
        "    <tr>\n",
        "      <th>Permits in Motion</th>\n",
        "      <th>Terry Montello</th>\n",
        "      <td> 251.0</td>\n",
        "      <td>  23</td>\n",
        "    </tr>\n",
        "    <tr>\n",
        "      <th>DePratti Incorporated</th>\n",
        "      <th>Anne Wulftange Regan</th>\n",
        "      <td> 272.0</td>\n",
        "      <td>  43</td>\n",
        "    </tr>\n",
        "    <tr>\n",
        "      <th>Golba Architecture Inc</th>\n",
        "      <th>Ricardo Torres</th>\n",
        "      <td> 275.0</td>\n",
        "      <td>  27</td>\n",
        "    </tr>\n",
        "    <tr>\n",
        "      <th>Clearwire</th>\n",
        "      <th>Stephen DeMars</th>\n",
        "      <td> 283.5</td>\n",
        "      <td>  54</td>\n",
        "    </tr>\n",
        "    <tr>\n",
        "      <th>DGB Surveying &amp; Mapping</th>\n",
        "      <th>Sarah Marijana</th>\n",
        "      <td> 286.0</td>\n",
        "      <td>  44</td>\n",
        "    </tr>\n",
        "    <tr>\n",
        "      <th>Gary Taylor and Associates</th>\n",
        "      <th>Gary Taylor</th>\n",
        "      <td> 286.5</td>\n",
        "      <td>  28</td>\n",
        "    </tr>\n",
        "    <tr>\n",
        "      <th>San Diego Land Surveying &amp; Eng</th>\n",
        "      <th>Robert J. Bateman</th>\n",
        "      <td> 292.0</td>\n",
        "      <td> 214</td>\n",
        "    </tr>\n",
        "    <tr>\n",
        "      <th>DePratti Incorporated</th>\n",
        "      <th>Debra Gardner</th>\n",
        "      <td> 293.0</td>\n",
        "      <td>  30</td>\n",
        "    </tr>\n",
        "    <tr>\n",
        "      <th>Rollins Const Consulting</th>\n",
        "      <th>Adrian Moon</th>\n",
        "      <td> 296.0</td>\n",
        "      <td>  35</td>\n",
        "    </tr>\n",
        "    <tr>\n",
        "      <th>Plancom</th>\n",
        "      <th>Curtis Diehl</th>\n",
        "      <td> 301.0</td>\n",
        "      <td>  47</td>\n",
        "    </tr>\n",
        "    <tr>\n",
        "      <th>Leppert Engineering Corp.</th>\n",
        "      <th>Julia Rochford</th>\n",
        "      <td> 307.0</td>\n",
        "      <td>  45</td>\n",
        "    </tr>\n",
        "    <tr>\n",
        "      <th>PlanCom, Inc.</th>\n",
        "      <th>Kerrigan Diehl</th>\n",
        "      <td> 307.0</td>\n",
        "      <td>  86</td>\n",
        "    </tr>\n",
        "    <tr>\n",
        "      <th>Daniel Linn Architects</th>\n",
        "      <th>Daniel Linn</th>\n",
        "      <td> 308.0</td>\n",
        "      <td>  40</td>\n",
        "    </tr>\n",
        "    <tr>\n",
        "      <th rowspan=\"2\" valign=\"top\">Verizon Wireless</th>\n",
        "      <th>Leslie S. Vartanian</th>\n",
        "      <td> 311.0</td>\n",
        "      <td>  33</td>\n",
        "    </tr>\n",
        "    <tr>\n",
        "      <th>Leslie Vartanian</th>\n",
        "      <td> 315.5</td>\n",
        "      <td>  40</td>\n",
        "    </tr>\n",
        "    <tr>\n",
        "      <th>Burkett &amp; Wong</th>\n",
        "      <th>Bryan Bradway</th>\n",
        "      <td> 318.0</td>\n",
        "      <td>  27</td>\n",
        "    </tr>\n",
        "    <tr>\n",
        "      <th>xx  Formerly from Sterling</th>\n",
        "      <th>Nicole Noble</th>\n",
        "      <td> 322.0</td>\n",
        "      <td>  69</td>\n",
        "    </tr>\n",
        "    <tr>\n",
        "      <th>SD Land Surveying &amp; Eng Inc.</th>\n",
        "      <th>Robert Bateman</th>\n",
        "      <td> 327.5</td>\n",
        "      <td>  70</td>\n",
        "    </tr>\n",
        "    <tr>\n",
        "      <th>DePratti, Inc.</th>\n",
        "      <th>Matt Saia</th>\n",
        "      <td> 334.0</td>\n",
        "      <td>  30</td>\n",
        "    </tr>\n",
        "    <tr>\n",
        "      <th>Permit Solutions</th>\n",
        "      <th>Brian Longmore</th>\n",
        "      <td> 335.0</td>\n",
        "      <td>  55</td>\n",
        "    </tr>\n",
        "    <tr>\n",
        "      <th>Condoconversions.com</th>\n",
        "      <th>Chris Christensen</th>\n",
        "      <td> 342.0</td>\n",
        "      <td>  26</td>\n",
        "    </tr>\n",
        "    <tr>\n",
        "      <th>T-Mobile USA, Inc</th>\n",
        "      <th>Jon Zumsteg</th>\n",
        "      <td> 344.0</td>\n",
        "      <td>  46</td>\n",
        "    </tr>\n",
        "    <tr>\n",
        "      <th>City of San Diego Dev Svc.</th>\n",
        "      <th>Robert Negrete</th>\n",
        "      <td> 370.5</td>\n",
        "      <td>  56</td>\n",
        "    </tr>\n",
        "    <tr>\n",
        "      <th>Permits in Motion</th>\n",
        "      <th>Lydia Paterson</th>\n",
        "      <td> 379.0</td>\n",
        "      <td>  35</td>\n",
        "    </tr>\n",
        "    <tr>\n",
        "      <th>Sterling Land Services Inc.</th>\n",
        "      <th>D. Scott Peters</th>\n",
        "      <td> 392.0</td>\n",
        "      <td>  53</td>\n",
        "    </tr>\n",
        "    <tr>\n",
        "      <th>Algert Engineering, Inc.</th>\n",
        "      <th>John Pizzato</th>\n",
        "      <td> 409.0</td>\n",
        "      <td>  24</td>\n",
        "    </tr>\n",
        "    <tr>\n",
        "      <th>Kruger Development Co.</th>\n",
        "      <th>Janay Kruger</th>\n",
        "      <td> 411.0</td>\n",
        "      <td>  37</td>\n",
        "    </tr>\n",
        "    <tr>\n",
        "      <th>AT&amp;T Mobility - San Diego</th>\n",
        "      <th>Kevin C. Becker</th>\n",
        "      <td> 412.0</td>\n",
        "      <td>  41</td>\n",
        "    </tr>\n",
        "    <tr>\n",
        "      <th>Permit Solutions</th>\n",
        "      <th>Tina Longmore</th>\n",
        "      <td> 428.0</td>\n",
        "      <td>  29</td>\n",
        "    </tr>\n",
        "    <tr>\n",
        "      <th>City of San Diego</th>\n",
        "      <th>Sean Torres</th>\n",
        "      <td> 467.0</td>\n",
        "      <td>  62</td>\n",
        "    </tr>\n",
        "    <tr>\n",
        "      <th>RBF Consulting</th>\n",
        "      <th>Neva Cobian</th>\n",
        "      <td> 490.5</td>\n",
        "      <td>  26</td>\n",
        "    </tr>\n",
        "    <tr>\n",
        "      <th>PlanCom, Inc.</th>\n",
        "      <th>Krystal Patterson</th>\n",
        "      <td> 588.0</td>\n",
        "      <td>  56</td>\n",
        "    </tr>\n",
        "    <tr>\n",
        "      <th>Plancom Inc.</th>\n",
        "      <th>Shelly Kilbourn</th>\n",
        "      <td> 632.0</td>\n",
        "      <td>  41</td>\n",
        "    </tr>\n",
        "    <tr>\n",
        "      <th>Sterling Land Services, Inc</th>\n",
        "      <th>Linda Ott</th>\n",
        "      <td> 839.0</td>\n",
        "      <td>  25</td>\n",
        "    </tr>\n",
        "  </tbody>\n",
        "</table>\n",
        "<p>37 rows \u00d7 2 columns</p>\n",
        "</div>"
       ],
       "metadata": {},
       "output_type": "pyout",
       "prompt_number": 97,
       "text": [
        "                                                       TimetoIssue  Count\n",
        "FirmName                       Name                                      \n",
        "PB Consulting                  Paul D. Ross                  199.5     28\n",
        "Sprint                         John Harrison                 224.0     49\n",
        "Marengo Morton Architects      Claude-Anthony Marengo        246.0     53\n",
        "Permits in Motion              Terry Montello                251.0     23\n",
        "DePratti Incorporated          Anne Wulftange Regan          272.0     43\n",
        "Golba Architecture Inc         Ricardo Torres                275.0     27\n",
        "Clearwire                      Stephen DeMars                283.5     54\n",
        "DGB Surveying & Mapping        Sarah Marijana                286.0     44\n",
        "Gary Taylor and Associates     Gary Taylor                   286.5     28\n",
        "San Diego Land Surveying & Eng Robert J. Bateman             292.0    214\n",
        "DePratti Incorporated          Debra Gardner                 293.0     30\n",
        "Rollins Const Consulting       Adrian Moon                   296.0     35\n",
        "Plancom                        Curtis Diehl                  301.0     47\n",
        "Leppert Engineering Corp.      Julia Rochford                307.0     45\n",
        "PlanCom, Inc.                  Kerrigan Diehl                307.0     86\n",
        "Daniel Linn Architects         Daniel Linn                   308.0     40\n",
        "Verizon Wireless               Leslie S. Vartanian           311.0     33\n",
        "                               Leslie Vartanian              315.5     40\n",
        "Burkett & Wong                 Bryan Bradway                 318.0     27\n",
        "xx  Formerly from Sterling     Nicole Noble                  322.0     69\n",
        "SD Land Surveying & Eng Inc.   Robert Bateman                327.5     70\n",
        "DePratti, Inc.                 Matt Saia                     334.0     30\n",
        "Permit Solutions               Brian Longmore                335.0     55\n",
        "Condoconversions.com           Chris Christensen             342.0     26\n",
        "T-Mobile USA, Inc              Jon Zumsteg                   344.0     46\n",
        "City of San Diego Dev Svc.     Robert Negrete                370.5     56\n",
        "Permits in Motion              Lydia Paterson                379.0     35\n",
        "Sterling Land Services Inc.    D. Scott Peters               392.0     53\n",
        "Algert Engineering, Inc.       John Pizzato                  409.0     24\n",
        "Kruger Development Co.         Janay Kruger                  411.0     37\n",
        "AT&T Mobility - San Diego      Kevin C. Becker               412.0     41\n",
        "Permit Solutions               Tina Longmore                 428.0     29\n",
        "City of San Diego              Sean Torres                   467.0     62\n",
        "RBF Consulting                 Neva Cobian                   490.5     26\n",
        "PlanCom, Inc.                  Krystal Patterson             588.0     56\n",
        "Plancom Inc.                   Shelly Kilbourn               632.0     41\n",
        "Sterling Land Services, Inc    Linda Ott                     839.0     25\n",
        "\n",
        "[37 rows x 2 columns]"
       ]
      }
     ],
     "prompt_number": 97
    },
    {
     "cell_type": "code",
     "collapsed": false,
     "input": [
      "#tmp[tmp.Count > 22].sort(['TimetoIssue']).to_csv('/home/damoncrockett/vosd.org/215-opendsd/big_customers_name_firm.csv')"
     ],
     "language": "python",
     "metadata": {},
     "outputs": []
    },
    {
     "cell_type": "code",
     "collapsed": false,
     "input": [],
     "language": "python",
     "metadata": {},
     "outputs": []
    },
    {
     "cell_type": "code",
     "collapsed": false,
     "input": [
      "tmp = customers[['FirmName','TimetoIssue']]\n",
      "by_name = tmp.groupby('FirmName')\n",
      "tmp = by_name.agg(np.median)\n",
      "tmp['Count'] = by_name.size()"
     ],
     "language": "python",
     "metadata": {},
     "outputs": [],
     "prompt_number": 98
    },
    {
     "cell_type": "code",
     "collapsed": false,
     "input": [
      "tmp.Count[tmp.Count > 22].hist()"
     ],
     "language": "python",
     "metadata": {},
     "outputs": [
      {
       "metadata": {},
       "output_type": "pyout",
       "prompt_number": 101,
       "text": [
        "<matplotlib.axes.AxesSubplot at 0x15214350>"
       ]
      },
      {
       "metadata": {},
       "output_type": "display_data",
       "png": "[encoded data removed]",
       "text": [
        "<matplotlib.figure.Figure at 0x14d95b90>"
       ]
      }
     ],
     "prompt_number": 101
    },
    {
     "cell_type": "code",
     "collapsed": false,
     "input": [
      "tmp[tmp.Count > 22].sort(['TimetoIssue'])"
     ],
     "language": "python",
     "metadata": {},
     "outputs": [
      {
       "html": [
        "<div style=\"max-height:1000px;max-width:1500px;overflow:auto;\">\n",
        "<table border=\"1\" class=\"dataframe\">\n",
        "  <thead>\n",
        "    <tr style=\"text-align: right;\">\n",
        "      <th></th>\n",
        "      <th>TimetoIssue</th>\n",
        "      <th>Count</th>\n",
        "    </tr>\n",
        "    <tr>\n",
        "      <th>FirmName</th>\n",
        "      <th></th>\n",
        "      <th></th>\n",
        "    </tr>\n",
        "  </thead>\n",
        "  <tbody>\n",
        "    <tr>\n",
        "      <th>PB Consulting</th>\n",
        "      <td> 199.5</td>\n",
        "      <td>  28</td>\n",
        "    </tr>\n",
        "    <tr>\n",
        "      <th>Sprint</th>\n",
        "      <td> 223.0</td>\n",
        "      <td>  64</td>\n",
        "    </tr>\n",
        "    <tr>\n",
        "      <th>owner</th>\n",
        "      <td> 229.0</td>\n",
        "      <td>  24</td>\n",
        "    </tr>\n",
        "    <tr>\n",
        "      <th>CB Richard Ellis</th>\n",
        "      <td> 244.0</td>\n",
        "      <td>  31</td>\n",
        "    </tr>\n",
        "    <tr>\n",
        "      <th>Marengo Morton Architects</th>\n",
        "      <td> 262.0</td>\n",
        "      <td>  75</td>\n",
        "    </tr>\n",
        "    <tr>\n",
        "      <th>DePratti Incorporated</th>\n",
        "      <td> 272.5</td>\n",
        "      <td>  88</td>\n",
        "    </tr>\n",
        "    <tr>\n",
        "      <th>Rollins Const Consulting</th>\n",
        "      <td> 280.0</td>\n",
        "      <td>  54</td>\n",
        "    </tr>\n",
        "    <tr>\n",
        "      <th>DGB Surveying &amp; Mapping</th>\n",
        "      <td> 285.0</td>\n",
        "      <td>  50</td>\n",
        "    </tr>\n",
        "    <tr>\n",
        "      <th>Gary Taylor and Associates</th>\n",
        "      <td> 286.5</td>\n",
        "      <td>  28</td>\n",
        "    </tr>\n",
        "    <tr>\n",
        "      <th>Golba Architecture Inc</th>\n",
        "      <td> 288.0</td>\n",
        "      <td> 103</td>\n",
        "    </tr>\n",
        "    <tr>\n",
        "      <th>San Diego Land Surveying &amp; Eng</th>\n",
        "      <td> 292.0</td>\n",
        "      <td> 214</td>\n",
        "    </tr>\n",
        "    <tr>\n",
        "      <th>Kappa Surveying</th>\n",
        "      <td> 293.0</td>\n",
        "      <td>  25</td>\n",
        "    </tr>\n",
        "    <tr>\n",
        "      <th>Permits in Motion</th>\n",
        "      <td> 296.0</td>\n",
        "      <td>  59</td>\n",
        "    </tr>\n",
        "    <tr>\n",
        "      <th>Verizon Wireless</th>\n",
        "      <td> 302.0</td>\n",
        "      <td>  91</td>\n",
        "    </tr>\n",
        "    <tr>\n",
        "      <th>Clearwire</th>\n",
        "      <td> 307.0</td>\n",
        "      <td>  73</td>\n",
        "    </tr>\n",
        "    <tr>\n",
        "      <th>Daniel Linn Architects</th>\n",
        "      <td> 308.0</td>\n",
        "      <td>  40</td>\n",
        "    </tr>\n",
        "    <tr>\n",
        "      <th>DO NOT USE</th>\n",
        "      <td> 313.5</td>\n",
        "      <td>  30</td>\n",
        "    </tr>\n",
        "    <tr>\n",
        "      <th>DePratti, Inc.</th>\n",
        "      <td> 315.5</td>\n",
        "      <td>  56</td>\n",
        "    </tr>\n",
        "    <tr>\n",
        "      <th>K&amp;S Engineering</th>\n",
        "      <td> 319.0</td>\n",
        "      <td>  28</td>\n",
        "    </tr>\n",
        "    <tr>\n",
        "      <th>Landmark Engineering Corp.</th>\n",
        "      <td> 320.0</td>\n",
        "      <td>  29</td>\n",
        "    </tr>\n",
        "    <tr>\n",
        "      <th>xx  Formerly from Sterling</th>\n",
        "      <td> 322.0</td>\n",
        "      <td>  69</td>\n",
        "    </tr>\n",
        "    <tr>\n",
        "      <th>SD Land Surveying &amp; Eng Inc.</th>\n",
        "      <td> 327.5</td>\n",
        "      <td>  70</td>\n",
        "    </tr>\n",
        "    <tr>\n",
        "      <th>Von Reiter Group</th>\n",
        "      <td> 328.0</td>\n",
        "      <td>  24</td>\n",
        "    </tr>\n",
        "    <tr>\n",
        "      <th>Leppert Engineering Corp.</th>\n",
        "      <td> 329.0</td>\n",
        "      <td>  56</td>\n",
        "    </tr>\n",
        "    <tr>\n",
        "      <th>Permit Solutions</th>\n",
        "      <td> 335.0</td>\n",
        "      <td> 101</td>\n",
        "    </tr>\n",
        "    <tr>\n",
        "      <th>Plancom</th>\n",
        "      <td> 335.5</td>\n",
        "      <td>  66</td>\n",
        "    </tr>\n",
        "    <tr>\n",
        "      <th>Owner</th>\n",
        "      <td> 337.0</td>\n",
        "      <td> 120</td>\n",
        "    </tr>\n",
        "    <tr>\n",
        "      <th>T-Mobile USA, Inc</th>\n",
        "      <td> 344.0</td>\n",
        "      <td>  46</td>\n",
        "    </tr>\n",
        "    <tr>\n",
        "      <th>AT&amp;T Mobility</th>\n",
        "      <td> 352.0</td>\n",
        "      <td>  55</td>\n",
        "    </tr>\n",
        "    <tr>\n",
        "      <th>Terra Surveying Consultants</th>\n",
        "      <td> 366.0</td>\n",
        "      <td>  27</td>\n",
        "    </tr>\n",
        "    <tr>\n",
        "      <th>City of San Diego Dev Svc.</th>\n",
        "      <td> 370.5</td>\n",
        "      <td>  56</td>\n",
        "    </tr>\n",
        "    <tr>\n",
        "      <th>T-Mobile</th>\n",
        "      <td> 374.0</td>\n",
        "      <td>  35</td>\n",
        "    </tr>\n",
        "    <tr>\n",
        "      <th>Burkett &amp; Wong</th>\n",
        "      <td> 375.0</td>\n",
        "      <td>  48</td>\n",
        "    </tr>\n",
        "    <tr>\n",
        "      <th>Sterling Land Services Inc.</th>\n",
        "      <td> 381.0</td>\n",
        "      <td>  61</td>\n",
        "    </tr>\n",
        "    <tr>\n",
        "      <th>Leppert Engineering</th>\n",
        "      <td> 381.0</td>\n",
        "      <td>  28</td>\n",
        "    </tr>\n",
        "    <tr>\n",
        "      <th>TAIC</th>\n",
        "      <td> 382.0</td>\n",
        "      <td>  27</td>\n",
        "    </tr>\n",
        "    <tr>\n",
        "      <th>Landmark Consulting</th>\n",
        "      <td> 384.0</td>\n",
        "      <td>  77</td>\n",
        "    </tr>\n",
        "    <tr>\n",
        "      <th>CITY OF SAN DIEGO</th>\n",
        "      <td> 385.0</td>\n",
        "      <td>  23</td>\n",
        "    </tr>\n",
        "    <tr>\n",
        "      <th>Pardee Homes</th>\n",
        "      <td> 386.0</td>\n",
        "      <td>  37</td>\n",
        "    </tr>\n",
        "    <tr>\n",
        "      <th>Barbara Harris Permitting</th>\n",
        "      <td> 396.0</td>\n",
        "      <td>  28</td>\n",
        "    </tr>\n",
        "    <tr>\n",
        "      <th>PlanCom, Inc.</th>\n",
        "      <td> 400.0</td>\n",
        "      <td> 142</td>\n",
        "    </tr>\n",
        "    <tr>\n",
        "      <th>Kruger Development Co.</th>\n",
        "      <td> 411.0</td>\n",
        "      <td>  37</td>\n",
        "    </tr>\n",
        "    <tr>\n",
        "      <th>AT&amp;T Mobility - San Diego</th>\n",
        "      <td> 412.0</td>\n",
        "      <td>  41</td>\n",
        "    </tr>\n",
        "    <tr>\n",
        "      <th>City of San Diego</th>\n",
        "      <td> 417.5</td>\n",
        "      <td> 128</td>\n",
        "    </tr>\n",
        "    <tr>\n",
        "      <th>Hayer Architecture</th>\n",
        "      <td> 436.0</td>\n",
        "      <td>  29</td>\n",
        "    </tr>\n",
        "    <tr>\n",
        "      <th>Condoconversions.com</th>\n",
        "      <td> 443.5</td>\n",
        "      <td>  34</td>\n",
        "    </tr>\n",
        "    <tr>\n",
        "      <th>Island Architects</th>\n",
        "      <td> 444.0</td>\n",
        "      <td>  47</td>\n",
        "    </tr>\n",
        "    <tr>\n",
        "      <th>Algert Engineering, Inc.</th>\n",
        "      <td> 456.0</td>\n",
        "      <td>  25</td>\n",
        "    </tr>\n",
        "    <tr>\n",
        "      <th>Project Design Consultants</th>\n",
        "      <td> 461.0</td>\n",
        "      <td> 123</td>\n",
        "    </tr>\n",
        "    <tr>\n",
        "      <th>Sprint Nextel</th>\n",
        "      <td> 483.0</td>\n",
        "      <td>  24</td>\n",
        "    </tr>\n",
        "    <tr>\n",
        "      <th>Westone Management Consultants</th>\n",
        "      <td> 484.0</td>\n",
        "      <td>  49</td>\n",
        "    </tr>\n",
        "    <tr>\n",
        "      <th>RBF Consulting</th>\n",
        "      <td> 518.5</td>\n",
        "      <td>  66</td>\n",
        "    </tr>\n",
        "    <tr>\n",
        "      <th>Latitude 33</th>\n",
        "      <td> 560.0</td>\n",
        "      <td>  97</td>\n",
        "    </tr>\n",
        "    <tr>\n",
        "      <th>Nasland Engineering</th>\n",
        "      <td> 623.0</td>\n",
        "      <td>  35</td>\n",
        "    </tr>\n",
        "    <tr>\n",
        "      <th>Plancom Inc.</th>\n",
        "      <td> 632.0</td>\n",
        "      <td>  41</td>\n",
        "    </tr>\n",
        "    <tr>\n",
        "      <th>Rick Engineering Company</th>\n",
        "      <td> 682.0</td>\n",
        "      <td> 110</td>\n",
        "    </tr>\n",
        "    <tr>\n",
        "      <th>Engineering &amp; Capital Projects</th>\n",
        "      <td> 715.0</td>\n",
        "      <td>  36</td>\n",
        "    </tr>\n",
        "    <tr>\n",
        "      <th>Sterling Land Services, Inc</th>\n",
        "      <td> 839.0</td>\n",
        "      <td>  25</td>\n",
        "    </tr>\n",
        "    <tr>\n",
        "      <th>Kimley Horn &amp; Associates</th>\n",
        "      <td> 982.0</td>\n",
        "      <td>  27</td>\n",
        "    </tr>\n",
        "  </tbody>\n",
        "</table>\n",
        "<p>59 rows \u00d7 2 columns</p>\n",
        "</div>"
       ],
       "metadata": {},
       "output_type": "pyout",
       "prompt_number": 99,
       "text": [
        "                                TimetoIssue  Count\n",
        "FirmName                                          \n",
        "PB Consulting                         199.5     28\n",
        "Sprint                                223.0     64\n",
        "owner                                 229.0     24\n",
        "CB Richard Ellis                      244.0     31\n",
        "Marengo Morton Architects             262.0     75\n",
        "DePratti Incorporated                 272.5     88\n",
        "Rollins Const Consulting              280.0     54\n",
        "DGB Surveying & Mapping               285.0     50\n",
        "Gary Taylor and Associates            286.5     28\n",
        "Golba Architecture Inc                288.0    103\n",
        "San Diego Land Surveying & Eng        292.0    214\n",
        "Kappa Surveying                       293.0     25\n",
        "Permits in Motion                     296.0     59\n",
        "Verizon Wireless                      302.0     91\n",
        "Clearwire                             307.0     73\n",
        "Daniel Linn Architects                308.0     40\n",
        "DO NOT USE                            313.5     30\n",
        "DePratti, Inc.                        315.5     56\n",
        "K&S Engineering                       319.0     28\n",
        "Landmark Engineering Corp.            320.0     29\n",
        "xx  Formerly from Sterling            322.0     69\n",
        "SD Land Surveying & Eng Inc.          327.5     70\n",
        "Von Reiter Group                      328.0     24\n",
        "Leppert Engineering Corp.             329.0     56\n",
        "Permit Solutions                      335.0    101\n",
        "Plancom                               335.5     66\n",
        "Owner                                 337.0    120\n",
        "T-Mobile USA, Inc                     344.0     46\n",
        "AT&T Mobility                         352.0     55\n",
        "Terra Surveying Consultants           366.0     27\n",
        "City of San Diego Dev Svc.            370.5     56\n",
        "T-Mobile                              374.0     35\n",
        "Burkett & Wong                        375.0     48\n",
        "Sterling Land Services Inc.           381.0     61\n",
        "Leppert Engineering                   381.0     28\n",
        "TAIC                                  382.0     27\n",
        "Landmark Consulting                   384.0     77\n",
        "CITY OF SAN DIEGO                     385.0     23\n",
        "Pardee Homes                          386.0     37\n",
        "Barbara Harris Permitting             396.0     28\n",
        "PlanCom, Inc.                         400.0    142\n",
        "Kruger Development Co.                411.0     37\n",
        "AT&T Mobility - San Diego             412.0     41\n",
        "City of San Diego                     417.5    128\n",
        "Hayer Architecture                    436.0     29\n",
        "Condoconversions.com                  443.5     34\n",
        "Island Architects                     444.0     47\n",
        "Algert Engineering, Inc.              456.0     25\n",
        "Project Design Consultants            461.0    123\n",
        "Sprint Nextel                         483.0     24\n",
        "Westone Management Consultants        484.0     49\n",
        "RBF Consulting                        518.5     66\n",
        "Latitude 33                           560.0     97\n",
        "Nasland Engineering                   623.0     35\n",
        "Plancom Inc.                          632.0     41\n",
        "Rick Engineering Company              682.0    110\n",
        "Engineering & Capital Projects        715.0     36\n",
        "Sterling Land Services, Inc           839.0     25\n",
        "Kimley Horn & Associates              982.0     27\n",
        "\n",
        "[59 rows x 2 columns]"
       ]
      }
     ],
     "prompt_number": 99
    },
    {
     "cell_type": "code",
     "collapsed": false,
     "input": [
      "#tmp[tmp.Count > 22].sort(['TimetoIssue']).to_csv('/home/damoncrockett/vosd.org/215-opendsd/big_customers_firm.csv')"
     ],
     "language": "python",
     "metadata": {},
     "outputs": []
    },
    {
     "cell_type": "markdown",
     "metadata": {},
     "source": [
      "#### Bateman / Torres"
     ]
    },
    {
     "cell_type": "code",
     "collapsed": false,
     "input": [
      "bateman = customers[customers.Name == 'Robert J. Bateman']\n",
      "torres = customers[customers.Name == 'Sean Torres']"
     ],
     "language": "python",
     "metadata": {},
     "outputs": [],
     "prompt_number": 58
    },
    {
     "cell_type": "code",
     "collapsed": false,
     "input": [
      "### these are the counts only for the discretionary part of each project..."
     ],
     "language": "python",
     "metadata": {},
     "outputs": []
    },
    {
     "cell_type": "code",
     "collapsed": false,
     "input": [
      "bateman.Count.value_counts()"
     ],
     "language": "python",
     "metadata": {},
     "outputs": [
      {
       "metadata": {},
       "output_type": "pyout",
       "prompt_number": 59,
       "text": [
        "1    140\n",
        "2     73\n",
        "3      1\n",
        "dtype: int64"
       ]
      }
     ],
     "prompt_number": 59
    },
    {
     "cell_type": "code",
     "collapsed": false,
     "input": [
      "torres.Count.value_counts()"
     ],
     "language": "python",
     "metadata": {},
     "outputs": [
      {
       "metadata": {},
       "output_type": "pyout",
       "prompt_number": 60,
       "text": [
        "1    42\n",
        "2    16\n",
        "3     4\n",
        "5     1\n",
        "dtype: int64"
       ]
      }
     ],
     "prompt_number": 60
    },
    {
     "cell_type": "code",
     "collapsed": false,
     "input": [
      "discretionary.columns"
     ],
     "language": "python",
     "metadata": {},
     "outputs": [
      {
       "metadata": {},
       "output_type": "pyout",
       "prompt_number": 65,
       "text": [
        "Index([u'ApprovalId', u'IssueDate', u'IssuedBy', u'JobId', u'PermitHolder', u'Scope', u'Status', u'Type', u'APN', u'Description', u'Latitude', u'Longitude', u'ProjectId', u'StreetAddress', u'ApplicationDate', u'ApplicationExpiration', u'ApplicationExpired', u'DevelopmentId', u'DevelopmentTitle', u'ProjectManager', u'ProjectManagerId', u'ProjectScope', u'Title', u'category', u'TimetoIssue', u'ApplicationYear', u'ApplicationMonth', u'IssueYear', u'IssueMonth'], dtype='object')"
       ]
      }
     ],
     "prompt_number": 65
    }
   ],
   "metadata": {}
  }
 ]
}