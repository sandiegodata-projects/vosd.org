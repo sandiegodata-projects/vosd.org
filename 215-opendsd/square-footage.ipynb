{
 "metadata": {
  "name": "",
  "signature": "sha256:05c04decbead05b78480abbd58ef3b01fd5df37817f385933208b5453936944e"
 },
 "nbformat": 3,
 "nbformat_minor": 0,
 "worksheets": [
  {
   "cells": [
    {
     "cell_type": "code",
     "collapsed": false,
     "input": [
      "%matplotlib inline\n",
      "import pandas as pd\n",
      "import sqlite3\n",
      "import json\n",
      "import dateutil.parser\n",
      "import datetime\n",
      "import os\n",
      "import gzip\n",
      "import numpy as np\n",
      "import matplotlib.pyplot as plt\n",
      "from scipy.stats import *"
     ],
     "language": "python",
     "metadata": {},
     "outputs": [],
     "prompt_number": 1
    },
    {
     "cell_type": "code",
     "collapsed": false,
     "input": [
      "df = pd.read_csv('/home/damoncrockett/vosd.org/215-opendsd/approvals_complete.csv')"
     ],
     "language": "python",
     "metadata": {},
     "outputs": [],
     "prompt_number": 2
    },
    {
     "cell_type": "code",
     "collapsed": false,
     "input": [
      "df = df[df.Type == 'Building Permit']"
     ],
     "language": "python",
     "metadata": {},
     "outputs": [],
     "prompt_number": 4
    },
    {
     "cell_type": "code",
     "collapsed": false,
     "input": [
      "len(df.index)"
     ],
     "language": "python",
     "metadata": {},
     "outputs": [
      {
       "metadata": {},
       "output_type": "pyout",
       "prompt_number": 5,
       "text": [
        "40898"
       ]
      }
     ],
     "prompt_number": 5
    },
    {
     "cell_type": "code",
     "collapsed": false,
     "input": [
      "df.SquareFootage.value_counts()"
     ],
     "language": "python",
     "metadata": {},
     "outputs": [
      {
       "metadata": {},
       "output_type": "pyout",
       "prompt_number": 6,
       "text": [
        "0         39453\n",
        "1            93\n",
        "11220         4\n",
        "16734         4\n",
        "22243         3\n",
        "2880          2\n",
        "13942         2\n",
        "573           1\n",
        "4600          1\n",
        "440           1\n",
        "421           1\n",
        "420           1\n",
        "400           1\n",
        "65913         1\n",
        "280           1\n",
        "313           1\n",
        "1000          1\n",
        "4371          1\n",
        "225           1\n",
        "221           1\n",
        "200           1\n",
        "191           1\n",
        "120           1\n",
        "4184          1\n",
        "600           1\n",
        "4048          1\n",
        "5150          1\n",
        "14155         1\n",
        "106316        1\n",
        "8000          1\n",
        "3600          1\n",
        "7663          1\n",
        "2813          1\n",
        "2644          1\n",
        "2412          1\n",
        "6504          1\n",
        "55053         1\n",
        "50273         1\n",
        "1740          1\n",
        "104112        1\n",
        "1459          1\n",
        "1452          1\n",
        "1310          1\n",
        "66837         1\n",
        "1254          1\n",
        "44910         1\n",
        "1243          1\n",
        "dtype: int64"
       ]
      }
     ],
     "prompt_number": 6
    }
   ],
   "metadata": {}
  }
 ]
}