{
 "metadata": {
  "name": "",
  "signature": "sha256:b3254cb19e94c7a036a2d8a892466026eb91f13dc49a8a6017679e60e40ca0d9"
 },
 "nbformat": 3,
 "nbformat_minor": 0,
 "worksheets": [
  {
   "cells": [
    {
     "cell_type": "heading",
     "level": 1,
     "metadata": {},
     "source": [
      "Master-Approval-Table"
     ]
    },
    {
     "cell_type": "heading",
     "level": 4,
     "metadata": {},
     "source": [
      "Damon Crockett, damon@civicknowledge.com"
     ]
    },
    {
     "cell_type": "code",
     "collapsed": false,
     "input": [
      "%matplotlib inline\n",
      "import pandas as pd\n",
      "import sqlite3\n",
      "import json\n",
      "import dateutil.parser\n",
      "import datetime\n",
      "import os\n",
      "import gzip\n",
      "import numpy as np\n",
      "import matplotlib.pyplot as plt\n",
      "from scipy.stats import *"
     ],
     "language": "python",
     "metadata": {},
     "outputs": [],
     "prompt_number": 46
    },
    {
     "cell_type": "heading",
     "level": 2,
     "metadata": {},
     "source": [
      "Join"
     ]
    },
    {
     "cell_type": "code",
     "collapsed": false,
     "input": [
      "aj = pd.read_csv('/home/damoncrockett/vosd.org/215-opendsd/approvals_jobs.csv')"
     ],
     "language": "python",
     "metadata": {},
     "outputs": [],
     "prompt_number": 47
    },
    {
     "cell_type": "code",
     "collapsed": false,
     "input": [
      "dp = pd.read_csv('/home/damoncrockett/vosd.org/215-opendsd/dev_proj_cust.csv')"
     ],
     "language": "python",
     "metadata": {},
     "outputs": [],
     "prompt_number": 48
    },
    {
     "cell_type": "code",
     "collapsed": false,
     "input": [
      "del aj['Unnamed: 0']"
     ],
     "language": "python",
     "metadata": {},
     "outputs": [],
     "prompt_number": 49
    },
    {
     "cell_type": "code",
     "collapsed": false,
     "input": [
      "del dp['Unnamed: 0']"
     ],
     "language": "python",
     "metadata": {},
     "outputs": [],
     "prompt_number": 50
    },
    {
     "cell_type": "code",
     "collapsed": false,
     "input": [
      "dp = dp.set_index(['ProjectId'])"
     ],
     "language": "python",
     "metadata": {},
     "outputs": [],
     "prompt_number": 51
    },
    {
     "cell_type": "code",
     "collapsed": false,
     "input": [
      "aj = aj.join(dp, on = 'ProjectId')"
     ],
     "language": "python",
     "metadata": {},
     "outputs": [],
     "prompt_number": 52
    },
    {
     "cell_type": "heading",
     "level": 3,
     "metadata": {},
     "source": [
      "clean"
     ]
    },
    {
     "cell_type": "code",
     "collapsed": false,
     "input": [
      "types = pd.read_csv('/home/damoncrockett/Desktop/dsd/type_list.csv')"
     ],
     "language": "python",
     "metadata": {},
     "outputs": [],
     "prompt_number": 53
    },
    {
     "cell_type": "code",
     "collapsed": false,
     "input": [
      "types.rename(columns={'approval type': 'Type'}, inplace=True)"
     ],
     "language": "python",
     "metadata": {},
     "outputs": [],
     "prompt_number": 54
    },
    {
     "cell_type": "code",
     "collapsed": false,
     "input": [
      "types = types.set_index(['Type'])"
     ],
     "language": "python",
     "metadata": {},
     "outputs": [],
     "prompt_number": 55
    },
    {
     "cell_type": "code",
     "collapsed": false,
     "input": [
      "aj = aj.join(types, on = 'Type')"
     ],
     "language": "python",
     "metadata": {},
     "outputs": [],
     "prompt_number": 56
    },
    {
     "cell_type": "code",
     "collapsed": false,
     "input": [
      "aj.head()"
     ],
     "language": "python",
     "metadata": {},
     "outputs": [
      {
       "html": [
        "<div style=\"max-height:1000px;max-width:1500px;overflow:auto;\">\n",
        "<table border=\"1\" class=\"dataframe\">\n",
        "  <thead>\n",
        "    <tr style=\"text-align: right;\">\n",
        "      <th></th>\n",
        "      <th>ApprovalId</th>\n",
        "      <th>IssueDate</th>\n",
        "      <th>IssuedBy</th>\n",
        "      <th>JobId</th>\n",
        "      <th>PermitHolder</th>\n",
        "      <th>Scope</th>\n",
        "      <th>Status</th>\n",
        "      <th>Type</th>\n",
        "      <th>APN</th>\n",
        "      <th>Description</th>\n",
        "      <th>Latitude</th>\n",
        "      <th>Longitude</th>\n",
        "      <th>ProjectId</th>\n",
        "      <th>StreetAddress</th>\n",
        "      <th>ApplicationDate</th>\n",
        "      <th>ApplicationExpiration</th>\n",
        "      <th>ApplicationExpired</th>\n",
        "      <th>DevelopmentId</th>\n",
        "      <th>DevelopmentTitle</th>\n",
        "      <th>ProjectManager</th>\n",
        "      <th></th>\n",
        "    </tr>\n",
        "  </thead>\n",
        "  <tbody>\n",
        "    <tr>\n",
        "      <th>0</th>\n",
        "      <td>  747149</td>\n",
        "      <td>                 NaN</td>\n",
        "      <td>           NaN</td>\n",
        "      <td>   1002</td>\n",
        "      <td>               </td>\n",
        "      <td>         NaN</td>\n",
        "      <td>                                Created</td>\n",
        "      <td>               Building Permit</td>\n",
        "      <td> 541-060-20-00</td>\n",
        "      <td>    4365   HOME AV </td>\n",
        "      <td>       NaN</td>\n",
        "      <td>        NaN</td>\n",
        "      <td> 1001</td>\n",
        "      <td> 4365  AV [Pending]</td>\n",
        "      <td> 2009-12-23 17:00:00</td>\n",
        "      <td> 2019-12-21 17:00:00</td>\n",
        "      <td> False</td>\n",
        "      <td> 1001</td>\n",
        "      <td>  New Carwash</td>\n",
        "      <td> Cook, Kevin</td>\n",
        "      <td>...</td>\n",
        "    </tr>\n",
        "    <tr>\n",
        "      <th>1</th>\n",
        "      <td> 1133972</td>\n",
        "      <td>                 NaN</td>\n",
        "      <td>           NaN</td>\n",
        "      <td> 643577</td>\n",
        "      <td>               </td>\n",
        "      <td>         NaN</td>\n",
        "      <td>                                Created</td>\n",
        "      <td>             Demolition Permit</td>\n",
        "      <td> 541-060-20-00</td>\n",
        "      <td>        TESTPROJECT</td>\n",
        "      <td> 32.727100</td>\n",
        "      <td>-117.100900</td>\n",
        "      <td> 1001</td>\n",
        "      <td> 2286 FAIRMOUNT AV </td>\n",
        "      <td> 2009-12-23 17:00:00</td>\n",
        "      <td> 2019-12-21 17:00:00</td>\n",
        "      <td> False</td>\n",
        "      <td> 1001</td>\n",
        "      <td>  New Carwash</td>\n",
        "      <td> Cook, Kevin</td>\n",
        "      <td>...</td>\n",
        "    </tr>\n",
        "    <tr>\n",
        "      <th>2</th>\n",
        "      <td> 1036105</td>\n",
        "      <td> 2012-09-17T07:06:58</td>\n",
        "      <td> Hudson, Bryan</td>\n",
        "      <td> 591201</td>\n",
        "      <td>     Sandy Finn</td>\n",
        "      <td> TESTPROJECT</td>\n",
        "      <td> Cancelled - Selected Approval in Error</td>\n",
        "      <td> Grading + Right of Way Permit</td>\n",
        "      <td> 541-060-20-00</td>\n",
        "      <td>    XXXXX-D Grading</td>\n",
        "      <td> 32.727100</td>\n",
        "      <td>-117.100900</td>\n",
        "      <td> 1001</td>\n",
        "      <td> 2286 FAIRMOUNT AV </td>\n",
        "      <td> 2009-12-23 17:00:00</td>\n",
        "      <td> 2019-12-21 17:00:00</td>\n",
        "      <td> False</td>\n",
        "      <td> 1001</td>\n",
        "      <td>  New Carwash</td>\n",
        "      <td> Cook, Kevin</td>\n",
        "      <td>...</td>\n",
        "    </tr>\n",
        "    <tr>\n",
        "      <th>3</th>\n",
        "      <td>  286593</td>\n",
        "      <td> 2006-04-11T09:11:28</td>\n",
        "      <td>    Korch, Bob</td>\n",
        "      <td>   1063</td>\n",
        "      <td> Michael E Turk</td>\n",
        "      <td>         NaN</td>\n",
        "      <td>                                 Issued</td>\n",
        "      <td>    Coastal Development Permit</td>\n",
        "      <td> 423-382-26-00</td>\n",
        "      <td> 4026   RIVIERA DR </td>\n",
        "      <td> 32.792299</td>\n",
        "      <td>-117.241771</td>\n",
        "      <td> 1040</td>\n",
        "      <td>   4026 RIVIERA DR </td>\n",
        "      <td> 2005-06-28 17:00:00</td>\n",
        "      <td>                 NaN</td>\n",
        "      <td> False</td>\n",
        "      <td> 1040</td>\n",
        "      <td> 4026 RIVIERA</td>\n",
        "      <td>  Korch, Bob</td>\n",
        "      <td>...</td>\n",
        "    </tr>\n",
        "    <tr>\n",
        "      <th>4</th>\n",
        "      <td>  286594</td>\n",
        "      <td> 2006-04-11T09:11:47</td>\n",
        "      <td>    Korch, Bob</td>\n",
        "      <td>   1063</td>\n",
        "      <td> Michael E Turk</td>\n",
        "      <td>         NaN</td>\n",
        "      <td>                                 Issued</td>\n",
        "      <td>                 Tentative Map</td>\n",
        "      <td> 423-382-26-00</td>\n",
        "      <td> 4026   RIVIERA DR </td>\n",
        "      <td> 32.792299</td>\n",
        "      <td>-117.241771</td>\n",
        "      <td> 1040</td>\n",
        "      <td>   4026 RIVIERA DR </td>\n",
        "      <td> 2005-06-28 17:00:00</td>\n",
        "      <td>                 NaN</td>\n",
        "      <td> False</td>\n",
        "      <td> 1040</td>\n",
        "      <td> 4026 RIVIERA</td>\n",
        "      <td>  Korch, Bob</td>\n",
        "      <td>...</td>\n",
        "    </tr>\n",
        "  </tbody>\n",
        "</table>\n",
        "<p>5 rows \u00d7 24 columns</p>\n",
        "</div>"
       ],
       "metadata": {},
       "output_type": "pyout",
       "prompt_number": 57,
       "text": [
        "   ApprovalId            IssueDate       IssuedBy   JobId    PermitHolder  \\\n",
        "0      747149                  NaN            NaN    1002                   \n",
        "1     1133972                  NaN            NaN  643577                   \n",
        "2     1036105  2012-09-17T07:06:58  Hudson, Bryan  591201      Sandy Finn   \n",
        "3      286593  2006-04-11T09:11:28     Korch, Bob    1063  Michael E Turk   \n",
        "4      286594  2006-04-11T09:11:47     Korch, Bob    1063  Michael E Turk   \n",
        "\n",
        "         Scope                                  Status  \\\n",
        "0          NaN                                 Created   \n",
        "1          NaN                                 Created   \n",
        "2  TESTPROJECT  Cancelled - Selected Approval in Error   \n",
        "3          NaN                                  Issued   \n",
        "4          NaN                                  Issued   \n",
        "\n",
        "                            Type            APN         Description  \\\n",
        "0                Building Permit  541-060-20-00     4365   HOME AV    \n",
        "1              Demolition Permit  541-060-20-00         TESTPROJECT   \n",
        "2  Grading + Right of Way Permit  541-060-20-00     XXXXX-D Grading   \n",
        "3     Coastal Development Permit  423-382-26-00  4026   RIVIERA DR    \n",
        "4                  Tentative Map  423-382-26-00  4026   RIVIERA DR    \n",
        "\n",
        "    Latitude   Longitude  ProjectId       StreetAddress      ApplicationDate  \\\n",
        "0        NaN         NaN       1001  4365  AV [Pending]  2009-12-23 17:00:00   \n",
        "1  32.727100 -117.100900       1001  2286 FAIRMOUNT AV   2009-12-23 17:00:00   \n",
        "2  32.727100 -117.100900       1001  2286 FAIRMOUNT AV   2009-12-23 17:00:00   \n",
        "3  32.792299 -117.241771       1040    4026 RIVIERA DR   2005-06-28 17:00:00   \n",
        "4  32.792299 -117.241771       1040    4026 RIVIERA DR   2005-06-28 17:00:00   \n",
        "\n",
        "  ApplicationExpiration ApplicationExpired  DevelopmentId DevelopmentTitle  \\\n",
        "0   2019-12-21 17:00:00              False           1001      New Carwash   \n",
        "1   2019-12-21 17:00:00              False           1001      New Carwash   \n",
        "2   2019-12-21 17:00:00              False           1001      New Carwash   \n",
        "3                   NaN              False           1040     4026 RIVIERA   \n",
        "4                   NaN              False           1040     4026 RIVIERA   \n",
        "\n",
        "  ProjectManager      \n",
        "0    Cook, Kevin ...  \n",
        "1    Cook, Kevin ...  \n",
        "2    Cook, Kevin ...  \n",
        "3     Korch, Bob ...  \n",
        "4     Korch, Bob ...  \n",
        "\n",
        "[5 rows x 24 columns]"
       ]
      }
     ],
     "prompt_number": 57
    }
   ],
   "metadata": {}
  }
 ]
}